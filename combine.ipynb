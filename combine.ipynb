{
 "cells": [
  {
   "cell_type": "code",
   "execution_count": 1,
   "metadata": {},
   "outputs": [],
   "source": [
    "import re\n",
    "from google.cloud import storage\n",
    "from pyspark.sql.functions import *"
   ]
  },
  {
   "cell_type": "markdown",
   "metadata": {},
   "source": [
    "## Some setup"
   ]
  },
  {
   "cell_type": "code",
   "execution_count": 2,
   "metadata": {},
   "outputs": [],
   "source": [
    "# for deleting temp files when we're done\n",
    "def cleanup(sess, input_dir):\n",
    "    input_path = sess._jvm.org.apache.hadoop.fs.Path(input_dir)\n",
    "    input_path.getFileSystem(sess._jsc.hadoopConfiguration()).delete(input_path, True)"
   ]
  },
  {
   "cell_type": "code",
   "execution_count": 3,
   "metadata": {},
   "outputs": [],
   "source": [
    "# set up spark session\n",
    "sess = SparkSession.builder\\\n",
    "    .appName(\"Combine predictions\")\\\n",
    "    .getOrCreate()"
   ]
  },
  {
   "cell_type": "markdown",
   "metadata": {},
   "source": [
    "## Get path to model outputs"
   ]
  },
  {
   "cell_type": "code",
   "execution_count": 4,
   "metadata": {},
   "outputs": [],
   "source": [
    "client = storage.Client()\n",
    "bucket = client.get_bucket('instacart-data')\n",
    "\n",
    "def list_regex(bucket, regexpr):\n",
    "    blobs = list(bucket.list_blobs())\n",
    "    return [b.name for b in blobs if re.match(regexpr, b.name)]\n",
    "\n",
    "new_path = list_regex(bucket, \"^outputs/new_prod_test_pred.csv/part-.*\\\\.csv\")[0]\n",
    "reorder_path = list_regex(bucket, \"^outputs/reorder_test_pred.csv/part-.*\\\\.csv\")[0]"
   ]
  },
  {
   "cell_type": "markdown",
   "metadata": {},
   "source": [
    "## Load predictions and combine"
   ]
  },
  {
   "cell_type": "code",
   "execution_count": 5,
   "metadata": {},
   "outputs": [],
   "source": [
    "new_pred = spark.read.\\\n",
    "    format(\"csv\").\\\n",
    "    options(header=True, inferSchema=True).\\\n",
    "    load(\"gs://instacart-data/{}\".format(new_path))\n",
    "\n",
    "reorder_pred = spark.read.\\\n",
    "    format(\"csv\").\\\n",
    "    options(header=True, inferSchema=True).\\\n",
    "    load(\"gs://instacart-data/{}\".format(reorder_path))"
   ]
  },
  {
   "cell_type": "code",
   "execution_count": 6,
   "metadata": {},
   "outputs": [],
   "source": [
    "new_pred = new_pred.select(\"order_id\", new_pred.products.alias(\"products1\"))\n",
    "reorder_pred = reorder_pred.select(\"order_id\", reorder_pred.products.alias(\"products2\"))\n",
    "all_pred = new_pred.join(reorder_pred, on=\"order_id\", how=\"inner\")\n",
    "all_pred = all_pred.fillna(\"\", subset=[\"products1\", \"products2\"])\n",
    "all_pred = all_pred.select(\"order_id\", concat(all_pred.products1, all_pred.products2).alias('products'))"
   ]
  },
  {
   "cell_type": "markdown",
   "metadata": {},
   "source": [
    "## Export"
   ]
  },
  {
   "cell_type": "code",
   "execution_count": 7,
   "metadata": {},
   "outputs": [],
   "source": [
    "output = 'gs://instacart-data/outputs/test_pred.csv'\n",
    "cleanup(sess, output)\n",
    "all_pred.repartition(1).write.option('header', 'true').csv(output)"
   ]
  }
 ],
 "metadata": {
  "kernelspec": {
   "display_name": "PySpark",
   "language": "python",
   "name": "pyspark"
  },
  "language_info": {
   "codemirror_mode": {
    "name": "ipython",
    "version": 3
   },
   "file_extension": ".py",
   "mimetype": "text/x-python",
   "name": "python",
   "nbconvert_exporter": "python",
   "pygments_lexer": "ipython3",
   "version": "3.6.4"
  }
 },
 "nbformat": 4,
 "nbformat_minor": 2
}
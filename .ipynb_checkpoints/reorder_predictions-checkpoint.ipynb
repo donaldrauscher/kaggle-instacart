{
 "cells": [
  {
   "cell_type": "markdown",
   "metadata": {},
   "source": [
    "Install some packages before we get started"
   ]
  },
  {
   "cell_type": "code",
   "execution_count": 2,
   "metadata": {
    "collapsed": false
   },
   "outputs": [],
   "source": [
    "#%%bash\n",
    "#echo \"apt-get update\" >> /content/datalab/.config/startup.sh\n",
    "#echo \"pip install lightgbm\" >> /content/datalab/.config/startup.sh\n",
    "#echo \"apt-get install libgomp1\" >> /content/datalab/.config/startup.sh\n",
    "#cat /content/datalab/.config/startup.sh"
   ]
  },
  {
   "cell_type": "code",
   "execution_count": 1,
   "metadata": {
    "collapsed": false
   },
   "outputs": [],
   "source": [
    "from google.datalab import Context\n",
    "import google.datalab.bigquery as bq\n",
    "import google.datalab.storage as storage\n",
    "import numpy as np\n",
    "import pandas as pd\n",
    "import json\n",
    "import lightgbm as lgb\n",
    "from sklearn.metrics import f1_score\n",
    "from StringIO import StringIO"
   ]
  },
  {
   "cell_type": "markdown",
   "metadata": {},
   "source": [
    "## Build Some Intermediary Tables\n",
    "\n",
    "Pull some additional information for each user that we'll need later\n",
    "Pull some additional information on when each user purchases each product"
   ]
  },
  {
   "cell_type": "code",
   "execution_count": 5,
   "metadata": {
    "collapsed": true
   },
   "outputs": [],
   "source": [
    "%%bq query -n users_q\n",
    "SELECT orders.user_id, COALESCE(user_flags.is_train,0) AS is_train,\n",
    "  COUNT(*) AS num_orders, SUM(days_since_prior_order) AS days_bw_first_last_order\n",
    "FROM instacart.orders AS orders\n",
    "LEFT JOIN (\n",
    "  SELECT user_id, 1 AS `is_train` FROM instacart.orders WHERE eval_set = \"train\" GROUP BY 1\n",
    ") AS user_flags ON orders.user_id = user_flags.user_id\n",
    "WHERE eval_set = \"prior\"\n",
    "GROUP BY 1,2"
   ]
  },
  {
   "cell_type": "code",
   "execution_count": 6,
   "metadata": {
    "collapsed": false
   },
   "outputs": [
    {
     "data": {
      "text/html": [
       "\n",
       "    <div class=\"bqtv\" id=\"2_149991357915\"><table><tr><th>user_id</th><th>is_train</th><th>num_orders</th><th>days_bw_first_last_order</th></tr><tr><td>9515</td><td>0</td><td>3</td><td>0.0</td></tr><tr><td>99295</td><td>0</td><td>3</td><td>0.0</td></tr><tr><td>164320</td><td>1</td><td>3</td><td>0.0</td></tr><tr><td>15495</td><td>1</td><td>3</td><td>0.0</td></tr><tr><td>80567</td><td>1</td><td>3</td><td>0.0</td></tr><tr><td>179078</td><td>1</td><td>3</td><td>0.0</td></tr><tr><td>137150</td><td>0</td><td>3</td><td>0.0</td></tr><tr><td>121915</td><td>1</td><td>3</td><td>0.0</td></tr><tr><td>36904</td><td>1</td><td>3</td><td>0.0</td></tr><tr><td>133075</td><td>1</td><td>3</td><td>0.0</td></tr><tr><td>115420</td><td>0</td><td>3</td><td>0.0</td></tr><tr><td>201321</td><td>1</td><td>3</td><td>0.0</td></tr><tr><td>125717</td><td>0</td><td>3</td><td>0.0</td></tr><tr><td>58934</td><td>0</td><td>3</td><td>0.0</td></tr><tr><td>109010</td><td>1</td><td>3</td><td>0.0</td></tr><tr><td>181478</td><td>0</td><td>3</td><td>0.0</td></tr><tr><td>131603</td><td>0</td><td>3</td><td>0.0</td></tr><tr><td>174627</td><td>1</td><td>3</td><td>0.0</td></tr><tr><td>62180</td><td>1</td><td>3</td><td>0.0</td></tr><tr><td>64975</td><td>1</td><td>3</td><td>0.0</td></tr><tr><td>11657</td><td>1</td><td>3</td><td>2.0</td></tr><tr><td>194212</td><td>1</td><td>3</td><td>2.0</td></tr><tr><td>71651</td><td>0</td><td>3</td><td>2.0</td></tr><tr><td>142255</td><td>0</td><td>3</td><td>2.0</td></tr><tr><td>52906</td><td>0</td><td>3</td><td>2.0</td></tr></table></div>\n",
       "    <br />(rows: 206209, time: 8.3s,    76MB processed, job: job_KgVMA0K-8mtna98nzMVkV1G7bJk)<br />\n",
       "    <script>\n",
       "\n",
       "      require.config({\n",
       "        paths: {\n",
       "          d3: '//cdnjs.cloudflare.com/ajax/libs/d3/3.4.13/d3',\n",
       "          plotly: 'https://cdn.plot.ly/plotly-1.5.1.min.js?noext',\n",
       "          jquery: '//ajax.googleapis.com/ajax/libs/jquery/2.0.0/jquery.min'\n",
       "        },\n",
       "        map: {\n",
       "          '*': {\n",
       "            datalab: 'nbextensions/gcpdatalab'\n",
       "          }\n",
       "        },\n",
       "        shim: {\n",
       "          plotly: {\n",
       "            deps: ['d3', 'jquery'],\n",
       "            exports: 'plotly'\n",
       "          }\n",
       "        }\n",
       "      });\n",
       "\n",
       "      require(['datalab/charting', 'datalab/element!2_149991357915', 'base/js/events',\n",
       "          'datalab/style!/nbextensions/gcpdatalab/charting.css'],\n",
       "        function(charts, dom, events) {\n",
       "          charts.render('gcharts', dom, events, 'paged_table', [], {\"rows\": [{\"c\": [{\"v\": 9515}, {\"v\": 0}, {\"v\": 3}, {\"v\": 0.0}]}, {\"c\": [{\"v\": 99295}, {\"v\": 0}, {\"v\": 3}, {\"v\": 0.0}]}, {\"c\": [{\"v\": 164320}, {\"v\": 1}, {\"v\": 3}, {\"v\": 0.0}]}, {\"c\": [{\"v\": 15495}, {\"v\": 1}, {\"v\": 3}, {\"v\": 0.0}]}, {\"c\": [{\"v\": 80567}, {\"v\": 1}, {\"v\": 3}, {\"v\": 0.0}]}, {\"c\": [{\"v\": 179078}, {\"v\": 1}, {\"v\": 3}, {\"v\": 0.0}]}, {\"c\": [{\"v\": 137150}, {\"v\": 0}, {\"v\": 3}, {\"v\": 0.0}]}, {\"c\": [{\"v\": 121915}, {\"v\": 1}, {\"v\": 3}, {\"v\": 0.0}]}, {\"c\": [{\"v\": 36904}, {\"v\": 1}, {\"v\": 3}, {\"v\": 0.0}]}, {\"c\": [{\"v\": 133075}, {\"v\": 1}, {\"v\": 3}, {\"v\": 0.0}]}, {\"c\": [{\"v\": 115420}, {\"v\": 0}, {\"v\": 3}, {\"v\": 0.0}]}, {\"c\": [{\"v\": 201321}, {\"v\": 1}, {\"v\": 3}, {\"v\": 0.0}]}, {\"c\": [{\"v\": 125717}, {\"v\": 0}, {\"v\": 3}, {\"v\": 0.0}]}, {\"c\": [{\"v\": 58934}, {\"v\": 0}, {\"v\": 3}, {\"v\": 0.0}]}, {\"c\": [{\"v\": 109010}, {\"v\": 1}, {\"v\": 3}, {\"v\": 0.0}]}, {\"c\": [{\"v\": 181478}, {\"v\": 0}, {\"v\": 3}, {\"v\": 0.0}]}, {\"c\": [{\"v\": 131603}, {\"v\": 0}, {\"v\": 3}, {\"v\": 0.0}]}, {\"c\": [{\"v\": 174627}, {\"v\": 1}, {\"v\": 3}, {\"v\": 0.0}]}, {\"c\": [{\"v\": 62180}, {\"v\": 1}, {\"v\": 3}, {\"v\": 0.0}]}, {\"c\": [{\"v\": 64975}, {\"v\": 1}, {\"v\": 3}, {\"v\": 0.0}]}, {\"c\": [{\"v\": 11657}, {\"v\": 1}, {\"v\": 3}, {\"v\": 2.0}]}, {\"c\": [{\"v\": 194212}, {\"v\": 1}, {\"v\": 3}, {\"v\": 2.0}]}, {\"c\": [{\"v\": 71651}, {\"v\": 0}, {\"v\": 3}, {\"v\": 2.0}]}, {\"c\": [{\"v\": 142255}, {\"v\": 0}, {\"v\": 3}, {\"v\": 2.0}]}, {\"c\": [{\"v\": 52906}, {\"v\": 0}, {\"v\": 3}, {\"v\": 2.0}]}], \"cols\": [{\"type\": \"number\", \"id\": \"user_id\", \"label\": \"user_id\"}, {\"type\": \"number\", \"id\": \"is_train\", \"label\": \"is_train\"}, {\"type\": \"number\", \"id\": \"num_orders\", \"label\": \"num_orders\"}, {\"type\": \"number\", \"id\": \"days_bw_first_last_order\", \"label\": \"days_bw_first_last_order\"}]},\n",
       "            {\n",
       "              pageSize: 25,\n",
       "              cssClassNames:  {\n",
       "                tableRow: 'gchart-table-row',\n",
       "                headerRow: 'gchart-table-headerrow',\n",
       "                oddTableRow: 'gchart-table-oddrow',\n",
       "                selectedTableRow: 'gchart-table-selectedrow',\n",
       "                hoverTableRow: 'gchart-table-hoverrow',\n",
       "                tableCell: 'gchart-table-cell',\n",
       "                headerCell: 'gchart-table-headercell',\n",
       "                rowNumberCell: 'gchart-table-rownumcell'\n",
       "              }\n",
       "            },\n",
       "            {source_index: 1, fields: 'user_id,is_train,num_orders,days_bw_first_last_order'},\n",
       "            0,\n",
       "            206209);\n",
       "        }\n",
       "      );\n",
       "    </script>\n",
       "  "
      ],
      "text/plain": [
       "QueryResultsTable job_KgVMA0K-8mtna98nzMVkV1G7bJk"
      ]
     },
     "execution_count": 6,
     "metadata": {},
     "output_type": "execute_result"
    }
   ],
   "source": [
    "%%bq execute -q users_q -t instacart.users  -m overwrite"
   ]
  },
  {
   "cell_type": "code",
   "execution_count": 7,
   "metadata": {
    "collapsed": true
   },
   "outputs": [],
   "source": [
    "%%bq query -n user_products_q\n",
    "SELECT orders.user_id, op.product_id, \n",
    "  COUNT(*) AS num_orders, SUM(op.reordered) AS num_reorders,\n",
    "  MIN(orders.order_number) AS first_order_number, MIN(days_since_first_order) AS first_order_day,\n",
    "  MAX(orders.order_number) AS last_order_number, MAX(days_since_first_order) AS last_order_day\n",
    "FROM instacart.order_products__prior AS op\n",
    "INNER JOIN (\n",
    "  SELECT *, \n",
    "  SUM(COALESCE(days_since_prior_order,0)) OVER (PARTITION BY user_id ORDER BY order_number ASC ROWS BETWEEN UNBOUNDED PRECEDING AND CURRENT ROW) AS `days_since_first_order`\n",
    "  FROM instacart.orders WHERE eval_set = \"prior\"\n",
    ") AS orders ON orders.order_id = op.order_id\n",
    "GROUP BY 1,2"
   ]
  },
  {
   "cell_type": "code",
   "execution_count": 8,
   "metadata": {
    "collapsed": false
   },
   "outputs": [
    {
     "data": {
      "text/html": [
       "\n",
       "    <div class=\"bqtv\" id=\"3_149991366620\"><table><tr><th>user_id</th><th>product_id</th><th>num_orders</th><th>num_reorders</th><th>first_order_number</th><th>first_order_day</th><th>last_order_number</th><th>last_order_day</th></tr><tr><td>125780</td><td>43504</td><td>15</td><td>14</td><td>28</td><td>213.0</td><td>58</td><td>342.0</td></tr><tr><td>113653</td><td>1671</td><td>23</td><td>22</td><td>6</td><td>13.0</td><td>66</td><td>292.0</td></tr><tr><td>94556</td><td>21137</td><td>22</td><td>21</td><td>2</td><td>14.0</td><td>42</td><td>358.0</td></tr><tr><td>65180</td><td>44632</td><td>31</td><td>30</td><td>33</td><td>98.0</td><td>63</td><td>216.0</td></tr><tr><td>16469</td><td>13176</td><td>28</td><td>27</td><td>2</td><td>6.0</td><td>52</td><td>357.0</td></tr><tr><td>27764</td><td>5785</td><td>27</td><td>26</td><td>1</td><td>0.0</td><td>53</td><td>350.0</td></tr><tr><td>201415</td><td>14182</td><td>12</td><td>11</td><td>22</td><td>167.0</td><td>41</td><td>349.0</td></tr><tr><td>120538</td><td>27744</td><td>64</td><td>63</td><td>2</td><td>6.0</td><td>96</td><td>358.0</td></tr><tr><td>91987</td><td>6948</td><td>38</td><td>37</td><td>1</td><td>0.0</td><td>71</td><td>356.0</td></tr><tr><td>91133</td><td>20247</td><td>36</td><td>35</td><td>2</td><td>3.0</td><td>73</td><td>323.0</td></tr><tr><td>58615</td><td>7559</td><td>28</td><td>27</td><td>1</td><td>0.0</td><td>43</td><td>345.0</td></tr><tr><td>65385</td><td>6740</td><td>12</td><td>11</td><td>25</td><td>231.0</td><td>42</td><td>358.0</td></tr><tr><td>171196</td><td>5479</td><td>29</td><td>28</td><td>1</td><td>0.0</td><td>64</td><td>307.0</td></tr><tr><td>124404</td><td>3962</td><td>15</td><td>14</td><td>6</td><td>54.0</td><td>48</td><td>333.0</td></tr><tr><td>42483</td><td>18176</td><td>22</td><td>21</td><td>13</td><td>90.0</td><td>57</td><td>360.0</td></tr><tr><td>44537</td><td>781</td><td>13</td><td>12</td><td>1</td><td>0.0</td><td>54</td><td>336.0</td></tr><tr><td>63503</td><td>18370</td><td>30</td><td>29</td><td>1</td><td>0.0</td><td>44</td><td>354.0</td></tr><tr><td>116962</td><td>3585</td><td>11</td><td>10</td><td>19</td><td>121.0</td><td>65</td><td>336.0</td></tr><tr><td>21855</td><td>27966</td><td>27</td><td>26</td><td>1</td><td>0.0</td><td>43</td><td>287.0</td></tr><tr><td>135227</td><td>12811</td><td>13</td><td>12</td><td>20</td><td>74.0</td><td>53</td><td>189.0</td></tr><tr><td>82742</td><td>46138</td><td>11</td><td>10</td><td>13</td><td>46.0</td><td>47</td><td>163.0</td></tr><tr><td>157482</td><td>27845</td><td>30</td><td>29</td><td>1</td><td>0.0</td><td>61</td><td>362.0</td></tr><tr><td>205014</td><td>4920</td><td>49</td><td>48</td><td>3</td><td>9.0</td><td>67</td><td>289.0</td></tr><tr><td>8091</td><td>45007</td><td>26</td><td>25</td><td>1</td><td>0.0</td><td>85</td><td>325.0</td></tr><tr><td>84042</td><td>38768</td><td>15</td><td>14</td><td>6</td><td>60.0</td><td>40</td><td>339.0</td></tr></table></div>\n",
       "    <br />(rows: 13307953, time: 85.4s,   910MB processed, job: job_JfKSWa_7ONZHpWybjDRORY35YKU)<br />\n",
       "    <script>\n",
       "\n",
       "      require.config({\n",
       "        paths: {\n",
       "          d3: '//cdnjs.cloudflare.com/ajax/libs/d3/3.4.13/d3',\n",
       "          plotly: 'https://cdn.plot.ly/plotly-1.5.1.min.js?noext',\n",
       "          jquery: '//ajax.googleapis.com/ajax/libs/jquery/2.0.0/jquery.min'\n",
       "        },\n",
       "        map: {\n",
       "          '*': {\n",
       "            datalab: 'nbextensions/gcpdatalab'\n",
       "          }\n",
       "        },\n",
       "        shim: {\n",
       "          plotly: {\n",
       "            deps: ['d3', 'jquery'],\n",
       "            exports: 'plotly'\n",
       "          }\n",
       "        }\n",
       "      });\n",
       "\n",
       "      require(['datalab/charting', 'datalab/element!3_149991366620', 'base/js/events',\n",
       "          'datalab/style!/nbextensions/gcpdatalab/charting.css'],\n",
       "        function(charts, dom, events) {\n",
       "          charts.render('gcharts', dom, events, 'paged_table', [], {\"rows\": [{\"c\": [{\"v\": 125780}, {\"v\": 43504}, {\"v\": 15}, {\"v\": 14}, {\"v\": 28}, {\"v\": 213.0}, {\"v\": 58}, {\"v\": 342.0}]}, {\"c\": [{\"v\": 113653}, {\"v\": 1671}, {\"v\": 23}, {\"v\": 22}, {\"v\": 6}, {\"v\": 13.0}, {\"v\": 66}, {\"v\": 292.0}]}, {\"c\": [{\"v\": 94556}, {\"v\": 21137}, {\"v\": 22}, {\"v\": 21}, {\"v\": 2}, {\"v\": 14.0}, {\"v\": 42}, {\"v\": 358.0}]}, {\"c\": [{\"v\": 65180}, {\"v\": 44632}, {\"v\": 31}, {\"v\": 30}, {\"v\": 33}, {\"v\": 98.0}, {\"v\": 63}, {\"v\": 216.0}]}, {\"c\": [{\"v\": 16469}, {\"v\": 13176}, {\"v\": 28}, {\"v\": 27}, {\"v\": 2}, {\"v\": 6.0}, {\"v\": 52}, {\"v\": 357.0}]}, {\"c\": [{\"v\": 27764}, {\"v\": 5785}, {\"v\": 27}, {\"v\": 26}, {\"v\": 1}, {\"v\": 0.0}, {\"v\": 53}, {\"v\": 350.0}]}, {\"c\": [{\"v\": 201415}, {\"v\": 14182}, {\"v\": 12}, {\"v\": 11}, {\"v\": 22}, {\"v\": 167.0}, {\"v\": 41}, {\"v\": 349.0}]}, {\"c\": [{\"v\": 120538}, {\"v\": 27744}, {\"v\": 64}, {\"v\": 63}, {\"v\": 2}, {\"v\": 6.0}, {\"v\": 96}, {\"v\": 358.0}]}, {\"c\": [{\"v\": 91987}, {\"v\": 6948}, {\"v\": 38}, {\"v\": 37}, {\"v\": 1}, {\"v\": 0.0}, {\"v\": 71}, {\"v\": 356.0}]}, {\"c\": [{\"v\": 91133}, {\"v\": 20247}, {\"v\": 36}, {\"v\": 35}, {\"v\": 2}, {\"v\": 3.0}, {\"v\": 73}, {\"v\": 323.0}]}, {\"c\": [{\"v\": 58615}, {\"v\": 7559}, {\"v\": 28}, {\"v\": 27}, {\"v\": 1}, {\"v\": 0.0}, {\"v\": 43}, {\"v\": 345.0}]}, {\"c\": [{\"v\": 65385}, {\"v\": 6740}, {\"v\": 12}, {\"v\": 11}, {\"v\": 25}, {\"v\": 231.0}, {\"v\": 42}, {\"v\": 358.0}]}, {\"c\": [{\"v\": 171196}, {\"v\": 5479}, {\"v\": 29}, {\"v\": 28}, {\"v\": 1}, {\"v\": 0.0}, {\"v\": 64}, {\"v\": 307.0}]}, {\"c\": [{\"v\": 124404}, {\"v\": 3962}, {\"v\": 15}, {\"v\": 14}, {\"v\": 6}, {\"v\": 54.0}, {\"v\": 48}, {\"v\": 333.0}]}, {\"c\": [{\"v\": 42483}, {\"v\": 18176}, {\"v\": 22}, {\"v\": 21}, {\"v\": 13}, {\"v\": 90.0}, {\"v\": 57}, {\"v\": 360.0}]}, {\"c\": [{\"v\": 44537}, {\"v\": 781}, {\"v\": 13}, {\"v\": 12}, {\"v\": 1}, {\"v\": 0.0}, {\"v\": 54}, {\"v\": 336.0}]}, {\"c\": [{\"v\": 63503}, {\"v\": 18370}, {\"v\": 30}, {\"v\": 29}, {\"v\": 1}, {\"v\": 0.0}, {\"v\": 44}, {\"v\": 354.0}]}, {\"c\": [{\"v\": 116962}, {\"v\": 3585}, {\"v\": 11}, {\"v\": 10}, {\"v\": 19}, {\"v\": 121.0}, {\"v\": 65}, {\"v\": 336.0}]}, {\"c\": [{\"v\": 21855}, {\"v\": 27966}, {\"v\": 27}, {\"v\": 26}, {\"v\": 1}, {\"v\": 0.0}, {\"v\": 43}, {\"v\": 287.0}]}, {\"c\": [{\"v\": 135227}, {\"v\": 12811}, {\"v\": 13}, {\"v\": 12}, {\"v\": 20}, {\"v\": 74.0}, {\"v\": 53}, {\"v\": 189.0}]}, {\"c\": [{\"v\": 82742}, {\"v\": 46138}, {\"v\": 11}, {\"v\": 10}, {\"v\": 13}, {\"v\": 46.0}, {\"v\": 47}, {\"v\": 163.0}]}, {\"c\": [{\"v\": 157482}, {\"v\": 27845}, {\"v\": 30}, {\"v\": 29}, {\"v\": 1}, {\"v\": 0.0}, {\"v\": 61}, {\"v\": 362.0}]}, {\"c\": [{\"v\": 205014}, {\"v\": 4920}, {\"v\": 49}, {\"v\": 48}, {\"v\": 3}, {\"v\": 9.0}, {\"v\": 67}, {\"v\": 289.0}]}, {\"c\": [{\"v\": 8091}, {\"v\": 45007}, {\"v\": 26}, {\"v\": 25}, {\"v\": 1}, {\"v\": 0.0}, {\"v\": 85}, {\"v\": 325.0}]}, {\"c\": [{\"v\": 84042}, {\"v\": 38768}, {\"v\": 15}, {\"v\": 14}, {\"v\": 6}, {\"v\": 60.0}, {\"v\": 40}, {\"v\": 339.0}]}], \"cols\": [{\"type\": \"number\", \"id\": \"user_id\", \"label\": \"user_id\"}, {\"type\": \"number\", \"id\": \"product_id\", \"label\": \"product_id\"}, {\"type\": \"number\", \"id\": \"num_orders\", \"label\": \"num_orders\"}, {\"type\": \"number\", \"id\": \"num_reorders\", \"label\": \"num_reorders\"}, {\"type\": \"number\", \"id\": \"first_order_number\", \"label\": \"first_order_number\"}, {\"type\": \"number\", \"id\": \"first_order_day\", \"label\": \"first_order_day\"}, {\"type\": \"number\", \"id\": \"last_order_number\", \"label\": \"last_order_number\"}, {\"type\": \"number\", \"id\": \"last_order_day\", \"label\": \"last_order_day\"}]},\n",
       "            {\n",
       "              pageSize: 25,\n",
       "              cssClassNames:  {\n",
       "                tableRow: 'gchart-table-row',\n",
       "                headerRow: 'gchart-table-headerrow',\n",
       "                oddTableRow: 'gchart-table-oddrow',\n",
       "                selectedTableRow: 'gchart-table-selectedrow',\n",
       "                hoverTableRow: 'gchart-table-hoverrow',\n",
       "                tableCell: 'gchart-table-cell',\n",
       "                headerCell: 'gchart-table-headercell',\n",
       "                rowNumberCell: 'gchart-table-rownumcell'\n",
       "              }\n",
       "            },\n",
       "            {source_index: 2, fields: 'user_id,product_id,num_orders,num_reorders,first_order_number,first_order_day,last_order_number,last_order_day'},\n",
       "            0,\n",
       "            13307953);\n",
       "        }\n",
       "      );\n",
       "    </script>\n",
       "  "
      ],
      "text/plain": [
       "QueryResultsTable job_JfKSWa_7ONZHpWybjDRORY35YKU"
      ]
     },
     "execution_count": 8,
     "metadata": {},
     "output_type": "execute_result"
    }
   ],
   "source": [
    "%%bq execute -q user_products_q -t instacart.user_products  -m overwrite"
   ]
  },
  {
   "cell_type": "markdown",
   "metadata": {},
   "source": [
    "## User-Product Features\n",
    "\n",
    "User-product level data which is base for the reorder model (includes both test and train)\n",
    "\n",
    "Contains \"basket\" of all products that user has ever purchased; trying to predict which will be reordered (though this is admittedly only ~2/3 of the problem since ~1/3 of purchases in the train set are to products never purchased before)"
   ]
  },
  {
   "cell_type": "code",
   "execution_count": 9,
   "metadata": {
    "collapsed": true
   },
   "outputs": [],
   "source": [
    "%%bq query -n user_products_features_q\n",
    "WITH up_features AS (\n",
    "  SELECT up.user_id, up.product_id,\n",
    "    up.num_orders / users.num_orders AS `perc_all_orders`,\n",
    "    up.num_reorders / NULLIF(users.num_orders - up.first_order_number,0) AS `perc_reorder`,\n",
    "    up.num_orders / NULLIF(users.days_bw_first_last_order,0) AS `orders_per_day`,\n",
    "    up.num_reorders / NULLIF(users.days_bw_first_last_order - up.first_order_day,0) AS `reorders_per_day`,\n",
    "    up.first_order_number, up.first_order_day, up.last_order_number, up.last_order_day, users.days_bw_first_last_order\n",
    "  FROM instacart.user_products AS up\n",
    "  INNER JOIN instacart.users AS users ON up.user_id = users.user_id\n",
    ")\n",
    "\n",
    "SELECT up.*, \n",
    "  orders.order_id, orders.eval_set, orders.order_hour_of_day, orders.order_dow,\n",
    "  CASE WHEN orders.eval_set = \"test\" THEN NULL ELSE LEAST(COALESCE(op_train.order_id,0),1) END AS `is_ordered`,\n",
    "  up.days_bw_first_last_order - up.last_order_day + orders.days_since_prior_order AS `days_since_last_order`,\n",
    "  orders.order_number - up.last_order_number + 1 AS `orders_since_last_order`\n",
    "FROM up_features AS up\n",
    "INNER JOIN instacart.orders AS orders ON orders.user_id = up.user_id AND orders.eval_set IN ('train','test')\n",
    "LEFT JOIN instacart.order_products__train AS op_train ON orders.order_id = op_train.order_id AND up.product_id = op_train.product_id"
   ]
  },
  {
   "cell_type": "code",
   "execution_count": 10,
   "metadata": {
    "collapsed": false
   },
   "outputs": [
    {
     "data": {
      "text/html": [
       "\n",
       "    <div class=\"bqtv\" id=\"4_149991374126\"><table><tr><th>user_id</th><th>product_id</th><th>perc_all_orders</th><th>perc_reorder</th><th>orders_per_day</th><th>reorders_per_day</th><th>first_order_number</th><th>first_order_day</th><th>last_order_number</th><th>last_order_day</th><th>days_bw_first_last_order</th><th>order_id</th><th>eval_set</th><th>order_hour_of_day</th><th>order_dow</th><th>is_ordered</th><th>days_since_last_order</th><th>orders_since_last_order</th></tr><tr><td>94259</td><td>18159</td><td>0.119565217391</td><td>0.114942528736</td><td>0.030985915493</td><td>0.0299401197605</td><td>5</td><td>21.0</td><td>62</td><td>252.0</td><td>355.0</td><td>2440622</td><td>test</td><td>12</td><td>6</td><td>&nbsp;</td><td>106.0</td><td>32</td></tr><tr><td>67798</td><td>14467</td><td>0.171717171717</td><td>0.177777777778</td><td>0.0508982035928</td><td>0.0542372881356</td><td>9</td><td>39.0</td><td>64</td><td>213.0</td><td>334.0</td><td>2024870</td><td>test</td><td>14</td><td>1</td><td>&nbsp;</td><td>123.0</td><td>37</td></tr><tr><td>75943</td><td>34448</td><td>0.121212121212</td><td>0.112244897959</td><td>0.0408163265306</td><td>0.0374149659864</td><td>1</td><td>0.0</td><td>45</td><td>118.0</td><td>294.0</td><td>2000764</td><td>test</td><td>8</td><td>2</td><td>&nbsp;</td><td>178.0</td><td>56</td></tr><tr><td>59881</td><td>19938</td><td>0.141414141414</td><td>0.135416666667</td><td>0.0590717299578</td><td>0.0565217391304</td><td>3</td><td>7.0</td><td>68</td><td>162.0</td><td>237.0</td><td>947621</td><td>test</td><td>10</td><td>4</td><td>&nbsp;</td><td>77.0</td><td>33</td></tr><tr><td>165953</td><td>44948</td><td>0.130952380952</td><td>0.123456790123</td><td>0.03125</td><td>0.0291545189504</td><td>3</td><td>9.0</td><td>45</td><td>217.0</td><td>352.0</td><td>302695</td><td>test</td><td>0</td><td>3</td><td>&nbsp;</td><td>136.0</td><td>41</td></tr><tr><td>126537</td><td>44661</td><td>0.151515151515</td><td>0.166666666667</td><td>0.0604838709677</td><td>0.0679611650485</td><td>15</td><td>42.0</td><td>61</td><td>160.0</td><td>248.0</td><td>1828410</td><td>test</td><td>9</td><td>6</td><td>&nbsp;</td><td>92.0</td><td>40</td></tr><tr><td>140819</td><td>32864</td><td>0.156626506024</td><td>0.153846153846</td><td>0.0422077922078</td><td>0.0428571428571</td><td>5</td><td>28.0</td><td>49</td><td>221.0</td><td>308.0</td><td>2090419</td><td>test</td><td>6</td><td>0</td><td>&nbsp;</td><td>90.0</td><td>36</td></tr><tr><td>186704</td><td>18827</td><td>0.111111111111</td><td>0.102040816327</td><td>0.0355987055016</td><td>0.0323624595469</td><td>1</td><td>0.0</td><td>53</td><td>160.0</td><td>309.0</td><td>2531767</td><td>test</td><td>9</td><td>2</td><td>&nbsp;</td><td>153.0</td><td>48</td></tr><tr><td>190542</td><td>20114</td><td>0.111111111111</td><td>0.102040816327</td><td>0.0331325301205</td><td>0.0301204819277</td><td>1</td><td>0.0</td><td>66</td><td>216.0</td><td>332.0</td><td>1345825</td><td>test</td><td>7</td><td>1</td><td>&nbsp;</td><td>121.0</td><td>35</td></tr><tr><td>187842</td><td>47766</td><td>0.20202020202</td><td>0.19387755102</td><td>0.0684931506849</td><td>0.0650684931507</td><td>1</td><td>0.0</td><td>43</td><td>134.0</td><td>292.0</td><td>2422565</td><td>test</td><td>19</td><td>0</td><td>&nbsp;</td><td>159.0</td><td>58</td></tr><tr><td>23591</td><td>31663</td><td>0.234042553191</td><td>0.217391304348</td><td>0.0311614730878</td><td>0.028328611898</td><td>1</td><td>0.0</td><td>14</td><td>93.0</td><td>353.0</td><td>963064</td><td>test</td><td>11</td><td>1</td><td>&nbsp;</td><td>272.0</td><td>35</td></tr><tr><td>92973</td><td>22494</td><td>0.276595744681</td><td>0.260869565217</td><td>0.0361111111111</td><td>0.0333333333333</td><td>1</td><td>0.0</td><td>15</td><td>161.0</td><td>360.0</td><td>672038</td><td>test</td><td>18</td><td>6</td><td>&nbsp;</td><td>201.0</td><td>34</td></tr><tr><td>198626</td><td>15399</td><td>0.19298245614</td><td>0.178571428571</td><td>0.0357142857143</td><td>0.0324675324675</td><td>1</td><td>0.0</td><td>16</td><td>146.0</td><td>308.0</td><td>1930993</td><td>test</td><td>10</td><td>0</td><td>&nbsp;</td><td>163.0</td><td>43</td></tr><tr><td>33218</td><td>8958</td><td>0.151515151515</td><td>0.142857142857</td><td>0.0769230769231</td><td>0.0717948717949</td><td>1</td><td>0.0</td><td>34</td><td>77.0</td><td>195.0</td><td>2917681</td><td>test</td><td>12</td><td>2</td><td>&nbsp;</td><td>119.0</td><td>67</td></tr><tr><td>92952</td><td>16349</td><td>0.148648648649</td><td>0.13698630137</td><td>0.0311614730878</td><td>0.028328611898</td><td>1</td><td>0.0</td><td>34</td><td>187.0</td><td>353.0</td><td>1183312</td><td>test</td><td>16</td><td>4</td><td>&nbsp;</td><td>171.0</td><td>42</td></tr><tr><td>52287</td><td>47059</td><td>0.25</td><td>0.242424242424</td><td>0.0478873239437</td><td>0.0457142857143</td><td>2</td><td>5.0</td><td>35</td><td>216.0</td><td>355.0</td><td>3234667</td><td>test</td><td>14</td><td>3</td><td>&nbsp;</td><td>146.0</td><td>35</td></tr><tr><td>182408</td><td>3689</td><td>0.010101010101</td><td>0.0</td><td>0.00657894736842</td><td>0.0</td><td>67</td><td>101.0</td><td>67</td><td>101.0</td><td>152.0</td><td>3328887</td><td>test</td><td>9</td><td>6</td><td>&nbsp;</td><td>53.0</td><td>34</td></tr><tr><td>74787</td><td>44098</td><td>0.0128205128205</td><td>0.0</td><td>0.00286532951289</td><td>0.0</td><td>49</td><td>156.0</td><td>49</td><td>156.0</td><td>349.0</td><td>1726809</td><td>test</td><td>23</td><td>6</td><td>&nbsp;</td><td>205.0</td><td>31</td></tr><tr><td>82516</td><td>37496</td><td>0.0121951219512</td><td>0.0</td><td>0.00280898876404</td><td>0.0</td><td>48</td><td>167.0</td><td>48</td><td>167.0</td><td>356.0</td><td>1748564</td><td>test</td><td>20</td><td>0</td><td>&nbsp;</td><td>196.0</td><td>36</td></tr><tr><td>159591</td><td>46392</td><td>0.010101010101</td><td>0.0</td><td>0.00314465408805</td><td>0.0</td><td>48</td><td>165.0</td><td>48</td><td>165.0</td><td>318.0</td><td>2279096</td><td>test</td><td>6</td><td>3</td><td>&nbsp;</td><td>155.0</td><td>53</td></tr><tr><td>66252</td><td>42617</td><td>0.0114942528736</td><td>0.0</td><td>0.00280112044818</td><td>0.0</td><td>42</td><td>193.0</td><td>42</td><td>193.0</td><td>357.0</td><td>3244761</td><td>test</td><td>10</td><td>3</td><td>&nbsp;</td><td>166.0</td><td>47</td></tr><tr><td>12430</td><td>22935</td><td>0.010101010101</td><td>0.0</td><td>0.002849002849</td><td>0.0</td><td>49</td><td>174.0</td><td>49</td><td>174.0</td><td>351.0</td><td>31954</td><td>test</td><td>17</td><td>6</td><td>&nbsp;</td><td>178.0</td><td>52</td></tr><tr><td>22358</td><td>34551</td><td>0.0133333333333</td><td>0.0</td><td>0.00343642611684</td><td>0.0</td><td>44</td><td>107.0</td><td>44</td><td>107.0</td><td>291.0</td><td>2081765</td><td>test</td><td>16</td><td>5</td><td>&nbsp;</td><td>188.0</td><td>33</td></tr><tr><td>111646</td><td>3849</td><td>0.010101010101</td><td>0.0</td><td>0.00444444444444</td><td>0.0</td><td>62</td><td>145.0</td><td>62</td><td>145.0</td><td>225.0</td><td>166153</td><td>test</td><td>15</td><td>0</td><td>&nbsp;</td><td>81.0</td><td>39</td></tr><tr><td>17738</td><td>39921</td><td>0.0114942528736</td><td>0.0</td><td>0.00277777777778</td><td>0.0</td><td>44</td><td>224.0</td><td>44</td><td>224.0</td><td>360.0</td><td>1080463</td><td>test</td><td>12</td><td>5</td><td>&nbsp;</td><td>137.0</td><td>45</td></tr></table></div>\n",
       "    <br />(rows: 13307953, time: 73.6s,     1GB processed, job: job_1QVXhakDqWvf3dQMaPLPMi_mR-8)<br />\n",
       "    <script>\n",
       "\n",
       "      require.config({\n",
       "        paths: {\n",
       "          d3: '//cdnjs.cloudflare.com/ajax/libs/d3/3.4.13/d3',\n",
       "          plotly: 'https://cdn.plot.ly/plotly-1.5.1.min.js?noext',\n",
       "          jquery: '//ajax.googleapis.com/ajax/libs/jquery/2.0.0/jquery.min'\n",
       "        },\n",
       "        map: {\n",
       "          '*': {\n",
       "            datalab: 'nbextensions/gcpdatalab'\n",
       "          }\n",
       "        },\n",
       "        shim: {\n",
       "          plotly: {\n",
       "            deps: ['d3', 'jquery'],\n",
       "            exports: 'plotly'\n",
       "          }\n",
       "        }\n",
       "      });\n",
       "\n",
       "      require(['datalab/charting', 'datalab/element!4_149991374126', 'base/js/events',\n",
       "          'datalab/style!/nbextensions/gcpdatalab/charting.css'],\n",
       "        function(charts, dom, events) {\n",
       "          charts.render('gcharts', dom, events, 'paged_table', [], {\"rows\": [{\"c\": [{\"v\": 94259}, {\"v\": 18159}, {\"v\": 0.11956521739130435}, {\"v\": 0.11494252873563218}, {\"v\": 0.030985915492957747}, {\"v\": 0.029940119760479042}, {\"v\": 5}, {\"v\": 21.0}, {\"v\": 62}, {\"v\": 252.0}, {\"v\": 355.0}, {\"v\": 2440622}, {\"v\": \"test\"}, {\"v\": 12}, {\"v\": 6}, {\"v\": null}, {\"v\": 106.0}, {\"v\": 32}]}, {\"c\": [{\"v\": 67798}, {\"v\": 14467}, {\"v\": 0.1717171717171717}, {\"v\": 0.17777777777777778}, {\"v\": 0.05089820359281437}, {\"v\": 0.05423728813559322}, {\"v\": 9}, {\"v\": 39.0}, {\"v\": 64}, {\"v\": 213.0}, {\"v\": 334.0}, {\"v\": 2024870}, {\"v\": \"test\"}, {\"v\": 14}, {\"v\": 1}, {\"v\": null}, {\"v\": 123.0}, {\"v\": 37}]}, {\"c\": [{\"v\": 75943}, {\"v\": 34448}, {\"v\": 0.12121212121212122}, {\"v\": 0.11224489795918367}, {\"v\": 0.04081632653061224}, {\"v\": 0.03741496598639456}, {\"v\": 1}, {\"v\": 0.0}, {\"v\": 45}, {\"v\": 118.0}, {\"v\": 294.0}, {\"v\": 2000764}, {\"v\": \"test\"}, {\"v\": 8}, {\"v\": 2}, {\"v\": null}, {\"v\": 178.0}, {\"v\": 56}]}, {\"c\": [{\"v\": 59881}, {\"v\": 19938}, {\"v\": 0.1414141414141414}, {\"v\": 0.13541666666666666}, {\"v\": 0.05907172995780591}, {\"v\": 0.05652173913043478}, {\"v\": 3}, {\"v\": 7.0}, {\"v\": 68}, {\"v\": 162.0}, {\"v\": 237.0}, {\"v\": 947621}, {\"v\": \"test\"}, {\"v\": 10}, {\"v\": 4}, {\"v\": null}, {\"v\": 77.0}, {\"v\": 33}]}, {\"c\": [{\"v\": 165953}, {\"v\": 44948}, {\"v\": 0.13095238095238096}, {\"v\": 0.12345679012345678}, {\"v\": 0.03125}, {\"v\": 0.029154518950437316}, {\"v\": 3}, {\"v\": 9.0}, {\"v\": 45}, {\"v\": 217.0}, {\"v\": 352.0}, {\"v\": 302695}, {\"v\": \"test\"}, {\"v\": 0}, {\"v\": 3}, {\"v\": null}, {\"v\": 136.0}, {\"v\": 41}]}, {\"c\": [{\"v\": 126537}, {\"v\": 44661}, {\"v\": 0.15151515151515152}, {\"v\": 0.16666666666666666}, {\"v\": 0.06048387096774194}, {\"v\": 0.06796116504854369}, {\"v\": 15}, {\"v\": 42.0}, {\"v\": 61}, {\"v\": 160.0}, {\"v\": 248.0}, {\"v\": 1828410}, {\"v\": \"test\"}, {\"v\": 9}, {\"v\": 6}, {\"v\": null}, {\"v\": 92.0}, {\"v\": 40}]}, {\"c\": [{\"v\": 140819}, {\"v\": 32864}, {\"v\": 0.1566265060240964}, {\"v\": 0.15384615384615385}, {\"v\": 0.04220779220779221}, {\"v\": 0.04285714285714286}, {\"v\": 5}, {\"v\": 28.0}, {\"v\": 49}, {\"v\": 221.0}, {\"v\": 308.0}, {\"v\": 2090419}, {\"v\": \"test\"}, {\"v\": 6}, {\"v\": 0}, {\"v\": null}, {\"v\": 90.0}, {\"v\": 36}]}, {\"c\": [{\"v\": 186704}, {\"v\": 18827}, {\"v\": 0.1111111111111111}, {\"v\": 0.10204081632653061}, {\"v\": 0.03559870550161812}, {\"v\": 0.032362459546925564}, {\"v\": 1}, {\"v\": 0.0}, {\"v\": 53}, {\"v\": 160.0}, {\"v\": 309.0}, {\"v\": 2531767}, {\"v\": \"test\"}, {\"v\": 9}, {\"v\": 2}, {\"v\": null}, {\"v\": 153.0}, {\"v\": 48}]}, {\"c\": [{\"v\": 190542}, {\"v\": 20114}, {\"v\": 0.1111111111111111}, {\"v\": 0.10204081632653061}, {\"v\": 0.03313253012048193}, {\"v\": 0.030120481927710843}, {\"v\": 1}, {\"v\": 0.0}, {\"v\": 66}, {\"v\": 216.0}, {\"v\": 332.0}, {\"v\": 1345825}, {\"v\": \"test\"}, {\"v\": 7}, {\"v\": 1}, {\"v\": null}, {\"v\": 121.0}, {\"v\": 35}]}, {\"c\": [{\"v\": 187842}, {\"v\": 47766}, {\"v\": 0.20202020202020202}, {\"v\": 0.19387755102040816}, {\"v\": 0.0684931506849315}, {\"v\": 0.06506849315068493}, {\"v\": 1}, {\"v\": 0.0}, {\"v\": 43}, {\"v\": 134.0}, {\"v\": 292.0}, {\"v\": 2422565}, {\"v\": \"test\"}, {\"v\": 19}, {\"v\": 0}, {\"v\": null}, {\"v\": 159.0}, {\"v\": 58}]}, {\"c\": [{\"v\": 23591}, {\"v\": 31663}, {\"v\": 0.23404255319148937}, {\"v\": 0.21739130434782608}, {\"v\": 0.031161473087818695}, {\"v\": 0.028328611898016998}, {\"v\": 1}, {\"v\": 0.0}, {\"v\": 14}, {\"v\": 93.0}, {\"v\": 353.0}, {\"v\": 963064}, {\"v\": \"test\"}, {\"v\": 11}, {\"v\": 1}, {\"v\": null}, {\"v\": 272.0}, {\"v\": 35}]}, {\"c\": [{\"v\": 92973}, {\"v\": 22494}, {\"v\": 0.2765957446808511}, {\"v\": 0.2608695652173913}, {\"v\": 0.03611111111111111}, {\"v\": 0.03333333333333333}, {\"v\": 1}, {\"v\": 0.0}, {\"v\": 15}, {\"v\": 161.0}, {\"v\": 360.0}, {\"v\": 672038}, {\"v\": \"test\"}, {\"v\": 18}, {\"v\": 6}, {\"v\": null}, {\"v\": 201.0}, {\"v\": 34}]}, {\"c\": [{\"v\": 198626}, {\"v\": 15399}, {\"v\": 0.19298245614035087}, {\"v\": 0.17857142857142858}, {\"v\": 0.03571428571428571}, {\"v\": 0.032467532467532464}, {\"v\": 1}, {\"v\": 0.0}, {\"v\": 16}, {\"v\": 146.0}, {\"v\": 308.0}, {\"v\": 1930993}, {\"v\": \"test\"}, {\"v\": 10}, {\"v\": 0}, {\"v\": null}, {\"v\": 163.0}, {\"v\": 43}]}, {\"c\": [{\"v\": 33218}, {\"v\": 8958}, {\"v\": 0.15151515151515152}, {\"v\": 0.14285714285714285}, {\"v\": 0.07692307692307693}, {\"v\": 0.07179487179487179}, {\"v\": 1}, {\"v\": 0.0}, {\"v\": 34}, {\"v\": 77.0}, {\"v\": 195.0}, {\"v\": 2917681}, {\"v\": \"test\"}, {\"v\": 12}, {\"v\": 2}, {\"v\": null}, {\"v\": 119.0}, {\"v\": 67}]}, {\"c\": [{\"v\": 92952}, {\"v\": 16349}, {\"v\": 0.14864864864864866}, {\"v\": 0.136986301369863}, {\"v\": 0.031161473087818695}, {\"v\": 0.028328611898016998}, {\"v\": 1}, {\"v\": 0.0}, {\"v\": 34}, {\"v\": 187.0}, {\"v\": 353.0}, {\"v\": 1183312}, {\"v\": \"test\"}, {\"v\": 16}, {\"v\": 4}, {\"v\": null}, {\"v\": 171.0}, {\"v\": 42}]}, {\"c\": [{\"v\": 52287}, {\"v\": 47059}, {\"v\": 0.25}, {\"v\": 0.24242424242424243}, {\"v\": 0.04788732394366197}, {\"v\": 0.045714285714285714}, {\"v\": 2}, {\"v\": 5.0}, {\"v\": 35}, {\"v\": 216.0}, {\"v\": 355.0}, {\"v\": 3234667}, {\"v\": \"test\"}, {\"v\": 14}, {\"v\": 3}, {\"v\": null}, {\"v\": 146.0}, {\"v\": 35}]}, {\"c\": [{\"v\": 182408}, {\"v\": 3689}, {\"v\": 0.010101010101010102}, {\"v\": 0.0}, {\"v\": 0.006578947368421052}, {\"v\": 0.0}, {\"v\": 67}, {\"v\": 101.0}, {\"v\": 67}, {\"v\": 101.0}, {\"v\": 152.0}, {\"v\": 3328887}, {\"v\": \"test\"}, {\"v\": 9}, {\"v\": 6}, {\"v\": null}, {\"v\": 53.0}, {\"v\": 34}]}, {\"c\": [{\"v\": 74787}, {\"v\": 44098}, {\"v\": 0.01282051282051282}, {\"v\": 0.0}, {\"v\": 0.0028653295128939827}, {\"v\": 0.0}, {\"v\": 49}, {\"v\": 156.0}, {\"v\": 49}, {\"v\": 156.0}, {\"v\": 349.0}, {\"v\": 1726809}, {\"v\": \"test\"}, {\"v\": 23}, {\"v\": 6}, {\"v\": null}, {\"v\": 205.0}, {\"v\": 31}]}, {\"c\": [{\"v\": 82516}, {\"v\": 37496}, {\"v\": 0.012195121951219513}, {\"v\": 0.0}, {\"v\": 0.0028089887640449437}, {\"v\": 0.0}, {\"v\": 48}, {\"v\": 167.0}, {\"v\": 48}, {\"v\": 167.0}, {\"v\": 356.0}, {\"v\": 1748564}, {\"v\": \"test\"}, {\"v\": 20}, {\"v\": 0}, {\"v\": null}, {\"v\": 196.0}, {\"v\": 36}]}, {\"c\": [{\"v\": 159591}, {\"v\": 46392}, {\"v\": 0.010101010101010102}, {\"v\": 0.0}, {\"v\": 0.0031446540880503146}, {\"v\": 0.0}, {\"v\": 48}, {\"v\": 165.0}, {\"v\": 48}, {\"v\": 165.0}, {\"v\": 318.0}, {\"v\": 2279096}, {\"v\": \"test\"}, {\"v\": 6}, {\"v\": 3}, {\"v\": null}, {\"v\": 155.0}, {\"v\": 53}]}, {\"c\": [{\"v\": 66252}, {\"v\": 42617}, {\"v\": 0.011494252873563218}, {\"v\": 0.0}, {\"v\": 0.0028011204481792717}, {\"v\": 0.0}, {\"v\": 42}, {\"v\": 193.0}, {\"v\": 42}, {\"v\": 193.0}, {\"v\": 357.0}, {\"v\": 3244761}, {\"v\": \"test\"}, {\"v\": 10}, {\"v\": 3}, {\"v\": null}, {\"v\": 166.0}, {\"v\": 47}]}, {\"c\": [{\"v\": 12430}, {\"v\": 22935}, {\"v\": 0.010101010101010102}, {\"v\": 0.0}, {\"v\": 0.002849002849002849}, {\"v\": 0.0}, {\"v\": 49}, {\"v\": 174.0}, {\"v\": 49}, {\"v\": 174.0}, {\"v\": 351.0}, {\"v\": 31954}, {\"v\": \"test\"}, {\"v\": 17}, {\"v\": 6}, {\"v\": null}, {\"v\": 178.0}, {\"v\": 52}]}, {\"c\": [{\"v\": 22358}, {\"v\": 34551}, {\"v\": 0.013333333333333334}, {\"v\": 0.0}, {\"v\": 0.003436426116838488}, {\"v\": 0.0}, {\"v\": 44}, {\"v\": 107.0}, {\"v\": 44}, {\"v\": 107.0}, {\"v\": 291.0}, {\"v\": 2081765}, {\"v\": \"test\"}, {\"v\": 16}, {\"v\": 5}, {\"v\": null}, {\"v\": 188.0}, {\"v\": 33}]}, {\"c\": [{\"v\": 111646}, {\"v\": 3849}, {\"v\": 0.010101010101010102}, {\"v\": 0.0}, {\"v\": 0.0044444444444444444}, {\"v\": 0.0}, {\"v\": 62}, {\"v\": 145.0}, {\"v\": 62}, {\"v\": 145.0}, {\"v\": 225.0}, {\"v\": 166153}, {\"v\": \"test\"}, {\"v\": 15}, {\"v\": 0}, {\"v\": null}, {\"v\": 81.0}, {\"v\": 39}]}, {\"c\": [{\"v\": 17738}, {\"v\": 39921}, {\"v\": 0.011494252873563218}, {\"v\": 0.0}, {\"v\": 0.002777777777777778}, {\"v\": 0.0}, {\"v\": 44}, {\"v\": 224.0}, {\"v\": 44}, {\"v\": 224.0}, {\"v\": 360.0}, {\"v\": 1080463}, {\"v\": \"test\"}, {\"v\": 12}, {\"v\": 5}, {\"v\": null}, {\"v\": 137.0}, {\"v\": 45}]}], \"cols\": [{\"type\": \"number\", \"id\": \"user_id\", \"label\": \"user_id\"}, {\"type\": \"number\", \"id\": \"product_id\", \"label\": \"product_id\"}, {\"type\": \"number\", \"id\": \"perc_all_orders\", \"label\": \"perc_all_orders\"}, {\"type\": \"number\", \"id\": \"perc_reorder\", \"label\": \"perc_reorder\"}, {\"type\": \"number\", \"id\": \"orders_per_day\", \"label\": \"orders_per_day\"}, {\"type\": \"number\", \"id\": \"reorders_per_day\", \"label\": \"reorders_per_day\"}, {\"type\": \"number\", \"id\": \"first_order_number\", \"label\": \"first_order_number\"}, {\"type\": \"number\", \"id\": \"first_order_day\", \"label\": \"first_order_day\"}, {\"type\": \"number\", \"id\": \"last_order_number\", \"label\": \"last_order_number\"}, {\"type\": \"number\", \"id\": \"last_order_day\", \"label\": \"last_order_day\"}, {\"type\": \"number\", \"id\": \"days_bw_first_last_order\", \"label\": \"days_bw_first_last_order\"}, {\"type\": \"number\", \"id\": \"order_id\", \"label\": \"order_id\"}, {\"type\": \"string\", \"id\": \"eval_set\", \"label\": \"eval_set\"}, {\"type\": \"number\", \"id\": \"order_hour_of_day\", \"label\": \"order_hour_of_day\"}, {\"type\": \"number\", \"id\": \"order_dow\", \"label\": \"order_dow\"}, {\"type\": \"number\", \"id\": \"is_ordered\", \"label\": \"is_ordered\"}, {\"type\": \"number\", \"id\": \"days_since_last_order\", \"label\": \"days_since_last_order\"}, {\"type\": \"number\", \"id\": \"orders_since_last_order\", \"label\": \"orders_since_last_order\"}]},\n",
       "            {\n",
       "              pageSize: 25,\n",
       "              cssClassNames:  {\n",
       "                tableRow: 'gchart-table-row',\n",
       "                headerRow: 'gchart-table-headerrow',\n",
       "                oddTableRow: 'gchart-table-oddrow',\n",
       "                selectedTableRow: 'gchart-table-selectedrow',\n",
       "                hoverTableRow: 'gchart-table-hoverrow',\n",
       "                tableCell: 'gchart-table-cell',\n",
       "                headerCell: 'gchart-table-headercell',\n",
       "                rowNumberCell: 'gchart-table-rownumcell'\n",
       "              }\n",
       "            },\n",
       "            {source_index: 0, fields: 'user_id,product_id,perc_all_orders,perc_reorder,orders_per_day,reorders_per_day,first_order_number,first_order_day,last_order_number,last_order_day,days_bw_first_last_order,order_id,eval_set,order_hour_of_day,order_dow,is_ordered,days_since_last_order,orders_since_last_order'},\n",
       "            0,\n",
       "            13307953);\n",
       "        }\n",
       "      );\n",
       "    </script>\n",
       "  "
      ],
      "text/plain": [
       "QueryResultsTable job_1QVXhakDqWvf3dQMaPLPMi_mR-8"
      ]
     },
     "execution_count": 10,
     "metadata": {},
     "output_type": "execute_result"
    }
   ],
   "source": [
    "%%bq execute -q user_products_features_q -t instacart.user_products_features  -m overwrite"
   ]
  },
  {
   "cell_type": "markdown",
   "metadata": {},
   "source": [
    "## User Features\n",
    "\n",
    "Some additional user-level features that we'll join in later"
   ]
  },
  {
   "cell_type": "code",
   "execution_count": 11,
   "metadata": {
    "collapsed": true
   },
   "outputs": [],
   "source": [
    "%%bq query -n user_features_q\n",
    "SELECT users.user_id,\n",
    "  ANY_VALUE(users.num_orders) AS num_orders, \n",
    "  ANY_VALUE(users.days_bw_first_last_order) / ANY_VALUE(users.num_orders) AS avg_days_bw_orders,\n",
    "  COUNT(DISTINCT up.product_id) AS num_products,\n",
    "  COUNT(DISTINCT products.aisle_id) AS num_aisles,\n",
    "  COUNT(DISTINCT products.department_id) AS num_departments\n",
    "FROM instacart.users AS users\n",
    "INNER JOIN instacart.user_products AS up ON users.user_id = up.user_id\n",
    "INNER JOIN instacart.products AS products ON up.product_id = products.product_id\n",
    "GROUP BY 1"
   ]
  },
  {
   "cell_type": "code",
   "execution_count": 12,
   "metadata": {
    "collapsed": false
   },
   "outputs": [
    {
     "data": {
      "text/html": [
       "\n",
       "    <div class=\"bqtv\" id=\"5_149991380514\"><table><tr><th>user_id</th><th>num_orders</th><th>avg_days_bw_orders</th><th>num_products</th><th>num_aisles</th><th>num_departments</th></tr><tr><td>99295</td><td>3</td><td>0.0</td><td>1</td><td>1</td><td>1</td></tr><tr><td>181478</td><td>3</td><td>0.0</td><td>3</td><td>2</td><td>1</td></tr><tr><td>15495</td><td>3</td><td>0.0</td><td>1</td><td>1</td><td>1</td></tr><tr><td>109010</td><td>3</td><td>0.0</td><td>1</td><td>1</td><td>1</td></tr><tr><td>164320</td><td>3</td><td>0.0</td><td>2</td><td>2</td><td>1</td></tr><tr><td>62180</td><td>3</td><td>0.0</td><td>2</td><td>1</td><td>1</td></tr><tr><td>113387</td><td>3</td><td>2.0</td><td>3</td><td>2</td><td>1</td></tr><tr><td>172259</td><td>5</td><td>2.0</td><td>7</td><td>2</td><td>1</td></tr><tr><td>97779</td><td>14</td><td>2.0</td><td>1</td><td>1</td><td>1</td></tr><tr><td>202329</td><td>3</td><td>2.0</td><td>4</td><td>3</td><td>1</td></tr><tr><td>50492</td><td>4</td><td>2.0</td><td>2</td><td>2</td><td>1</td></tr><tr><td>49581</td><td>3</td><td>2.0</td><td>1</td><td>1</td><td>1</td></tr><tr><td>167624</td><td>4</td><td>2.25</td><td>2</td><td>1</td><td>1</td></tr><tr><td>119293</td><td>4</td><td>2.25</td><td>7</td><td>4</td><td>1</td></tr><tr><td>148573</td><td>22</td><td>2.5</td><td>1</td><td>1</td><td>1</td></tr><tr><td>70227</td><td>8</td><td>2.625</td><td>10</td><td>3</td><td>1</td></tr><tr><td>25740</td><td>4</td><td>2.75</td><td>1</td><td>1</td><td>1</td></tr><tr><td>199604</td><td>8</td><td>2.75</td><td>1</td><td>1</td><td>1</td></tr><tr><td>114577</td><td>4</td><td>3.0</td><td>7</td><td>2</td><td>1</td></tr><tr><td>78411</td><td>7</td><td>3.0</td><td>2</td><td>2</td><td>1</td></tr><tr><td>5120</td><td>4</td><td>3.25</td><td>6</td><td>1</td><td>1</td></tr><tr><td>78397</td><td>4</td><td>3.5</td><td>1</td><td>1</td><td>1</td></tr><tr><td>165071</td><td>4</td><td>3.5</td><td>3</td><td>1</td><td>1</td></tr><tr><td>113793</td><td>8</td><td>3.875</td><td>6</td><td>2</td><td>1</td></tr><tr><td>20351</td><td>3</td><td>4.0</td><td>1</td><td>1</td><td>1</td></tr></table></div>\n",
       "    <br />(rows: 206209, time: 62.5s,   219MB processed, job: job_39_TejRkquL8z6P-qn031nZY5vg)<br />\n",
       "    <script>\n",
       "\n",
       "      require.config({\n",
       "        paths: {\n",
       "          d3: '//cdnjs.cloudflare.com/ajax/libs/d3/3.4.13/d3',\n",
       "          plotly: 'https://cdn.plot.ly/plotly-1.5.1.min.js?noext',\n",
       "          jquery: '//ajax.googleapis.com/ajax/libs/jquery/2.0.0/jquery.min'\n",
       "        },\n",
       "        map: {\n",
       "          '*': {\n",
       "            datalab: 'nbextensions/gcpdatalab'\n",
       "          }\n",
       "        },\n",
       "        shim: {\n",
       "          plotly: {\n",
       "            deps: ['d3', 'jquery'],\n",
       "            exports: 'plotly'\n",
       "          }\n",
       "        }\n",
       "      });\n",
       "\n",
       "      require(['datalab/charting', 'datalab/element!5_149991380514', 'base/js/events',\n",
       "          'datalab/style!/nbextensions/gcpdatalab/charting.css'],\n",
       "        function(charts, dom, events) {\n",
       "          charts.render('gcharts', dom, events, 'paged_table', [], {\"rows\": [{\"c\": [{\"v\": 99295}, {\"v\": 3}, {\"v\": 0.0}, {\"v\": 1}, {\"v\": 1}, {\"v\": 1}]}, {\"c\": [{\"v\": 181478}, {\"v\": 3}, {\"v\": 0.0}, {\"v\": 3}, {\"v\": 2}, {\"v\": 1}]}, {\"c\": [{\"v\": 15495}, {\"v\": 3}, {\"v\": 0.0}, {\"v\": 1}, {\"v\": 1}, {\"v\": 1}]}, {\"c\": [{\"v\": 109010}, {\"v\": 3}, {\"v\": 0.0}, {\"v\": 1}, {\"v\": 1}, {\"v\": 1}]}, {\"c\": [{\"v\": 164320}, {\"v\": 3}, {\"v\": 0.0}, {\"v\": 2}, {\"v\": 2}, {\"v\": 1}]}, {\"c\": [{\"v\": 62180}, {\"v\": 3}, {\"v\": 0.0}, {\"v\": 2}, {\"v\": 1}, {\"v\": 1}]}, {\"c\": [{\"v\": 113387}, {\"v\": 3}, {\"v\": 2.0}, {\"v\": 3}, {\"v\": 2}, {\"v\": 1}]}, {\"c\": [{\"v\": 172259}, {\"v\": 5}, {\"v\": 2.0}, {\"v\": 7}, {\"v\": 2}, {\"v\": 1}]}, {\"c\": [{\"v\": 97779}, {\"v\": 14}, {\"v\": 2.0}, {\"v\": 1}, {\"v\": 1}, {\"v\": 1}]}, {\"c\": [{\"v\": 202329}, {\"v\": 3}, {\"v\": 2.0}, {\"v\": 4}, {\"v\": 3}, {\"v\": 1}]}, {\"c\": [{\"v\": 50492}, {\"v\": 4}, {\"v\": 2.0}, {\"v\": 2}, {\"v\": 2}, {\"v\": 1}]}, {\"c\": [{\"v\": 49581}, {\"v\": 3}, {\"v\": 2.0}, {\"v\": 1}, {\"v\": 1}, {\"v\": 1}]}, {\"c\": [{\"v\": 167624}, {\"v\": 4}, {\"v\": 2.25}, {\"v\": 2}, {\"v\": 1}, {\"v\": 1}]}, {\"c\": [{\"v\": 119293}, {\"v\": 4}, {\"v\": 2.25}, {\"v\": 7}, {\"v\": 4}, {\"v\": 1}]}, {\"c\": [{\"v\": 148573}, {\"v\": 22}, {\"v\": 2.5}, {\"v\": 1}, {\"v\": 1}, {\"v\": 1}]}, {\"c\": [{\"v\": 70227}, {\"v\": 8}, {\"v\": 2.625}, {\"v\": 10}, {\"v\": 3}, {\"v\": 1}]}, {\"c\": [{\"v\": 25740}, {\"v\": 4}, {\"v\": 2.75}, {\"v\": 1}, {\"v\": 1}, {\"v\": 1}]}, {\"c\": [{\"v\": 199604}, {\"v\": 8}, {\"v\": 2.75}, {\"v\": 1}, {\"v\": 1}, {\"v\": 1}]}, {\"c\": [{\"v\": 114577}, {\"v\": 4}, {\"v\": 3.0}, {\"v\": 7}, {\"v\": 2}, {\"v\": 1}]}, {\"c\": [{\"v\": 78411}, {\"v\": 7}, {\"v\": 3.0}, {\"v\": 2}, {\"v\": 2}, {\"v\": 1}]}, {\"c\": [{\"v\": 5120}, {\"v\": 4}, {\"v\": 3.25}, {\"v\": 6}, {\"v\": 1}, {\"v\": 1}]}, {\"c\": [{\"v\": 78397}, {\"v\": 4}, {\"v\": 3.5}, {\"v\": 1}, {\"v\": 1}, {\"v\": 1}]}, {\"c\": [{\"v\": 165071}, {\"v\": 4}, {\"v\": 3.5}, {\"v\": 3}, {\"v\": 1}, {\"v\": 1}]}, {\"c\": [{\"v\": 113793}, {\"v\": 8}, {\"v\": 3.875}, {\"v\": 6}, {\"v\": 2}, {\"v\": 1}]}, {\"c\": [{\"v\": 20351}, {\"v\": 3}, {\"v\": 4.0}, {\"v\": 1}, {\"v\": 1}, {\"v\": 1}]}], \"cols\": [{\"type\": \"number\", \"id\": \"user_id\", \"label\": \"user_id\"}, {\"type\": \"number\", \"id\": \"num_orders\", \"label\": \"num_orders\"}, {\"type\": \"number\", \"id\": \"avg_days_bw_orders\", \"label\": \"avg_days_bw_orders\"}, {\"type\": \"number\", \"id\": \"num_products\", \"label\": \"num_products\"}, {\"type\": \"number\", \"id\": \"num_aisles\", \"label\": \"num_aisles\"}, {\"type\": \"number\", \"id\": \"num_departments\", \"label\": \"num_departments\"}]},\n",
       "            {\n",
       "              pageSize: 25,\n",
       "              cssClassNames:  {\n",
       "                tableRow: 'gchart-table-row',\n",
       "                headerRow: 'gchart-table-headerrow',\n",
       "                oddTableRow: 'gchart-table-oddrow',\n",
       "                selectedTableRow: 'gchart-table-selectedrow',\n",
       "                hoverTableRow: 'gchart-table-hoverrow',\n",
       "                tableCell: 'gchart-table-cell',\n",
       "                headerCell: 'gchart-table-headercell',\n",
       "                rowNumberCell: 'gchart-table-rownumcell'\n",
       "              }\n",
       "            },\n",
       "            {source_index: 3, fields: 'user_id,num_orders,avg_days_bw_orders,num_products,num_aisles,num_departments'},\n",
       "            0,\n",
       "            206209);\n",
       "        }\n",
       "      );\n",
       "    </script>\n",
       "  "
      ],
      "text/plain": [
       "QueryResultsTable job_39_TejRkquL8z6P-qn031nZY5vg"
      ]
     },
     "execution_count": 12,
     "metadata": {},
     "output_type": "execute_result"
    }
   ],
   "source": [
    "%%bq execute -q user_features_q -t instacart.user_features  -m overwrite"
   ]
  },
  {
   "cell_type": "markdown",
   "metadata": {},
   "source": [
    "## Product Features\n",
    "\n",
    "Some additional product-level features that we'll join in later"
   ]
  },
  {
   "cell_type": "code",
   "execution_count": 13,
   "metadata": {
    "collapsed": true
   },
   "outputs": [],
   "source": [
    "%%bq query -n product_features_q\n",
    "WITH up_features AS (\n",
    "  SELECT up.user_id, up.product_id,\n",
    "    up.num_orders, users.num_orders AS `num_orders_user`,\n",
    "    up.num_reorders, users.num_orders - up.first_order_number AS `num_reorders_user`,\n",
    "    users.days_bw_first_last_order AS `order_days`, users.days_bw_first_last_order - up.first_order_day AS `reorder_days`,\n",
    "    up.first_order_number, up.first_order_day\n",
    "  FROM instacart.user_products AS up\n",
    "  INNER JOIN instacart.users AS users ON up.user_id = users.user_id\n",
    ")\n",
    "\n",
    "SELECT up.product_id, products.aisle_id, products.department_id,\n",
    "  COUNT(DISTINCT user_id) / ANY_VALUE(num_users_total) AS `perc_users`,\n",
    "  SUM(num_orders) / SUM(num_orders_user) AS `perc_all_orders`,\n",
    "  SUM(num_reorders) / NULLIF(SUM(num_reorders_user),0) AS `perc_reorders`,\n",
    "  SUM(num_orders) / NULLIF(SUM(order_days),0) AS `orders_per_day`,\n",
    "  SUM(num_reorders) / NULLIF(SUM(reorder_days),0) AS `reorders_per_day`,\n",
    "  AVG(first_order_number) AS `avg_first_order_number`,\n",
    "  AVG(first_order_day) AS `avg_first_order_day`\n",
    "FROM up_features AS up\n",
    "INNER JOIN instacart.products AS products ON up.product_id = products.product_id\n",
    "INNER JOIN (\n",
    "  SELECT COUNT(DISTINCT user_id) AS num_users_total\n",
    "  FROM instacart.user_products\n",
    ") AS x ON 1=1\n",
    "GROUP BY 1,2,3"
   ]
  },
  {
   "cell_type": "code",
   "execution_count": 14,
   "metadata": {
    "collapsed": false
   },
   "outputs": [
    {
     "data": {
      "text/html": [
       "\n",
       "    <div class=\"bqtv\" id=\"6_149991385797\"><table><tr><th>product_id</th><th>aisle_id</th><th>department_id</th><th>perc_users</th><th>perc_all_orders</th><th>perc_reorders</th><th>orders_per_day</th><th>reorders_per_day</th><th>avg_first_order_number</th><th>avg_first_order_day</th></tr><tr><td>13603</td><td>1</td><td>20</td><td>0.00180884442483</td><td>0.110287106685</td><td>0.122523844461</td><td>0.0131101707723</td><td>0.0140401025684</td><td>10.6890080429</td><td>85.3243967828</td></tr><tr><td>32170</td><td>1</td><td>20</td><td>0.0007177184313</td><td>0.129846708747</td><td>0.160902255639</td><td>0.0163306966063</td><td>0.0200665760233</td><td>12.0</td><td>94.2027027027</td></tr><tr><td>49445</td><td>1</td><td>20</td><td>0.000615880005237</td><td>0.0685944855414</td><td>0.0635838150289</td><td>0.00837197849551</td><td>0.00725525299161</td><td>13.8818897638</td><td>108.299212598</td></tr><tr><td>27216</td><td>1</td><td>20</td><td>0.00201252127696</td><td>0.068531877559</td><td>0.0438489646772</td><td>0.00788894873867</td><td>0.00503135864153</td><td>8.89156626506</td><td>76.7975903614</td></tr><tr><td>37167</td><td>1</td><td>20</td><td>0.000843804101664</td><td>0.0771420438372</td><td>0.0428445229682</td><td>0.0080688382064</td><td>0.00451351728631</td><td>7.17816091954</td><td>69.5114942529</td></tr><tr><td>17302</td><td>1</td><td>20</td><td>0.000969889772027</td><td>0.0797872340426</td><td>0.0736961451247</td><td>0.00808447046718</td><td>0.00718113019941</td><td>11.86</td><td>113.58</td></tr><tr><td>554</td><td>1</td><td>20</td><td>0.00170215654991</td><td>0.161957618567</td><td>0.189634146341</td><td>0.0189118331517</td><td>0.0216603983842</td><td>8.5698005698</td><td>70.7122507123</td></tr><tr><td>31315</td><td>1</td><td>20</td><td>0.00131905008996</td><td>0.131355321907</td><td>0.156402737048</td><td>0.0157512953368</td><td>0.0185431998609</td><td>10.4816176471</td><td>85.9779411765</td></tr><tr><td>39518</td><td>1</td><td>20</td><td>0.000620729454098</td><td>0.0577791152573</td><td>0.0498442367601</td><td>0.0070432868672</td><td>0.005936369539</td><td>15.9296875</td><td>128.7421875</td></tr><tr><td>30763</td><td>1</td><td>20</td><td>0.000940793078867</td><td>0.0599653379549</td><td>0.0377264829983</td><td>0.00755887621794</td><td>0.00469759248385</td><td>8.97422680412</td><td>69.1597938144</td></tr><tr><td>42735</td><td>1</td><td>20</td><td>0.00225984316882</td><td>0.0962202704036</td><td>0.0957486832205</td><td>0.0101744792754</td><td>0.0101235108097</td><td>10.3369098712</td><td>97.7446351931</td></tr><tr><td>25965</td><td>1</td><td>20</td><td>0.00321518459427</td><td>0.127115920291</td><td>0.148540653231</td><td>0.015843871433</td><td>0.0182357206842</td><td>10.7933634992</td><td>84.467571644</td></tr><tr><td>1600</td><td>1</td><td>20</td><td>0.000378257011091</td><td>0.0887342322749</td><td>0.0981308411215</td><td>0.0110115513333</td><td>0.0118823085628</td><td>13.0128205128</td><td>101.564102564</td></tr><tr><td>22853</td><td>1</td><td>20</td><td>0.000305515278189</td><td>0.0979653353429</td><td>0.09396914446</td><td>0.0103784129012</td><td>0.0091367789445</td><td>9.74603174603</td><td>82.4285714286</td></tr><tr><td>19101</td><td>1</td><td>20</td><td>0.0013626951297</td><td>0.0690438034188</td><td>0.0668176670442</td><td>0.0083604197998</td><td>0.0081005011327</td><td>14.0782918149</td><td>116.387900356</td></tr><tr><td>5351</td><td>1</td><td>20</td><td>0.000819556857363</td><td>0.158227848101</td><td>0.176499752107</td><td>0.014601585315</td><td>0.0154206012302</td><td>7.69822485207</td><td>76.1479289941</td></tr><tr><td>40788</td><td>1</td><td>20</td><td>0.000664374493839</td><td>0.0861734552508</td><td>0.0921122286924</td><td>0.0103645937479</td><td>0.0113666056964</td><td>12.5547445255</td><td>107.284671533</td></tr><tr><td>5653</td><td>1</td><td>20</td><td>0.00157607087954</td><td>0.131247514252</td><td>0.161721789883</td><td>0.0152605860682</td><td>0.0186803000084</td><td>10.5569230769</td><td>90.0738461538</td></tr><tr><td>47885</td><td>1</td><td>20</td><td>0.00177004883395</td><td>0.112034472145</td><td>0.114057106997</td><td>0.0138763580914</td><td>0.0137840809981</td><td>9.24109589041</td><td>71.104109589</td></tr><tr><td>24070</td><td>1</td><td>20</td><td>0.000281268033888</td><td>0.0406141654284</td><td>0.0211827007944</td><td>0.00578238488118</td><td>0.00306044376435</td><td>15.275862069</td><td>109.293103448</td></tr><tr><td>209</td><td>1</td><td>20</td><td>0.000257020789587</td><td>0.0657354149548</td><td>0.0359520639148</td><td>0.00753224743433</td><td>0.00403647779937</td><td>8.79245283019</td><td>74.1886792453</td></tr><tr><td>14864</td><td>1</td><td>20</td><td>0.000489794334874</td><td>0.0897887323944</td><td>0.104356636272</td><td>0.010125577009</td><td>0.0114546263345</td><td>12.7227722772</td><td>110.445544554</td></tr><tr><td>48556</td><td>1</td><td>20</td><td>0.000290966931608</td><td>0.103200522534</td><td>0.0875</td><td>0.012555626192</td><td>0.0105037513398</td><td>6.85</td><td>54.2333333333</td></tr><tr><td>43037</td><td>1</td><td>20</td><td>0.00117356662415</td><td>0.0700749228735</td><td>0.0678994510257</td><td>0.00872890970977</td><td>0.00843230829954</td><td>13.826446281</td><td>110.648760331</td></tr><tr><td>20344</td><td>1</td><td>20</td><td>0.00128510394794</td><td>0.114303054825</td><td>0.118296529968</td><td>0.0115205024162</td><td>0.0115906193254</td><td>9.08301886792</td><td>87.3962264151</td></tr></table></div>\n",
       "    <br />(rows: 49677, time: 51.5s,   644MB processed, job: job_SCCUlQ0l7R-gjNVF4eDYdO3XqSA)<br />\n",
       "    <script>\n",
       "\n",
       "      require.config({\n",
       "        paths: {\n",
       "          d3: '//cdnjs.cloudflare.com/ajax/libs/d3/3.4.13/d3',\n",
       "          plotly: 'https://cdn.plot.ly/plotly-1.5.1.min.js?noext',\n",
       "          jquery: '//ajax.googleapis.com/ajax/libs/jquery/2.0.0/jquery.min'\n",
       "        },\n",
       "        map: {\n",
       "          '*': {\n",
       "            datalab: 'nbextensions/gcpdatalab'\n",
       "          }\n",
       "        },\n",
       "        shim: {\n",
       "          plotly: {\n",
       "            deps: ['d3', 'jquery'],\n",
       "            exports: 'plotly'\n",
       "          }\n",
       "        }\n",
       "      });\n",
       "\n",
       "      require(['datalab/charting', 'datalab/element!6_149991385797', 'base/js/events',\n",
       "          'datalab/style!/nbextensions/gcpdatalab/charting.css'],\n",
       "        function(charts, dom, events) {\n",
       "          charts.render('gcharts', dom, events, 'paged_table', [], {\"rows\": [{\"c\": [{\"v\": 13603}, {\"v\": 1}, {\"v\": 20}, {\"v\": 0.001808844424831118}, {\"v\": 0.1102871066850302}, {\"v\": 0.12252384446074835}, {\"v\": 0.013110170772253286}, {\"v\": 0.014040102568413973}, {\"v\": 10.689008042895443}, {\"v\": 85.32439678284183}]}, {\"c\": [{\"v\": 32170}, {\"v\": 1}, {\"v\": 20}, {\"v\": 0.0007177184313002827}, {\"v\": 0.12984670874661858}, {\"v\": 0.16090225563909774}, {\"v\": 0.01633069660627711}, {\"v\": 0.020066576023254724}, {\"v\": 11.999999999999998}, {\"v\": 94.20270270270271}]}, {\"c\": [{\"v\": 49445}, {\"v\": 1}, {\"v\": 20}, {\"v\": 0.0006158800052374048}, {\"v\": 0.06859448554135844}, {\"v\": 0.06358381502890173}, {\"v\": 0.008371978495506218}, {\"v\": 0.0072552529916140585}, {\"v\": 13.881889763779528}, {\"v\": 108.29921259842521}]}, {\"c\": [{\"v\": 27216}, {\"v\": 1}, {\"v\": 20}, {\"v\": 0.002012521276956874}, {\"v\": 0.06853187755897835}, {\"v\": 0.0438489646772229}, {\"v\": 0.007888948738665948}, {\"v\": 0.0050313586415331665}, {\"v\": 8.891566265060241}, {\"v\": 76.79759036144577}]}, {\"c\": [{\"v\": 37167}, {\"v\": 1}, {\"v\": 20}, {\"v\": 0.0008438041016638459}, {\"v\": 0.0771420438371762}, {\"v\": 0.04284452296819788}, {\"v\": 0.008068838206395522}, {\"v\": 0.0045135172863058955}, {\"v\": 7.17816091954023}, {\"v\": 69.51149425287356}]}, {\"c\": [{\"v\": 17302}, {\"v\": 1}, {\"v\": 20}, {\"v\": 0.000969889772027409}, {\"v\": 0.0797872340425532}, {\"v\": 0.07369614512471655}, {\"v\": 0.008084470467184399}, {\"v\": 0.0071811301994144615}, {\"v\": 11.859999999999994}, {\"v\": 113.58}]}, {\"c\": [{\"v\": 554}, {\"v\": 1}, {\"v\": 20}, {\"v\": 0.001702156549908103}, {\"v\": 0.16195761856710394}, {\"v\": 0.18963414634146342}, {\"v\": 0.018911833151677614}, {\"v\": 0.02166039838417607}, {\"v\": 8.56980056980057}, {\"v\": 70.71225071225071}]}, {\"c\": [{\"v\": 31315}, {\"v\": 1}, {\"v\": 20}, {\"v\": 0.0013190500899572764}, {\"v\": 0.13135532190695665}, {\"v\": 0.15640273704789834}, {\"v\": 0.015751295336787565}, {\"v\": 0.018543199860926}, {\"v\": 10.481617647058826}, {\"v\": 85.97794117647061}]}, {\"c\": [{\"v\": 39518}, {\"v\": 1}, {\"v\": 20}, {\"v\": 0.0006207294540975418}, {\"v\": 0.05777911525729762}, {\"v\": 0.04984423676012461}, {\"v\": 0.007043286867204695}, {\"v\": 0.005936369539003803}, {\"v\": 15.929687499999998}, {\"v\": 128.7421875}]}, {\"c\": [{\"v\": 30763}, {\"v\": 1}, {\"v\": 20}, {\"v\": 0.0009407930788665869}, {\"v\": 0.05996533795493934}, {\"v\": 0.037726482998262596}, {\"v\": 0.007558876217940315}, {\"v\": 0.004697592483852026}, {\"v\": 8.974226804123708}, {\"v\": 69.15979381443297}]}, {\"c\": [{\"v\": 42735}, {\"v\": 1}, {\"v\": 20}, {\"v\": 0.002259843168823863}, {\"v\": 0.0962202704036317}, {\"v\": 0.09574868322046652}, {\"v\": 0.010174479275368369}, {\"v\": 0.010123510809681975}, {\"v\": 10.336909871244632}, {\"v\": 97.74463519313305}]}, {\"c\": [{\"v\": 25965}, {\"v\": 1}, {\"v\": 20}, {\"v\": 0.003215184594270861}, {\"v\": 0.12711592029140775}, {\"v\": 0.1485406532314107}, {\"v\": 0.01584387143295899}, {\"v\": 0.01823572068421277}, {\"v\": 10.793363499245855}, {\"v\": 84.46757164404224}]}, {\"c\": [{\"v\": 1600}, {\"v\": 1}, {\"v\": 20}, {\"v\": 0.0003782570110906895}, {\"v\": 0.08873423227490213}, {\"v\": 0.09813084112149532}, {\"v\": 0.011011551333261363}, {\"v\": 0.011882308562806488}, {\"v\": 13.012820512820513}, {\"v\": 101.56410256410257}]}, {\"c\": [{\"v\": 22853}, {\"v\": 1}, {\"v\": 20}, {\"v\": 0.0003055152781886339}, {\"v\": 0.09796533534287867}, {\"v\": 0.09396914446002805}, {\"v\": 0.010378412901165576}, {\"v\": 0.009136778944497477}, {\"v\": 9.746031746031747}, {\"v\": 82.42857142857143}]}, {\"c\": [{\"v\": 19101}, {\"v\": 1}, {\"v\": 20}, {\"v\": 0.0013626951296985097}, {\"v\": 0.06904380341880342}, {\"v\": 0.06681766704416761}, {\"v\": 0.008360419799802713}, {\"v\": 0.008100501132697193}, {\"v\": 14.078291814946619}, {\"v\": 116.38790035587186}]}, {\"c\": [{\"v\": 5351}, {\"v\": 1}, {\"v\": 20}, {\"v\": 0.0008195568573631606}, {\"v\": 0.15822784810126583}, {\"v\": 0.17649975210708974}, {\"v\": 0.014601585314977055}, {\"v\": 0.015420601230182795}, {\"v\": 7.698224852071007}, {\"v\": 76.14792899408285}]}, {\"c\": [{\"v\": 40788}, {\"v\": 1}, {\"v\": 20}, {\"v\": 0.0006643744938387752}, {\"v\": 0.08617345525076199}, {\"v\": 0.09211222869242985}, {\"v\": 0.010364593747917083}, {\"v\": 0.011366605696367911}, {\"v\": 12.554744525547449}, {\"v\": 107.28467153284672}]}, {\"c\": [{\"v\": 5653}, {\"v\": 1}, {\"v\": 20}, {\"v\": 0.0015760708795445398}, {\"v\": 0.131247514251624}, {\"v\": 0.1617217898832685}, {\"v\": 0.015260586068163952}, {\"v\": 0.018680300008427204}, {\"v\": 10.556923076923077}, {\"v\": 90.07384615384616}]}, {\"c\": [{\"v\": 47885}, {\"v\": 1}, {\"v\": 20}, {\"v\": 0.0017700488339500216}, {\"v\": 0.11203447214527547}, {\"v\": 0.11405710699717603}, {\"v\": 0.013876358091365398}, {\"v\": 0.013784080998066058}, {\"v\": 9.241095890410957}, {\"v\": 71.1041095890411}]}, {\"c\": [{\"v\": 24070}, {\"v\": 1}, {\"v\": 20}, {\"v\": 0.00028126803388794864}, {\"v\": 0.04061416542842992}, {\"v\": 0.02118270079435128}, {\"v\": 0.005782384881179043}, {\"v\": 0.00306044376434583}, {\"v\": 15.27586206896552}, {\"v\": 109.29310344827586}]}, {\"c\": [{\"v\": 209}, {\"v\": 1}, {\"v\": 20}, {\"v\": 0.0002570207895872634}, {\"v\": 0.0657354149548069}, {\"v\": 0.03595206391478029}, {\"v\": 0.007532247434328218}, {\"v\": 0.004036477799372103}, {\"v\": 8.79245283018868}, {\"v\": 74.18867924528301}]}, {\"c\": [{\"v\": 14864}, {\"v\": 1}, {\"v\": 20}, {\"v\": 0.0004897943348738415}, {\"v\": 0.0897887323943662}, {\"v\": 0.10435663627152988}, {\"v\": 0.010125577008983968}, {\"v\": 0.011454626334519573}, {\"v\": 12.722772277227723}, {\"v\": 110.44554455445542}]}, {\"c\": [{\"v\": 48556}, {\"v\": 1}, {\"v\": 20}, {\"v\": 0.0002909669316082227}, {\"v\": 0.10320052253429131}, {\"v\": 0.0875}, {\"v\": 0.012555626191989829}, {\"v\": 0.010503751339764202}, {\"v\": 6.849999999999999}, {\"v\": 54.233333333333334}]}, {\"c\": [{\"v\": 43037}, {\"v\": 1}, {\"v\": 20}, {\"v\": 0.001173566624153165}, {\"v\": 0.07007492287351257}, {\"v\": 0.06789945102571511}, {\"v\": 0.008728909709768327}, {\"v\": 0.008432308299544297}, {\"v\": 13.826446280991735}, {\"v\": 110.64876033057854}]}, {\"c\": [{\"v\": 20344}, {\"v\": 1}, {\"v\": 20}, {\"v\": 0.001285103947936317}, {\"v\": 0.11430305482500505}, {\"v\": 0.11829652996845426}, {\"v\": 0.011520502416246968}, {\"v\": 0.011590619325425955}, {\"v\": 9.08301886792453}, {\"v\": 87.39622641509435}]}], \"cols\": [{\"type\": \"number\", \"id\": \"product_id\", \"label\": \"product_id\"}, {\"type\": \"number\", \"id\": \"aisle_id\", \"label\": \"aisle_id\"}, {\"type\": \"number\", \"id\": \"department_id\", \"label\": \"department_id\"}, {\"type\": \"number\", \"id\": \"perc_users\", \"label\": \"perc_users\"}, {\"type\": \"number\", \"id\": \"perc_all_orders\", \"label\": \"perc_all_orders\"}, {\"type\": \"number\", \"id\": \"perc_reorders\", \"label\": \"perc_reorders\"}, {\"type\": \"number\", \"id\": \"orders_per_day\", \"label\": \"orders_per_day\"}, {\"type\": \"number\", \"id\": \"reorders_per_day\", \"label\": \"reorders_per_day\"}, {\"type\": \"number\", \"id\": \"avg_first_order_number\", \"label\": \"avg_first_order_number\"}, {\"type\": \"number\", \"id\": \"avg_first_order_day\", \"label\": \"avg_first_order_day\"}]},\n",
       "            {\n",
       "              pageSize: 25,\n",
       "              cssClassNames:  {\n",
       "                tableRow: 'gchart-table-row',\n",
       "                headerRow: 'gchart-table-headerrow',\n",
       "                oddTableRow: 'gchart-table-oddrow',\n",
       "                selectedTableRow: 'gchart-table-selectedrow',\n",
       "                hoverTableRow: 'gchart-table-hoverrow',\n",
       "                tableCell: 'gchart-table-cell',\n",
       "                headerCell: 'gchart-table-headercell',\n",
       "                rowNumberCell: 'gchart-table-rownumcell'\n",
       "              }\n",
       "            },\n",
       "            {source_index: 4, fields: 'product_id,aisle_id,department_id,perc_users,perc_all_orders,perc_reorders,orders_per_day,reorders_per_day,avg_first_order_number,avg_first_order_day'},\n",
       "            0,\n",
       "            49677);\n",
       "        }\n",
       "      );\n",
       "    </script>\n",
       "  "
      ],
      "text/plain": [
       "QueryResultsTable job_SCCUlQ0l7R-gjNVF4eDYdO3XqSA"
      ]
     },
     "execution_count": 14,
     "metadata": {},
     "output_type": "execute_result"
    }
   ],
   "source": [
    "%%bq execute -q product_features_q -t instacart.product_features  -m overwrite"
   ]
  },
  {
   "cell_type": "markdown",
   "metadata": {},
   "source": [
    "## Time-of-Day Features\n",
    "\n",
    "For each aisle/department (aisles roll up into departments), compute how much more likely to purchase at that time of day"
   ]
  },
  {
   "cell_type": "code",
   "execution_count": 15,
   "metadata": {
    "collapsed": true
   },
   "outputs": [],
   "source": [
    "%%bq query -n tod_features_q\n",
    "WITH temp AS (\n",
    "  SELECT orders.order_hour_of_day, orders.order_dow, products.aisle_id, products.department_id, COUNT(*) AS `n_product`\n",
    "  FROM instacart.order_products__prior AS op\n",
    "  INNER JOIN instacart.orders AS orders ON orders.order_id = op.order_id\n",
    "  INNER JOIN instacart.products AS products ON op.product_id = products.product_id\n",
    "  GROUP BY 1,2,3,4\n",
    ")\n",
    "SELECT order_hour_of_day, order_dow, aisle_id,\n",
    "  n_aisle / n_aisle_total / (n_hod_dow / n_total) AS `aisle_tod_factor`,\n",
    "  n_department / n_department_total / (n_hod_dow / n_total) AS `department_tod_factor`\n",
    "FROM (\n",
    "  SELECT order_hour_of_day, order_dow, aisle_id, department_id,\n",
    "  SUM(n_product) OVER (PARTITION BY order_hour_of_day, order_dow, aisle_id) AS `n_aisle`,\n",
    "  SUM(n_product) OVER (PARTITION BY aisle_id) AS `n_aisle_total`,\n",
    "  SUM(n_product) OVER (PARTITION BY order_hour_of_day, order_dow, department_id) AS `n_department`,\n",
    "  SUM(n_product) OVER (PARTITION BY department_id) AS `n_department_total`,\n",
    "  SUM(n_product) OVER (PARTITION BY order_hour_of_day, order_dow) AS `n_hod_dow`,\n",
    "  SUM(n_product) OVER () AS `n_total`\n",
    "  FROM temp  \n",
    ") AS x"
   ]
  },
  {
   "cell_type": "code",
   "execution_count": 16,
   "metadata": {
    "collapsed": false
   },
   "outputs": [
    {
     "data": {
      "text/html": [
       "\n",
       "    <div class=\"bqtv\" id=\"7_149991386808\"><table><tr><th>order_hour_of_day</th><th>order_dow</th><th>aisle_id</th><th>aisle_tod_factor</th><th>department_tod_factor</th></tr><tr><td>0</td><td>0</td><td>114</td><td>0.83094723151</td><td>0.870826738174</td></tr><tr><td>0</td><td>0</td><td>126</td><td>0.802501815989</td><td>0.983352194461</td></tr><tr><td>0</td><td>1</td><td>86</td><td>0.952903778856</td><td>0.982223553792</td></tr><tr><td>0</td><td>1</td><td>5</td><td>0.89474601281</td><td>0.971960693812</td></tr><tr><td>0</td><td>1</td><td>90</td><td>0.659123376788</td><td>0.954438571069</td></tr><tr><td>0</td><td>2</td><td>113</td><td>1.11710059668</td><td>0.99193337373</td></tr><tr><td>0</td><td>2</td><td>59</td><td>0.930576361861</td><td>1.06288044056</td></tr><tr><td>0</td><td>2</td><td>66</td><td>1.20395721813</td><td>1.13961578321</td></tr><tr><td>0</td><td>3</td><td>67</td><td>0.960753952694</td><td>0.946055431391</td></tr><tr><td>0</td><td>4</td><td>112</td><td>0.841346354697</td><td>0.81730146075</td></tr><tr><td>0</td><td>4</td><td>126</td><td>1.85994940341</td><td>1.22079427132</td></tr><tr><td>0</td><td>5</td><td>10</td><td>1.7968752216</td><td>1.07096454631</td></tr><tr><td>0</td><td>5</td><td>36</td><td>1.04119568028</td><td>0.922572708994</td></tr><tr><td>0</td><td>5</td><td>59</td><td>0.991772345232</td><td>0.999912815322</td></tr><tr><td>0</td><td>6</td><td>98</td><td>1.02469570638</td><td>0.992531828953</td></tr><tr><td>0</td><td>6</td><td>119</td><td>1.18080546376</td><td>1.08307231914</td></tr><tr><td>0</td><td>6</td><td>49</td><td>0.980552700631</td><td>1.09258931749</td></tr><tr><td>1</td><td>0</td><td>70</td><td>1.17892818855</td><td>1.14657854439</td></tr><tr><td>1</td><td>0</td><td>46</td><td>0.953093528709</td><td>0.825869908922</td></tr><tr><td>1</td><td>0</td><td>109</td><td>1.55850734016</td><td>1.14657854439</td></tr><tr><td>1</td><td>0</td><td>56</td><td>0.702325925126</td><td>0.48250983027</td></tr><tr><td>1</td><td>0</td><td>10</td><td>1.25604952666</td><td>0.974771264896</td></tr><tr><td>1</td><td>0</td><td>106</td><td>1.00823807042</td><td>1.0948777267</td></tr><tr><td>1</td><td>0</td><td>123</td><td>1.05884842826</td><td>1.07237862645</td></tr><tr><td>1</td><td>1</td><td>86</td><td>0.952774258972</td><td>0.952849614417</td></tr></table></div>\n",
       "    <br />(rows: 22478, time: 8.7s,   602MB processed, job: job_7Usr7tyIm52ohxWD-fVtGzs7uOc)<br />\n",
       "    <script>\n",
       "\n",
       "      require.config({\n",
       "        paths: {\n",
       "          d3: '//cdnjs.cloudflare.com/ajax/libs/d3/3.4.13/d3',\n",
       "          plotly: 'https://cdn.plot.ly/plotly-1.5.1.min.js?noext',\n",
       "          jquery: '//ajax.googleapis.com/ajax/libs/jquery/2.0.0/jquery.min'\n",
       "        },\n",
       "        map: {\n",
       "          '*': {\n",
       "            datalab: 'nbextensions/gcpdatalab'\n",
       "          }\n",
       "        },\n",
       "        shim: {\n",
       "          plotly: {\n",
       "            deps: ['d3', 'jquery'],\n",
       "            exports: 'plotly'\n",
       "          }\n",
       "        }\n",
       "      });\n",
       "\n",
       "      require(['datalab/charting', 'datalab/element!7_149991386808', 'base/js/events',\n",
       "          'datalab/style!/nbextensions/gcpdatalab/charting.css'],\n",
       "        function(charts, dom, events) {\n",
       "          charts.render('gcharts', dom, events, 'paged_table', [], {\"rows\": [{\"c\": [{\"v\": 0}, {\"v\": 0}, {\"v\": 114}, {\"v\": 0.8309472315103263}, {\"v\": 0.8708267381739208}]}, {\"c\": [{\"v\": 0}, {\"v\": 0}, {\"v\": 126}, {\"v\": 0.802501815989045}, {\"v\": 0.9833521944613918}]}, {\"c\": [{\"v\": 0}, {\"v\": 1}, {\"v\": 86}, {\"v\": 0.9529037788560994}, {\"v\": 0.9822235537923402}]}, {\"c\": [{\"v\": 0}, {\"v\": 1}, {\"v\": 5}, {\"v\": 0.8947460128101764}, {\"v\": 0.9719606938121073}]}, {\"c\": [{\"v\": 0}, {\"v\": 1}, {\"v\": 90}, {\"v\": 0.6591233767884903}, {\"v\": 0.954438571069251}]}, {\"c\": [{\"v\": 0}, {\"v\": 2}, {\"v\": 113}, {\"v\": 1.1171005966812948}, {\"v\": 0.9919333737301724}]}, {\"c\": [{\"v\": 0}, {\"v\": 2}, {\"v\": 59}, {\"v\": 0.9305763618614522}, {\"v\": 1.062880440555093}]}, {\"c\": [{\"v\": 0}, {\"v\": 2}, {\"v\": 66}, {\"v\": 1.2039572181282296}, {\"v\": 1.1396157832087246}]}, {\"c\": [{\"v\": 0}, {\"v\": 3}, {\"v\": 67}, {\"v\": 0.9607539526939338}, {\"v\": 0.9460554313910108}]}, {\"c\": [{\"v\": 0}, {\"v\": 4}, {\"v\": 112}, {\"v\": 0.8413463546972195}, {\"v\": 0.8173014607496386}]}, {\"c\": [{\"v\": 0}, {\"v\": 4}, {\"v\": 126}, {\"v\": 1.859949403409956}, {\"v\": 1.2207942713168136}]}, {\"c\": [{\"v\": 0}, {\"v\": 5}, {\"v\": 10}, {\"v\": 1.796875221600559}, {\"v\": 1.070964546305063}]}, {\"c\": [{\"v\": 0}, {\"v\": 5}, {\"v\": 36}, {\"v\": 1.0411956802828486}, {\"v\": 0.9225727089938092}]}, {\"c\": [{\"v\": 0}, {\"v\": 5}, {\"v\": 59}, {\"v\": 0.9917723452318316}, {\"v\": 0.9999128153221241}]}, {\"c\": [{\"v\": 0}, {\"v\": 6}, {\"v\": 98}, {\"v\": 1.024695706375637}, {\"v\": 0.9925318289530984}]}, {\"c\": [{\"v\": 0}, {\"v\": 6}, {\"v\": 119}, {\"v\": 1.1808054637649827}, {\"v\": 1.083072319139985}]}, {\"c\": [{\"v\": 0}, {\"v\": 6}, {\"v\": 49}, {\"v\": 0.9805527006307453}, {\"v\": 1.0925893174879662}]}, {\"c\": [{\"v\": 1}, {\"v\": 0}, {\"v\": 70}, {\"v\": 1.178928188548027}, {\"v\": 1.1465785443890468}]}, {\"c\": [{\"v\": 1}, {\"v\": 0}, {\"v\": 46}, {\"v\": 0.9530935287094611}, {\"v\": 0.8258699089219939}]}, {\"c\": [{\"v\": 1}, {\"v\": 0}, {\"v\": 109}, {\"v\": 1.5585073401638692}, {\"v\": 1.1465785443890468}]}, {\"c\": [{\"v\": 1}, {\"v\": 0}, {\"v\": 56}, {\"v\": 0.7023259251264776}, {\"v\": 0.48250983027031713}]}, {\"c\": [{\"v\": 1}, {\"v\": 0}, {\"v\": 10}, {\"v\": 1.2560495266562712}, {\"v\": 0.9747712648960525}]}, {\"c\": [{\"v\": 1}, {\"v\": 0}, {\"v\": 106}, {\"v\": 1.0082380704213667}, {\"v\": 1.094877726698159}]}, {\"c\": [{\"v\": 1}, {\"v\": 0}, {\"v\": 123}, {\"v\": 1.058848428261853}, {\"v\": 1.0723786264538433}]}, {\"c\": [{\"v\": 1}, {\"v\": 1}, {\"v\": 86}, {\"v\": 0.9527742589715864}, {\"v\": 0.9528496144166316}]}], \"cols\": [{\"type\": \"number\", \"id\": \"order_hour_of_day\", \"label\": \"order_hour_of_day\"}, {\"type\": \"number\", \"id\": \"order_dow\", \"label\": \"order_dow\"}, {\"type\": \"number\", \"id\": \"aisle_id\", \"label\": \"aisle_id\"}, {\"type\": \"number\", \"id\": \"aisle_tod_factor\", \"label\": \"aisle_tod_factor\"}, {\"type\": \"number\", \"id\": \"department_tod_factor\", \"label\": \"department_tod_factor\"}]},\n",
       "            {\n",
       "              pageSize: 25,\n",
       "              cssClassNames:  {\n",
       "                tableRow: 'gchart-table-row',\n",
       "                headerRow: 'gchart-table-headerrow',\n",
       "                oddTableRow: 'gchart-table-oddrow',\n",
       "                selectedTableRow: 'gchart-table-selectedrow',\n",
       "                hoverTableRow: 'gchart-table-hoverrow',\n",
       "                tableCell: 'gchart-table-cell',\n",
       "                headerCell: 'gchart-table-headercell',\n",
       "                rowNumberCell: 'gchart-table-rownumcell'\n",
       "              }\n",
       "            },\n",
       "            {source_index: 5, fields: 'order_hour_of_day,order_dow,aisle_id,aisle_tod_factor,department_tod_factor'},\n",
       "            0,\n",
       "            22478);\n",
       "        }\n",
       "      );\n",
       "    </script>\n",
       "  "
      ],
      "text/plain": [
       "QueryResultsTable job_7Usr7tyIm52ohxWD-fVtGzs7uOc"
      ]
     },
     "execution_count": 16,
     "metadata": {},
     "output_type": "execute_result"
    }
   ],
   "source": [
    "%%bq execute -q tod_features_q -t instacart.tod_features  -m overwrite"
   ]
  },
  {
   "cell_type": "markdown",
   "metadata": {},
   "source": [
    "## Model Universe\n",
    "\n",
    "Assemble model universe with all features"
   ]
  },
  {
   "cell_type": "code",
   "execution_count": 17,
   "metadata": {
    "collapsed": true
   },
   "outputs": [],
   "source": [
    "%%bq query -n reorder_model_universe_q\n",
    "SELECT\n",
    "upf.user_id,\n",
    "upf.product_id,\n",
    "pf.aisle_id,\n",
    "pf.department_id,\n",
    "upf.order_id,\n",
    "upf.eval_set,\n",
    "upf.order_hour_of_day,\n",
    "upf.order_dow,\n",
    "upf.is_ordered,\n",
    "upf.perc_all_orders AS `upf_perc_all_orders`,\n",
    "upf.perc_reorder AS `upf_perc_reorder`,\n",
    "upf.orders_per_day AS `upf_orders_per_day`,\n",
    "upf.reorders_per_day AS `upf_reorders_per_day`,\n",
    "upf.first_order_number AS `upf_first_order_number`,\n",
    "upf.first_order_day AS `upf_first_order_day`,\n",
    "upf.last_order_number AS `upf_last_order_number`,\n",
    "upf.last_order_day AS `upf_last_order_day`,\n",
    "upf.days_since_last_order AS `upf_days_since_last_order`,\n",
    "upf.orders_since_last_order AS `upf_orders_since_last_order`,\n",
    "uf.num_orders AS `uf_num_orders`,\n",
    "uf.avg_days_bw_orders AS `uf_avg_days_bw_orders`,\n",
    "uf.num_products AS `uf_num_products`,\n",
    "uf.num_aisles AS `uf_num_aisles`,\n",
    "uf.num_departments AS `uf_num_departments`,\n",
    "pf.perc_users AS `pf_perc_users`,\n",
    "pf.perc_all_orders AS `pf_perc_all_orders`,\n",
    "pf.perc_reorders AS `pf_perc_reorders`,\n",
    "pf.orders_per_day AS `pf_orders_per_day`,\n",
    "pf.reorders_per_day AS `pf_reorders_per_day`,\n",
    "pf.avg_first_order_number AS `pf_avg_first_order_number`,\n",
    "pf.avg_first_order_day AS `pf_avg_first_order_day`,\n",
    "tf.aisle_tod_factor AS `tf_aisle_tod_factor`,\n",
    "tf.department_tod_factor AS `tf_department_tod_factor`\n",
    "FROM instacart.user_products_features AS upf\n",
    "INNER JOIN instacart.user_features AS uf ON upf.user_id = uf.user_id\n",
    "INNER JOIN instacart.product_features AS pf ON upf.product_id = pf.product_id\n",
    "LEFT JOIN instacart.tod_features AS tf ON pf.aisle_id = tf.aisle_id AND upf.order_hour_of_day = tf.order_hour_of_day AND upf.order_dow = tf.order_dow"
   ]
  },
  {
   "cell_type": "code",
   "execution_count": 18,
   "metadata": {
    "collapsed": false
   },
   "outputs": [
    {
     "data": {
      "text/html": [
       "\n",
       "    <div class=\"bqtv\" id=\"8_149991394487\"><table><tr><th>user_id</th><th>product_id</th><th>aisle_id</th><th>department_id</th><th>order_id</th><th>eval_set</th><th>order_hour_of_day</th><th>order_dow</th><th>is_ordered</th><th>upf_perc_all_orders</th><th>upf_perc_reorder</th><th>upf_orders_per_day</th><th>upf_reorders_per_day</th><th>upf_first_order_number</th><th>upf_first_order_day</th><th>upf_last_order_number</th><th>upf_last_order_day</th><th>upf_days_since_last_order</th><th>upf_orders_since_last_order</th><th>uf_num_orders</th><th>uf_avg_days_bw_orders</th><th>uf_num_products</th><th>uf_num_aisles</th><th>uf_num_departments</th><th>pf_perc_users</th><th>pf_perc_all_orders</th><th>pf_perc_reorders</th><th>pf_orders_per_day</th><th>pf_reorders_per_day</th><th>pf_avg_first_order_number</th><th>pf_avg_first_order_day</th><th>tf_aisle_tod_factor</th><th>tf_department_tod_factor</th></tr><tr><td>87170</td><td>9689</td><td>81</td><td>15</td><td>819541</td><td>test</td><td>12</td><td>2</td><td>&nbsp;</td><td>0.0120481927711</td><td>0.0</td><td>0.00274725274725</td><td>0.0</td><td>48</td><td>227.0</td><td>48</td><td>227.0</td><td>138.0</td><td>37</td><td>83</td><td>4.38554216867</td><td>196</td><td>36</td><td>12</td><td>0.00560596288232</td><td>0.129690754687</td><td>0.145664332141</td><td>0.0157248099967</td><td>0.0174973520956</td><td>9.82525951557</td><td>79.705017301</td><td>1.0093192837</td><td>1.02195520688</td></tr><tr><td>41698</td><td>34386</td><td>61</td><td>19</td><td>3012314</td><td>test</td><td>18</td><td>4</td><td>&nbsp;</td><td>0.0117647058824</td><td>0.0</td><td>0.00276243093923</td><td>0.0</td><td>47</td><td>197.0</td><td>47</td><td>197.0</td><td>168.0</td><td>40</td><td>85</td><td>4.25882352941</td><td>347</td><td>61</td><td>14</td><td>0.00288057262292</td><td>0.102346190165</td><td>0.103347704793</td><td>0.0114586383006</td><td>0.0113012368961</td><td>9.90067340067</td><td>85.6026936027</td><td>1.20658026976</td><td>1.02070598931</td></tr><tr><td>120166</td><td>25758</td><td>94</td><td>7</td><td>655374</td><td>test</td><td>14</td><td>5</td><td>&nbsp;</td><td>0.025</td><td>0.0208333333333</td><td>0.00555555555556</td><td>0.0049504950495</td><td>32</td><td>158.0</td><td>49</td><td>234.0</td><td>129.0</td><td>33</td><td>80</td><td>4.5</td><td>258</td><td>62</td><td>15</td><td>0.000688621738139</td><td>0.0723163841808</td><td>0.067887109077</td><td>0.00935864065744</td><td>0.00876372409039</td><td>12.6971830986</td><td>97.7605633803</td><td>1.12379807508</td><td>1.09570368651</td></tr><tr><td>59161</td><td>248</td><td>117</td><td>19</td><td>2440858</td><td>test</td><td>7</td><td>0</td><td>&nbsp;</td><td>0.010752688172</td><td>0.0</td><td>0.00285714285714</td><td>0.0</td><td>43</td><td>162.0</td><td>43</td><td>162.0</td><td>192.0</td><td>52</td><td>93</td><td>3.76344086022</td><td>107</td><td>30</td><td>12</td><td>0.0185297440946</td><td>0.0583414223183</td><td>0.0409250670048</td><td>0.00726081258191</td><td>0.00502263138613</td><td>12.2724417692</td><td>96.7673383931</td><td>0.898852883868</td><td>0.838267281903</td></tr><tr><td>115553</td><td>27478</td><td>126</td><td>11</td><td>2548573</td><td>test</td><td>7</td><td>0</td><td>&nbsp;</td><td>0.0102040816327</td><td>0.0</td><td>0.00294117647059</td><td>0.0</td><td>49</td><td>277.0</td><td>49</td><td>277.0</td><td>66.0</td><td>51</td><td>98</td><td>3.4693877551</td><td>225</td><td>59</td><td>18</td><td>0.000538288823475</td><td>0.0579483163665</td><td>0.0303278688525</td><td>0.00655679603048</td><td>0.00296997912988</td><td>12.018018018</td><td>91.1171171171</td><td>0.947825581233</td><td>0.928820132326</td></tr><tr><td>170588</td><td>35951</td><td>91</td><td>16</td><td>2981874</td><td>test</td><td>10</td><td>5</td><td>&nbsp;</td><td>0.0121951219512</td><td>0.0</td><td>0.00275482093664</td><td>0.0</td><td>52</td><td>254.0</td><td>52</td><td>254.0</td><td>109.0</td><td>32</td><td>82</td><td>4.42682926829</td><td>152</td><td>47</td><td>16</td><td>0.0679892730191</td><td>0.164055437958</td><td>0.191618989387</td><td>0.0197014110695</td><td>0.0226590900523</td><td>8.83944365193</td><td>71.4916547789</td><td>1.00621562588</td><td>1.03854704559</td></tr><tr><td>155243</td><td>14678</td><td>116</td><td>1</td><td>146880</td><td>test</td><td>20</td><td>5</td><td>&nbsp;</td><td>0.010989010989</td><td>0.0</td><td>0.00280898876404</td><td>0.0</td><td>55</td><td>196.0</td><td>55</td><td>196.0</td><td>166.0</td><td>38</td><td>91</td><td>3.91208791209</td><td>274</td><td>71</td><td>16</td><td>0.0428400312305</td><td>0.0791296830197</td><td>0.07423526729</td><td>0.0100881793051</td><td>0.00940848894416</td><td>11.5628254471</td><td>89.8896309712</td><td>1.09535166465</td><td>1.12959672378</td></tr><tr><td>122215</td><td>10749</td><td>83</td><td>4</td><td>2742672</td><td>test</td><td>11</td><td>6</td><td>&nbsp;</td><td>0.0108695652174</td><td>0.0</td><td>0.00275482093664</td><td>0.0</td><td>49</td><td>257.0</td><td>49</td><td>257.0</td><td>108.0</td><td>45</td><td>92</td><td>3.94565217391</td><td>155</td><td>48</td><td>17</td><td>0.0946466934033</td><td>0.111751772457</td><td>0.114372125108</td><td>0.0135920612999</td><td>0.0138147589567</td><td>9.3472357432</td><td>75.8795921504</td><td>1.10022567096</td><td>1.02044850726</td></tr><tr><td>103604</td><td>4461</td><td>19</td><td>13</td><td>2582506</td><td>test</td><td>12</td><td>0</td><td>&nbsp;</td><td>0.0125</td><td>0.0</td><td>0.00353356890459</td><td>0.0</td><td>46</td><td>157.0</td><td>46</td><td>157.0</td><td>127.0</td><td>36</td><td>80</td><td>3.5375</td><td>126</td><td>39</td><td>12</td><td>0.0302217652964</td><td>0.0479063751716</td><td>0.0236382992591</td><td>0.00612338831371</td><td>0.00300033643478</td><td>13.3913671374</td><td>103.954428755</td><td>1.06638986875</td><td>1.03128524474</td></tr><tr><td>159183</td><td>44904</td><td>104</td><td>13</td><td>743561</td><td>test</td><td>22</td><td>6</td><td>&nbsp;</td><td>0.0111111111111</td><td>0.0</td><td>0.00277008310249</td><td>0.0</td><td>41</td><td>162.0</td><td>41</td><td>162.0</td><td>202.0</td><td>51</td><td>90</td><td>4.01111111111</td><td>287</td><td>79</td><td>16</td><td>0.00396684916759</td><td>0.0498920974206</td><td>0.0150412898152</td><td>0.00578806502185</td><td>0.00168037693161</td><td>11.3569682152</td><td>93.7750611247</td><td>1.09942488271</td><td>1.01471700969</td></tr><tr><td>80232</td><td>46906</td><td>24</td><td>4</td><td>2986137</td><td>test</td><td>9</td><td>3</td><td>&nbsp;</td><td>0.162790697674</td><td>0.158536585366</td><td>0.04</td><td>0.0386904761905</td><td>4</td><td>14.0</td><td>57</td><td>236.0</td><td>119.0</td><td>31</td><td>86</td><td>4.06976744186</td><td>315</td><td>79</td><td>18</td><td>0.0630573835284</td><td>0.115124086815</td><td>0.12559975236</td><td>0.0137489451298</td><td>0.0146743119862</td><td>10.1331231254</td><td>81.8925632546</td><td>1.02194156863</td><td>0.936485641318</td></tr><tr><td>131125</td><td>49131</td><td>96</td><td>20</td><td>2192946</td><td>test</td><td>8</td><td>6</td><td>&nbsp;</td><td>0.218390804598</td><td>0.211764705882</td><td>0.0529247910864</td><td>0.0524781341108</td><td>2</td><td>16.0</td><td>58</td><td>255.0</td><td>107.0</td><td>31</td><td>87</td><td>4.12643678161</td><td>259</td><td>84</td><td>19</td><td>0.0211872420699</td><td>0.0952464719909</td><td>0.0847679404717</td><td>0.0107799717725</td><td>0.00940538120043</td><td>8.90180819409</td><td>76.0791943236</td><td>0.973253683663</td><td>0.95101359362</td></tr><tr><td>66252</td><td>18523</td><td>120</td><td>16</td><td>3244761</td><td>test</td><td>10</td><td>3</td><td>&nbsp;</td><td>0.0114942528736</td><td>0.0</td><td>0.00280112044818</td><td>0.0</td><td>58</td><td>262.0</td><td>58</td><td>262.0</td><td>97.0</td><td>31</td><td>87</td><td>4.10344827586</td><td>301</td><td>47</td><td>13</td><td>0.0301975180521</td><td>0.152327165474</td><td>0.170164727799</td><td>0.0176186855668</td><td>0.0191867739461</td><td>8.42219367272</td><td>69.2779829774</td><td>1.06857297279</td><td>1.02664302473</td></tr><tr><td>186497</td><td>28348</td><td>59</td><td>15</td><td>1769182</td><td>test</td><td>8</td><td>4</td><td>&nbsp;</td><td>0.0133333333333</td><td>0.0</td><td>0.00287356321839</td><td>0.0</td><td>45</td><td>197.0</td><td>45</td><td>197.0</td><td>163.0</td><td>32</td><td>75</td><td>4.64</td><td>168</td><td>58</td><td>16</td><td>0.00222104757794</td><td>0.056856187291</td><td>0.0364941212399</td><td>0.00687912673582</td><td>0.0042940045635</td><td>12.4672489083</td><td>99.6986899563</td><td>0.829998177528</td><td>0.902037887637</td></tr><tr><td>46321</td><td>9387</td><td>24</td><td>4</td><td>14098</td><td>test</td><td>15</td><td>0</td><td>&nbsp;</td><td>0.025974025974</td><td>0.0204081632653</td><td>0.00558659217877</td><td>0.0042735042735</td><td>28</td><td>124.0</td><td>40</td><td>171.0</td><td>194.0</td><td>39</td><td>77</td><td>4.64935064935</td><td>206</td><td>58</td><td>14</td><td>0.0613455280807</td><td>0.120532130688</td><td>0.126772701077</td><td>0.0140939092828</td><td>0.0145948060919</td><td>9.05644268775</td><td>75.4834782609</td><td>1.02028404641</td><td>1.07021163447</td></tr><tr><td>51867</td><td>11629</td><td>14</td><td>20</td><td>3070638</td><td>test</td><td>9</td><td>0</td><td>&nbsp;</td><td>0.0106382978723</td><td>0.0</td><td>0.00279329608939</td><td>0.0</td><td>43</td><td>182.0</td><td>43</td><td>182.0</td><td>182.0</td><td>53</td><td>94</td><td>3.8085106383</td><td>350</td><td>71</td><td>15</td><td>0.00659040100093</td><td>0.0858282189476</td><td>0.0800550521849</td><td>0.00974358974359</td><td>0.00903635904639</td><td>10.7880794702</td><td>94.3804267844</td><td>1.03827675216</td><td>1.00189586585</td></tr><tr><td>77788</td><td>13304</td><td>81</td><td>15</td><td>3145294</td><td>test</td><td>11</td><td>6</td><td>&nbsp;</td><td>0.0487804878049</td><td>0.0405405405405</td><td>0.0160642570281</td><td>0.0133928571429</td><td>8</td><td>25.0</td><td>43</td><td>141.0</td><td>109.0</td><td>41</td><td>82</td><td>3.03658536585</td><td>360</td><td>67</td><td>17</td><td>0.00827800920425</td><td>0.0635026737968</td><td>0.0449443501226</td><td>0.0074607818114</td><td>0.00504563840827</td><td>12.1171646163</td><td>98.216168717</td><td>1.22691538743</td><td>1.15804683256</td></tr><tr><td>94786</td><td>1552</td><td>45</td><td>19</td><td>2565698</td><td>test</td><td>20</td><td>3</td><td>&nbsp;</td><td>0.0588235294118</td><td>0.0588235294118</td><td>0.0137741046832</td><td>0.0136518771331</td><td>17</td><td>70.0</td><td>56</td><td>258.0</td><td>107.0</td><td>31</td><td>85</td><td>4.27058823529</td><td>335</td><td>78</td><td>17</td><td>0.000169730710105</td><td>0.114160263447</td><td>0.165467625899</td><td>0.0140029621651</td><td>0.018249140439</td><td>14.1142857143</td><td>104.171428571</td><td>1.06791029567</td><td>0.998689956817</td></tr><tr><td>57674</td><td>12962</td><td>88</td><td>13</td><td>1745403</td><td>test</td><td>14</td><td>5</td><td>&nbsp;</td><td>0.0135135135135</td><td>0.0</td><td>0.00290697674419</td><td>0.0</td><td>44</td><td>183.0</td><td>44</td><td>183.0</td><td>161.0</td><td>32</td><td>74</td><td>4.64864864865</td><td>282</td><td>70</td><td>16</td><td>0.0115368388383</td><td>0.054990917416</td><td>0.0352853884416</td><td>0.00694561637368</td><td>0.00433732497847</td><td>12.7036569987</td><td>97.2459016393</td><td>1.00063444193</td><td>1.03104658965</td></tr><tr><td>167151</td><td>16278</td><td>83</td><td>4</td><td>1971722</td><td>test</td><td>14</td><td>4</td><td>&nbsp;</td><td>0.012987012987</td><td>0.0</td><td>0.00277777777778</td><td>0.0</td><td>40</td><td>187.0</td><td>40</td><td>187.0</td><td>177.0</td><td>39</td><td>77</td><td>4.67532467532</td><td>94</td><td>37</td><td>14</td><td>0.00472821263863</td><td>0.0482440349557</td><td>0.0334831913038</td><td>0.00627738904906</td><td>0.00438511696575</td><td>16.0512820513</td><td>124.12</td><td>0.905967977178</td><td>0.937446263774</td></tr><tr><td>39663</td><td>45002</td><td>19</td><td>13</td><td>2716490</td><td>test</td><td>11</td><td>3</td><td>&nbsp;</td><td>0.0116279069767</td><td>0.0</td><td>0.00277777777778</td><td>0.0</td><td>40</td><td>176.0</td><td>40</td><td>176.0</td><td>188.0</td><td>48</td><td>86</td><td>4.18604651163</td><td>131</td><td>49</td><td>15</td><td>0.0175986499134</td><td>0.0425661590644</td><td>0.0179560303593</td><td>0.00576633365761</td><td>0.00242875978137</td><td>12.9344171948</td><td>95.2744557729</td><td>1.07479160529</td><td>1.05539168477</td></tr><tr><td>9158</td><td>22451</td><td>129</td><td>1</td><td>376046</td><td>test</td><td>15</td><td>1</td><td>&nbsp;</td><td>0.0714285714286</td><td>0.0833333333333</td><td>0.0198300283286</td><td>0.0229007633588</td><td>26</td><td>91.0</td><td>62</td><td>208.0</td><td>147.0</td><td>38</td><td>98</td><td>3.60204081633</td><td>141</td><td>54</td><td>15</td><td>0.00851078274954</td><td>0.0789974551442</td><td>0.0721327331572</td><td>0.00944515469189</td><td>0.00822722238959</td><td>11.3276353276</td><td>88.5578347578</td><td>0.985335315061</td><td>0.967814969403</td></tr><tr><td>42555</td><td>22142</td><td>17</td><td>13</td><td>2788335</td><td>test</td><td>12</td><td>3</td><td>&nbsp;</td><td>0.0120481927711</td><td>0.0</td><td>0.00278551532033</td><td>0.0</td><td>54</td><td>250.0</td><td>54</td><td>250.0</td><td>114.0</td><td>31</td><td>83</td><td>4.32530120482</td><td>320</td><td>81</td><td>19</td><td>0.0240096213065</td><td>0.0633774388876</td><td>0.0487228722596</td><td>0.00773996351864</td><td>0.00584294456575</td><td>12.3976974349</td><td>99.3173096344</td><td>1.11335908932</td><td>1.05335639905</td></tr><tr><td>47244</td><td>28849</td><td>59</td><td>15</td><td>1194193</td><td>test</td><td>15</td><td>0</td><td>&nbsp;</td><td>0.0135135135135</td><td>0.0</td><td>0.00280112044818</td><td>0.0</td><td>40</td><td>215.0</td><td>40</td><td>215.0</td><td>146.0</td><td>36</td><td>74</td><td>4.82432432432</td><td>222</td><td>64</td><td>14</td><td>0.0568306911919</td><td>0.102224304813</td><td>0.0985280079771</td><td>0.0113903030684</td><td>0.0107427798642</td><td>9.27493813465</td><td>80.4764911682</td><td>1.15083612039</td><td>1.10185349249</td></tr><tr><td>126891</td><td>18441</td><td>72</td><td>13</td><td>2441791</td><td>test</td><td>22</td><td>4</td><td>&nbsp;</td><td>0.0277777777778</td><td>0.0204081632653</td><td>0.00568181818182</td><td>0.0037037037037</td><td>23</td><td>82.0</td><td>41</td><td>180.0</td><td>172.0</td><td>33</td><td>72</td><td>4.88888888889</td><td>142</td><td>47</td><td>17</td><td>0.0453617446377</td><td>0.0549722516568</td><td>0.0359923297018</td><td>0.0070607080639</td><td>0.004583809369</td><td>12.0891597178</td><td>92.9485781484</td><td>1.04811992015</td><td>1.06014800935</td></tr></table></div>\n",
       "    <br />(rows: 13307953, time: 75.4s,     1GB processed, job: job_DwNgC_1pvofLuCOBdpUHnLsCk7s)<br />\n",
       "    <script>\n",
       "\n",
       "      require.config({\n",
       "        paths: {\n",
       "          d3: '//cdnjs.cloudflare.com/ajax/libs/d3/3.4.13/d3',\n",
       "          plotly: 'https://cdn.plot.ly/plotly-1.5.1.min.js?noext',\n",
       "          jquery: '//ajax.googleapis.com/ajax/libs/jquery/2.0.0/jquery.min'\n",
       "        },\n",
       "        map: {\n",
       "          '*': {\n",
       "            datalab: 'nbextensions/gcpdatalab'\n",
       "          }\n",
       "        },\n",
       "        shim: {\n",
       "          plotly: {\n",
       "            deps: ['d3', 'jquery'],\n",
       "            exports: 'plotly'\n",
       "          }\n",
       "        }\n",
       "      });\n",
       "\n",
       "      require(['datalab/charting', 'datalab/element!8_149991394487', 'base/js/events',\n",
       "          'datalab/style!/nbextensions/gcpdatalab/charting.css'],\n",
       "        function(charts, dom, events) {\n",
       "          charts.render('gcharts', dom, events, 'paged_table', [], {\"rows\": [{\"c\": [{\"v\": 87170}, {\"v\": 9689}, {\"v\": 81}, {\"v\": 15}, {\"v\": 819541}, {\"v\": \"test\"}, {\"v\": 12}, {\"v\": 2}, {\"v\": null}, {\"v\": 0.012048192771084338}, {\"v\": 0.0}, {\"v\": 0.0027472527472527475}, {\"v\": 0.0}, {\"v\": 48}, {\"v\": 227.0}, {\"v\": 48}, {\"v\": 227.0}, {\"v\": 138.0}, {\"v\": 37}, {\"v\": 83}, {\"v\": 4.385542168674699}, {\"v\": 196}, {\"v\": 36}, {\"v\": 12}, {\"v\": 0.005605962882318425}, {\"v\": 0.12969075468674893}, {\"v\": 0.1456643321408777}, {\"v\": 0.01572480999673614}, {\"v\": 0.017497352095627174}, {\"v\": 9.825259515570934}, {\"v\": 79.70501730103807}, {\"v\": 1.0093192837022762}, {\"v\": 1.0219552068820994}]}, {\"c\": [{\"v\": 41698}, {\"v\": 34386}, {\"v\": 61}, {\"v\": 19}, {\"v\": 3012314}, {\"v\": \"test\"}, {\"v\": 18}, {\"v\": 4}, {\"v\": null}, {\"v\": 0.011764705882352941}, {\"v\": 0.0}, {\"v\": 0.0027624309392265192}, {\"v\": 0.0}, {\"v\": 47}, {\"v\": 197.0}, {\"v\": 47}, {\"v\": 197.0}, {\"v\": 168.0}, {\"v\": 40}, {\"v\": 85}, {\"v\": 4.258823529411765}, {\"v\": 347}, {\"v\": 61}, {\"v\": 14}, {\"v\": 0.002880572622921405}, {\"v\": 0.10234619016488705}, {\"v\": 0.10334770479330459}, {\"v\": 0.011458638300640839}, {\"v\": 0.01130123689611182}, {\"v\": 9.9006734006734}, {\"v\": 85.6026936026936}, {\"v\": 1.2065802697586192}, {\"v\": 1.0207059893112949}]}, {\"c\": [{\"v\": 120166}, {\"v\": 25758}, {\"v\": 94}, {\"v\": 7}, {\"v\": 655374}, {\"v\": \"test\"}, {\"v\": 14}, {\"v\": 5}, {\"v\": null}, {\"v\": 0.025}, {\"v\": 0.020833333333333332}, {\"v\": 0.005555555555555556}, {\"v\": 0.0049504950495049506}, {\"v\": 32}, {\"v\": 158.0}, {\"v\": 49}, {\"v\": 234.0}, {\"v\": 129.0}, {\"v\": 33}, {\"v\": 80}, {\"v\": 4.5}, {\"v\": 258}, {\"v\": 62}, {\"v\": 15}, {\"v\": 0.0006886217381394604}, {\"v\": 0.07231638418079096}, {\"v\": 0.06788710907704043}, {\"v\": 0.009358640657444506}, {\"v\": 0.008763724090394368}, {\"v\": 12.69718309859155}, {\"v\": 97.76056338028168}, {\"v\": 1.123798075075225}, {\"v\": 1.0957036865127814}]}, {\"c\": [{\"v\": 59161}, {\"v\": 248}, {\"v\": 117}, {\"v\": 19}, {\"v\": 2440858}, {\"v\": \"test\"}, {\"v\": 7}, {\"v\": 0}, {\"v\": null}, {\"v\": 0.010752688172043012}, {\"v\": 0.0}, {\"v\": 0.002857142857142857}, {\"v\": 0.0}, {\"v\": 43}, {\"v\": 162.0}, {\"v\": 43}, {\"v\": 162.0}, {\"v\": 192.0}, {\"v\": 52}, {\"v\": 93}, {\"v\": 3.763440860215054}, {\"v\": 107}, {\"v\": 30}, {\"v\": 12}, {\"v\": 0.01852974409458365}, {\"v\": 0.05834142231827256}, {\"v\": 0.040925067004766565}, {\"v\": 0.007260812581913499}, {\"v\": 0.005022631386128083}, {\"v\": 12.272441769170376}, {\"v\": 96.76733839309085}, {\"v\": 0.8988528838683623}, {\"v\": 0.8382672819028638}]}, {\"c\": [{\"v\": 115553}, {\"v\": 27478}, {\"v\": 126}, {\"v\": 11}, {\"v\": 2548573}, {\"v\": \"test\"}, {\"v\": 7}, {\"v\": 0}, {\"v\": null}, {\"v\": 0.01020408163265306}, {\"v\": 0.0}, {\"v\": 0.0029411764705882353}, {\"v\": 0.0}, {\"v\": 49}, {\"v\": 277.0}, {\"v\": 49}, {\"v\": 277.0}, {\"v\": 66.0}, {\"v\": 51}, {\"v\": 98}, {\"v\": 3.4693877551020407}, {\"v\": 225}, {\"v\": 59}, {\"v\": 18}, {\"v\": 0.000538288823475212}, {\"v\": 0.05794831636648395}, {\"v\": 0.030327868852459017}, {\"v\": 0.006556796030480241}, {\"v\": 0.0029699791298763846}, {\"v\": 12.018018018018017}, {\"v\": 91.11711711711712}, {\"v\": 0.9478255812326598}, {\"v\": 0.9288201323259331}]}, {\"c\": [{\"v\": 170588}, {\"v\": 35951}, {\"v\": 91}, {\"v\": 16}, {\"v\": 2981874}, {\"v\": \"test\"}, {\"v\": 10}, {\"v\": 5}, {\"v\": null}, {\"v\": 0.012195121951219513}, {\"v\": 0.0}, {\"v\": 0.0027548209366391185}, {\"v\": 0.0}, {\"v\": 52}, {\"v\": 254.0}, {\"v\": 52}, {\"v\": 254.0}, {\"v\": 109.0}, {\"v\": 32}, {\"v\": 82}, {\"v\": 4.426829268292683}, {\"v\": 152}, {\"v\": 47}, {\"v\": 16}, {\"v\": 0.06798927301912137}, {\"v\": 0.16405543795816935}, {\"v\": 0.19161898938725597}, {\"v\": 0.019701411069542117}, {\"v\": 0.02265909005225922}, {\"v\": 8.83944365192582}, {\"v\": 71.4916547788873}, {\"v\": 1.0062156258823893}, {\"v\": 1.0385470455944612}]}, {\"c\": [{\"v\": 155243}, {\"v\": 14678}, {\"v\": 116}, {\"v\": 1}, {\"v\": 146880}, {\"v\": \"test\"}, {\"v\": 20}, {\"v\": 5}, {\"v\": null}, {\"v\": 0.01098901098901099}, {\"v\": 0.0}, {\"v\": 0.0028089887640449437}, {\"v\": 0.0}, {\"v\": 55}, {\"v\": 196.0}, {\"v\": 55}, {\"v\": 196.0}, {\"v\": 166.0}, {\"v\": 38}, {\"v\": 91}, {\"v\": 3.912087912087912}, {\"v\": 274}, {\"v\": 71}, {\"v\": 16}, {\"v\": 0.04284003123045066}, {\"v\": 0.07912968301966507}, {\"v\": 0.07423526728996319}, {\"v\": 0.010088179305068676}, {\"v\": 0.009408488944158463}, {\"v\": 11.562825447136063}, {\"v\": 89.88963097124744}, {\"v\": 1.0953516646520869}, {\"v\": 1.129596723779961}]}, {\"c\": [{\"v\": 122215}, {\"v\": 10749}, {\"v\": 83}, {\"v\": 4}, {\"v\": 2742672}, {\"v\": \"test\"}, {\"v\": 11}, {\"v\": 6}, {\"v\": null}, {\"v\": 0.010869565217391304}, {\"v\": 0.0}, {\"v\": 0.0027548209366391185}, {\"v\": 0.0}, {\"v\": 49}, {\"v\": 257.0}, {\"v\": 49}, {\"v\": 257.0}, {\"v\": 108.0}, {\"v\": 45}, {\"v\": 92}, {\"v\": 3.9456521739130435}, {\"v\": 155}, {\"v\": 48}, {\"v\": 17}, {\"v\": 0.09464669340329472}, {\"v\": 0.11175177245678938}, {\"v\": 0.11437212510806732}, {\"v\": 0.013592061299877261}, {\"v\": 0.013814758956688796}, {\"v\": 9.347235743198231}, {\"v\": 75.87959215043297}, {\"v\": 1.100225670964015}, {\"v\": 1.0204485072631895}]}, {\"c\": [{\"v\": 103604}, {\"v\": 4461}, {\"v\": 19}, {\"v\": 13}, {\"v\": 2582506}, {\"v\": \"test\"}, {\"v\": 12}, {\"v\": 0}, {\"v\": null}, {\"v\": 0.0125}, {\"v\": 0.0}, {\"v\": 0.0035335689045936395}, {\"v\": 0.0}, {\"v\": 46}, {\"v\": 157.0}, {\"v\": 46}, {\"v\": 157.0}, {\"v\": 127.0}, {\"v\": 36}, {\"v\": 80}, {\"v\": 3.5375}, {\"v\": 126}, {\"v\": 39}, {\"v\": 12}, {\"v\": 0.03022176529637407}, {\"v\": 0.04790637517164362}, {\"v\": 0.02363829925913051}, {\"v\": 0.006123388313708583}, {\"v\": 0.0030003364347840475}, {\"v\": 13.391367137355584}, {\"v\": 103.95442875481382}, {\"v\": 1.0663898687538267}, {\"v\": 1.0312852447369854}]}, {\"c\": [{\"v\": 159183}, {\"v\": 44904}, {\"v\": 104}, {\"v\": 13}, {\"v\": 743561}, {\"v\": \"test\"}, {\"v\": 22}, {\"v\": 6}, {\"v\": null}, {\"v\": 0.011111111111111112}, {\"v\": 0.0}, {\"v\": 0.002770083102493075}, {\"v\": 0.0}, {\"v\": 41}, {\"v\": 162.0}, {\"v\": 41}, {\"v\": 162.0}, {\"v\": 202.0}, {\"v\": 51}, {\"v\": 90}, {\"v\": 4.011111111111111}, {\"v\": 287}, {\"v\": 79}, {\"v\": 16}, {\"v\": 0.003966849167592103}, {\"v\": 0.04989209742061453}, {\"v\": 0.015041289815178922}, {\"v\": 0.005788065021846816}, {\"v\": 0.0016803769316097571}, {\"v\": 11.35696821515892}, {\"v\": 93.7750611246944}, {\"v\": 1.0994248827142898}, {\"v\": 1.0147170096851925}]}, {\"c\": [{\"v\": 80232}, {\"v\": 46906}, {\"v\": 24}, {\"v\": 4}, {\"v\": 2986137}, {\"v\": \"test\"}, {\"v\": 9}, {\"v\": 3}, {\"v\": null}, {\"v\": 0.16279069767441862}, {\"v\": 0.15853658536585366}, {\"v\": 0.04}, {\"v\": 0.03869047619047619}, {\"v\": 4}, {\"v\": 14.0}, {\"v\": 57}, {\"v\": 236.0}, {\"v\": 119.0}, {\"v\": 31}, {\"v\": 86}, {\"v\": 4.069767441860465}, {\"v\": 315}, {\"v\": 79}, {\"v\": 18}, {\"v\": 0.063057383528362}, {\"v\": 0.115124086814982}, {\"v\": 0.12559975236031573}, {\"v\": 0.013748945129816064}, {\"v\": 0.014674311986225314}, {\"v\": 10.13312312543259}, {\"v\": 81.89256325463356}, {\"v\": 1.0219415686328555}, {\"v\": 0.9364856413175231}]}, {\"c\": [{\"v\": 131125}, {\"v\": 49131}, {\"v\": 96}, {\"v\": 20}, {\"v\": 2192946}, {\"v\": \"test\"}, {\"v\": 8}, {\"v\": 6}, {\"v\": null}, {\"v\": 0.21839080459770116}, {\"v\": 0.21176470588235294}, {\"v\": 0.052924791086350974}, {\"v\": 0.052478134110787174}, {\"v\": 2}, {\"v\": 16.0}, {\"v\": 58}, {\"v\": 255.0}, {\"v\": 107.0}, {\"v\": 31}, {\"v\": 87}, {\"v\": 4.126436781609195}, {\"v\": 259}, {\"v\": 84}, {\"v\": 19}, {\"v\": 0.02118724206993875}, {\"v\": 0.09524647199093077}, {\"v\": 0.08476794047168622}, {\"v\": 0.01077997177253441}, {\"v\": 0.009405381200432399}, {\"v\": 8.901808194094757}, {\"v\": 76.07919432364386}, {\"v\": 0.9732536836632725}, {\"v\": 0.9510135936199444}]}, {\"c\": [{\"v\": 66252}, {\"v\": 18523}, {\"v\": 120}, {\"v\": 16}, {\"v\": 3244761}, {\"v\": \"test\"}, {\"v\": 10}, {\"v\": 3}, {\"v\": null}, {\"v\": 0.011494252873563218}, {\"v\": 0.0}, {\"v\": 0.0028011204481792717}, {\"v\": 0.0}, {\"v\": 58}, {\"v\": 262.0}, {\"v\": 58}, {\"v\": 262.0}, {\"v\": 97.0}, {\"v\": 31}, {\"v\": 87}, {\"v\": 4.103448275862069}, {\"v\": 301}, {\"v\": 47}, {\"v\": 13}, {\"v\": 0.030197518052073383}, {\"v\": 0.1523271654740963}, {\"v\": 0.17016472779920824}, {\"v\": 0.01761868556681317}, {\"v\": 0.019186773946080222}, {\"v\": 8.422193672715595}, {\"v\": 69.27798297735667}, {\"v\": 1.0685729727884767}, {\"v\": 1.0266430247308818}]}, {\"c\": [{\"v\": 186497}, {\"v\": 28348}, {\"v\": 59}, {\"v\": 15}, {\"v\": 1769182}, {\"v\": \"test\"}, {\"v\": 8}, {\"v\": 4}, {\"v\": null}, {\"v\": 0.013333333333333334}, {\"v\": 0.0}, {\"v\": 0.0028735632183908046}, {\"v\": 0.0}, {\"v\": 45}, {\"v\": 197.0}, {\"v\": 45}, {\"v\": 197.0}, {\"v\": 163.0}, {\"v\": 32}, {\"v\": 75}, {\"v\": 4.64}, {\"v\": 168}, {\"v\": 58}, {\"v\": 16}, {\"v\": 0.002221047577942767}, {\"v\": 0.056856187290969896}, {\"v\": 0.03649412123988395}, {\"v\": 0.00687912673581982}, {\"v\": 0.004294004563502758}, {\"v\": 12.467248908296945}, {\"v\": 99.69868995633188}, {\"v\": 0.8299981775279432}, {\"v\": 0.9020378876373565}]}, {\"c\": [{\"v\": 46321}, {\"v\": 9387}, {\"v\": 24}, {\"v\": 4}, {\"v\": 14098}, {\"v\": \"test\"}, {\"v\": 15}, {\"v\": 0}, {\"v\": null}, {\"v\": 0.025974025974025976}, {\"v\": 0.02040816326530612}, {\"v\": 0.00558659217877095}, {\"v\": 0.004273504273504274}, {\"v\": 28}, {\"v\": 124.0}, {\"v\": 40}, {\"v\": 171.0}, {\"v\": 194.0}, {\"v\": 39}, {\"v\": 77}, {\"v\": 4.64935064935065}, {\"v\": 206}, {\"v\": 58}, {\"v\": 14}, {\"v\": 0.061345528080733625}, {\"v\": 0.12053213068777958}, {\"v\": 0.12677270107668195}, {\"v\": 0.014093909282849145}, {\"v\": 0.014594806091906911}, {\"v\": 9.056442687747035}, {\"v\": 75.48347826086956}, {\"v\": 1.0202840464136753}, {\"v\": 1.0702116344718833}]}, {\"c\": [{\"v\": 51867}, {\"v\": 11629}, {\"v\": 14}, {\"v\": 20}, {\"v\": 3070638}, {\"v\": \"test\"}, {\"v\": 9}, {\"v\": 0}, {\"v\": null}, {\"v\": 0.010638297872340425}, {\"v\": 0.0}, {\"v\": 0.002793296089385475}, {\"v\": 0.0}, {\"v\": 43}, {\"v\": 182.0}, {\"v\": 43}, {\"v\": 182.0}, {\"v\": 182.0}, {\"v\": 53}, {\"v\": 94}, {\"v\": 3.8085106382978724}, {\"v\": 350}, {\"v\": 71}, {\"v\": 15}, {\"v\": 0.006590401000926244}, {\"v\": 0.08582821894763076}, {\"v\": 0.08005505218488358}, {\"v\": 0.009743589743589744}, {\"v\": 0.009036359046392254}, {\"v\": 10.788079470198674}, {\"v\": 94.38042678440029}, {\"v\": 1.038276752161643}, {\"v\": 1.0018958658463453}]}, {\"c\": [{\"v\": 77788}, {\"v\": 13304}, {\"v\": 81}, {\"v\": 15}, {\"v\": 3145294}, {\"v\": \"test\"}, {\"v\": 11}, {\"v\": 6}, {\"v\": null}, {\"v\": 0.04878048780487805}, {\"v\": 0.04054054054054054}, {\"v\": 0.01606425702811245}, {\"v\": 0.013392857142857142}, {\"v\": 8}, {\"v\": 25.0}, {\"v\": 43}, {\"v\": 141.0}, {\"v\": 109.0}, {\"v\": 41}, {\"v\": 82}, {\"v\": 3.0365853658536586}, {\"v\": 360}, {\"v\": 67}, {\"v\": 17}, {\"v\": 0.008278009204253936}, {\"v\": 0.06350267379679145}, {\"v\": 0.044944350122618375}, {\"v\": 0.0074607818113992894}, {\"v\": 0.005045638408267859}, {\"v\": 12.117164616285882}, {\"v\": 98.21616871704747}, {\"v\": 1.2269153874295355}, {\"v\": 1.15804683256168}]}, {\"c\": [{\"v\": 94786}, {\"v\": 1552}, {\"v\": 45}, {\"v\": 19}, {\"v\": 2565698}, {\"v\": \"test\"}, {\"v\": 20}, {\"v\": 3}, {\"v\": null}, {\"v\": 0.058823529411764705}, {\"v\": 0.058823529411764705}, {\"v\": 0.013774104683195593}, {\"v\": 0.013651877133105802}, {\"v\": 17}, {\"v\": 70.0}, {\"v\": 56}, {\"v\": 258.0}, {\"v\": 107.0}, {\"v\": 31}, {\"v\": 85}, {\"v\": 4.270588235294118}, {\"v\": 335}, {\"v\": 78}, {\"v\": 17}, {\"v\": 0.0001697307101047966}, {\"v\": 0.1141602634467618}, {\"v\": 0.16546762589928057}, {\"v\": 0.014002962165073381}, {\"v\": 0.018249140439037293}, {\"v\": 14.114285714285714}, {\"v\": 104.17142857142856}, {\"v\": 1.0679102956684414}, {\"v\": 0.9986899568165515}]}, {\"c\": [{\"v\": 57674}, {\"v\": 12962}, {\"v\": 88}, {\"v\": 13}, {\"v\": 1745403}, {\"v\": \"test\"}, {\"v\": 14}, {\"v\": 5}, {\"v\": null}, {\"v\": 0.013513513513513514}, {\"v\": 0.0}, {\"v\": 0.0029069767441860465}, {\"v\": 0.0}, {\"v\": 44}, {\"v\": 183.0}, {\"v\": 44}, {\"v\": 183.0}, {\"v\": 161.0}, {\"v\": 32}, {\"v\": 74}, {\"v\": 4.648648648648648}, {\"v\": 282}, {\"v\": 70}, {\"v\": 16}, {\"v\": 0.011536838838266032}, {\"v\": 0.054990917416042395}, {\"v\": 0.03528538844156201}, {\"v\": 0.006945616373679091}, {\"v\": 0.004337324978465384}, {\"v\": 12.703656998738968}, {\"v\": 97.24590163934425}, {\"v\": 1.0006344419303832}, {\"v\": 1.0310465896479983}]}, {\"c\": [{\"v\": 167151}, {\"v\": 16278}, {\"v\": 83}, {\"v\": 4}, {\"v\": 1971722}, {\"v\": \"test\"}, {\"v\": 14}, {\"v\": 4}, {\"v\": null}, {\"v\": 0.012987012987012988}, {\"v\": 0.0}, {\"v\": 0.002777777777777778}, {\"v\": 0.0}, {\"v\": 40}, {\"v\": 187.0}, {\"v\": 40}, {\"v\": 187.0}, {\"v\": 177.0}, {\"v\": 39}, {\"v\": 77}, {\"v\": 4.675324675324675}, {\"v\": 94}, {\"v\": 37}, {\"v\": 14}, {\"v\": 0.004728212638633619}, {\"v\": 0.048244034955650834}, {\"v\": 0.03348319130376434}, {\"v\": 0.006277389049064993}, {\"v\": 0.004385116965745118}, {\"v\": 16.051282051282048}, {\"v\": 124.11999999999998}, {\"v\": 0.9059679771782413}, {\"v\": 0.9374462637740832}]}, {\"c\": [{\"v\": 39663}, {\"v\": 45002}, {\"v\": 19}, {\"v\": 13}, {\"v\": 2716490}, {\"v\": \"test\"}, {\"v\": 11}, {\"v\": 3}, {\"v\": null}, {\"v\": 0.011627906976744186}, {\"v\": 0.0}, {\"v\": 0.002777777777777778}, {\"v\": 0.0}, {\"v\": 40}, {\"v\": 176.0}, {\"v\": 40}, {\"v\": 176.0}, {\"v\": 188.0}, {\"v\": 48}, {\"v\": 86}, {\"v\": 4.186046511627907}, {\"v\": 131}, {\"v\": 49}, {\"v\": 15}, {\"v\": 0.017598649913437337}, {\"v\": 0.042566159064410136}, {\"v\": 0.0179560303592715}, {\"v\": 0.005766333657607337}, {\"v\": 0.0024287597813708}, {\"v\": 12.934417194819511}, {\"v\": 95.27445577294024}, {\"v\": 1.0747916052927782}, {\"v\": 1.0553916847728333}]}, {\"c\": [{\"v\": 9158}, {\"v\": 22451}, {\"v\": 129}, {\"v\": 1}, {\"v\": 376046}, {\"v\": \"test\"}, {\"v\": 15}, {\"v\": 1}, {\"v\": null}, {\"v\": 0.07142857142857142}, {\"v\": 0.08333333333333333}, {\"v\": 0.019830028328611898}, {\"v\": 0.022900763358778626}, {\"v\": 26}, {\"v\": 91.0}, {\"v\": 62}, {\"v\": 208.0}, {\"v\": 147.0}, {\"v\": 38}, {\"v\": 98}, {\"v\": 3.6020408163265305}, {\"v\": 141}, {\"v\": 54}, {\"v\": 15}, {\"v\": 0.008510782749540514}, {\"v\": 0.07899745514424414}, {\"v\": 0.07213273315724861}, {\"v\": 0.009445154691894657}, {\"v\": 0.008227222389585924}, {\"v\": 11.327635327635328}, {\"v\": 88.55783475783475}, {\"v\": 0.9853353150607046}, {\"v\": 0.9678149694028589}]}, {\"c\": [{\"v\": 42555}, {\"v\": 22142}, {\"v\": 17}, {\"v\": 13}, {\"v\": 2788335}, {\"v\": \"test\"}, {\"v\": 12}, {\"v\": 3}, {\"v\": null}, {\"v\": 0.012048192771084338}, {\"v\": 0.0}, {\"v\": 0.002785515320334262}, {\"v\": 0.0}, {\"v\": 54}, {\"v\": 250.0}, {\"v\": 54}, {\"v\": 250.0}, {\"v\": 114.0}, {\"v\": 31}, {\"v\": 83}, {\"v\": 4.325301204819277}, {\"v\": 320}, {\"v\": 81}, {\"v\": 19}, {\"v\": 0.02400962130653851}, {\"v\": 0.06337743888764297}, {\"v\": 0.048722872259597455}, {\"v\": 0.007739963518643288}, {\"v\": 0.005842944565746793}, {\"v\": 12.397697434861646}, {\"v\": 99.31730963441731}, {\"v\": 1.1133590893237875}, {\"v\": 1.053356399051467}]}, {\"c\": [{\"v\": 47244}, {\"v\": 28849}, {\"v\": 59}, {\"v\": 15}, {\"v\": 1194193}, {\"v\": \"test\"}, {\"v\": 15}, {\"v\": 0}, {\"v\": null}, {\"v\": 0.013513513513513514}, {\"v\": 0.0}, {\"v\": 0.0028011204481792717}, {\"v\": 0.0}, {\"v\": 40}, {\"v\": 215.0}, {\"v\": 40}, {\"v\": 215.0}, {\"v\": 146.0}, {\"v\": 36}, {\"v\": 74}, {\"v\": 4.824324324324325}, {\"v\": 222}, {\"v\": 64}, {\"v\": 14}, {\"v\": 0.05683069119194604}, {\"v\": 0.10222430481322575}, {\"v\": 0.09852800797709019}, {\"v\": 0.011390303068374043}, {\"v\": 0.010742779864165653}, {\"v\": 9.274938134653127}, {\"v\": 80.47649116818842}, {\"v\": 1.1508361203860218}, {\"v\": 1.1018534924936056}]}, {\"c\": [{\"v\": 126891}, {\"v\": 18441}, {\"v\": 72}, {\"v\": 13}, {\"v\": 2441791}, {\"v\": \"test\"}, {\"v\": 22}, {\"v\": 4}, {\"v\": null}, {\"v\": 0.027777777777777776}, {\"v\": 0.02040816326530612}, {\"v\": 0.005681818181818182}, {\"v\": 0.003703703703703704}, {\"v\": 23}, {\"v\": 82.0}, {\"v\": 41}, {\"v\": 180.0}, {\"v\": 172.0}, {\"v\": 33}, {\"v\": 72}, {\"v\": 4.888888888888889}, {\"v\": 142}, {\"v\": 47}, {\"v\": 17}, {\"v\": 0.045361744637721926}, {\"v\": 0.05497225165681855}, {\"v\": 0.035992329701838334}, {\"v\": 0.007060708063897009}, {\"v\": 0.004583809368998195}, {\"v\": 12.089159717767801}, {\"v\": 92.94857814838572}, {\"v\": 1.0481199201527263}, {\"v\": 1.0601480093499602}]}], \"cols\": [{\"type\": \"number\", \"id\": \"user_id\", \"label\": \"user_id\"}, {\"type\": \"number\", \"id\": \"product_id\", \"label\": \"product_id\"}, {\"type\": \"number\", \"id\": \"aisle_id\", \"label\": \"aisle_id\"}, {\"type\": \"number\", \"id\": \"department_id\", \"label\": \"department_id\"}, {\"type\": \"number\", \"id\": \"order_id\", \"label\": \"order_id\"}, {\"type\": \"string\", \"id\": \"eval_set\", \"label\": \"eval_set\"}, {\"type\": \"number\", \"id\": \"order_hour_of_day\", \"label\": \"order_hour_of_day\"}, {\"type\": \"number\", \"id\": \"order_dow\", \"label\": \"order_dow\"}, {\"type\": \"number\", \"id\": \"is_ordered\", \"label\": \"is_ordered\"}, {\"type\": \"number\", \"id\": \"upf_perc_all_orders\", \"label\": \"upf_perc_all_orders\"}, {\"type\": \"number\", \"id\": \"upf_perc_reorder\", \"label\": \"upf_perc_reorder\"}, {\"type\": \"number\", \"id\": \"upf_orders_per_day\", \"label\": \"upf_orders_per_day\"}, {\"type\": \"number\", \"id\": \"upf_reorders_per_day\", \"label\": \"upf_reorders_per_day\"}, {\"type\": \"number\", \"id\": \"upf_first_order_number\", \"label\": \"upf_first_order_number\"}, {\"type\": \"number\", \"id\": \"upf_first_order_day\", \"label\": \"upf_first_order_day\"}, {\"type\": \"number\", \"id\": \"upf_last_order_number\", \"label\": \"upf_last_order_number\"}, {\"type\": \"number\", \"id\": \"upf_last_order_day\", \"label\": \"upf_last_order_day\"}, {\"type\": \"number\", \"id\": \"upf_days_since_last_order\", \"label\": \"upf_days_since_last_order\"}, {\"type\": \"number\", \"id\": \"upf_orders_since_last_order\", \"label\": \"upf_orders_since_last_order\"}, {\"type\": \"number\", \"id\": \"uf_num_orders\", \"label\": \"uf_num_orders\"}, {\"type\": \"number\", \"id\": \"uf_avg_days_bw_orders\", \"label\": \"uf_avg_days_bw_orders\"}, {\"type\": \"number\", \"id\": \"uf_num_products\", \"label\": \"uf_num_products\"}, {\"type\": \"number\", \"id\": \"uf_num_aisles\", \"label\": \"uf_num_aisles\"}, {\"type\": \"number\", \"id\": \"uf_num_departments\", \"label\": \"uf_num_departments\"}, {\"type\": \"number\", \"id\": \"pf_perc_users\", \"label\": \"pf_perc_users\"}, {\"type\": \"number\", \"id\": \"pf_perc_all_orders\", \"label\": \"pf_perc_all_orders\"}, {\"type\": \"number\", \"id\": \"pf_perc_reorders\", \"label\": \"pf_perc_reorders\"}, {\"type\": \"number\", \"id\": \"pf_orders_per_day\", \"label\": \"pf_orders_per_day\"}, {\"type\": \"number\", \"id\": \"pf_reorders_per_day\", \"label\": \"pf_reorders_per_day\"}, {\"type\": \"number\", \"id\": \"pf_avg_first_order_number\", \"label\": \"pf_avg_first_order_number\"}, {\"type\": \"number\", \"id\": \"pf_avg_first_order_day\", \"label\": \"pf_avg_first_order_day\"}, {\"type\": \"number\", \"id\": \"tf_aisle_tod_factor\", \"label\": \"tf_aisle_tod_factor\"}, {\"type\": \"number\", \"id\": \"tf_department_tod_factor\", \"label\": \"tf_department_tod_factor\"}]},\n",
       "            {\n",
       "              pageSize: 25,\n",
       "              cssClassNames:  {\n",
       "                tableRow: 'gchart-table-row',\n",
       "                headerRow: 'gchart-table-headerrow',\n",
       "                oddTableRow: 'gchart-table-oddrow',\n",
       "                selectedTableRow: 'gchart-table-selectedrow',\n",
       "                hoverTableRow: 'gchart-table-hoverrow',\n",
       "                tableCell: 'gchart-table-cell',\n",
       "                headerCell: 'gchart-table-headercell',\n",
       "                rowNumberCell: 'gchart-table-rownumcell'\n",
       "              }\n",
       "            },\n",
       "            {source_index: 6, fields: 'user_id,product_id,aisle_id,department_id,order_id,eval_set,order_hour_of_day,order_dow,is_ordered,upf_perc_all_orders,upf_perc_reorder,upf_orders_per_day,upf_reorders_per_day,upf_first_order_number,upf_first_order_day,upf_last_order_number,upf_last_order_day,upf_days_since_last_order,upf_orders_since_last_order,uf_num_orders,uf_avg_days_bw_orders,uf_num_products,uf_num_aisles,uf_num_departments,pf_perc_users,pf_perc_all_orders,pf_perc_reorders,pf_orders_per_day,pf_reorders_per_day,pf_avg_first_order_number,pf_avg_first_order_day,tf_aisle_tod_factor,tf_department_tod_factor'},\n",
       "            0,\n",
       "            13307953);\n",
       "        }\n",
       "      );\n",
       "    </script>\n",
       "  "
      ],
      "text/plain": [
       "QueryResultsTable job_DwNgC_1pvofLuCOBdpUHnLsCk7s"
      ]
     },
     "execution_count": 18,
     "metadata": {},
     "output_type": "execute_result"
    }
   ],
   "source": [
    "%%bq execute -q reorder_model_universe_q -t instacart.reorder_model_universe  -m overwrite"
   ]
  },
  {
   "cell_type": "markdown",
   "metadata": {},
   "source": [
    "Need to shard when exporting from BQ; max export size out of BQ is 1GB"
   ]
  },
  {
   "cell_type": "code",
   "execution_count": 3,
   "metadata": {
    "collapsed": false
   },
   "outputs": [],
   "source": [
    "project_id = Context.default().project_id\n",
    "bucket_path = 'gs://' + project_id\n",
    "bucket_object = bucket_path + '/reorder_model/universe_*.csv'\n",
    "bucket_object2 = bucket_path + '/reorder_model/universe.csv'\n",
    "\n",
    "table = bq.Table('instacart.reorder_model_universe')\n",
    "#table.extract(destination = bucket_object, csv_header=False)"
   ]
  },
  {
   "cell_type": "markdown",
   "metadata": {},
   "source": [
    "Concatenate the shards together"
   ]
  },
  {
   "cell_type": "code",
   "execution_count": 20,
   "metadata": {
    "collapsed": false
   },
   "outputs": [
    {
     "name": "stderr",
     "output_type": "stream",
     "text": [
      "Composing gs://kaggle-instacart-172517/reorder_model/universe.csv from 8 component object(s).\n"
     ]
    }
   ],
   "source": [
    "%%bash -s \"$bucket_object\" \"$bucket_object2\"\n",
    "gsutil compose $1 $2"
   ]
  },
  {
   "cell_type": "markdown",
   "metadata": {},
   "source": [
    "Import as Pandas DF"
   ]
  },
  {
   "cell_type": "code",
   "execution_count": 4,
   "metadata": {
    "collapsed": false
   },
   "outputs": [
    {
     "name": "stdout",
     "output_type": "stream",
     "text": [
      "(13307953, 33)\n"
     ]
    }
   ],
   "source": [
    "fields = [str(x.name) for x in list(table.schema)]\n",
    "%storage read --object $bucket_object2 --variable model_universe_raw\n",
    "model_universe = pd.read_csv(StringIO(model_universe_raw), header=None, names=fields)\n",
    "print model_universe.shape"
   ]
  },
  {
   "cell_type": "markdown",
   "metadata": {},
   "source": [
    "## LightGBM Model\n",
    "\n",
    "Create a LightGBM model for predicting reorders"
   ]
  },
  {
   "cell_type": "markdown",
   "metadata": {},
   "source": [
    "A little more feature engineering"
   ]
  },
  {
   "cell_type": "code",
   "execution_count": 28,
   "metadata": {
    "collapsed": true
   },
   "outputs": [],
   "source": [
    "model_universe['order_overdue'] = model_universe.upf_orders_per_day * model_universe.upf_days_since_last_order\n",
    "model_universe['reorder_overdue'] = model_universe.upf_reorders_per_day * model_universe.upf_days_since_last_order"
   ]
  },
  {
   "cell_type": "markdown",
   "metadata": {},
   "source": [
    "Set up our train and test sets"
   ]
  },
  {
   "cell_type": "code",
   "execution_count": 31,
   "metadata": {
    "collapsed": false
   },
   "outputs": [],
   "source": [
    "df = model_universe.loc[model_universe.eval_set == \"train\",]\n",
    "df_test = model_universe.loc[model_universe.eval_set == \"test\",]\n",
    "\n",
    "df_users = df[['user_id']].drop_duplicates()\n",
    "df_users_train = df_users.sample(frac=0.8, random_state=200)\n",
    "df_users_eval = df_users.drop(df_users_train.index)\n",
    "df_train = df.merge(df_users_train, on=['user_id'], how='inner')\n",
    "df_eval = df.merge(df_users_eval, on=['user_id'], how='inner')\n",
    "\n",
    "y_val = 'is_ordered'\n",
    "x_excludes = [y_val, 'user_id', 'order_id', 'eval_set']\n",
    "categoricals = ['product_id', 'aisle_id', 'department_id']\n",
    "\n",
    "y_train = df_train[y_val]\n",
    "x_train = df_train.drop(x_excludes, axis=1)\n",
    "\n",
    "y_eval = df_eval[y_val]\n",
    "x_eval = df_eval.drop(x_excludes, axis=1)\n",
    "\n",
    "y_test = df_test[y_val]\n",
    "x_test = df_test.drop(x_excludes, axis=1)\n",
    "\n",
    "lgb_train = lgb.Dataset(x_train, y_train)\n",
    "lgb_eval = lgb.Dataset(x_eval, y_eval, reference=lgb_train)"
   ]
  },
  {
   "cell_type": "markdown",
   "metadata": {},
   "source": [
    "Train our model"
   ]
  },
  {
   "cell_type": "code",
   "execution_count": 78,
   "metadata": {
    "collapsed": false
   },
   "outputs": [
    {
     "name": "stdout",
     "output_type": "stream",
     "text": [
      "[1]\tvalid_0's binary_logloss: 0.658339\n",
      "Train until valid scores didn't improve in 10 rounds.\n",
      "[2]\tvalid_0's binary_logloss: 0.626819\n",
      "[3]\tvalid_0's binary_logloss: 0.598192\n",
      "[4]\tvalid_0's binary_logloss: 0.57211\n",
      "[5]\tvalid_0's binary_logloss: 0.548278\n",
      "[6]\tvalid_0's binary_logloss: 0.526436\n",
      "[7]\tvalid_0's binary_logloss: 0.506399\n",
      "[8]\tvalid_0's binary_logloss: 0.487947\n",
      "[9]\tvalid_0's binary_logloss: 0.470936\n",
      "[10]\tvalid_0's binary_logloss: 0.455226\n",
      "[11]\tvalid_0's binary_logloss: 0.440707\n",
      "[12]\tvalid_0's binary_logloss: 0.427271\n",
      "[13]\tvalid_0's binary_logloss: 0.41482\n",
      "[14]\tvalid_0's binary_logloss: 0.403273\n",
      "[15]\tvalid_0's binary_logloss: 0.39255\n",
      "[16]\tvalid_0's binary_logloss: 0.382569\n",
      "[17]\tvalid_0's binary_logloss: 0.373293\n",
      "[18]\tvalid_0's binary_logloss: 0.364665\n",
      "[19]\tvalid_0's binary_logloss: 0.356633\n",
      "[20]\tvalid_0's binary_logloss: 0.349149\n",
      "[21]\tvalid_0's binary_logloss: 0.342186\n",
      "[22]\tvalid_0's binary_logloss: 0.335692\n",
      "[23]\tvalid_0's binary_logloss: 0.329638\n",
      "[24]\tvalid_0's binary_logloss: 0.323984\n",
      "[25]\tvalid_0's binary_logloss: 0.31871\n",
      "[26]\tvalid_0's binary_logloss: 0.313787\n",
      "[27]\tvalid_0's binary_logloss: 0.309194\n",
      "[28]\tvalid_0's binary_logloss: 0.304905\n",
      "[29]\tvalid_0's binary_logloss: 0.300892\n",
      "[30]\tvalid_0's binary_logloss: 0.29715\n",
      "[31]\tvalid_0's binary_logloss: 0.29366\n",
      "[32]\tvalid_0's binary_logloss: 0.290395\n",
      "[33]\tvalid_0's binary_logloss: 0.287339\n",
      "[34]\tvalid_0's binary_logloss: 0.284488\n",
      "[35]\tvalid_0's binary_logloss: 0.281826\n",
      "[36]\tvalid_0's binary_logloss: 0.279336\n",
      "[37]\tvalid_0's binary_logloss: 0.27701\n",
      "[38]\tvalid_0's binary_logloss: 0.274842\n",
      "[39]\tvalid_0's binary_logloss: 0.272813\n",
      "[40]\tvalid_0's binary_logloss: 0.270913\n",
      "[41]\tvalid_0's binary_logloss: 0.269139\n",
      "[42]\tvalid_0's binary_logloss: 0.26749\n",
      "[43]\tvalid_0's binary_logloss: 0.265944\n",
      "[44]\tvalid_0's binary_logloss: 0.264502\n",
      "[45]\tvalid_0's binary_logloss: 0.263152\n",
      "[46]\tvalid_0's binary_logloss: 0.261895\n",
      "[47]\tvalid_0's binary_logloss: 0.26072\n",
      "[48]\tvalid_0's binary_logloss: 0.259625\n",
      "[49]\tvalid_0's binary_logloss: 0.258605\n",
      "[50]\tvalid_0's binary_logloss: 0.257651\n",
      "[51]\tvalid_0's binary_logloss: 0.256761\n",
      "[52]\tvalid_0's binary_logloss: 0.255929\n",
      "[53]\tvalid_0's binary_logloss: 0.255152\n",
      "[54]\tvalid_0's binary_logloss: 0.254432\n",
      "[55]\tvalid_0's binary_logloss: 0.253759\n",
      "[56]\tvalid_0's binary_logloss: 0.253128\n",
      "[57]\tvalid_0's binary_logloss: 0.252543\n",
      "[58]\tvalid_0's binary_logloss: 0.251996\n",
      "[59]\tvalid_0's binary_logloss: 0.251484\n",
      "[60]\tvalid_0's binary_logloss: 0.25101\n",
      "[61]\tvalid_0's binary_logloss: 0.250564\n",
      "[62]\tvalid_0's binary_logloss: 0.250151\n",
      "[63]\tvalid_0's binary_logloss: 0.249754\n",
      "[64]\tvalid_0's binary_logloss: 0.249391\n",
      "[65]\tvalid_0's binary_logloss: 0.249057\n",
      "[66]\tvalid_0's binary_logloss: 0.248744\n",
      "[67]\tvalid_0's binary_logloss: 0.248451\n",
      "[68]\tvalid_0's binary_logloss: 0.248176\n",
      "[69]\tvalid_0's binary_logloss: 0.247922\n",
      "[70]\tvalid_0's binary_logloss: 0.247685\n",
      "[71]\tvalid_0's binary_logloss: 0.247463\n",
      "[72]\tvalid_0's binary_logloss: 0.247254\n",
      "[73]\tvalid_0's binary_logloss: 0.247062\n",
      "[74]\tvalid_0's binary_logloss: 0.246883\n",
      "[75]\tvalid_0's binary_logloss: 0.246716\n",
      "[76]\tvalid_0's binary_logloss: 0.246563\n",
      "[77]\tvalid_0's binary_logloss: 0.246416\n",
      "[78]\tvalid_0's binary_logloss: 0.246282\n",
      "[79]\tvalid_0's binary_logloss: 0.246154\n",
      "[80]\tvalid_0's binary_logloss: 0.246032\n",
      "[81]\tvalid_0's binary_logloss: 0.245921\n",
      "[82]\tvalid_0's binary_logloss: 0.24582\n",
      "[83]\tvalid_0's binary_logloss: 0.245723\n",
      "[84]\tvalid_0's binary_logloss: 0.245634\n",
      "[85]\tvalid_0's binary_logloss: 0.245549\n",
      "[86]\tvalid_0's binary_logloss: 0.24547\n",
      "[87]\tvalid_0's binary_logloss: 0.245397\n",
      "[88]\tvalid_0's binary_logloss: 0.245327\n",
      "[89]\tvalid_0's binary_logloss: 0.24526\n",
      "[90]\tvalid_0's binary_logloss: 0.245197\n",
      "[91]\tvalid_0's binary_logloss: 0.245141\n",
      "[92]\tvalid_0's binary_logloss: 0.245083\n",
      "[93]\tvalid_0's binary_logloss: 0.245032\n",
      "[94]\tvalid_0's binary_logloss: 0.244985\n",
      "[95]\tvalid_0's binary_logloss: 0.244942\n",
      "[96]\tvalid_0's binary_logloss: 0.24489\n",
      "[97]\tvalid_0's binary_logloss: 0.244853\n",
      "[98]\tvalid_0's binary_logloss: 0.244812\n",
      "[99]\tvalid_0's binary_logloss: 0.24478\n",
      "[100]\tvalid_0's binary_logloss: 0.244738\n",
      "[101]\tvalid_0's binary_logloss: 0.244704\n",
      "[102]\tvalid_0's binary_logloss: 0.244676\n",
      "[103]\tvalid_0's binary_logloss: 0.244649\n",
      "[104]\tvalid_0's binary_logloss: 0.244624\n",
      "[105]\tvalid_0's binary_logloss: 0.244602\n",
      "[106]\tvalid_0's binary_logloss: 0.244576\n",
      "[107]\tvalid_0's binary_logloss: 0.244556\n",
      "[108]\tvalid_0's binary_logloss: 0.244535\n",
      "[109]\tvalid_0's binary_logloss: 0.244511\n",
      "[110]\tvalid_0's binary_logloss: 0.244489\n",
      "[111]\tvalid_0's binary_logloss: 0.24447\n",
      "[112]\tvalid_0's binary_logloss: 0.244451\n",
      "[113]\tvalid_0's binary_logloss: 0.244435\n",
      "[114]\tvalid_0's binary_logloss: 0.244417\n",
      "[115]\tvalid_0's binary_logloss: 0.244402\n",
      "[116]\tvalid_0's binary_logloss: 0.244382\n",
      "[117]\tvalid_0's binary_logloss: 0.244366\n",
      "[118]\tvalid_0's binary_logloss: 0.244351\n",
      "[119]\tvalid_0's binary_logloss: 0.244337\n",
      "[120]\tvalid_0's binary_logloss: 0.244322\n",
      "[121]\tvalid_0's binary_logloss: 0.244313\n",
      "[122]\tvalid_0's binary_logloss: 0.244302\n",
      "[123]\tvalid_0's binary_logloss: 0.244293\n",
      "[124]\tvalid_0's binary_logloss: 0.244278\n",
      "[125]\tvalid_0's binary_logloss: 0.244266\n",
      "[126]\tvalid_0's binary_logloss: 0.244249\n",
      "[127]\tvalid_0's binary_logloss: 0.244241\n",
      "[128]\tvalid_0's binary_logloss: 0.244225\n",
      "[129]\tvalid_0's binary_logloss: 0.244219\n",
      "[130]\tvalid_0's binary_logloss: 0.244208\n",
      "[131]\tvalid_0's binary_logloss: 0.244195\n",
      "[132]\tvalid_0's binary_logloss: 0.244185\n",
      "[133]\tvalid_0's binary_logloss: 0.244177\n",
      "[134]\tvalid_0's binary_logloss: 0.244168\n",
      "[135]\tvalid_0's binary_logloss: 0.24416\n",
      "[136]\tvalid_0's binary_logloss: 0.244138\n",
      "[137]\tvalid_0's binary_logloss: 0.244128\n",
      "[138]\tvalid_0's binary_logloss: 0.244122\n",
      "[139]\tvalid_0's binary_logloss: 0.244115\n",
      "[140]\tvalid_0's binary_logloss: 0.244111\n",
      "[141]\tvalid_0's binary_logloss: 0.244109\n",
      "[142]\tvalid_0's binary_logloss: 0.244104\n",
      "[143]\tvalid_0's binary_logloss: 0.244097\n",
      "[144]\tvalid_0's binary_logloss: 0.24409\n",
      "[145]\tvalid_0's binary_logloss: 0.244086\n",
      "[146]\tvalid_0's binary_logloss: 0.244078\n",
      "[147]\tvalid_0's binary_logloss: 0.244073\n",
      "[148]\tvalid_0's binary_logloss: 0.244066\n",
      "[149]\tvalid_0's binary_logloss: 0.244061\n",
      "[150]\tvalid_0's binary_logloss: 0.244056\n",
      "[151]\tvalid_0's binary_logloss: 0.244051\n",
      "[152]\tvalid_0's binary_logloss: 0.244047\n",
      "[153]\tvalid_0's binary_logloss: 0.244032\n",
      "[154]\tvalid_0's binary_logloss: 0.244028\n",
      "[155]\tvalid_0's binary_logloss: 0.244022\n",
      "[156]\tvalid_0's binary_logloss: 0.244015\n",
      "[157]\tvalid_0's binary_logloss: 0.244007\n",
      "[158]\tvalid_0's binary_logloss: 0.244004\n",
      "[159]\tvalid_0's binary_logloss: 0.243997\n",
      "[160]\tvalid_0's binary_logloss: 0.243989\n",
      "[161]\tvalid_0's binary_logloss: 0.243984\n",
      "[162]\tvalid_0's binary_logloss: 0.243981\n",
      "[163]\tvalid_0's binary_logloss: 0.243977\n",
      "[164]\tvalid_0's binary_logloss: 0.243975\n",
      "[165]\tvalid_0's binary_logloss: 0.243977\n",
      "[166]\tvalid_0's binary_logloss: 0.243977\n",
      "[167]\tvalid_0's binary_logloss: 0.243976\n",
      "[168]\tvalid_0's binary_logloss: 0.243974\n",
      "[169]\tvalid_0's binary_logloss: 0.243957\n",
      "[170]\tvalid_0's binary_logloss: 0.243942\n",
      "[171]\tvalid_0's binary_logloss: 0.243941\n",
      "[172]\tvalid_0's binary_logloss: 0.24394\n",
      "[173]\tvalid_0's binary_logloss: 0.243938\n",
      "[174]\tvalid_0's binary_logloss: 0.243928\n",
      "[175]\tvalid_0's binary_logloss: 0.243924\n",
      "[176]\tvalid_0's binary_logloss: 0.243918\n",
      "[177]\tvalid_0's binary_logloss: 0.243915\n",
      "[178]\tvalid_0's binary_logloss: 0.243908\n",
      "[179]\tvalid_0's binary_logloss: 0.243909\n",
      "[180]\tvalid_0's binary_logloss: 0.24391\n",
      "[181]\tvalid_0's binary_logloss: 0.2439\n",
      "[182]\tvalid_0's binary_logloss: 0.243902\n",
      "[183]\tvalid_0's binary_logloss: 0.243905\n",
      "[184]\tvalid_0's binary_logloss: 0.243896\n",
      "[185]\tvalid_0's binary_logloss: 0.243884\n",
      "[186]\tvalid_0's binary_logloss: 0.243881\n",
      "[187]\tvalid_0's binary_logloss: 0.24388\n",
      "[188]\tvalid_0's binary_logloss: 0.243875\n",
      "[189]\tvalid_0's binary_logloss: 0.243874\n",
      "[190]\tvalid_0's binary_logloss: 0.243875\n",
      "[191]\tvalid_0's binary_logloss: 0.243871\n",
      "[192]\tvalid_0's binary_logloss: 0.24387\n",
      "[193]\tvalid_0's binary_logloss: 0.243858\n",
      "[194]\tvalid_0's binary_logloss: 0.243854\n",
      "[195]\tvalid_0's binary_logloss: 0.243853\n",
      "[196]\tvalid_0's binary_logloss: 0.24385\n",
      "[197]\tvalid_0's binary_logloss: 0.243845\n",
      "[198]\tvalid_0's binary_logloss: 0.243843\n",
      "[199]\tvalid_0's binary_logloss: 0.243835\n",
      "[200]\tvalid_0's binary_logloss: 0.243833\n",
      "[201]\tvalid_0's binary_logloss: 0.243835\n",
      "[202]\tvalid_0's binary_logloss: 0.243834\n",
      "[203]\tvalid_0's binary_logloss: 0.243832\n",
      "[204]\tvalid_0's binary_logloss: 0.24383\n",
      "[205]\tvalid_0's binary_logloss: 0.243832\n",
      "[206]\tvalid_0's binary_logloss: 0.243827\n",
      "[207]\tvalid_0's binary_logloss: 0.243826\n",
      "[208]\tvalid_0's binary_logloss: 0.243821\n",
      "[209]\tvalid_0's binary_logloss: 0.243818\n",
      "[210]\tvalid_0's binary_logloss: 0.243814\n",
      "[211]\tvalid_0's binary_logloss: 0.243812\n",
      "[212]\tvalid_0's binary_logloss: 0.24381\n",
      "[213]\tvalid_0's binary_logloss: 0.243805\n",
      "[214]\tvalid_0's binary_logloss: 0.243801\n",
      "[215]\tvalid_0's binary_logloss: 0.243802\n",
      "[216]\tvalid_0's binary_logloss: 0.243799\n",
      "[217]\tvalid_0's binary_logloss: 0.243796\n",
      "[218]\tvalid_0's binary_logloss: 0.243796\n",
      "[219]\tvalid_0's binary_logloss: 0.243796\n",
      "[220]\tvalid_0's binary_logloss: 0.243795\n",
      "[221]\tvalid_0's binary_logloss: 0.243795\n",
      "[222]\tvalid_0's binary_logloss: 0.243797\n",
      "[223]\tvalid_0's binary_logloss: 0.243795\n",
      "[224]\tvalid_0's binary_logloss: 0.243796\n",
      "[225]\tvalid_0's binary_logloss: 0.243796\n",
      "[226]\tvalid_0's binary_logloss: 0.243793\n",
      "[227]\tvalid_0's binary_logloss: 0.243789\n",
      "[228]\tvalid_0's binary_logloss: 0.243787\n",
      "[229]\tvalid_0's binary_logloss: 0.243785\n",
      "[230]\tvalid_0's binary_logloss: 0.243784\n",
      "[231]\tvalid_0's binary_logloss: 0.243783\n",
      "[232]\tvalid_0's binary_logloss: 0.243779\n",
      "[233]\tvalid_0's binary_logloss: 0.243778\n",
      "[234]\tvalid_0's binary_logloss: 0.243775\n",
      "[235]\tvalid_0's binary_logloss: 0.243775\n",
      "[236]\tvalid_0's binary_logloss: 0.243774\n",
      "[237]\tvalid_0's binary_logloss: 0.243773\n",
      "[238]\tvalid_0's binary_logloss: 0.243761\n",
      "[239]\tvalid_0's binary_logloss: 0.243752\n",
      "[240]\tvalid_0's binary_logloss: 0.243752\n",
      "[241]\tvalid_0's binary_logloss: 0.24375\n",
      "[242]\tvalid_0's binary_logloss: 0.243742\n",
      "[243]\tvalid_0's binary_logloss: 0.243737\n",
      "[244]\tvalid_0's binary_logloss: 0.243735\n",
      "[245]\tvalid_0's binary_logloss: 0.243737\n",
      "[246]\tvalid_0's binary_logloss: 0.243736\n",
      "[247]\tvalid_0's binary_logloss: 0.243736\n",
      "[248]\tvalid_0's binary_logloss: 0.243737\n",
      "[249]\tvalid_0's binary_logloss: 0.243738\n",
      "[250]\tvalid_0's binary_logloss: 0.243738\n",
      "[251]\tvalid_0's binary_logloss: 0.243735\n",
      "[252]\tvalid_0's binary_logloss: 0.243734\n",
      "[253]\tvalid_0's binary_logloss: 0.243734\n",
      "[254]\tvalid_0's binary_logloss: 0.243733\n",
      "[255]\tvalid_0's binary_logloss: 0.243731\n",
      "[256]\tvalid_0's binary_logloss: 0.243731\n",
      "[257]\tvalid_0's binary_logloss: 0.243729\n",
      "[258]\tvalid_0's binary_logloss: 0.243728\n",
      "[259]\tvalid_0's binary_logloss: 0.243727\n",
      "[260]\tvalid_0's binary_logloss: 0.243726\n",
      "[261]\tvalid_0's binary_logloss: 0.243726\n",
      "[262]\tvalid_0's binary_logloss: 0.243725\n",
      "[263]\tvalid_0's binary_logloss: 0.243727\n",
      "[264]\tvalid_0's binary_logloss: 0.243727\n",
      "[265]\tvalid_0's binary_logloss: 0.243725\n",
      "[266]\tvalid_0's binary_logloss: 0.243724\n",
      "[267]\tvalid_0's binary_logloss: 0.243724\n",
      "[268]\tvalid_0's binary_logloss: 0.243724\n",
      "[269]\tvalid_0's binary_logloss: 0.243724\n",
      "[270]\tvalid_0's binary_logloss: 0.243726\n",
      "[271]\tvalid_0's binary_logloss: 0.24372\n",
      "[272]\tvalid_0's binary_logloss: 0.243715\n",
      "[273]\tvalid_0's binary_logloss: 0.243714\n",
      "[274]\tvalid_0's binary_logloss: 0.243713\n",
      "[275]\tvalid_0's binary_logloss: 0.243712\n",
      "[276]\tvalid_0's binary_logloss: 0.243713\n",
      "[277]\tvalid_0's binary_logloss: 0.243712\n",
      "[278]\tvalid_0's binary_logloss: 0.24371\n",
      "[279]\tvalid_0's binary_logloss: 0.24371\n",
      "[280]\tvalid_0's binary_logloss: 0.24371\n",
      "[281]\tvalid_0's binary_logloss: 0.24371\n",
      "[282]\tvalid_0's binary_logloss: 0.24371\n",
      "[283]\tvalid_0's binary_logloss: 0.24371\n",
      "[284]\tvalid_0's binary_logloss: 0.243708\n",
      "[285]\tvalid_0's binary_logloss: 0.243707\n",
      "[286]\tvalid_0's binary_logloss: 0.243708\n",
      "[287]\tvalid_0's binary_logloss: 0.243709\n",
      "[288]\tvalid_0's binary_logloss: 0.243709\n",
      "[289]\tvalid_0's binary_logloss: 0.243708\n",
      "[290]\tvalid_0's binary_logloss: 0.243708\n",
      "[291]\tvalid_0's binary_logloss: 0.243707\n",
      "[292]\tvalid_0's binary_logloss: 0.243708\n",
      "[293]\tvalid_0's binary_logloss: 0.243709\n",
      "[294]\tvalid_0's binary_logloss: 0.243708\n",
      "[295]\tvalid_0's binary_logloss: 0.243708\n",
      "[296]\tvalid_0's binary_logloss: 0.243706\n",
      "[297]\tvalid_0's binary_logloss: 0.243706\n",
      "[298]\tvalid_0's binary_logloss: 0.243705\n",
      "[299]\tvalid_0's binary_logloss: 0.243705\n",
      "[300]\tvalid_0's binary_logloss: 0.243706\n",
      "[301]\tvalid_0's binary_logloss: 0.243703\n",
      "[302]\tvalid_0's binary_logloss: 0.243703\n",
      "[303]\tvalid_0's binary_logloss: 0.243702\n",
      "[304]\tvalid_0's binary_logloss: 0.243702\n",
      "[305]\tvalid_0's binary_logloss: 0.243702\n",
      "[306]\tvalid_0's binary_logloss: 0.243701\n",
      "[307]\tvalid_0's binary_logloss: 0.243699\n",
      "[308]\tvalid_0's binary_logloss: 0.243697\n",
      "[309]\tvalid_0's binary_logloss: 0.243694\n",
      "[310]\tvalid_0's binary_logloss: 0.243693\n",
      "[311]\tvalid_0's binary_logloss: 0.243693\n",
      "[312]\tvalid_0's binary_logloss: 0.243689\n",
      "[313]\tvalid_0's binary_logloss: 0.243686\n",
      "[314]\tvalid_0's binary_logloss: 0.243684\n",
      "[315]\tvalid_0's binary_logloss: 0.243685\n",
      "[316]\tvalid_0's binary_logloss: 0.243684\n",
      "[317]\tvalid_0's binary_logloss: 0.243677\n",
      "[318]\tvalid_0's binary_logloss: 0.243676\n",
      "[319]\tvalid_0's binary_logloss: 0.243674\n",
      "[320]\tvalid_0's binary_logloss: 0.243666\n",
      "[321]\tvalid_0's binary_logloss: 0.243666\n",
      "[322]\tvalid_0's binary_logloss: 0.243663\n",
      "[323]\tvalid_0's binary_logloss: 0.243663\n",
      "[324]\tvalid_0's binary_logloss: 0.243664\n",
      "[325]\tvalid_0's binary_logloss: 0.243665\n",
      "[326]\tvalid_0's binary_logloss: 0.243666\n",
      "[327]\tvalid_0's binary_logloss: 0.243664\n",
      "[328]\tvalid_0's binary_logloss: 0.243663\n",
      "[329]\tvalid_0's binary_logloss: 0.243662\n",
      "[330]\tvalid_0's binary_logloss: 0.243663\n",
      "[331]\tvalid_0's binary_logloss: 0.243663\n",
      "[332]\tvalid_0's binary_logloss: 0.243664\n",
      "[333]\tvalid_0's binary_logloss: 0.243663\n",
      "[334]\tvalid_0's binary_logloss: 0.243663\n",
      "[335]\tvalid_0's binary_logloss: 0.243661\n",
      "[336]\tvalid_0's binary_logloss: 0.243662\n",
      "[337]\tvalid_0's binary_logloss: 0.243661\n",
      "[338]\tvalid_0's binary_logloss: 0.24366\n",
      "[339]\tvalid_0's binary_logloss: 0.243661\n",
      "[340]\tvalid_0's binary_logloss: 0.243662\n",
      "[341]\tvalid_0's binary_logloss: 0.243662\n",
      "[342]\tvalid_0's binary_logloss: 0.243661\n",
      "[343]\tvalid_0's binary_logloss: 0.24366\n",
      "[344]\tvalid_0's binary_logloss: 0.24366\n",
      "[345]\tvalid_0's binary_logloss: 0.24366\n",
      "[346]\tvalid_0's binary_logloss: 0.243659\n",
      "[347]\tvalid_0's binary_logloss: 0.24366\n",
      "[348]\tvalid_0's binary_logloss: 0.243661\n",
      "[349]\tvalid_0's binary_logloss: 0.243662\n",
      "[350]\tvalid_0's binary_logloss: 0.243659\n",
      "[351]\tvalid_0's binary_logloss: 0.243655\n",
      "[352]\tvalid_0's binary_logloss: 0.243657\n",
      "[353]\tvalid_0's binary_logloss: 0.243655\n",
      "[354]\tvalid_0's binary_logloss: 0.243656\n",
      "[355]\tvalid_0's binary_logloss: 0.243656\n",
      "[356]\tvalid_0's binary_logloss: 0.243655\n",
      "[357]\tvalid_0's binary_logloss: 0.243655\n",
      "[358]\tvalid_0's binary_logloss: 0.243654\n",
      "[359]\tvalid_0's binary_logloss: 0.243653\n",
      "[360]\tvalid_0's binary_logloss: 0.243652\n",
      "[361]\tvalid_0's binary_logloss: 0.243652\n",
      "[362]\tvalid_0's binary_logloss: 0.243652\n",
      "[363]\tvalid_0's binary_logloss: 0.243653\n",
      "[364]\tvalid_0's binary_logloss: 0.243652\n",
      "[365]\tvalid_0's binary_logloss: 0.243653\n",
      "[366]\tvalid_0's binary_logloss: 0.243653\n",
      "[367]\tvalid_0's binary_logloss: 0.243653\n",
      "[368]\tvalid_0's binary_logloss: 0.243653\n",
      "[369]\tvalid_0's binary_logloss: 0.243653\n",
      "[370]\tvalid_0's binary_logloss: 0.243654\n",
      "Early stopping, best iteration is:\n",
      "[360]\tvalid_0's binary_logloss: 0.243652\n"
     ]
    }
   ],
   "source": [
    "params = {\n",
    "    'task': 'train',\n",
    "    'boosting_type': 'gbdt',\n",
    "    'objective': 'binary',\n",
    "    'metric': ['binary_logloss'],\n",
    "    'num_leaves': 96,\n",
    "    'learning_rate': 0.05,\n",
    "    'feature_fraction': 0.9,\n",
    "    'bagging_fraction': 0.9,\n",
    "    'bagging_freq': 5,\n",
    "    'verbose': 0\n",
    "}\n",
    "\n",
    "gbm = lgb.train(params,\n",
    "                lgb_train,\n",
    "                num_boost_round=500,\n",
    "                valid_sets=lgb_eval,\n",
    "                early_stopping_rounds=10)"
   ]
  },
  {
   "cell_type": "markdown",
   "metadata": {},
   "source": [
    "Plot importance ratings"
   ]
  },
  {
   "cell_type": "code",
   "execution_count": 79,
   "metadata": {
    "collapsed": false
   },
   "outputs": [
    {
     "name": "stdout",
     "output_type": "stream",
     "text": [
      "    importance                          var\n",
      "13        2586    upf_days_since_last_order\n",
      "12        1996           upf_last_order_day\n",
      "20        1779                pf_perc_users\n",
      "16        1632        uf_avg_days_bw_orders\n",
      "17        1605              uf_num_products\n",
      "14        1582  upf_orders_since_last_order\n",
      "18        1388                uf_num_aisles\n",
      "30        1307              reorder_overdue\n",
      "5         1302          upf_perc_all_orders\n",
      "22        1280             pf_perc_reorders\n",
      "29        1278                order_overdue\n",
      "24        1166          pf_reorders_per_day\n",
      "3         1043            order_hour_of_day\n",
      "7         1024           upf_orders_per_day\n",
      "6         1020             upf_perc_reorder\n",
      "1          924                     aisle_id\n",
      "26         909       pf_avg_first_order_day\n",
      "10         885          upf_first_order_day\n",
      "21         876           pf_perc_all_orders\n",
      "28         854     tf_department_tod_factor\n",
      "27         853          tf_aisle_tod_factor\n",
      "0          809                   product_id\n",
      "2          794                department_id\n",
      "11         748        upf_last_order_number\n",
      "25         726    pf_avg_first_order_number\n",
      "8          723         upf_reorders_per_day\n",
      "4          692                    order_dow\n",
      "19         651           uf_num_departments\n",
      "23         643            pf_orders_per_day\n",
      "15         632                uf_num_orders\n",
      "9          493       upf_first_order_number\n"
     ]
    }
   ],
   "source": [
    "importance = {'var': gbm.feature_name(), 'importance': gbm.feature_importance()}\n",
    "importance_df = pd.DataFrame(data=importance)\n",
    "importance_df.sort_values('importance', ascending=False, inplace=True)\n",
    "print(importance_df)"
   ]
  },
  {
   "cell_type": "markdown",
   "metadata": {},
   "source": [
    "## Calculate F1 Score on Eval Set\n",
    "\n",
    "Use model to generate predictions, outer join with actual orders, and calculate F1 score"
   ]
  },
  {
   "cell_type": "markdown",
   "metadata": {},
   "source": [
    "Pull down actual orders"
   ]
  },
  {
   "cell_type": "code",
   "execution_count": 38,
   "metadata": {
    "collapsed": true
   },
   "outputs": [],
   "source": [
    "%%bq query -n actuals\n",
    "SELECT order_id, product_id FROM instacart.order_products__train"
   ]
  },
  {
   "cell_type": "code",
   "execution_count": 42,
   "metadata": {
    "collapsed": true
   },
   "outputs": [],
   "source": [
    "actuals_df = actuals.execute(output_options=bq.QueryOutput.dataframe()).result()\n",
    "actuals_df = actuals_df.merge(df_eval[['order_id']].drop_duplicates(), on = ['order_id'], how = \"inner\")"
   ]
  },
  {
   "cell_type": "markdown",
   "metadata": {},
   "source": [
    "Generate predictions for eval set"
   ]
  },
  {
   "cell_type": "code",
   "execution_count": 86,
   "metadata": {
    "collapsed": false
   },
   "outputs": [],
   "source": [
    "pred_threshold = 0.18\n",
    "y_eval_pred = gbm.predict(x_eval, num_iteration=gbm.best_iteration)\n",
    "pred_df = df_eval.loc[y_eval_pred > pred_threshold, ['order_id', 'product_id']]"
   ]
  },
  {
   "cell_type": "markdown",
   "metadata": {},
   "source": [
    "Join together"
   ]
  },
  {
   "cell_type": "code",
   "execution_count": 83,
   "metadata": {
    "collapsed": false
   },
   "outputs": [
    {
     "name": "stdout",
     "output_type": "stream",
     "text": [
      "0.34589262493\n"
     ]
    }
   ],
   "source": [
    "actuals_df['actual'] = 1\n",
    "pred_df['predicted'] = 1\n",
    "all_df = actuals_df.merge(pred_df, on = ['order_id', 'product_id'], how = \"outer\")\n",
    "all_df.fillna(0, inplace = True)\n",
    "print(f1_score(all_df.actual, all_df.predicted))"
   ]
  },
  {
   "cell_type": "markdown",
   "metadata": {},
   "source": [
    "## Create Predictions for Test\n",
    "\n",
    "Use model to generate predictions for our test set"
   ]
  },
  {
   "cell_type": "code",
   "execution_count": 94,
   "metadata": {
    "collapsed": false
   },
   "outputs": [],
   "source": [
    "y_test_pred = gbm.predict(x_test, num_iteration=gbm.best_iteration)\n",
    "df_test2 = df_test.loc[y_test_pred > pred_threshold, ['order_id', 'product_id']]\n",
    "aggregation = {'product_id': [lambda x: ' '.join([str(i) for i in x])]}\n",
    "df_test3 = df_test2.groupby(by = ['order_id'], as_index = False).agg(aggregation)\n",
    "df_test3.columns = ['order_id', 'products']\n",
    "df_test3.head(5)"
   ]
  },
  {
   "cell_type": "code",
   "execution_count": 101,
   "metadata": {
    "collapsed": false
   },
   "outputs": [
    {
     "name": "stderr",
     "output_type": "stream",
     "text": [
      "'buf.getvalue()'\n"
     ]
    }
   ],
   "source": [
    "buf = StringIO()\n",
    "df_test3.to_csv(buf, index = None)\n",
    "bucket_object3 = bucket_path + '/reorder_model/test_predictions.csv'\n",
    "%storage write --variable buf.getvalue() --object $bucket_object3"
   ]
  },
  {
   "cell_type": "code",
   "execution_count": null,
   "metadata": {
    "collapsed": true
   },
   "outputs": [],
   "source": []
  }
 ],
 "metadata": {
  "kernelspec": {
   "display_name": "Python 2",
   "language": "python",
   "name": "python2"
  },
  "language_info": {
   "codemirror_mode": {
    "name": "ipython",
    "version": 2
   },
   "file_extension": ".py",
   "mimetype": "text/x-python",
   "name": "python",
   "nbconvert_exporter": "python",
   "pygments_lexer": "ipython2",
   "version": "2.7.9"
  }
 },
 "nbformat": 4,
 "nbformat_minor": 2
}

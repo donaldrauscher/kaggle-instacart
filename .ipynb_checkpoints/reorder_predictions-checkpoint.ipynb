{
 "cells": [
  {
   "cell_type": "code",
   "execution_count": 3,
   "metadata": {
    "collapsed": true
   },
   "outputs": [],
   "source": [
    "import google.datalab.bigquery as bq\n",
    "import pandas as pd"
   ]
  },
  {
   "cell_type": "markdown",
   "metadata": {},
   "source": [
    "## User-Product Attributes\n",
    "\n",
    "Some metrics for how often a specific user purchases a specific product"
   ]
  },
  {
   "cell_type": "code",
   "execution_count": 5,
   "metadata": {
    "collapsed": true
   },
   "outputs": [],
   "source": [
    "%%bq query -n user_products_query\n",
    "SELECT orders.user_id, op.product_id,\n",
    "  COUNT(*) / ANY_VALUE(orders.num_orders) AS `perc_all_orders`,\n",
    "  SUM(op.reordered) / NULLIF(ANY_VALUE(orders.num_orders) - MIN(orders.order_number),0) AS `perc_reorder`,\n",
    "  COUNT(*) / NULLIF(ANY_VALUE(orders.days_bw_first_last_order),0) * 30 AS `orders_per_month`,\n",
    "  SUM(op.reordered) / NULLIF(ANY_VALUE(orders.days_bw_first_last_order) - MIN(days_since_first_order),0) * 30 AS `reorders_per_month`,\n",
    "  MIN(orders.order_number) AS `first_order_number`,\n",
    "  CASE WHEN MIN(orders.order_number) = 1 THEN 0 ELSE MIN(days_since_first_order) END AS `first_order_days`\n",
    "FROM (\n",
    "  SELECT *, \n",
    "  SUM(days_since_prior_order) OVER (PARTITION BY user_id ORDER BY order_number ASC ROWS BETWEEN UNBOUNDED PRECEDING AND CURRENT ROW) AS `days_since_first_order`,\n",
    "  SUM(days_since_prior_order) OVER (PARTITION BY user_id) AS `days_bw_first_last_order`,\n",
    "  COUNT(*) OVER (PARTITION BY user_id) AS `num_orders`\n",
    "  FROM instacart.orders WHERE eval_set = \"prior\"\n",
    ") AS orders\n",
    "INNER JOIN instacart.order_products__prior AS op ON orders.order_id = op.order_id\n",
    "WHERE orders.user_id >= @user_min AND orders.user_id <= @user_max\n",
    "GROUP BY 1,2\n",
    "ORDER BY orders.user_id ASC, op.product_id ASC"
   ]
  },
  {
   "cell_type": "code",
   "execution_count": null,
   "metadata": {
    "collapsed": false
   },
   "outputs": [],
   "source": [
    "def fetch_user_products(user_min, user_max):\n",
    "    query_params = [\n",
    "        {'name': 'user_min', 'parameterType': {'type': 'INT64'}, 'parameterValue': {'value': user_min}},\n",
    "        {'name': 'user_max', 'parameterType': {'type': 'INT64'}, 'parameterValue': {'value': user_max}}        \n",
    "    ]\n",
    "\n",
    "    user_products = user_products_query.execute(\n",
    "        output_options = bq.QueryOutput.dataframe(), \n",
    "        query_params = query_params\n",
    "    ).result()\n",
    "    \n",
    "    return user_products\n",
    "\n",
    "# split into pieces due to size\n",
    "up1 = fetch_user_products(1,50000)\n",
    "up2 = fetch_user_products(50001,100000)\n",
    "up3 = fetch_user_products(100001,150000)\n",
    "up4 = fetch_user_products(150001,200000)\n",
    "up5 = fetch_user_products(200001,250000)\n",
    "user_products = pd.concat([up1,up2,up3,up4,up5], axis=0)"
   ]
  },
  {
   "cell_type": "code",
   "execution_count": null,
   "metadata": {
    "collapsed": true
   },
   "outputs": [],
   "source": [
    "## Time-of-Day Factors\n",
    "\n",
    "For each aisle/department, compute how much more li"
   ]
  }
 ],
 "metadata": {
  "kernelspec": {
   "display_name": "Python 2",
   "language": "python",
   "name": "python2"
  },
  "language_info": {
   "codemirror_mode": {
    "name": "ipython",
    "version": 2
   },
   "file_extension": ".py",
   "mimetype": "text/x-python",
   "name": "python",
   "nbconvert_exporter": "python",
   "pygments_lexer": "ipython2",
   "version": "2.7.9"
  }
 },
 "nbformat": 4,
 "nbformat_minor": 2
}

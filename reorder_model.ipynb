{
 "cells": [
  {
   "cell_type": "code",
   "execution_count": 1,
   "metadata": {},
   "outputs": [],
   "source": [
    "import pyspark\n",
    "from pyspark.sql import SQLContext\n",
    "from google.cloud import bigquery"
   ]
  },
  {
   "cell_type": "code",
   "execution_count": 2,
   "metadata": {},
   "outputs": [
    {
     "data": {
      "text/plain": [
       "<google.cloud.bigquery.table.RowIterator at 0x7fbf9beba400>"
      ]
     },
     "execution_count": 2,
     "metadata": {},
     "output_type": "execute_result"
    }
   ],
   "source": [
    "bq_client = bigquery.Client()\n",
    "job_config = bigquery.QueryJobConfig()\n",
    "\n",
    "table_ref = bq_client.dataset('instacart').table('reorder_model')\n",
    "job_config.destination = table_ref\n",
    "job_config.write_disposition = 'WRITE_TRUNCATE'\n",
    "\n",
    "query = \"\"\"\n",
    "    WITH users AS (\n",
    "      SELECT user_id, COUNT(*) AS num_orders, SUM(days_since_prior_order) AS days_bw_first_last_order\n",
    "      FROM instacart.orders\n",
    "      WHERE eval_set = \"prior\"\n",
    "      GROUP BY 1\n",
    "    ), user_product AS (\n",
    "      SELECT orders.user_id, op.product_id, \n",
    "        COUNT(*) AS num_orders, SUM(op.reordered) AS num_reorders,\n",
    "        MIN(orders.order_number) AS first_order_number, MIN(days_since_first_order) AS first_order_day,\n",
    "        MAX(orders.order_number) AS last_order_number, MAX(days_since_first_order) AS last_order_day,\n",
    "        AVG(op.add_to_cart_order) AS avg_cart_order\n",
    "      FROM instacart.order_products__prior AS op\n",
    "      INNER JOIN (\n",
    "        SELECT *,\n",
    "          SUM(COALESCE(days_since_prior_order,0)) OVER (PARTITION BY user_id ORDER BY order_number ASC ROWS BETWEEN UNBOUNDED PRECEDING AND CURRENT ROW) AS `days_since_first_order`\n",
    "        FROM instacart.orders \n",
    "        WHERE eval_set = \"prior\"\n",
    "      ) AS orders USING(order_id)\n",
    "      GROUP BY 1,2\n",
    "    ), user_product_features AS (\n",
    "      SELECT up.user_id, up.product_id,\n",
    "        up.num_orders / users.num_orders AS perc_all_orders,\n",
    "        SAFE_DIVIDE(up.num_reorders, users.num_orders - up.first_order_number) AS perc_reorder,\n",
    "        SAFE_DIVIDE(up.num_orders, users.days_bw_first_last_order) AS orders_per_day,\n",
    "        SAFE_DIVIDE(up.num_reorders, users.days_bw_first_last_order - up.first_order_day) AS reorders_per_day,\n",
    "        up.first_order_number, up.first_order_day, up.last_order_number, up.last_order_day, up.avg_cart_order, \n",
    "        users.days_bw_first_last_order\n",
    "      FROM user_product AS up\n",
    "      INNER JOIN users AS users USING(user_id)\n",
    "    ), user_features AS (\n",
    "      SELECT orders.user_id,\n",
    "        ANY_VALUE(users.num_orders) AS num_orders,\n",
    "        ANY_VALUE(users.days_bw_first_last_order) AS days_bw_first_last_order,\n",
    "        ANY_VALUE(users.days_bw_first_last_order) / ANY_VALUE(users.num_orders) AS avg_days_bw_orders,\n",
    "        COUNT(*) / ANY_VALUE(users.num_orders) AS num_products_per_order,\n",
    "        SUM(op.reordered) / SUM(CASE WHEN orders.order_number > 1 THEN 1 ELSE 0 END) AS perc_reorder,\n",
    "        COUNT(DISTINCT op.product_id) AS num_products,\n",
    "        COUNT(DISTINCT products.aisle_id) AS num_aisles,\n",
    "        COUNT(DISTINCT products.department_id) AS num_departments\n",
    "      FROM instacart.orders AS orders\n",
    "      INNER JOIN instacart.order_products__prior AS op USING(order_id)\n",
    "      INNER JOIN instacart.products AS products USING(product_id)\n",
    "      INNER JOIN users USING(user_id)\n",
    "      GROUP BY 1\n",
    "    ), product_features AS (\n",
    "      SELECT product_id, aisle_id, department_id,\n",
    "        num_users / num_users_tot AS perc_users,\n",
    "        num_orders / num_orders_tot AS perc_all_orders,\n",
    "        num_reorder / num_reorder_tot AS perc_reorder\n",
    "      FROM (\n",
    "        SELECT products.product_id, products.aisle_id, products.department_id,\n",
    "          COUNT(DISTINCT orders.user_id) AS num_users,\n",
    "          COUNT(*) AS num_orders, \n",
    "          SUM(op.reordered) AS num_reorder\n",
    "        FROM instacart.orders AS orders\n",
    "        INNER JOIN instacart.order_products__prior AS op USING(order_id)\n",
    "        INNER JOIN instacart.products AS products USING(product_id)\n",
    "        GROUP BY 1,2,3\n",
    "      ) AS x\n",
    "      INNER JOIN (\n",
    "        SELECT COUNT(DISTINCT user_id) AS num_users_tot,\n",
    "          COUNT(*) AS num_orders_tot, \n",
    "          SUM(CASE WHEN order_number > 1 THEN 1 ELSE 0 END) AS num_reorder_tot\n",
    "        FROM instacart.orders\n",
    "        WHERE eval_set = \"prior\"\n",
    "      ) AS y ON 1=1\n",
    "    ), all_features AS (\n",
    "      SELECT\n",
    "        upf.user_id,\n",
    "        upf.product_id,\n",
    "        pf.aisle_id,\n",
    "        pf.department_id,\n",
    "        upf.perc_all_orders AS upf_perc_all_orders,\n",
    "        upf.perc_reorder AS upf_perc_reorder,\n",
    "        upf.orders_per_day AS upf_orders_per_day,\n",
    "        upf.reorders_per_day AS upf_reorders_per_day,\n",
    "        upf.first_order_number AS upf_first_order_number,\n",
    "        upf.first_order_day AS upf_first_order_day,\n",
    "        upf.last_order_number AS upf_last_order_number,\n",
    "        upf.last_order_day AS upf_last_order_day,\n",
    "        upf.avg_cart_order AS upf_avg_cart_order,\n",
    "        uf.num_orders AS uf_num_orders,\n",
    "        uf.num_products_per_order AS uf_num_products_per_order,\n",
    "        uf.perc_reorder AS uf_perc_reorder,\n",
    "        uf.days_bw_first_last_order AS uf_days_bw_first_last_order,\n",
    "        uf.avg_days_bw_orders AS uf_avg_days_bw_orders,\n",
    "        uf.num_products AS uf_num_products,\n",
    "        uf.num_aisles AS uf_num_aisles,\n",
    "        uf.num_departments AS uf_num_departments,\n",
    "        pf.perc_users AS pf_perc_users,\n",
    "        pf.perc_all_orders AS pf_perc_all_orders,\n",
    "        pf.perc_reorder AS pf_perc_reorder\n",
    "      FROM user_product_features AS upf\n",
    "      INNER JOIN user_features AS uf USING(user_id)\n",
    "      INNER JOIN product_features AS pf USING(product_id)\n",
    "    )\n",
    "    SELECT af.*, \n",
    "      # a few other features that need to computed based on order\n",
    "      af.uf_days_bw_first_last_order - af.upf_last_order_day + o.days_since_prior_order AS days_since_last_order,\n",
    "      o.order_number - af.upf_last_order_number AS orders_since_last_order,\n",
    "      # train vs. test and reordered (only for train)\n",
    "      o.eval_set,\n",
    "      CASE WHEN o.eval_set = \"test\" THEN NULL ELSE LEAST(COALESCE(op_train.order_id,0),1) END AS reordered\n",
    "    FROM all_features AS af\n",
    "    INNER JOIN instacart.orders AS o ON af.user_id = o.user_id AND o.eval_set IN ('train','test')\n",
    "    LEFT JOIN instacart.order_products__train AS op_train ON o.order_id = op_train.order_id AND af.product_id = op_train.product_id\n",
    "\"\"\"\n",
    "\n",
    "query_job = bq_client.query(query, job_config=job_config)\n",
    "query_job.result()"
   ]
  },
  {
   "cell_type": "code",
   "execution_count": 3,
   "metadata": {},
   "outputs": [],
   "source": [
    "#sc = pyspark.SparkContext()\n",
    "bucket = sc._jsc.hadoopConfiguration().get('fs.gs.system.bucket')\n",
    "project = sc._jsc.hadoopConfiguration().get('fs.gs.project.id')\n",
    "input_directory = 'gs://{}/hadoop/tmp/bigquery/pyspark_input'.format(bucket)"
   ]
  },
  {
   "cell_type": "code",
   "execution_count": 4,
   "metadata": {},
   "outputs": [],
   "source": [
    "# for deleting temp files when we're done\n",
    "def cleanup(sess, input_directory):\n",
    "    input_path = sess._jvm.org.apache.hadoop.fs.Path(input_directory)\n",
    "    input_path.getFileSystem(sess._jsc.hadoopConfiguration()).delete(input_path, True)"
   ]
  },
  {
   "cell_type": "code",
   "execution_count": 5,
   "metadata": {},
   "outputs": [],
   "source": [
    "# load data from bq\n",
    "conf = {\n",
    "    'mapred.bq.project.id': project,\n",
    "    'mapred.bq.gcs.bucket': bucket,\n",
    "    'mapred.bq.temp.gcs.path': input_directory,\n",
    "    'mapred.bq.input.project.id': project,\n",
    "    'mapred.bq.input.dataset.id': 'instacart',\n",
    "    'mapred.bq.input.table.id': 'reorder_model',\n",
    "}\n",
    "\n",
    "cleanup(sc, input_directory)\n",
    "\n",
    "table_data = sc.newAPIHadoopRDD(\n",
    "    'com.google.cloud.hadoop.io.bigquery.JsonTextBigQueryInputFormat',\n",
    "    'org.apache.hadoop.io.LongWritable',\n",
    "    'com.google.gson.JsonObject',\n",
    "    conf=conf)"
   ]
  },
  {
   "cell_type": "code",
   "execution_count": 6,
   "metadata": {},
   "outputs": [
    {
     "data": {
      "text/plain": [
       "[(0,\n",
       "  '{\"user_id\":\"85565\",\"product_id\":\"48089\",\"aisle_id\":\"39\",\"department_id\":\"12\",\"upf_perc_all_orders\":0.1111111111111111,\"upf_perc_reorder\":0.22727272727272727,\"upf_orders_per_day\":0.018691588785046728,\"upf_reorders_per_day\":0.048543689320388349,\"upf_first_order_number\":\"32\",\"upf_first_order_day\":218,\"upf_last_order_number\":\"42\",\"upf_last_order_day\":272,\"upf_avg_cart_order\":5.5,\"uf_num_orders\":\"54\",\"uf_num_products_per_order\":11.12962962962963,\"uf_perc_reorder\":0.59322033898305082,\"uf_days_bw_first_last_order\":321,\"uf_avg_days_bw_orders\":5.9444444444444446,\"uf_num_products\":\"251\",\"uf_num_aisles\":\"70\",\"uf_num_departments\":\"16\",\"pf_perc_users\":0.00016003181238452249,\"pf_perc_all_orders\":1.8663250877017264e-05,\"pf_perc_reorder\":8.9740798659870732e-06,\"days_since_last_order\":53,\"orders_since_last_order\":\"13\",\"eval_set\":\"train\",\"reordered\":\"0\"}'),\n",
       " (849,\n",
       "  '{\"user_id\":\"205898\",\"product_id\":\"204\",\"aisle_id\":\"75\",\"department_id\":\"17\",\"upf_perc_all_orders\":0.3,\"upf_perc_reorder\":0.29310344827586204,\"upf_orders_per_day\":0.050991501416430593,\"upf_reorders_per_day\":0.048710601719197708,\"upf_first_order_number\":\"2\",\"upf_first_order_day\":4,\"upf_last_order_number\":\"55\",\"upf_last_order_day\":333,\"upf_avg_cart_order\":5.666666666666667,\"uf_num_orders\":\"60\",\"uf_num_products_per_order\":12.216666666666667,\"uf_perc_reorder\":0.75346260387811637,\"uf_days_bw_first_last_order\":353,\"uf_avg_days_bw_orders\":5.8833333333333337,\"uf_num_products\":\"189\",\"uf_num_aisles\":\"62\",\"uf_num_departments\":\"16\",\"pf_perc_users\":0.012574620894335359,\"pf_perc_all_orders\":0.0015338081679095355,\"pf_perc_reorder\":0.00077708884172880666,\"days_since_last_order\":25,\"orders_since_last_order\":\"6\",\"eval_set\":\"train\",\"reordered\":\"0\"}'),\n",
       " (1690,\n",
       "  '{\"user_id\":\"136300\",\"product_id\":\"47481\",\"aisle_id\":\"7\",\"department_id\":\"12\",\"upf_perc_all_orders\":0.012987012987012988,\"upf_perc_reorder\":0,\"upf_orders_per_day\":0.0028735632183908046,\"upf_reorders_per_day\":0,\"upf_first_order_number\":\"60\",\"upf_first_order_day\":290,\"upf_last_order_number\":\"60\",\"upf_last_order_day\":290,\"upf_avg_cart_order\":7,\"uf_num_orders\":\"77\",\"uf_num_products_per_order\":10.324675324675324,\"uf_perc_reorder\":0.79568527918781728,\"uf_days_bw_first_last_order\":348,\"uf_avg_days_bw_orders\":4.51948051948052,\"uf_num_products\":\"168\",\"uf_num_aisles\":\"60\",\"uf_num_departments\":\"16\",\"pf_perc_users\":0.0003443108690697302,\"pf_perc_all_orders\":3.0794363947078485e-05,\"pf_perc_reorder\":9.3064531943569659e-06,\"days_since_last_order\":65,\"orders_since_last_order\":\"18\",\"eval_set\":\"train\",\"reordered\":\"0\"}'),\n",
       " (2501,\n",
       "  '{\"user_id\":\"91822\",\"product_id\":\"13058\",\"aisle_id\":\"105\",\"department_id\":\"13\",\"upf_perc_all_orders\":0.02,\"upf_perc_reorder\":0,\"upf_orders_per_day\":0.0028248587570621469,\"upf_reorders_per_day\":0,\"upf_first_order_number\":\"45\",\"upf_first_order_day\":308,\"upf_last_order_number\":\"45\",\"upf_last_order_day\":308,\"upf_avg_cart_order\":5,\"uf_num_orders\":\"50\",\"uf_num_products_per_order\":26.78,\"uf_perc_reorder\":0.75133485888634632,\"uf_days_bw_first_last_order\":354,\"uf_avg_days_bw_orders\":7.08,\"uf_num_products\":\"354\",\"uf_num_aisles\":\"81\",\"uf_num_departments\":\"16\",\"pf_perc_users\":0.000960190874307135,\"pf_perc_all_orders\":7.4653003508069057e-05,\"pf_perc_reorder\":1.3959679791535449e-05,\"days_since_last_order\":54,\"orders_since_last_order\":\"6\",\"eval_set\":\"train\",\"reordered\":\"0\"}'),\n",
       " (3270,\n",
       "  '{\"user_id\":\"104042\",\"product_id\":\"14567\",\"aisle_id\":\"43\",\"department_id\":\"3\",\"upf_perc_all_orders\":0.05128205128205128,\"upf_perc_reorder\":0.05,\"upf_orders_per_day\":0.011267605633802818,\"upf_reorders_per_day\":0.010752688172043012,\"upf_first_order_number\":\"18\",\"upf_first_order_day\":76,\"upf_last_order_number\":\"45\",\"upf_last_order_day\":216,\"upf_avg_cart_order\":6.25,\"uf_num_orders\":\"78\",\"uf_num_products_per_order\":8.4871794871794872,\"uf_perc_reorder\":0.69938650306748462,\"uf_days_bw_first_last_order\":355,\"uf_avg_days_bw_orders\":4.5512820512820511,\"uf_num_products\":\"206\",\"uf_num_aisles\":\"65\",\"uf_num_departments\":\"17\",\"pf_perc_users\":0.00072741732902055684,\"pf_perc_all_orders\":0.00013935227321506223,\"pf_perc_reorder\":9.90472518542277e-05,\"days_since_last_order\":147,\"orders_since_last_order\":\"34\",\"eval_set\":\"train\",\"reordered\":\"0\"}')]"
      ]
     },
     "execution_count": 6,
     "metadata": {},
     "output_type": "execute_result"
    }
   ],
   "source": [
    "table_data.take(5)"
   ]
  }
 ],
 "metadata": {
  "kernelspec": {
   "display_name": "PySpark",
   "language": "python",
   "name": "pyspark"
  },
  "language_info": {
   "codemirror_mode": {
    "name": "ipython",
    "version": 3
   },
   "file_extension": ".py",
   "mimetype": "text/x-python",
   "name": "python",
   "nbconvert_exporter": "python",
   "pygments_lexer": "ipython3",
   "version": "3.6.4"
  }
 },
 "nbformat": 4,
 "nbformat_minor": 2
}
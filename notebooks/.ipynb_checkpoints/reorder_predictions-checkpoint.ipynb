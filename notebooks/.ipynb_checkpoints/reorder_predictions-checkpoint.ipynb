{
 "cells": [
  {
   "cell_type": "markdown",
   "metadata": {},
   "source": [
    "Install some packages before we get started"
   ]
  },
  {
   "cell_type": "code",
   "execution_count": 2,
   "metadata": {
    "collapsed": false
   },
   "outputs": [],
   "source": [
    "#%%bash\n",
    "#echo \"apt-get update\" >> /content/datalab/.config/startup.sh\n",
    "#echo \"pip install lightgbm\" >> /content/datalab/.config/startup.sh\n",
    "#echo \"apt-get install libgomp1\" >> /content/datalab/.config/startup.sh\n",
    "#cat /content/datalab/.config/startup.sh"
   ]
  },
  {
   "cell_type": "code",
   "execution_count": 3,
   "metadata": {
    "collapsed": false
   },
   "outputs": [],
   "source": [
    "from google.datalab import Context\n",
    "import google.datalab.bigquery as bq\n",
    "import google.datalab.storage as storage\n",
    "import numpy as np\n",
    "import pandas as pd\n",
    "import json\n",
    "import lightgbm as lgb\n",
    "from sklearn.metrics import f1_score\n",
    "from StringIO import StringIO"
   ]
  },
  {
   "cell_type": "markdown",
   "metadata": {},
   "source": [
    "## Build Some Intermediary Tables\n",
    "\n",
    "Pull some additional information for each user that we'll need later\n",
    "Pull some additional information on when each user purchases each product"
   ]
  },
  {
   "cell_type": "code",
   "execution_count": 4,
   "metadata": {
    "collapsed": true
   },
   "outputs": [],
   "source": [
    "%%bq query -n users_q\n",
    "SELECT orders.user_id, COALESCE(user_flags.is_train,0) AS is_train,\n",
    "  COUNT(*) AS num_orders, SUM(days_since_prior_order) AS days_bw_first_last_order\n",
    "FROM instacart.orders AS orders\n",
    "LEFT JOIN (\n",
    "  SELECT user_id, 1 AS `is_train` FROM instacart.orders WHERE eval_set = \"train\" GROUP BY 1\n",
    ") AS user_flags ON orders.user_id = user_flags.user_id\n",
    "WHERE eval_set = \"prior\"\n",
    "GROUP BY 1,2"
   ]
  },
  {
   "cell_type": "code",
   "execution_count": 5,
   "metadata": {
    "collapsed": false
   },
   "outputs": [
    {
     "data": {
      "text/html": [
       "\n",
       "    <div class=\"bqtv\" id=\"1_150034272687\"><table><tr><th>user_id</th><th>is_train</th><th>num_orders</th><th>days_bw_first_last_order</th></tr><tr><td>15495</td><td>1</td><td>3</td><td>0.0</td></tr><tr><td>80567</td><td>1</td><td>3</td><td>0.0</td></tr><tr><td>99295</td><td>0</td><td>3</td><td>0.0</td></tr><tr><td>36904</td><td>1</td><td>3</td><td>0.0</td></tr><tr><td>164320</td><td>1</td><td>3</td><td>0.0</td></tr><tr><td>58934</td><td>0</td><td>3</td><td>0.0</td></tr><tr><td>131603</td><td>0</td><td>3</td><td>0.0</td></tr><tr><td>174627</td><td>1</td><td>3</td><td>0.0</td></tr><tr><td>62180</td><td>1</td><td>3</td><td>0.0</td></tr><tr><td>179078</td><td>1</td><td>3</td><td>0.0</td></tr><tr><td>137150</td><td>0</td><td>3</td><td>0.0</td></tr><tr><td>109010</td><td>1</td><td>3</td><td>0.0</td></tr><tr><td>9515</td><td>0</td><td>3</td><td>0.0</td></tr><tr><td>201321</td><td>1</td><td>3</td><td>0.0</td></tr><tr><td>125717</td><td>0</td><td>3</td><td>0.0</td></tr><tr><td>121915</td><td>1</td><td>3</td><td>0.0</td></tr><tr><td>133075</td><td>1</td><td>3</td><td>0.0</td></tr><tr><td>64975</td><td>1</td><td>3</td><td>0.0</td></tr><tr><td>115420</td><td>0</td><td>3</td><td>0.0</td></tr><tr><td>181478</td><td>0</td><td>3</td><td>0.0</td></tr><tr><td>68393</td><td>0</td><td>3</td><td>2.0</td></tr><tr><td>52906</td><td>0</td><td>3</td><td>2.0</td></tr><tr><td>96524</td><td>0</td><td>3</td><td>2.0</td></tr><tr><td>71651</td><td>0</td><td>3</td><td>2.0</td></tr><tr><td>12970</td><td>0</td><td>3</td><td>2.0</td></tr></table></div>\n",
       "    <br />(rows: 206209, time: 8.3s,    76MB processed, job: job_WxQ3CPDwFejejEIcbiUsoeU7uE4)<br />\n",
       "    <script>\n",
       "\n",
       "      require.config({\n",
       "        paths: {\n",
       "          d3: '//cdnjs.cloudflare.com/ajax/libs/d3/3.4.13/d3',\n",
       "          plotly: 'https://cdn.plot.ly/plotly-1.5.1.min.js?noext',\n",
       "          jquery: '//ajax.googleapis.com/ajax/libs/jquery/2.0.0/jquery.min'\n",
       "        },\n",
       "        map: {\n",
       "          '*': {\n",
       "            datalab: 'nbextensions/gcpdatalab'\n",
       "          }\n",
       "        },\n",
       "        shim: {\n",
       "          plotly: {\n",
       "            deps: ['d3', 'jquery'],\n",
       "            exports: 'plotly'\n",
       "          }\n",
       "        }\n",
       "      });\n",
       "\n",
       "      require(['datalab/charting', 'datalab/element!1_150034272687', 'base/js/events',\n",
       "          'datalab/style!/nbextensions/gcpdatalab/charting.css'],\n",
       "        function(charts, dom, events) {\n",
       "          charts.render('gcharts', dom, events, 'paged_table', [], {\"rows\": [{\"c\": [{\"v\": 15495}, {\"v\": 1}, {\"v\": 3}, {\"v\": 0.0}]}, {\"c\": [{\"v\": 80567}, {\"v\": 1}, {\"v\": 3}, {\"v\": 0.0}]}, {\"c\": [{\"v\": 99295}, {\"v\": 0}, {\"v\": 3}, {\"v\": 0.0}]}, {\"c\": [{\"v\": 36904}, {\"v\": 1}, {\"v\": 3}, {\"v\": 0.0}]}, {\"c\": [{\"v\": 164320}, {\"v\": 1}, {\"v\": 3}, {\"v\": 0.0}]}, {\"c\": [{\"v\": 58934}, {\"v\": 0}, {\"v\": 3}, {\"v\": 0.0}]}, {\"c\": [{\"v\": 131603}, {\"v\": 0}, {\"v\": 3}, {\"v\": 0.0}]}, {\"c\": [{\"v\": 174627}, {\"v\": 1}, {\"v\": 3}, {\"v\": 0.0}]}, {\"c\": [{\"v\": 62180}, {\"v\": 1}, {\"v\": 3}, {\"v\": 0.0}]}, {\"c\": [{\"v\": 179078}, {\"v\": 1}, {\"v\": 3}, {\"v\": 0.0}]}, {\"c\": [{\"v\": 137150}, {\"v\": 0}, {\"v\": 3}, {\"v\": 0.0}]}, {\"c\": [{\"v\": 109010}, {\"v\": 1}, {\"v\": 3}, {\"v\": 0.0}]}, {\"c\": [{\"v\": 9515}, {\"v\": 0}, {\"v\": 3}, {\"v\": 0.0}]}, {\"c\": [{\"v\": 201321}, {\"v\": 1}, {\"v\": 3}, {\"v\": 0.0}]}, {\"c\": [{\"v\": 125717}, {\"v\": 0}, {\"v\": 3}, {\"v\": 0.0}]}, {\"c\": [{\"v\": 121915}, {\"v\": 1}, {\"v\": 3}, {\"v\": 0.0}]}, {\"c\": [{\"v\": 133075}, {\"v\": 1}, {\"v\": 3}, {\"v\": 0.0}]}, {\"c\": [{\"v\": 64975}, {\"v\": 1}, {\"v\": 3}, {\"v\": 0.0}]}, {\"c\": [{\"v\": 115420}, {\"v\": 0}, {\"v\": 3}, {\"v\": 0.0}]}, {\"c\": [{\"v\": 181478}, {\"v\": 0}, {\"v\": 3}, {\"v\": 0.0}]}, {\"c\": [{\"v\": 68393}, {\"v\": 0}, {\"v\": 3}, {\"v\": 2.0}]}, {\"c\": [{\"v\": 52906}, {\"v\": 0}, {\"v\": 3}, {\"v\": 2.0}]}, {\"c\": [{\"v\": 96524}, {\"v\": 0}, {\"v\": 3}, {\"v\": 2.0}]}, {\"c\": [{\"v\": 71651}, {\"v\": 0}, {\"v\": 3}, {\"v\": 2.0}]}, {\"c\": [{\"v\": 12970}, {\"v\": 0}, {\"v\": 3}, {\"v\": 2.0}]}], \"cols\": [{\"type\": \"number\", \"id\": \"user_id\", \"label\": \"user_id\"}, {\"type\": \"number\", \"id\": \"is_train\", \"label\": \"is_train\"}, {\"type\": \"number\", \"id\": \"num_orders\", \"label\": \"num_orders\"}, {\"type\": \"number\", \"id\": \"days_bw_first_last_order\", \"label\": \"days_bw_first_last_order\"}]},\n",
       "            {\n",
       "              pageSize: 25,\n",
       "              cssClassNames:  {\n",
       "                tableRow: 'gchart-table-row',\n",
       "                headerRow: 'gchart-table-headerrow',\n",
       "                oddTableRow: 'gchart-table-oddrow',\n",
       "                selectedTableRow: 'gchart-table-selectedrow',\n",
       "                hoverTableRow: 'gchart-table-hoverrow',\n",
       "                tableCell: 'gchart-table-cell',\n",
       "                headerCell: 'gchart-table-headercell',\n",
       "                rowNumberCell: 'gchart-table-rownumcell'\n",
       "              }\n",
       "            },\n",
       "            {source_index: 0, fields: 'user_id,is_train,num_orders,days_bw_first_last_order'},\n",
       "            0,\n",
       "            206209);\n",
       "        }\n",
       "      );\n",
       "    </script>\n",
       "  "
      ],
      "text/plain": [
       "QueryResultsTable job_WxQ3CPDwFejejEIcbiUsoeU7uE4"
      ]
     },
     "execution_count": 5,
     "metadata": {},
     "output_type": "execute_result"
    }
   ],
   "source": [
    "%%bq execute -q users_q -t instacart.users -m overwrite"
   ]
  },
  {
   "cell_type": "code",
   "execution_count": 6,
   "metadata": {
    "collapsed": true
   },
   "outputs": [],
   "source": [
    "%%bq query -n user_products_q\n",
    "SELECT orders.user_id, op.product_id, \n",
    "  COUNT(*) AS num_orders, SUM(op.reordered) AS num_reorders,\n",
    "  MIN(orders.order_number) AS first_order_number, MIN(days_since_first_order) AS first_order_day,\n",
    "  MAX(orders.order_number) AS last_order_number, MAX(days_since_first_order) AS last_order_day,\n",
    "  AVG(op.add_to_cart_order) AS avg_cart_order\n",
    "FROM instacart.order_products__prior AS op\n",
    "INNER JOIN (\n",
    "  SELECT *, \n",
    "  SUM(COALESCE(days_since_prior_order,0)) OVER (PARTITION BY user_id ORDER BY order_number ASC ROWS BETWEEN UNBOUNDED PRECEDING AND CURRENT ROW) AS `days_since_first_order`\n",
    "  FROM instacart.orders WHERE eval_set = \"prior\"\n",
    ") AS orders ON orders.order_id = op.order_id\n",
    "GROUP BY 1,2"
   ]
  },
  {
   "cell_type": "code",
   "execution_count": 7,
   "metadata": {
    "collapsed": false
   },
   "outputs": [
    {
     "data": {
      "text/html": [
       "\n",
       "    <div class=\"bqtv\" id=\"2_150034281351\"><table><tr><th>user_id</th><th>product_id</th><th>num_orders</th><th>num_reorders</th><th>first_order_number</th><th>first_order_day</th><th>last_order_number</th><th>last_order_day</th><th>avg_cart_order</th></tr><tr><td>124325</td><td>30827</td><td>18</td><td>17</td><td>7</td><td>51.0</td><td>44</td><td>356.0</td><td>2.05555555556</td></tr><tr><td>170848</td><td>35108</td><td>20</td><td>19</td><td>4</td><td>12.0</td><td>88</td><td>360.0</td><td>7.3</td></tr><tr><td>204322</td><td>7175</td><td>31</td><td>30</td><td>3</td><td>15.0</td><td>72</td><td>337.0</td><td>4.35483870968</td></tr><tr><td>17918</td><td>9339</td><td>15</td><td>14</td><td>5</td><td>30.0</td><td>76</td><td>329.0</td><td>11.1333333333</td></tr><tr><td>56296</td><td>21903</td><td>32</td><td>31</td><td>1</td><td>0.0</td><td>47</td><td>319.0</td><td>4.5625</td></tr><tr><td>29334</td><td>4605</td><td>16</td><td>15</td><td>1</td><td>0.0</td><td>50</td><td>349.0</td><td>7.625</td></tr><tr><td>56274</td><td>43005</td><td>13</td><td>12</td><td>5</td><td>27.0</td><td>44</td><td>343.0</td><td>3.69230769231</td></tr><tr><td>135222</td><td>33731</td><td>13</td><td>12</td><td>30</td><td>145.0</td><td>78</td><td>342.0</td><td>6.15384615385</td></tr><tr><td>101437</td><td>9076</td><td>11</td><td>10</td><td>9</td><td>49.0</td><td>47</td><td>303.0</td><td>5.81818181818</td></tr><tr><td>44098</td><td>46990</td><td>13</td><td>12</td><td>3</td><td>22.0</td><td>44</td><td>336.0</td><td>10.2307692308</td></tr><tr><td>29803</td><td>3896</td><td>14</td><td>13</td><td>7</td><td>23.0</td><td>53</td><td>356.0</td><td>3.64285714286</td></tr><tr><td>64638</td><td>42029</td><td>17</td><td>16</td><td>5</td><td>27.0</td><td>54</td><td>341.0</td><td>9.58823529412</td></tr><tr><td>8232</td><td>24852</td><td>19</td><td>18</td><td>1</td><td>0.0</td><td>57</td><td>351.0</td><td>3.89473684211</td></tr><tr><td>34994</td><td>26369</td><td>18</td><td>17</td><td>1</td><td>0.0</td><td>52</td><td>356.0</td><td>17.2222222222</td></tr><tr><td>2335</td><td>34362</td><td>12</td><td>11</td><td>5</td><td>34.0</td><td>43</td><td>335.0</td><td>30.5</td></tr><tr><td>27525</td><td>18926</td><td>33</td><td>32</td><td>1</td><td>0.0</td><td>40</td><td>267.0</td><td>4.72727272727</td></tr><tr><td>106583</td><td>15527</td><td>13</td><td>12</td><td>7</td><td>38.0</td><td>86</td><td>340.0</td><td>12.7692307692</td></tr><tr><td>134613</td><td>5077</td><td>41</td><td>40</td><td>1</td><td>0.0</td><td>55</td><td>354.0</td><td>11.512195122</td></tr><tr><td>35449</td><td>37733</td><td>16</td><td>15</td><td>1</td><td>0.0</td><td>50</td><td>270.0</td><td>4.8125</td></tr><tr><td>175303</td><td>38383</td><td>31</td><td>30</td><td>1</td><td>0.0</td><td>57</td><td>338.0</td><td>11.4838709677</td></tr><tr><td>52404</td><td>10070</td><td>13</td><td>12</td><td>13</td><td>67.0</td><td>56</td><td>350.0</td><td>7.23076923077</td></tr><tr><td>68107</td><td>44201</td><td>12</td><td>11</td><td>22</td><td>160.0</td><td>50</td><td>350.0</td><td>11.9166666667</td></tr><tr><td>100787</td><td>13457</td><td>31</td><td>30</td><td>2</td><td>1.0</td><td>96</td><td>50.0</td><td>9.77419354839</td></tr><tr><td>81342</td><td>48493</td><td>22</td><td>21</td><td>8</td><td>21.0</td><td>65</td><td>147.0</td><td>5.81818181818</td></tr><tr><td>137237</td><td>10132</td><td>18</td><td>17</td><td>5</td><td>14.0</td><td>55</td><td>338.0</td><td>8.38888888889</td></tr></table></div>\n",
       "    <br />(rows: 13307953, time: 85.0s,     1GB processed, job: job_o22pyWItIcswsZFkm2jbLbVZhsA)<br />\n",
       "    <script>\n",
       "\n",
       "      require.config({\n",
       "        paths: {\n",
       "          d3: '//cdnjs.cloudflare.com/ajax/libs/d3/3.4.13/d3',\n",
       "          plotly: 'https://cdn.plot.ly/plotly-1.5.1.min.js?noext',\n",
       "          jquery: '//ajax.googleapis.com/ajax/libs/jquery/2.0.0/jquery.min'\n",
       "        },\n",
       "        map: {\n",
       "          '*': {\n",
       "            datalab: 'nbextensions/gcpdatalab'\n",
       "          }\n",
       "        },\n",
       "        shim: {\n",
       "          plotly: {\n",
       "            deps: ['d3', 'jquery'],\n",
       "            exports: 'plotly'\n",
       "          }\n",
       "        }\n",
       "      });\n",
       "\n",
       "      require(['datalab/charting', 'datalab/element!2_150034281351', 'base/js/events',\n",
       "          'datalab/style!/nbextensions/gcpdatalab/charting.css'],\n",
       "        function(charts, dom, events) {\n",
       "          charts.render('gcharts', dom, events, 'paged_table', [], {\"rows\": [{\"c\": [{\"v\": 124325}, {\"v\": 30827}, {\"v\": 18}, {\"v\": 17}, {\"v\": 7}, {\"v\": 51.0}, {\"v\": 44}, {\"v\": 356.0}, {\"v\": 2.055555555555556}]}, {\"c\": [{\"v\": 170848}, {\"v\": 35108}, {\"v\": 20}, {\"v\": 19}, {\"v\": 4}, {\"v\": 12.0}, {\"v\": 88}, {\"v\": 360.0}, {\"v\": 7.300000000000001}]}, {\"c\": [{\"v\": 204322}, {\"v\": 7175}, {\"v\": 31}, {\"v\": 30}, {\"v\": 3}, {\"v\": 15.0}, {\"v\": 72}, {\"v\": 337.0}, {\"v\": 4.354838709677419}]}, {\"c\": [{\"v\": 17918}, {\"v\": 9339}, {\"v\": 15}, {\"v\": 14}, {\"v\": 5}, {\"v\": 30.0}, {\"v\": 76}, {\"v\": 329.0}, {\"v\": 11.133333333333335}]}, {\"c\": [{\"v\": 56296}, {\"v\": 21903}, {\"v\": 32}, {\"v\": 31}, {\"v\": 1}, {\"v\": 0.0}, {\"v\": 47}, {\"v\": 319.0}, {\"v\": 4.562500000000001}]}, {\"c\": [{\"v\": 29334}, {\"v\": 4605}, {\"v\": 16}, {\"v\": 15}, {\"v\": 1}, {\"v\": 0.0}, {\"v\": 50}, {\"v\": 349.0}, {\"v\": 7.625}]}, {\"c\": [{\"v\": 56274}, {\"v\": 43005}, {\"v\": 13}, {\"v\": 12}, {\"v\": 5}, {\"v\": 27.0}, {\"v\": 44}, {\"v\": 343.0}, {\"v\": 3.692307692307692}]}, {\"c\": [{\"v\": 135222}, {\"v\": 33731}, {\"v\": 13}, {\"v\": 12}, {\"v\": 30}, {\"v\": 145.0}, {\"v\": 78}, {\"v\": 342.0}, {\"v\": 6.153846153846153}]}, {\"c\": [{\"v\": 101437}, {\"v\": 9076}, {\"v\": 11}, {\"v\": 10}, {\"v\": 9}, {\"v\": 49.0}, {\"v\": 47}, {\"v\": 303.0}, {\"v\": 5.818181818181818}]}, {\"c\": [{\"v\": 44098}, {\"v\": 46990}, {\"v\": 13}, {\"v\": 12}, {\"v\": 3}, {\"v\": 22.0}, {\"v\": 44}, {\"v\": 336.0}, {\"v\": 10.23076923076923}]}, {\"c\": [{\"v\": 29803}, {\"v\": 3896}, {\"v\": 14}, {\"v\": 13}, {\"v\": 7}, {\"v\": 23.0}, {\"v\": 53}, {\"v\": 356.0}, {\"v\": 3.642857142857143}]}, {\"c\": [{\"v\": 64638}, {\"v\": 42029}, {\"v\": 17}, {\"v\": 16}, {\"v\": 5}, {\"v\": 27.0}, {\"v\": 54}, {\"v\": 341.0}, {\"v\": 9.588235294117645}]}, {\"c\": [{\"v\": 8232}, {\"v\": 24852}, {\"v\": 19}, {\"v\": 18}, {\"v\": 1}, {\"v\": 0.0}, {\"v\": 57}, {\"v\": 351.0}, {\"v\": 3.894736842105263}]}, {\"c\": [{\"v\": 34994}, {\"v\": 26369}, {\"v\": 18}, {\"v\": 17}, {\"v\": 1}, {\"v\": 0.0}, {\"v\": 52}, {\"v\": 356.0}, {\"v\": 17.222222222222225}]}, {\"c\": [{\"v\": 2335}, {\"v\": 34362}, {\"v\": 12}, {\"v\": 11}, {\"v\": 5}, {\"v\": 34.0}, {\"v\": 43}, {\"v\": 335.0}, {\"v\": 30.5}]}, {\"c\": [{\"v\": 27525}, {\"v\": 18926}, {\"v\": 33}, {\"v\": 32}, {\"v\": 1}, {\"v\": 0.0}, {\"v\": 40}, {\"v\": 267.0}, {\"v\": 4.7272727272727275}]}, {\"c\": [{\"v\": 106583}, {\"v\": 15527}, {\"v\": 13}, {\"v\": 12}, {\"v\": 7}, {\"v\": 38.0}, {\"v\": 86}, {\"v\": 340.0}, {\"v\": 12.76923076923077}]}, {\"c\": [{\"v\": 134613}, {\"v\": 5077}, {\"v\": 41}, {\"v\": 40}, {\"v\": 1}, {\"v\": 0.0}, {\"v\": 55}, {\"v\": 354.0}, {\"v\": 11.512195121951219}]}, {\"c\": [{\"v\": 35449}, {\"v\": 37733}, {\"v\": 16}, {\"v\": 15}, {\"v\": 1}, {\"v\": 0.0}, {\"v\": 50}, {\"v\": 270.0}, {\"v\": 4.812500000000001}]}, {\"c\": [{\"v\": 175303}, {\"v\": 38383}, {\"v\": 31}, {\"v\": 30}, {\"v\": 1}, {\"v\": 0.0}, {\"v\": 57}, {\"v\": 338.0}, {\"v\": 11.483870967741934}]}, {\"c\": [{\"v\": 52404}, {\"v\": 10070}, {\"v\": 13}, {\"v\": 12}, {\"v\": 13}, {\"v\": 67.0}, {\"v\": 56}, {\"v\": 350.0}, {\"v\": 7.23076923076923}]}, {\"c\": [{\"v\": 68107}, {\"v\": 44201}, {\"v\": 12}, {\"v\": 11}, {\"v\": 22}, {\"v\": 160.0}, {\"v\": 50}, {\"v\": 350.0}, {\"v\": 11.916666666666668}]}, {\"c\": [{\"v\": 100787}, {\"v\": 13457}, {\"v\": 31}, {\"v\": 30}, {\"v\": 2}, {\"v\": 1.0}, {\"v\": 96}, {\"v\": 50.0}, {\"v\": 9.774193548387094}]}, {\"c\": [{\"v\": 81342}, {\"v\": 48493}, {\"v\": 22}, {\"v\": 21}, {\"v\": 8}, {\"v\": 21.0}, {\"v\": 65}, {\"v\": 147.0}, {\"v\": 5.8181818181818175}]}, {\"c\": [{\"v\": 137237}, {\"v\": 10132}, {\"v\": 18}, {\"v\": 17}, {\"v\": 5}, {\"v\": 14.0}, {\"v\": 55}, {\"v\": 338.0}, {\"v\": 8.388888888888888}]}], \"cols\": [{\"type\": \"number\", \"id\": \"user_id\", \"label\": \"user_id\"}, {\"type\": \"number\", \"id\": \"product_id\", \"label\": \"product_id\"}, {\"type\": \"number\", \"id\": \"num_orders\", \"label\": \"num_orders\"}, {\"type\": \"number\", \"id\": \"num_reorders\", \"label\": \"num_reorders\"}, {\"type\": \"number\", \"id\": \"first_order_number\", \"label\": \"first_order_number\"}, {\"type\": \"number\", \"id\": \"first_order_day\", \"label\": \"first_order_day\"}, {\"type\": \"number\", \"id\": \"last_order_number\", \"label\": \"last_order_number\"}, {\"type\": \"number\", \"id\": \"last_order_day\", \"label\": \"last_order_day\"}, {\"type\": \"number\", \"id\": \"avg_cart_order\", \"label\": \"avg_cart_order\"}]},\n",
       "            {\n",
       "              pageSize: 25,\n",
       "              cssClassNames:  {\n",
       "                tableRow: 'gchart-table-row',\n",
       "                headerRow: 'gchart-table-headerrow',\n",
       "                oddTableRow: 'gchart-table-oddrow',\n",
       "                selectedTableRow: 'gchart-table-selectedrow',\n",
       "                hoverTableRow: 'gchart-table-hoverrow',\n",
       "                tableCell: 'gchart-table-cell',\n",
       "                headerCell: 'gchart-table-headercell',\n",
       "                rowNumberCell: 'gchart-table-rownumcell'\n",
       "              }\n",
       "            },\n",
       "            {source_index: 1, fields: 'user_id,product_id,num_orders,num_reorders,first_order_number,first_order_day,last_order_number,last_order_day,avg_cart_order'},\n",
       "            0,\n",
       "            13307953);\n",
       "        }\n",
       "      );\n",
       "    </script>\n",
       "  "
      ],
      "text/plain": [
       "QueryResultsTable job_o22pyWItIcswsZFkm2jbLbVZhsA"
      ]
     },
     "execution_count": 7,
     "metadata": {},
     "output_type": "execute_result"
    }
   ],
   "source": [
    "%%bq execute -q user_products_q -t instacart.user_products -m overwrite"
   ]
  },
  {
   "cell_type": "markdown",
   "metadata": {},
   "source": [
    "## User-Product Features\n",
    "\n",
    "User-product level data which is base for the reorder model (includes both test and train)\n",
    "\n",
    "Contains \"basket\" of all products that user has ever purchased; trying to predict which will be reordered (though this is admittedly only ~2/3 of the problem since ~1/3 of purchases in the train set are to products never purchased before)"
   ]
  },
  {
   "cell_type": "code",
   "execution_count": 8,
   "metadata": {
    "collapsed": true
   },
   "outputs": [],
   "source": [
    "%%bq query -n user_products_features_q\n",
    "WITH up_features AS (\n",
    "  SELECT up.user_id, up.product_id,\n",
    "    up.num_orders / users.num_orders AS `perc_all_orders`,\n",
    "    up.num_reorders / NULLIF(users.num_orders - up.first_order_number,0) AS `perc_reorder`,\n",
    "    up.num_orders / NULLIF(users.days_bw_first_last_order,0) AS `orders_per_day`,\n",
    "    up.num_reorders / NULLIF(users.days_bw_first_last_order - up.first_order_day,0) AS `reorders_per_day`,\n",
    "    up.first_order_number, up.first_order_day, up.last_order_number, up.last_order_day, up.avg_cart_order, \n",
    "    users.days_bw_first_last_order\n",
    "  FROM instacart.user_products AS up\n",
    "  INNER JOIN instacart.users AS users ON up.user_id = users.user_id\n",
    ")\n",
    "\n",
    "SELECT up.*, \n",
    "  orders.order_id, orders.eval_set, orders.order_hour_of_day, orders.order_dow,\n",
    "  CASE WHEN orders.eval_set = \"test\" THEN NULL ELSE LEAST(COALESCE(op_train.order_id,0),1) END AS `is_ordered`,\n",
    "  up.days_bw_first_last_order - up.last_order_day + orders.days_since_prior_order AS `days_since_last_order`,\n",
    "  orders.order_number - up.last_order_number + 1 AS `orders_since_last_order`\n",
    "FROM up_features AS up\n",
    "INNER JOIN instacart.orders AS orders ON orders.user_id = up.user_id AND orders.eval_set IN ('train','test')\n",
    "LEFT JOIN instacart.order_products__train AS op_train ON orders.order_id = op_train.order_id AND up.product_id = op_train.product_id"
   ]
  },
  {
   "cell_type": "code",
   "execution_count": 9,
   "metadata": {
    "collapsed": false
   },
   "outputs": [
    {
     "data": {
      "text/html": [
       "\n",
       "    <div class=\"bqtv\" id=\"3_150034287591\"><table><tr><th>user_id</th><th>product_id</th><th>perc_all_orders</th><th>perc_reorder</th><th>orders_per_day</th><th>reorders_per_day</th><th>first_order_number</th><th>first_order_day</th><th>last_order_number</th><th>last_order_day</th><th>avg_cart_order</th><th>days_bw_first_last_order</th><th>order_id</th><th>eval_set</th><th>order_hour_of_day</th><th>order_dow</th><th>is_ordered</th><th>days_since_last_order</th><th>orders_since_last_order</th></tr><tr><td>91771</td><td>28427</td><td>0.161290322581</td><td>0.311111111111</td><td>0.0421348314607</td><td>0.0773480662983</td><td>48</td><td>175.0</td><td>93</td><td>356.0</td><td>5.53333333333</td><td>356.0</td><td>1811426</td><td>test</td><td>18</td><td>5</td><td>&nbsp;</td><td>4.0</td><td>2</td></tr><tr><td>124027</td><td>18828</td><td>0.196428571429</td><td>0.454545454545</td><td>0.0421455938697</td><td>0.106382978723</td><td>34</td><td>167.0</td><td>56</td><td>261.0</td><td>4.36363636364</td><td>261.0</td><td>1269013</td><td>test</td><td>8</td><td>3</td><td>&nbsp;</td><td>7.0</td><td>2</td></tr><tr><td>49934</td><td>16223</td><td>0.144578313253</td><td>0.733333333333</td><td>0.0368098159509</td><td>0.129411764706</td><td>68</td><td>241.0</td><td>81</td><td>316.0</td><td>3.75</td><td>326.0</td><td>435443</td><td>test</td><td>14</td><td>2</td><td>&nbsp;</td><td>17.0</td><td>4</td></tr><tr><td>28472</td><td>29447</td><td>0.220588235294</td><td>0.5</td><td>0.0857142857143</td><td>0.197183098592</td><td>40</td><td>104.0</td><td>68</td><td>175.0</td><td>1.8</td><td>175.0</td><td>1694317</td><td>test</td><td>12</td><td>1</td><td>&nbsp;</td><td>11.0</td><td>2</td></tr><tr><td>59253</td><td>1194</td><td>0.244444444444</td><td>0.666666666667</td><td>0.0436507936508</td><td>0.15873015873</td><td>30</td><td>189.0</td><td>45</td><td>252.0</td><td>4.81818181818</td><td>252.0</td><td>2772513</td><td>test</td><td>8</td><td>5</td><td>&nbsp;</td><td>3.0</td><td>2</td></tr><tr><td>68981</td><td>47209</td><td>0.327868852459</td><td>0.826086956522</td><td>0.0571428571429</td><td>0.11801242236</td><td>38</td><td>189.0</td><td>61</td><td>350.0</td><td>13.15</td><td>350.0</td><td>2936849</td><td>test</td><td>9</td><td>1</td><td>&nbsp;</td><td>15.0</td><td>2</td></tr><tr><td>174683</td><td>12576</td><td>0.131313131313</td><td>0.521739130435</td><td>0.0383480825959</td><td>0.115384615385</td><td>76</td><td>235.0</td><td>99</td><td>339.0</td><td>10.1538461538</td><td>339.0</td><td>2896837</td><td>test</td><td>10</td><td>2</td><td>&nbsp;</td><td>1.0</td><td>2</td></tr><tr><td>192254</td><td>19660</td><td>0.245614035088</td><td>0.590909090909</td><td>0.0388888888889</td><td>0.0849673202614</td><td>35</td><td>207.0</td><td>57</td><td>360.0</td><td>3.57142857143</td><td>360.0</td><td>2779757</td><td>test</td><td>19</td><td>3</td><td>&nbsp;</td><td>4.0</td><td>2</td></tr><tr><td>203332</td><td>16996</td><td>0.119565217391</td><td>0.172413793103</td><td>0.0304709141274</td><td>0.0523560209424</td><td>34</td><td>170.0</td><td>74</td><td>284.0</td><td>3.63636363636</td><td>361.0</td><td>3188993</td><td>test</td><td>11</td><td>0</td><td>&nbsp;</td><td>79.0</td><td>20</td></tr><tr><td>144784</td><td>38739</td><td>0.407407407407</td><td>0.913043478261</td><td>0.0782918149466</td><td>0.189189189189</td><td>31</td><td>170.0</td><td>54</td><td>281.0</td><td>9.68181818182</td><td>281.0</td><td>2840170</td><td>test</td><td>13</td><td>0</td><td>&nbsp;</td><td>5.0</td><td>2</td></tr><tr><td>40033</td><td>44142</td><td>0.222222222222</td><td>0.846153846154</td><td>0.0335195530726</td><td>0.139240506329</td><td>41</td><td>279.0</td><td>54</td><td>358.0</td><td>4.91666666667</td><td>358.0</td><td>3199628</td><td>test</td><td>17</td><td>0</td><td>&nbsp;</td><td>5.0</td><td>2</td></tr><tr><td>163348</td><td>38826</td><td>0.120879120879</td><td>0.192307692308</td><td>0.030985915493</td><td>0.0578034682081</td><td>39</td><td>182.0</td><td>91</td><td>355.0</td><td>4.0</td><td>355.0</td><td>832408</td><td>test</td><td>15</td><td>5</td><td>&nbsp;</td><td>10.0</td><td>2</td></tr><tr><td>5927</td><td>48679</td><td>0.213114754098</td><td>0.461538461538</td><td>0.036312849162</td><td>0.11214953271</td><td>35</td><td>251.0</td><td>60</td><td>356.0</td><td>10.0</td><td>358.0</td><td>138325</td><td>test</td><td>21</td><td>5</td><td>&nbsp;</td><td>6.0</td><td>3</td></tr><tr><td>169068</td><td>48900</td><td>0.121212121212</td><td>0.177419354839</td><td>0.044776119403</td><td>0.0733333333333</td><td>37</td><td>118.0</td><td>54</td><td>158.0</td><td>3.41666666667</td><td>268.0</td><td>3268425</td><td>test</td><td>14</td><td>6</td><td>&nbsp;</td><td>114.0</td><td>47</td></tr><tr><td>150722</td><td>33787</td><td>0.473684210526</td><td>0.833333333333</td><td>0.1</td><td>0.222929936306</td><td>34</td><td>203.0</td><td>76</td><td>360.0</td><td>8.58333333333</td><td>360.0</td><td>23281</td><td>test</td><td>15</td><td>5</td><td>&nbsp;</td><td>4.0</td><td>2</td></tr><tr><td>79708</td><td>39558</td><td>0.111111111111</td><td>0.285714285714</td><td>0.0585106382979</td><td>0.166666666667</td><td>64</td><td>128.0</td><td>97</td><td>185.0</td><td>4.27272727273</td><td>188.0</td><td>522795</td><td>test</td><td>9</td><td>3</td><td>&nbsp;</td><td>5.0</td><td>4</td></tr><tr><td>169886</td><td>11945</td><td>0.0169491525424</td><td>0.0</td><td>0.00307692307692</td><td>0.0</td><td>51</td><td>281.0</td><td>51</td><td>281.0</td><td>4.0</td><td>325.0</td><td>2234897</td><td>test</td><td>18</td><td>0</td><td>&nbsp;</td><td>46.0</td><td>10</td></tr><tr><td>49296</td><td>31506</td><td>0.0204081632653</td><td>0.0</td><td>0.00302114803625</td><td>0.0</td><td>46</td><td>313.0</td><td>46</td><td>313.0</td><td>10.0</td><td>331.0</td><td>2090352</td><td>test</td><td>9</td><td>6</td><td>&nbsp;</td><td>21.0</td><td>5</td></tr><tr><td>78870</td><td>18200</td><td>0.0232558139535</td><td>0.0</td><td>0.0028901734104</td><td>0.0</td><td>41</td><td>320.0</td><td>41</td><td>320.0</td><td>19.0</td><td>346.0</td><td>2532423</td><td>test</td><td>8</td><td>6</td><td>&nbsp;</td><td>40.0</td><td>4</td></tr><tr><td>5328</td><td>13212</td><td>0.0188679245283</td><td>0.0</td><td>0.00284090909091</td><td>0.0</td><td>48</td><td>310.0</td><td>48</td><td>310.0</td><td>15.0</td><td>352.0</td><td>239811</td><td>test</td><td>21</td><td>2</td><td>&nbsp;</td><td>49.0</td><td>7</td></tr><tr><td>193520</td><td>49451</td><td>0.0185185185185</td><td>0.0</td><td>0.00280898876404</td><td>0.0</td><td>47</td><td>323.0</td><td>47</td><td>323.0</td><td>4.0</td><td>356.0</td><td>2389556</td><td>test</td><td>21</td><td>4</td><td>&nbsp;</td><td>36.0</td><td>9</td></tr><tr><td>86067</td><td>14992</td><td>0.0175438596491</td><td>0.0</td><td>0.00284090909091</td><td>0.0</td><td>48</td><td>304.0</td><td>48</td><td>304.0</td><td>5.0</td><td>352.0</td><td>1841657</td><td>test</td><td>9</td><td>0</td><td>&nbsp;</td><td>54.0</td><td>11</td></tr><tr><td>75887</td><td>48034</td><td>0.0128205128205</td><td>0.0</td><td>0.00280898876404</td><td>0.0</td><td>41</td><td>140.0</td><td>41</td><td>140.0</td><td>11.0</td><td>356.0</td><td>1387864</td><td>test</td><td>9</td><td>4</td><td>&nbsp;</td><td>224.0</td><td>39</td></tr><tr><td>179886</td><td>546</td><td>0.012987012987</td><td>&nbsp;</td><td>0.0028328611898</td><td>&nbsp;</td><td>77</td><td>353.0</td><td>77</td><td>353.0</td><td>9.0</td><td>353.0</td><td>438797</td><td>test</td><td>13</td><td>4</td><td>&nbsp;</td><td>9.0</td><td>2</td></tr><tr><td>74324</td><td>11913</td><td>0.0232558139535</td><td>0.0</td><td>0.002849002849</td><td>0.0</td><td>41</td><td>334.0</td><td>41</td><td>334.0</td><td>10.0</td><td>351.0</td><td>1077615</td><td>test</td><td>14</td><td>0</td><td>&nbsp;</td><td>29.0</td><td>4</td></tr></table></div>\n",
       "    <br />(rows: 13307953, time: 60.6s,     1GB processed, job: job_vCkLl3ISD5n7UxptIhnqyqi1F3Y)<br />\n",
       "    <script>\n",
       "\n",
       "      require.config({\n",
       "        paths: {\n",
       "          d3: '//cdnjs.cloudflare.com/ajax/libs/d3/3.4.13/d3',\n",
       "          plotly: 'https://cdn.plot.ly/plotly-1.5.1.min.js?noext',\n",
       "          jquery: '//ajax.googleapis.com/ajax/libs/jquery/2.0.0/jquery.min'\n",
       "        },\n",
       "        map: {\n",
       "          '*': {\n",
       "            datalab: 'nbextensions/gcpdatalab'\n",
       "          }\n",
       "        },\n",
       "        shim: {\n",
       "          plotly: {\n",
       "            deps: ['d3', 'jquery'],\n",
       "            exports: 'plotly'\n",
       "          }\n",
       "        }\n",
       "      });\n",
       "\n",
       "      require(['datalab/charting', 'datalab/element!3_150034287591', 'base/js/events',\n",
       "          'datalab/style!/nbextensions/gcpdatalab/charting.css'],\n",
       "        function(charts, dom, events) {\n",
       "          charts.render('gcharts', dom, events, 'paged_table', [], {\"rows\": [{\"c\": [{\"v\": 91771}, {\"v\": 28427}, {\"v\": 0.16129032258064516}, {\"v\": 0.3111111111111111}, {\"v\": 0.042134831460674156}, {\"v\": 0.07734806629834254}, {\"v\": 48}, {\"v\": 175.0}, {\"v\": 93}, {\"v\": 356.0}, {\"v\": 5.533333333333333}, {\"v\": 356.0}, {\"v\": 1811426}, {\"v\": \"test\"}, {\"v\": 18}, {\"v\": 5}, {\"v\": null}, {\"v\": 4.0}, {\"v\": 2}]}, {\"c\": [{\"v\": 124027}, {\"v\": 18828}, {\"v\": 0.19642857142857142}, {\"v\": 0.45454545454545453}, {\"v\": 0.0421455938697318}, {\"v\": 0.10638297872340426}, {\"v\": 34}, {\"v\": 167.0}, {\"v\": 56}, {\"v\": 261.0}, {\"v\": 4.363636363636363}, {\"v\": 261.0}, {\"v\": 1269013}, {\"v\": \"test\"}, {\"v\": 8}, {\"v\": 3}, {\"v\": null}, {\"v\": 7.0}, {\"v\": 2}]}, {\"c\": [{\"v\": 49934}, {\"v\": 16223}, {\"v\": 0.14457831325301204}, {\"v\": 0.7333333333333333}, {\"v\": 0.03680981595092025}, {\"v\": 0.12941176470588237}, {\"v\": 68}, {\"v\": 241.0}, {\"v\": 81}, {\"v\": 316.0}, {\"v\": 3.7499999999999996}, {\"v\": 326.0}, {\"v\": 435443}, {\"v\": \"test\"}, {\"v\": 14}, {\"v\": 2}, {\"v\": null}, {\"v\": 17.0}, {\"v\": 4}]}, {\"c\": [{\"v\": 28472}, {\"v\": 29447}, {\"v\": 0.22058823529411764}, {\"v\": 0.5}, {\"v\": 0.08571428571428572}, {\"v\": 0.19718309859154928}, {\"v\": 40}, {\"v\": 104.0}, {\"v\": 68}, {\"v\": 175.0}, {\"v\": 1.8}, {\"v\": 175.0}, {\"v\": 1694317}, {\"v\": \"test\"}, {\"v\": 12}, {\"v\": 1}, {\"v\": null}, {\"v\": 11.0}, {\"v\": 2}]}, {\"c\": [{\"v\": 59253}, {\"v\": 1194}, {\"v\": 0.24444444444444444}, {\"v\": 0.6666666666666666}, {\"v\": 0.04365079365079365}, {\"v\": 0.15873015873015872}, {\"v\": 30}, {\"v\": 189.0}, {\"v\": 45}, {\"v\": 252.0}, {\"v\": 4.818181818181818}, {\"v\": 252.0}, {\"v\": 2772513}, {\"v\": \"test\"}, {\"v\": 8}, {\"v\": 5}, {\"v\": null}, {\"v\": 3.0}, {\"v\": 2}]}, {\"c\": [{\"v\": 68981}, {\"v\": 47209}, {\"v\": 0.32786885245901637}, {\"v\": 0.8260869565217391}, {\"v\": 0.05714285714285714}, {\"v\": 0.11801242236024845}, {\"v\": 38}, {\"v\": 189.0}, {\"v\": 61}, {\"v\": 350.0}, {\"v\": 13.149999999999999}, {\"v\": 350.0}, {\"v\": 2936849}, {\"v\": \"test\"}, {\"v\": 9}, {\"v\": 1}, {\"v\": null}, {\"v\": 15.0}, {\"v\": 2}]}, {\"c\": [{\"v\": 174683}, {\"v\": 12576}, {\"v\": 0.13131313131313133}, {\"v\": 0.5217391304347826}, {\"v\": 0.038348082595870206}, {\"v\": 0.11538461538461539}, {\"v\": 76}, {\"v\": 235.0}, {\"v\": 99}, {\"v\": 339.0}, {\"v\": 10.153846153846153}, {\"v\": 339.0}, {\"v\": 2896837}, {\"v\": \"test\"}, {\"v\": 10}, {\"v\": 2}, {\"v\": null}, {\"v\": 1.0}, {\"v\": 2}]}, {\"c\": [{\"v\": 192254}, {\"v\": 19660}, {\"v\": 0.24561403508771928}, {\"v\": 0.5909090909090909}, {\"v\": 0.03888888888888889}, {\"v\": 0.08496732026143791}, {\"v\": 35}, {\"v\": 207.0}, {\"v\": 57}, {\"v\": 360.0}, {\"v\": 3.571428571428571}, {\"v\": 360.0}, {\"v\": 2779757}, {\"v\": \"test\"}, {\"v\": 19}, {\"v\": 3}, {\"v\": null}, {\"v\": 4.0}, {\"v\": 2}]}, {\"c\": [{\"v\": 203332}, {\"v\": 16996}, {\"v\": 0.11956521739130435}, {\"v\": 0.1724137931034483}, {\"v\": 0.030470914127423823}, {\"v\": 0.05235602094240838}, {\"v\": 34}, {\"v\": 170.0}, {\"v\": 74}, {\"v\": 284.0}, {\"v\": 3.6363636363636367}, {\"v\": 361.0}, {\"v\": 3188993}, {\"v\": \"test\"}, {\"v\": 11}, {\"v\": 0}, {\"v\": null}, {\"v\": 79.0}, {\"v\": 20}]}, {\"c\": [{\"v\": 144784}, {\"v\": 38739}, {\"v\": 0.4074074074074074}, {\"v\": 0.9130434782608695}, {\"v\": 0.07829181494661921}, {\"v\": 0.1891891891891892}, {\"v\": 31}, {\"v\": 170.0}, {\"v\": 54}, {\"v\": 281.0}, {\"v\": 9.681818181818182}, {\"v\": 281.0}, {\"v\": 2840170}, {\"v\": \"test\"}, {\"v\": 13}, {\"v\": 0}, {\"v\": null}, {\"v\": 5.0}, {\"v\": 2}]}, {\"c\": [{\"v\": 40033}, {\"v\": 44142}, {\"v\": 0.2222222222222222}, {\"v\": 0.8461538461538461}, {\"v\": 0.0335195530726257}, {\"v\": 0.13924050632911392}, {\"v\": 41}, {\"v\": 279.0}, {\"v\": 54}, {\"v\": 358.0}, {\"v\": 4.916666666666668}, {\"v\": 358.0}, {\"v\": 3199628}, {\"v\": \"test\"}, {\"v\": 17}, {\"v\": 0}, {\"v\": null}, {\"v\": 5.0}, {\"v\": 2}]}, {\"c\": [{\"v\": 163348}, {\"v\": 38826}, {\"v\": 0.12087912087912088}, {\"v\": 0.19230769230769232}, {\"v\": 0.030985915492957747}, {\"v\": 0.057803468208092484}, {\"v\": 39}, {\"v\": 182.0}, {\"v\": 91}, {\"v\": 355.0}, {\"v\": 3.9999999999999996}, {\"v\": 355.0}, {\"v\": 832408}, {\"v\": \"test\"}, {\"v\": 15}, {\"v\": 5}, {\"v\": null}, {\"v\": 10.0}, {\"v\": 2}]}, {\"c\": [{\"v\": 5927}, {\"v\": 48679}, {\"v\": 0.21311475409836064}, {\"v\": 0.46153846153846156}, {\"v\": 0.036312849162011177}, {\"v\": 0.11214953271028037}, {\"v\": 35}, {\"v\": 251.0}, {\"v\": 60}, {\"v\": 356.0}, {\"v\": 10.0}, {\"v\": 358.0}, {\"v\": 138325}, {\"v\": \"test\"}, {\"v\": 21}, {\"v\": 5}, {\"v\": null}, {\"v\": 6.0}, {\"v\": 3}]}, {\"c\": [{\"v\": 169068}, {\"v\": 48900}, {\"v\": 0.12121212121212122}, {\"v\": 0.1774193548387097}, {\"v\": 0.04477611940298507}, {\"v\": 0.07333333333333333}, {\"v\": 37}, {\"v\": 118.0}, {\"v\": 54}, {\"v\": 158.0}, {\"v\": 3.4166666666666665}, {\"v\": 268.0}, {\"v\": 3268425}, {\"v\": \"test\"}, {\"v\": 14}, {\"v\": 6}, {\"v\": null}, {\"v\": 114.0}, {\"v\": 47}]}, {\"c\": [{\"v\": 150722}, {\"v\": 33787}, {\"v\": 0.47368421052631576}, {\"v\": 0.8333333333333334}, {\"v\": 0.1}, {\"v\": 0.2229299363057325}, {\"v\": 34}, {\"v\": 203.0}, {\"v\": 76}, {\"v\": 360.0}, {\"v\": 8.583333333333334}, {\"v\": 360.0}, {\"v\": 23281}, {\"v\": \"test\"}, {\"v\": 15}, {\"v\": 5}, {\"v\": null}, {\"v\": 4.0}, {\"v\": 2}]}, {\"c\": [{\"v\": 79708}, {\"v\": 39558}, {\"v\": 0.1111111111111111}, {\"v\": 0.2857142857142857}, {\"v\": 0.05851063829787234}, {\"v\": 0.16666666666666666}, {\"v\": 64}, {\"v\": 128.0}, {\"v\": 97}, {\"v\": 185.0}, {\"v\": 4.272727272727273}, {\"v\": 188.0}, {\"v\": 522795}, {\"v\": \"test\"}, {\"v\": 9}, {\"v\": 3}, {\"v\": null}, {\"v\": 5.0}, {\"v\": 4}]}, {\"c\": [{\"v\": 169886}, {\"v\": 11945}, {\"v\": 0.01694915254237288}, {\"v\": 0.0}, {\"v\": 0.003076923076923077}, {\"v\": 0.0}, {\"v\": 51}, {\"v\": 281.0}, {\"v\": 51}, {\"v\": 281.0}, {\"v\": 4.0}, {\"v\": 325.0}, {\"v\": 2234897}, {\"v\": \"test\"}, {\"v\": 18}, {\"v\": 0}, {\"v\": null}, {\"v\": 46.0}, {\"v\": 10}]}, {\"c\": [{\"v\": 49296}, {\"v\": 31506}, {\"v\": 0.02040816326530612}, {\"v\": 0.0}, {\"v\": 0.0030211480362537764}, {\"v\": 0.0}, {\"v\": 46}, {\"v\": 313.0}, {\"v\": 46}, {\"v\": 313.0}, {\"v\": 10.0}, {\"v\": 331.0}, {\"v\": 2090352}, {\"v\": \"test\"}, {\"v\": 9}, {\"v\": 6}, {\"v\": null}, {\"v\": 21.0}, {\"v\": 5}]}, {\"c\": [{\"v\": 78870}, {\"v\": 18200}, {\"v\": 0.023255813953488372}, {\"v\": 0.0}, {\"v\": 0.002890173410404624}, {\"v\": 0.0}, {\"v\": 41}, {\"v\": 320.0}, {\"v\": 41}, {\"v\": 320.0}, {\"v\": 19.0}, {\"v\": 346.0}, {\"v\": 2532423}, {\"v\": \"test\"}, {\"v\": 8}, {\"v\": 6}, {\"v\": null}, {\"v\": 40.0}, {\"v\": 4}]}, {\"c\": [{\"v\": 5328}, {\"v\": 13212}, {\"v\": 0.018867924528301886}, {\"v\": 0.0}, {\"v\": 0.002840909090909091}, {\"v\": 0.0}, {\"v\": 48}, {\"v\": 310.0}, {\"v\": 48}, {\"v\": 310.0}, {\"v\": 15.0}, {\"v\": 352.0}, {\"v\": 239811}, {\"v\": \"test\"}, {\"v\": 21}, {\"v\": 2}, {\"v\": null}, {\"v\": 49.0}, {\"v\": 7}]}, {\"c\": [{\"v\": 193520}, {\"v\": 49451}, {\"v\": 0.018518518518518517}, {\"v\": 0.0}, {\"v\": 0.0028089887640449437}, {\"v\": 0.0}, {\"v\": 47}, {\"v\": 323.0}, {\"v\": 47}, {\"v\": 323.0}, {\"v\": 4.0}, {\"v\": 356.0}, {\"v\": 2389556}, {\"v\": \"test\"}, {\"v\": 21}, {\"v\": 4}, {\"v\": null}, {\"v\": 36.0}, {\"v\": 9}]}, {\"c\": [{\"v\": 86067}, {\"v\": 14992}, {\"v\": 0.017543859649122806}, {\"v\": 0.0}, {\"v\": 0.002840909090909091}, {\"v\": 0.0}, {\"v\": 48}, {\"v\": 304.0}, {\"v\": 48}, {\"v\": 304.0}, {\"v\": 5.0}, {\"v\": 352.0}, {\"v\": 1841657}, {\"v\": \"test\"}, {\"v\": 9}, {\"v\": 0}, {\"v\": null}, {\"v\": 54.0}, {\"v\": 11}]}, {\"c\": [{\"v\": 75887}, {\"v\": 48034}, {\"v\": 0.01282051282051282}, {\"v\": 0.0}, {\"v\": 0.0028089887640449437}, {\"v\": 0.0}, {\"v\": 41}, {\"v\": 140.0}, {\"v\": 41}, {\"v\": 140.0}, {\"v\": 11.0}, {\"v\": 356.0}, {\"v\": 1387864}, {\"v\": \"test\"}, {\"v\": 9}, {\"v\": 4}, {\"v\": null}, {\"v\": 224.0}, {\"v\": 39}]}, {\"c\": [{\"v\": 179886}, {\"v\": 546}, {\"v\": 0.012987012987012988}, {\"v\": null}, {\"v\": 0.0028328611898017}, {\"v\": null}, {\"v\": 77}, {\"v\": 353.0}, {\"v\": 77}, {\"v\": 353.0}, {\"v\": 9.0}, {\"v\": 353.0}, {\"v\": 438797}, {\"v\": \"test\"}, {\"v\": 13}, {\"v\": 4}, {\"v\": null}, {\"v\": 9.0}, {\"v\": 2}]}, {\"c\": [{\"v\": 74324}, {\"v\": 11913}, {\"v\": 0.023255813953488372}, {\"v\": 0.0}, {\"v\": 0.002849002849002849}, {\"v\": 0.0}, {\"v\": 41}, {\"v\": 334.0}, {\"v\": 41}, {\"v\": 334.0}, {\"v\": 10.0}, {\"v\": 351.0}, {\"v\": 1077615}, {\"v\": \"test\"}, {\"v\": 14}, {\"v\": 0}, {\"v\": null}, {\"v\": 29.0}, {\"v\": 4}]}], \"cols\": [{\"type\": \"number\", \"id\": \"user_id\", \"label\": \"user_id\"}, {\"type\": \"number\", \"id\": \"product_id\", \"label\": \"product_id\"}, {\"type\": \"number\", \"id\": \"perc_all_orders\", \"label\": \"perc_all_orders\"}, {\"type\": \"number\", \"id\": \"perc_reorder\", \"label\": \"perc_reorder\"}, {\"type\": \"number\", \"id\": \"orders_per_day\", \"label\": \"orders_per_day\"}, {\"type\": \"number\", \"id\": \"reorders_per_day\", \"label\": \"reorders_per_day\"}, {\"type\": \"number\", \"id\": \"first_order_number\", \"label\": \"first_order_number\"}, {\"type\": \"number\", \"id\": \"first_order_day\", \"label\": \"first_order_day\"}, {\"type\": \"number\", \"id\": \"last_order_number\", \"label\": \"last_order_number\"}, {\"type\": \"number\", \"id\": \"last_order_day\", \"label\": \"last_order_day\"}, {\"type\": \"number\", \"id\": \"avg_cart_order\", \"label\": \"avg_cart_order\"}, {\"type\": \"number\", \"id\": \"days_bw_first_last_order\", \"label\": \"days_bw_first_last_order\"}, {\"type\": \"number\", \"id\": \"order_id\", \"label\": \"order_id\"}, {\"type\": \"string\", \"id\": \"eval_set\", \"label\": \"eval_set\"}, {\"type\": \"number\", \"id\": \"order_hour_of_day\", \"label\": \"order_hour_of_day\"}, {\"type\": \"number\", \"id\": \"order_dow\", \"label\": \"order_dow\"}, {\"type\": \"number\", \"id\": \"is_ordered\", \"label\": \"is_ordered\"}, {\"type\": \"number\", \"id\": \"days_since_last_order\", \"label\": \"days_since_last_order\"}, {\"type\": \"number\", \"id\": \"orders_since_last_order\", \"label\": \"orders_since_last_order\"}]},\n",
       "            {\n",
       "              pageSize: 25,\n",
       "              cssClassNames:  {\n",
       "                tableRow: 'gchart-table-row',\n",
       "                headerRow: 'gchart-table-headerrow',\n",
       "                oddTableRow: 'gchart-table-oddrow',\n",
       "                selectedTableRow: 'gchart-table-selectedrow',\n",
       "                hoverTableRow: 'gchart-table-hoverrow',\n",
       "                tableCell: 'gchart-table-cell',\n",
       "                headerCell: 'gchart-table-headercell',\n",
       "                rowNumberCell: 'gchart-table-rownumcell'\n",
       "              }\n",
       "            },\n",
       "            {source_index: 2, fields: 'user_id,product_id,perc_all_orders,perc_reorder,orders_per_day,reorders_per_day,first_order_number,first_order_day,last_order_number,last_order_day,avg_cart_order,days_bw_first_last_order,order_id,eval_set,order_hour_of_day,order_dow,is_ordered,days_since_last_order,orders_since_last_order'},\n",
       "            0,\n",
       "            13307953);\n",
       "        }\n",
       "      );\n",
       "    </script>\n",
       "  "
      ],
      "text/plain": [
       "QueryResultsTable job_vCkLl3ISD5n7UxptIhnqyqi1F3Y"
      ]
     },
     "execution_count": 9,
     "metadata": {},
     "output_type": "execute_result"
    }
   ],
   "source": [
    "%%bq execute -q user_products_features_q -t instacart.user_products_features -m overwrite"
   ]
  },
  {
   "cell_type": "markdown",
   "metadata": {},
   "source": [
    "## User Features\n",
    "\n",
    "Some additional user-level features that we'll join in later"
   ]
  },
  {
   "cell_type": "code",
   "execution_count": 10,
   "metadata": {
    "collapsed": true
   },
   "outputs": [],
   "source": [
    "%%bq query -n user_features_q\n",
    "SELECT orders.user_id,\n",
    "  ANY_VALUE(users.num_orders) AS num_orders,\n",
    "  SUM(op.reordered) / SUM(CASE WHEN orders.order_number > 1 THEN 1 ELSE 0 END) AS perc_reorder,\n",
    "  ANY_VALUE(users.days_bw_first_last_order) / ANY_VALUE(users.num_orders) AS avg_days_bw_orders,\n",
    "  COUNT(DISTINCT op.product_id) AS num_products,\n",
    "  COUNT(DISTINCT products.aisle_id) AS num_aisles,\n",
    "  COUNT(DISTINCT products.department_id) AS num_departments\n",
    "FROM instacart.orders AS orders\n",
    "INNER JOIN instacart.order_products__prior AS op ON op.order_id = orders.order_id\n",
    "INNER JOIN instacart.users AS users ON orders.user_id = users.user_id\n",
    "INNER JOIN instacart.products AS products ON op.product_id = products.product_id\n",
    "GROUP BY 1"
   ]
  },
  {
   "cell_type": "code",
   "execution_count": 11,
   "metadata": {
    "collapsed": false
   },
   "outputs": [
    {
     "data": {
      "text/html": [
       "\n",
       "    <div class=\"bqtv\" id=\"4_150034292541\"><table><tr><th>user_id</th><th>num_orders</th><th>perc_reorder</th><th>avg_days_bw_orders</th><th>num_products</th><th>num_aisles</th><th>num_departments</th></tr><tr><td>109010</td><td>3</td><td>1.0</td><td>0.0</td><td>1</td><td>1</td><td>1</td></tr><tr><td>99295</td><td>3</td><td>1.0</td><td>0.0</td><td>1</td><td>1</td><td>1</td></tr><tr><td>164320</td><td>3</td><td>1.0</td><td>0.0</td><td>2</td><td>2</td><td>1</td></tr><tr><td>15495</td><td>3</td><td>1.0</td><td>0.0</td><td>1</td><td>1</td><td>1</td></tr><tr><td>62180</td><td>3</td><td>0.666666666667</td><td>0.0</td><td>2</td><td>1</td><td>1</td></tr><tr><td>181478</td><td>3</td><td>1.0</td><td>0.0</td><td>3</td><td>2</td><td>1</td></tr><tr><td>202329</td><td>3</td><td>0.75</td><td>2.0</td><td>4</td><td>3</td><td>1</td></tr><tr><td>97779</td><td>14</td><td>1.0</td><td>2.0</td><td>1</td><td>1</td><td>1</td></tr><tr><td>50492</td><td>4</td><td>0.75</td><td>2.0</td><td>2</td><td>2</td><td>1</td></tr><tr><td>172259</td><td>5</td><td>0.8</td><td>2.0</td><td>7</td><td>2</td><td>1</td></tr><tr><td>113387</td><td>3</td><td>1.0</td><td>2.0</td><td>3</td><td>2</td><td>1</td></tr><tr><td>49581</td><td>3</td><td>1.0</td><td>2.0</td><td>1</td><td>1</td><td>1</td></tr><tr><td>167624</td><td>4</td><td>0.75</td><td>2.25</td><td>2</td><td>1</td><td>1</td></tr><tr><td>119293</td><td>4</td><td>0.6</td><td>2.25</td><td>7</td><td>4</td><td>1</td></tr><tr><td>148573</td><td>22</td><td>1.0</td><td>2.5</td><td>1</td><td>1</td><td>1</td></tr><tr><td>70227</td><td>8</td><td>0.181818181818</td><td>2.625</td><td>10</td><td>3</td><td>1</td></tr><tr><td>25740</td><td>4</td><td>1.0</td><td>2.75</td><td>1</td><td>1</td><td>1</td></tr><tr><td>199604</td><td>8</td><td>1.0</td><td>2.75</td><td>1</td><td>1</td><td>1</td></tr><tr><td>78411</td><td>7</td><td>1.0</td><td>3.0</td><td>2</td><td>2</td><td>1</td></tr><tr><td>114577</td><td>4</td><td>0.714285714286</td><td>3.0</td><td>7</td><td>2</td><td>1</td></tr><tr><td>5120</td><td>4</td><td>0.8</td><td>3.25</td><td>6</td><td>1</td><td>1</td></tr><tr><td>78397</td><td>4</td><td>1.0</td><td>3.5</td><td>1</td><td>1</td><td>1</td></tr><tr><td>165071</td><td>4</td><td>0.857142857143</td><td>3.5</td><td>3</td><td>1</td><td>1</td></tr><tr><td>113793</td><td>8</td><td>0.818181818182</td><td>3.875</td><td>6</td><td>2</td><td>1</td></tr><tr><td>174385</td><td>3</td><td>0.75</td><td>4.0</td><td>3</td><td>2</td><td>1</td></tr></table></div>\n",
       "    <br />(rows: 206209, time: 48.1s,   866MB processed, job: job_im8K-lzTYxfEUr2vAmTZqDmybkE)<br />\n",
       "    <script>\n",
       "\n",
       "      require.config({\n",
       "        paths: {\n",
       "          d3: '//cdnjs.cloudflare.com/ajax/libs/d3/3.4.13/d3',\n",
       "          plotly: 'https://cdn.plot.ly/plotly-1.5.1.min.js?noext',\n",
       "          jquery: '//ajax.googleapis.com/ajax/libs/jquery/2.0.0/jquery.min'\n",
       "        },\n",
       "        map: {\n",
       "          '*': {\n",
       "            datalab: 'nbextensions/gcpdatalab'\n",
       "          }\n",
       "        },\n",
       "        shim: {\n",
       "          plotly: {\n",
       "            deps: ['d3', 'jquery'],\n",
       "            exports: 'plotly'\n",
       "          }\n",
       "        }\n",
       "      });\n",
       "\n",
       "      require(['datalab/charting', 'datalab/element!4_150034292541', 'base/js/events',\n",
       "          'datalab/style!/nbextensions/gcpdatalab/charting.css'],\n",
       "        function(charts, dom, events) {\n",
       "          charts.render('gcharts', dom, events, 'paged_table', [], {\"rows\": [{\"c\": [{\"v\": 109010}, {\"v\": 3}, {\"v\": 1.0}, {\"v\": 0.0}, {\"v\": 1}, {\"v\": 1}, {\"v\": 1}]}, {\"c\": [{\"v\": 99295}, {\"v\": 3}, {\"v\": 1.0}, {\"v\": 0.0}, {\"v\": 1}, {\"v\": 1}, {\"v\": 1}]}, {\"c\": [{\"v\": 164320}, {\"v\": 3}, {\"v\": 1.0}, {\"v\": 0.0}, {\"v\": 2}, {\"v\": 2}, {\"v\": 1}]}, {\"c\": [{\"v\": 15495}, {\"v\": 3}, {\"v\": 1.0}, {\"v\": 0.0}, {\"v\": 1}, {\"v\": 1}, {\"v\": 1}]}, {\"c\": [{\"v\": 62180}, {\"v\": 3}, {\"v\": 0.6666666666666666}, {\"v\": 0.0}, {\"v\": 2}, {\"v\": 1}, {\"v\": 1}]}, {\"c\": [{\"v\": 181478}, {\"v\": 3}, {\"v\": 1.0}, {\"v\": 0.0}, {\"v\": 3}, {\"v\": 2}, {\"v\": 1}]}, {\"c\": [{\"v\": 202329}, {\"v\": 3}, {\"v\": 0.75}, {\"v\": 2.0}, {\"v\": 4}, {\"v\": 3}, {\"v\": 1}]}, {\"c\": [{\"v\": 97779}, {\"v\": 14}, {\"v\": 1.0}, {\"v\": 2.0}, {\"v\": 1}, {\"v\": 1}, {\"v\": 1}]}, {\"c\": [{\"v\": 50492}, {\"v\": 4}, {\"v\": 0.75}, {\"v\": 2.0}, {\"v\": 2}, {\"v\": 2}, {\"v\": 1}]}, {\"c\": [{\"v\": 172259}, {\"v\": 5}, {\"v\": 0.8}, {\"v\": 2.0}, {\"v\": 7}, {\"v\": 2}, {\"v\": 1}]}, {\"c\": [{\"v\": 113387}, {\"v\": 3}, {\"v\": 1.0}, {\"v\": 2.0}, {\"v\": 3}, {\"v\": 2}, {\"v\": 1}]}, {\"c\": [{\"v\": 49581}, {\"v\": 3}, {\"v\": 1.0}, {\"v\": 2.0}, {\"v\": 1}, {\"v\": 1}, {\"v\": 1}]}, {\"c\": [{\"v\": 167624}, {\"v\": 4}, {\"v\": 0.75}, {\"v\": 2.25}, {\"v\": 2}, {\"v\": 1}, {\"v\": 1}]}, {\"c\": [{\"v\": 119293}, {\"v\": 4}, {\"v\": 0.6}, {\"v\": 2.25}, {\"v\": 7}, {\"v\": 4}, {\"v\": 1}]}, {\"c\": [{\"v\": 148573}, {\"v\": 22}, {\"v\": 1.0}, {\"v\": 2.5}, {\"v\": 1}, {\"v\": 1}, {\"v\": 1}]}, {\"c\": [{\"v\": 70227}, {\"v\": 8}, {\"v\": 0.18181818181818182}, {\"v\": 2.625}, {\"v\": 10}, {\"v\": 3}, {\"v\": 1}]}, {\"c\": [{\"v\": 25740}, {\"v\": 4}, {\"v\": 1.0}, {\"v\": 2.75}, {\"v\": 1}, {\"v\": 1}, {\"v\": 1}]}, {\"c\": [{\"v\": 199604}, {\"v\": 8}, {\"v\": 1.0}, {\"v\": 2.75}, {\"v\": 1}, {\"v\": 1}, {\"v\": 1}]}, {\"c\": [{\"v\": 78411}, {\"v\": 7}, {\"v\": 1.0}, {\"v\": 3.0}, {\"v\": 2}, {\"v\": 2}, {\"v\": 1}]}, {\"c\": [{\"v\": 114577}, {\"v\": 4}, {\"v\": 0.7142857142857143}, {\"v\": 3.0}, {\"v\": 7}, {\"v\": 2}, {\"v\": 1}]}, {\"c\": [{\"v\": 5120}, {\"v\": 4}, {\"v\": 0.8}, {\"v\": 3.25}, {\"v\": 6}, {\"v\": 1}, {\"v\": 1}]}, {\"c\": [{\"v\": 78397}, {\"v\": 4}, {\"v\": 1.0}, {\"v\": 3.5}, {\"v\": 1}, {\"v\": 1}, {\"v\": 1}]}, {\"c\": [{\"v\": 165071}, {\"v\": 4}, {\"v\": 0.8571428571428571}, {\"v\": 3.5}, {\"v\": 3}, {\"v\": 1}, {\"v\": 1}]}, {\"c\": [{\"v\": 113793}, {\"v\": 8}, {\"v\": 0.8181818181818182}, {\"v\": 3.875}, {\"v\": 6}, {\"v\": 2}, {\"v\": 1}]}, {\"c\": [{\"v\": 174385}, {\"v\": 3}, {\"v\": 0.75}, {\"v\": 4.0}, {\"v\": 3}, {\"v\": 2}, {\"v\": 1}]}], \"cols\": [{\"type\": \"number\", \"id\": \"user_id\", \"label\": \"user_id\"}, {\"type\": \"number\", \"id\": \"num_orders\", \"label\": \"num_orders\"}, {\"type\": \"number\", \"id\": \"perc_reorder\", \"label\": \"perc_reorder\"}, {\"type\": \"number\", \"id\": \"avg_days_bw_orders\", \"label\": \"avg_days_bw_orders\"}, {\"type\": \"number\", \"id\": \"num_products\", \"label\": \"num_products\"}, {\"type\": \"number\", \"id\": \"num_aisles\", \"label\": \"num_aisles\"}, {\"type\": \"number\", \"id\": \"num_departments\", \"label\": \"num_departments\"}]},\n",
       "            {\n",
       "              pageSize: 25,\n",
       "              cssClassNames:  {\n",
       "                tableRow: 'gchart-table-row',\n",
       "                headerRow: 'gchart-table-headerrow',\n",
       "                oddTableRow: 'gchart-table-oddrow',\n",
       "                selectedTableRow: 'gchart-table-selectedrow',\n",
       "                hoverTableRow: 'gchart-table-hoverrow',\n",
       "                tableCell: 'gchart-table-cell',\n",
       "                headerCell: 'gchart-table-headercell',\n",
       "                rowNumberCell: 'gchart-table-rownumcell'\n",
       "              }\n",
       "            },\n",
       "            {source_index: 3, fields: 'user_id,num_orders,perc_reorder,avg_days_bw_orders,num_products,num_aisles,num_departments'},\n",
       "            0,\n",
       "            206209);\n",
       "        }\n",
       "      );\n",
       "    </script>\n",
       "  "
      ],
      "text/plain": [
       "QueryResultsTable job_im8K-lzTYxfEUr2vAmTZqDmybkE"
      ]
     },
     "execution_count": 11,
     "metadata": {},
     "output_type": "execute_result"
    }
   ],
   "source": [
    "%%bq execute -q user_features_q -t instacart.user_features -m overwrite"
   ]
  },
  {
   "cell_type": "markdown",
   "metadata": {},
   "source": [
    "## Product Features\n",
    "\n",
    "Some additional product-level features that we'll join in later"
   ]
  },
  {
   "cell_type": "code",
   "execution_count": 12,
   "metadata": {
    "collapsed": true
   },
   "outputs": [],
   "source": [
    "%%bq query -n product_features_q\n",
    "WITH up_features AS (\n",
    "  SELECT up.user_id, up.product_id,\n",
    "    up.num_orders, users.num_orders AS `num_orders_user`,\n",
    "    up.num_reorders, users.num_orders - up.first_order_number AS `num_reorders_user`,\n",
    "    users.days_bw_first_last_order AS `order_days`, users.days_bw_first_last_order - up.first_order_day AS `reorder_days`,\n",
    "    up.first_order_number, up.first_order_day\n",
    "  FROM instacart.user_products AS up\n",
    "  INNER JOIN instacart.users AS users ON up.user_id = users.user_id\n",
    ")\n",
    "\n",
    "SELECT up.product_id, products.aisle_id, products.department_id,\n",
    "  COUNT(DISTINCT user_id) / ANY_VALUE(num_users_total) AS `perc_users`,\n",
    "  SUM(num_orders) / SUM(num_orders_user) AS `perc_all_orders`,\n",
    "  SUM(num_reorders) / NULLIF(SUM(num_reorders_user),0) AS `perc_reorders`,\n",
    "  SUM(num_orders) / NULLIF(SUM(order_days),0) AS `orders_per_day`,\n",
    "  SUM(num_reorders) / NULLIF(SUM(reorder_days),0) AS `reorders_per_day`,\n",
    "  AVG(first_order_number) AS `avg_first_order_number`,\n",
    "  AVG(first_order_day) AS `avg_first_order_day`\n",
    "FROM up_features AS up\n",
    "INNER JOIN instacart.products AS products ON up.product_id = products.product_id\n",
    "INNER JOIN (\n",
    "  SELECT COUNT(DISTINCT user_id) AS num_users_total\n",
    "  FROM instacart.user_products\n",
    ") AS x ON 1=1\n",
    "GROUP BY 1,2,3"
   ]
  },
  {
   "cell_type": "code",
   "execution_count": 13,
   "metadata": {
    "collapsed": false
   },
   "outputs": [
    {
     "data": {
      "text/html": [
       "\n",
       "    <div class=\"bqtv\" id=\"5_150034297188\"><table><tr><th>product_id</th><th>aisle_id</th><th>department_id</th><th>perc_users</th><th>perc_all_orders</th><th>perc_reorders</th><th>orders_per_day</th><th>reorders_per_day</th><th>avg_first_order_number</th><th>avg_first_order_day</th></tr><tr><td>13029</td><td>1</td><td>20</td><td>0.0012657061525</td><td>0.143698679043</td><td>0.161328588375</td><td>0.0165226493709</td><td>0.0181733146255</td><td>8.54406130268</td><td>71.9808429119</td></tr><tr><td>5653</td><td>1</td><td>20</td><td>0.00157607087954</td><td>0.131247514252</td><td>0.161721789883</td><td>0.0152605860682</td><td>0.0186803000084</td><td>10.5569230769</td><td>90.0738461538</td></tr><tr><td>26714</td><td>1</td><td>20</td><td>0.00307455057733</td><td>0.143773797772</td><td>0.17024112444</td><td>0.0159892725234</td><td>0.018334616539</td><td>9.35173501577</td><td>80.2712933754</td></tr><tr><td>10654</td><td>1</td><td>20</td><td>0.000387955908811</td><td>0.0764840182648</td><td>0.0584415584416</td><td>0.00778752833149</td><td>0.00606809753905</td><td>10.35</td><td>103.85</td></tr><tr><td>26870</td><td>1</td><td>20</td><td>0.000737116226741</td><td>0.0843142622502</td><td>0.0727951469902</td><td>0.00987559317686</td><td>0.00816925010473</td><td>9.93421052632</td><td>79.5526315789</td></tr><tr><td>8121</td><td>1</td><td>20</td><td>0.00070317008472</td><td>0.0611981962637</td><td>0.038503850385</td><td>0.00803631852019</td><td>0.00499696612771</td><td>7.04137931034</td><td>51.3586206897</td></tr><tr><td>25965</td><td>1</td><td>20</td><td>0.00321518459427</td><td>0.127115920291</td><td>0.148540653231</td><td>0.015843871433</td><td>0.0182357206842</td><td>10.7933634992</td><td>84.467571644</td></tr><tr><td>1600</td><td>1</td><td>20</td><td>0.000378257011091</td><td>0.0887342322749</td><td>0.0981308411215</td><td>0.0110115513333</td><td>0.0118823085628</td><td>13.0128205128</td><td>101.564102564</td></tr><tr><td>19268</td><td>1</td><td>20</td><td>0.00122691056161</td><td>0.0721782890007</td><td>0.0622033474894</td><td>0.00916627104408</td><td>0.00789799219716</td><td>11.6679841897</td><td>91.8537549407</td></tr><tr><td>6778</td><td>1</td><td>20</td><td>0.000940793078867</td><td>0.0503076366269</td><td>0.0268370607029</td><td>0.00641528591868</td><td>0.00342075256556</td><td>12.3505154639</td><td>96.793814433</td></tr><tr><td>33016</td><td>1</td><td>20</td><td>0.00110567434011</td><td>0.0964584445631</td><td>0.094492928077</td><td>0.0118672271851</td><td>0.0113312403017</td><td>10.0701754386</td><td>78.7763157895</td></tr><tr><td>49445</td><td>1</td><td>20</td><td>0.000615880005237</td><td>0.0685944855414</td><td>0.0635838150289</td><td>0.00837197849551</td><td>0.00725525299161</td><td>13.8818897638</td><td>108.299212598</td></tr><tr><td>5351</td><td>1</td><td>20</td><td>0.000819556857363</td><td>0.158227848101</td><td>0.176499752107</td><td>0.014601585315</td><td>0.0154206012302</td><td>7.69822485207</td><td>76.1479289941</td></tr><tr><td>40788</td><td>1</td><td>20</td><td>0.000664374493839</td><td>0.0861734552508</td><td>0.0921122286924</td><td>0.0103645937479</td><td>0.0113666056964</td><td>12.5547445255</td><td>107.284671533</td></tr><tr><td>35457</td><td>1</td><td>20</td><td>0.000213375749846</td><td>0.0709939148073</td><td>0.0840220385675</td><td>0.0102890739833</td><td>0.0111865028425</td><td>17.1136363636</td><td>108.0</td></tr><tr><td>15767</td><td>1</td><td>20</td><td>0.00232288600401</td><td>0.0964134515536</td><td>0.0927979604844</td><td>0.0116006381793</td><td>0.0108272108034</td><td>9.75782881002</td><td>76.8434237996</td></tr><tr><td>28008</td><td>1</td><td>20</td><td>0.00186218836229</td><td>0.104032953348</td><td>0.111943868601</td><td>0.0128781320779</td><td>0.0132009477604</td><td>10.8541666667</td><td>81.1223958333</td></tr><tr><td>10288</td><td>1</td><td>20</td><td>0.000436450397412</td><td>0.0719584569733</td><td>0.0873949579832</td><td>0.00939012584705</td><td>0.0107471323757</td><td>16.7333333333</td><td>122.033333333</td></tr><tr><td>45302</td><td>1</td><td>20</td><td>0.0012899533968</td><td>0.0829060897837</td><td>0.0850835833691</td><td>0.010688204285</td><td>0.0110434226265</td><td>12.522556391</td><td>98.0526315789</td></tr><tr><td>43000</td><td>1</td><td>20</td><td>0.000392805357671</td><td>0.0583468395462</td><td>0.052719665272</td><td>0.00780360916924</td><td>0.0066259991586</td><td>15.7160493827</td><td>110.432098765</td></tr><tr><td>27216</td><td>1</td><td>20</td><td>0.00201252127696</td><td>0.068531877559</td><td>0.0438489646772</td><td>0.00788894873867</td><td>0.00503135864153</td><td>8.89156626506</td><td>76.7975903614</td></tr><tr><td>37167</td><td>1</td><td>20</td><td>0.000843804101664</td><td>0.0771420438372</td><td>0.0428445229682</td><td>0.0080688382064</td><td>0.00451351728631</td><td>7.17816091954</td><td>69.5114942529</td></tr><tr><td>17302</td><td>1</td><td>20</td><td>0.000969889772027</td><td>0.0797872340426</td><td>0.0736961451247</td><td>0.00808447046718</td><td>0.00718113019941</td><td>11.86</td><td>113.58</td></tr><tr><td>554</td><td>1</td><td>20</td><td>0.00170215654991</td><td>0.161957618567</td><td>0.189634146341</td><td>0.0189118331517</td><td>0.0216603983842</td><td>8.5698005698</td><td>70.7122507123</td></tr><tr><td>13603</td><td>1</td><td>20</td><td>0.00180884442483</td><td>0.110287106685</td><td>0.122523844461</td><td>0.0131101707723</td><td>0.0140401025684</td><td>10.6890080429</td><td>85.3243967828</td></tr></table></div>\n",
       "    <br />(rows: 49677, time: 44.8s,   644MB processed, job: job_kYgFVfzw8aiJiczSEHFE6pphpLQ)<br />\n",
       "    <script>\n",
       "\n",
       "      require.config({\n",
       "        paths: {\n",
       "          d3: '//cdnjs.cloudflare.com/ajax/libs/d3/3.4.13/d3',\n",
       "          plotly: 'https://cdn.plot.ly/plotly-1.5.1.min.js?noext',\n",
       "          jquery: '//ajax.googleapis.com/ajax/libs/jquery/2.0.0/jquery.min'\n",
       "        },\n",
       "        map: {\n",
       "          '*': {\n",
       "            datalab: 'nbextensions/gcpdatalab'\n",
       "          }\n",
       "        },\n",
       "        shim: {\n",
       "          plotly: {\n",
       "            deps: ['d3', 'jquery'],\n",
       "            exports: 'plotly'\n",
       "          }\n",
       "        }\n",
       "      });\n",
       "\n",
       "      require(['datalab/charting', 'datalab/element!5_150034297188', 'base/js/events',\n",
       "          'datalab/style!/nbextensions/gcpdatalab/charting.css'],\n",
       "        function(charts, dom, events) {\n",
       "          charts.render('gcharts', dom, events, 'paged_table', [], {\"rows\": [{\"c\": [{\"v\": 13029}, {\"v\": 1}, {\"v\": 20}, {\"v\": 0.001265706152495769}, {\"v\": 0.14369867904319886}, {\"v\": 0.16132858837485173}, {\"v\": 0.016522649370907822}, {\"v\": 0.018173314625509453}, {\"v\": 8.544061302681992}, {\"v\": 71.9808429118774}]}, {\"c\": [{\"v\": 5653}, {\"v\": 1}, {\"v\": 20}, {\"v\": 0.0015760708795445398}, {\"v\": 0.131247514251624}, {\"v\": 0.1617217898832685}, {\"v\": 0.015260586068163952}, {\"v\": 0.018680300008427204}, {\"v\": 10.556923076923075}, {\"v\": 90.07384615384615}]}, {\"c\": [{\"v\": 26714}, {\"v\": 1}, {\"v\": 20}, {\"v\": 0.003074550577326887}, {\"v\": 0.14377379777182345}, {\"v\": 0.1702411244395977}, {\"v\": 0.01598927252338794}, {\"v\": 0.018334616538998576}, {\"v\": 9.351735015772872}, {\"v\": 80.27129337539434}]}, {\"c\": [{\"v\": 10654}, {\"v\": 1}, {\"v\": 20}, {\"v\": 0.00038795590881096365}, {\"v\": 0.07648401826484018}, {\"v\": 0.05844155844155844}, {\"v\": 0.007787528331492997}, {\"v\": 0.006068097539049332}, {\"v\": 10.350000000000001}, {\"v\": 103.85}]}, {\"c\": [{\"v\": 26870}, {\"v\": 1}, {\"v\": 20}, {\"v\": 0.0007371162267408309}, {\"v\": 0.08431426225020532}, {\"v\": 0.07279514699020065}, {\"v\": 0.009875593176862896}, {\"v\": 0.008169250104733976}, {\"v\": 9.93421052631579}, {\"v\": 79.55263157894737}]}, {\"c\": [{\"v\": 8121}, {\"v\": 1}, {\"v\": 20}, {\"v\": 0.0007031700847198716}, {\"v\": 0.06119819626368907}, {\"v\": 0.03850385038503851}, {\"v\": 0.008036318520189488}, {\"v\": 0.004996966127708177}, {\"v\": 7.041379310344828}, {\"v\": 51.35862068965517}]}, {\"c\": [{\"v\": 25965}, {\"v\": 1}, {\"v\": 20}, {\"v\": 0.003215184594270861}, {\"v\": 0.12711592029140775}, {\"v\": 0.1485406532314107}, {\"v\": 0.01584387143295899}, {\"v\": 0.01823572068421277}, {\"v\": 10.793363499245851}, {\"v\": 84.46757164404224}]}, {\"c\": [{\"v\": 1600}, {\"v\": 1}, {\"v\": 20}, {\"v\": 0.0003782570110906895}, {\"v\": 0.08873423227490213}, {\"v\": 0.09813084112149532}, {\"v\": 0.011011551333261363}, {\"v\": 0.011882308562806488}, {\"v\": 13.012820512820513}, {\"v\": 101.56410256410257}]}, {\"c\": [{\"v\": 19268}, {\"v\": 1}, {\"v\": 20}, {\"v\": 0.0012269105616146724}, {\"v\": 0.0721782890007189}, {\"v\": 0.062203347489382964}, {\"v\": 0.009166271044078442}, {\"v\": 0.007897992197164335}, {\"v\": 11.66798418972332}, {\"v\": 91.85375494071147}]}, {\"c\": [{\"v\": 6778}, {\"v\": 1}, {\"v\": 20}, {\"v\": 0.0009407930788665869}, {\"v\": 0.05030763662685487}, {\"v\": 0.0268370607028754}, {\"v\": 0.006415285918678174}, {\"v\": 0.0034207525655644243}, {\"v\": 12.350515463917525}, {\"v\": 96.79381443298968}]}, {\"c\": [{\"v\": 33016}, {\"v\": 1}, {\"v\": 20}, {\"v\": 0.0011056743401112463}, {\"v\": 0.09645844456308952}, {\"v\": 0.09449292807703882}, {\"v\": 0.01186722718514626}, {\"v\": 0.01133124030168525}, {\"v\": 10.07017543859649}, {\"v\": 78.77631578947368}]}, {\"c\": [{\"v\": 49445}, {\"v\": 1}, {\"v\": 20}, {\"v\": 0.0006158800052374048}, {\"v\": 0.06859448554135844}, {\"v\": 0.06358381502890173}, {\"v\": 0.008371978495506218}, {\"v\": 0.0072552529916140585}, {\"v\": 13.881889763779528}, {\"v\": 108.29921259842519}]}, {\"c\": [{\"v\": 5351}, {\"v\": 1}, {\"v\": 20}, {\"v\": 0.0008195568573631606}, {\"v\": 0.15822784810126583}, {\"v\": 0.17649975210708974}, {\"v\": 0.014601585314977055}, {\"v\": 0.015420601230182795}, {\"v\": 7.6982248520710055}, {\"v\": 76.14792899408283}]}, {\"c\": [{\"v\": 40788}, {\"v\": 1}, {\"v\": 20}, {\"v\": 0.0006643744938387752}, {\"v\": 0.08617345525076199}, {\"v\": 0.09211222869242985}, {\"v\": 0.010364593747917083}, {\"v\": 0.011366605696367911}, {\"v\": 12.554744525547445}, {\"v\": 107.28467153284672}]}, {\"c\": [{\"v\": 35457}, {\"v\": 1}, {\"v\": 20}, {\"v\": 0.00021337574984603}, {\"v\": 0.07099391480730223}, {\"v\": 0.08402203856749312}, {\"v\": 0.0102890739833415}, {\"v\": 0.011186502842472034}, {\"v\": 17.113636363636363}, {\"v\": 107.99999999999997}]}, {\"c\": [{\"v\": 15767}, {\"v\": 1}, {\"v\": 20}, {\"v\": 0.002322886004005645}, {\"v\": 0.09641345155363847}, {\"v\": 0.09279796048438496}, {\"v\": 0.011600638179266863}, {\"v\": 0.010827210803414736}, {\"v\": 9.757828810020877}, {\"v\": 76.84342379958248}]}, {\"c\": [{\"v\": 28008}, {\"v\": 1}, {\"v\": 20}, {\"v\": 0.0018621883622926255}, {\"v\": 0.10403295334802184}, {\"v\": 0.11194386860149896}, {\"v\": 0.012878132077932859}, {\"v\": 0.013200947760352025}, {\"v\": 10.854166666666664}, {\"v\": 81.12239583333331}]}, {\"c\": [{\"v\": 10288}, {\"v\": 1}, {\"v\": 20}, {\"v\": 0.00043645039741233406}, {\"v\": 0.07195845697329377}, {\"v\": 0.08739495798319327}, {\"v\": 0.009390125847047435}, {\"v\": 0.010747132375736282}, {\"v\": 16.73333333333333}, {\"v\": 122.03333333333333}]}, {\"c\": [{\"v\": 45302}, {\"v\": 1}, {\"v\": 20}, {\"v\": 0.0012899533967964541}, {\"v\": 0.08290608978366888}, {\"v\": 0.08508358336905272}, {\"v\": 0.010688204284954298}, {\"v\": 0.01104342262649865}, {\"v\": 12.522556390977444}, {\"v\": 98.05263157894738}]}, {\"c\": [{\"v\": 43000}, {\"v\": 1}, {\"v\": 20}, {\"v\": 0.00039280535767110067}, {\"v\": 0.05834683954619125}, {\"v\": 0.052719665271966525}, {\"v\": 0.007803609169240774}, {\"v\": 0.006625999158603281}, {\"v\": 15.71604938271605}, {\"v\": 110.43209876543212}]}, {\"c\": [{\"v\": 27216}, {\"v\": 1}, {\"v\": 20}, {\"v\": 0.002012521276956874}, {\"v\": 0.06853187755897835}, {\"v\": 0.0438489646772229}, {\"v\": 0.007888948738665948}, {\"v\": 0.0050313586415331665}, {\"v\": 8.89156626506024}, {\"v\": 76.79759036144577}]}, {\"c\": [{\"v\": 37167}, {\"v\": 1}, {\"v\": 20}, {\"v\": 0.0008438041016638459}, {\"v\": 0.0771420438371762}, {\"v\": 0.04284452296819788}, {\"v\": 0.008068838206395522}, {\"v\": 0.0045135172863058955}, {\"v\": 7.17816091954023}, {\"v\": 69.51149425287358}]}, {\"c\": [{\"v\": 17302}, {\"v\": 1}, {\"v\": 20}, {\"v\": 0.000969889772027409}, {\"v\": 0.0797872340425532}, {\"v\": 0.07369614512471655}, {\"v\": 0.008084470467184399}, {\"v\": 0.0071811301994144615}, {\"v\": 11.860000000000001}, {\"v\": 113.58000000000001}]}, {\"c\": [{\"v\": 554}, {\"v\": 1}, {\"v\": 20}, {\"v\": 0.001702156549908103}, {\"v\": 0.16195761856710394}, {\"v\": 0.18963414634146342}, {\"v\": 0.018911833151677614}, {\"v\": 0.02166039838417607}, {\"v\": 8.56980056980057}, {\"v\": 70.7122507122507}]}, {\"c\": [{\"v\": 13603}, {\"v\": 1}, {\"v\": 20}, {\"v\": 0.001808844424831118}, {\"v\": 0.1102871066850302}, {\"v\": 0.12252384446074835}, {\"v\": 0.013110170772253286}, {\"v\": 0.014040102568413973}, {\"v\": 10.689008042895441}, {\"v\": 85.32439678284183}]}], \"cols\": [{\"type\": \"number\", \"id\": \"product_id\", \"label\": \"product_id\"}, {\"type\": \"number\", \"id\": \"aisle_id\", \"label\": \"aisle_id\"}, {\"type\": \"number\", \"id\": \"department_id\", \"label\": \"department_id\"}, {\"type\": \"number\", \"id\": \"perc_users\", \"label\": \"perc_users\"}, {\"type\": \"number\", \"id\": \"perc_all_orders\", \"label\": \"perc_all_orders\"}, {\"type\": \"number\", \"id\": \"perc_reorders\", \"label\": \"perc_reorders\"}, {\"type\": \"number\", \"id\": \"orders_per_day\", \"label\": \"orders_per_day\"}, {\"type\": \"number\", \"id\": \"reorders_per_day\", \"label\": \"reorders_per_day\"}, {\"type\": \"number\", \"id\": \"avg_first_order_number\", \"label\": \"avg_first_order_number\"}, {\"type\": \"number\", \"id\": \"avg_first_order_day\", \"label\": \"avg_first_order_day\"}]},\n",
       "            {\n",
       "              pageSize: 25,\n",
       "              cssClassNames:  {\n",
       "                tableRow: 'gchart-table-row',\n",
       "                headerRow: 'gchart-table-headerrow',\n",
       "                oddTableRow: 'gchart-table-oddrow',\n",
       "                selectedTableRow: 'gchart-table-selectedrow',\n",
       "                hoverTableRow: 'gchart-table-hoverrow',\n",
       "                tableCell: 'gchart-table-cell',\n",
       "                headerCell: 'gchart-table-headercell',\n",
       "                rowNumberCell: 'gchart-table-rownumcell'\n",
       "              }\n",
       "            },\n",
       "            {source_index: 4, fields: 'product_id,aisle_id,department_id,perc_users,perc_all_orders,perc_reorders,orders_per_day,reorders_per_day,avg_first_order_number,avg_first_order_day'},\n",
       "            0,\n",
       "            49677);\n",
       "        }\n",
       "      );\n",
       "    </script>\n",
       "  "
      ],
      "text/plain": [
       "QueryResultsTable job_kYgFVfzw8aiJiczSEHFE6pphpLQ"
      ]
     },
     "execution_count": 13,
     "metadata": {},
     "output_type": "execute_result"
    }
   ],
   "source": [
    "%%bq execute -q product_features_q -t instacart.product_features -m overwrite"
   ]
  },
  {
   "cell_type": "markdown",
   "metadata": {},
   "source": [
    "## Time-of-Day Features\n",
    "\n",
    "For each aisle/department (aisles roll up into departments), compute how much more likely to purchase at that time of day"
   ]
  },
  {
   "cell_type": "code",
   "execution_count": 14,
   "metadata": {
    "collapsed": true
   },
   "outputs": [],
   "source": [
    "%%bq query -n tod_features_q\n",
    "WITH temp AS (\n",
    "  SELECT orders.order_hour_of_day, orders.order_dow, products.aisle_id, products.department_id, COUNT(*) AS `n_product`\n",
    "  FROM instacart.order_products__prior AS op\n",
    "  INNER JOIN instacart.orders AS orders ON orders.order_id = op.order_id\n",
    "  INNER JOIN instacart.products AS products ON op.product_id = products.product_id\n",
    "  GROUP BY 1,2,3,4\n",
    ")\n",
    "SELECT order_hour_of_day, order_dow, aisle_id,\n",
    "  n_aisle / n_aisle_total / (n_hod_dow / n_total) AS `aisle_tod_factor`,\n",
    "  n_department / n_department_total / (n_hod_dow / n_total) AS `department_tod_factor`\n",
    "FROM (\n",
    "  SELECT order_hour_of_day, order_dow, aisle_id, department_id,\n",
    "  SUM(n_product) OVER (PARTITION BY order_hour_of_day, order_dow, aisle_id) AS `n_aisle`,\n",
    "  SUM(n_product) OVER (PARTITION BY aisle_id) AS `n_aisle_total`,\n",
    "  SUM(n_product) OVER (PARTITION BY order_hour_of_day, order_dow, department_id) AS `n_department`,\n",
    "  SUM(n_product) OVER (PARTITION BY department_id) AS `n_department_total`,\n",
    "  SUM(n_product) OVER (PARTITION BY order_hour_of_day, order_dow) AS `n_hod_dow`,\n",
    "  SUM(n_product) OVER () AS `n_total`\n",
    "  FROM temp  \n",
    ") AS x"
   ]
  },
  {
   "cell_type": "code",
   "execution_count": 15,
   "metadata": {
    "collapsed": false
   },
   "outputs": [
    {
     "data": {
      "text/html": [
       "\n",
       "    <div class=\"bqtv\" id=\"6_150034298235\"><table><tr><th>order_hour_of_day</th><th>order_dow</th><th>aisle_id</th><th>aisle_tod_factor</th><th>department_tod_factor</th></tr><tr><td>0</td><td>0</td><td>41</td><td>1.13133403424</td><td>0.981797884424</td></tr><tr><td>0</td><td>0</td><td>108</td><td>0.985975863352</td><td>0.973611227146</td></tr><tr><td>0</td><td>0</td><td>47</td><td>0.925793104668</td><td>0.983352194461</td></tr><tr><td>0</td><td>1</td><td>56</td><td>0.887944733997</td><td>0.77740556466</td></tr><tr><td>0</td><td>1</td><td>112</td><td>0.911520664653</td><td>0.88298492536</td></tr><tr><td>0</td><td>1</td><td>96</td><td>1.05277665231</td><td>1.07156030786</td></tr><tr><td>0</td><td>2</td><td>56</td><td>1.01353100184</td><td>0.992661765603</td></tr><tr><td>0</td><td>2</td><td>104</td><td>1.09912413205</td><td>1.07120623463</td></tr><tr><td>0</td><td>3</td><td>17</td><td>1.15422695185</td><td>1.14344748087</td></tr><tr><td>0</td><td>3</td><td>129</td><td>1.17484020237</td><td>1.07012363996</td></tr><tr><td>0</td><td>4</td><td>110</td><td>1.09500280072</td><td>1.11863841147</td></tr><tr><td>0</td><td>5</td><td>7</td><td>0.843554166732</td><td>1.03994233819</td></tr><tr><td>0</td><td>5</td><td>6</td><td>0.787163810762</td><td>0.787163810762</td></tr><tr><td>0</td><td>5</td><td>89</td><td>1.18355835874</td><td>1.12182363809</td></tr><tr><td>0</td><td>6</td><td>114</td><td>1.06774143813</td><td>1.03597331337</td></tr><tr><td>0</td><td>6</td><td>54</td><td>1.05826119605</td><td>1.03597331337</td></tr><tr><td>0</td><td>6</td><td>7</td><td>1.01042288887</td><td>1.09258931749</td></tr><tr><td>0</td><td>6</td><td>57</td><td>0.681380265396</td><td>0.881176678118</td></tr><tr><td>0</td><td>6</td><td>52</td><td>0.997870969223</td><td>1.08307231914</td></tr><tr><td>1</td><td>1</td><td>62</td><td>0.290065439079</td><td>0.495971588794</td></tr><tr><td>1</td><td>1</td><td>107</td><td>0.97414049466</td><td>0.973698673558</td></tr><tr><td>1</td><td>1</td><td>39</td><td>0.837281395473</td><td>0.822702541472</td></tr><tr><td>1</td><td>2</td><td>19</td><td>1.16766125901</td><td>1.02152674759</td></tr><tr><td>1</td><td>3</td><td>104</td><td>1.18390351488</td><td>1.08504052785</td></tr><tr><td>1</td><td>3</td><td>78</td><td>0.865167124451</td><td>0.88034935376</td></tr></table></div>\n",
       "    <br />(rows: 22478, time: 9.1s,   602MB processed, job: job_6-v8Pb09yoW_sLoAGnvyQRNawaQ)<br />\n",
       "    <script>\n",
       "\n",
       "      require.config({\n",
       "        paths: {\n",
       "          d3: '//cdnjs.cloudflare.com/ajax/libs/d3/3.4.13/d3',\n",
       "          plotly: 'https://cdn.plot.ly/plotly-1.5.1.min.js?noext',\n",
       "          jquery: '//ajax.googleapis.com/ajax/libs/jquery/2.0.0/jquery.min'\n",
       "        },\n",
       "        map: {\n",
       "          '*': {\n",
       "            datalab: 'nbextensions/gcpdatalab'\n",
       "          }\n",
       "        },\n",
       "        shim: {\n",
       "          plotly: {\n",
       "            deps: ['d3', 'jquery'],\n",
       "            exports: 'plotly'\n",
       "          }\n",
       "        }\n",
       "      });\n",
       "\n",
       "      require(['datalab/charting', 'datalab/element!6_150034298235', 'base/js/events',\n",
       "          'datalab/style!/nbextensions/gcpdatalab/charting.css'],\n",
       "        function(charts, dom, events) {\n",
       "          charts.render('gcharts', dom, events, 'paged_table', [], {\"rows\": [{\"c\": [{\"v\": 0}, {\"v\": 0}, {\"v\": 41}, {\"v\": 1.1313340342406244}, {\"v\": 0.9817978844240358}]}, {\"c\": [{\"v\": 0}, {\"v\": 0}, {\"v\": 108}, {\"v\": 0.98597586335244}, {\"v\": 0.9736112271462704}]}, {\"c\": [{\"v\": 0}, {\"v\": 0}, {\"v\": 47}, {\"v\": 0.9257931046681256}, {\"v\": 0.9833521944613918}]}, {\"c\": [{\"v\": 0}, {\"v\": 1}, {\"v\": 56}, {\"v\": 0.8879447339965856}, {\"v\": 0.7774055646603573}]}, {\"c\": [{\"v\": 0}, {\"v\": 1}, {\"v\": 112}, {\"v\": 0.9115206646529753}, {\"v\": 0.8829849253604379}]}, {\"c\": [{\"v\": 0}, {\"v\": 1}, {\"v\": 96}, {\"v\": 1.0527766523091975}, {\"v\": 1.0715603078624356}]}, {\"c\": [{\"v\": 0}, {\"v\": 2}, {\"v\": 56}, {\"v\": 1.0135310018367767}, {\"v\": 0.9926617656025207}]}, {\"c\": [{\"v\": 0}, {\"v\": 2}, {\"v\": 104}, {\"v\": 1.099124132050506}, {\"v\": 1.0712062346276991}]}, {\"c\": [{\"v\": 0}, {\"v\": 3}, {\"v\": 17}, {\"v\": 1.1542269518485766}, {\"v\": 1.143447480866944}]}, {\"c\": [{\"v\": 0}, {\"v\": 3}, {\"v\": 129}, {\"v\": 1.1748402023719937}, {\"v\": 1.0701236399633758}]}, {\"c\": [{\"v\": 0}, {\"v\": 4}, {\"v\": 110}, {\"v\": 1.0950028007180794}, {\"v\": 1.1186384114695185}]}, {\"c\": [{\"v\": 0}, {\"v\": 5}, {\"v\": 7}, {\"v\": 0.8435541667316866}, {\"v\": 1.039942338189108}]}, {\"c\": [{\"v\": 0}, {\"v\": 5}, {\"v\": 6}, {\"v\": 0.7871638107621328}, {\"v\": 0.7871638107621328}]}, {\"c\": [{\"v\": 0}, {\"v\": 5}, {\"v\": 89}, {\"v\": 1.1835583587397522}, {\"v\": 1.1218236380867121}]}, {\"c\": [{\"v\": 0}, {\"v\": 6}, {\"v\": 114}, {\"v\": 1.0677414381333836}, {\"v\": 1.0359733133663234}]}, {\"c\": [{\"v\": 0}, {\"v\": 6}, {\"v\": 54}, {\"v\": 1.058261196052231}, {\"v\": 1.0359733133663234}]}, {\"c\": [{\"v\": 0}, {\"v\": 6}, {\"v\": 7}, {\"v\": 1.0104228888738684}, {\"v\": 1.0925893174879662}]}, {\"c\": [{\"v\": 0}, {\"v\": 6}, {\"v\": 57}, {\"v\": 0.6813802653962832}, {\"v\": 0.881176678118487}]}, {\"c\": [{\"v\": 0}, {\"v\": 6}, {\"v\": 52}, {\"v\": 0.9978709692228024}, {\"v\": 1.083072319139985}]}, {\"c\": [{\"v\": 1}, {\"v\": 1}, {\"v\": 62}, {\"v\": 0.2900654390785836}, {\"v\": 0.4959715887942749}]}, {\"c\": [{\"v\": 1}, {\"v\": 1}, {\"v\": 107}, {\"v\": 0.9741404946595024}, {\"v\": 0.9736986735577418}]}, {\"c\": [{\"v\": 1}, {\"v\": 1}, {\"v\": 39}, {\"v\": 0.8372813954732272}, {\"v\": 0.8227025414723139}]}, {\"c\": [{\"v\": 1}, {\"v\": 2}, {\"v\": 19}, {\"v\": 1.1676612590084408}, {\"v\": 1.021526747591121}]}, {\"c\": [{\"v\": 1}, {\"v\": 3}, {\"v\": 104}, {\"v\": 1.183903514879461}, {\"v\": 1.0850405278478252}]}, {\"c\": [{\"v\": 1}, {\"v\": 3}, {\"v\": 78}, {\"v\": 0.8651671244507549}, {\"v\": 0.8803493537603289}]}], \"cols\": [{\"type\": \"number\", \"id\": \"order_hour_of_day\", \"label\": \"order_hour_of_day\"}, {\"type\": \"number\", \"id\": \"order_dow\", \"label\": \"order_dow\"}, {\"type\": \"number\", \"id\": \"aisle_id\", \"label\": \"aisle_id\"}, {\"type\": \"number\", \"id\": \"aisle_tod_factor\", \"label\": \"aisle_tod_factor\"}, {\"type\": \"number\", \"id\": \"department_tod_factor\", \"label\": \"department_tod_factor\"}]},\n",
       "            {\n",
       "              pageSize: 25,\n",
       "              cssClassNames:  {\n",
       "                tableRow: 'gchart-table-row',\n",
       "                headerRow: 'gchart-table-headerrow',\n",
       "                oddTableRow: 'gchart-table-oddrow',\n",
       "                selectedTableRow: 'gchart-table-selectedrow',\n",
       "                hoverTableRow: 'gchart-table-hoverrow',\n",
       "                tableCell: 'gchart-table-cell',\n",
       "                headerCell: 'gchart-table-headercell',\n",
       "                rowNumberCell: 'gchart-table-rownumcell'\n",
       "              }\n",
       "            },\n",
       "            {source_index: 5, fields: 'order_hour_of_day,order_dow,aisle_id,aisle_tod_factor,department_tod_factor'},\n",
       "            0,\n",
       "            22478);\n",
       "        }\n",
       "      );\n",
       "    </script>\n",
       "  "
      ],
      "text/plain": [
       "QueryResultsTable job_6-v8Pb09yoW_sLoAGnvyQRNawaQ"
      ]
     },
     "execution_count": 15,
     "metadata": {},
     "output_type": "execute_result"
    }
   ],
   "source": [
    "%%bq execute -q tod_features_q -t instacart.tod_features -m overwrite"
   ]
  },
  {
   "cell_type": "markdown",
   "metadata": {},
   "source": [
    "## Model Universe\n",
    "\n",
    "Assemble model universe with all features"
   ]
  },
  {
   "cell_type": "code",
   "execution_count": 16,
   "metadata": {
    "collapsed": true
   },
   "outputs": [],
   "source": [
    "%%bq query -n reorder_model_universe_q\n",
    "SELECT\n",
    "upf.user_id,\n",
    "upf.product_id,\n",
    "pf.aisle_id,\n",
    "pf.department_id,\n",
    "upf.order_id,\n",
    "upf.eval_set,\n",
    "upf.order_hour_of_day,\n",
    "upf.order_dow,\n",
    "upf.is_ordered,\n",
    "upf.perc_all_orders AS `upf_perc_all_orders`,\n",
    "upf.perc_reorder AS `upf_perc_reorder`,\n",
    "upf.orders_per_day AS `upf_orders_per_day`,\n",
    "upf.reorders_per_day AS `upf_reorders_per_day`,\n",
    "upf.first_order_number AS `upf_first_order_number`,\n",
    "upf.first_order_day AS `upf_first_order_day`,\n",
    "upf.last_order_number AS `upf_last_order_number`,\n",
    "upf.last_order_day AS `upf_last_order_day`,\n",
    "upf.days_since_last_order AS `upf_days_since_last_order`,\n",
    "upf.orders_since_last_order AS `upf_orders_since_last_order`,\n",
    "upf.avg_cart_order AS `upf_avg_cart_order`,\n",
    "uf.num_orders AS `uf_num_orders`,\n",
    "uf.perc_reorder AS `uf_perc_reorder`,\n",
    "uf.avg_days_bw_orders AS `uf_avg_days_bw_orders`,\n",
    "uf.num_products AS `uf_num_products`,\n",
    "uf.num_aisles AS `uf_num_aisles`,\n",
    "uf.num_departments AS `uf_num_departments`,\n",
    "pf.perc_users AS `pf_perc_users`,\n",
    "pf.perc_all_orders AS `pf_perc_all_orders`,\n",
    "pf.perc_reorders AS `pf_perc_reorders`,\n",
    "pf.orders_per_day AS `pf_orders_per_day`,\n",
    "pf.reorders_per_day AS `pf_reorders_per_day`,\n",
    "pf.avg_first_order_number AS `pf_avg_first_order_number`,\n",
    "pf.avg_first_order_day AS `pf_avg_first_order_day`,\n",
    "tf.aisle_tod_factor AS `tf_aisle_tod_factor`,\n",
    "tf.department_tod_factor AS `tf_department_tod_factor`\n",
    "FROM instacart.user_products_features AS upf\n",
    "INNER JOIN instacart.user_features AS uf ON upf.user_id = uf.user_id\n",
    "INNER JOIN instacart.product_features AS pf ON upf.product_id = pf.product_id\n",
    "LEFT JOIN instacart.tod_features AS tf ON pf.aisle_id = tf.aisle_id AND upf.order_hour_of_day = tf.order_hour_of_day AND upf.order_dow = tf.order_dow"
   ]
  },
  {
   "cell_type": "code",
   "execution_count": 17,
   "metadata": {
    "collapsed": false
   },
   "outputs": [
    {
     "data": {
      "text/html": [
       "\n",
       "    <div class=\"bqtv\" id=\"7_150034305071\"><table><tr><th>user_id</th><th>product_id</th><th>aisle_id</th><th>department_id</th><th>order_id</th><th>eval_set</th><th>order_hour_of_day</th><th>order_dow</th><th>is_ordered</th><th>upf_perc_all_orders</th><th>upf_perc_reorder</th><th>upf_orders_per_day</th><th>upf_reorders_per_day</th><th>upf_first_order_number</th><th>upf_first_order_day</th><th>upf_last_order_number</th><th>upf_last_order_day</th><th>upf_days_since_last_order</th><th>upf_orders_since_last_order</th><th>upf_avg_cart_order</th><th>uf_num_orders</th><th>uf_perc_reorder</th><th>uf_avg_days_bw_orders</th><th>uf_num_products</th><th>uf_num_aisles</th><th>uf_num_departments</th><th>pf_perc_users</th><th>pf_perc_all_orders</th><th>pf_perc_reorders</th><th>pf_orders_per_day</th><th>pf_reorders_per_day</th><th>pf_avg_first_order_number</th><th>pf_avg_first_order_day</th><th>tf_aisle_tod_factor</th><th>tf_department_tod_factor</th></tr><tr><td>45426</td><td>48900</td><td>3</td><td>19</td><td>1751814</td><td>test</td><td>16</td><td>2</td><td>&nbsp;</td><td>0.0151515151515</td><td>0.0</td><td>0.00280898876404</td><td>0.0</td><td>47</td><td>241.0</td><td>47</td><td>241.0</td><td>124.0</td><td>21</td><td>4.0</td><td>66</td><td>0.571614583333</td><td>5.39393939394</td><td>336</td><td>78</td><td>19</td><td>0.00388440853697</td><td>0.0618992695117</td><td>0.0743630938719</td><td>0.00798439488866</td><td>0.0101264240284</td><td>18.3458177278</td><td>146.676654182</td><td>0.977539463197</td><td>1.02942079515</td></tr><tr><td>96767</td><td>24654</td><td>43</td><td>3</td><td>800409</td><td>test</td><td>8</td><td>0</td><td>&nbsp;</td><td>0.0227272727273</td><td>&nbsp;</td><td>0.002849002849</td><td>&nbsp;</td><td>44</td><td>351.0</td><td>44</td><td>351.0</td><td>8.0</td><td>2</td><td>24.0</td><td>44</td><td>0.546644844517</td><td>7.97727272727</td><td>293</td><td>68</td><td>14</td><td>0.00899572763555</td><td>0.0696813739663</td><td>0.052775195658</td><td>0.00831784044472</td><td>0.00621343867936</td><td>9.98921832884</td><td>81.5908355795</td><td>1.06276628955</td><td>1.02631329148</td></tr><tr><td>63793</td><td>19548</td><td>88</td><td>13</td><td>1061343</td><td>test</td><td>7</td><td>4</td><td>&nbsp;</td><td>0.020202020202</td><td>0.0833333333333</td><td>0.00604229607251</td><td>0.0232558139535</td><td>87</td><td>288.0</td><td>92</td><td>305.0</td><td>29.0</td><td>9</td><td>16.0</td><td>99</td><td>0.701067615658</td><td>3.34343434343</td><td>351</td><td>78</td><td>19</td><td>0.0022743915154</td><td>0.0728775878838</td><td>0.0726089133701</td><td>0.00983526632101</td><td>0.00979316167159</td><td>13.6588486141</td><td>101.134328358</td><td>1.13748589322</td><td>0.980557812181</td></tr><tr><td>191999</td><td>44275</td><td>93</td><td>3</td><td>133460</td><td>test</td><td>13</td><td>0</td><td>&nbsp;</td><td>0.02</td><td>0.0</td><td>0.00333333333333</td><td>0.0</td><td>42</td><td>276.0</td><td>42</td><td>276.0</td><td>30.0</td><td>10</td><td>7.0</td><td>50</td><td>0.743002544529</td><td>6.0</td><td>111</td><td>45</td><td>16</td><td>0.0033703669578</td><td>0.146473399506</td><td>0.181392931393</td><td>0.0177078240773</td><td>0.0208861138263</td><td>10.7870503597</td><td>82.364028777</td><td>0.879227748369</td><td>1.01138394065</td></tr><tr><td>19063</td><td>1525</td><td>75</td><td>17</td><td>1031543</td><td>test</td><td>8</td><td>5</td><td>&nbsp;</td><td>0.0188679245283</td><td>0.0</td><td>0.00285714285714</td><td>0.0</td><td>52</td><td>346.0</td><td>52</td><td>346.0</td><td>9.0</td><td>3</td><td>9.0</td><td>53</td><td>0.597063621533</td><td>6.60377358491</td><td>259</td><td>70</td><td>18</td><td>0.00161001702157</td><td>0.0624606472736</td><td>0.0403047431801</td><td>0.00691867763984</td><td>0.00436844067977</td><td>11.6626506024</td><td>102.855421687</td><td>1.13329947898</td><td>1.10579953701</td></tr><tr><td>159765</td><td>6326</td><td>45</td><td>19</td><td>1448336</td><td>test</td><td>13</td><td>6</td><td>&nbsp;</td><td>0.0105263157895</td><td>0.0</td><td>0.00280112044818</td><td>0.0</td><td>74</td><td>291.0</td><td>74</td><td>291.0</td><td>74.0</td><td>23</td><td>5.0</td><td>95</td><td>0.889887640449</td><td>3.75789473684</td><td>57</td><td>18</td><td>9</td><td>0.000436450397412</td><td>0.0711705202312</td><td>0.105418719212</td><td>0.0093188268685</td><td>0.0130870841487</td><td>19.4777777778</td><td>144.044444444</td><td>0.879238737713</td><td>0.892953279911</td></tr><tr><td>122851</td><td>27344</td><td>96</td><td>20</td><td>1756510</td><td>test</td><td>13</td><td>0</td><td>&nbsp;</td><td>0.0128205128205</td><td>0.0</td><td>0.00390625</td><td>0.0</td><td>59</td><td>182.0</td><td>59</td><td>182.0</td><td>78.0</td><td>21</td><td>6.0</td><td>78</td><td>0.611208406305</td><td>3.28205128205</td><td>230</td><td>58</td><td>16</td><td>0.0683820783768</td><td>0.119701215975</td><td>0.127432540643</td><td>0.0138627840754</td><td>0.0144386355352</td><td>9.33799021346</td><td>77.7201616907</td><td>1.10351228795</td><td>1.05392501603</td></tr><tr><td>93519</td><td>49175</td><td>59</td><td>15</td><td>3113656</td><td>test</td><td>14</td><td>1</td><td>&nbsp;</td><td>0.020202020202</td><td>0.03125</td><td>0.0117647058824</td><td>0.0434782608696</td><td>67</td><td>147.0</td><td>71</td><td>150.0</td><td>21.0</td><td>30</td><td>14.5</td><td>99</td><td>0.838383838384</td><td>1.71717171717</td><td>313</td><td>56</td><td>17</td><td>0.0268998928272</td><td>0.066764078472</td><td>0.0597038544139</td><td>0.00843486483497</td><td>0.00746661087677</td><td>13.2915089237</td><td>103.915990626</td><td>1.03230854279</td><td>1.01759129571</td></tr><tr><td>290</td><td>38843</td><td>61</td><td>19</td><td>3116687</td><td>test</td><td>11</td><td>6</td><td>&nbsp;</td><td>0.0196078431373</td><td>0.0</td><td>0.00280112044818</td><td>0.0</td><td>45</td><td>315.0</td><td>45</td><td>315.0</td><td>49.0</td><td>8</td><td>19.0</td><td>51</td><td>0.664964901085</td><td>7.0</td><td>548</td><td>95</td><td>19</td><td>4.84944886014e-05</td><td>0.0369230769231</td><td>0.0168067226891</td><td>0.00502933780386</td><td>0.00159362549801</td><td>20.6</td><td>113.1</td><td>0.84947450101</td><td>0.871637846917</td></tr><tr><td>84411</td><td>30391</td><td>83</td><td>4</td><td>3257554</td><td>test</td><td>9</td><td>0</td><td>&nbsp;</td><td>0.0196078431373</td><td>0.0</td><td>0.00291545189504</td><td>0.0</td><td>42</td><td>261.0</td><td>42</td><td>261.0</td><td>94.0</td><td>11</td><td>5.0</td><td>51</td><td>0.667832167832</td><td>6.72549019608</td><td>198</td><td>61</td><td>16</td><td>0.118040434705</td><td>0.129067682186</td><td>0.148752544406</td><td>0.0157947546373</td><td>0.0181225502257</td><td>10.1088698081</td><td>82.0387001356</td><td>1.16286121217</td><td>1.09356689415</td></tr><tr><td>124212</td><td>4030</td><td>66</td><td>6</td><td>2361370</td><td>test</td><td>12</td><td>3</td><td>&nbsp;</td><td>0.0131578947368</td><td>0.0</td><td>0.0028328611898</td><td>0.0</td><td>49</td><td>214.0</td><td>49</td><td>214.0</td><td>145.0</td><td>29</td><td>9.0</td><td>76</td><td>0.736331569665</td><td>4.64473684211</td><td>317</td><td>78</td><td>17</td><td>0.00151787749322</td><td>0.0467473030402</td><td>0.0248075278015</td><td>0.0062449959968</td><td>0.00331674958541</td><td>14.3801916933</td><td>107.734824281</td><td>1.03377071984</td><td>1.03753560065</td></tr><tr><td>118333</td><td>46013</td><td>45</td><td>19</td><td>2142600</td><td>test</td><td>14</td><td>5</td><td>&nbsp;</td><td>0.296296296296</td><td>0.714285714286</td><td>0.0448179271709</td><td>0.10067114094</td><td>33</td><td>208.0</td><td>54</td><td>357.0</td><td>8.0</td><td>2</td><td>15.375</td><td>54</td><td>0.885553470919</td><td>6.61111111111</td><td>142</td><td>36</td><td>9</td><td>7.75911817622e-05</td><td>0.104672897196</td><td>0.138888888889</td><td>0.0128735632184</td><td>0.0154083204931</td><td>15.4375</td><td>109.625</td><td>1.22607719027</td><td>1.0876703429</td></tr><tr><td>96210</td><td>47123</td><td>60</td><td>17</td><td>2824499</td><td>test</td><td>8</td><td>5</td><td>&nbsp;</td><td>0.0147058823529</td><td>0.0</td><td>0.00327868852459</td><td>0.0</td><td>64</td><td>291.0</td><td>64</td><td>291.0</td><td>18.0</td><td>6</td><td>8.0</td><td>68</td><td>0.888324873096</td><td>4.48529411765</td><td>76</td><td>34</td><td>13</td><td>0.000950491976587</td><td>0.0613979179945</td><td>0.0327695560254</td><td>0.00704105250335</td><td>0.00347494675485</td><td>9.53571428571</td><td>72.8673469388</td><td>1.14112492304</td><td>1.10579953701</td></tr><tr><td>65807</td><td>44422</td><td>130</td><td>14</td><td>2593694</td><td>test</td><td>21</td><td>4</td><td>&nbsp;</td><td>0.0103092783505</td><td>0.0</td><td>0.0028818443804</td><td>0.0</td><td>69</td><td>271.0</td><td>69</td><td>271.0</td><td>92.0</td><td>30</td><td>11.0</td><td>97</td><td>0.780463242699</td><td>3.57731958763</td><td>226</td><td>60</td><td>14</td><td>0.044901046996</td><td>0.0776661589187</td><td>0.0711013820368</td><td>0.00975186018912</td><td>0.00885937843493</td><td>11.4785613997</td><td>90.4046873312</td><td>1.05568021601</td><td>1.01251939305</td></tr><tr><td>60049</td><td>3843</td><td>83</td><td>4</td><td>1875694</td><td>test</td><td>9</td><td>5</td><td>&nbsp;</td><td>0.0217391304348</td><td>0.0</td><td>0.00286532951289</td><td>0.0</td><td>42</td><td>320.0</td><td>42</td><td>320.0</td><td>35.0</td><td>6</td><td>24.0</td><td>46</td><td>0.79275198188</td><td>7.58695652174</td><td>210</td><td>57</td><td>16</td><td>0.00676498115989</td><td>0.058363315867</td><td>0.109410127395</td><td>0.00780472998282</td><td>0.0148552989229</td><td>22.9906810036</td><td>172.678853047</td><td>0.890293025337</td><td>0.958856083865</td></tr><tr><td>132167</td><td>24889</td><td>46</td><td>19</td><td>2502978</td><td>test</td><td>13</td><td>3</td><td>&nbsp;</td><td>0.0196078431373</td><td>0.0</td><td>0.00281690140845</td><td>0.0</td><td>42</td><td>297.0</td><td>42</td><td>297.0</td><td>68.0</td><td>11</td><td>27.0</td><td>51</td><td>0.742976066597</td><td>6.96078431373</td><td>262</td><td>67</td><td>15</td><td>0.000678922840419</td><td>0.0427211516137</td><td>0.0226221079692</td><td>0.00579454556906</td><td>0.00302634293968</td><td>16.8714285714</td><td>122.964285714</td><td>1.41343611531</td><td>1.06297123308</td></tr><tr><td>22504</td><td>36458</td><td>75</td><td>17</td><td>434546</td><td>test</td><td>19</td><td>2</td><td>&nbsp;</td><td>0.0113636363636</td><td>0.0</td><td>0.00280112044818</td><td>0.0</td><td>65</td><td>237.0</td><td>65</td><td>237.0</td><td>127.0</td><td>25</td><td>1.0</td><td>88</td><td>0.641466208477</td><td>4.05681818182</td><td>318</td><td>81</td><td>17</td><td>7.75911817622e-05</td><td>0.0425</td><td>0.00423728813559</td><td>0.00528606965174</td><td>0.000529941706412</td><td>10.25</td><td>83.0625</td><td>1.14713870852</td><td>1.12494321099</td></tr><tr><td>66706</td><td>17704</td><td>123</td><td>4</td><td>1672846</td><td>test</td><td>16</td><td>2</td><td>&nbsp;</td><td>0.0106382978723</td><td>0.0</td><td>0.00279329608939</td><td>0.0</td><td>40</td><td>170.0</td><td>40</td><td>170.0</td><td>194.0</td><td>56</td><td>2.0</td><td>94</td><td>0.821229050279</td><td>3.8085106383</td><td>200</td><td>65</td><td>16</td><td>0.00501433012138</td><td>0.0923896022549</td><td>0.104722792608</td><td>0.0116926034374</td><td>0.0131136516476</td><td>12.4584139265</td><td>97.4090909091</td><td>1.00267545937</td><td>0.977916082284</td></tr><tr><td>22986</td><td>2360</td><td>13</td><td>20</td><td>1481690</td><td>test</td><td>13</td><td>3</td><td>&nbsp;</td><td>0.0103092783505</td><td>0.0</td><td>0.00276243093923</td><td>0.0</td><td>93</td><td>342.0</td><td>93</td><td>342.0</td><td>23.0</td><td>6</td><td>11.0</td><td>97</td><td>0.727272727273</td><td>3.73195876289</td><td>245</td><td>65</td><td>16</td><td>0.00120751276617</td><td>0.0821212121212</td><td>0.0897946674839</td><td>0.0101738183729</td><td>0.0105191354922</td><td>13.4016064257</td><td>102.088353414</td><td>1.00179069596</td><td>0.985717006163</td></tr><tr><td>66252</td><td>17504</td><td>48</td><td>14</td><td>3244761</td><td>test</td><td>10</td><td>3</td><td>&nbsp;</td><td>0.0114942528736</td><td>0.0</td><td>0.00280112044818</td><td>0.0</td><td>66</td><td>284.0</td><td>66</td><td>284.0</td><td>75.0</td><td>23</td><td>14.0</td><td>87</td><td>0.754612546125</td><td>4.10344827586</td><td>301</td><td>47</td><td>13</td><td>0.000290966931608</td><td>0.0630407911001</td><td>0.0510328068044</td><td>0.00753434776186</td><td>0.00622314416951</td><td>13.25</td><td>113.15</td><td>1.25268857334</td><td>1.08431589393</td></tr><tr><td>53541</td><td>20580</td><td>107</td><td>19</td><td>3167466</td><td>test</td><td>21</td><td>0</td><td>&nbsp;</td><td>0.0188679245283</td><td>0.0</td><td>0.00284090909091</td><td>0.0</td><td>42</td><td>251.0</td><td>42</td><td>251.0</td><td>105.0</td><td>13</td><td>2.0</td><td>53</td><td>0.717948717949</td><td>6.64150943396</td><td>246</td><td>67</td><td>17</td><td>0.0156297736762</td><td>0.0880347320089</td><td>0.0858058886022</td><td>0.0108556573166</td><td>0.0104086841058</td><td>10.9450822215</td><td>86.566552901</td><td>0.809392794953</td><td>0.901069714906</td></tr><tr><td>124239</td><td>18751</td><td>26</td><td>7</td><td>2425101</td><td>test</td><td>9</td><td>3</td><td>&nbsp;</td><td>0.0112359550562</td><td>0.0</td><td>0.00277777777778</td><td>0.0</td><td>41</td><td>118.0</td><td>41</td><td>118.0</td><td>247.0</td><td>50</td><td>2.0</td><td>89</td><td>0.451923076923</td><td>4.04494382022</td><td>117</td><td>48</td><td>14</td><td>0.000882599692545</td><td>0.0620220900595</td><td>0.0483941926969</td><td>0.00792466143784</td><td>0.00605793589602</td><td>13.3791208791</td><td>102.686813187</td><td>1.31366733045</td><td>1.18562150265</td></tr><tr><td>175562</td><td>28785</td><td>72</td><td>13</td><td>1711992</td><td>test</td><td>19</td><td>2</td><td>&nbsp;</td><td>0.0142857142857</td><td>0.0</td><td>0.00280112044818</td><td>0.0</td><td>43</td><td>258.0</td><td>43</td><td>258.0</td><td>107.0</td><td>29</td><td>9.0</td><td>70</td><td>0.771255060729</td><td>5.1</td><td>122</td><td>41</td><td>14</td><td>0.0225111416088</td><td>0.0466494598987</td><td>0.0228619017556</td><td>0.00605173162135</td><td>0.00295022065986</td><td>13.2585092632</td><td>101.548685911</td><td>0.965487188729</td><td>0.990463669856</td></tr><tr><td>42037</td><td>17822</td><td>6</td><td>2</td><td>257222</td><td>test</td><td>10</td><td>2</td><td>&nbsp;</td><td>0.020202020202</td><td>0.0178571428571</td><td>0.00813008130081</td><td>0.00606060606061</td><td>43</td><td>81.0</td><td>52</td><td>103.0</td><td>146.0</td><td>49</td><td>3.0</td><td>99</td><td>0.857142857143</td><td>2.48484848485</td><td>61</td><td>34</td><td>15</td><td>8.24406306223e-05</td><td>0.0281879194631</td><td>0.010582010582</td><td>0.0052303860523</td><td>0.00168421052632</td><td>21.5882352941</td><td>96.4705882353</td><td>1.04522705227</td><td>1.04522705227</td></tr><tr><td>45910</td><td>48299</td><td>123</td><td>4</td><td>1290805</td><td>test</td><td>12</td><td>4</td><td>&nbsp;</td><td>0.015873015873</td><td>0.0</td><td>0.00352112676056</td><td>0.0</td><td>42</td><td>163.0</td><td>42</td><td>163.0</td><td>128.0</td><td>23</td><td>6.0</td><td>63</td><td>0.544061302682</td><td>4.50793650794</td><td>244</td><td>74</td><td>18</td><td>0.0098298328395</td><td>0.0894739588769</td><td>0.074817226106</td><td>0.00946286054906</td><td>0.0074372712323</td><td>9.66206216083</td><td>85.7691169216</td><td>0.928402893201</td><td>0.941688795753</td></tr></table></div>\n",
       "    <br />(rows: 13307953, time: 67.1s,     1GB processed, job: job_zzyqkAeQuL-3rcU6szmcFdvr2Tg)<br />\n",
       "    <script>\n",
       "\n",
       "      require.config({\n",
       "        paths: {\n",
       "          d3: '//cdnjs.cloudflare.com/ajax/libs/d3/3.4.13/d3',\n",
       "          plotly: 'https://cdn.plot.ly/plotly-1.5.1.min.js?noext',\n",
       "          jquery: '//ajax.googleapis.com/ajax/libs/jquery/2.0.0/jquery.min'\n",
       "        },\n",
       "        map: {\n",
       "          '*': {\n",
       "            datalab: 'nbextensions/gcpdatalab'\n",
       "          }\n",
       "        },\n",
       "        shim: {\n",
       "          plotly: {\n",
       "            deps: ['d3', 'jquery'],\n",
       "            exports: 'plotly'\n",
       "          }\n",
       "        }\n",
       "      });\n",
       "\n",
       "      require(['datalab/charting', 'datalab/element!7_150034305071', 'base/js/events',\n",
       "          'datalab/style!/nbextensions/gcpdatalab/charting.css'],\n",
       "        function(charts, dom, events) {\n",
       "          charts.render('gcharts', dom, events, 'paged_table', [], {\"rows\": [{\"c\": [{\"v\": 45426}, {\"v\": 48900}, {\"v\": 3}, {\"v\": 19}, {\"v\": 1751814}, {\"v\": \"test\"}, {\"v\": 16}, {\"v\": 2}, {\"v\": null}, {\"v\": 0.015151515151515152}, {\"v\": 0.0}, {\"v\": 0.0028089887640449437}, {\"v\": 0.0}, {\"v\": 47}, {\"v\": 241.0}, {\"v\": 47}, {\"v\": 241.0}, {\"v\": 124.0}, {\"v\": 21}, {\"v\": 4.0}, {\"v\": 66}, {\"v\": 0.5716145833333334}, {\"v\": 5.393939393939394}, {\"v\": 336}, {\"v\": 78}, {\"v\": 19}, {\"v\": 0.0038844085369697736}, {\"v\": 0.06189926951172626}, {\"v\": 0.07436309387193023}, {\"v\": 0.007984394888664804}, {\"v\": 0.01012642402837899}, {\"v\": 18.3458177278402}, {\"v\": 146.67665418227216}, {\"v\": 0.9775394631969807}, {\"v\": 1.0294207951535537}]}, {\"c\": [{\"v\": 96767}, {\"v\": 24654}, {\"v\": 43}, {\"v\": 3}, {\"v\": 800409}, {\"v\": \"test\"}, {\"v\": 8}, {\"v\": 0}, {\"v\": null}, {\"v\": 0.022727272727272728}, {\"v\": null}, {\"v\": 0.002849002849002849}, {\"v\": null}, {\"v\": 44}, {\"v\": 351.0}, {\"v\": 44}, {\"v\": 351.0}, {\"v\": 8.0}, {\"v\": 2}, {\"v\": 24.0}, {\"v\": 44}, {\"v\": 0.546644844517185}, {\"v\": 7.9772727272727275}, {\"v\": 293}, {\"v\": 68}, {\"v\": 14}, {\"v\": 0.008995727635554219}, {\"v\": 0.06968137396634476}, {\"v\": 0.05277519565804072}, {\"v\": 0.0083178404447226}, {\"v\": 0.0062134386793618514}, {\"v\": 9.98921832884097}, {\"v\": 81.59083557951483}, {\"v\": 1.062766289552787}, {\"v\": 1.0263132914832196}]}, {\"c\": [{\"v\": 63793}, {\"v\": 19548}, {\"v\": 88}, {\"v\": 13}, {\"v\": 1061343}, {\"v\": \"test\"}, {\"v\": 7}, {\"v\": 4}, {\"v\": null}, {\"v\": 0.020202020202020204}, {\"v\": 0.08333333333333333}, {\"v\": 0.006042296072507553}, {\"v\": 0.023255813953488372}, {\"v\": 87}, {\"v\": 288.0}, {\"v\": 92}, {\"v\": 305.0}, {\"v\": 29.0}, {\"v\": 9}, {\"v\": 16.0}, {\"v\": 99}, {\"v\": 0.701067615658363}, {\"v\": 3.3434343434343434}, {\"v\": 351}, {\"v\": 78}, {\"v\": 19}, {\"v\": 0.002274391515404274}, {\"v\": 0.0728775878838405}, {\"v\": 0.07260891337005508}, {\"v\": 0.009835266321010342}, {\"v\": 0.009793161671591388}, {\"v\": 13.658848614072493}, {\"v\": 101.13432835820895}, {\"v\": 1.1374858932170924}, {\"v\": 0.9805578121809607}]}, {\"c\": [{\"v\": 191999}, {\"v\": 44275}, {\"v\": 93}, {\"v\": 3}, {\"v\": 133460}, {\"v\": \"test\"}, {\"v\": 13}, {\"v\": 0}, {\"v\": null}, {\"v\": 0.02}, {\"v\": 0.0}, {\"v\": 0.0033333333333333335}, {\"v\": 0.0}, {\"v\": 42}, {\"v\": 276.0}, {\"v\": 42}, {\"v\": 276.0}, {\"v\": 30.0}, {\"v\": 10}, {\"v\": 7.0}, {\"v\": 50}, {\"v\": 0.7430025445292621}, {\"v\": 6.0}, {\"v\": 111}, {\"v\": 45}, {\"v\": 16}, {\"v\": 0.0033703669577952464}, {\"v\": 0.14647339950632846}, {\"v\": 0.1813929313929314}, {\"v\": 0.017707824077307446}, {\"v\": 0.020886113826328073}, {\"v\": 10.787050359712229}, {\"v\": 82.36402877697842}, {\"v\": 0.8792277483688749}, {\"v\": 1.0113839406545209}]}, {\"c\": [{\"v\": 19063}, {\"v\": 1525}, {\"v\": 75}, {\"v\": 17}, {\"v\": 1031543}, {\"v\": \"test\"}, {\"v\": 8}, {\"v\": 5}, {\"v\": null}, {\"v\": 0.018867924528301886}, {\"v\": 0.0}, {\"v\": 0.002857142857142857}, {\"v\": 0.0}, {\"v\": 52}, {\"v\": 346.0}, {\"v\": 52}, {\"v\": 346.0}, {\"v\": 9.0}, {\"v\": 3}, {\"v\": 9.0}, {\"v\": 53}, {\"v\": 0.5970636215334421}, {\"v\": 6.60377358490566}, {\"v\": 259}, {\"v\": 70}, {\"v\": 18}, {\"v\": 0.001610017021565499}, {\"v\": 0.062460647273643116}, {\"v\": 0.040304743180142544}, {\"v\": 0.006918677639838192}, {\"v\": 0.004368440679771989}, {\"v\": 11.662650602409636}, {\"v\": 102.855421686747}, {\"v\": 1.1332994789752628}, {\"v\": 1.1057995370128362}]}, {\"c\": [{\"v\": 159765}, {\"v\": 6326}, {\"v\": 45}, {\"v\": 19}, {\"v\": 1448336}, {\"v\": \"test\"}, {\"v\": 13}, {\"v\": 6}, {\"v\": null}, {\"v\": 0.010526315789473684}, {\"v\": 0.0}, {\"v\": 0.0028011204481792717}, {\"v\": 0.0}, {\"v\": 74}, {\"v\": 291.0}, {\"v\": 74}, {\"v\": 291.0}, {\"v\": 74.0}, {\"v\": 23}, {\"v\": 5.0}, {\"v\": 95}, {\"v\": 0.8898876404494382}, {\"v\": 3.7578947368421054}, {\"v\": 57}, {\"v\": 18}, {\"v\": 9}, {\"v\": 0.00043645039741233406}, {\"v\": 0.07117052023121387}, {\"v\": 0.10541871921182266}, {\"v\": 0.009318826868495743}, {\"v\": 0.013087084148727984}, {\"v\": 19.477777777777778}, {\"v\": 144.04444444444442}, {\"v\": 0.8792387377132029}, {\"v\": 0.8929532799105532}]}, {\"c\": [{\"v\": 122851}, {\"v\": 27344}, {\"v\": 96}, {\"v\": 20}, {\"v\": 1756510}, {\"v\": \"test\"}, {\"v\": 13}, {\"v\": 0}, {\"v\": null}, {\"v\": 0.01282051282051282}, {\"v\": 0.0}, {\"v\": 0.00390625}, {\"v\": 0.0}, {\"v\": 59}, {\"v\": 182.0}, {\"v\": 59}, {\"v\": 182.0}, {\"v\": 78.0}, {\"v\": 21}, {\"v\": 6.0}, {\"v\": 78}, {\"v\": 0.6112084063047285}, {\"v\": 3.282051282051282}, {\"v\": 230}, {\"v\": 58}, {\"v\": 16}, {\"v\": 0.06838207837679247}, {\"v\": 0.11970121597478577}, {\"v\": 0.12743254064321496}, {\"v\": 0.013862784075430552}, {\"v\": 0.01443863553522701}, {\"v\": 9.337990213460039}, {\"v\": 77.72016169066022}, {\"v\": 1.1035122879458885}, {\"v\": 1.053925016030276}]}, {\"c\": [{\"v\": 93519}, {\"v\": 49175}, {\"v\": 59}, {\"v\": 15}, {\"v\": 3113656}, {\"v\": \"test\"}, {\"v\": 14}, {\"v\": 1}, {\"v\": null}, {\"v\": 0.020202020202020204}, {\"v\": 0.03125}, {\"v\": 0.011764705882352941}, {\"v\": 0.043478260869565216}, {\"v\": 67}, {\"v\": 147.0}, {\"v\": 71}, {\"v\": 150.0}, {\"v\": 21.0}, {\"v\": 30}, {\"v\": 14.5}, {\"v\": 99}, {\"v\": 0.8383838383838383}, {\"v\": 1.7171717171717171}, {\"v\": 313}, {\"v\": 56}, {\"v\": 17}, {\"v\": 0.02689989282718019}, {\"v\": 0.06676407847199102}, {\"v\": 0.059703854413925624}, {\"v\": 0.008434864834971391}, {\"v\": 0.007466610876768408}, {\"v\": 13.291508923742562}, {\"v\": 103.91599062556338}, {\"v\": 1.0323085427894767}, {\"v\": 1.0175912957058388}]}, {\"c\": [{\"v\": 290}, {\"v\": 38843}, {\"v\": 61}, {\"v\": 19}, {\"v\": 3116687}, {\"v\": \"test\"}, {\"v\": 11}, {\"v\": 6}, {\"v\": null}, {\"v\": 0.0196078431372549}, {\"v\": 0.0}, {\"v\": 0.0028011204481792717}, {\"v\": 0.0}, {\"v\": 45}, {\"v\": 315.0}, {\"v\": 45}, {\"v\": 315.0}, {\"v\": 49.0}, {\"v\": 8}, {\"v\": 19.0}, {\"v\": 51}, {\"v\": 0.6649649010848756}, {\"v\": 7.0}, {\"v\": 548}, {\"v\": 95}, {\"v\": 19}, {\"v\": 4.849448860137046e-05}, {\"v\": 0.036923076923076927}, {\"v\": 0.01680672268907563}, {\"v\": 0.005029337803855826}, {\"v\": 0.0015936254980079682}, {\"v\": 20.599999999999998}, {\"v\": 113.10000000000001}, {\"v\": 0.8494745010103687}, {\"v\": 0.8716378469167898}]}, {\"c\": [{\"v\": 84411}, {\"v\": 30391}, {\"v\": 83}, {\"v\": 4}, {\"v\": 3257554}, {\"v\": \"test\"}, {\"v\": 9}, {\"v\": 0}, {\"v\": null}, {\"v\": 0.0196078431372549}, {\"v\": 0.0}, {\"v\": 0.0029154518950437317}, {\"v\": 0.0}, {\"v\": 42}, {\"v\": 261.0}, {\"v\": 42}, {\"v\": 261.0}, {\"v\": 94.0}, {\"v\": 11}, {\"v\": 5.0}, {\"v\": 51}, {\"v\": 0.6678321678321678}, {\"v\": 6.7254901960784315}, {\"v\": 198}, {\"v\": 61}, {\"v\": 16}, {\"v\": 0.11804043470459583}, {\"v\": 0.12906768218576356}, {\"v\": 0.14875254440602217}, {\"v\": 0.015794754637272927}, {\"v\": 0.01812255022572761}, {\"v\": 10.108869808142645}, {\"v\": 82.03870013557372}, {\"v\": 1.1628612121685515}, {\"v\": 1.09356689415174}]}, {\"c\": [{\"v\": 124212}, {\"v\": 4030}, {\"v\": 66}, {\"v\": 6}, {\"v\": 2361370}, {\"v\": \"test\"}, {\"v\": 12}, {\"v\": 3}, {\"v\": null}, {\"v\": 0.013157894736842105}, {\"v\": 0.0}, {\"v\": 0.0028328611898017}, {\"v\": 0.0}, {\"v\": 49}, {\"v\": 214.0}, {\"v\": 49}, {\"v\": 214.0}, {\"v\": 145.0}, {\"v\": 29}, {\"v\": 9.0}, {\"v\": 76}, {\"v\": 0.736331569664903}, {\"v\": 4.644736842105263}, {\"v\": 317}, {\"v\": 78}, {\"v\": 17}, {\"v\": 0.0015178774932228952}, {\"v\": 0.04674730304020922}, {\"v\": 0.02480752780153978}, {\"v\": 0.006244995996797438}, {\"v\": 0.003316749585406302}, {\"v\": 14.380191693290735}, {\"v\": 107.73482428115017}, {\"v\": 1.033770719840344}, {\"v\": 1.0375356006530863}]}, {\"c\": [{\"v\": 118333}, {\"v\": 46013}, {\"v\": 45}, {\"v\": 19}, {\"v\": 2142600}, {\"v\": \"test\"}, {\"v\": 14}, {\"v\": 5}, {\"v\": null}, {\"v\": 0.2962962962962963}, {\"v\": 0.7142857142857143}, {\"v\": 0.04481792717086835}, {\"v\": 0.10067114093959731}, {\"v\": 33}, {\"v\": 208.0}, {\"v\": 54}, {\"v\": 357.0}, {\"v\": 8.0}, {\"v\": 2}, {\"v\": 15.375}, {\"v\": 54}, {\"v\": 0.8855534709193246}, {\"v\": 6.611111111111111}, {\"v\": 142}, {\"v\": 36}, {\"v\": 9}, {\"v\": 7.759118176219272e-05}, {\"v\": 0.10467289719626169}, {\"v\": 0.1388888888888889}, {\"v\": 0.012873563218390805}, {\"v\": 0.015408320493066256}, {\"v\": 15.4375}, {\"v\": 109.625}, {\"v\": 1.2260771902747063}, {\"v\": 1.0876703428982215}]}, {\"c\": [{\"v\": 96210}, {\"v\": 47123}, {\"v\": 60}, {\"v\": 17}, {\"v\": 2824499}, {\"v\": \"test\"}, {\"v\": 8}, {\"v\": 5}, {\"v\": null}, {\"v\": 0.014705882352941176}, {\"v\": 0.0}, {\"v\": 0.003278688524590164}, {\"v\": 0.0}, {\"v\": 64}, {\"v\": 291.0}, {\"v\": 64}, {\"v\": 291.0}, {\"v\": 18.0}, {\"v\": 6}, {\"v\": 8.0}, {\"v\": 68}, {\"v\": 0.8883248730964467}, {\"v\": 4.485294117647059}, {\"v\": 76}, {\"v\": 34}, {\"v\": 13}, {\"v\": 0.0009504919765868609}, {\"v\": 0.06139791799447631}, {\"v\": 0.03276955602536998}, {\"v\": 0.007041052503349981}, {\"v\": 0.003474946754848111}, {\"v\": 9.535714285714286}, {\"v\": 72.86734693877551}, {\"v\": 1.141124923044535}, {\"v\": 1.1057995370128362}]}, {\"c\": [{\"v\": 65807}, {\"v\": 44422}, {\"v\": 130}, {\"v\": 14}, {\"v\": 2593694}, {\"v\": \"test\"}, {\"v\": 21}, {\"v\": 4}, {\"v\": null}, {\"v\": 0.010309278350515464}, {\"v\": 0.0}, {\"v\": 0.002881844380403458}, {\"v\": 0.0}, {\"v\": 69}, {\"v\": 271.0}, {\"v\": 69}, {\"v\": 271.0}, {\"v\": 92.0}, {\"v\": 30}, {\"v\": 11.0}, {\"v\": 97}, {\"v\": 0.7804632426988922}, {\"v\": 3.577319587628866}, {\"v\": 226}, {\"v\": 60}, {\"v\": 14}, {\"v\": 0.0449010469960089}, {\"v\": 0.07766615891868962}, {\"v\": 0.07110138203678897}, {\"v\": 0.009751860189120236}, {\"v\": 0.008859378434932706}, {\"v\": 11.47856139971919}, {\"v\": 90.40468733124527}, {\"v\": 1.0556802160091359}, {\"v\": 1.0125193930495229}]}, {\"c\": [{\"v\": 60049}, {\"v\": 3843}, {\"v\": 83}, {\"v\": 4}, {\"v\": 1875694}, {\"v\": \"test\"}, {\"v\": 9}, {\"v\": 5}, {\"v\": null}, {\"v\": 0.021739130434782608}, {\"v\": 0.0}, {\"v\": 0.0028653295128939827}, {\"v\": 0.0}, {\"v\": 42}, {\"v\": 320.0}, {\"v\": 42}, {\"v\": 320.0}, {\"v\": 35.0}, {\"v\": 6}, {\"v\": 24.0}, {\"v\": 46}, {\"v\": 0.7927519818799547}, {\"v\": 7.586956521739131}, {\"v\": 210}, {\"v\": 57}, {\"v\": 16}, {\"v\": 0.006764981159891178}, {\"v\": 0.058363315866998285}, {\"v\": 0.10941012739535382}, {\"v\": 0.007804729982821198}, {\"v\": 0.014855298922918151}, {\"v\": 22.990681003584232}, {\"v\": 172.67885304659498}, {\"v\": 0.8902930253366571}, {\"v\": 0.9588560838645563}]}, {\"c\": [{\"v\": 132167}, {\"v\": 24889}, {\"v\": 46}, {\"v\": 19}, {\"v\": 2502978}, {\"v\": \"test\"}, {\"v\": 13}, {\"v\": 3}, {\"v\": null}, {\"v\": 0.0196078431372549}, {\"v\": 0.0}, {\"v\": 0.0028169014084507044}, {\"v\": 0.0}, {\"v\": 42}, {\"v\": 297.0}, {\"v\": 42}, {\"v\": 297.0}, {\"v\": 68.0}, {\"v\": 11}, {\"v\": 27.0}, {\"v\": 51}, {\"v\": 0.7429760665972945}, {\"v\": 6.96078431372549}, {\"v\": 262}, {\"v\": 67}, {\"v\": 15}, {\"v\": 0.0006789228404191864}, {\"v\": 0.0427211516136522}, {\"v\": 0.02262210796915167}, {\"v\": 0.005794545569062165}, {\"v\": 0.0030263429396794827}, {\"v\": 16.871428571428567}, {\"v\": 122.96428571428571}, {\"v\": 1.413436115305768}, {\"v\": 1.0629712330849492}]}, {\"c\": [{\"v\": 22504}, {\"v\": 36458}, {\"v\": 75}, {\"v\": 17}, {\"v\": 434546}, {\"v\": \"test\"}, {\"v\": 19}, {\"v\": 2}, {\"v\": null}, {\"v\": 0.011363636363636364}, {\"v\": 0.0}, {\"v\": 0.0028011204481792717}, {\"v\": 0.0}, {\"v\": 65}, {\"v\": 237.0}, {\"v\": 65}, {\"v\": 237.0}, {\"v\": 127.0}, {\"v\": 25}, {\"v\": 1.0}, {\"v\": 88}, {\"v\": 0.6414662084765178}, {\"v\": 4.056818181818182}, {\"v\": 318}, {\"v\": 81}, {\"v\": 17}, {\"v\": 7.759118176219272e-05}, {\"v\": 0.0425}, {\"v\": 0.00423728813559322}, {\"v\": 0.005286069651741294}, {\"v\": 0.0005299417064122947}, {\"v\": 10.249999999999998}, {\"v\": 83.0625}, {\"v\": 1.1471387085155809}, {\"v\": 1.1249432109917576}]}, {\"c\": [{\"v\": 66706}, {\"v\": 17704}, {\"v\": 123}, {\"v\": 4}, {\"v\": 1672846}, {\"v\": \"test\"}, {\"v\": 16}, {\"v\": 2}, {\"v\": null}, {\"v\": 0.010638297872340425}, {\"v\": 0.0}, {\"v\": 0.002793296089385475}, {\"v\": 0.0}, {\"v\": 40}, {\"v\": 170.0}, {\"v\": 40}, {\"v\": 170.0}, {\"v\": 194.0}, {\"v\": 56}, {\"v\": 2.0}, {\"v\": 94}, {\"v\": 0.8212290502793296}, {\"v\": 3.8085106382978724}, {\"v\": 200}, {\"v\": 65}, {\"v\": 16}, {\"v\": 0.005014330121381705}, {\"v\": 0.09238960225493266}, {\"v\": 0.10472279260780287}, {\"v\": 0.011692603437427231}, {\"v\": 0.013113651647612643}, {\"v\": 12.45841392649903}, {\"v\": 97.40909090909089}, {\"v\": 1.0026754593700802}, {\"v\": 0.9779160822841904}]}, {\"c\": [{\"v\": 22986}, {\"v\": 2360}, {\"v\": 13}, {\"v\": 20}, {\"v\": 1481690}, {\"v\": \"test\"}, {\"v\": 13}, {\"v\": 3}, {\"v\": null}, {\"v\": 0.010309278350515464}, {\"v\": 0.0}, {\"v\": 0.0027624309392265192}, {\"v\": 0.0}, {\"v\": 93}, {\"v\": 342.0}, {\"v\": 93}, {\"v\": 342.0}, {\"v\": 23.0}, {\"v\": 6}, {\"v\": 11.0}, {\"v\": 97}, {\"v\": 0.7272727272727273}, {\"v\": 3.731958762886598}, {\"v\": 245}, {\"v\": 65}, {\"v\": 16}, {\"v\": 0.0012075127661741244}, {\"v\": 0.08212121212121212}, {\"v\": 0.08979466748391052}, {\"v\": 0.010173818372939895}, {\"v\": 0.010519135492209378}, {\"v\": 13.401606425702813}, {\"v\": 102.08835341365464}, {\"v\": 1.001790695964038}, {\"v\": 0.9857170061626366}]}, {\"c\": [{\"v\": 66252}, {\"v\": 17504}, {\"v\": 48}, {\"v\": 14}, {\"v\": 3244761}, {\"v\": \"test\"}, {\"v\": 10}, {\"v\": 3}, {\"v\": null}, {\"v\": 0.011494252873563218}, {\"v\": 0.0}, {\"v\": 0.0028011204481792717}, {\"v\": 0.0}, {\"v\": 66}, {\"v\": 284.0}, {\"v\": 66}, {\"v\": 284.0}, {\"v\": 75.0}, {\"v\": 23}, {\"v\": 14.0}, {\"v\": 87}, {\"v\": 0.7546125461254612}, {\"v\": 4.103448275862069}, {\"v\": 301}, {\"v\": 47}, {\"v\": 13}, {\"v\": 0.0002909669316082227}, {\"v\": 0.0630407911001236}, {\"v\": 0.05103280680437424}, {\"v\": 0.007534347761855518}, {\"v\": 0.0062231441695065936}, {\"v\": 13.250000000000002}, {\"v\": 113.15}, {\"v\": 1.2526885733435436}, {\"v\": 1.0843158939256892}]}, {\"c\": [{\"v\": 53541}, {\"v\": 20580}, {\"v\": 107}, {\"v\": 19}, {\"v\": 3167466}, {\"v\": \"test\"}, {\"v\": 21}, {\"v\": 0}, {\"v\": null}, {\"v\": 0.018867924528301886}, {\"v\": 0.0}, {\"v\": 0.002840909090909091}, {\"v\": 0.0}, {\"v\": 42}, {\"v\": 251.0}, {\"v\": 42}, {\"v\": 251.0}, {\"v\": 105.0}, {\"v\": 13}, {\"v\": 2.0}, {\"v\": 53}, {\"v\": 0.717948717948718}, {\"v\": 6.6415094339622645}, {\"v\": 246}, {\"v\": 67}, {\"v\": 17}, {\"v\": 0.015629773676221696}, {\"v\": 0.08803473200891031}, {\"v\": 0.08580588860221582}, {\"v\": 0.010855657316637353}, {\"v\": 0.010408684105757569}, {\"v\": 10.945082221532733}, {\"v\": 86.5665529010239}, {\"v\": 0.8093927949534695}, {\"v\": 0.9010697149064459}]}, {\"c\": [{\"v\": 124239}, {\"v\": 18751}, {\"v\": 26}, {\"v\": 7}, {\"v\": 2425101}, {\"v\": \"test\"}, {\"v\": 9}, {\"v\": 3}, {\"v\": null}, {\"v\": 0.011235955056179775}, {\"v\": 0.0}, {\"v\": 0.002777777777777778}, {\"v\": 0.0}, {\"v\": 41}, {\"v\": 118.0}, {\"v\": 41}, {\"v\": 118.0}, {\"v\": 247.0}, {\"v\": 50}, {\"v\": 2.0}, {\"v\": 89}, {\"v\": 0.4519230769230769}, {\"v\": 4.044943820224719}, {\"v\": 117}, {\"v\": 48}, {\"v\": 14}, {\"v\": 0.0008825996925449423}, {\"v\": 0.062022090059473234}, {\"v\": 0.04839419269687637}, {\"v\": 0.007924661437837545}, {\"v\": 0.006057935896023791}, {\"v\": 13.379120879120881}, {\"v\": 102.6868131868132}, {\"v\": 1.3136673304522546}, {\"v\": 1.1856215026458503}]}, {\"c\": [{\"v\": 175562}, {\"v\": 28785}, {\"v\": 72}, {\"v\": 13}, {\"v\": 1711992}, {\"v\": \"test\"}, {\"v\": 19}, {\"v\": 2}, {\"v\": null}, {\"v\": 0.014285714285714285}, {\"v\": 0.0}, {\"v\": 0.0028011204481792717}, {\"v\": 0.0}, {\"v\": 43}, {\"v\": 258.0}, {\"v\": 43}, {\"v\": 258.0}, {\"v\": 107.0}, {\"v\": 29}, {\"v\": 9.0}, {\"v\": 70}, {\"v\": 0.771255060728745}, {\"v\": 5.1}, {\"v\": 122}, {\"v\": 41}, {\"v\": 14}, {\"v\": 0.022511141608756165}, {\"v\": 0.04664945989867125}, {\"v\": 0.022861901755611376}, {\"v\": 0.006051731621347044}, {\"v\": 0.0029502206598648654}, {\"v\": 13.258509263248602}, {\"v\": 101.54868591124512}, {\"v\": 0.965487188729421}, {\"v\": 0.9904636698561878}]}, {\"c\": [{\"v\": 42037}, {\"v\": 17822}, {\"v\": 6}, {\"v\": 2}, {\"v\": 257222}, {\"v\": \"test\"}, {\"v\": 10}, {\"v\": 2}, {\"v\": null}, {\"v\": 0.020202020202020204}, {\"v\": 0.017857142857142856}, {\"v\": 0.008130081300813009}, {\"v\": 0.006060606060606061}, {\"v\": 43}, {\"v\": 81.0}, {\"v\": 52}, {\"v\": 103.0}, {\"v\": 146.0}, {\"v\": 49}, {\"v\": 3.0}, {\"v\": 99}, {\"v\": 0.8571428571428571}, {\"v\": 2.484848484848485}, {\"v\": 61}, {\"v\": 34}, {\"v\": 15}, {\"v\": 8.244063062232978e-05}, {\"v\": 0.028187919463087248}, {\"v\": 0.010582010582010581}, {\"v\": 0.00523038605230386}, {\"v\": 0.0016842105263157896}, {\"v\": 21.58823529411765}, {\"v\": 96.47058823529412}, {\"v\": 1.0452270522661053}, {\"v\": 1.0452270522661053}]}, {\"c\": [{\"v\": 45910}, {\"v\": 48299}, {\"v\": 123}, {\"v\": 4}, {\"v\": 1290805}, {\"v\": \"test\"}, {\"v\": 12}, {\"v\": 4}, {\"v\": null}, {\"v\": 0.015873015873015872}, {\"v\": 0.0}, {\"v\": 0.0035211267605633804}, {\"v\": 0.0}, {\"v\": 42}, {\"v\": 163.0}, {\"v\": 42}, {\"v\": 163.0}, {\"v\": 128.0}, {\"v\": 23}, {\"v\": 6.0}, {\"v\": 63}, {\"v\": 0.5440613026819924}, {\"v\": 4.507936507936508}, {\"v\": 244}, {\"v\": 74}, {\"v\": 18}, {\"v\": 0.009829832839497791}, {\"v\": 0.08947395887694395}, {\"v\": 0.07481722610598218}, {\"v\": 0.009462860549061165}, {\"v\": 0.007437271232295369}, {\"v\": 9.662062160828812}, {\"v\": 85.76911692155896}, {\"v\": 0.9284028932005163}, {\"v\": 0.9416887957532137}]}], \"cols\": [{\"type\": \"number\", \"id\": \"user_id\", \"label\": \"user_id\"}, {\"type\": \"number\", \"id\": \"product_id\", \"label\": \"product_id\"}, {\"type\": \"number\", \"id\": \"aisle_id\", \"label\": \"aisle_id\"}, {\"type\": \"number\", \"id\": \"department_id\", \"label\": \"department_id\"}, {\"type\": \"number\", \"id\": \"order_id\", \"label\": \"order_id\"}, {\"type\": \"string\", \"id\": \"eval_set\", \"label\": \"eval_set\"}, {\"type\": \"number\", \"id\": \"order_hour_of_day\", \"label\": \"order_hour_of_day\"}, {\"type\": \"number\", \"id\": \"order_dow\", \"label\": \"order_dow\"}, {\"type\": \"number\", \"id\": \"is_ordered\", \"label\": \"is_ordered\"}, {\"type\": \"number\", \"id\": \"upf_perc_all_orders\", \"label\": \"upf_perc_all_orders\"}, {\"type\": \"number\", \"id\": \"upf_perc_reorder\", \"label\": \"upf_perc_reorder\"}, {\"type\": \"number\", \"id\": \"upf_orders_per_day\", \"label\": \"upf_orders_per_day\"}, {\"type\": \"number\", \"id\": \"upf_reorders_per_day\", \"label\": \"upf_reorders_per_day\"}, {\"type\": \"number\", \"id\": \"upf_first_order_number\", \"label\": \"upf_first_order_number\"}, {\"type\": \"number\", \"id\": \"upf_first_order_day\", \"label\": \"upf_first_order_day\"}, {\"type\": \"number\", \"id\": \"upf_last_order_number\", \"label\": \"upf_last_order_number\"}, {\"type\": \"number\", \"id\": \"upf_last_order_day\", \"label\": \"upf_last_order_day\"}, {\"type\": \"number\", \"id\": \"upf_days_since_last_order\", \"label\": \"upf_days_since_last_order\"}, {\"type\": \"number\", \"id\": \"upf_orders_since_last_order\", \"label\": \"upf_orders_since_last_order\"}, {\"type\": \"number\", \"id\": \"upf_avg_cart_order\", \"label\": \"upf_avg_cart_order\"}, {\"type\": \"number\", \"id\": \"uf_num_orders\", \"label\": \"uf_num_orders\"}, {\"type\": \"number\", \"id\": \"uf_perc_reorder\", \"label\": \"uf_perc_reorder\"}, {\"type\": \"number\", \"id\": \"uf_avg_days_bw_orders\", \"label\": \"uf_avg_days_bw_orders\"}, {\"type\": \"number\", \"id\": \"uf_num_products\", \"label\": \"uf_num_products\"}, {\"type\": \"number\", \"id\": \"uf_num_aisles\", \"label\": \"uf_num_aisles\"}, {\"type\": \"number\", \"id\": \"uf_num_departments\", \"label\": \"uf_num_departments\"}, {\"type\": \"number\", \"id\": \"pf_perc_users\", \"label\": \"pf_perc_users\"}, {\"type\": \"number\", \"id\": \"pf_perc_all_orders\", \"label\": \"pf_perc_all_orders\"}, {\"type\": \"number\", \"id\": \"pf_perc_reorders\", \"label\": \"pf_perc_reorders\"}, {\"type\": \"number\", \"id\": \"pf_orders_per_day\", \"label\": \"pf_orders_per_day\"}, {\"type\": \"number\", \"id\": \"pf_reorders_per_day\", \"label\": \"pf_reorders_per_day\"}, {\"type\": \"number\", \"id\": \"pf_avg_first_order_number\", \"label\": \"pf_avg_first_order_number\"}, {\"type\": \"number\", \"id\": \"pf_avg_first_order_day\", \"label\": \"pf_avg_first_order_day\"}, {\"type\": \"number\", \"id\": \"tf_aisle_tod_factor\", \"label\": \"tf_aisle_tod_factor\"}, {\"type\": \"number\", \"id\": \"tf_department_tod_factor\", \"label\": \"tf_department_tod_factor\"}]},\n",
       "            {\n",
       "              pageSize: 25,\n",
       "              cssClassNames:  {\n",
       "                tableRow: 'gchart-table-row',\n",
       "                headerRow: 'gchart-table-headerrow',\n",
       "                oddTableRow: 'gchart-table-oddrow',\n",
       "                selectedTableRow: 'gchart-table-selectedrow',\n",
       "                hoverTableRow: 'gchart-table-hoverrow',\n",
       "                tableCell: 'gchart-table-cell',\n",
       "                headerCell: 'gchart-table-headercell',\n",
       "                rowNumberCell: 'gchart-table-rownumcell'\n",
       "              }\n",
       "            },\n",
       "            {source_index: 6, fields: 'user_id,product_id,aisle_id,department_id,order_id,eval_set,order_hour_of_day,order_dow,is_ordered,upf_perc_all_orders,upf_perc_reorder,upf_orders_per_day,upf_reorders_per_day,upf_first_order_number,upf_first_order_day,upf_last_order_number,upf_last_order_day,upf_days_since_last_order,upf_orders_since_last_order,upf_avg_cart_order,uf_num_orders,uf_perc_reorder,uf_avg_days_bw_orders,uf_num_products,uf_num_aisles,uf_num_departments,pf_perc_users,pf_perc_all_orders,pf_perc_reorders,pf_orders_per_day,pf_reorders_per_day,pf_avg_first_order_number,pf_avg_first_order_day,tf_aisle_tod_factor,tf_department_tod_factor'},\n",
       "            0,\n",
       "            13307953);\n",
       "        }\n",
       "      );\n",
       "    </script>\n",
       "  "
      ],
      "text/plain": [
       "QueryResultsTable job_zzyqkAeQuL-3rcU6szmcFdvr2Tg"
      ]
     },
     "execution_count": 17,
     "metadata": {},
     "output_type": "execute_result"
    }
   ],
   "source": [
    "%%bq execute -q reorder_model_universe_q -t instacart.reorder_model_universe -m overwrite"
   ]
  },
  {
   "cell_type": "markdown",
   "metadata": {},
   "source": [
    "Need to shard when exporting from BQ; max export size out of BQ is 1GB"
   ]
  },
  {
   "cell_type": "code",
   "execution_count": 18,
   "metadata": {
    "collapsed": false
   },
   "outputs": [
    {
     "data": {
      "text/plain": [
       "Job kaggle-instacart-172517/job_mPsv0AaTCj2GNP_v9LGFgoJ3Xlc completed"
      ]
     },
     "execution_count": 18,
     "metadata": {},
     "output_type": "execute_result"
    }
   ],
   "source": [
    "project_id = Context.default().project_id\n",
    "bucket_path = 'gs://' + project_id\n",
    "bucket_object = bucket_path + '/reorder_model/universe_*.csv'\n",
    "bucket_object2 = bucket_path + '/reorder_model/universe.csv'\n",
    "\n",
    "table = bq.Table('instacart.reorder_model_universe')\n",
    "table.extract(destination = bucket_object, csv_header=False)"
   ]
  },
  {
   "cell_type": "markdown",
   "metadata": {},
   "source": [
    "Concatenate the shards together"
   ]
  },
  {
   "cell_type": "code",
   "execution_count": 19,
   "metadata": {
    "collapsed": false
   },
   "outputs": [
    {
     "name": "stderr",
     "output_type": "stream",
     "text": [
      "Composing gs://kaggle-instacart-172517/reorder_model/universe.csv from 12 component object(s).\n"
     ]
    }
   ],
   "source": [
    "%%bash -s \"$bucket_object\" \"$bucket_object2\"\n",
    "gsutil compose $1 $2"
   ]
  },
  {
   "cell_type": "markdown",
   "metadata": {},
   "source": [
    "Import as Pandas DF"
   ]
  },
  {
   "cell_type": "code",
   "execution_count": 20,
   "metadata": {
    "collapsed": false
   },
   "outputs": [
    {
     "name": "stdout",
     "output_type": "stream",
     "text": [
      "(13307953, 35)\n"
     ]
    }
   ],
   "source": [
    "fields = [str(x.name) for x in list(table.schema)]\n",
    "%storage read --object $bucket_object2 --variable model_universe_raw\n",
    "model_universe = pd.read_csv(StringIO(model_universe_raw), header=None, names=fields)\n",
    "print model_universe.shape"
   ]
  },
  {
   "cell_type": "markdown",
   "metadata": {},
   "source": [
    "## LightGBM Model\n",
    "\n",
    "Create a LightGBM model for predicting reorders"
   ]
  },
  {
   "cell_type": "markdown",
   "metadata": {},
   "source": [
    "A little more feature engineering"
   ]
  },
  {
   "cell_type": "code",
   "execution_count": 21,
   "metadata": {
    "collapsed": true
   },
   "outputs": [],
   "source": [
    "model_universe['order_overdue'] = model_universe.upf_orders_per_day * model_universe.upf_days_since_last_order\n",
    "model_universe['reorder_overdue'] = model_universe.upf_reorders_per_day * model_universe.upf_days_since_last_order"
   ]
  },
  {
   "cell_type": "markdown",
   "metadata": {},
   "source": [
    "Set up our train and test sets"
   ]
  },
  {
   "cell_type": "code",
   "execution_count": 22,
   "metadata": {
    "collapsed": false
   },
   "outputs": [],
   "source": [
    "df = model_universe.loc[model_universe.eval_set == \"train\",]\n",
    "df_test = model_universe.loc[model_universe.eval_set == \"test\",]\n",
    "\n",
    "df_users = df[['user_id']].drop_duplicates()\n",
    "df_users_train = df_users.sample(frac=0.8, random_state=200)\n",
    "df_users_eval = df_users.drop(df_users_train.index)\n",
    "df_train = df.merge(df_users_train, on=['user_id'], how='inner')\n",
    "df_eval = df.merge(df_users_eval, on=['user_id'], how='inner')\n",
    "\n",
    "y_val = 'is_ordered'\n",
    "x_excludes = [y_val, 'user_id', 'order_id', 'eval_set']\n",
    "categoricals = ['product_id', 'aisle_id', 'department_id']\n",
    "\n",
    "y_train = df_train[y_val]\n",
    "x_train = df_train.drop(x_excludes, axis=1)\n",
    "\n",
    "y_eval = df_eval[y_val]\n",
    "x_eval = df_eval.drop(x_excludes, axis=1)\n",
    "\n",
    "y_test = df_test[y_val]\n",
    "x_test = df_test.drop(x_excludes, axis=1)\n",
    "\n",
    "lgb_train = lgb.Dataset(x_train, y_train)\n",
    "lgb_eval = lgb.Dataset(x_eval, y_eval, reference=lgb_train)"
   ]
  },
  {
   "cell_type": "markdown",
   "metadata": {},
   "source": [
    "Train our model"
   ]
  },
  {
   "cell_type": "code",
   "execution_count": 23,
   "metadata": {
    "collapsed": false
   },
   "outputs": [
    {
     "name": "stdout",
     "output_type": "stream",
     "text": [
      "[1]\tvalid_0's binary_logloss: 0.658385\n",
      "Train until valid scores didn't improve in 10 rounds.\n",
      "[2]\tvalid_0's binary_logloss: 0.626891\n",
      "[3]\tvalid_0's binary_logloss: 0.598296\n",
      "[4]\tvalid_0's binary_logloss: 0.57225\n",
      "[5]\tvalid_0's binary_logloss: 0.548443\n",
      "[6]\tvalid_0's binary_logloss: 0.526663\n",
      "[7]\tvalid_0's binary_logloss: 0.506615\n",
      "[8]\tvalid_0's binary_logloss: 0.488172\n",
      "[9]\tvalid_0's binary_logloss: 0.47122\n",
      "[10]\tvalid_0's binary_logloss: 0.455522\n",
      "[11]\tvalid_0's binary_logloss: 0.441\n",
      "[12]\tvalid_0's binary_logloss: 0.427562\n",
      "[13]\tvalid_0's binary_logloss: 0.415112\n",
      "[14]\tvalid_0's binary_logloss: 0.403569\n",
      "[15]\tvalid_0's binary_logloss: 0.392851\n",
      "[16]\tvalid_0's binary_logloss: 0.382899\n",
      "[17]\tvalid_0's binary_logloss: 0.373667\n",
      "[18]\tvalid_0's binary_logloss: 0.36505\n",
      "[19]\tvalid_0's binary_logloss: 0.357025\n",
      "[20]\tvalid_0's binary_logloss: 0.349556\n",
      "[21]\tvalid_0's binary_logloss: 0.342595\n",
      "[22]\tvalid_0's binary_logloss: 0.3361\n",
      "[23]\tvalid_0's binary_logloss: 0.330042\n",
      "[24]\tvalid_0's binary_logloss: 0.324389\n",
      "[25]\tvalid_0's binary_logloss: 0.319109\n",
      "[26]\tvalid_0's binary_logloss: 0.314201\n",
      "[27]\tvalid_0's binary_logloss: 0.309605\n",
      "[28]\tvalid_0's binary_logloss: 0.305315\n",
      "[29]\tvalid_0's binary_logloss: 0.301306\n",
      "[30]\tvalid_0's binary_logloss: 0.297566\n",
      "[31]\tvalid_0's binary_logloss: 0.294072\n",
      "[32]\tvalid_0's binary_logloss: 0.290809\n",
      "[33]\tvalid_0's binary_logloss: 0.28776\n",
      "[34]\tvalid_0's binary_logloss: 0.284902\n",
      "[35]\tvalid_0's binary_logloss: 0.282244\n",
      "[36]\tvalid_0's binary_logloss: 0.27975\n",
      "[37]\tvalid_0's binary_logloss: 0.277419\n",
      "[38]\tvalid_0's binary_logloss: 0.275244\n",
      "[39]\tvalid_0's binary_logloss: 0.273216\n",
      "[40]\tvalid_0's binary_logloss: 0.271322\n",
      "[41]\tvalid_0's binary_logloss: 0.269545\n",
      "[42]\tvalid_0's binary_logloss: 0.267889\n",
      "[43]\tvalid_0's binary_logloss: 0.266337\n",
      "[44]\tvalid_0's binary_logloss: 0.264886\n",
      "[45]\tvalid_0's binary_logloss: 0.263538\n",
      "[46]\tvalid_0's binary_logloss: 0.262267\n",
      "[47]\tvalid_0's binary_logloss: 0.261087\n",
      "[48]\tvalid_0's binary_logloss: 0.25998\n",
      "[49]\tvalid_0's binary_logloss: 0.258954\n",
      "[50]\tvalid_0's binary_logloss: 0.257997\n",
      "[51]\tvalid_0's binary_logloss: 0.257097\n",
      "[52]\tvalid_0's binary_logloss: 0.256259\n",
      "[53]\tvalid_0's binary_logloss: 0.255477\n",
      "[54]\tvalid_0's binary_logloss: 0.254746\n",
      "[55]\tvalid_0's binary_logloss: 0.254062\n",
      "[56]\tvalid_0's binary_logloss: 0.25342\n",
      "[57]\tvalid_0's binary_logloss: 0.25283\n",
      "[58]\tvalid_0's binary_logloss: 0.252277\n",
      "[59]\tvalid_0's binary_logloss: 0.251761\n",
      "[60]\tvalid_0's binary_logloss: 0.251278\n",
      "[61]\tvalid_0's binary_logloss: 0.250826\n",
      "[62]\tvalid_0's binary_logloss: 0.250401\n",
      "[63]\tvalid_0's binary_logloss: 0.250002\n",
      "[64]\tvalid_0's binary_logloss: 0.24963\n",
      "[65]\tvalid_0's binary_logloss: 0.249287\n",
      "[66]\tvalid_0's binary_logloss: 0.248966\n",
      "[67]\tvalid_0's binary_logloss: 0.248666\n",
      "[68]\tvalid_0's binary_logloss: 0.248387\n",
      "[69]\tvalid_0's binary_logloss: 0.248126\n",
      "[70]\tvalid_0's binary_logloss: 0.247883\n",
      "[71]\tvalid_0's binary_logloss: 0.247656\n",
      "[72]\tvalid_0's binary_logloss: 0.247444\n",
      "[73]\tvalid_0's binary_logloss: 0.247246\n",
      "[74]\tvalid_0's binary_logloss: 0.247063\n",
      "[75]\tvalid_0's binary_logloss: 0.246893\n",
      "[76]\tvalid_0's binary_logloss: 0.246733\n",
      "[77]\tvalid_0's binary_logloss: 0.246584\n",
      "[78]\tvalid_0's binary_logloss: 0.24644\n",
      "[79]\tvalid_0's binary_logloss: 0.246306\n",
      "[80]\tvalid_0's binary_logloss: 0.246181\n",
      "[81]\tvalid_0's binary_logloss: 0.246062\n",
      "[82]\tvalid_0's binary_logloss: 0.245955\n",
      "[83]\tvalid_0's binary_logloss: 0.245855\n",
      "[84]\tvalid_0's binary_logloss: 0.245759\n",
      "[85]\tvalid_0's binary_logloss: 0.245671\n",
      "[86]\tvalid_0's binary_logloss: 0.245588\n",
      "[87]\tvalid_0's binary_logloss: 0.245508\n",
      "[88]\tvalid_0's binary_logloss: 0.245436\n",
      "[89]\tvalid_0's binary_logloss: 0.245367\n",
      "[90]\tvalid_0's binary_logloss: 0.245304\n",
      "[91]\tvalid_0's binary_logloss: 0.245238\n",
      "[92]\tvalid_0's binary_logloss: 0.24518\n",
      "[93]\tvalid_0's binary_logloss: 0.245121\n",
      "[94]\tvalid_0's binary_logloss: 0.245072\n",
      "[95]\tvalid_0's binary_logloss: 0.245022\n",
      "[96]\tvalid_0's binary_logloss: 0.244976\n",
      "[97]\tvalid_0's binary_logloss: 0.244932\n",
      "[98]\tvalid_0's binary_logloss: 0.244889\n",
      "[99]\tvalid_0's binary_logloss: 0.244847\n",
      "[100]\tvalid_0's binary_logloss: 0.244808\n",
      "[101]\tvalid_0's binary_logloss: 0.244776\n",
      "[102]\tvalid_0's binary_logloss: 0.244745\n",
      "[103]\tvalid_0's binary_logloss: 0.244718\n",
      "[104]\tvalid_0's binary_logloss: 0.244687\n",
      "[105]\tvalid_0's binary_logloss: 0.244661\n",
      "[106]\tvalid_0's binary_logloss: 0.244634\n",
      "[107]\tvalid_0's binary_logloss: 0.244597\n",
      "[108]\tvalid_0's binary_logloss: 0.244575\n",
      "[109]\tvalid_0's binary_logloss: 0.244554\n",
      "[110]\tvalid_0's binary_logloss: 0.244536\n",
      "[111]\tvalid_0's binary_logloss: 0.244512\n",
      "[112]\tvalid_0's binary_logloss: 0.244492\n",
      "[113]\tvalid_0's binary_logloss: 0.244473\n",
      "[114]\tvalid_0's binary_logloss: 0.244452\n",
      "[115]\tvalid_0's binary_logloss: 0.244433\n",
      "[116]\tvalid_0's binary_logloss: 0.244416\n",
      "[117]\tvalid_0's binary_logloss: 0.244393\n",
      "[118]\tvalid_0's binary_logloss: 0.24437\n",
      "[119]\tvalid_0's binary_logloss: 0.244353\n",
      "[120]\tvalid_0's binary_logloss: 0.244326\n",
      "[121]\tvalid_0's binary_logloss: 0.244312\n",
      "[122]\tvalid_0's binary_logloss: 0.244296\n",
      "[123]\tvalid_0's binary_logloss: 0.244281\n",
      "[124]\tvalid_0's binary_logloss: 0.244269\n",
      "[125]\tvalid_0's binary_logloss: 0.244257\n",
      "[126]\tvalid_0's binary_logloss: 0.244244\n",
      "[127]\tvalid_0's binary_logloss: 0.244234\n",
      "[128]\tvalid_0's binary_logloss: 0.244224\n",
      "[129]\tvalid_0's binary_logloss: 0.244212\n",
      "[130]\tvalid_0's binary_logloss: 0.244195\n",
      "[131]\tvalid_0's binary_logloss: 0.244182\n",
      "[132]\tvalid_0's binary_logloss: 0.244174\n",
      "[133]\tvalid_0's binary_logloss: 0.244163\n",
      "[134]\tvalid_0's binary_logloss: 0.244153\n",
      "[135]\tvalid_0's binary_logloss: 0.24414\n",
      "[136]\tvalid_0's binary_logloss: 0.244125\n",
      "[137]\tvalid_0's binary_logloss: 0.24411\n",
      "[138]\tvalid_0's binary_logloss: 0.244105\n",
      "[139]\tvalid_0's binary_logloss: 0.244096\n",
      "[140]\tvalid_0's binary_logloss: 0.244086\n",
      "[141]\tvalid_0's binary_logloss: 0.244079\n",
      "[142]\tvalid_0's binary_logloss: 0.244071\n",
      "[143]\tvalid_0's binary_logloss: 0.244064\n",
      "[144]\tvalid_0's binary_logloss: 0.244057\n",
      "[145]\tvalid_0's binary_logloss: 0.24405\n",
      "[146]\tvalid_0's binary_logloss: 0.244045\n",
      "[147]\tvalid_0's binary_logloss: 0.244034\n",
      "[148]\tvalid_0's binary_logloss: 0.24403\n",
      "[149]\tvalid_0's binary_logloss: 0.24402\n",
      "[150]\tvalid_0's binary_logloss: 0.244012\n",
      "[151]\tvalid_0's binary_logloss: 0.244007\n",
      "[152]\tvalid_0's binary_logloss: 0.244\n",
      "[153]\tvalid_0's binary_logloss: 0.243987\n",
      "[154]\tvalid_0's binary_logloss: 0.24398\n",
      "[155]\tvalid_0's binary_logloss: 0.243978\n",
      "[156]\tvalid_0's binary_logloss: 0.243973\n",
      "[157]\tvalid_0's binary_logloss: 0.243969\n",
      "[158]\tvalid_0's binary_logloss: 0.24396\n",
      "[159]\tvalid_0's binary_logloss: 0.243955\n",
      "[160]\tvalid_0's binary_logloss: 0.243951\n",
      "[161]\tvalid_0's binary_logloss: 0.243947\n",
      "[162]\tvalid_0's binary_logloss: 0.243943\n",
      "[163]\tvalid_0's binary_logloss: 0.243941\n",
      "[164]\tvalid_0's binary_logloss: 0.243936\n",
      "[165]\tvalid_0's binary_logloss: 0.243933\n",
      "[166]\tvalid_0's binary_logloss: 0.243931\n",
      "[167]\tvalid_0's binary_logloss: 0.243921\n",
      "[168]\tvalid_0's binary_logloss: 0.243917\n",
      "[169]\tvalid_0's binary_logloss: 0.243907\n",
      "[170]\tvalid_0's binary_logloss: 0.243901\n",
      "[171]\tvalid_0's binary_logloss: 0.243899\n",
      "[172]\tvalid_0's binary_logloss: 0.243894\n",
      "[173]\tvalid_0's binary_logloss: 0.243896\n",
      "[174]\tvalid_0's binary_logloss: 0.243886\n",
      "[175]\tvalid_0's binary_logloss: 0.243887\n",
      "[176]\tvalid_0's binary_logloss: 0.24388\n",
      "[177]\tvalid_0's binary_logloss: 0.243863\n",
      "[178]\tvalid_0's binary_logloss: 0.24386\n",
      "[179]\tvalid_0's binary_logloss: 0.243844\n",
      "[180]\tvalid_0's binary_logloss: 0.243838\n",
      "[181]\tvalid_0's binary_logloss: 0.243831\n",
      "[182]\tvalid_0's binary_logloss: 0.243829\n",
      "[183]\tvalid_0's binary_logloss: 0.243823\n",
      "[184]\tvalid_0's binary_logloss: 0.243815\n",
      "[185]\tvalid_0's binary_logloss: 0.243808\n",
      "[186]\tvalid_0's binary_logloss: 0.243806\n",
      "[187]\tvalid_0's binary_logloss: 0.243806\n",
      "[188]\tvalid_0's binary_logloss: 0.243804\n",
      "[189]\tvalid_0's binary_logloss: 0.243803\n",
      "[190]\tvalid_0's binary_logloss: 0.243802\n",
      "[191]\tvalid_0's binary_logloss: 0.243801\n",
      "[192]\tvalid_0's binary_logloss: 0.243795\n",
      "[193]\tvalid_0's binary_logloss: 0.243792\n",
      "[194]\tvalid_0's binary_logloss: 0.243787\n",
      "[195]\tvalid_0's binary_logloss: 0.243774\n",
      "[196]\tvalid_0's binary_logloss: 0.243773\n",
      "[197]\tvalid_0's binary_logloss: 0.243774\n",
      "[198]\tvalid_0's binary_logloss: 0.243768\n",
      "[199]\tvalid_0's binary_logloss: 0.24377\n",
      "[200]\tvalid_0's binary_logloss: 0.24377\n",
      "[201]\tvalid_0's binary_logloss: 0.243767\n",
      "[202]\tvalid_0's binary_logloss: 0.243766\n",
      "[203]\tvalid_0's binary_logloss: 0.243762\n",
      "[204]\tvalid_0's binary_logloss: 0.243763\n",
      "[205]\tvalid_0's binary_logloss: 0.243759\n",
      "[206]\tvalid_0's binary_logloss: 0.243758\n",
      "[207]\tvalid_0's binary_logloss: 0.243757\n",
      "[208]\tvalid_0's binary_logloss: 0.243756\n",
      "[209]\tvalid_0's binary_logloss: 0.243754\n",
      "[210]\tvalid_0's binary_logloss: 0.243753\n",
      "[211]\tvalid_0's binary_logloss: 0.243749\n",
      "[212]\tvalid_0's binary_logloss: 0.243745\n",
      "[213]\tvalid_0's binary_logloss: 0.243742\n",
      "[214]\tvalid_0's binary_logloss: 0.243742\n",
      "[215]\tvalid_0's binary_logloss: 0.24374\n",
      "[216]\tvalid_0's binary_logloss: 0.243735\n",
      "[217]\tvalid_0's binary_logloss: 0.243731\n",
      "[218]\tvalid_0's binary_logloss: 0.243729\n",
      "[219]\tvalid_0's binary_logloss: 0.243732\n",
      "[220]\tvalid_0's binary_logloss: 0.243729\n",
      "[221]\tvalid_0's binary_logloss: 0.243726\n",
      "[222]\tvalid_0's binary_logloss: 0.243722\n",
      "[223]\tvalid_0's binary_logloss: 0.243716\n",
      "[224]\tvalid_0's binary_logloss: 0.243716\n",
      "[225]\tvalid_0's binary_logloss: 0.243713\n",
      "[226]\tvalid_0's binary_logloss: 0.243714\n",
      "[227]\tvalid_0's binary_logloss: 0.243716\n",
      "[228]\tvalid_0's binary_logloss: 0.243715\n",
      "[229]\tvalid_0's binary_logloss: 0.243714\n",
      "[230]\tvalid_0's binary_logloss: 0.243713\n",
      "[231]\tvalid_0's binary_logloss: 0.243709\n",
      "[232]\tvalid_0's binary_logloss: 0.243706\n",
      "[233]\tvalid_0's binary_logloss: 0.243705\n",
      "[234]\tvalid_0's binary_logloss: 0.243703\n",
      "[235]\tvalid_0's binary_logloss: 0.243702\n",
      "[236]\tvalid_0's binary_logloss: 0.243699\n",
      "[237]\tvalid_0's binary_logloss: 0.243695\n",
      "[238]\tvalid_0's binary_logloss: 0.243693\n",
      "[239]\tvalid_0's binary_logloss: 0.243691\n",
      "[240]\tvalid_0's binary_logloss: 0.243684\n",
      "[241]\tvalid_0's binary_logloss: 0.243681\n",
      "[242]\tvalid_0's binary_logloss: 0.243681\n",
      "[243]\tvalid_0's binary_logloss: 0.243679\n",
      "[244]\tvalid_0's binary_logloss: 0.243678\n",
      "[245]\tvalid_0's binary_logloss: 0.243676\n",
      "[246]\tvalid_0's binary_logloss: 0.243676\n",
      "[247]\tvalid_0's binary_logloss: 0.243675\n",
      "[248]\tvalid_0's binary_logloss: 0.243676\n",
      "[249]\tvalid_0's binary_logloss: 0.243675\n",
      "[250]\tvalid_0's binary_logloss: 0.243674\n",
      "[251]\tvalid_0's binary_logloss: 0.243674\n",
      "[252]\tvalid_0's binary_logloss: 0.243673\n",
      "[253]\tvalid_0's binary_logloss: 0.243673\n",
      "[254]\tvalid_0's binary_logloss: 0.24367\n",
      "[255]\tvalid_0's binary_logloss: 0.243668\n",
      "[256]\tvalid_0's binary_logloss: 0.243668\n",
      "[257]\tvalid_0's binary_logloss: 0.243669\n",
      "[258]\tvalid_0's binary_logloss: 0.243668\n",
      "[259]\tvalid_0's binary_logloss: 0.243665\n",
      "[260]\tvalid_0's binary_logloss: 0.243664\n",
      "[261]\tvalid_0's binary_logloss: 0.243664\n",
      "[262]\tvalid_0's binary_logloss: 0.243663\n",
      "[263]\tvalid_0's binary_logloss: 0.24366\n",
      "[264]\tvalid_0's binary_logloss: 0.243657\n",
      "[265]\tvalid_0's binary_logloss: 0.243657\n",
      "[266]\tvalid_0's binary_logloss: 0.243657\n",
      "[267]\tvalid_0's binary_logloss: 0.243656\n",
      "[268]\tvalid_0's binary_logloss: 0.243656\n",
      "[269]\tvalid_0's binary_logloss: 0.243655\n",
      "[270]\tvalid_0's binary_logloss: 0.243656\n",
      "[271]\tvalid_0's binary_logloss: 0.243655\n",
      "[272]\tvalid_0's binary_logloss: 0.243654\n",
      "[273]\tvalid_0's binary_logloss: 0.243654\n",
      "[274]\tvalid_0's binary_logloss: 0.243653\n",
      "[275]\tvalid_0's binary_logloss: 0.243652\n",
      "[276]\tvalid_0's binary_logloss: 0.243651\n",
      "[277]\tvalid_0's binary_logloss: 0.24365\n",
      "[278]\tvalid_0's binary_logloss: 0.24365\n",
      "[279]\tvalid_0's binary_logloss: 0.243648\n",
      "[280]\tvalid_0's binary_logloss: 0.243648\n",
      "[281]\tvalid_0's binary_logloss: 0.243641\n",
      "[282]\tvalid_0's binary_logloss: 0.243639\n",
      "[283]\tvalid_0's binary_logloss: 0.243639\n",
      "[284]\tvalid_0's binary_logloss: 0.243639\n",
      "[285]\tvalid_0's binary_logloss: 0.24364\n",
      "[286]\tvalid_0's binary_logloss: 0.243637\n",
      "[287]\tvalid_0's binary_logloss: 0.243638\n",
      "[288]\tvalid_0's binary_logloss: 0.243638\n",
      "[289]\tvalid_0's binary_logloss: 0.243637\n",
      "[290]\tvalid_0's binary_logloss: 0.243637\n",
      "[291]\tvalid_0's binary_logloss: 0.243637\n",
      "[292]\tvalid_0's binary_logloss: 0.243635\n",
      "[293]\tvalid_0's binary_logloss: 0.243634\n",
      "[294]\tvalid_0's binary_logloss: 0.243635\n",
      "[295]\tvalid_0's binary_logloss: 0.243634\n",
      "[296]\tvalid_0's binary_logloss: 0.243632\n",
      "[297]\tvalid_0's binary_logloss: 0.243632\n",
      "[298]\tvalid_0's binary_logloss: 0.24363\n",
      "[299]\tvalid_0's binary_logloss: 0.243629\n",
      "[300]\tvalid_0's binary_logloss: 0.243629\n",
      "[301]\tvalid_0's binary_logloss: 0.243626\n",
      "[302]\tvalid_0's binary_logloss: 0.243624\n",
      "[303]\tvalid_0's binary_logloss: 0.243623\n",
      "[304]\tvalid_0's binary_logloss: 0.243622\n",
      "[305]\tvalid_0's binary_logloss: 0.243624\n",
      "[306]\tvalid_0's binary_logloss: 0.243624\n",
      "[307]\tvalid_0's binary_logloss: 0.243624\n",
      "[308]\tvalid_0's binary_logloss: 0.243624\n",
      "[309]\tvalid_0's binary_logloss: 0.243625\n",
      "[310]\tvalid_0's binary_logloss: 0.243624\n",
      "[311]\tvalid_0's binary_logloss: 0.243625\n",
      "[312]\tvalid_0's binary_logloss: 0.243624\n",
      "[313]\tvalid_0's binary_logloss: 0.243624\n",
      "[314]\tvalid_0's binary_logloss: 0.243623\n",
      "Early stopping, best iteration is:\n",
      "[304]\tvalid_0's binary_logloss: 0.243622\n"
     ]
    }
   ],
   "source": [
    "params = {\n",
    "    'task': 'train',\n",
    "    'boosting_type': 'gbdt',\n",
    "    'objective': 'binary',\n",
    "    'metric': ['binary_logloss'],\n",
    "    'num_leaves': 96,\n",
    "    'learning_rate': 0.05,\n",
    "    'feature_fraction': 0.9,\n",
    "    'bagging_fraction': 0.9,\n",
    "    'bagging_freq': 5,\n",
    "    'verbose': 0\n",
    "}\n",
    "\n",
    "gbm = lgb.train(params,\n",
    "                lgb_train,\n",
    "                num_boost_round=500,\n",
    "                valid_sets=lgb_eval,\n",
    "                early_stopping_rounds=10)"
   ]
  },
  {
   "cell_type": "markdown",
   "metadata": {},
   "source": [
    "Plot importance ratings"
   ]
  },
  {
   "cell_type": "code",
   "execution_count": 24,
   "metadata": {
    "collapsed": false
   },
   "outputs": [
    {
     "name": "stdout",
     "output_type": "stream",
     "text": [
      "    importance                          var\n",
      "17        2519              uf_perc_reorder\n",
      "13        2214    upf_days_since_last_order\n",
      "5         1392          upf_perc_all_orders\n",
      "22        1366                pf_perc_users\n",
      "14        1304  upf_orders_since_last_order\n",
      "12        1277           upf_last_order_day\n",
      "19        1213              uf_num_products\n",
      "18        1211        uf_avg_days_bw_orders\n",
      "31        1072                order_overdue\n",
      "24        1061             pf_perc_reorders\n",
      "32        1048              reorder_overdue\n",
      "20         947                uf_num_aisles\n",
      "26         863          pf_reorders_per_day\n",
      "15         843           upf_avg_cart_order\n",
      "6          760             upf_perc_reorder\n",
      "3          738            order_hour_of_day\n",
      "1          678                     aisle_id\n",
      "10         656          upf_first_order_day\n",
      "23         645           pf_perc_all_orders\n",
      "2          624                department_id\n",
      "28         621       pf_avg_first_order_day\n",
      "7          621           upf_orders_per_day\n",
      "16         568                uf_num_orders\n",
      "29         554          tf_aisle_tod_factor\n",
      "0          533                   product_id\n",
      "4          490                    order_dow\n",
      "30         478     tf_department_tod_factor\n",
      "27         472    pf_avg_first_order_number\n",
      "8          461         upf_reorders_per_day\n",
      "11         460        upf_last_order_number\n",
      "25         412            pf_orders_per_day\n",
      "21         409           uf_num_departments\n",
      "9          370       upf_first_order_number\n"
     ]
    }
   ],
   "source": [
    "importance = {'var': gbm.feature_name(), 'importance': gbm.feature_importance()}\n",
    "importance_df = pd.DataFrame(data=importance)\n",
    "importance_df.sort_values('importance', ascending=False, inplace=True)\n",
    "print(importance_df)"
   ]
  },
  {
   "cell_type": "markdown",
   "metadata": {},
   "source": [
    "## Calculate F1 Score on Eval Set\n",
    "\n",
    "Use model to generate predictions, outer join with actual orders, and calculate F1 score"
   ]
  },
  {
   "cell_type": "markdown",
   "metadata": {},
   "source": [
    "Pull down actual orders"
   ]
  },
  {
   "cell_type": "code",
   "execution_count": 25,
   "metadata": {
    "collapsed": true
   },
   "outputs": [],
   "source": [
    "%%bq query -n actuals\n",
    "SELECT order_id, product_id FROM instacart.order_products__train"
   ]
  },
  {
   "cell_type": "code",
   "execution_count": 26,
   "metadata": {
    "collapsed": false
   },
   "outputs": [],
   "source": [
    "actuals_df = actuals.execute(output_options=bq.QueryOutput.dataframe()).result()\n",
    "actuals_df = actuals_df.merge(df_eval[['order_id']].drop_duplicates(), on = ['order_id'], how = \"inner\")"
   ]
  },
  {
   "cell_type": "markdown",
   "metadata": {},
   "source": [
    "Generate predictions for eval set"
   ]
  },
  {
   "cell_type": "code",
   "execution_count": 27,
   "metadata": {
    "collapsed": false
   },
   "outputs": [],
   "source": [
    "pred_threshold = 0.18\n",
    "y_eval_pred = gbm.predict(x_eval, num_iteration=gbm.best_iteration)\n",
    "pred_df = df_eval.loc[y_eval_pred > pred_threshold, ['order_id', 'product_id']]"
   ]
  },
  {
   "cell_type": "markdown",
   "metadata": {},
   "source": [
    "Join together"
   ]
  },
  {
   "cell_type": "code",
   "execution_count": 28,
   "metadata": {
    "collapsed": false
   },
   "outputs": [
    {
     "name": "stdout",
     "output_type": "stream",
     "text": [
      "0.348949101973\n"
     ]
    }
   ],
   "source": [
    "actuals_df['actual'] = 1\n",
    "pred_df['predicted'] = 1\n",
    "all_df = actuals_df.merge(pred_df, on = ['order_id', 'product_id'], how = \"outer\")\n",
    "all_df.fillna(0, inplace = True)\n",
    "print(f1_score(all_df.actual, all_df.predicted))"
   ]
  },
  {
   "cell_type": "markdown",
   "metadata": {},
   "source": [
    "## Create Predictions for Test\n",
    "\n",
    "Use model to generate predictions for our test set"
   ]
  },
  {
   "cell_type": "code",
   "execution_count": 29,
   "metadata": {
    "collapsed": false
   },
   "outputs": [
    {
     "name": "stdout",
     "output_type": "stream",
     "text": [
      "(75000, 2)\n"
     ]
    }
   ],
   "source": [
    "y_test_pred = gbm.predict(x_test, num_iteration=gbm.best_iteration)\n",
    "df_test2 = df_test.loc[y_test_pred > pred_threshold, ['order_id', 'product_id']]\n",
    "aggregation = {'product_id': [lambda x: ' '.join([str(i) for i in x])]}\n",
    "df_test3 = df_test2.groupby(by = ['order_id'], as_index = False).agg(aggregation)\n",
    "df_test3.columns = ['order_id', 'products']\n",
    "df_test4 = df_test[['order_id']].drop_duplicates().merge(df_test3, on = ['order_id'], how = \"left\")\n",
    "print(df_test4.shape) # should be 75000"
   ]
  },
  {
   "cell_type": "code",
   "execution_count": 30,
   "metadata": {
    "collapsed": false
   },
   "outputs": [
    {
     "data": {
      "text/html": [
       "<div>\n",
       "<table border=\"1\" class=\"dataframe\">\n",
       "  <thead>\n",
       "    <tr style=\"text-align: right;\">\n",
       "      <th></th>\n",
       "      <th>order_id</th>\n",
       "      <th>products</th>\n",
       "    </tr>\n",
       "  </thead>\n",
       "  <tbody>\n",
       "    <tr>\n",
       "      <th>0</th>\n",
       "      <td>1751814</td>\n",
       "      <td>3952 3397 16154 32689 8277 27086 47766 21616 2...</td>\n",
       "    </tr>\n",
       "    <tr>\n",
       "      <th>1</th>\n",
       "      <td>800409</td>\n",
       "      <td>5258 26209 47209 21137 13176 24852 27695 22935...</td>\n",
       "    </tr>\n",
       "    <tr>\n",
       "      <th>2</th>\n",
       "      <td>1061343</td>\n",
       "      <td>32486 16363 31433 16908 36758 34943 44825 4690...</td>\n",
       "    </tr>\n",
       "    <tr>\n",
       "      <th>3</th>\n",
       "      <td>133460</td>\n",
       "      <td>27845 4920 24184 14355 22935 36702 21903 28985...</td>\n",
       "    </tr>\n",
       "    <tr>\n",
       "      <th>4</th>\n",
       "      <td>1031543</td>\n",
       "      <td>3957 47280 32655 39276 27992 4472</td>\n",
       "    </tr>\n",
       "  </tbody>\n",
       "</table>\n",
       "</div>"
      ],
      "text/plain": [
       "   order_id                                           products\n",
       "0   1751814  3952 3397 16154 32689 8277 27086 47766 21616 2...\n",
       "1    800409  5258 26209 47209 21137 13176 24852 27695 22935...\n",
       "2   1061343  32486 16363 31433 16908 36758 34943 44825 4690...\n",
       "3    133460  27845 4920 24184 14355 22935 36702 21903 28985...\n",
       "4   1031543                  3957 47280 32655 39276 27992 4472"
      ]
     },
     "execution_count": 30,
     "metadata": {},
     "output_type": "execute_result"
    }
   ],
   "source": [
    "df_test4.head(5)"
   ]
  },
  {
   "cell_type": "code",
   "execution_count": 31,
   "metadata": {
    "collapsed": false
   },
   "outputs": [],
   "source": [
    "buf = StringIO()\n",
    "df_test4.to_csv(buf, index = None)\n",
    "buf = buf.getvalue()\n",
    "bucket_object3 = bucket_path + '/reorder_model/test_predictions.csv'\n",
    "%storage write --variable buf --object $bucket_object3"
   ]
  }
 ],
 "metadata": {
  "kernelspec": {
   "display_name": "Python 2",
   "language": "python",
   "name": "python2"
  },
  "language_info": {
   "codemirror_mode": {
    "name": "ipython",
    "version": 2
   },
   "file_extension": ".py",
   "mimetype": "text/x-python",
   "name": "python",
   "nbconvert_exporter": "python",
   "pygments_lexer": "ipython2",
   "version": "2.7.9"
  }
 },
 "nbformat": 4,
 "nbformat_minor": 2
}

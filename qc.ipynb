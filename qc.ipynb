{
 "cells": [
  {
   "cell_type": "code",
   "execution_count": 4,
   "metadata": {
    "collapsed": true
   },
   "outputs": [],
   "source": [
    "import google.datalab.bigquery as bq"
   ]
  },
  {
   "cell_type": "markdown",
   "metadata": {},
   "source": [
    "## check what proportion of train orders are reorders of past products"
   ]
  },
  {
   "cell_type": "code",
   "execution_count": 13,
   "metadata": {
    "collapsed": false
   },
   "outputs": [
    {
     "data": {
      "text/html": [
       "\n",
       "    <div class=\"bqtv\" id=\"3_149910961869\"><table><tr><th>reordered</th><th>n</th></tr><tr><td>1</td><td>828824</td></tr><tr><td>0</td><td>555793</td></tr></table></div>\n",
       "    <br />(rows: 2, time: 2.2s,    11MB processed, job: job_KNe937dUfWNCA7fK59w5xqF5DI0)<br />\n",
       "    <script>\n",
       "\n",
       "      require.config({\n",
       "        paths: {\n",
       "          d3: '//cdnjs.cloudflare.com/ajax/libs/d3/3.4.13/d3',\n",
       "          plotly: 'https://cdn.plot.ly/plotly-1.5.1.min.js?noext',\n",
       "          jquery: '//ajax.googleapis.com/ajax/libs/jquery/2.0.0/jquery.min'\n",
       "        },\n",
       "        map: {\n",
       "          '*': {\n",
       "            datalab: 'nbextensions/gcpdatalab'\n",
       "          }\n",
       "        },\n",
       "        shim: {\n",
       "          plotly: {\n",
       "            deps: ['d3', 'jquery'],\n",
       "            exports: 'plotly'\n",
       "          }\n",
       "        }\n",
       "      });\n",
       "\n",
       "      require(['datalab/charting', 'datalab/element!3_149910961869', 'base/js/events',\n",
       "          'datalab/style!/nbextensions/gcpdatalab/charting.css'],\n",
       "        function(charts, dom, events) {\n",
       "          charts.render('gcharts', dom, events, 'table', [], {\"rows\": [{\"c\": [{\"v\": 1}, {\"v\": 828824}]}, {\"c\": [{\"v\": 0}, {\"v\": 555793}]}], \"cols\": [{\"type\": \"number\", \"id\": \"reordered\", \"label\": \"reordered\"}, {\"type\": \"number\", \"id\": \"n\", \"label\": \"n\"}]},\n",
       "            {\n",
       "              pageSize: 25,\n",
       "              cssClassNames:  {\n",
       "                tableRow: 'gchart-table-row',\n",
       "                headerRow: 'gchart-table-headerrow',\n",
       "                oddTableRow: 'gchart-table-oddrow',\n",
       "                selectedTableRow: 'gchart-table-selectedrow',\n",
       "                hoverTableRow: 'gchart-table-hoverrow',\n",
       "                tableCell: 'gchart-table-cell',\n",
       "                headerCell: 'gchart-table-headercell',\n",
       "                rowNumberCell: 'gchart-table-rownumcell'\n",
       "              }\n",
       "            },\n",
       "            {source_index: 2, fields: 'reordered,n'},\n",
       "            0,\n",
       "            2);\n",
       "        }\n",
       "      );\n",
       "    </script>\n",
       "  "
      ],
      "text/plain": [
       "QueryResultsTable job_KNe937dUfWNCA7fK59w5xqF5DI0"
      ]
     },
     "execution_count": 13,
     "metadata": {},
     "output_type": "execute_result"
    }
   ],
   "source": [
    "%%bq query \n",
    "SELECT reordered, COUNT(*) AS `n` FROM instacart.order_products__train GROUP BY 1"
   ]
  },
  {
   "cell_type": "markdown",
   "metadata": {},
   "source": [
    "## qc the 'reordered' column; all user-product combos should also exist in 'order_products__prior'"
   ]
  },
  {
   "cell_type": "code",
   "execution_count": 12,
   "metadata": {
    "collapsed": false
   },
   "outputs": [
    {
     "data": {
      "text/html": [
       "\n",
       "    <div class=\"bqtv\" id=\"2_149910950965\"><table><tr><th>has_prior</th><th>n</th></tr><tr><td>1</td><td>828824</td></tr></table></div>\n",
       "    <br />(rows: 1, time: 23.3s,   606MB processed, job: job_nXGS1EfrCHpNgPNIUm9r12opBsk)<br />\n",
       "    <script>\n",
       "\n",
       "      require.config({\n",
       "        paths: {\n",
       "          d3: '//cdnjs.cloudflare.com/ajax/libs/d3/3.4.13/d3',\n",
       "          plotly: 'https://cdn.plot.ly/plotly-1.5.1.min.js?noext',\n",
       "          jquery: '//ajax.googleapis.com/ajax/libs/jquery/2.0.0/jquery.min'\n",
       "        },\n",
       "        map: {\n",
       "          '*': {\n",
       "            datalab: 'nbextensions/gcpdatalab'\n",
       "          }\n",
       "        },\n",
       "        shim: {\n",
       "          plotly: {\n",
       "            deps: ['d3', 'jquery'],\n",
       "            exports: 'plotly'\n",
       "          }\n",
       "        }\n",
       "      });\n",
       "\n",
       "      require(['datalab/charting', 'datalab/element!2_149910950965', 'base/js/events',\n",
       "          'datalab/style!/nbextensions/gcpdatalab/charting.css'],\n",
       "        function(charts, dom, events) {\n",
       "          charts.render('gcharts', dom, events, 'table', [], {\"rows\": [{\"c\": [{\"v\": 1}, {\"v\": 828824}]}], \"cols\": [{\"type\": \"number\", \"id\": \"has_prior\", \"label\": \"has_prior\"}, {\"type\": \"number\", \"id\": \"n\", \"label\": \"n\"}]},\n",
       "            {\n",
       "              pageSize: 25,\n",
       "              cssClassNames:  {\n",
       "                tableRow: 'gchart-table-row',\n",
       "                headerRow: 'gchart-table-headerrow',\n",
       "                oddTableRow: 'gchart-table-oddrow',\n",
       "                selectedTableRow: 'gchart-table-selectedrow',\n",
       "                hoverTableRow: 'gchart-table-hoverrow',\n",
       "                tableCell: 'gchart-table-cell',\n",
       "                headerCell: 'gchart-table-headercell',\n",
       "                rowNumberCell: 'gchart-table-rownumcell'\n",
       "              }\n",
       "            },\n",
       "            {source_index: 1, fields: 'has_prior,n'},\n",
       "            0,\n",
       "            1);\n",
       "        }\n",
       "      );\n",
       "    </script>\n",
       "  "
      ],
      "text/plain": [
       "QueryResultsTable job_nXGS1EfrCHpNgPNIUm9r12opBsk"
      ]
     },
     "execution_count": 12,
     "metadata": {},
     "output_type": "execute_result"
    }
   ],
   "source": [
    "%%bq query\n",
    "SELECT has_prior, COUNT(*) AS `n` FROM (\n",
    "  SELECT train_reorders.user_id, train_reorders.product_id, COALESCE(prior_orders.has_prior,0) AS `has_prior`\n",
    "  FROM (\n",
    "    SELECT user_id, product_id\n",
    "    FROM instacart.orders AS orders\n",
    "    INNER JOIN instacart.order_products__train AS orders_products ON orders.order_id = orders_products.order_id\n",
    "    WHERE orders_products.reordered = 1 GROUP BY 1,2\n",
    "  ) AS train_reorders\n",
    "  LEFT JOIN (\n",
    "    SELECT user_id, product_id, 1 AS `has_prior`\n",
    "    FROM instacart.orders AS orders\n",
    "    INNER JOIN instacart.order_products__prior AS orders_products ON orders.order_id = orders_products.order_id\n",
    "    GROUP BY 1,2\n",
    "  ) AS prior_orders ON train_reorders.user_id = prior_orders.user_id AND train_reorders.product_id = prior_orders.product_id\n",
    ") AS x GROUP BY 1"
   ]
  },
  {
   "cell_type": "markdown",
   "metadata": {},
   "source": [
    "## check what proportion of orders have an item never ordered before"
   ]
  },
  {
   "cell_type": "code",
   "execution_count": 11,
   "metadata": {
    "collapsed": false
   },
   "outputs": [
    {
     "data": {
      "text/html": [
       "\n",
       "    <div class=\"bqtv\" id=\"1_149910928481\"><table><tr><th>perc_has_new</th></tr><tr><td>0.815553811095</td></tr></table></div>\n",
       "    <br />(rows: 1, time: 2.3s,    22MB processed, job: job_4moDOu_d3mzCmN1j7FvR3oxq8Wg)<br />\n",
       "    <script>\n",
       "\n",
       "      require.config({\n",
       "        paths: {\n",
       "          d3: '//cdnjs.cloudflare.com/ajax/libs/d3/3.4.13/d3',\n",
       "          plotly: 'https://cdn.plot.ly/plotly-1.5.1.min.js?noext',\n",
       "          jquery: '//ajax.googleapis.com/ajax/libs/jquery/2.0.0/jquery.min'\n",
       "        },\n",
       "        map: {\n",
       "          '*': {\n",
       "            datalab: 'nbextensions/gcpdatalab'\n",
       "          }\n",
       "        },\n",
       "        shim: {\n",
       "          plotly: {\n",
       "            deps: ['d3', 'jquery'],\n",
       "            exports: 'plotly'\n",
       "          }\n",
       "        }\n",
       "      });\n",
       "\n",
       "      require(['datalab/charting', 'datalab/element!1_149910928481', 'base/js/events',\n",
       "          'datalab/style!/nbextensions/gcpdatalab/charting.css'],\n",
       "        function(charts, dom, events) {\n",
       "          charts.render('gcharts', dom, events, 'table', [], {\"rows\": [{\"c\": [{\"v\": 0.8155538110952768}]}], \"cols\": [{\"type\": \"number\", \"id\": \"perc_has_new\", \"label\": \"perc_has_new\"}]},\n",
       "            {\n",
       "              pageSize: 25,\n",
       "              cssClassNames:  {\n",
       "                tableRow: 'gchart-table-row',\n",
       "                headerRow: 'gchart-table-headerrow',\n",
       "                oddTableRow: 'gchart-table-oddrow',\n",
       "                selectedTableRow: 'gchart-table-selectedrow',\n",
       "                hoverTableRow: 'gchart-table-hoverrow',\n",
       "                tableCell: 'gchart-table-cell',\n",
       "                headerCell: 'gchart-table-headercell',\n",
       "                rowNumberCell: 'gchart-table-rownumcell'\n",
       "              }\n",
       "            },\n",
       "            {source_index: 0, fields: 'perc_has_new'},\n",
       "            0,\n",
       "            1);\n",
       "        }\n",
       "      );\n",
       "    </script>\n",
       "  "
      ],
      "text/plain": [
       "QueryResultsTable job_4moDOu_d3mzCmN1j7FvR3oxq8Wg"
      ]
     },
     "execution_count": 11,
     "metadata": {},
     "output_type": "execute_result"
    }
   ],
   "source": [
    "%%bq query\n",
    "SELECT AVG(CASE WHEN n_new > 0 THEN 1 ELSE 0 END) AS `perc_has_new` FROM (\n",
    "  SELECT order_id, SUM(1-reordered) AS `n_new` FROM instacart.order_products__train GROUP BY 1\n",
    ") AS x"
   ]
  },
  {
   "cell_type": "markdown",
   "metadata": {},
   "source": [
    "## qc user overlap between prior, train, and test sets"
   ]
  },
  {
   "cell_type": "code",
   "execution_count": 15,
   "metadata": {
    "collapsed": false
   },
   "outputs": [],
   "source": [
    "%%bq query -n prior_train_test_qc\n",
    "SELECT in_prior, in_train, in_test, COUNT(*) AS `n` FROM (\n",
    "  SELECT user_id, \n",
    "    LEAST(SUM(CASE WHEN eval_set = 'prior' THEN 1 ELSE 0 END),1) AS `in_prior`,\n",
    "    LEAST(SUM(CASE WHEN eval_set = 'train' THEN 1 ELSE 0 END),1) AS `in_train`,\n",
    "    LEAST(SUM(CASE WHEN eval_set = 'test' THEN 1 ELSE 0 END),1) AS `in_test`\n",
    "  FROM instacart.orders\n",
    "  GROUP BY 1\n",
    ") AS x GROUP BY 1,2,3"
   ]
  },
  {
   "cell_type": "code",
   "execution_count": 16,
   "metadata": {
    "collapsed": false
   },
   "outputs": [
    {
     "name": "stdout",
     "output_type": "stream",
     "text": [
      "<class 'google.datalab.bigquery._query.Query'>\n",
      "   in_prior  in_train  in_test       n\n",
      "0         1         0        1   75000\n",
      "1         1         1        0  131209\n"
     ]
    }
   ],
   "source": [
    "results = prior_train_test_qc.execute(output_options=bq.QueryOutput.dataframe()).result()\n",
    "print results"
   ]
  },
  {
   "cell_type": "markdown",
   "metadata": {},
   "source": [
    "## that order numbers are sequential"
   ]
  },
  {
   "cell_type": "code",
   "execution_count": null,
   "metadata": {
    "collapsed": true
   },
   "outputs": [],
   "source": [
    "%%bq query\n",
    "SELECT SUM(order_number) AS `qc1`, MAX(order_number)*(MAX(order_number)+1)/2 AS `qc2` FROM instacart.orders GROUP BY user_id HAVING qc1 != qc2"
   ]
  }
 ],
 "metadata": {
  "kernelspec": {
   "display_name": "Python 2",
   "language": "python",
   "name": "python2"
  },
  "language_info": {
   "codemirror_mode": {
    "name": "ipython",
    "version": 2
   },
   "file_extension": ".py",
   "mimetype": "text/x-python",
   "name": "python",
   "nbconvert_exporter": "python",
   "pygments_lexer": "ipython2",
   "version": "2.7.9"
  }
 },
 "nbformat": 4,
 "nbformat_minor": 2
}

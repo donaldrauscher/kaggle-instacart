{
 "cells": [
  {
   "cell_type": "code",
   "execution_count": 12,
   "metadata": {
    "collapsed": true
   },
   "outputs": [],
   "source": [
    "from google.datalab import Context\n",
    "import google.datalab.bigquery as bq\n",
    "import google.datalab.storage as storage\n",
    "import pandas as pd\n",
    "from StringIO import StringIO"
   ]
  },
  {
   "cell_type": "markdown",
   "metadata": {},
   "source": [
    "## Build Some Intermediary Tables\n",
    "\n",
    "Pull some additional information for each user that we'll need later\n",
    "Pull some additional information on when each user purchases each product"
   ]
  },
  {
   "cell_type": "code",
   "execution_count": 13,
   "metadata": {
    "collapsed": true
   },
   "outputs": [],
   "source": [
    "%%bq query -n users_q\n",
    "SELECT orders.user_id, COALESCE(user_flags.is_train,0) AS is_train,\n",
    "  COUNT(*) AS num_orders, SUM(days_since_prior_order) AS days_bw_first_last_order\n",
    "FROM instacart.orders AS orders\n",
    "LEFT JOIN (\n",
    "  SELECT user_id, 1 AS `is_train` FROM instacart.orders WHERE eval_set = \"train\" GROUP BY 1\n",
    ") AS user_flags ON orders.user_id = user_flags.user_id\n",
    "WHERE eval_set = \"prior\"\n",
    "GROUP BY 1,2"
   ]
  },
  {
   "cell_type": "code",
   "execution_count": 14,
   "metadata": {
    "collapsed": false
   },
   "outputs": [
    {
     "data": {
      "text/html": [
       "\n",
       "    <div class=\"bqtv\" id=\"2_149922444878\"><table><tr><th>user_id</th><th>is_train</th><th>num_orders</th><th>days_bw_first_last_order</th></tr><tr><td>181478</td><td>0</td><td>3</td><td>0.0</td></tr><tr><td>36904</td><td>1</td><td>3</td><td>0.0</td></tr><tr><td>164320</td><td>1</td><td>3</td><td>0.0</td></tr><tr><td>179078</td><td>1</td><td>3</td><td>0.0</td></tr><tr><td>137150</td><td>0</td><td>3</td><td>0.0</td></tr><tr><td>62180</td><td>1</td><td>3</td><td>0.0</td></tr><tr><td>15495</td><td>1</td><td>3</td><td>0.0</td></tr><tr><td>201321</td><td>1</td><td>3</td><td>0.0</td></tr><tr><td>125717</td><td>0</td><td>3</td><td>0.0</td></tr><tr><td>133075</td><td>1</td><td>3</td><td>0.0</td></tr><tr><td>58934</td><td>0</td><td>3</td><td>0.0</td></tr><tr><td>99295</td><td>0</td><td>3</td><td>0.0</td></tr><tr><td>80567</td><td>1</td><td>3</td><td>0.0</td></tr><tr><td>9515</td><td>0</td><td>3</td><td>0.0</td></tr><tr><td>115420</td><td>0</td><td>3</td><td>0.0</td></tr><tr><td>64975</td><td>1</td><td>3</td><td>0.0</td></tr><tr><td>174627</td><td>1</td><td>3</td><td>0.0</td></tr><tr><td>109010</td><td>1</td><td>3</td><td>0.0</td></tr><tr><td>131603</td><td>0</td><td>3</td><td>0.0</td></tr><tr><td>121915</td><td>1</td><td>3</td><td>0.0</td></tr><tr><td>69142</td><td>1</td><td>3</td><td>2.0</td></tr><tr><td>9463</td><td>1</td><td>3</td><td>2.0</td></tr><tr><td>142255</td><td>0</td><td>3</td><td>2.0</td></tr><tr><td>84759</td><td>1</td><td>3</td><td>2.0</td></tr><tr><td>1568</td><td>1</td><td>3</td><td>2.0</td></tr></table></div>\n",
       "    <br />(rows: 206209, time: 8.1s,    76MB processed, job: job_bvI4FidBJIIlmLrDS87ZiE3b32g)<br />\n",
       "    <script>\n",
       "\n",
       "      require.config({\n",
       "        paths: {\n",
       "          d3: '//cdnjs.cloudflare.com/ajax/libs/d3/3.4.13/d3',\n",
       "          plotly: 'https://cdn.plot.ly/plotly-1.5.1.min.js?noext',\n",
       "          jquery: '//ajax.googleapis.com/ajax/libs/jquery/2.0.0/jquery.min'\n",
       "        },\n",
       "        map: {\n",
       "          '*': {\n",
       "            datalab: 'nbextensions/gcpdatalab'\n",
       "          }\n",
       "        },\n",
       "        shim: {\n",
       "          plotly: {\n",
       "            deps: ['d3', 'jquery'],\n",
       "            exports: 'plotly'\n",
       "          }\n",
       "        }\n",
       "      });\n",
       "\n",
       "      require(['datalab/charting', 'datalab/element!2_149922444878', 'base/js/events',\n",
       "          'datalab/style!/nbextensions/gcpdatalab/charting.css'],\n",
       "        function(charts, dom, events) {\n",
       "          charts.render('gcharts', dom, events, 'paged_table', [], {\"rows\": [{\"c\": [{\"v\": 181478}, {\"v\": 0}, {\"v\": 3}, {\"v\": 0.0}]}, {\"c\": [{\"v\": 36904}, {\"v\": 1}, {\"v\": 3}, {\"v\": 0.0}]}, {\"c\": [{\"v\": 164320}, {\"v\": 1}, {\"v\": 3}, {\"v\": 0.0}]}, {\"c\": [{\"v\": 179078}, {\"v\": 1}, {\"v\": 3}, {\"v\": 0.0}]}, {\"c\": [{\"v\": 137150}, {\"v\": 0}, {\"v\": 3}, {\"v\": 0.0}]}, {\"c\": [{\"v\": 62180}, {\"v\": 1}, {\"v\": 3}, {\"v\": 0.0}]}, {\"c\": [{\"v\": 15495}, {\"v\": 1}, {\"v\": 3}, {\"v\": 0.0}]}, {\"c\": [{\"v\": 201321}, {\"v\": 1}, {\"v\": 3}, {\"v\": 0.0}]}, {\"c\": [{\"v\": 125717}, {\"v\": 0}, {\"v\": 3}, {\"v\": 0.0}]}, {\"c\": [{\"v\": 133075}, {\"v\": 1}, {\"v\": 3}, {\"v\": 0.0}]}, {\"c\": [{\"v\": 58934}, {\"v\": 0}, {\"v\": 3}, {\"v\": 0.0}]}, {\"c\": [{\"v\": 99295}, {\"v\": 0}, {\"v\": 3}, {\"v\": 0.0}]}, {\"c\": [{\"v\": 80567}, {\"v\": 1}, {\"v\": 3}, {\"v\": 0.0}]}, {\"c\": [{\"v\": 9515}, {\"v\": 0}, {\"v\": 3}, {\"v\": 0.0}]}, {\"c\": [{\"v\": 115420}, {\"v\": 0}, {\"v\": 3}, {\"v\": 0.0}]}, {\"c\": [{\"v\": 64975}, {\"v\": 1}, {\"v\": 3}, {\"v\": 0.0}]}, {\"c\": [{\"v\": 174627}, {\"v\": 1}, {\"v\": 3}, {\"v\": 0.0}]}, {\"c\": [{\"v\": 109010}, {\"v\": 1}, {\"v\": 3}, {\"v\": 0.0}]}, {\"c\": [{\"v\": 131603}, {\"v\": 0}, {\"v\": 3}, {\"v\": 0.0}]}, {\"c\": [{\"v\": 121915}, {\"v\": 1}, {\"v\": 3}, {\"v\": 0.0}]}, {\"c\": [{\"v\": 69142}, {\"v\": 1}, {\"v\": 3}, {\"v\": 2.0}]}, {\"c\": [{\"v\": 9463}, {\"v\": 1}, {\"v\": 3}, {\"v\": 2.0}]}, {\"c\": [{\"v\": 142255}, {\"v\": 0}, {\"v\": 3}, {\"v\": 2.0}]}, {\"c\": [{\"v\": 84759}, {\"v\": 1}, {\"v\": 3}, {\"v\": 2.0}]}, {\"c\": [{\"v\": 1568}, {\"v\": 1}, {\"v\": 3}, {\"v\": 2.0}]}], \"cols\": [{\"type\": \"number\", \"id\": \"user_id\", \"label\": \"user_id\"}, {\"type\": \"number\", \"id\": \"is_train\", \"label\": \"is_train\"}, {\"type\": \"number\", \"id\": \"num_orders\", \"label\": \"num_orders\"}, {\"type\": \"number\", \"id\": \"days_bw_first_last_order\", \"label\": \"days_bw_first_last_order\"}]},\n",
       "            {\n",
       "              pageSize: 25,\n",
       "              cssClassNames:  {\n",
       "                tableRow: 'gchart-table-row',\n",
       "                headerRow: 'gchart-table-headerrow',\n",
       "                oddTableRow: 'gchart-table-oddrow',\n",
       "                selectedTableRow: 'gchart-table-selectedrow',\n",
       "                hoverTableRow: 'gchart-table-hoverrow',\n",
       "                tableCell: 'gchart-table-cell',\n",
       "                headerCell: 'gchart-table-headercell',\n",
       "                rowNumberCell: 'gchart-table-rownumcell'\n",
       "              }\n",
       "            },\n",
       "            {source_index: 1, fields: 'user_id,is_train,num_orders,days_bw_first_last_order'},\n",
       "            0,\n",
       "            206209);\n",
       "        }\n",
       "      );\n",
       "    </script>\n",
       "  "
      ],
      "text/plain": [
       "QueryResultsTable job_bvI4FidBJIIlmLrDS87ZiE3b32g"
      ]
     },
     "execution_count": 14,
     "metadata": {},
     "output_type": "execute_result"
    }
   ],
   "source": [
    "%%bq execute -q users_q -t instacart.users  -m overwrite"
   ]
  },
  {
   "cell_type": "code",
   "execution_count": 15,
   "metadata": {
    "collapsed": true
   },
   "outputs": [],
   "source": [
    "%%bq query -n user_products_q\n",
    "SELECT orders.user_id, op.product_id, \n",
    "  COUNT(*) AS num_orders, SUM(op.reordered) AS num_reorders,\n",
    "  MIN(orders.order_number) AS first_order_number, MIN(days_since_first_order) AS first_order_day,\n",
    "  MAX(orders.order_number) AS last_order_number, MAX(days_since_first_order) AS last_order_day\n",
    "FROM instacart.order_products__prior AS op\n",
    "INNER JOIN (\n",
    "  SELECT *, \n",
    "  SUM(COALESCE(days_since_prior_order,0)) OVER (PARTITION BY user_id ORDER BY order_number ASC ROWS BETWEEN UNBOUNDED PRECEDING AND CURRENT ROW) AS `days_since_first_order`\n",
    "  FROM instacart.orders WHERE eval_set = \"prior\"\n",
    ") AS orders ON orders.order_id = op.order_id\n",
    "GROUP BY 1,2"
   ]
  },
  {
   "cell_type": "code",
   "execution_count": 16,
   "metadata": {
    "collapsed": false
   },
   "outputs": [
    {
     "data": {
      "text/html": [
       "\n",
       "    <div class=\"bqtv\" id=\"3_149922449001\"><table><tr><th>user_id</th><th>product_id</th><th>num_orders</th><th>num_reorders</th><th>first_order_number</th><th>first_order_day</th><th>last_order_number</th><th>last_order_day</th></tr><tr><td>35416</td><td>4605</td><td>13</td><td>12</td><td>9</td><td>40.0</td><td>43</td><td>219.0</td></tr><tr><td>7027</td><td>3873</td><td>38</td><td>37</td><td>3</td><td>12.0</td><td>45</td><td>347.0</td></tr><tr><td>3782</td><td>5750</td><td>12</td><td>11</td><td>23</td><td>151.0</td><td>49</td><td>338.0</td></tr><tr><td>41637</td><td>45066</td><td>25</td><td>24</td><td>12</td><td>72.0</td><td>51</td><td>359.0</td></tr><tr><td>83381</td><td>13176</td><td>32</td><td>31</td><td>1</td><td>0.0</td><td>45</td><td>342.0</td></tr><tr><td>48470</td><td>30391</td><td>14</td><td>13</td><td>2</td><td>7.0</td><td>51</td><td>358.0</td></tr><tr><td>146600</td><td>24249</td><td>21</td><td>20</td><td>1</td><td>0.0</td><td>43</td><td>100.0</td></tr><tr><td>97785</td><td>17871</td><td>47</td><td>46</td><td>10</td><td>45.0</td><td>63</td><td>351.0</td></tr><tr><td>113384</td><td>43961</td><td>16</td><td>15</td><td>6</td><td>14.0</td><td>86</td><td>306.0</td></tr><tr><td>97970</td><td>35914</td><td>16</td><td>15</td><td>4</td><td>35.0</td><td>44</td><td>314.0</td></tr><tr><td>49910</td><td>28934</td><td>14</td><td>13</td><td>4</td><td>18.0</td><td>55</td><td>343.0</td></tr><tr><td>132006</td><td>35363</td><td>18</td><td>17</td><td>2</td><td>5.0</td><td>79</td><td>352.0</td></tr><tr><td>146497</td><td>13176</td><td>17</td><td>16</td><td>2</td><td>7.0</td><td>55</td><td>331.0</td></tr><tr><td>151037</td><td>1940</td><td>25</td><td>24</td><td>1</td><td>0.0</td><td>47</td><td>329.0</td></tr><tr><td>16364</td><td>13176</td><td>34</td><td>33</td><td>3</td><td>3.0</td><td>99</td><td>258.0</td></tr><tr><td>45961</td><td>24852</td><td>29</td><td>28</td><td>3</td><td>5.0</td><td>72</td><td>360.0</td></tr><tr><td>55104</td><td>35140</td><td>13</td><td>12</td><td>2</td><td>7.0</td><td>72</td><td>348.0</td></tr><tr><td>69602</td><td>31506</td><td>12</td><td>11</td><td>8</td><td>34.0</td><td>60</td><td>355.0</td></tr><tr><td>181262</td><td>32441</td><td>11</td><td>10</td><td>26</td><td>152.0</td><td>43</td><td>339.0</td></tr><tr><td>81484</td><td>43986</td><td>14</td><td>13</td><td>3</td><td>8.0</td><td>48</td><td>293.0</td></tr><tr><td>12102</td><td>12817</td><td>22</td><td>21</td><td>11</td><td>41.0</td><td>92</td><td>327.0</td></tr><tr><td>148286</td><td>31717</td><td>12</td><td>11</td><td>4</td><td>41.0</td><td>53</td><td>348.0</td></tr><tr><td>201498</td><td>42992</td><td>15</td><td>14</td><td>20</td><td>131.0</td><td>48</td><td>317.0</td></tr><tr><td>68439</td><td>27966</td><td>23</td><td>22</td><td>15</td><td>100.0</td><td>79</td><td>353.0</td></tr><tr><td>52243</td><td>4920</td><td>15</td><td>14</td><td>1</td><td>0.0</td><td>46</td><td>241.0</td></tr></table></div>\n",
       "    <br />(rows: 13307953, time: 39.8s,   910MB processed, job: job_PvVGPmHc3T3XsN4EGsWCoXcdqt8)<br />\n",
       "    <script>\n",
       "\n",
       "      require.config({\n",
       "        paths: {\n",
       "          d3: '//cdnjs.cloudflare.com/ajax/libs/d3/3.4.13/d3',\n",
       "          plotly: 'https://cdn.plot.ly/plotly-1.5.1.min.js?noext',\n",
       "          jquery: '//ajax.googleapis.com/ajax/libs/jquery/2.0.0/jquery.min'\n",
       "        },\n",
       "        map: {\n",
       "          '*': {\n",
       "            datalab: 'nbextensions/gcpdatalab'\n",
       "          }\n",
       "        },\n",
       "        shim: {\n",
       "          plotly: {\n",
       "            deps: ['d3', 'jquery'],\n",
       "            exports: 'plotly'\n",
       "          }\n",
       "        }\n",
       "      });\n",
       "\n",
       "      require(['datalab/charting', 'datalab/element!3_149922449001', 'base/js/events',\n",
       "          'datalab/style!/nbextensions/gcpdatalab/charting.css'],\n",
       "        function(charts, dom, events) {\n",
       "          charts.render('gcharts', dom, events, 'paged_table', [], {\"rows\": [{\"c\": [{\"v\": 35416}, {\"v\": 4605}, {\"v\": 13}, {\"v\": 12}, {\"v\": 9}, {\"v\": 40.0}, {\"v\": 43}, {\"v\": 219.0}]}, {\"c\": [{\"v\": 7027}, {\"v\": 3873}, {\"v\": 38}, {\"v\": 37}, {\"v\": 3}, {\"v\": 12.0}, {\"v\": 45}, {\"v\": 347.0}]}, {\"c\": [{\"v\": 3782}, {\"v\": 5750}, {\"v\": 12}, {\"v\": 11}, {\"v\": 23}, {\"v\": 151.0}, {\"v\": 49}, {\"v\": 338.0}]}, {\"c\": [{\"v\": 41637}, {\"v\": 45066}, {\"v\": 25}, {\"v\": 24}, {\"v\": 12}, {\"v\": 72.0}, {\"v\": 51}, {\"v\": 359.0}]}, {\"c\": [{\"v\": 83381}, {\"v\": 13176}, {\"v\": 32}, {\"v\": 31}, {\"v\": 1}, {\"v\": 0.0}, {\"v\": 45}, {\"v\": 342.0}]}, {\"c\": [{\"v\": 48470}, {\"v\": 30391}, {\"v\": 14}, {\"v\": 13}, {\"v\": 2}, {\"v\": 7.0}, {\"v\": 51}, {\"v\": 358.0}]}, {\"c\": [{\"v\": 146600}, {\"v\": 24249}, {\"v\": 21}, {\"v\": 20}, {\"v\": 1}, {\"v\": 0.0}, {\"v\": 43}, {\"v\": 100.0}]}, {\"c\": [{\"v\": 97785}, {\"v\": 17871}, {\"v\": 47}, {\"v\": 46}, {\"v\": 10}, {\"v\": 45.0}, {\"v\": 63}, {\"v\": 351.0}]}, {\"c\": [{\"v\": 113384}, {\"v\": 43961}, {\"v\": 16}, {\"v\": 15}, {\"v\": 6}, {\"v\": 14.0}, {\"v\": 86}, {\"v\": 306.0}]}, {\"c\": [{\"v\": 97970}, {\"v\": 35914}, {\"v\": 16}, {\"v\": 15}, {\"v\": 4}, {\"v\": 35.0}, {\"v\": 44}, {\"v\": 314.0}]}, {\"c\": [{\"v\": 49910}, {\"v\": 28934}, {\"v\": 14}, {\"v\": 13}, {\"v\": 4}, {\"v\": 18.0}, {\"v\": 55}, {\"v\": 343.0}]}, {\"c\": [{\"v\": 132006}, {\"v\": 35363}, {\"v\": 18}, {\"v\": 17}, {\"v\": 2}, {\"v\": 5.0}, {\"v\": 79}, {\"v\": 352.0}]}, {\"c\": [{\"v\": 146497}, {\"v\": 13176}, {\"v\": 17}, {\"v\": 16}, {\"v\": 2}, {\"v\": 7.0}, {\"v\": 55}, {\"v\": 331.0}]}, {\"c\": [{\"v\": 151037}, {\"v\": 1940}, {\"v\": 25}, {\"v\": 24}, {\"v\": 1}, {\"v\": 0.0}, {\"v\": 47}, {\"v\": 329.0}]}, {\"c\": [{\"v\": 16364}, {\"v\": 13176}, {\"v\": 34}, {\"v\": 33}, {\"v\": 3}, {\"v\": 3.0}, {\"v\": 99}, {\"v\": 258.0}]}, {\"c\": [{\"v\": 45961}, {\"v\": 24852}, {\"v\": 29}, {\"v\": 28}, {\"v\": 3}, {\"v\": 5.0}, {\"v\": 72}, {\"v\": 360.0}]}, {\"c\": [{\"v\": 55104}, {\"v\": 35140}, {\"v\": 13}, {\"v\": 12}, {\"v\": 2}, {\"v\": 7.0}, {\"v\": 72}, {\"v\": 348.0}]}, {\"c\": [{\"v\": 69602}, {\"v\": 31506}, {\"v\": 12}, {\"v\": 11}, {\"v\": 8}, {\"v\": 34.0}, {\"v\": 60}, {\"v\": 355.0}]}, {\"c\": [{\"v\": 181262}, {\"v\": 32441}, {\"v\": 11}, {\"v\": 10}, {\"v\": 26}, {\"v\": 152.0}, {\"v\": 43}, {\"v\": 339.0}]}, {\"c\": [{\"v\": 81484}, {\"v\": 43986}, {\"v\": 14}, {\"v\": 13}, {\"v\": 3}, {\"v\": 8.0}, {\"v\": 48}, {\"v\": 293.0}]}, {\"c\": [{\"v\": 12102}, {\"v\": 12817}, {\"v\": 22}, {\"v\": 21}, {\"v\": 11}, {\"v\": 41.0}, {\"v\": 92}, {\"v\": 327.0}]}, {\"c\": [{\"v\": 148286}, {\"v\": 31717}, {\"v\": 12}, {\"v\": 11}, {\"v\": 4}, {\"v\": 41.0}, {\"v\": 53}, {\"v\": 348.0}]}, {\"c\": [{\"v\": 201498}, {\"v\": 42992}, {\"v\": 15}, {\"v\": 14}, {\"v\": 20}, {\"v\": 131.0}, {\"v\": 48}, {\"v\": 317.0}]}, {\"c\": [{\"v\": 68439}, {\"v\": 27966}, {\"v\": 23}, {\"v\": 22}, {\"v\": 15}, {\"v\": 100.0}, {\"v\": 79}, {\"v\": 353.0}]}, {\"c\": [{\"v\": 52243}, {\"v\": 4920}, {\"v\": 15}, {\"v\": 14}, {\"v\": 1}, {\"v\": 0.0}, {\"v\": 46}, {\"v\": 241.0}]}], \"cols\": [{\"type\": \"number\", \"id\": \"user_id\", \"label\": \"user_id\"}, {\"type\": \"number\", \"id\": \"product_id\", \"label\": \"product_id\"}, {\"type\": \"number\", \"id\": \"num_orders\", \"label\": \"num_orders\"}, {\"type\": \"number\", \"id\": \"num_reorders\", \"label\": \"num_reorders\"}, {\"type\": \"number\", \"id\": \"first_order_number\", \"label\": \"first_order_number\"}, {\"type\": \"number\", \"id\": \"first_order_day\", \"label\": \"first_order_day\"}, {\"type\": \"number\", \"id\": \"last_order_number\", \"label\": \"last_order_number\"}, {\"type\": \"number\", \"id\": \"last_order_day\", \"label\": \"last_order_day\"}]},\n",
       "            {\n",
       "              pageSize: 25,\n",
       "              cssClassNames:  {\n",
       "                tableRow: 'gchart-table-row',\n",
       "                headerRow: 'gchart-table-headerrow',\n",
       "                oddTableRow: 'gchart-table-oddrow',\n",
       "                selectedTableRow: 'gchart-table-selectedrow',\n",
       "                hoverTableRow: 'gchart-table-hoverrow',\n",
       "                tableCell: 'gchart-table-cell',\n",
       "                headerCell: 'gchart-table-headercell',\n",
       "                rowNumberCell: 'gchart-table-rownumcell'\n",
       "              }\n",
       "            },\n",
       "            {source_index: 2, fields: 'user_id,product_id,num_orders,num_reorders,first_order_number,first_order_day,last_order_number,last_order_day'},\n",
       "            0,\n",
       "            13307953);\n",
       "        }\n",
       "      );\n",
       "    </script>\n",
       "  "
      ],
      "text/plain": [
       "QueryResultsTable job_PvVGPmHc3T3XsN4EGsWCoXcdqt8"
      ]
     },
     "execution_count": 16,
     "metadata": {},
     "output_type": "execute_result"
    }
   ],
   "source": [
    "%%bq execute -q user_products_q -t instacart.user_products  -m overwrite"
   ]
  },
  {
   "cell_type": "markdown",
   "metadata": {},
   "source": [
    "## User-Product Features\n",
    "\n",
    "User-product level data which is base for the reorder model (includes both test and train)\n",
    "\n",
    "Contains \"basket\" of all products that user has ever purchased; trying to predict which will be reordered (though this is admittedly only ~2/3 of the problem since ~1/3 of purchases in the train set are to products never purchased before)"
   ]
  },
  {
   "cell_type": "code",
   "execution_count": 17,
   "metadata": {
    "collapsed": true
   },
   "outputs": [],
   "source": [
    "%%bq query -n user_products_features_q\n",
    "WITH up_features AS (\n",
    "  SELECT up.user_id, up.product_id,\n",
    "    up.num_orders / users.num_orders AS `perc_all_orders`,\n",
    "    up.num_reorders / NULLIF(users.num_orders - up.first_order_number,0) AS `perc_reorder`,\n",
    "    up.num_orders / NULLIF(users.days_bw_first_last_order,0) AS `orders_per_day`,\n",
    "    up.num_reorders / NULLIF(users.days_bw_first_last_order - up.first_order_day,0) AS `reorders_per_day`,\n",
    "    up.first_order_number, up.first_order_day, up.last_order_number, up.last_order_day, users.days_bw_first_last_order\n",
    "  FROM instacart.user_products AS up\n",
    "  INNER JOIN instacart.users AS users ON up.user_id = users.user_id\n",
    ")\n",
    "\n",
    "SELECT up.*, \n",
    "  orders.order_id, orders.eval_set, orders.order_hour_of_day, orders.order_dow,\n",
    "  CASE WHEN orders.eval_set = \"test\" THEN NULL ELSE LEAST(COALESCE(op_train.order_id,0),1) END AS `is_ordered`,\n",
    "  up.days_bw_first_last_order - up.last_order_day + orders.days_since_prior_order AS `days_since_last_order`,\n",
    "  orders.order_number - up.last_order_number + 1 AS `orders_since_last_order`\n",
    "FROM up_features AS up\n",
    "INNER JOIN instacart.orders AS orders ON orders.user_id = up.user_id AND orders.eval_set IN ('train','test')\n",
    "LEFT JOIN instacart.order_products__train AS op_train ON orders.order_id = op_train.order_id AND up.product_id = op_train.product_id"
   ]
  },
  {
   "cell_type": "code",
   "execution_count": 18,
   "metadata": {
    "collapsed": false
   },
   "outputs": [
    {
     "data": {
      "text/html": [
       "\n",
       "    <div class=\"bqtv\" id=\"4_149922451722\"><table><tr><th>user_id</th><th>product_id</th><th>perc_all_orders</th><th>perc_reorder</th><th>orders_per_day</th><th>reorders_per_day</th><th>first_order_number</th><th>first_order_day</th><th>last_order_number</th><th>last_order_day</th><th>days_bw_first_last_order</th><th>order_id</th><th>eval_set</th><th>order_hour_of_day</th><th>order_dow</th><th>is_ordered</th><th>days_since_last_order</th><th>orders_since_last_order</th></tr><tr><td>133075</td><td>42887</td><td>0.333333333333</td><td>0.0</td><td>&nbsp;</td><td>&nbsp;</td><td>1</td><td>0.0</td><td>1</td><td>0.0</td><td>0.0</td><td>765224</td><td>train</td><td>9</td><td>4</td><td>0</td><td>30.0</td><td>4</td></tr><tr><td>121915</td><td>47966</td><td>1.0</td><td>1.0</td><td>&nbsp;</td><td>&nbsp;</td><td>1</td><td>0.0</td><td>3</td><td>0.0</td><td>0.0</td><td>1686562</td><td>train</td><td>13</td><td>6</td><td>0</td><td>27.0</td><td>2</td></tr><tr><td>174627</td><td>46804</td><td>0.666666666667</td><td>0.5</td><td>&nbsp;</td><td>&nbsp;</td><td>1</td><td>0.0</td><td>2</td><td>0.0</td><td>0.0</td><td>3083298</td><td>train</td><td>9</td><td>3</td><td>0</td><td>30.0</td><td>3</td></tr><tr><td>131603</td><td>9068</td><td>0.333333333333</td><td>0.0</td><td>&nbsp;</td><td>&nbsp;</td><td>1</td><td>0.0</td><td>1</td><td>0.0</td><td>0.0</td><td>1773727</td><td>test</td><td>14</td><td>1</td><td>&nbsp;</td><td>4.0</td><td>4</td></tr><tr><td>115420</td><td>45051</td><td>1.0</td><td>1.0</td><td>&nbsp;</td><td>&nbsp;</td><td>1</td><td>0.0</td><td>3</td><td>0.0</td><td>0.0</td><td>901154</td><td>test</td><td>9</td><td>5</td><td>&nbsp;</td><td>1.0</td><td>2</td></tr><tr><td>58934</td><td>13936</td><td>1.0</td><td>1.0</td><td>&nbsp;</td><td>&nbsp;</td><td>1</td><td>0.0</td><td>3</td><td>0.0</td><td>0.0</td><td>1388946</td><td>test</td><td>18</td><td>3</td><td>&nbsp;</td><td>13.0</td><td>2</td></tr><tr><td>111196</td><td>36164</td><td>0.05</td><td>0.0</td><td>0.00390625</td><td>0.0</td><td>1</td><td>0.0</td><td>1</td><td>0.0</td><td>256.0</td><td>2663889</td><td>test</td><td>14</td><td>0</td><td>&nbsp;</td><td>261.0</td><td>21</td></tr><tr><td>49247</td><td>8025</td><td>0.0526315789474</td><td>0.0</td><td>0.00390625</td><td>0.0</td><td>1</td><td>0.0</td><td>1</td><td>0.0</td><td>256.0</td><td>1673903</td><td>train</td><td>21</td><td>2</td><td>0</td><td>269.0</td><td>20</td></tr><tr><td>11724</td><td>9407</td><td>0.0434782608696</td><td>0.0</td><td>0.00390625</td><td>0.0</td><td>1</td><td>0.0</td><td>1</td><td>0.0</td><td>256.0</td><td>3339223</td><td>train</td><td>11</td><td>3</td><td>0</td><td>266.0</td><td>24</td></tr><tr><td>17226</td><td>46969</td><td>0.0434782608696</td><td>0.0</td><td>0.00390625</td><td>0.0</td><td>1</td><td>0.0</td><td>1</td><td>0.0</td><td>256.0</td><td>294153</td><td>train</td><td>17</td><td>5</td><td>0</td><td>267.0</td><td>24</td></tr><tr><td>180109</td><td>28883</td><td>0.0714285714286</td><td>0.0</td><td>0.00390625</td><td>0.0</td><td>1</td><td>0.0</td><td>1</td><td>0.0</td><td>256.0</td><td>2030378</td><td>train</td><td>17</td><td>6</td><td>0</td><td>282.0</td><td>15</td></tr><tr><td>178797</td><td>35108</td><td>0.0714285714286</td><td>0.0</td><td>0.00390625</td><td>0.0</td><td>1</td><td>0.0</td><td>1</td><td>0.0</td><td>256.0</td><td>3242208</td><td>train</td><td>13</td><td>0</td><td>0</td><td>286.0</td><td>15</td></tr><tr><td>156203</td><td>2091</td><td>0.0833333333333</td><td>0.0</td><td>0.00390625</td><td>0.0</td><td>1</td><td>0.0</td><td>1</td><td>0.0</td><td>256.0</td><td>1813978</td><td>test</td><td>16</td><td>1</td><td>&nbsp;</td><td>262.0</td><td>13</td></tr><tr><td>17226</td><td>49075</td><td>0.0434782608696</td><td>0.0</td><td>0.00390625</td><td>0.0</td><td>1</td><td>0.0</td><td>1</td><td>0.0</td><td>256.0</td><td>294153</td><td>train</td><td>17</td><td>5</td><td>0</td><td>267.0</td><td>24</td></tr><tr><td>67816</td><td>46900</td><td>0.047619047619</td><td>0.0</td><td>0.00390625</td><td>0.0</td><td>1</td><td>0.0</td><td>1</td><td>0.0</td><td>256.0</td><td>289461</td><td>test</td><td>11</td><td>2</td><td>&nbsp;</td><td>258.0</td><td>22</td></tr><tr><td>65230</td><td>10492</td><td>0.0666666666667</td><td>0.0</td><td>0.00390625</td><td>0.0</td><td>1</td><td>0.0</td><td>1</td><td>0.0</td><td>256.0</td><td>3373850</td><td>train</td><td>16</td><td>0</td><td>0</td><td>285.0</td><td>16</td></tr><tr><td>178829</td><td>31510</td><td>0.037037037037</td><td>0.0</td><td>0.00390625</td><td>0.0</td><td>1</td><td>0.0</td><td>1</td><td>0.0</td><td>256.0</td><td>959919</td><td>test</td><td>17</td><td>0</td><td>&nbsp;</td><td>263.0</td><td>28</td></tr><tr><td>90688</td><td>26194</td><td>0.0714285714286</td><td>0.0</td><td>0.00390625</td><td>0.0</td><td>1</td><td>0.0</td><td>1</td><td>0.0</td><td>256.0</td><td>512327</td><td>train</td><td>22</td><td>6</td><td>0</td><td>277.0</td><td>15</td></tr><tr><td>180390</td><td>49547</td><td>0.0227272727273</td><td>0.0</td><td>0.00390625</td><td>0.0</td><td>1</td><td>0.0</td><td>1</td><td>0.0</td><td>256.0</td><td>1475206</td><td>test</td><td>22</td><td>6</td><td>&nbsp;</td><td>262.0</td><td>45</td></tr><tr><td>161038</td><td>21288</td><td>0.0588235294118</td><td>0.0</td><td>0.00390625</td><td>0.0</td><td>1</td><td>0.0</td><td>1</td><td>0.0</td><td>256.0</td><td>700263</td><td>test</td><td>11</td><td>0</td><td>&nbsp;</td><td>264.0</td><td>18</td></tr><tr><td>121248</td><td>45200</td><td>0.0666666666667</td><td>0.0</td><td>0.00390625</td><td>0.0</td><td>1</td><td>0.0</td><td>1</td><td>0.0</td><td>256.0</td><td>196667</td><td>test</td><td>17</td><td>0</td><td>&nbsp;</td><td>286.0</td><td>16</td></tr><tr><td>128591</td><td>28379</td><td>0.1</td><td>0.0</td><td>0.00390625</td><td>0.0</td><td>1</td><td>0.0</td><td>1</td><td>0.0</td><td>256.0</td><td>1677665</td><td>test</td><td>8</td><td>2</td><td>&nbsp;</td><td>286.0</td><td>11</td></tr><tr><td>134512</td><td>21267</td><td>0.0666666666667</td><td>0.0</td><td>0.00390625</td><td>0.0</td><td>1</td><td>0.0</td><td>1</td><td>0.0</td><td>256.0</td><td>3059431</td><td>test</td><td>13</td><td>0</td><td>&nbsp;</td><td>264.0</td><td>16</td></tr><tr><td>145826</td><td>13338</td><td>0.047619047619</td><td>0.0</td><td>0.00390625</td><td>0.0</td><td>1</td><td>0.0</td><td>1</td><td>0.0</td><td>256.0</td><td>1486533</td><td>test</td><td>22</td><td>5</td><td>&nbsp;</td><td>267.0</td><td>22</td></tr><tr><td>5080</td><td>29103</td><td>0.05</td><td>0.0</td><td>0.00390625</td><td>0.0</td><td>1</td><td>0.0</td><td>1</td><td>0.0</td><td>256.0</td><td>2757300</td><td>train</td><td>10</td><td>6</td><td>0</td><td>259.0</td><td>21</td></tr></table></div>\n",
       "    <br />(rows: 13307953, time: 25.3s,     1GB processed, job: job_UCLR3tcp1Val-oNOnSDJjJItH3c)<br />\n",
       "    <script>\n",
       "\n",
       "      require.config({\n",
       "        paths: {\n",
       "          d3: '//cdnjs.cloudflare.com/ajax/libs/d3/3.4.13/d3',\n",
       "          plotly: 'https://cdn.plot.ly/plotly-1.5.1.min.js?noext',\n",
       "          jquery: '//ajax.googleapis.com/ajax/libs/jquery/2.0.0/jquery.min'\n",
       "        },\n",
       "        map: {\n",
       "          '*': {\n",
       "            datalab: 'nbextensions/gcpdatalab'\n",
       "          }\n",
       "        },\n",
       "        shim: {\n",
       "          plotly: {\n",
       "            deps: ['d3', 'jquery'],\n",
       "            exports: 'plotly'\n",
       "          }\n",
       "        }\n",
       "      });\n",
       "\n",
       "      require(['datalab/charting', 'datalab/element!4_149922451722', 'base/js/events',\n",
       "          'datalab/style!/nbextensions/gcpdatalab/charting.css'],\n",
       "        function(charts, dom, events) {\n",
       "          charts.render('gcharts', dom, events, 'paged_table', [], {\"rows\": [{\"c\": [{\"v\": 133075}, {\"v\": 42887}, {\"v\": 0.3333333333333333}, {\"v\": 0.0}, {\"v\": null}, {\"v\": null}, {\"v\": 1}, {\"v\": 0.0}, {\"v\": 1}, {\"v\": 0.0}, {\"v\": 0.0}, {\"v\": 765224}, {\"v\": \"train\"}, {\"v\": 9}, {\"v\": 4}, {\"v\": 0}, {\"v\": 30.0}, {\"v\": 4}]}, {\"c\": [{\"v\": 121915}, {\"v\": 47966}, {\"v\": 1.0}, {\"v\": 1.0}, {\"v\": null}, {\"v\": null}, {\"v\": 1}, {\"v\": 0.0}, {\"v\": 3}, {\"v\": 0.0}, {\"v\": 0.0}, {\"v\": 1686562}, {\"v\": \"train\"}, {\"v\": 13}, {\"v\": 6}, {\"v\": 0}, {\"v\": 27.0}, {\"v\": 2}]}, {\"c\": [{\"v\": 174627}, {\"v\": 46804}, {\"v\": 0.6666666666666666}, {\"v\": 0.5}, {\"v\": null}, {\"v\": null}, {\"v\": 1}, {\"v\": 0.0}, {\"v\": 2}, {\"v\": 0.0}, {\"v\": 0.0}, {\"v\": 3083298}, {\"v\": \"train\"}, {\"v\": 9}, {\"v\": 3}, {\"v\": 0}, {\"v\": 30.0}, {\"v\": 3}]}, {\"c\": [{\"v\": 131603}, {\"v\": 9068}, {\"v\": 0.3333333333333333}, {\"v\": 0.0}, {\"v\": null}, {\"v\": null}, {\"v\": 1}, {\"v\": 0.0}, {\"v\": 1}, {\"v\": 0.0}, {\"v\": 0.0}, {\"v\": 1773727}, {\"v\": \"test\"}, {\"v\": 14}, {\"v\": 1}, {\"v\": null}, {\"v\": 4.0}, {\"v\": 4}]}, {\"c\": [{\"v\": 115420}, {\"v\": 45051}, {\"v\": 1.0}, {\"v\": 1.0}, {\"v\": null}, {\"v\": null}, {\"v\": 1}, {\"v\": 0.0}, {\"v\": 3}, {\"v\": 0.0}, {\"v\": 0.0}, {\"v\": 901154}, {\"v\": \"test\"}, {\"v\": 9}, {\"v\": 5}, {\"v\": null}, {\"v\": 1.0}, {\"v\": 2}]}, {\"c\": [{\"v\": 58934}, {\"v\": 13936}, {\"v\": 1.0}, {\"v\": 1.0}, {\"v\": null}, {\"v\": null}, {\"v\": 1}, {\"v\": 0.0}, {\"v\": 3}, {\"v\": 0.0}, {\"v\": 0.0}, {\"v\": 1388946}, {\"v\": \"test\"}, {\"v\": 18}, {\"v\": 3}, {\"v\": null}, {\"v\": 13.0}, {\"v\": 2}]}, {\"c\": [{\"v\": 111196}, {\"v\": 36164}, {\"v\": 0.05}, {\"v\": 0.0}, {\"v\": 0.00390625}, {\"v\": 0.0}, {\"v\": 1}, {\"v\": 0.0}, {\"v\": 1}, {\"v\": 0.0}, {\"v\": 256.0}, {\"v\": 2663889}, {\"v\": \"test\"}, {\"v\": 14}, {\"v\": 0}, {\"v\": null}, {\"v\": 261.0}, {\"v\": 21}]}, {\"c\": [{\"v\": 49247}, {\"v\": 8025}, {\"v\": 0.05263157894736842}, {\"v\": 0.0}, {\"v\": 0.00390625}, {\"v\": 0.0}, {\"v\": 1}, {\"v\": 0.0}, {\"v\": 1}, {\"v\": 0.0}, {\"v\": 256.0}, {\"v\": 1673903}, {\"v\": \"train\"}, {\"v\": 21}, {\"v\": 2}, {\"v\": 0}, {\"v\": 269.0}, {\"v\": 20}]}, {\"c\": [{\"v\": 11724}, {\"v\": 9407}, {\"v\": 0.043478260869565216}, {\"v\": 0.0}, {\"v\": 0.00390625}, {\"v\": 0.0}, {\"v\": 1}, {\"v\": 0.0}, {\"v\": 1}, {\"v\": 0.0}, {\"v\": 256.0}, {\"v\": 3339223}, {\"v\": \"train\"}, {\"v\": 11}, {\"v\": 3}, {\"v\": 0}, {\"v\": 266.0}, {\"v\": 24}]}, {\"c\": [{\"v\": 17226}, {\"v\": 46969}, {\"v\": 0.043478260869565216}, {\"v\": 0.0}, {\"v\": 0.00390625}, {\"v\": 0.0}, {\"v\": 1}, {\"v\": 0.0}, {\"v\": 1}, {\"v\": 0.0}, {\"v\": 256.0}, {\"v\": 294153}, {\"v\": \"train\"}, {\"v\": 17}, {\"v\": 5}, {\"v\": 0}, {\"v\": 267.0}, {\"v\": 24}]}, {\"c\": [{\"v\": 180109}, {\"v\": 28883}, {\"v\": 0.07142857142857142}, {\"v\": 0.0}, {\"v\": 0.00390625}, {\"v\": 0.0}, {\"v\": 1}, {\"v\": 0.0}, {\"v\": 1}, {\"v\": 0.0}, {\"v\": 256.0}, {\"v\": 2030378}, {\"v\": \"train\"}, {\"v\": 17}, {\"v\": 6}, {\"v\": 0}, {\"v\": 282.0}, {\"v\": 15}]}, {\"c\": [{\"v\": 178797}, {\"v\": 35108}, {\"v\": 0.07142857142857142}, {\"v\": 0.0}, {\"v\": 0.00390625}, {\"v\": 0.0}, {\"v\": 1}, {\"v\": 0.0}, {\"v\": 1}, {\"v\": 0.0}, {\"v\": 256.0}, {\"v\": 3242208}, {\"v\": \"train\"}, {\"v\": 13}, {\"v\": 0}, {\"v\": 0}, {\"v\": 286.0}, {\"v\": 15}]}, {\"c\": [{\"v\": 156203}, {\"v\": 2091}, {\"v\": 0.08333333333333333}, {\"v\": 0.0}, {\"v\": 0.00390625}, {\"v\": 0.0}, {\"v\": 1}, {\"v\": 0.0}, {\"v\": 1}, {\"v\": 0.0}, {\"v\": 256.0}, {\"v\": 1813978}, {\"v\": \"test\"}, {\"v\": 16}, {\"v\": 1}, {\"v\": null}, {\"v\": 262.0}, {\"v\": 13}]}, {\"c\": [{\"v\": 17226}, {\"v\": 49075}, {\"v\": 0.043478260869565216}, {\"v\": 0.0}, {\"v\": 0.00390625}, {\"v\": 0.0}, {\"v\": 1}, {\"v\": 0.0}, {\"v\": 1}, {\"v\": 0.0}, {\"v\": 256.0}, {\"v\": 294153}, {\"v\": \"train\"}, {\"v\": 17}, {\"v\": 5}, {\"v\": 0}, {\"v\": 267.0}, {\"v\": 24}]}, {\"c\": [{\"v\": 67816}, {\"v\": 46900}, {\"v\": 0.047619047619047616}, {\"v\": 0.0}, {\"v\": 0.00390625}, {\"v\": 0.0}, {\"v\": 1}, {\"v\": 0.0}, {\"v\": 1}, {\"v\": 0.0}, {\"v\": 256.0}, {\"v\": 289461}, {\"v\": \"test\"}, {\"v\": 11}, {\"v\": 2}, {\"v\": null}, {\"v\": 258.0}, {\"v\": 22}]}, {\"c\": [{\"v\": 65230}, {\"v\": 10492}, {\"v\": 0.06666666666666667}, {\"v\": 0.0}, {\"v\": 0.00390625}, {\"v\": 0.0}, {\"v\": 1}, {\"v\": 0.0}, {\"v\": 1}, {\"v\": 0.0}, {\"v\": 256.0}, {\"v\": 3373850}, {\"v\": \"train\"}, {\"v\": 16}, {\"v\": 0}, {\"v\": 0}, {\"v\": 285.0}, {\"v\": 16}]}, {\"c\": [{\"v\": 178829}, {\"v\": 31510}, {\"v\": 0.037037037037037035}, {\"v\": 0.0}, {\"v\": 0.00390625}, {\"v\": 0.0}, {\"v\": 1}, {\"v\": 0.0}, {\"v\": 1}, {\"v\": 0.0}, {\"v\": 256.0}, {\"v\": 959919}, {\"v\": \"test\"}, {\"v\": 17}, {\"v\": 0}, {\"v\": null}, {\"v\": 263.0}, {\"v\": 28}]}, {\"c\": [{\"v\": 90688}, {\"v\": 26194}, {\"v\": 0.07142857142857142}, {\"v\": 0.0}, {\"v\": 0.00390625}, {\"v\": 0.0}, {\"v\": 1}, {\"v\": 0.0}, {\"v\": 1}, {\"v\": 0.0}, {\"v\": 256.0}, {\"v\": 512327}, {\"v\": \"train\"}, {\"v\": 22}, {\"v\": 6}, {\"v\": 0}, {\"v\": 277.0}, {\"v\": 15}]}, {\"c\": [{\"v\": 180390}, {\"v\": 49547}, {\"v\": 0.022727272727272728}, {\"v\": 0.0}, {\"v\": 0.00390625}, {\"v\": 0.0}, {\"v\": 1}, {\"v\": 0.0}, {\"v\": 1}, {\"v\": 0.0}, {\"v\": 256.0}, {\"v\": 1475206}, {\"v\": \"test\"}, {\"v\": 22}, {\"v\": 6}, {\"v\": null}, {\"v\": 262.0}, {\"v\": 45}]}, {\"c\": [{\"v\": 161038}, {\"v\": 21288}, {\"v\": 0.058823529411764705}, {\"v\": 0.0}, {\"v\": 0.00390625}, {\"v\": 0.0}, {\"v\": 1}, {\"v\": 0.0}, {\"v\": 1}, {\"v\": 0.0}, {\"v\": 256.0}, {\"v\": 700263}, {\"v\": \"test\"}, {\"v\": 11}, {\"v\": 0}, {\"v\": null}, {\"v\": 264.0}, {\"v\": 18}]}, {\"c\": [{\"v\": 121248}, {\"v\": 45200}, {\"v\": 0.06666666666666667}, {\"v\": 0.0}, {\"v\": 0.00390625}, {\"v\": 0.0}, {\"v\": 1}, {\"v\": 0.0}, {\"v\": 1}, {\"v\": 0.0}, {\"v\": 256.0}, {\"v\": 196667}, {\"v\": \"test\"}, {\"v\": 17}, {\"v\": 0}, {\"v\": null}, {\"v\": 286.0}, {\"v\": 16}]}, {\"c\": [{\"v\": 128591}, {\"v\": 28379}, {\"v\": 0.1}, {\"v\": 0.0}, {\"v\": 0.00390625}, {\"v\": 0.0}, {\"v\": 1}, {\"v\": 0.0}, {\"v\": 1}, {\"v\": 0.0}, {\"v\": 256.0}, {\"v\": 1677665}, {\"v\": \"test\"}, {\"v\": 8}, {\"v\": 2}, {\"v\": null}, {\"v\": 286.0}, {\"v\": 11}]}, {\"c\": [{\"v\": 134512}, {\"v\": 21267}, {\"v\": 0.06666666666666667}, {\"v\": 0.0}, {\"v\": 0.00390625}, {\"v\": 0.0}, {\"v\": 1}, {\"v\": 0.0}, {\"v\": 1}, {\"v\": 0.0}, {\"v\": 256.0}, {\"v\": 3059431}, {\"v\": \"test\"}, {\"v\": 13}, {\"v\": 0}, {\"v\": null}, {\"v\": 264.0}, {\"v\": 16}]}, {\"c\": [{\"v\": 145826}, {\"v\": 13338}, {\"v\": 0.047619047619047616}, {\"v\": 0.0}, {\"v\": 0.00390625}, {\"v\": 0.0}, {\"v\": 1}, {\"v\": 0.0}, {\"v\": 1}, {\"v\": 0.0}, {\"v\": 256.0}, {\"v\": 1486533}, {\"v\": \"test\"}, {\"v\": 22}, {\"v\": 5}, {\"v\": null}, {\"v\": 267.0}, {\"v\": 22}]}, {\"c\": [{\"v\": 5080}, {\"v\": 29103}, {\"v\": 0.05}, {\"v\": 0.0}, {\"v\": 0.00390625}, {\"v\": 0.0}, {\"v\": 1}, {\"v\": 0.0}, {\"v\": 1}, {\"v\": 0.0}, {\"v\": 256.0}, {\"v\": 2757300}, {\"v\": \"train\"}, {\"v\": 10}, {\"v\": 6}, {\"v\": 0}, {\"v\": 259.0}, {\"v\": 21}]}], \"cols\": [{\"type\": \"number\", \"id\": \"user_id\", \"label\": \"user_id\"}, {\"type\": \"number\", \"id\": \"product_id\", \"label\": \"product_id\"}, {\"type\": \"number\", \"id\": \"perc_all_orders\", \"label\": \"perc_all_orders\"}, {\"type\": \"number\", \"id\": \"perc_reorder\", \"label\": \"perc_reorder\"}, {\"type\": \"number\", \"id\": \"orders_per_day\", \"label\": \"orders_per_day\"}, {\"type\": \"number\", \"id\": \"reorders_per_day\", \"label\": \"reorders_per_day\"}, {\"type\": \"number\", \"id\": \"first_order_number\", \"label\": \"first_order_number\"}, {\"type\": \"number\", \"id\": \"first_order_day\", \"label\": \"first_order_day\"}, {\"type\": \"number\", \"id\": \"last_order_number\", \"label\": \"last_order_number\"}, {\"type\": \"number\", \"id\": \"last_order_day\", \"label\": \"last_order_day\"}, {\"type\": \"number\", \"id\": \"days_bw_first_last_order\", \"label\": \"days_bw_first_last_order\"}, {\"type\": \"number\", \"id\": \"order_id\", \"label\": \"order_id\"}, {\"type\": \"string\", \"id\": \"eval_set\", \"label\": \"eval_set\"}, {\"type\": \"number\", \"id\": \"order_hour_of_day\", \"label\": \"order_hour_of_day\"}, {\"type\": \"number\", \"id\": \"order_dow\", \"label\": \"order_dow\"}, {\"type\": \"number\", \"id\": \"is_ordered\", \"label\": \"is_ordered\"}, {\"type\": \"number\", \"id\": \"days_since_last_order\", \"label\": \"days_since_last_order\"}, {\"type\": \"number\", \"id\": \"orders_since_last_order\", \"label\": \"orders_since_last_order\"}]},\n",
       "            {\n",
       "              pageSize: 25,\n",
       "              cssClassNames:  {\n",
       "                tableRow: 'gchart-table-row',\n",
       "                headerRow: 'gchart-table-headerrow',\n",
       "                oddTableRow: 'gchart-table-oddrow',\n",
       "                selectedTableRow: 'gchart-table-selectedrow',\n",
       "                hoverTableRow: 'gchart-table-hoverrow',\n",
       "                tableCell: 'gchart-table-cell',\n",
       "                headerCell: 'gchart-table-headercell',\n",
       "                rowNumberCell: 'gchart-table-rownumcell'\n",
       "              }\n",
       "            },\n",
       "            {source_index: 3, fields: 'user_id,product_id,perc_all_orders,perc_reorder,orders_per_day,reorders_per_day,first_order_number,first_order_day,last_order_number,last_order_day,days_bw_first_last_order,order_id,eval_set,order_hour_of_day,order_dow,is_ordered,days_since_last_order,orders_since_last_order'},\n",
       "            0,\n",
       "            13307953);\n",
       "        }\n",
       "      );\n",
       "    </script>\n",
       "  "
      ],
      "text/plain": [
       "QueryResultsTable job_UCLR3tcp1Val-oNOnSDJjJItH3c"
      ]
     },
     "execution_count": 18,
     "metadata": {},
     "output_type": "execute_result"
    }
   ],
   "source": [
    "%%bq execute -q user_products_features_q -t instacart.user_products_features  -m overwrite"
   ]
  },
  {
   "cell_type": "markdown",
   "metadata": {},
   "source": [
    "## User Features\n",
    "\n",
    "Some additional user-level features that we'll join in later"
   ]
  },
  {
   "cell_type": "code",
   "execution_count": 19,
   "metadata": {
    "collapsed": true
   },
   "outputs": [],
   "source": [
    "%%bq query -n user_features_q\n",
    "SELECT users.user_id,\n",
    "  ANY_VALUE(users.num_orders) AS num_orders, \n",
    "  ANY_VALUE(users.days_bw_first_last_order) / ANY_VALUE(users.num_orders) AS avg_days_bw_orders,\n",
    "  COUNT(DISTINCT up.product_id) AS num_products,\n",
    "  COUNT(DISTINCT products.aisle_id) AS num_aisles,\n",
    "  COUNT(DISTINCT products.department_id) AS num_departments\n",
    "FROM instacart.users AS users\n",
    "INNER JOIN instacart.user_products AS up ON users.user_id = up.user_id\n",
    "INNER JOIN instacart.products AS products ON up.product_id = products.product_id\n",
    "GROUP BY 1"
   ]
  },
  {
   "cell_type": "code",
   "execution_count": 20,
   "metadata": {
    "collapsed": false
   },
   "outputs": [
    {
     "data": {
      "text/html": [
       "\n",
       "    <div class=\"bqtv\" id=\"5_149922454627\"><table><tr><th>user_id</th><th>num_orders</th><th>avg_days_bw_orders</th><th>num_products</th><th>num_aisles</th><th>num_departments</th></tr><tr><td>164320</td><td>3</td><td>0.0</td><td>2</td><td>2</td><td>1</td></tr><tr><td>62180</td><td>3</td><td>0.0</td><td>2</td><td>1</td><td>1</td></tr><tr><td>15495</td><td>3</td><td>0.0</td><td>1</td><td>1</td><td>1</td></tr><tr><td>109010</td><td>3</td><td>0.0</td><td>1</td><td>1</td><td>1</td></tr><tr><td>99295</td><td>3</td><td>0.0</td><td>1</td><td>1</td><td>1</td></tr><tr><td>181478</td><td>3</td><td>0.0</td><td>3</td><td>2</td><td>1</td></tr><tr><td>202329</td><td>3</td><td>2.0</td><td>4</td><td>3</td><td>1</td></tr><tr><td>113387</td><td>3</td><td>2.0</td><td>3</td><td>2</td><td>1</td></tr><tr><td>50492</td><td>4</td><td>2.0</td><td>2</td><td>2</td><td>1</td></tr><tr><td>97779</td><td>14</td><td>2.0</td><td>1</td><td>1</td><td>1</td></tr><tr><td>49581</td><td>3</td><td>2.0</td><td>1</td><td>1</td><td>1</td></tr><tr><td>172259</td><td>5</td><td>2.0</td><td>7</td><td>2</td><td>1</td></tr><tr><td>119293</td><td>4</td><td>2.25</td><td>7</td><td>4</td><td>1</td></tr><tr><td>167624</td><td>4</td><td>2.25</td><td>2</td><td>1</td><td>1</td></tr><tr><td>148573</td><td>22</td><td>2.5</td><td>1</td><td>1</td><td>1</td></tr><tr><td>70227</td><td>8</td><td>2.625</td><td>10</td><td>3</td><td>1</td></tr><tr><td>25740</td><td>4</td><td>2.75</td><td>1</td><td>1</td><td>1</td></tr><tr><td>199604</td><td>8</td><td>2.75</td><td>1</td><td>1</td><td>1</td></tr><tr><td>114577</td><td>4</td><td>3.0</td><td>7</td><td>2</td><td>1</td></tr><tr><td>78411</td><td>7</td><td>3.0</td><td>2</td><td>2</td><td>1</td></tr><tr><td>5120</td><td>4</td><td>3.25</td><td>6</td><td>1</td><td>1</td></tr><tr><td>165071</td><td>4</td><td>3.5</td><td>3</td><td>1</td><td>1</td></tr><tr><td>78397</td><td>4</td><td>3.5</td><td>1</td><td>1</td><td>1</td></tr><tr><td>113793</td><td>8</td><td>3.875</td><td>6</td><td>2</td><td>1</td></tr><tr><td>113320</td><td>3</td><td>4.0</td><td>2</td><td>2</td><td>1</td></tr></table></div>\n",
       "    <br />(rows: 206209, time: 26.7s,   219MB processed, job: job_HgrFUZXBsvDA5j-F9UXOUIi5-Y0)<br />\n",
       "    <script>\n",
       "\n",
       "      require.config({\n",
       "        paths: {\n",
       "          d3: '//cdnjs.cloudflare.com/ajax/libs/d3/3.4.13/d3',\n",
       "          plotly: 'https://cdn.plot.ly/plotly-1.5.1.min.js?noext',\n",
       "          jquery: '//ajax.googleapis.com/ajax/libs/jquery/2.0.0/jquery.min'\n",
       "        },\n",
       "        map: {\n",
       "          '*': {\n",
       "            datalab: 'nbextensions/gcpdatalab'\n",
       "          }\n",
       "        },\n",
       "        shim: {\n",
       "          plotly: {\n",
       "            deps: ['d3', 'jquery'],\n",
       "            exports: 'plotly'\n",
       "          }\n",
       "        }\n",
       "      });\n",
       "\n",
       "      require(['datalab/charting', 'datalab/element!5_149922454627', 'base/js/events',\n",
       "          'datalab/style!/nbextensions/gcpdatalab/charting.css'],\n",
       "        function(charts, dom, events) {\n",
       "          charts.render('gcharts', dom, events, 'paged_table', [], {\"rows\": [{\"c\": [{\"v\": 164320}, {\"v\": 3}, {\"v\": 0.0}, {\"v\": 2}, {\"v\": 2}, {\"v\": 1}]}, {\"c\": [{\"v\": 62180}, {\"v\": 3}, {\"v\": 0.0}, {\"v\": 2}, {\"v\": 1}, {\"v\": 1}]}, {\"c\": [{\"v\": 15495}, {\"v\": 3}, {\"v\": 0.0}, {\"v\": 1}, {\"v\": 1}, {\"v\": 1}]}, {\"c\": [{\"v\": 109010}, {\"v\": 3}, {\"v\": 0.0}, {\"v\": 1}, {\"v\": 1}, {\"v\": 1}]}, {\"c\": [{\"v\": 99295}, {\"v\": 3}, {\"v\": 0.0}, {\"v\": 1}, {\"v\": 1}, {\"v\": 1}]}, {\"c\": [{\"v\": 181478}, {\"v\": 3}, {\"v\": 0.0}, {\"v\": 3}, {\"v\": 2}, {\"v\": 1}]}, {\"c\": [{\"v\": 202329}, {\"v\": 3}, {\"v\": 2.0}, {\"v\": 4}, {\"v\": 3}, {\"v\": 1}]}, {\"c\": [{\"v\": 113387}, {\"v\": 3}, {\"v\": 2.0}, {\"v\": 3}, {\"v\": 2}, {\"v\": 1}]}, {\"c\": [{\"v\": 50492}, {\"v\": 4}, {\"v\": 2.0}, {\"v\": 2}, {\"v\": 2}, {\"v\": 1}]}, {\"c\": [{\"v\": 97779}, {\"v\": 14}, {\"v\": 2.0}, {\"v\": 1}, {\"v\": 1}, {\"v\": 1}]}, {\"c\": [{\"v\": 49581}, {\"v\": 3}, {\"v\": 2.0}, {\"v\": 1}, {\"v\": 1}, {\"v\": 1}]}, {\"c\": [{\"v\": 172259}, {\"v\": 5}, {\"v\": 2.0}, {\"v\": 7}, {\"v\": 2}, {\"v\": 1}]}, {\"c\": [{\"v\": 119293}, {\"v\": 4}, {\"v\": 2.25}, {\"v\": 7}, {\"v\": 4}, {\"v\": 1}]}, {\"c\": [{\"v\": 167624}, {\"v\": 4}, {\"v\": 2.25}, {\"v\": 2}, {\"v\": 1}, {\"v\": 1}]}, {\"c\": [{\"v\": 148573}, {\"v\": 22}, {\"v\": 2.5}, {\"v\": 1}, {\"v\": 1}, {\"v\": 1}]}, {\"c\": [{\"v\": 70227}, {\"v\": 8}, {\"v\": 2.625}, {\"v\": 10}, {\"v\": 3}, {\"v\": 1}]}, {\"c\": [{\"v\": 25740}, {\"v\": 4}, {\"v\": 2.75}, {\"v\": 1}, {\"v\": 1}, {\"v\": 1}]}, {\"c\": [{\"v\": 199604}, {\"v\": 8}, {\"v\": 2.75}, {\"v\": 1}, {\"v\": 1}, {\"v\": 1}]}, {\"c\": [{\"v\": 114577}, {\"v\": 4}, {\"v\": 3.0}, {\"v\": 7}, {\"v\": 2}, {\"v\": 1}]}, {\"c\": [{\"v\": 78411}, {\"v\": 7}, {\"v\": 3.0}, {\"v\": 2}, {\"v\": 2}, {\"v\": 1}]}, {\"c\": [{\"v\": 5120}, {\"v\": 4}, {\"v\": 3.25}, {\"v\": 6}, {\"v\": 1}, {\"v\": 1}]}, {\"c\": [{\"v\": 165071}, {\"v\": 4}, {\"v\": 3.5}, {\"v\": 3}, {\"v\": 1}, {\"v\": 1}]}, {\"c\": [{\"v\": 78397}, {\"v\": 4}, {\"v\": 3.5}, {\"v\": 1}, {\"v\": 1}, {\"v\": 1}]}, {\"c\": [{\"v\": 113793}, {\"v\": 8}, {\"v\": 3.875}, {\"v\": 6}, {\"v\": 2}, {\"v\": 1}]}, {\"c\": [{\"v\": 113320}, {\"v\": 3}, {\"v\": 4.0}, {\"v\": 2}, {\"v\": 2}, {\"v\": 1}]}], \"cols\": [{\"type\": \"number\", \"id\": \"user_id\", \"label\": \"user_id\"}, {\"type\": \"number\", \"id\": \"num_orders\", \"label\": \"num_orders\"}, {\"type\": \"number\", \"id\": \"avg_days_bw_orders\", \"label\": \"avg_days_bw_orders\"}, {\"type\": \"number\", \"id\": \"num_products\", \"label\": \"num_products\"}, {\"type\": \"number\", \"id\": \"num_aisles\", \"label\": \"num_aisles\"}, {\"type\": \"number\", \"id\": \"num_departments\", \"label\": \"num_departments\"}]},\n",
       "            {\n",
       "              pageSize: 25,\n",
       "              cssClassNames:  {\n",
       "                tableRow: 'gchart-table-row',\n",
       "                headerRow: 'gchart-table-headerrow',\n",
       "                oddTableRow: 'gchart-table-oddrow',\n",
       "                selectedTableRow: 'gchart-table-selectedrow',\n",
       "                hoverTableRow: 'gchart-table-hoverrow',\n",
       "                tableCell: 'gchart-table-cell',\n",
       "                headerCell: 'gchart-table-headercell',\n",
       "                rowNumberCell: 'gchart-table-rownumcell'\n",
       "              }\n",
       "            },\n",
       "            {source_index: 4, fields: 'user_id,num_orders,avg_days_bw_orders,num_products,num_aisles,num_departments'},\n",
       "            0,\n",
       "            206209);\n",
       "        }\n",
       "      );\n",
       "    </script>\n",
       "  "
      ],
      "text/plain": [
       "QueryResultsTable job_HgrFUZXBsvDA5j-F9UXOUIi5-Y0"
      ]
     },
     "execution_count": 20,
     "metadata": {},
     "output_type": "execute_result"
    }
   ],
   "source": [
    "%%bq execute -q user_features_q -t instacart.user_features  -m overwrite"
   ]
  },
  {
   "cell_type": "markdown",
   "metadata": {},
   "source": [
    "## Product Features\n",
    "\n",
    "Some additional product-level features that we'll join in later"
   ]
  },
  {
   "cell_type": "code",
   "execution_count": 21,
   "metadata": {
    "collapsed": true
   },
   "outputs": [],
   "source": [
    "%%bq query -n product_features_q\n",
    "WITH up_features AS (\n",
    "  SELECT up.user_id, up.product_id,\n",
    "    up.num_orders, users.num_orders AS `num_orders_user`,\n",
    "    up.num_reorders, users.num_orders - up.first_order_number AS `num_reorders_user`,\n",
    "    users.days_bw_first_last_order AS `order_days`, users.days_bw_first_last_order - up.first_order_day AS `reorder_days`,\n",
    "    up.first_order_number, up.first_order_day\n",
    "  FROM instacart.user_products AS up\n",
    "  INNER JOIN instacart.users AS users ON up.user_id = users.user_id\n",
    ")\n",
    "\n",
    "SELECT up.product_id, products.aisle_id, products.department_id,\n",
    "  COUNT(DISTINCT user_id) / ANY_VALUE(num_users_total) AS `perc_users`,\n",
    "  SUM(num_orders) / SUM(num_orders_user) AS `perc_all_orders`,\n",
    "  SUM(num_reorders) / NULLIF(SUM(num_reorders_user),0) AS `perc_reorders`,\n",
    "  SUM(num_orders) / NULLIF(SUM(order_days),0) AS `orders_per_day`,\n",
    "  SUM(num_reorders) / NULLIF(SUM(reorder_days),0) AS `reorders_per_day`,\n",
    "  AVG(first_order_number) AS `avg_first_order_number`,\n",
    "  AVG(first_order_day) AS `avg_first_order_day`\n",
    "FROM up_features AS up\n",
    "INNER JOIN instacart.products AS products ON up.product_id = products.product_id\n",
    "INNER JOIN (\n",
    "  SELECT COUNT(DISTINCT user_id) AS num_users_total\n",
    "  FROM instacart.user_products\n",
    ") AS x ON 1=1\n",
    "GROUP BY 1,2,3"
   ]
  },
  {
   "cell_type": "code",
   "execution_count": 22,
   "metadata": {
    "collapsed": false
   },
   "outputs": [
    {
     "data": {
      "text/html": [
       "\n",
       "    <div class=\"bqtv\" id=\"6_149922457506\"><table><tr><th>product_id</th><th>aisle_id</th><th>department_id</th><th>perc_users</th><th>perc_all_orders</th><th>perc_reorders</th><th>orders_per_day</th><th>reorders_per_day</th><th>avg_first_order_number</th><th>avg_first_order_day</th></tr><tr><td>3991</td><td>1</td><td>20</td><td>0.000547987721195</td><td>0.0787401574803</td><td>0.0625498007968</td><td>0.0097911227154</td><td>0.00758857363817</td><td>8.13274336283</td><td>60.9469026549</td></tr><tr><td>18923</td><td>1</td><td>20</td><td>0.00258475624245</td><td>0.0713839316714</td><td>0.0585244738709</td><td>0.00863611542824</td><td>0.00703894885031</td><td>11.1500938086</td><td>91.392120075</td></tr><tr><td>16540</td><td>1</td><td>20</td><td>0.000669223942699</td><td>0.120372767279</td><td>0.156909788868</td><td>0.0156470825762</td><td>0.0205958304466</td><td>12.8913043478</td><td>100.297101449</td></tr><tr><td>49445</td><td>1</td><td>20</td><td>0.000615880005237</td><td>0.0685944855414</td><td>0.0635838150289</td><td>0.00837197849551</td><td>0.00725525299161</td><td>13.8818897638</td><td>108.299212598</td></tr><tr><td>9431</td><td>1</td><td>20</td><td>0.000935943630006</td><td>0.0774662957415</td><td>0.0537873965627</td><td>0.00909410641612</td><td>0.0061669829222</td><td>7.93264248705</td><td>64.2590673575</td></tr><tr><td>10654</td><td>1</td><td>20</td><td>0.000387955908811</td><td>0.0764840182648</td><td>0.0584415584416</td><td>0.00778752833149</td><td>0.00606809753905</td><td>10.35</td><td>103.85</td></tr><tr><td>26870</td><td>1</td><td>20</td><td>0.000737116226741</td><td>0.0843142622502</td><td>0.0727951469902</td><td>0.00987559317686</td><td>0.00816925010473</td><td>9.93421052632</td><td>79.5526315789</td></tr><tr><td>8121</td><td>1</td><td>20</td><td>0.00070317008472</td><td>0.0611981962637</td><td>0.038503850385</td><td>0.00803631852019</td><td>0.00499696612771</td><td>7.04137931034</td><td>51.3586206897</td></tr><tr><td>5653</td><td>1</td><td>20</td><td>0.00157607087954</td><td>0.131247514252</td><td>0.161721789883</td><td>0.0152605860682</td><td>0.0186803000084</td><td>10.5569230769</td><td>90.0738461538</td></tr><tr><td>4977</td><td>1</td><td>20</td><td>0.00148878080006</td><td>0.0721549636804</td><td>0.0589916309451</td><td>0.00872889175295</td><td>0.0069249754391</td><td>10.9478827362</td><td>86.4690553746</td></tr><tr><td>34141</td><td>1</td><td>20</td><td>0.00034916031793</td><td>0.1</td><td>0.0946051602815</td><td>0.0121866515123</td><td>0.0118129454261</td><td>9.04166666667</td><td>77.6944444444</td></tr><tr><td>30763</td><td>1</td><td>20</td><td>0.000940793078867</td><td>0.0599653379549</td><td>0.0377264829983</td><td>0.00755887621794</td><td>0.00469759248385</td><td>8.97422680412</td><td>69.1597938144</td></tr><tr><td>42735</td><td>1</td><td>20</td><td>0.00225984316882</td><td>0.0962202704036</td><td>0.0957486832205</td><td>0.0101744792754</td><td>0.0101235108097</td><td>10.3369098712</td><td>97.7446351931</td></tr><tr><td>21384</td><td>1</td><td>20</td><td>0.00105233040265</td><td>0.123502126015</td><td>0.125074096028</td><td>0.014794748906</td><td>0.0140694805628</td><td>8.29493087558</td><td>60.8156682028</td></tr><tr><td>48474</td><td>1</td><td>20</td><td>0.000257020789587</td><td>0.0770533446232</td><td>0.0524861878453</td><td>0.00868983957219</td><td>0.00606157281863</td><td>8.62264150943</td><td>79.3018867925</td></tr><tr><td>33399</td><td>1</td><td>20</td><td>0.00121236221503</td><td>0.0706787963611</td><td>0.0648689900789</td><td>0.00854455009983</td><td>0.00768906042697</td><td>12.856</td><td>103.752</td></tr><tr><td>22281</td><td>1</td><td>20</td><td>0.0109500555262</td><td>0.0683343104684</td><td>0.0600092893637</td><td>0.00836089746144</td><td>0.00723244974045</td><td>12.8914968999</td><td>103.58768822</td></tr><tr><td>26352</td><td>1</td><td>20</td><td>0.0014839313512</td><td>0.0830510770898</td><td>0.0646860514117</td><td>0.00998891930648</td><td>0.00721571945659</td><td>8.61111111111</td><td>61.5098039216</td></tr><tr><td>11888</td><td>1</td><td>20</td><td>0.0015324258398</td><td>0.125271357426</td><td>0.133239831697</td><td>0.0145784726041</td><td>0.0152184360482</td><td>8.98734177215</td><td>74.664556962</td></tr><tr><td>5351</td><td>1</td><td>20</td><td>0.000819556857363</td><td>0.158227848101</td><td>0.176499752107</td><td>0.014601585315</td><td>0.0154206012302</td><td>7.69822485207</td><td>76.1479289941</td></tr><tr><td>40788</td><td>1</td><td>20</td><td>0.000664374493839</td><td>0.0861734552508</td><td>0.0921122286924</td><td>0.0103645937479</td><td>0.0113666056964</td><td>12.5547445255</td><td>107.284671533</td></tr><tr><td>13603</td><td>1</td><td>20</td><td>0.00180884442483</td><td>0.110287106685</td><td>0.122523844461</td><td>0.0131101707723</td><td>0.0140401025684</td><td>10.6890080429</td><td>85.3243967828</td></tr><tr><td>43221</td><td>1</td><td>20</td><td>0.00332672191805</td><td>0.116397910516</td><td>0.128388554217</td><td>0.0137864247429</td><td>0.014635193133</td><td>10.1865889213</td><td>80.8994169096</td></tr><tr><td>16178</td><td>1</td><td>20</td><td>0.000635277800678</td><td>0.0664581704457</td><td>0.044992743106</td><td>0.00822182814767</td><td>0.00557303370787</td><td>8.25190839695</td><td>66.9083969466</td></tr><tr><td>47979</td><td>1</td><td>20</td><td>0.000223074647566</td><td>0.106893106893</td><td>0.104810996564</td><td>0.0114646951677</td><td>0.0111517367459</td><td>9.10869565217</td><td>83.9782608696</td></tr></table></div>\n",
       "    <br />(rows: 49677, time: 27.3s,   644MB processed, job: job_Qr_7ZTITwZ8emGWU37H9AGXSyBg)<br />\n",
       "    <script>\n",
       "\n",
       "      require.config({\n",
       "        paths: {\n",
       "          d3: '//cdnjs.cloudflare.com/ajax/libs/d3/3.4.13/d3',\n",
       "          plotly: 'https://cdn.plot.ly/plotly-1.5.1.min.js?noext',\n",
       "          jquery: '//ajax.googleapis.com/ajax/libs/jquery/2.0.0/jquery.min'\n",
       "        },\n",
       "        map: {\n",
       "          '*': {\n",
       "            datalab: 'nbextensions/gcpdatalab'\n",
       "          }\n",
       "        },\n",
       "        shim: {\n",
       "          plotly: {\n",
       "            deps: ['d3', 'jquery'],\n",
       "            exports: 'plotly'\n",
       "          }\n",
       "        }\n",
       "      });\n",
       "\n",
       "      require(['datalab/charting', 'datalab/element!6_149922457506', 'base/js/events',\n",
       "          'datalab/style!/nbextensions/gcpdatalab/charting.css'],\n",
       "        function(charts, dom, events) {\n",
       "          charts.render('gcharts', dom, events, 'paged_table', [], {\"rows\": [{\"c\": [{\"v\": 3991}, {\"v\": 1}, {\"v\": 20}, {\"v\": 0.0005479877211954861}, {\"v\": 0.07874015748031496}, {\"v\": 0.06254980079681274}, {\"v\": 0.0097911227154047}, {\"v\": 0.0075885736381652085}, {\"v\": 8.132743362831858}, {\"v\": 60.94690265486725}]}, {\"c\": [{\"v\": 18923}, {\"v\": 1}, {\"v\": 20}, {\"v\": 0.002584756242453045}, {\"v\": 0.0713839316714117}, {\"v\": 0.058524473870891464}, {\"v\": 0.008636115428235393}, {\"v\": 0.0070389488503050214}, {\"v\": 11.150093808630398}, {\"v\": 91.39212007504692}]}, {\"c\": [{\"v\": 16540}, {\"v\": 1}, {\"v\": 20}, {\"v\": 0.0006692239426989122}, {\"v\": 0.12037276727931659}, {\"v\": 0.15690978886756238}, {\"v\": 0.015647082576216435}, {\"v\": 0.020595830446557915}, {\"v\": 12.891304347826088}, {\"v\": 100.29710144927536}]}, {\"c\": [{\"v\": 49445}, {\"v\": 1}, {\"v\": 20}, {\"v\": 0.0006158800052374048}, {\"v\": 0.06859448554135844}, {\"v\": 0.06358381502890173}, {\"v\": 0.008371978495506218}, {\"v\": 0.0072552529916140585}, {\"v\": 13.881889763779524}, {\"v\": 108.2992125984252}]}, {\"c\": [{\"v\": 9431}, {\"v\": 1}, {\"v\": 20}, {\"v\": 0.0009359436300064497}, {\"v\": 0.07746629574149369}, {\"v\": 0.053787396562698916}, {\"v\": 0.009094106416118172}, {\"v\": 0.006166982922201139}, {\"v\": 7.932642487046633}, {\"v\": 64.25906735751295}]}, {\"c\": [{\"v\": 10654}, {\"v\": 1}, {\"v\": 20}, {\"v\": 0.00038795590881096365}, {\"v\": 0.07648401826484018}, {\"v\": 0.05844155844155844}, {\"v\": 0.007787528331492997}, {\"v\": 0.006068097539049332}, {\"v\": 10.35}, {\"v\": 103.85000000000001}]}, {\"c\": [{\"v\": 26870}, {\"v\": 1}, {\"v\": 20}, {\"v\": 0.0007371162267408309}, {\"v\": 0.08431426225020532}, {\"v\": 0.07279514699020065}, {\"v\": 0.009875593176862896}, {\"v\": 0.008169250104733976}, {\"v\": 9.93421052631579}, {\"v\": 79.55263157894737}]}, {\"c\": [{\"v\": 8121}, {\"v\": 1}, {\"v\": 20}, {\"v\": 0.0007031700847198716}, {\"v\": 0.06119819626368907}, {\"v\": 0.03850385038503851}, {\"v\": 0.008036318520189488}, {\"v\": 0.004996966127708177}, {\"v\": 7.041379310344826}, {\"v\": 51.358620689655176}]}, {\"c\": [{\"v\": 5653}, {\"v\": 1}, {\"v\": 20}, {\"v\": 0.0015760708795445398}, {\"v\": 0.131247514251624}, {\"v\": 0.1617217898832685}, {\"v\": 0.015260586068163952}, {\"v\": 0.018680300008427204}, {\"v\": 10.556923076923077}, {\"v\": 90.07384615384616}]}, {\"c\": [{\"v\": 4977}, {\"v\": 1}, {\"v\": 20}, {\"v\": 0.001488780800062073}, {\"v\": 0.07215496368038742}, {\"v\": 0.058991630945090835}, {\"v\": 0.008728891752954788}, {\"v\": 0.006924975439100952}, {\"v\": 10.947882736156352}, {\"v\": 86.46905537459284}]}, {\"c\": [{\"v\": 34141}, {\"v\": 1}, {\"v\": 20}, {\"v\": 0.00034916031792986727}, {\"v\": 0.1}, {\"v\": 0.0946051602814699}, {\"v\": 0.012186651512281366}, {\"v\": 0.011812945426144684}, {\"v\": 9.041666666666668}, {\"v\": 77.69444444444444}]}, {\"c\": [{\"v\": 30763}, {\"v\": 1}, {\"v\": 20}, {\"v\": 0.0009407930788665869}, {\"v\": 0.05996533795493934}, {\"v\": 0.037726482998262596}, {\"v\": 0.007558876217940315}, {\"v\": 0.004697592483852026}, {\"v\": 8.97422680412371}, {\"v\": 69.159793814433}]}, {\"c\": [{\"v\": 42735}, {\"v\": 1}, {\"v\": 20}, {\"v\": 0.002259843168823863}, {\"v\": 0.0962202704036317}, {\"v\": 0.09574868322046652}, {\"v\": 0.010174479275368369}, {\"v\": 0.010123510809681975}, {\"v\": 10.336909871244636}, {\"v\": 97.74463519313305}]}, {\"c\": [{\"v\": 21384}, {\"v\": 1}, {\"v\": 20}, {\"v\": 0.0010523304026497388}, {\"v\": 0.12350212601468882}, {\"v\": 0.12507409602845287}, {\"v\": 0.014794748906022087}, {\"v\": 0.014069480562779223}, {\"v\": 8.294930875576037}, {\"v\": 60.81566820276499}]}, {\"c\": [{\"v\": 48474}, {\"v\": 1}, {\"v\": 20}, {\"v\": 0.0002570207895872634}, {\"v\": 0.07705334462320068}, {\"v\": 0.052486187845303865}, {\"v\": 0.008689839572192513}, {\"v\": 0.006061572818631361}, {\"v\": 8.622641509433961}, {\"v\": 79.30188679245283}]}, {\"c\": [{\"v\": 33399}, {\"v\": 1}, {\"v\": 20}, {\"v\": 0.0012123622150342613}, {\"v\": 0.07067879636109167}, {\"v\": 0.06486899007886034}, {\"v\": 0.008544550099827417}, {\"v\": 0.007689060426969003}, {\"v\": 12.856000000000002}, {\"v\": 103.75200000000001}]}, {\"c\": [{\"v\": 22281}, {\"v\": 1}, {\"v\": 20}, {\"v\": 0.010950055526189448}, {\"v\": 0.06833431046837339}, {\"v\": 0.06000928936367859}, {\"v\": 0.008360897461443431}, {\"v\": 0.007232449740445367}, {\"v\": 12.891496899911424}, {\"v\": 103.58768821966342}]}, {\"c\": [{\"v\": 26352}, {\"v\": 1}, {\"v\": 20}, {\"v\": 0.001483931351201936}, {\"v\": 0.08305107708982523}, {\"v\": 0.06468605141171513}, {\"v\": 0.009988919306478947}, {\"v\": 0.007215719456588164}, {\"v\": 8.611111111111114}, {\"v\": 61.50980392156861}]}, {\"c\": [{\"v\": 11888}, {\"v\": 1}, {\"v\": 20}, {\"v\": 0.0015324258398033063}, {\"v\": 0.12527135742561615}, {\"v\": 0.1332398316970547}, {\"v\": 0.014578472604062951}, {\"v\": 0.015218436048241298}, {\"v\": 8.987341772151899}, {\"v\": 74.66455696202532}]}, {\"c\": [{\"v\": 5351}, {\"v\": 1}, {\"v\": 20}, {\"v\": 0.0008195568573631606}, {\"v\": 0.15822784810126583}, {\"v\": 0.17649975210708974}, {\"v\": 0.014601585314977055}, {\"v\": 0.015420601230182795}, {\"v\": 7.698224852071006}, {\"v\": 76.14792899408285}]}, {\"c\": [{\"v\": 40788}, {\"v\": 1}, {\"v\": 20}, {\"v\": 0.0006643744938387752}, {\"v\": 0.08617345525076199}, {\"v\": 0.09211222869242985}, {\"v\": 0.010364593747917083}, {\"v\": 0.011366605696367911}, {\"v\": 12.554744525547447}, {\"v\": 107.28467153284673}]}, {\"c\": [{\"v\": 13603}, {\"v\": 1}, {\"v\": 20}, {\"v\": 0.001808844424831118}, {\"v\": 0.1102871066850302}, {\"v\": 0.12252384446074835}, {\"v\": 0.013110170772253286}, {\"v\": 0.014040102568413973}, {\"v\": 10.689008042895447}, {\"v\": 85.32439678284182}]}, {\"c\": [{\"v\": 43221}, {\"v\": 1}, {\"v\": 20}, {\"v\": 0.003326721918054013}, {\"v\": 0.11639791051555758}, {\"v\": 0.12838855421686746}, {\"v\": 0.013786424742933616}, {\"v\": 0.01463519313304721}, {\"v\": 10.1865889212828}, {\"v\": 80.89941690962102}]}, {\"c\": [{\"v\": 16178}, {\"v\": 1}, {\"v\": 20}, {\"v\": 0.0006352778006779529}, {\"v\": 0.06645817044566067}, {\"v\": 0.04499274310595065}, {\"v\": 0.008221828147670482}, {\"v\": 0.005573033707865168}, {\"v\": 8.251908396946565}, {\"v\": 66.90839694656488}]}, {\"c\": [{\"v\": 47979}, {\"v\": 1}, {\"v\": 20}, {\"v\": 0.0002230746475663041}, {\"v\": 0.1068931068931069}, {\"v\": 0.10481099656357389}, {\"v\": 0.01146469516768456}, {\"v\": 0.011151736745886655}, {\"v\": 9.108695652173914}, {\"v\": 83.9782608695652}]}], \"cols\": [{\"type\": \"number\", \"id\": \"product_id\", \"label\": \"product_id\"}, {\"type\": \"number\", \"id\": \"aisle_id\", \"label\": \"aisle_id\"}, {\"type\": \"number\", \"id\": \"department_id\", \"label\": \"department_id\"}, {\"type\": \"number\", \"id\": \"perc_users\", \"label\": \"perc_users\"}, {\"type\": \"number\", \"id\": \"perc_all_orders\", \"label\": \"perc_all_orders\"}, {\"type\": \"number\", \"id\": \"perc_reorders\", \"label\": \"perc_reorders\"}, {\"type\": \"number\", \"id\": \"orders_per_day\", \"label\": \"orders_per_day\"}, {\"type\": \"number\", \"id\": \"reorders_per_day\", \"label\": \"reorders_per_day\"}, {\"type\": \"number\", \"id\": \"avg_first_order_number\", \"label\": \"avg_first_order_number\"}, {\"type\": \"number\", \"id\": \"avg_first_order_day\", \"label\": \"avg_first_order_day\"}]},\n",
       "            {\n",
       "              pageSize: 25,\n",
       "              cssClassNames:  {\n",
       "                tableRow: 'gchart-table-row',\n",
       "                headerRow: 'gchart-table-headerrow',\n",
       "                oddTableRow: 'gchart-table-oddrow',\n",
       "                selectedTableRow: 'gchart-table-selectedrow',\n",
       "                hoverTableRow: 'gchart-table-hoverrow',\n",
       "                tableCell: 'gchart-table-cell',\n",
       "                headerCell: 'gchart-table-headercell',\n",
       "                rowNumberCell: 'gchart-table-rownumcell'\n",
       "              }\n",
       "            },\n",
       "            {source_index: 5, fields: 'product_id,aisle_id,department_id,perc_users,perc_all_orders,perc_reorders,orders_per_day,reorders_per_day,avg_first_order_number,avg_first_order_day'},\n",
       "            0,\n",
       "            49677);\n",
       "        }\n",
       "      );\n",
       "    </script>\n",
       "  "
      ],
      "text/plain": [
       "QueryResultsTable job_Qr_7ZTITwZ8emGWU37H9AGXSyBg"
      ]
     },
     "execution_count": 22,
     "metadata": {},
     "output_type": "execute_result"
    }
   ],
   "source": [
    "%%bq execute -q product_features_q -t instacart.product_features  -m overwrite"
   ]
  },
  {
   "cell_type": "markdown",
   "metadata": {},
   "source": [
    "## Time-of-Day Features\n",
    "\n",
    "For each aisle/department (aisles roll up into departments), compute how much more likely to purchase at that time of day"
   ]
  },
  {
   "cell_type": "code",
   "execution_count": 23,
   "metadata": {
    "collapsed": true
   },
   "outputs": [],
   "source": [
    "%%bq query -n tod_features_q\n",
    "WITH temp AS (\n",
    "  SELECT orders.order_hour_of_day, orders.order_dow, products.aisle_id, products.department_id, COUNT(*) AS `n_product`\n",
    "  FROM instacart.order_products__prior AS op\n",
    "  INNER JOIN instacart.orders AS orders ON orders.order_id = op.order_id\n",
    "  INNER JOIN instacart.products AS products ON op.product_id = products.product_id\n",
    "  GROUP BY 1,2,3,4\n",
    ")\n",
    "SELECT order_hour_of_day, order_dow, aisle_id,\n",
    "  n_aisle / n_aisle_total / (n_hod_dow / n_total) AS `aisle_tod_factor`,\n",
    "  n_department / n_department_total / (n_hod_dow / n_total) AS `department_tod_factor`\n",
    "FROM (\n",
    "  SELECT order_hour_of_day, order_dow, aisle_id, department_id,\n",
    "  SUM(n_product) OVER (PARTITION BY order_hour_of_day, order_dow, aisle_id) AS `n_aisle`,\n",
    "  SUM(n_product) OVER (PARTITION BY aisle_id) AS `n_aisle_total`,\n",
    "  SUM(n_product) OVER (PARTITION BY order_hour_of_day, order_dow, department_id) AS `n_department`,\n",
    "  SUM(n_product) OVER (PARTITION BY department_id) AS `n_department_total`,\n",
    "  SUM(n_product) OVER (PARTITION BY order_hour_of_day, order_dow) AS `n_hod_dow`,\n",
    "  SUM(n_product) OVER () AS `n_total`\n",
    "  FROM temp  \n",
    ") AS x"
   ]
  },
  {
   "cell_type": "code",
   "execution_count": 24,
   "metadata": {
    "collapsed": false
   },
   "outputs": [
    {
     "data": {
      "text/html": [
       "\n",
       "    <div class=\"bqtv\" id=\"7_149922458453\"><table><tr><th>order_hour_of_day</th><th>order_dow</th><th>aisle_id</th><th>aisle_tod_factor</th><th>department_tod_factor</th></tr><tr><td>0</td><td>0</td><td>42</td><td>1.12506953707</td><td>1.03820471102</td></tr><tr><td>0</td><td>1</td><td>121</td><td>0.969767077743</td><td>0.976670005749</td></tr><tr><td>0</td><td>1</td><td>75</td><td>0.750229261962</td><td>0.84709907909</td></tr><tr><td>0</td><td>1</td><td>30</td><td>0.757928782579</td><td>0.993185046789</td></tr><tr><td>0</td><td>2</td><td>91</td><td>1.09911715562</td><td>0.933852855977</td></tr><tr><td>0</td><td>2</td><td>39</td><td>1.5362940842</td><td>1.01095089885</td></tr><tr><td>0</td><td>3</td><td>9</td><td>1.06836128135</td><td>1.07145450316</td></tr><tr><td>0</td><td>3</td><td>31</td><td>1.04765175126</td><td>0.96805247547</td></tr><tr><td>0</td><td>4</td><td>99</td><td>1.20382845955</td><td>1.00984133369</td></tr><tr><td>0</td><td>4</td><td>71</td><td>1.21844673017</td><td>0.946164036667</td></tr><tr><td>0</td><td>4</td><td>76</td><td>1.48533436841</td><td>1.003882381</td></tr><tr><td>0</td><td>5</td><td>51</td><td>0.90978680107</td><td>1.12182363809</td></tr><tr><td>0</td><td>5</td><td>91</td><td>1.0500927913</td><td>0.922572708994</td></tr><tr><td>0</td><td>5</td><td>102</td><td>2.04867367844</td><td>0.850357504474</td></tr><tr><td>0</td><td>6</td><td>3</td><td>0.715679464478</td><td>0.896304101199</td></tr><tr><td>1</td><td>0</td><td>92</td><td>0.45183575072</td><td>0.48250983027</td></tr><tr><td>1</td><td>0</td><td>128</td><td>0.789698975799</td><td>0.854158336261</td></tr><tr><td>1</td><td>0</td><td>79</td><td>1.00313694165</td><td>1.15195487256</td></tr><tr><td>1</td><td>0</td><td>84</td><td>0.861435999363</td><td>0.936276131016</td></tr><tr><td>1</td><td>1</td><td>81</td><td>1.08620487219</td><td>1.00583952005</td></tr><tr><td>1</td><td>1</td><td>52</td><td>0.898708749336</td><td>1.1073671011</td></tr><tr><td>1</td><td>1</td><td>100</td><td>1.28191766395</td><td>1.28191766395</td></tr><tr><td>1</td><td>2</td><td>16</td><td>1.09730810789</td><td>1.04199833003</td></tr><tr><td>1</td><td>2</td><td>86</td><td>0.96552358786</td><td>0.940713354964</td></tr><tr><td>1</td><td>2</td><td>28</td><td>0.752034787843</td><td>0.760288058445</td></tr></table></div>\n",
       "    <br />(rows: 22478, time: 8.2s,   602MB processed, job: job_0GhJIeGBBVMNxMbnQRD0XQRirQw)<br />\n",
       "    <script>\n",
       "\n",
       "      require.config({\n",
       "        paths: {\n",
       "          d3: '//cdnjs.cloudflare.com/ajax/libs/d3/3.4.13/d3',\n",
       "          plotly: 'https://cdn.plot.ly/plotly-1.5.1.min.js?noext',\n",
       "          jquery: '//ajax.googleapis.com/ajax/libs/jquery/2.0.0/jquery.min'\n",
       "        },\n",
       "        map: {\n",
       "          '*': {\n",
       "            datalab: 'nbextensions/gcpdatalab'\n",
       "          }\n",
       "        },\n",
       "        shim: {\n",
       "          plotly: {\n",
       "            deps: ['d3', 'jquery'],\n",
       "            exports: 'plotly'\n",
       "          }\n",
       "        }\n",
       "      });\n",
       "\n",
       "      require(['datalab/charting', 'datalab/element!7_149922458453', 'base/js/events',\n",
       "          'datalab/style!/nbextensions/gcpdatalab/charting.css'],\n",
       "        function(charts, dom, events) {\n",
       "          charts.render('gcharts', dom, events, 'paged_table', [], {\"rows\": [{\"c\": [{\"v\": 0}, {\"v\": 0}, {\"v\": 42}, {\"v\": 1.1250695370657458}, {\"v\": 1.0382047110175485}]}, {\"c\": [{\"v\": 0}, {\"v\": 1}, {\"v\": 121}, {\"v\": 0.9697670777427266}, {\"v\": 0.9766700057487794}]}, {\"c\": [{\"v\": 0}, {\"v\": 1}, {\"v\": 75}, {\"v\": 0.7502292619619157}, {\"v\": 0.8470990790896004}]}, {\"c\": [{\"v\": 0}, {\"v\": 1}, {\"v\": 30}, {\"v\": 0.7579287825792036}, {\"v\": 0.9931850467888138}]}, {\"c\": [{\"v\": 0}, {\"v\": 2}, {\"v\": 91}, {\"v\": 1.0991171556151644}, {\"v\": 0.9338528559768804}]}, {\"c\": [{\"v\": 0}, {\"v\": 2}, {\"v\": 39}, {\"v\": 1.5362940841991874}, {\"v\": 1.0109508988474047}]}, {\"c\": [{\"v\": 0}, {\"v\": 3}, {\"v\": 9}, {\"v\": 1.0683612813485406}, {\"v\": 1.071454503157112}]}, {\"c\": [{\"v\": 0}, {\"v\": 3}, {\"v\": 31}, {\"v\": 1.04765175125643}, {\"v\": 0.9680524754700732}]}, {\"c\": [{\"v\": 0}, {\"v\": 4}, {\"v\": 99}, {\"v\": 1.203828459549128}, {\"v\": 1.0098413336865246}]}, {\"c\": [{\"v\": 0}, {\"v\": 4}, {\"v\": 71}, {\"v\": 1.2184467301728814}, {\"v\": 0.9461640366671431}]}, {\"c\": [{\"v\": 0}, {\"v\": 4}, {\"v\": 76}, {\"v\": 1.4853343684135396}, {\"v\": 1.00388238100341}]}, {\"c\": [{\"v\": 0}, {\"v\": 5}, {\"v\": 51}, {\"v\": 0.9097868010702077}, {\"v\": 1.1218236380867121}]}, {\"c\": [{\"v\": 0}, {\"v\": 5}, {\"v\": 91}, {\"v\": 1.050092791295134}, {\"v\": 0.9225727089938092}]}, {\"c\": [{\"v\": 0}, {\"v\": 5}, {\"v\": 102}, {\"v\": 2.0486736784393833}, {\"v\": 0.8503575044740496}]}, {\"c\": [{\"v\": 0}, {\"v\": 6}, {\"v\": 3}, {\"v\": 0.7156794644784187}, {\"v\": 0.8963041011988986}]}, {\"c\": [{\"v\": 1}, {\"v\": 0}, {\"v\": 92}, {\"v\": 0.45183575072000387}, {\"v\": 0.48250983027031713}]}, {\"c\": [{\"v\": 1}, {\"v\": 0}, {\"v\": 128}, {\"v\": 0.7896989757989519}, {\"v\": 0.8541583362608252}]}, {\"c\": [{\"v\": 1}, {\"v\": 0}, {\"v\": 79}, {\"v\": 1.0031369416537617}, {\"v\": 1.1519548725626898}]}, {\"c\": [{\"v\": 1}, {\"v\": 0}, {\"v\": 84}, {\"v\": 0.861435999362507}, {\"v\": 0.936276131015531}]}, {\"c\": [{\"v\": 1}, {\"v\": 1}, {\"v\": 81}, {\"v\": 1.0862048721877282}, {\"v\": 1.0058395200526928}]}, {\"c\": [{\"v\": 1}, {\"v\": 1}, {\"v\": 52}, {\"v\": 0.8987087493363431}, {\"v\": 1.1073671011009154}]}, {\"c\": [{\"v\": 1}, {\"v\": 1}, {\"v\": 100}, {\"v\": 1.281917663947264}, {\"v\": 1.281917663947264}]}, {\"c\": [{\"v\": 1}, {\"v\": 2}, {\"v\": 16}, {\"v\": 1.097308107885643}, {\"v\": 1.0419983300316051}]}, {\"c\": [{\"v\": 1}, {\"v\": 2}, {\"v\": 86}, {\"v\": 0.9655235878598558}, {\"v\": 0.940713354964225}]}, {\"c\": [{\"v\": 1}, {\"v\": 2}, {\"v\": 28}, {\"v\": 0.7520347878433488}, {\"v\": 0.760288058445022}]}], \"cols\": [{\"type\": \"number\", \"id\": \"order_hour_of_day\", \"label\": \"order_hour_of_day\"}, {\"type\": \"number\", \"id\": \"order_dow\", \"label\": \"order_dow\"}, {\"type\": \"number\", \"id\": \"aisle_id\", \"label\": \"aisle_id\"}, {\"type\": \"number\", \"id\": \"aisle_tod_factor\", \"label\": \"aisle_tod_factor\"}, {\"type\": \"number\", \"id\": \"department_tod_factor\", \"label\": \"department_tod_factor\"}]},\n",
       "            {\n",
       "              pageSize: 25,\n",
       "              cssClassNames:  {\n",
       "                tableRow: 'gchart-table-row',\n",
       "                headerRow: 'gchart-table-headerrow',\n",
       "                oddTableRow: 'gchart-table-oddrow',\n",
       "                selectedTableRow: 'gchart-table-selectedrow',\n",
       "                hoverTableRow: 'gchart-table-hoverrow',\n",
       "                tableCell: 'gchart-table-cell',\n",
       "                headerCell: 'gchart-table-headercell',\n",
       "                rowNumberCell: 'gchart-table-rownumcell'\n",
       "              }\n",
       "            },\n",
       "            {source_index: 0, fields: 'order_hour_of_day,order_dow,aisle_id,aisle_tod_factor,department_tod_factor'},\n",
       "            0,\n",
       "            22478);\n",
       "        }\n",
       "      );\n",
       "    </script>\n",
       "  "
      ],
      "text/plain": [
       "QueryResultsTable job_0GhJIeGBBVMNxMbnQRD0XQRirQw"
      ]
     },
     "execution_count": 24,
     "metadata": {},
     "output_type": "execute_result"
    }
   ],
   "source": [
    "%%bq execute -q tod_features_q -t instacart.tod_features  -m overwrite"
   ]
  },
  {
   "cell_type": "markdown",
   "metadata": {},
   "source": [
    "## Model Universe\n",
    "\n",
    "Assemble model universe with all features"
   ]
  },
  {
   "cell_type": "code",
   "execution_count": 28,
   "metadata": {
    "collapsed": true
   },
   "outputs": [],
   "source": [
    "%%bq query -n reorder_model_universe_q\n",
    "SELECT\n",
    "upf.user_id,\n",
    "upf.product_id,\n",
    "pf.aisle_id,\n",
    "pf.department_id,\n",
    "upf.order_id,\n",
    "upf.eval_set,\n",
    "upf.order_hour_of_day,\n",
    "upf.order_dow,\n",
    "upf.is_ordered,\n",
    "upf.perc_all_orders AS `upf_perc_all_orders`,\n",
    "upf.perc_reorder AS `upf_perc_reorder`,\n",
    "upf.orders_per_day AS `upf_orders_per_day`,\n",
    "upf.reorders_per_day AS `upf_reorders_per_day`,\n",
    "upf.first_order_number AS `upf_first_order_number`,\n",
    "upf.first_order_day AS `upf_first_order_day`,\n",
    "upf.last_order_number AS `upf_last_order_number`,\n",
    "upf.last_order_day AS `upf_last_order_day`,\n",
    "upf.days_since_last_order AS `upf_days_since_last_order`,\n",
    "upf.orders_since_last_order AS `upf_orders_since_last_order`,\n",
    "uf.num_orders AS `uf_num_orders`,\n",
    "uf.avg_days_bw_orders AS `uf_avg_days_bw_orders`,\n",
    "uf.num_products AS `uf_num_products`,\n",
    "uf.num_aisles AS `uf_num_aisles`,\n",
    "uf.num_departments AS `uf_num_departments`,\n",
    "pf.perc_users AS `pf_perc_users`,\n",
    "pf.perc_all_orders AS `pf_perc_all_orders`,\n",
    "pf.perc_reorders AS `pf_perc_reorders`,\n",
    "pf.orders_per_day AS `pf_orders_per_day`,\n",
    "pf.reorders_per_day AS `pf_reorders_per_day`,\n",
    "pf.avg_first_order_number AS `pf_avg_first_order_number`,\n",
    "pf.avg_first_order_day AS `pf_avg_first_order_day`,\n",
    "tf.aisle_tod_factor AS `tf_aisle_tod_factor`,\n",
    "tf.department_tod_factor AS `tf_department_tod_factor`\n",
    "FROM instacart.user_products_features AS upf\n",
    "INNER JOIN instacart.user_features AS uf ON upf.user_id = uf.user_id\n",
    "INNER JOIN instacart.product_features AS pf ON upf.product_id = pf.product_id\n",
    "LEFT JOIN instacart.tod_features AS tf ON pf.aisle_id = tf.aisle_id AND upf.order_hour_of_day = tf.order_hour_of_day AND upf.order_dow = tf.order_dow"
   ]
  },
  {
   "cell_type": "code",
   "execution_count": 29,
   "metadata": {
    "collapsed": false
   },
   "outputs": [
    {
     "data": {
      "text/html": [
       "\n",
       "    <div class=\"bqtv\" id=\"8_149922467725\"><table><tr><th>user_id</th><th>product_id</th><th>aisle_id</th><th>department_id</th><th>order_id</th><th>eval_set</th><th>order_hour_of_day</th><th>order_dow</th><th>is_ordered</th><th>upf_perc_all_orders</th><th>upf_perc_reorder</th><th>upf_orders_per_day</th><th>upf_reorders_per_day</th><th>upf_first_order_number</th><th>upf_first_order_day</th><th>upf_last_order_number</th><th>upf_last_order_day</th><th>upf_days_since_last_order</th><th>upf_orders_since_last_order</th><th>uf_num_orders</th><th>uf_avg_days_bw_orders</th><th>uf_num_products</th><th>uf_num_aisles</th><th>uf_num_departments</th><th>pf_perc_users</th><th>pf_perc_all_orders</th><th>pf_perc_reorders</th><th>pf_orders_per_day</th><th>pf_reorders_per_day</th><th>pf_avg_first_order_number</th><th>pf_avg_first_order_day</th><th>tf_aisle_tod_factor</th><th>tf_department_tod_factor</th></tr><tr><td>149065</td><td>19733</td><td>1</td><td>20</td><td>2725399</td><td>test</td><td>13</td><td>6</td><td>&nbsp;</td><td>0.1</td><td>0.0625</td><td>0.00671140939597</td><td>0.00367647058824</td><td>4</td><td>26.0</td><td>14</td><td>174.0</td><td>142.0</td><td>8</td><td>20</td><td>14.9</td><td>142</td><td>57</td><td>16</td><td>4.36450397412e-05</td><td>0.0970149253731</td><td>0.05</td><td>0.0089224433768</td><td>0.00433369447454</td><td>6.0</td><td>59.3333333333</td><td>1.00008403705</td><td>1.00278748826</td></tr><tr><td>84370</td><td>45749</td><td>1</td><td>20</td><td>2164940</td><td>train</td><td>11</td><td>4</td><td>0</td><td>0.04</td><td>0.0</td><td>0.00305810397554</td><td>0.0</td><td>10</td><td>130.0</td><td>10</td><td>130.0</td><td>220.0</td><td>17</td><td>25</td><td>13.08</td><td>71</td><td>36</td><td>14</td><td>1.45483465804e-05</td><td>0.0348837209302</td><td>0.0</td><td>0.00364077669903</td><td>0.0</td><td>11.0</td><td>98.0</td><td>1.01616495634</td><td>0.970616180946</td></tr><tr><td>85172</td><td>32608</td><td>1</td><td>20</td><td>831883</td><td>train</td><td>20</td><td>3</td><td>0</td><td>0.0555555555556</td><td>0.0</td><td>0.00471698113208</td><td>0.0</td><td>4</td><td>20.0</td><td>4</td><td>20.0</td><td>200.0</td><td>16</td><td>18</td><td>11.7777777778</td><td>145</td><td>66</td><td>17</td><td>0.000101838426063</td><td>0.103238866397</td><td>0.123966942149</td><td>0.0108119567522</td><td>0.0137741046832</td><td>12.0</td><td>120.904761905</td><td>0.815051383319</td><td>0.936683934879</td></tr><tr><td>99992</td><td>32608</td><td>1</td><td>20</td><td>1602980</td><td>train</td><td>12</td><td>6</td><td>0</td><td>0.1</td><td>0.0</td><td>0.00520833333333</td><td>0.0</td><td>6</td><td>138.0</td><td>6</td><td>138.0</td><td>69.0</td><td>6</td><td>10</td><td>19.2</td><td>38</td><td>28</td><td>14</td><td>0.000101838426063</td><td>0.103238866397</td><td>0.123966942149</td><td>0.0108119567522</td><td>0.0137741046832</td><td>12.0</td><td>120.904761905</td><td>0.993429193389</td><td>1.01933048798</td></tr><tr><td>20082</td><td>886</td><td>1</td><td>20</td><td>2270796</td><td>test</td><td>15</td><td>1</td><td>&nbsp;</td><td>0.030303030303</td><td>0.0</td><td>0.00303951367781</td><td>0.0</td><td>27</td><td>189.0</td><td>27</td><td>189.0</td><td>142.0</td><td>8</td><td>33</td><td>9.9696969697</td><td>118</td><td>45</td><td>14</td><td>5.81933863216e-05</td><td>0.0677966101695</td><td>0.0606060606061</td><td>0.00867992766727</td><td>0.00749531542786</td><td>13.0</td><td>97.0</td><td>0.967258800591</td><td>1.01640493588</td></tr><tr><td>40858</td><td>38612</td><td>1</td><td>20</td><td>2281001</td><td>test</td><td>16</td><td>3</td><td>&nbsp;</td><td>0.142857142857</td><td>&nbsp;</td><td>0.0117647058824</td><td>&nbsp;</td><td>7</td><td>85.0</td><td>7</td><td>85.0</td><td>30.0</td><td>2</td><td>7</td><td>12.1428571429</td><td>73</td><td>31</td><td>14</td><td>5.81933863216e-05</td><td>0.11961722488</td><td>0.276595744681</td><td>0.0119846596357</td><td>0.0283224400871</td><td>13.5</td><td>135.583333333</td><td>1.0493382745</td><td>1.02882561029</td></tr><tr><td>150952</td><td>8946</td><td>1</td><td>20</td><td>710983</td><td>train</td><td>8</td><td>0</td><td>0</td><td>0.0384615384615</td><td>0.0</td><td>0.00325732899023</td><td>0.0</td><td>9</td><td>69.0</td><td>9</td><td>69.0</td><td>245.0</td><td>19</td><td>26</td><td>11.8076923077</td><td>164</td><td>55</td><td>14</td><td>5.33439374615e-05</td><td>0.10248447205</td><td>0.162962962963</td><td>0.0122676579926</td><td>0.0160466812546</td><td>17.0</td><td>119.909090909</td><td>0.954827042005</td><td>1.00653520805</td></tr><tr><td>7603</td><td>8946</td><td>1</td><td>20</td><td>155622</td><td>train</td><td>16</td><td>1</td><td>0</td><td>0.0740740740741</td><td>0.05</td><td>0.00714285714286</td><td>0.00526315789474</td><td>7</td><td>90.0</td><td>8</td><td>100.0</td><td>210.0</td><td>21</td><td>27</td><td>10.3703703704</td><td>107</td><td>54</td><td>17</td><td>5.33439374615e-05</td><td>0.10248447205</td><td>0.162962962963</td><td>0.0122676579926</td><td>0.0160466812546</td><td>17.0</td><td>119.909090909</td><td>1.08593697875</td><td>1.05850013785</td></tr><tr><td>118957</td><td>39897</td><td>1</td><td>20</td><td>2034622</td><td>train</td><td>14</td><td>4</td><td>0</td><td>0.25</td><td>&nbsp;</td><td>0.0166666666667</td><td>&nbsp;</td><td>4</td><td>60.0</td><td>4</td><td>60.0</td><td>9.0</td><td>2</td><td>4</td><td>15.0</td><td>67</td><td>41</td><td>14</td><td>0.000116386772643</td><td>0.0642750373692</td><td>0.0527777777778</td><td>0.0083820662768</td><td>0.00732741997686</td><td>12.875</td><td>105.708333333</td><td>1.00208341194</td><td>0.984205316964</td></tr><tr><td>113753</td><td>39897</td><td>1</td><td>20</td><td>112155</td><td>train</td><td>18</td><td>6</td><td>0</td><td>0.333333333333</td><td>&nbsp;</td><td>0.0333333333333</td><td>&nbsp;</td><td>3</td><td>30.0</td><td>3</td><td>30.0</td><td>30.0</td><td>2</td><td>3</td><td>10.0</td><td>24</td><td>16</td><td>8</td><td>0.000116386772643</td><td>0.0642750373692</td><td>0.0527777777778</td><td>0.0083820662768</td><td>0.00732741997686</td><td>12.875</td><td>105.708333333</td><td>0.974527269222</td><td>0.987221016087</td></tr><tr><td>42059</td><td>39518</td><td>1</td><td>20</td><td>2475699</td><td>test</td><td>11</td><td>1</td><td>&nbsp;</td><td>0.25</td><td>0.0</td><td>0.012987012987</td><td>0.0</td><td>3</td><td>47.0</td><td>3</td><td>47.0</td><td>60.0</td><td>3</td><td>4</td><td>19.25</td><td>70</td><td>35</td><td>11</td><td>0.000620729454098</td><td>0.0577791152573</td><td>0.0498442367601</td><td>0.0070432868672</td><td>0.005936369539</td><td>15.9296875</td><td>128.7421875</td><td>1.02276565138</td><td>1.00228755493</td></tr><tr><td>15231</td><td>39518</td><td>1</td><td>20</td><td>861938</td><td>test</td><td>15</td><td>5</td><td>&nbsp;</td><td>0.333333333333</td><td>0.0</td><td>0.0232558139535</td><td>0.0</td><td>1</td><td>0.0</td><td>1</td><td>0.0</td><td>65.0</td><td>4</td><td>3</td><td>14.3333333333</td><td>33</td><td>22</td><td>12</td><td>0.000620729454098</td><td>0.0577791152573</td><td>0.0498442367601</td><td>0.0070432868672</td><td>0.005936369539</td><td>15.9296875</td><td>128.7421875</td><td>0.919873641782</td><td>0.995336990786</td></tr><tr><td>163263</td><td>39518</td><td>1</td><td>20</td><td>1009449</td><td>train</td><td>16</td><td>2</td><td>0</td><td>0.25</td><td>0.0</td><td>0.0333333333333</td><td>0.0</td><td>1</td><td>0.0</td><td>1</td><td>0.0</td><td>56.0</td><td>5</td><td>4</td><td>7.5</td><td>40</td><td>24</td><td>10</td><td>0.000620729454098</td><td>0.0577791152573</td><td>0.0498442367601</td><td>0.0070432868672</td><td>0.005936369539</td><td>15.9296875</td><td>128.7421875</td><td>1.14594129591</td><td>1.03094464948</td></tr><tr><td>144719</td><td>39518</td><td>1</td><td>20</td><td>322006</td><td>train</td><td>22</td><td>0</td><td>0</td><td>0.5</td><td>0.333333333333</td><td>0.0408163265306</td><td>0.0204081632653</td><td>1</td><td>0.0</td><td>3</td><td>43.0</td><td>13.0</td><td>3</td><td>4</td><td>12.25</td><td>39</td><td>26</td><td>11</td><td>0.000620729454098</td><td>0.0577791152573</td><td>0.0498442367601</td><td>0.0070432868672</td><td>0.005936369539</td><td>15.9296875</td><td>128.7421875</td><td>0.977775577752</td><td>0.994320126755</td></tr><tr><td>55624</td><td>39518</td><td>1</td><td>20</td><td>1353870</td><td>train</td><td>16</td><td>6</td><td>0</td><td>0.0285714285714</td><td>0.0</td><td>0.0030487804878</td><td>0.0</td><td>24</td><td>194.0</td><td>24</td><td>194.0</td><td>140.0</td><td>13</td><td>35</td><td>9.37142857143</td><td>171</td><td>62</td><td>15</td><td>0.000620729454098</td><td>0.0577791152573</td><td>0.0498442367601</td><td>0.0070432868672</td><td>0.005936369539</td><td>15.9296875</td><td>128.7421875</td><td>1.03541872739</td><td>1.00479609147</td></tr><tr><td>169565</td><td>39518</td><td>1</td><td>20</td><td>810160</td><td>test</td><td>12</td><td>1</td><td>&nbsp;</td><td>0.166666666667</td><td>0.0</td><td>0.00869565217391</td><td>0.0</td><td>4</td><td>82.0</td><td>4</td><td>82.0</td><td>63.0</td><td>4</td><td>6</td><td>19.1666666667</td><td>42</td><td>22</td><td>11</td><td>0.000620729454098</td><td>0.0577791152573</td><td>0.0498442367601</td><td>0.0070432868672</td><td>0.005936369539</td><td>15.9296875</td><td>128.7421875</td><td>1.0946745359</td><td>1.02126844816</td></tr><tr><td>175363</td><td>39518</td><td>1</td><td>20</td><td>919484</td><td>test</td><td>6</td><td>1</td><td>&nbsp;</td><td>0.0689655172414</td><td>0.0714285714286</td><td>0.00602409638554</td><td>0.00595238095238</td><td>15</td><td>164.0</td><td>25</td><td>278.0</td><td>63.0</td><td>6</td><td>29</td><td>11.4482758621</td><td>129</td><td>52</td><td>15</td><td>0.000620729454098</td><td>0.0577791152573</td><td>0.0498442367601</td><td>0.0070432868672</td><td>0.005936369539</td><td>15.9296875</td><td>128.7421875</td><td>1.17905817289</td><td>0.947614179172</td></tr><tr><td>98708</td><td>39518</td><td>1</td><td>20</td><td>2971897</td><td>train</td><td>7</td><td>0</td><td>0</td><td>0.08</td><td>0.142857142857</td><td>0.0062893081761</td><td>0.015625</td><td>18</td><td>254.0</td><td>19</td><td>260.0</td><td>67.0</td><td>8</td><td>25</td><td>12.72</td><td>104</td><td>29</td><td>14</td><td>0.000620729454098</td><td>0.0577791152573</td><td>0.0498442367601</td><td>0.0070432868672</td><td>0.005936369539</td><td>15.9296875</td><td>128.7421875</td><td>0.905956976679</td><td>1.00127357471</td></tr><tr><td>127390</td><td>39518</td><td>1</td><td>20</td><td>2657455</td><td>train</td><td>15</td><td>3</td><td>0</td><td>0.125</td><td>0.0</td><td>0.00714285714286</td><td>0.0</td><td>7</td><td>127.0</td><td>7</td><td>127.0</td><td>25.0</td><td>3</td><td>8</td><td>17.5</td><td>50</td><td>28</td><td>11</td><td>0.000620729454098</td><td>0.0577791152573</td><td>0.0498442367601</td><td>0.0070432868672</td><td>0.005936369539</td><td>15.9296875</td><td>128.7421875</td><td>0.992915394827</td><td>0.990776690717</td></tr><tr><td>28584</td><td>39518</td><td>1</td><td>20</td><td>2586167</td><td>test</td><td>11</td><td>0</td><td>&nbsp;</td><td>0.0166666666667</td><td>0.0</td><td>0.00277008310249</td><td>0.0</td><td>30</td><td>151.0</td><td>30</td><td>151.0</td><td>213.0</td><td>32</td><td>60</td><td>6.01666666667</td><td>110</td><td>36</td><td>12</td><td>0.000620729454098</td><td>0.0577791152573</td><td>0.0498442367601</td><td>0.0070432868672</td><td>0.005936369539</td><td>15.9296875</td><td>128.7421875</td><td>1.04371604951</td><td>1.04032010147</td></tr><tr><td>61315</td><td>39518</td><td>1</td><td>20</td><td>1256493</td><td>train</td><td>10</td><td>4</td><td>0</td><td>0.0526315789474</td><td>0.0</td><td>0.0036231884058</td><td>0.0</td><td>10</td><td>169.0</td><td>10</td><td>169.0</td><td>114.0</td><td>11</td><td>19</td><td>14.5263157895</td><td>42</td><td>23</td><td>11</td><td>0.000620729454098</td><td>0.0577791152573</td><td>0.0498442367601</td><td>0.0070432868672</td><td>0.005936369539</td><td>15.9296875</td><td>128.7421875</td><td>0.993331902275</td><td>0.956555110772</td></tr><tr><td>73822</td><td>39518</td><td>1</td><td>20</td><td>2819274</td><td>train</td><td>19</td><td>1</td><td>0</td><td>0.0434782608696</td><td>0.0</td><td>0.00323624595469</td><td>0.0</td><td>20</td><td>291.0</td><td>20</td><td>291.0</td><td>28.0</td><td>5</td><td>23</td><td>13.4347826087</td><td>123</td><td>43</td><td>14</td><td>0.000620729454098</td><td>0.0577791152573</td><td>0.0498442367601</td><td>0.0070432868672</td><td>0.005936369539</td><td>15.9296875</td><td>128.7421875</td><td>1.06434720878</td><td>1.07686846977</td></tr><tr><td>205756</td><td>39518</td><td>1</td><td>20</td><td>2036927</td><td>train</td><td>12</td><td>1</td><td>0</td><td>0.0384615384615</td><td>0.0</td><td>0.00322580645161</td><td>0.0</td><td>10</td><td>124.0</td><td>10</td><td>124.0</td><td>201.0</td><td>18</td><td>26</td><td>11.9230769231</td><td>163</td><td>59</td><td>15</td><td>0.000620729454098</td><td>0.0577791152573</td><td>0.0498442367601</td><td>0.0070432868672</td><td>0.005936369539</td><td>15.9296875</td><td>128.7421875</td><td>1.0946745359</td><td>1.02126844816</td></tr><tr><td>177234</td><td>39518</td><td>1</td><td>20</td><td>3164966</td><td>test</td><td>9</td><td>4</td><td>&nbsp;</td><td>0.0243902439024</td><td>0.0</td><td>0.00286532951289</td><td>0.0</td><td>31</td><td>283.0</td><td>31</td><td>283.0</td><td>82.0</td><td>12</td><td>41</td><td>8.51219512195</td><td>207</td><td>59</td><td>16</td><td>0.000620729454098</td><td>0.0577791152573</td><td>0.0498442367601</td><td>0.0070432868672</td><td>0.005936369539</td><td>15.9296875</td><td>128.7421875</td><td>0.911785997499</td><td>0.924131570919</td></tr><tr><td>168306</td><td>2941</td><td>1</td><td>20</td><td>386326</td><td>test</td><td>16</td><td>0</td><td>&nbsp;</td><td>0.0909090909091</td><td>0.0</td><td>0.00787401574803</td><td>0.0</td><td>9</td><td>67.0</td><td>9</td><td>67.0</td><td>90.0</td><td>4</td><td>11</td><td>11.5454545455</td><td>45</td><td>25</td><td>10</td><td>7.75911817622e-05</td><td>0.0495283018868</td><td>0.0222222222222</td><td>0.00585774058577</td><td>0.00253421186011</td><td>12.4375</td><td>100.75</td><td>1.02392546775</td><td>1.08501462192</td></tr></table></div>\n",
       "    <br />(rows: 13307953, time: 34.1s,     1GB processed, job: job_4xc5m7Qf3IaOh6iCy7DFwFdDQE4)<br />\n",
       "    <script>\n",
       "\n",
       "      require.config({\n",
       "        paths: {\n",
       "          d3: '//cdnjs.cloudflare.com/ajax/libs/d3/3.4.13/d3',\n",
       "          plotly: 'https://cdn.plot.ly/plotly-1.5.1.min.js?noext',\n",
       "          jquery: '//ajax.googleapis.com/ajax/libs/jquery/2.0.0/jquery.min'\n",
       "        },\n",
       "        map: {\n",
       "          '*': {\n",
       "            datalab: 'nbextensions/gcpdatalab'\n",
       "          }\n",
       "        },\n",
       "        shim: {\n",
       "          plotly: {\n",
       "            deps: ['d3', 'jquery'],\n",
       "            exports: 'plotly'\n",
       "          }\n",
       "        }\n",
       "      });\n",
       "\n",
       "      require(['datalab/charting', 'datalab/element!8_149922467725', 'base/js/events',\n",
       "          'datalab/style!/nbextensions/gcpdatalab/charting.css'],\n",
       "        function(charts, dom, events) {\n",
       "          charts.render('gcharts', dom, events, 'paged_table', [], {\"rows\": [{\"c\": [{\"v\": 149065}, {\"v\": 19733}, {\"v\": 1}, {\"v\": 20}, {\"v\": 2725399}, {\"v\": \"test\"}, {\"v\": 13}, {\"v\": 6}, {\"v\": null}, {\"v\": 0.1}, {\"v\": 0.0625}, {\"v\": 0.006711409395973154}, {\"v\": 0.003676470588235294}, {\"v\": 4}, {\"v\": 26.0}, {\"v\": 14}, {\"v\": 174.0}, {\"v\": 142.0}, {\"v\": 8}, {\"v\": 20}, {\"v\": 14.9}, {\"v\": 142}, {\"v\": 57}, {\"v\": 16}, {\"v\": 4.364503974123341e-05}, {\"v\": 0.09701492537313433}, {\"v\": 0.05}, {\"v\": 0.008922443376801648}, {\"v\": 0.004333694474539545}, {\"v\": 6.0}, {\"v\": 59.333333333333336}, {\"v\": 1.00008403705054}, {\"v\": 1.002787488258671}]}, {\"c\": [{\"v\": 84370}, {\"v\": 45749}, {\"v\": 1}, {\"v\": 20}, {\"v\": 2164940}, {\"v\": \"train\"}, {\"v\": 11}, {\"v\": 4}, {\"v\": 0}, {\"v\": 0.04}, {\"v\": 0.0}, {\"v\": 0.0030581039755351682}, {\"v\": 0.0}, {\"v\": 10}, {\"v\": 130.0}, {\"v\": 10}, {\"v\": 130.0}, {\"v\": 220.0}, {\"v\": 17}, {\"v\": 25}, {\"v\": 13.08}, {\"v\": 71}, {\"v\": 36}, {\"v\": 14}, {\"v\": 1.4548346580411136e-05}, {\"v\": 0.03488372093023256}, {\"v\": 0.0}, {\"v\": 0.0036407766990291263}, {\"v\": 0.0}, {\"v\": 11.0}, {\"v\": 98.0}, {\"v\": 1.0161649563381336}, {\"v\": 0.9706161809457582}]}, {\"c\": [{\"v\": 85172}, {\"v\": 32608}, {\"v\": 1}, {\"v\": 20}, {\"v\": 831883}, {\"v\": \"train\"}, {\"v\": 20}, {\"v\": 3}, {\"v\": 0}, {\"v\": 0.05555555555555555}, {\"v\": 0.0}, {\"v\": 0.0047169811320754715}, {\"v\": 0.0}, {\"v\": 4}, {\"v\": 20.0}, {\"v\": 4}, {\"v\": 20.0}, {\"v\": 200.0}, {\"v\": 16}, {\"v\": 18}, {\"v\": 11.777777777777779}, {\"v\": 145}, {\"v\": 66}, {\"v\": 17}, {\"v\": 0.00010183842606287795}, {\"v\": 0.10323886639676114}, {\"v\": 0.12396694214876033}, {\"v\": 0.010811956752172992}, {\"v\": 0.013774104683195593}, {\"v\": 12.0}, {\"v\": 120.9047619047619}, {\"v\": 0.8150513833190054}, {\"v\": 0.9366839348786843}]}, {\"c\": [{\"v\": 99992}, {\"v\": 32608}, {\"v\": 1}, {\"v\": 20}, {\"v\": 1602980}, {\"v\": \"train\"}, {\"v\": 12}, {\"v\": 6}, {\"v\": 0}, {\"v\": 0.1}, {\"v\": 0.0}, {\"v\": 0.005208333333333333}, {\"v\": 0.0}, {\"v\": 6}, {\"v\": 138.0}, {\"v\": 6}, {\"v\": 138.0}, {\"v\": 69.0}, {\"v\": 6}, {\"v\": 10}, {\"v\": 19.2}, {\"v\": 38}, {\"v\": 28}, {\"v\": 14}, {\"v\": 0.00010183842606287795}, {\"v\": 0.10323886639676114}, {\"v\": 0.12396694214876033}, {\"v\": 0.010811956752172992}, {\"v\": 0.013774104683195593}, {\"v\": 12.0}, {\"v\": 120.9047619047619}, {\"v\": 0.9934291933890029}, {\"v\": 1.0193304879847718}]}, {\"c\": [{\"v\": 20082}, {\"v\": 886}, {\"v\": 1}, {\"v\": 20}, {\"v\": 2270796}, {\"v\": \"test\"}, {\"v\": 15}, {\"v\": 1}, {\"v\": null}, {\"v\": 0.030303030303030304}, {\"v\": 0.0}, {\"v\": 0.00303951367781155}, {\"v\": 0.0}, {\"v\": 27}, {\"v\": 189.0}, {\"v\": 27}, {\"v\": 189.0}, {\"v\": 142.0}, {\"v\": 8}, {\"v\": 33}, {\"v\": 9.969696969696969}, {\"v\": 118}, {\"v\": 45}, {\"v\": 14}, {\"v\": 5.8193386321644545e-05}, {\"v\": 0.06779661016949153}, {\"v\": 0.06060606060606061}, {\"v\": 0.00867992766726944}, {\"v\": 0.007495315427857589}, {\"v\": 13.0}, {\"v\": 97.0}, {\"v\": 0.9672588005913185}, {\"v\": 1.0164049358833591}]}, {\"c\": [{\"v\": 40858}, {\"v\": 38612}, {\"v\": 1}, {\"v\": 20}, {\"v\": 2281001}, {\"v\": \"test\"}, {\"v\": 16}, {\"v\": 3}, {\"v\": null}, {\"v\": 0.14285714285714285}, {\"v\": null}, {\"v\": 0.011764705882352941}, {\"v\": null}, {\"v\": 7}, {\"v\": 85.0}, {\"v\": 7}, {\"v\": 85.0}, {\"v\": 30.0}, {\"v\": 2}, {\"v\": 7}, {\"v\": 12.142857142857142}, {\"v\": 73}, {\"v\": 31}, {\"v\": 14}, {\"v\": 5.8193386321644545e-05}, {\"v\": 0.11961722488038277}, {\"v\": 0.2765957446808511}, {\"v\": 0.011984659635666348}, {\"v\": 0.02832244008714597}, {\"v\": 13.5}, {\"v\": 135.58333333333331}, {\"v\": 1.0493382744968294}, {\"v\": 1.0288256102946667}]}, {\"c\": [{\"v\": 150952}, {\"v\": 8946}, {\"v\": 1}, {\"v\": 20}, {\"v\": 710983}, {\"v\": \"train\"}, {\"v\": 8}, {\"v\": 0}, {\"v\": 0}, {\"v\": 0.038461538461538464}, {\"v\": 0.0}, {\"v\": 0.003257328990228013}, {\"v\": 0.0}, {\"v\": 9}, {\"v\": 69.0}, {\"v\": 9}, {\"v\": 69.0}, {\"v\": 245.0}, {\"v\": 19}, {\"v\": 26}, {\"v\": 11.807692307692308}, {\"v\": 164}, {\"v\": 55}, {\"v\": 14}, {\"v\": 5.33439374615075e-05}, {\"v\": 0.10248447204968944}, {\"v\": 0.16296296296296298}, {\"v\": 0.012267657992565056}, {\"v\": 0.016046681254558718}, {\"v\": 17.0}, {\"v\": 119.90909090909092}, {\"v\": 0.9548270420048234}, {\"v\": 1.0065352080527832}]}, {\"c\": [{\"v\": 7603}, {\"v\": 8946}, {\"v\": 1}, {\"v\": 20}, {\"v\": 155622}, {\"v\": \"train\"}, {\"v\": 16}, {\"v\": 1}, {\"v\": 0}, {\"v\": 0.07407407407407407}, {\"v\": 0.05}, {\"v\": 0.007142857142857143}, {\"v\": 0.005263157894736842}, {\"v\": 7}, {\"v\": 90.0}, {\"v\": 8}, {\"v\": 100.0}, {\"v\": 210.0}, {\"v\": 21}, {\"v\": 27}, {\"v\": 10.37037037037037}, {\"v\": 107}, {\"v\": 54}, {\"v\": 17}, {\"v\": 5.33439374615075e-05}, {\"v\": 0.10248447204968944}, {\"v\": 0.16296296296296298}, {\"v\": 0.012267657992565056}, {\"v\": 0.016046681254558718}, {\"v\": 17.0}, {\"v\": 119.90909090909092}, {\"v\": 1.0859369787474487}, {\"v\": 1.0585001378495316}]}, {\"c\": [{\"v\": 118957}, {\"v\": 39897}, {\"v\": 1}, {\"v\": 20}, {\"v\": 2034622}, {\"v\": \"train\"}, {\"v\": 14}, {\"v\": 4}, {\"v\": 0}, {\"v\": 0.25}, {\"v\": null}, {\"v\": 0.016666666666666666}, {\"v\": null}, {\"v\": 4}, {\"v\": 60.0}, {\"v\": 4}, {\"v\": 60.0}, {\"v\": 9.0}, {\"v\": 2}, {\"v\": 4}, {\"v\": 15.0}, {\"v\": 67}, {\"v\": 41}, {\"v\": 14}, {\"v\": 0.00011638677264328909}, {\"v\": 0.06427503736920777}, {\"v\": 0.05277777777777778}, {\"v\": 0.00838206627680312}, {\"v\": 0.007327419976860779}, {\"v\": 12.875}, {\"v\": 105.70833333333334}, {\"v\": 1.0020834119416027}, {\"v\": 0.9842053169643495}]}, {\"c\": [{\"v\": 113753}, {\"v\": 39897}, {\"v\": 1}, {\"v\": 20}, {\"v\": 112155}, {\"v\": \"train\"}, {\"v\": 18}, {\"v\": 6}, {\"v\": 0}, {\"v\": 0.3333333333333333}, {\"v\": null}, {\"v\": 0.03333333333333333}, {\"v\": null}, {\"v\": 3}, {\"v\": 30.0}, {\"v\": 3}, {\"v\": 30.0}, {\"v\": 30.0}, {\"v\": 2}, {\"v\": 3}, {\"v\": 10.0}, {\"v\": 24}, {\"v\": 16}, {\"v\": 8}, {\"v\": 0.00011638677264328909}, {\"v\": 0.06427503736920777}, {\"v\": 0.05277777777777778}, {\"v\": 0.00838206627680312}, {\"v\": 0.007327419976860779}, {\"v\": 12.875}, {\"v\": 105.70833333333334}, {\"v\": 0.9745272692222681}, {\"v\": 0.9872210160866743}]}, {\"c\": [{\"v\": 42059}, {\"v\": 39518}, {\"v\": 1}, {\"v\": 20}, {\"v\": 2475699}, {\"v\": \"test\"}, {\"v\": 11}, {\"v\": 1}, {\"v\": null}, {\"v\": 0.25}, {\"v\": 0.0}, {\"v\": 0.012987012987012988}, {\"v\": 0.0}, {\"v\": 3}, {\"v\": 47.0}, {\"v\": 3}, {\"v\": 47.0}, {\"v\": 60.0}, {\"v\": 3}, {\"v\": 4}, {\"v\": 19.25}, {\"v\": 70}, {\"v\": 35}, {\"v\": 11}, {\"v\": 0.0006207294540975418}, {\"v\": 0.05777911525729762}, {\"v\": 0.04984423676012461}, {\"v\": 0.007043286867204695}, {\"v\": 0.005936369539003803}, {\"v\": 15.9296875}, {\"v\": 128.7421875}, {\"v\": 1.0227656513809393}, {\"v\": 1.0022875549326786}]}, {\"c\": [{\"v\": 15231}, {\"v\": 39518}, {\"v\": 1}, {\"v\": 20}, {\"v\": 861938}, {\"v\": \"test\"}, {\"v\": 15}, {\"v\": 5}, {\"v\": null}, {\"v\": 0.3333333333333333}, {\"v\": 0.0}, {\"v\": 0.023255813953488372}, {\"v\": 0.0}, {\"v\": 1}, {\"v\": 0.0}, {\"v\": 1}, {\"v\": 0.0}, {\"v\": 65.0}, {\"v\": 4}, {\"v\": 3}, {\"v\": 14.333333333333334}, {\"v\": 33}, {\"v\": 22}, {\"v\": 12}, {\"v\": 0.0006207294540975418}, {\"v\": 0.05777911525729762}, {\"v\": 0.04984423676012461}, {\"v\": 0.007043286867204695}, {\"v\": 0.005936369539003803}, {\"v\": 15.9296875}, {\"v\": 128.7421875}, {\"v\": 0.9198736417819386}, {\"v\": 0.9953369907855601}]}, {\"c\": [{\"v\": 163263}, {\"v\": 39518}, {\"v\": 1}, {\"v\": 20}, {\"v\": 1009449}, {\"v\": \"train\"}, {\"v\": 16}, {\"v\": 2}, {\"v\": 0}, {\"v\": 0.25}, {\"v\": 0.0}, {\"v\": 0.03333333333333333}, {\"v\": 0.0}, {\"v\": 1}, {\"v\": 0.0}, {\"v\": 1}, {\"v\": 0.0}, {\"v\": 56.0}, {\"v\": 5}, {\"v\": 4}, {\"v\": 7.5}, {\"v\": 40}, {\"v\": 24}, {\"v\": 10}, {\"v\": 0.0006207294540975418}, {\"v\": 0.05777911525729762}, {\"v\": 0.04984423676012461}, {\"v\": 0.007043286867204695}, {\"v\": 0.005936369539003803}, {\"v\": 15.9296875}, {\"v\": 128.7421875}, {\"v\": 1.1459412959140585}, {\"v\": 1.0309446494764098}]}, {\"c\": [{\"v\": 144719}, {\"v\": 39518}, {\"v\": 1}, {\"v\": 20}, {\"v\": 322006}, {\"v\": \"train\"}, {\"v\": 22}, {\"v\": 0}, {\"v\": 0}, {\"v\": 0.5}, {\"v\": 0.3333333333333333}, {\"v\": 0.04081632653061224}, {\"v\": 0.02040816326530612}, {\"v\": 1}, {\"v\": 0.0}, {\"v\": 3}, {\"v\": 43.0}, {\"v\": 13.0}, {\"v\": 3}, {\"v\": 4}, {\"v\": 12.25}, {\"v\": 39}, {\"v\": 26}, {\"v\": 11}, {\"v\": 0.0006207294540975418}, {\"v\": 0.05777911525729762}, {\"v\": 0.04984423676012461}, {\"v\": 0.007043286867204695}, {\"v\": 0.005936369539003803}, {\"v\": 15.9296875}, {\"v\": 128.7421875}, {\"v\": 0.9777755777518068}, {\"v\": 0.994320126754985}]}, {\"c\": [{\"v\": 55624}, {\"v\": 39518}, {\"v\": 1}, {\"v\": 20}, {\"v\": 1353870}, {\"v\": \"train\"}, {\"v\": 16}, {\"v\": 6}, {\"v\": 0}, {\"v\": 0.02857142857142857}, {\"v\": 0.0}, {\"v\": 0.003048780487804878}, {\"v\": 0.0}, {\"v\": 24}, {\"v\": 194.0}, {\"v\": 24}, {\"v\": 194.0}, {\"v\": 140.0}, {\"v\": 13}, {\"v\": 35}, {\"v\": 9.371428571428572}, {\"v\": 171}, {\"v\": 62}, {\"v\": 15}, {\"v\": 0.0006207294540975418}, {\"v\": 0.05777911525729762}, {\"v\": 0.04984423676012461}, {\"v\": 0.007043286867204695}, {\"v\": 0.005936369539003803}, {\"v\": 15.9296875}, {\"v\": 128.7421875}, {\"v\": 1.0354187273938167}, {\"v\": 1.0047960914669805}]}, {\"c\": [{\"v\": 169565}, {\"v\": 39518}, {\"v\": 1}, {\"v\": 20}, {\"v\": 810160}, {\"v\": \"test\"}, {\"v\": 12}, {\"v\": 1}, {\"v\": null}, {\"v\": 0.16666666666666666}, {\"v\": 0.0}, {\"v\": 0.008695652173913044}, {\"v\": 0.0}, {\"v\": 4}, {\"v\": 82.0}, {\"v\": 4}, {\"v\": 82.0}, {\"v\": 63.0}, {\"v\": 4}, {\"v\": 6}, {\"v\": 19.166666666666668}, {\"v\": 42}, {\"v\": 22}, {\"v\": 11}, {\"v\": 0.0006207294540975418}, {\"v\": 0.05777911525729762}, {\"v\": 0.04984423676012461}, {\"v\": 0.007043286867204695}, {\"v\": 0.005936369539003803}, {\"v\": 15.9296875}, {\"v\": 128.7421875}, {\"v\": 1.0946745359019872}, {\"v\": 1.02126844815915}]}, {\"c\": [{\"v\": 175363}, {\"v\": 39518}, {\"v\": 1}, {\"v\": 20}, {\"v\": 919484}, {\"v\": \"test\"}, {\"v\": 6}, {\"v\": 1}, {\"v\": null}, {\"v\": 0.06896551724137931}, {\"v\": 0.07142857142857142}, {\"v\": 0.006024096385542169}, {\"v\": 0.005952380952380952}, {\"v\": 15}, {\"v\": 164.0}, {\"v\": 25}, {\"v\": 278.0}, {\"v\": 63.0}, {\"v\": 6}, {\"v\": 29}, {\"v\": 11.448275862068966}, {\"v\": 129}, {\"v\": 52}, {\"v\": 15}, {\"v\": 0.0006207294540975418}, {\"v\": 0.05777911525729762}, {\"v\": 0.04984423676012461}, {\"v\": 0.007043286867204695}, {\"v\": 0.005936369539003803}, {\"v\": 15.9296875}, {\"v\": 128.7421875}, {\"v\": 1.1790581728924092}, {\"v\": 0.9476141791718002}]}, {\"c\": [{\"v\": 98708}, {\"v\": 39518}, {\"v\": 1}, {\"v\": 20}, {\"v\": 2971897}, {\"v\": \"train\"}, {\"v\": 7}, {\"v\": 0}, {\"v\": 0}, {\"v\": 0.08}, {\"v\": 0.14285714285714285}, {\"v\": 0.006289308176100629}, {\"v\": 0.015625}, {\"v\": 18}, {\"v\": 254.0}, {\"v\": 19}, {\"v\": 260.0}, {\"v\": 67.0}, {\"v\": 8}, {\"v\": 25}, {\"v\": 12.72}, {\"v\": 104}, {\"v\": 29}, {\"v\": 14}, {\"v\": 0.0006207294540975418}, {\"v\": 0.05777911525729762}, {\"v\": 0.04984423676012461}, {\"v\": 0.007043286867204695}, {\"v\": 0.005936369539003803}, {\"v\": 15.9296875}, {\"v\": 128.7421875}, {\"v\": 0.9059569766793812}, {\"v\": 1.0012735747081967}]}, {\"c\": [{\"v\": 127390}, {\"v\": 39518}, {\"v\": 1}, {\"v\": 20}, {\"v\": 2657455}, {\"v\": \"train\"}, {\"v\": 15}, {\"v\": 3}, {\"v\": 0}, {\"v\": 0.125}, {\"v\": 0.0}, {\"v\": 0.007142857142857143}, {\"v\": 0.0}, {\"v\": 7}, {\"v\": 127.0}, {\"v\": 7}, {\"v\": 127.0}, {\"v\": 25.0}, {\"v\": 3}, {\"v\": 8}, {\"v\": 17.5}, {\"v\": 50}, {\"v\": 28}, {\"v\": 11}, {\"v\": 0.0006207294540975418}, {\"v\": 0.05777911525729762}, {\"v\": 0.04984423676012461}, {\"v\": 0.007043286867204695}, {\"v\": 0.005936369539003803}, {\"v\": 15.9296875}, {\"v\": 128.7421875}, {\"v\": 0.9929153948268792}, {\"v\": 0.990776690716812}]}, {\"c\": [{\"v\": 28584}, {\"v\": 39518}, {\"v\": 1}, {\"v\": 20}, {\"v\": 2586167}, {\"v\": \"test\"}, {\"v\": 11}, {\"v\": 0}, {\"v\": null}, {\"v\": 0.016666666666666666}, {\"v\": 0.0}, {\"v\": 0.002770083102493075}, {\"v\": 0.0}, {\"v\": 30}, {\"v\": 151.0}, {\"v\": 30}, {\"v\": 151.0}, {\"v\": 213.0}, {\"v\": 32}, {\"v\": 60}, {\"v\": 6.016666666666667}, {\"v\": 110}, {\"v\": 36}, {\"v\": 12}, {\"v\": 0.0006207294540975418}, {\"v\": 0.05777911525729762}, {\"v\": 0.04984423676012461}, {\"v\": 0.007043286867204695}, {\"v\": 0.005936369539003803}, {\"v\": 15.9296875}, {\"v\": 128.7421875}, {\"v\": 1.04371604951081}, {\"v\": 1.0403201014731767}]}, {\"c\": [{\"v\": 61315}, {\"v\": 39518}, {\"v\": 1}, {\"v\": 20}, {\"v\": 1256493}, {\"v\": \"train\"}, {\"v\": 10}, {\"v\": 4}, {\"v\": 0}, {\"v\": 0.05263157894736842}, {\"v\": 0.0}, {\"v\": 0.0036231884057971015}, {\"v\": 0.0}, {\"v\": 10}, {\"v\": 169.0}, {\"v\": 10}, {\"v\": 169.0}, {\"v\": 114.0}, {\"v\": 11}, {\"v\": 19}, {\"v\": 14.526315789473685}, {\"v\": 42}, {\"v\": 23}, {\"v\": 11}, {\"v\": 0.0006207294540975418}, {\"v\": 0.05777911525729762}, {\"v\": 0.04984423676012461}, {\"v\": 0.007043286867204695}, {\"v\": 0.005936369539003803}, {\"v\": 15.9296875}, {\"v\": 128.7421875}, {\"v\": 0.993331902274606}, {\"v\": 0.9565551107715966}]}, {\"c\": [{\"v\": 73822}, {\"v\": 39518}, {\"v\": 1}, {\"v\": 20}, {\"v\": 2819274}, {\"v\": \"train\"}, {\"v\": 19}, {\"v\": 1}, {\"v\": 0}, {\"v\": 0.043478260869565216}, {\"v\": 0.0}, {\"v\": 0.003236245954692557}, {\"v\": 0.0}, {\"v\": 20}, {\"v\": 291.0}, {\"v\": 20}, {\"v\": 291.0}, {\"v\": 28.0}, {\"v\": 5}, {\"v\": 23}, {\"v\": 13.434782608695652}, {\"v\": 123}, {\"v\": 43}, {\"v\": 14}, {\"v\": 0.0006207294540975418}, {\"v\": 0.05777911525729762}, {\"v\": 0.04984423676012461}, {\"v\": 0.007043286867204695}, {\"v\": 0.005936369539003803}, {\"v\": 15.9296875}, {\"v\": 128.7421875}, {\"v\": 1.0643472087813581}, {\"v\": 1.0768684697732653}]}, {\"c\": [{\"v\": 205756}, {\"v\": 39518}, {\"v\": 1}, {\"v\": 20}, {\"v\": 2036927}, {\"v\": \"train\"}, {\"v\": 12}, {\"v\": 1}, {\"v\": 0}, {\"v\": 0.038461538461538464}, {\"v\": 0.0}, {\"v\": 0.0032258064516129032}, {\"v\": 0.0}, {\"v\": 10}, {\"v\": 124.0}, {\"v\": 10}, {\"v\": 124.0}, {\"v\": 201.0}, {\"v\": 18}, {\"v\": 26}, {\"v\": 11.923076923076923}, {\"v\": 163}, {\"v\": 59}, {\"v\": 15}, {\"v\": 0.0006207294540975418}, {\"v\": 0.05777911525729762}, {\"v\": 0.04984423676012461}, {\"v\": 0.007043286867204695}, {\"v\": 0.005936369539003803}, {\"v\": 15.9296875}, {\"v\": 128.7421875}, {\"v\": 1.0946745359019872}, {\"v\": 1.02126844815915}]}, {\"c\": [{\"v\": 177234}, {\"v\": 39518}, {\"v\": 1}, {\"v\": 20}, {\"v\": 3164966}, {\"v\": \"test\"}, {\"v\": 9}, {\"v\": 4}, {\"v\": null}, {\"v\": 0.024390243902439025}, {\"v\": 0.0}, {\"v\": 0.0028653295128939827}, {\"v\": 0.0}, {\"v\": 31}, {\"v\": 283.0}, {\"v\": 31}, {\"v\": 283.0}, {\"v\": 82.0}, {\"v\": 12}, {\"v\": 41}, {\"v\": 8.512195121951219}, {\"v\": 207}, {\"v\": 59}, {\"v\": 16}, {\"v\": 0.0006207294540975418}, {\"v\": 0.05777911525729762}, {\"v\": 0.04984423676012461}, {\"v\": 0.007043286867204695}, {\"v\": 0.005936369539003803}, {\"v\": 15.9296875}, {\"v\": 128.7421875}, {\"v\": 0.9117859974990223}, {\"v\": 0.9241315709186062}]}, {\"c\": [{\"v\": 168306}, {\"v\": 2941}, {\"v\": 1}, {\"v\": 20}, {\"v\": 386326}, {\"v\": \"test\"}, {\"v\": 16}, {\"v\": 0}, {\"v\": null}, {\"v\": 0.09090909090909091}, {\"v\": 0.0}, {\"v\": 0.007874015748031496}, {\"v\": 0.0}, {\"v\": 9}, {\"v\": 67.0}, {\"v\": 9}, {\"v\": 67.0}, {\"v\": 90.0}, {\"v\": 4}, {\"v\": 11}, {\"v\": 11.545454545454545}, {\"v\": 45}, {\"v\": 25}, {\"v\": 10}, {\"v\": 7.759118176219272e-05}, {\"v\": 0.049528301886792456}, {\"v\": 0.022222222222222223}, {\"v\": 0.005857740585774059}, {\"v\": 0.002534211860111505}, {\"v\": 12.4375}, {\"v\": 100.75}, {\"v\": 1.0239254677466667}, {\"v\": 1.085014621916728}]}], \"cols\": [{\"type\": \"number\", \"id\": \"user_id\", \"label\": \"user_id\"}, {\"type\": \"number\", \"id\": \"product_id\", \"label\": \"product_id\"}, {\"type\": \"number\", \"id\": \"aisle_id\", \"label\": \"aisle_id\"}, {\"type\": \"number\", \"id\": \"department_id\", \"label\": \"department_id\"}, {\"type\": \"number\", \"id\": \"order_id\", \"label\": \"order_id\"}, {\"type\": \"string\", \"id\": \"eval_set\", \"label\": \"eval_set\"}, {\"type\": \"number\", \"id\": \"order_hour_of_day\", \"label\": \"order_hour_of_day\"}, {\"type\": \"number\", \"id\": \"order_dow\", \"label\": \"order_dow\"}, {\"type\": \"number\", \"id\": \"is_ordered\", \"label\": \"is_ordered\"}, {\"type\": \"number\", \"id\": \"upf_perc_all_orders\", \"label\": \"upf_perc_all_orders\"}, {\"type\": \"number\", \"id\": \"upf_perc_reorder\", \"label\": \"upf_perc_reorder\"}, {\"type\": \"number\", \"id\": \"upf_orders_per_day\", \"label\": \"upf_orders_per_day\"}, {\"type\": \"number\", \"id\": \"upf_reorders_per_day\", \"label\": \"upf_reorders_per_day\"}, {\"type\": \"number\", \"id\": \"upf_first_order_number\", \"label\": \"upf_first_order_number\"}, {\"type\": \"number\", \"id\": \"upf_first_order_day\", \"label\": \"upf_first_order_day\"}, {\"type\": \"number\", \"id\": \"upf_last_order_number\", \"label\": \"upf_last_order_number\"}, {\"type\": \"number\", \"id\": \"upf_last_order_day\", \"label\": \"upf_last_order_day\"}, {\"type\": \"number\", \"id\": \"upf_days_since_last_order\", \"label\": \"upf_days_since_last_order\"}, {\"type\": \"number\", \"id\": \"upf_orders_since_last_order\", \"label\": \"upf_orders_since_last_order\"}, {\"type\": \"number\", \"id\": \"uf_num_orders\", \"label\": \"uf_num_orders\"}, {\"type\": \"number\", \"id\": \"uf_avg_days_bw_orders\", \"label\": \"uf_avg_days_bw_orders\"}, {\"type\": \"number\", \"id\": \"uf_num_products\", \"label\": \"uf_num_products\"}, {\"type\": \"number\", \"id\": \"uf_num_aisles\", \"label\": \"uf_num_aisles\"}, {\"type\": \"number\", \"id\": \"uf_num_departments\", \"label\": \"uf_num_departments\"}, {\"type\": \"number\", \"id\": \"pf_perc_users\", \"label\": \"pf_perc_users\"}, {\"type\": \"number\", \"id\": \"pf_perc_all_orders\", \"label\": \"pf_perc_all_orders\"}, {\"type\": \"number\", \"id\": \"pf_perc_reorders\", \"label\": \"pf_perc_reorders\"}, {\"type\": \"number\", \"id\": \"pf_orders_per_day\", \"label\": \"pf_orders_per_day\"}, {\"type\": \"number\", \"id\": \"pf_reorders_per_day\", \"label\": \"pf_reorders_per_day\"}, {\"type\": \"number\", \"id\": \"pf_avg_first_order_number\", \"label\": \"pf_avg_first_order_number\"}, {\"type\": \"number\", \"id\": \"pf_avg_first_order_day\", \"label\": \"pf_avg_first_order_day\"}, {\"type\": \"number\", \"id\": \"tf_aisle_tod_factor\", \"label\": \"tf_aisle_tod_factor\"}, {\"type\": \"number\", \"id\": \"tf_department_tod_factor\", \"label\": \"tf_department_tod_factor\"}]},\n",
       "            {\n",
       "              pageSize: 25,\n",
       "              cssClassNames:  {\n",
       "                tableRow: 'gchart-table-row',\n",
       "                headerRow: 'gchart-table-headerrow',\n",
       "                oddTableRow: 'gchart-table-oddrow',\n",
       "                selectedTableRow: 'gchart-table-selectedrow',\n",
       "                hoverTableRow: 'gchart-table-hoverrow',\n",
       "                tableCell: 'gchart-table-cell',\n",
       "                headerCell: 'gchart-table-headercell',\n",
       "                rowNumberCell: 'gchart-table-rownumcell'\n",
       "              }\n",
       "            },\n",
       "            {source_index: 6, fields: 'user_id,product_id,aisle_id,department_id,order_id,eval_set,order_hour_of_day,order_dow,is_ordered,upf_perc_all_orders,upf_perc_reorder,upf_orders_per_day,upf_reorders_per_day,upf_first_order_number,upf_first_order_day,upf_last_order_number,upf_last_order_day,upf_days_since_last_order,upf_orders_since_last_order,uf_num_orders,uf_avg_days_bw_orders,uf_num_products,uf_num_aisles,uf_num_departments,pf_perc_users,pf_perc_all_orders,pf_perc_reorders,pf_orders_per_day,pf_reorders_per_day,pf_avg_first_order_number,pf_avg_first_order_day,tf_aisle_tod_factor,tf_department_tod_factor'},\n",
       "            0,\n",
       "            13307953);\n",
       "        }\n",
       "      );\n",
       "    </script>\n",
       "  "
      ],
      "text/plain": [
       "QueryResultsTable job_4xc5m7Qf3IaOh6iCy7DFwFdDQE4"
      ]
     },
     "execution_count": 29,
     "metadata": {},
     "output_type": "execute_result"
    }
   ],
   "source": [
    "%%bq execute -q reorder_model_universe_q -t instacart.reorder_model_universe  -m overwrite"
   ]
  },
  {
   "cell_type": "markdown",
   "metadata": {},
   "source": [
    "Need to shard when exporting from BQ; max export size out of BQ is 1GB"
   ]
  },
  {
   "cell_type": "code",
   "execution_count": 32,
   "metadata": {
    "collapsed": false
   },
   "outputs": [
    {
     "data": {
      "text/plain": [
       "Job kaggle-instacart-172517/job_2sremjxhhVR12ahA6aB93uslPdM completed"
      ]
     },
     "execution_count": 32,
     "metadata": {},
     "output_type": "execute_result"
    }
   ],
   "source": [
    "project_id = Context.default().project_id\n",
    "bucket_path = 'gs://' + project_id\n",
    "bucket_object = bucket_path + '/reorder_model/universe_*.csv'\n",
    "bucket_object2 = bucket_path + '/reorder_model/universe.csv'\n",
    "\n",
    "table = bq.Table('instacart.reorder_model_universe')\n",
    "table.extract(destination = bucket_object, csv_header=False)"
   ]
  },
  {
   "cell_type": "markdown",
   "metadata": {},
   "source": [
    "Concatenate the shards together"
   ]
  },
  {
   "cell_type": "code",
   "execution_count": 33,
   "metadata": {
    "collapsed": false
   },
   "outputs": [
    {
     "name": "stderr",
     "output_type": "stream",
     "text": [
      "Composing gs://kaggle-instacart-172517/reorder_model/universe.csv from 5 component object(s).\n"
     ]
    }
   ],
   "source": [
    "%%bash -s \"$bucket_object\" \"$bucket_object2\"\n",
    "gsutil compose $1 $2"
   ]
  },
  {
   "cell_type": "markdown",
   "metadata": {},
   "source": [
    "Import as Pandas DF"
   ]
  },
  {
   "cell_type": "code",
   "execution_count": 34,
   "metadata": {
    "collapsed": false
   },
   "outputs": [
    {
     "name": "stdout",
     "output_type": "stream",
     "text": [
      "(13307953, 33)\n"
     ]
    }
   ],
   "source": [
    "fields = [str(x.name) for x in list(table.schema)]\n",
    "%storage read --object $bucket_object2 --variable model_universe_raw\n",
    "model_universe = pd.read_csv(StringIO(model_universe_raw), header=None, names=fields)\n",
    "print model_universe.shape"
   ]
  },
  {
   "cell_type": "code",
   "execution_count": null,
   "metadata": {
    "collapsed": true
   },
   "outputs": [],
   "source": []
  }
 ],
 "metadata": {
  "kernelspec": {
   "display_name": "Python 2",
   "language": "python",
   "name": "python2"
  },
  "language_info": {
   "codemirror_mode": {
    "name": "ipython",
    "version": 2
   },
   "file_extension": ".py",
   "mimetype": "text/x-python",
   "name": "python",
   "nbconvert_exporter": "python",
   "pygments_lexer": "ipython2",
   "version": "2.7.9"
  }
 },
 "nbformat": 4,
 "nbformat_minor": 2
}

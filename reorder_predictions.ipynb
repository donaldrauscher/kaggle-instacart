{
 "cells": [
  {
   "cell_type": "code",
   "execution_count": 51,
   "metadata": {
    "collapsed": true
   },
   "outputs": [],
   "source": [
    "from google.datalab import Context\n",
    "import google.datalab.bigquery as bq\n",
    "import google.datalab.storage as storage\n",
    "import pandas as pd\n",
    "from StringIO import StringIO"
   ]
  },
  {
   "cell_type": "markdown",
   "metadata": {},
   "source": [
    "## Build Some Intermediary Tables\n",
    "\n",
    "Pull some additional information for each user that we'll need later\n",
    "Pull some additional information on when each user purchases each product"
   ]
  },
  {
   "cell_type": "code",
   "execution_count": 27,
   "metadata": {
    "collapsed": true
   },
   "outputs": [],
   "source": [
    "%%bq query -n users_q\n",
    "SELECT orders.user_id, COALESCE(user_flags.is_train,0) AS is_train,\n",
    "  COUNT(*) AS num_orders, SUM(days_since_prior_order) AS days_bw_first_last_order\n",
    "FROM instacart.orders AS orders\n",
    "LEFT JOIN (\n",
    "  SELECT user_id, 1 AS `is_train` FROM instacart.orders WHERE eval_set = \"train\" GROUP BY 1\n",
    ") AS user_flags ON orders.user_id = user_flags.user_id\n",
    "WHERE eval_set = \"prior\"\n",
    "GROUP BY 1,2"
   ]
  },
  {
   "cell_type": "code",
   "execution_count": 28,
   "metadata": {
    "collapsed": false
   },
   "outputs": [
    {
     "data": {
      "text/html": [
       "\n",
       "    <div class=\"bqtv\" id=\"1_149919707744\"><table><tr><th>user_id</th><th>is_train</th><th>num_orders</th><th>days_bw_first_last_order</th></tr><tr><td>36904</td><td>1</td><td>3</td><td>0.0</td></tr><tr><td>62180</td><td>1</td><td>3</td><td>0.0</td></tr><tr><td>109010</td><td>1</td><td>3</td><td>0.0</td></tr><tr><td>174627</td><td>1</td><td>3</td><td>0.0</td></tr><tr><td>58934</td><td>0</td><td>3</td><td>0.0</td></tr><tr><td>99295</td><td>0</td><td>3</td><td>0.0</td></tr><tr><td>80567</td><td>1</td><td>3</td><td>0.0</td></tr><tr><td>201321</td><td>1</td><td>3</td><td>0.0</td></tr><tr><td>125717</td><td>0</td><td>3</td><td>0.0</td></tr><tr><td>9515</td><td>0</td><td>3</td><td>0.0</td></tr><tr><td>164320</td><td>1</td><td>3</td><td>0.0</td></tr><tr><td>121915</td><td>1</td><td>3</td><td>0.0</td></tr><tr><td>15495</td><td>1</td><td>3</td><td>0.0</td></tr><tr><td>133075</td><td>1</td><td>3</td><td>0.0</td></tr><tr><td>131603</td><td>0</td><td>3</td><td>0.0</td></tr><tr><td>115420</td><td>0</td><td>3</td><td>0.0</td></tr><tr><td>181478</td><td>0</td><td>3</td><td>0.0</td></tr><tr><td>64975</td><td>1</td><td>3</td><td>0.0</td></tr><tr><td>179078</td><td>1</td><td>3</td><td>0.0</td></tr><tr><td>137150</td><td>0</td><td>3</td><td>0.0</td></tr><tr><td>116115</td><td>1</td><td>3</td><td>2.0</td></tr><tr><td>2737</td><td>1</td><td>3</td><td>2.0</td></tr><tr><td>84759</td><td>1</td><td>3</td><td>2.0</td></tr><tr><td>1568</td><td>1</td><td>3</td><td>2.0</td></tr><tr><td>55494</td><td>1</td><td>3</td><td>2.0</td></tr></table></div>\n",
       "    <br />(rows: 206209, time: 9.1s,    76MB processed, job: job_VSXu8kfmCmwDKOUo3dSTvHLU6NY)<br />\n",
       "    <script>\n",
       "\n",
       "      require.config({\n",
       "        paths: {\n",
       "          d3: '//cdnjs.cloudflare.com/ajax/libs/d3/3.4.13/d3',\n",
       "          plotly: 'https://cdn.plot.ly/plotly-1.5.1.min.js?noext',\n",
       "          jquery: '//ajax.googleapis.com/ajax/libs/jquery/2.0.0/jquery.min'\n",
       "        },\n",
       "        map: {\n",
       "          '*': {\n",
       "            datalab: 'nbextensions/gcpdatalab'\n",
       "          }\n",
       "        },\n",
       "        shim: {\n",
       "          plotly: {\n",
       "            deps: ['d3', 'jquery'],\n",
       "            exports: 'plotly'\n",
       "          }\n",
       "        }\n",
       "      });\n",
       "\n",
       "      require(['datalab/charting', 'datalab/element!1_149919707744', 'base/js/events',\n",
       "          'datalab/style!/nbextensions/gcpdatalab/charting.css'],\n",
       "        function(charts, dom, events) {\n",
       "          charts.render('gcharts', dom, events, 'paged_table', [], {\"rows\": [{\"c\": [{\"v\": 36904}, {\"v\": 1}, {\"v\": 3}, {\"v\": 0.0}]}, {\"c\": [{\"v\": 62180}, {\"v\": 1}, {\"v\": 3}, {\"v\": 0.0}]}, {\"c\": [{\"v\": 109010}, {\"v\": 1}, {\"v\": 3}, {\"v\": 0.0}]}, {\"c\": [{\"v\": 174627}, {\"v\": 1}, {\"v\": 3}, {\"v\": 0.0}]}, {\"c\": [{\"v\": 58934}, {\"v\": 0}, {\"v\": 3}, {\"v\": 0.0}]}, {\"c\": [{\"v\": 99295}, {\"v\": 0}, {\"v\": 3}, {\"v\": 0.0}]}, {\"c\": [{\"v\": 80567}, {\"v\": 1}, {\"v\": 3}, {\"v\": 0.0}]}, {\"c\": [{\"v\": 201321}, {\"v\": 1}, {\"v\": 3}, {\"v\": 0.0}]}, {\"c\": [{\"v\": 125717}, {\"v\": 0}, {\"v\": 3}, {\"v\": 0.0}]}, {\"c\": [{\"v\": 9515}, {\"v\": 0}, {\"v\": 3}, {\"v\": 0.0}]}, {\"c\": [{\"v\": 164320}, {\"v\": 1}, {\"v\": 3}, {\"v\": 0.0}]}, {\"c\": [{\"v\": 121915}, {\"v\": 1}, {\"v\": 3}, {\"v\": 0.0}]}, {\"c\": [{\"v\": 15495}, {\"v\": 1}, {\"v\": 3}, {\"v\": 0.0}]}, {\"c\": [{\"v\": 133075}, {\"v\": 1}, {\"v\": 3}, {\"v\": 0.0}]}, {\"c\": [{\"v\": 131603}, {\"v\": 0}, {\"v\": 3}, {\"v\": 0.0}]}, {\"c\": [{\"v\": 115420}, {\"v\": 0}, {\"v\": 3}, {\"v\": 0.0}]}, {\"c\": [{\"v\": 181478}, {\"v\": 0}, {\"v\": 3}, {\"v\": 0.0}]}, {\"c\": [{\"v\": 64975}, {\"v\": 1}, {\"v\": 3}, {\"v\": 0.0}]}, {\"c\": [{\"v\": 179078}, {\"v\": 1}, {\"v\": 3}, {\"v\": 0.0}]}, {\"c\": [{\"v\": 137150}, {\"v\": 0}, {\"v\": 3}, {\"v\": 0.0}]}, {\"c\": [{\"v\": 116115}, {\"v\": 1}, {\"v\": 3}, {\"v\": 2.0}]}, {\"c\": [{\"v\": 2737}, {\"v\": 1}, {\"v\": 3}, {\"v\": 2.0}]}, {\"c\": [{\"v\": 84759}, {\"v\": 1}, {\"v\": 3}, {\"v\": 2.0}]}, {\"c\": [{\"v\": 1568}, {\"v\": 1}, {\"v\": 3}, {\"v\": 2.0}]}, {\"c\": [{\"v\": 55494}, {\"v\": 1}, {\"v\": 3}, {\"v\": 2.0}]}], \"cols\": [{\"type\": \"number\", \"id\": \"user_id\", \"label\": \"user_id\"}, {\"type\": \"number\", \"id\": \"is_train\", \"label\": \"is_train\"}, {\"type\": \"number\", \"id\": \"num_orders\", \"label\": \"num_orders\"}, {\"type\": \"number\", \"id\": \"days_bw_first_last_order\", \"label\": \"days_bw_first_last_order\"}]},\n",
       "            {\n",
       "              pageSize: 25,\n",
       "              cssClassNames:  {\n",
       "                tableRow: 'gchart-table-row',\n",
       "                headerRow: 'gchart-table-headerrow',\n",
       "                oddTableRow: 'gchart-table-oddrow',\n",
       "                selectedTableRow: 'gchart-table-selectedrow',\n",
       "                hoverTableRow: 'gchart-table-hoverrow',\n",
       "                tableCell: 'gchart-table-cell',\n",
       "                headerCell: 'gchart-table-headercell',\n",
       "                rowNumberCell: 'gchart-table-rownumcell'\n",
       "              }\n",
       "            },\n",
       "            {source_index: 0, fields: 'user_id,is_train,num_orders,days_bw_first_last_order'},\n",
       "            0,\n",
       "            206209);\n",
       "        }\n",
       "      );\n",
       "    </script>\n",
       "  "
      ],
      "text/plain": [
       "QueryResultsTable job_VSXu8kfmCmwDKOUo3dSTvHLU6NY"
      ]
     },
     "execution_count": 28,
     "metadata": {},
     "output_type": "execute_result"
    }
   ],
   "source": [
    "%%bq execute -q users_q -t instacart.users  -m overwrite"
   ]
  },
  {
   "cell_type": "code",
   "execution_count": 29,
   "metadata": {
    "collapsed": true
   },
   "outputs": [],
   "source": [
    "%%bq query -n user_products_q\n",
    "SELECT orders.user_id, op.product_id, \n",
    "  COUNT(*) AS num_orders, SUM(op.reordered) AS num_reorders,\n",
    "  MIN(orders.order_number) AS first_order_number, MIN(days_since_first_order) AS first_order_day,\n",
    "  MAX(orders.order_number) AS last_order_number, MAX(days_since_first_order) AS last_order_day\n",
    "FROM instacart.order_products__prior AS op\n",
    "INNER JOIN (\n",
    "  SELECT *, \n",
    "  SUM(COALESCE(days_since_prior_order,0)) OVER (PARTITION BY user_id ORDER BY order_number ASC ROWS BETWEEN UNBOUNDED PRECEDING AND CURRENT ROW) AS `days_since_first_order`\n",
    "  FROM instacart.orders WHERE eval_set = \"prior\"\n",
    ") AS orders ON orders.order_id = op.order_id\n",
    "GROUP BY 1,2"
   ]
  },
  {
   "cell_type": "code",
   "execution_count": 30,
   "metadata": {
    "collapsed": false
   },
   "outputs": [
    {
     "data": {
      "text/html": [
       "\n",
       "    <div class=\"bqtv\" id=\"2_149919713107\"><table><tr><th>user_id</th><th>product_id</th><th>num_orders</th><th>num_reorders</th><th>first_order_number</th><th>first_order_day</th><th>last_order_number</th><th>last_order_day</th></tr><tr><td>182558</td><td>25138</td><td>32</td><td>31</td><td>22</td><td>73.0</td><td>99</td><td>337.0</td></tr><tr><td>82232</td><td>35470</td><td>85</td><td>84</td><td>1</td><td>0.0</td><td>97</td><td>277.0</td></tr><tr><td>135425</td><td>18140</td><td>28</td><td>27</td><td>15</td><td>103.0</td><td>69</td><td>327.0</td></tr><tr><td>194587</td><td>26209</td><td>46</td><td>45</td><td>1</td><td>0.0</td><td>85</td><td>350.0</td></tr><tr><td>183515</td><td>47449</td><td>37</td><td>36</td><td>1</td><td>0.0</td><td>58</td><td>168.0</td></tr><tr><td>171492</td><td>5212</td><td>14</td><td>13</td><td>1</td><td>0.0</td><td>41</td><td>346.0</td></tr><tr><td>15980</td><td>23296</td><td>14</td><td>13</td><td>9</td><td>57.0</td><td>46</td><td>247.0</td></tr><tr><td>22373</td><td>19871</td><td>42</td><td>41</td><td>1</td><td>0.0</td><td>60</td><td>357.0</td></tr><tr><td>12709</td><td>36956</td><td>20</td><td>19</td><td>1</td><td>0.0</td><td>40</td><td>307.0</td></tr><tr><td>48364</td><td>32331</td><td>11</td><td>10</td><td>1</td><td>0.0</td><td>43</td><td>214.0</td></tr><tr><td>143046</td><td>13575</td><td>16</td><td>15</td><td>1</td><td>0.0</td><td>49</td><td>353.0</td></tr><tr><td>111557</td><td>46676</td><td>20</td><td>19</td><td>2</td><td>5.0</td><td>44</td><td>305.0</td></tr><tr><td>100329</td><td>1834</td><td>11</td><td>10</td><td>18</td><td>67.0</td><td>43</td><td>162.0</td></tr><tr><td>141498</td><td>40709</td><td>18</td><td>17</td><td>1</td><td>0.0</td><td>43</td><td>361.0</td></tr><tr><td>85700</td><td>13176</td><td>12</td><td>11</td><td>1</td><td>0.0</td><td>63</td><td>358.0</td></tr><tr><td>98781</td><td>27086</td><td>13</td><td>12</td><td>7</td><td>61.0</td><td>50</td><td>353.0</td></tr><tr><td>137629</td><td>10032</td><td>12</td><td>11</td><td>44</td><td>154.0</td><td>95</td><td>346.0</td></tr><tr><td>198002</td><td>21910</td><td>14</td><td>13</td><td>6</td><td>35.0</td><td>61</td><td>353.0</td></tr><tr><td>8664</td><td>432</td><td>11</td><td>10</td><td>23</td><td>117.0</td><td>65</td><td>249.0</td></tr><tr><td>119439</td><td>47209</td><td>15</td><td>14</td><td>9</td><td>18.0</td><td>65</td><td>245.0</td></tr><tr><td>155270</td><td>32650</td><td>12</td><td>11</td><td>14</td><td>91.0</td><td>66</td><td>289.0</td></tr><tr><td>92493</td><td>32033</td><td>13</td><td>12</td><td>2</td><td>3.0</td><td>75</td><td>292.0</td></tr><tr><td>6808</td><td>10193</td><td>41</td><td>40</td><td>3</td><td>7.0</td><td>57</td><td>174.0</td></tr><tr><td>91972</td><td>12341</td><td>25</td><td>24</td><td>5</td><td>10.0</td><td>99</td><td>324.0</td></tr><tr><td>18702</td><td>10070</td><td>18</td><td>17</td><td>14</td><td>78.0</td><td>90</td><td>340.0</td></tr></table></div>\n",
       "    <br />(rows: 13307953, time: 52.0s,   910MB processed, job: job_y6gIZeL1rbAGHZO44BU0absmsjE)<br />\n",
       "    <script>\n",
       "\n",
       "      require.config({\n",
       "        paths: {\n",
       "          d3: '//cdnjs.cloudflare.com/ajax/libs/d3/3.4.13/d3',\n",
       "          plotly: 'https://cdn.plot.ly/plotly-1.5.1.min.js?noext',\n",
       "          jquery: '//ajax.googleapis.com/ajax/libs/jquery/2.0.0/jquery.min'\n",
       "        },\n",
       "        map: {\n",
       "          '*': {\n",
       "            datalab: 'nbextensions/gcpdatalab'\n",
       "          }\n",
       "        },\n",
       "        shim: {\n",
       "          plotly: {\n",
       "            deps: ['d3', 'jquery'],\n",
       "            exports: 'plotly'\n",
       "          }\n",
       "        }\n",
       "      });\n",
       "\n",
       "      require(['datalab/charting', 'datalab/element!2_149919713107', 'base/js/events',\n",
       "          'datalab/style!/nbextensions/gcpdatalab/charting.css'],\n",
       "        function(charts, dom, events) {\n",
       "          charts.render('gcharts', dom, events, 'paged_table', [], {\"rows\": [{\"c\": [{\"v\": 182558}, {\"v\": 25138}, {\"v\": 32}, {\"v\": 31}, {\"v\": 22}, {\"v\": 73.0}, {\"v\": 99}, {\"v\": 337.0}]}, {\"c\": [{\"v\": 82232}, {\"v\": 35470}, {\"v\": 85}, {\"v\": 84}, {\"v\": 1}, {\"v\": 0.0}, {\"v\": 97}, {\"v\": 277.0}]}, {\"c\": [{\"v\": 135425}, {\"v\": 18140}, {\"v\": 28}, {\"v\": 27}, {\"v\": 15}, {\"v\": 103.0}, {\"v\": 69}, {\"v\": 327.0}]}, {\"c\": [{\"v\": 194587}, {\"v\": 26209}, {\"v\": 46}, {\"v\": 45}, {\"v\": 1}, {\"v\": 0.0}, {\"v\": 85}, {\"v\": 350.0}]}, {\"c\": [{\"v\": 183515}, {\"v\": 47449}, {\"v\": 37}, {\"v\": 36}, {\"v\": 1}, {\"v\": 0.0}, {\"v\": 58}, {\"v\": 168.0}]}, {\"c\": [{\"v\": 171492}, {\"v\": 5212}, {\"v\": 14}, {\"v\": 13}, {\"v\": 1}, {\"v\": 0.0}, {\"v\": 41}, {\"v\": 346.0}]}, {\"c\": [{\"v\": 15980}, {\"v\": 23296}, {\"v\": 14}, {\"v\": 13}, {\"v\": 9}, {\"v\": 57.0}, {\"v\": 46}, {\"v\": 247.0}]}, {\"c\": [{\"v\": 22373}, {\"v\": 19871}, {\"v\": 42}, {\"v\": 41}, {\"v\": 1}, {\"v\": 0.0}, {\"v\": 60}, {\"v\": 357.0}]}, {\"c\": [{\"v\": 12709}, {\"v\": 36956}, {\"v\": 20}, {\"v\": 19}, {\"v\": 1}, {\"v\": 0.0}, {\"v\": 40}, {\"v\": 307.0}]}, {\"c\": [{\"v\": 48364}, {\"v\": 32331}, {\"v\": 11}, {\"v\": 10}, {\"v\": 1}, {\"v\": 0.0}, {\"v\": 43}, {\"v\": 214.0}]}, {\"c\": [{\"v\": 143046}, {\"v\": 13575}, {\"v\": 16}, {\"v\": 15}, {\"v\": 1}, {\"v\": 0.0}, {\"v\": 49}, {\"v\": 353.0}]}, {\"c\": [{\"v\": 111557}, {\"v\": 46676}, {\"v\": 20}, {\"v\": 19}, {\"v\": 2}, {\"v\": 5.0}, {\"v\": 44}, {\"v\": 305.0}]}, {\"c\": [{\"v\": 100329}, {\"v\": 1834}, {\"v\": 11}, {\"v\": 10}, {\"v\": 18}, {\"v\": 67.0}, {\"v\": 43}, {\"v\": 162.0}]}, {\"c\": [{\"v\": 141498}, {\"v\": 40709}, {\"v\": 18}, {\"v\": 17}, {\"v\": 1}, {\"v\": 0.0}, {\"v\": 43}, {\"v\": 361.0}]}, {\"c\": [{\"v\": 85700}, {\"v\": 13176}, {\"v\": 12}, {\"v\": 11}, {\"v\": 1}, {\"v\": 0.0}, {\"v\": 63}, {\"v\": 358.0}]}, {\"c\": [{\"v\": 98781}, {\"v\": 27086}, {\"v\": 13}, {\"v\": 12}, {\"v\": 7}, {\"v\": 61.0}, {\"v\": 50}, {\"v\": 353.0}]}, {\"c\": [{\"v\": 137629}, {\"v\": 10032}, {\"v\": 12}, {\"v\": 11}, {\"v\": 44}, {\"v\": 154.0}, {\"v\": 95}, {\"v\": 346.0}]}, {\"c\": [{\"v\": 198002}, {\"v\": 21910}, {\"v\": 14}, {\"v\": 13}, {\"v\": 6}, {\"v\": 35.0}, {\"v\": 61}, {\"v\": 353.0}]}, {\"c\": [{\"v\": 8664}, {\"v\": 432}, {\"v\": 11}, {\"v\": 10}, {\"v\": 23}, {\"v\": 117.0}, {\"v\": 65}, {\"v\": 249.0}]}, {\"c\": [{\"v\": 119439}, {\"v\": 47209}, {\"v\": 15}, {\"v\": 14}, {\"v\": 9}, {\"v\": 18.0}, {\"v\": 65}, {\"v\": 245.0}]}, {\"c\": [{\"v\": 155270}, {\"v\": 32650}, {\"v\": 12}, {\"v\": 11}, {\"v\": 14}, {\"v\": 91.0}, {\"v\": 66}, {\"v\": 289.0}]}, {\"c\": [{\"v\": 92493}, {\"v\": 32033}, {\"v\": 13}, {\"v\": 12}, {\"v\": 2}, {\"v\": 3.0}, {\"v\": 75}, {\"v\": 292.0}]}, {\"c\": [{\"v\": 6808}, {\"v\": 10193}, {\"v\": 41}, {\"v\": 40}, {\"v\": 3}, {\"v\": 7.0}, {\"v\": 57}, {\"v\": 174.0}]}, {\"c\": [{\"v\": 91972}, {\"v\": 12341}, {\"v\": 25}, {\"v\": 24}, {\"v\": 5}, {\"v\": 10.0}, {\"v\": 99}, {\"v\": 324.0}]}, {\"c\": [{\"v\": 18702}, {\"v\": 10070}, {\"v\": 18}, {\"v\": 17}, {\"v\": 14}, {\"v\": 78.0}, {\"v\": 90}, {\"v\": 340.0}]}], \"cols\": [{\"type\": \"number\", \"id\": \"user_id\", \"label\": \"user_id\"}, {\"type\": \"number\", \"id\": \"product_id\", \"label\": \"product_id\"}, {\"type\": \"number\", \"id\": \"num_orders\", \"label\": \"num_orders\"}, {\"type\": \"number\", \"id\": \"num_reorders\", \"label\": \"num_reorders\"}, {\"type\": \"number\", \"id\": \"first_order_number\", \"label\": \"first_order_number\"}, {\"type\": \"number\", \"id\": \"first_order_day\", \"label\": \"first_order_day\"}, {\"type\": \"number\", \"id\": \"last_order_number\", \"label\": \"last_order_number\"}, {\"type\": \"number\", \"id\": \"last_order_day\", \"label\": \"last_order_day\"}]},\n",
       "            {\n",
       "              pageSize: 25,\n",
       "              cssClassNames:  {\n",
       "                tableRow: 'gchart-table-row',\n",
       "                headerRow: 'gchart-table-headerrow',\n",
       "                oddTableRow: 'gchart-table-oddrow',\n",
       "                selectedTableRow: 'gchart-table-selectedrow',\n",
       "                hoverTableRow: 'gchart-table-hoverrow',\n",
       "                tableCell: 'gchart-table-cell',\n",
       "                headerCell: 'gchart-table-headercell',\n",
       "                rowNumberCell: 'gchart-table-rownumcell'\n",
       "              }\n",
       "            },\n",
       "            {source_index: 1, fields: 'user_id,product_id,num_orders,num_reorders,first_order_number,first_order_day,last_order_number,last_order_day'},\n",
       "            0,\n",
       "            13307953);\n",
       "        }\n",
       "      );\n",
       "    </script>\n",
       "  "
      ],
      "text/plain": [
       "QueryResultsTable job_y6gIZeL1rbAGHZO44BU0absmsjE"
      ]
     },
     "execution_count": 30,
     "metadata": {},
     "output_type": "execute_result"
    }
   ],
   "source": [
    "%%bq execute -q user_products_q -t instacart.user_products  -m overwrite"
   ]
  },
  {
   "cell_type": "markdown",
   "metadata": {},
   "source": [
    "## User-Product Features\n",
    "\n",
    "User-product level data which is base for the reorder model (includes both test and train)\n",
    "\n",
    "Contains \"basket\" of all products that user has ever purchased; trying to predict which will be reordered (though this is admittedly only ~2/3 of the problem since ~1/3 of purchases in the train set are to products never purchased before)"
   ]
  },
  {
   "cell_type": "code",
   "execution_count": 31,
   "metadata": {
    "collapsed": true
   },
   "outputs": [],
   "source": [
    "%%bq query -n user_products_features_q\n",
    "WITH up_features AS (\n",
    "  SELECT up.user_id, up.product_id,\n",
    "    up.num_orders / users.num_orders AS `perc_all_orders`,\n",
    "    up.num_reorders / NULLIF(users.num_orders - up.first_order_number,0) AS `perc_reorder`,\n",
    "    up.num_orders / NULLIF(users.days_bw_first_last_order,0) AS `orders_per_day`,\n",
    "    up.num_reorders / NULLIF(users.days_bw_first_last_order - up.first_order_day,0) AS `reorders_per_day`,\n",
    "    up.first_order_number, up.first_order_day, up.last_order_number, up.last_order_day, users.days_bw_first_last_order\n",
    "  FROM instacart.user_products AS up\n",
    "  INNER JOIN instacart.users AS users ON up.user_id = users.user_id\n",
    ")\n",
    "\n",
    "SELECT up.*, \n",
    "  orders.order_id, orders.eval_set, orders.order_hour_of_day, orders.order_dow,\n",
    "  CASE WHEN orders.eval_set = \"test\" THEN NULL ELSE LEAST(COALESCE(op_train.order_id,0),1) END AS `is_ordered`,\n",
    "  up.days_bw_first_last_order - up.last_order_day + orders.days_since_prior_order AS `days_since_last_order`,\n",
    "  orders.order_number - up.last_order_number + 1 AS `orders_since_last_order`\n",
    "FROM up_features AS up\n",
    "INNER JOIN instacart.orders AS orders ON orders.user_id = up.user_id AND orders.eval_set IN ('train','test')\n",
    "LEFT JOIN instacart.order_products__train AS op_train ON orders.order_id = op_train.order_id AND up.product_id = op_train.product_id"
   ]
  },
  {
   "cell_type": "code",
   "execution_count": 32,
   "metadata": {
    "collapsed": false
   },
   "outputs": [
    {
     "data": {
      "text/html": [
       "\n",
       "    <div class=\"bqtv\" id=\"3_149919715682\"><table><tr><th>user_id</th><th>product_id</th><th>perc_all_orders</th><th>perc_reorder</th><th>orders_per_day</th><th>reorders_per_day</th><th>first_order_number</th><th>first_order_day</th><th>last_order_number</th><th>last_order_day</th><th>days_bw_first_last_order</th><th>order_id</th><th>eval_set</th><th>order_hour_of_day</th><th>order_dow</th><th>is_ordered</th><th>days_since_last_order</th><th>orders_since_last_order</th></tr><tr><td>179078</td><td>4957</td><td>0.333333333333</td><td>0.0</td><td>&nbsp;</td><td>&nbsp;</td><td>1</td><td>0.0</td><td>1</td><td>0.0</td><td>0.0</td><td>2930952</td><td>train</td><td>10</td><td>6</td><td>0</td><td>1.0</td><td>4</td></tr><tr><td>74660</td><td>2452</td><td>0.2</td><td>0.0</td><td>&nbsp;</td><td>&nbsp;</td><td>1</td><td>0.0</td><td>1</td><td>0.0</td><td>0.0</td><td>2011288</td><td>train</td><td>15</td><td>5</td><td>0</td><td>30.0</td><td>6</td></tr><tr><td>9515</td><td>40706</td><td>1.0</td><td>1.0</td><td>&nbsp;</td><td>&nbsp;</td><td>1</td><td>0.0</td><td>3</td><td>0.0</td><td>0.0</td><td>318189</td><td>test</td><td>12</td><td>1</td><td>&nbsp;</td><td>13.0</td><td>2</td></tr><tr><td>121915</td><td>19488</td><td>1.0</td><td>1.0</td><td>&nbsp;</td><td>&nbsp;</td><td>1</td><td>0.0</td><td>3</td><td>0.0</td><td>0.0</td><td>1686562</td><td>train</td><td>13</td><td>6</td><td>0</td><td>27.0</td><td>2</td></tr><tr><td>133075</td><td>41540</td><td>0.333333333333</td><td>0.0</td><td>&nbsp;</td><td>&nbsp;</td><td>1</td><td>0.0</td><td>1</td><td>0.0</td><td>0.0</td><td>765224</td><td>train</td><td>9</td><td>4</td><td>0</td><td>30.0</td><td>4</td></tr><tr><td>125717</td><td>5479</td><td>1.0</td><td>1.0</td><td>&nbsp;</td><td>&nbsp;</td><td>1</td><td>0.0</td><td>3</td><td>0.0</td><td>0.0</td><td>3409434</td><td>test</td><td>15</td><td>0</td><td>&nbsp;</td><td>30.0</td><td>2</td></tr><tr><td>151890</td><td>49544</td><td>0.666666666667</td><td>0.5</td><td>2.0</td><td>1.0</td><td>1</td><td>0.0</td><td>3</td><td>1.0</td><td>1.0</td><td>532469</td><td>train</td><td>15</td><td>3</td><td>0</td><td>1.0</td><td>2</td></tr><tr><td>176503</td><td>1376</td><td>1.0</td><td>1.0</td><td>2.0</td><td>1.5</td><td>1</td><td>0.0</td><td>4</td><td>2.0</td><td>2.0</td><td>3274120</td><td>test</td><td>12</td><td>5</td><td>&nbsp;</td><td>4.0</td><td>2</td></tr><tr><td>40502</td><td>8637</td><td>1.0</td><td>1.0</td><td>3.0</td><td>2.0</td><td>1</td><td>0.0</td><td>3</td><td>1.0</td><td>1.0</td><td>2980949</td><td>train</td><td>13</td><td>2</td><td>0</td><td>30.0</td><td>2</td></tr><tr><td>65616</td><td>21463</td><td>0.75</td><td>0.666666666667</td><td>3.0</td><td>2.0</td><td>1</td><td>0.0</td><td>3</td><td>0.0</td><td>1.0</td><td>2502378</td><td>test</td><td>15</td><td>1</td><td>&nbsp;</td><td>14.0</td><td>3</td></tr><tr><td>121043</td><td>21367</td><td>0.0153846153846</td><td>0.0</td><td>0.00390625</td><td>0.0</td><td>1</td><td>0.0</td><td>1</td><td>0.0</td><td>256.0</td><td>2538703</td><td>test</td><td>8</td><td>6</td><td>&nbsp;</td><td>258.0</td><td>66</td></tr><tr><td>172836</td><td>40604</td><td>0.0526315789474</td><td>0.0</td><td>0.00390625</td><td>0.0</td><td>1</td><td>0.0</td><td>1</td><td>0.0</td><td>256.0</td><td>656162</td><td>test</td><td>17</td><td>0</td><td>&nbsp;</td><td>264.0</td><td>20</td></tr><tr><td>23666</td><td>2562</td><td>0.0666666666667</td><td>0.0</td><td>0.00390625</td><td>0.0</td><td>1</td><td>0.0</td><td>1</td><td>0.0</td><td>256.0</td><td>3127298</td><td>test</td><td>11</td><td>6</td><td>&nbsp;</td><td>273.0</td><td>16</td></tr><tr><td>30347</td><td>18963</td><td>0.0416666666667</td><td>0.0</td><td>0.00390625</td><td>0.0</td><td>1</td><td>0.0</td><td>1</td><td>0.0</td><td>256.0</td><td>2630519</td><td>train</td><td>8</td><td>2</td><td>0</td><td>260.0</td><td>25</td></tr><tr><td>53628</td><td>13198</td><td>0.0555555555556</td><td>0.0</td><td>0.00390625</td><td>0.0</td><td>1</td><td>0.0</td><td>1</td><td>0.0</td><td>256.0</td><td>473107</td><td>train</td><td>15</td><td>2</td><td>0</td><td>286.0</td><td>19</td></tr><tr><td>107679</td><td>49030</td><td>0.0909090909091</td><td>0.0</td><td>0.00390625</td><td>0.0</td><td>1</td><td>0.0</td><td>1</td><td>0.0</td><td>256.0</td><td>2833552</td><td>train</td><td>17</td><td>5</td><td>0</td><td>286.0</td><td>12</td></tr><tr><td>112049</td><td>48577</td><td>0.0384615384615</td><td>0.0</td><td>0.00390625</td><td>0.0</td><td>1</td><td>0.0</td><td>1</td><td>0.0</td><td>256.0</td><td>1987254</td><td>test</td><td>13</td><td>0</td><td>&nbsp;</td><td>263.0</td><td>27</td></tr><tr><td>53695</td><td>7821</td><td>0.0666666666667</td><td>0.0</td><td>0.00390625</td><td>0.0</td><td>1</td><td>0.0</td><td>1</td><td>0.0</td><td>256.0</td><td>1471190</td><td>test</td><td>18</td><td>2</td><td>&nbsp;</td><td>264.0</td><td>16</td></tr><tr><td>180390</td><td>8910</td><td>0.0227272727273</td><td>0.0</td><td>0.00390625</td><td>0.0</td><td>1</td><td>0.0</td><td>1</td><td>0.0</td><td>256.0</td><td>1475206</td><td>test</td><td>22</td><td>6</td><td>&nbsp;</td><td>262.0</td><td>45</td></tr><tr><td>172332</td><td>12496</td><td>0.0625</td><td>0.0</td><td>0.00390625</td><td>0.0</td><td>1</td><td>0.0</td><td>1</td><td>0.0</td><td>256.0</td><td>631273</td><td>train</td><td>8</td><td>4</td><td>0</td><td>286.0</td><td>17</td></tr><tr><td>116243</td><td>21137</td><td>0.0416666666667</td><td>0.0</td><td>0.00390625</td><td>0.0</td><td>1</td><td>0.0</td><td>1</td><td>0.0</td><td>256.0</td><td>13040</td><td>test</td><td>7</td><td>5</td><td>&nbsp;</td><td>259.0</td><td>25</td></tr><tr><td>72604</td><td>21469</td><td>0.047619047619</td><td>0.0</td><td>0.00390625</td><td>0.0</td><td>1</td><td>0.0</td><td>1</td><td>0.0</td><td>256.0</td><td>3316772</td><td>train</td><td>12</td><td>1</td><td>0</td><td>286.0</td><td>22</td></tr><tr><td>178829</td><td>31510</td><td>0.037037037037</td><td>0.0</td><td>0.00390625</td><td>0.0</td><td>1</td><td>0.0</td><td>1</td><td>0.0</td><td>256.0</td><td>959919</td><td>test</td><td>17</td><td>0</td><td>&nbsp;</td><td>263.0</td><td>28</td></tr><tr><td>96234</td><td>13194</td><td>0.0555555555556</td><td>0.0</td><td>0.00390625</td><td>0.0</td><td>1</td><td>0.0</td><td>1</td><td>0.0</td><td>256.0</td><td>1447728</td><td>train</td><td>14</td><td>2</td><td>0</td><td>263.0</td><td>19</td></tr><tr><td>9438</td><td>32727</td><td>0.0714285714286</td><td>0.0</td><td>0.00390625</td><td>0.0</td><td>1</td><td>0.0</td><td>1</td><td>0.0</td><td>256.0</td><td>2271379</td><td>train</td><td>15</td><td>6</td><td>0</td><td>286.0</td><td>15</td></tr></table></div>\n",
       "    <br />(rows: 13307953, time: 24.3s,     1GB processed, job: job_XgcYLp6WCTChj4_RdpJCs2vkTcE)<br />\n",
       "    <script>\n",
       "\n",
       "      require.config({\n",
       "        paths: {\n",
       "          d3: '//cdnjs.cloudflare.com/ajax/libs/d3/3.4.13/d3',\n",
       "          plotly: 'https://cdn.plot.ly/plotly-1.5.1.min.js?noext',\n",
       "          jquery: '//ajax.googleapis.com/ajax/libs/jquery/2.0.0/jquery.min'\n",
       "        },\n",
       "        map: {\n",
       "          '*': {\n",
       "            datalab: 'nbextensions/gcpdatalab'\n",
       "          }\n",
       "        },\n",
       "        shim: {\n",
       "          plotly: {\n",
       "            deps: ['d3', 'jquery'],\n",
       "            exports: 'plotly'\n",
       "          }\n",
       "        }\n",
       "      });\n",
       "\n",
       "      require(['datalab/charting', 'datalab/element!3_149919715682', 'base/js/events',\n",
       "          'datalab/style!/nbextensions/gcpdatalab/charting.css'],\n",
       "        function(charts, dom, events) {\n",
       "          charts.render('gcharts', dom, events, 'paged_table', [], {\"rows\": [{\"c\": [{\"v\": 179078}, {\"v\": 4957}, {\"v\": 0.3333333333333333}, {\"v\": 0.0}, {\"v\": null}, {\"v\": null}, {\"v\": 1}, {\"v\": 0.0}, {\"v\": 1}, {\"v\": 0.0}, {\"v\": 0.0}, {\"v\": 2930952}, {\"v\": \"train\"}, {\"v\": 10}, {\"v\": 6}, {\"v\": 0}, {\"v\": 1.0}, {\"v\": 4}]}, {\"c\": [{\"v\": 74660}, {\"v\": 2452}, {\"v\": 0.2}, {\"v\": 0.0}, {\"v\": null}, {\"v\": null}, {\"v\": 1}, {\"v\": 0.0}, {\"v\": 1}, {\"v\": 0.0}, {\"v\": 0.0}, {\"v\": 2011288}, {\"v\": \"train\"}, {\"v\": 15}, {\"v\": 5}, {\"v\": 0}, {\"v\": 30.0}, {\"v\": 6}]}, {\"c\": [{\"v\": 9515}, {\"v\": 40706}, {\"v\": 1.0}, {\"v\": 1.0}, {\"v\": null}, {\"v\": null}, {\"v\": 1}, {\"v\": 0.0}, {\"v\": 3}, {\"v\": 0.0}, {\"v\": 0.0}, {\"v\": 318189}, {\"v\": \"test\"}, {\"v\": 12}, {\"v\": 1}, {\"v\": null}, {\"v\": 13.0}, {\"v\": 2}]}, {\"c\": [{\"v\": 121915}, {\"v\": 19488}, {\"v\": 1.0}, {\"v\": 1.0}, {\"v\": null}, {\"v\": null}, {\"v\": 1}, {\"v\": 0.0}, {\"v\": 3}, {\"v\": 0.0}, {\"v\": 0.0}, {\"v\": 1686562}, {\"v\": \"train\"}, {\"v\": 13}, {\"v\": 6}, {\"v\": 0}, {\"v\": 27.0}, {\"v\": 2}]}, {\"c\": [{\"v\": 133075}, {\"v\": 41540}, {\"v\": 0.3333333333333333}, {\"v\": 0.0}, {\"v\": null}, {\"v\": null}, {\"v\": 1}, {\"v\": 0.0}, {\"v\": 1}, {\"v\": 0.0}, {\"v\": 0.0}, {\"v\": 765224}, {\"v\": \"train\"}, {\"v\": 9}, {\"v\": 4}, {\"v\": 0}, {\"v\": 30.0}, {\"v\": 4}]}, {\"c\": [{\"v\": 125717}, {\"v\": 5479}, {\"v\": 1.0}, {\"v\": 1.0}, {\"v\": null}, {\"v\": null}, {\"v\": 1}, {\"v\": 0.0}, {\"v\": 3}, {\"v\": 0.0}, {\"v\": 0.0}, {\"v\": 3409434}, {\"v\": \"test\"}, {\"v\": 15}, {\"v\": 0}, {\"v\": null}, {\"v\": 30.0}, {\"v\": 2}]}, {\"c\": [{\"v\": 151890}, {\"v\": 49544}, {\"v\": 0.6666666666666666}, {\"v\": 0.5}, {\"v\": 2.0}, {\"v\": 1.0}, {\"v\": 1}, {\"v\": 0.0}, {\"v\": 3}, {\"v\": 1.0}, {\"v\": 1.0}, {\"v\": 532469}, {\"v\": \"train\"}, {\"v\": 15}, {\"v\": 3}, {\"v\": 0}, {\"v\": 1.0}, {\"v\": 2}]}, {\"c\": [{\"v\": 176503}, {\"v\": 1376}, {\"v\": 1.0}, {\"v\": 1.0}, {\"v\": 2.0}, {\"v\": 1.5}, {\"v\": 1}, {\"v\": 0.0}, {\"v\": 4}, {\"v\": 2.0}, {\"v\": 2.0}, {\"v\": 3274120}, {\"v\": \"test\"}, {\"v\": 12}, {\"v\": 5}, {\"v\": null}, {\"v\": 4.0}, {\"v\": 2}]}, {\"c\": [{\"v\": 40502}, {\"v\": 8637}, {\"v\": 1.0}, {\"v\": 1.0}, {\"v\": 3.0}, {\"v\": 2.0}, {\"v\": 1}, {\"v\": 0.0}, {\"v\": 3}, {\"v\": 1.0}, {\"v\": 1.0}, {\"v\": 2980949}, {\"v\": \"train\"}, {\"v\": 13}, {\"v\": 2}, {\"v\": 0}, {\"v\": 30.0}, {\"v\": 2}]}, {\"c\": [{\"v\": 65616}, {\"v\": 21463}, {\"v\": 0.75}, {\"v\": 0.6666666666666666}, {\"v\": 3.0}, {\"v\": 2.0}, {\"v\": 1}, {\"v\": 0.0}, {\"v\": 3}, {\"v\": 0.0}, {\"v\": 1.0}, {\"v\": 2502378}, {\"v\": \"test\"}, {\"v\": 15}, {\"v\": 1}, {\"v\": null}, {\"v\": 14.0}, {\"v\": 3}]}, {\"c\": [{\"v\": 121043}, {\"v\": 21367}, {\"v\": 0.015384615384615385}, {\"v\": 0.0}, {\"v\": 0.00390625}, {\"v\": 0.0}, {\"v\": 1}, {\"v\": 0.0}, {\"v\": 1}, {\"v\": 0.0}, {\"v\": 256.0}, {\"v\": 2538703}, {\"v\": \"test\"}, {\"v\": 8}, {\"v\": 6}, {\"v\": null}, {\"v\": 258.0}, {\"v\": 66}]}, {\"c\": [{\"v\": 172836}, {\"v\": 40604}, {\"v\": 0.05263157894736842}, {\"v\": 0.0}, {\"v\": 0.00390625}, {\"v\": 0.0}, {\"v\": 1}, {\"v\": 0.0}, {\"v\": 1}, {\"v\": 0.0}, {\"v\": 256.0}, {\"v\": 656162}, {\"v\": \"test\"}, {\"v\": 17}, {\"v\": 0}, {\"v\": null}, {\"v\": 264.0}, {\"v\": 20}]}, {\"c\": [{\"v\": 23666}, {\"v\": 2562}, {\"v\": 0.06666666666666667}, {\"v\": 0.0}, {\"v\": 0.00390625}, {\"v\": 0.0}, {\"v\": 1}, {\"v\": 0.0}, {\"v\": 1}, {\"v\": 0.0}, {\"v\": 256.0}, {\"v\": 3127298}, {\"v\": \"test\"}, {\"v\": 11}, {\"v\": 6}, {\"v\": null}, {\"v\": 273.0}, {\"v\": 16}]}, {\"c\": [{\"v\": 30347}, {\"v\": 18963}, {\"v\": 0.041666666666666664}, {\"v\": 0.0}, {\"v\": 0.00390625}, {\"v\": 0.0}, {\"v\": 1}, {\"v\": 0.0}, {\"v\": 1}, {\"v\": 0.0}, {\"v\": 256.0}, {\"v\": 2630519}, {\"v\": \"train\"}, {\"v\": 8}, {\"v\": 2}, {\"v\": 0}, {\"v\": 260.0}, {\"v\": 25}]}, {\"c\": [{\"v\": 53628}, {\"v\": 13198}, {\"v\": 0.05555555555555555}, {\"v\": 0.0}, {\"v\": 0.00390625}, {\"v\": 0.0}, {\"v\": 1}, {\"v\": 0.0}, {\"v\": 1}, {\"v\": 0.0}, {\"v\": 256.0}, {\"v\": 473107}, {\"v\": \"train\"}, {\"v\": 15}, {\"v\": 2}, {\"v\": 0}, {\"v\": 286.0}, {\"v\": 19}]}, {\"c\": [{\"v\": 107679}, {\"v\": 49030}, {\"v\": 0.09090909090909091}, {\"v\": 0.0}, {\"v\": 0.00390625}, {\"v\": 0.0}, {\"v\": 1}, {\"v\": 0.0}, {\"v\": 1}, {\"v\": 0.0}, {\"v\": 256.0}, {\"v\": 2833552}, {\"v\": \"train\"}, {\"v\": 17}, {\"v\": 5}, {\"v\": 0}, {\"v\": 286.0}, {\"v\": 12}]}, {\"c\": [{\"v\": 112049}, {\"v\": 48577}, {\"v\": 0.038461538461538464}, {\"v\": 0.0}, {\"v\": 0.00390625}, {\"v\": 0.0}, {\"v\": 1}, {\"v\": 0.0}, {\"v\": 1}, {\"v\": 0.0}, {\"v\": 256.0}, {\"v\": 1987254}, {\"v\": \"test\"}, {\"v\": 13}, {\"v\": 0}, {\"v\": null}, {\"v\": 263.0}, {\"v\": 27}]}, {\"c\": [{\"v\": 53695}, {\"v\": 7821}, {\"v\": 0.06666666666666667}, {\"v\": 0.0}, {\"v\": 0.00390625}, {\"v\": 0.0}, {\"v\": 1}, {\"v\": 0.0}, {\"v\": 1}, {\"v\": 0.0}, {\"v\": 256.0}, {\"v\": 1471190}, {\"v\": \"test\"}, {\"v\": 18}, {\"v\": 2}, {\"v\": null}, {\"v\": 264.0}, {\"v\": 16}]}, {\"c\": [{\"v\": 180390}, {\"v\": 8910}, {\"v\": 0.022727272727272728}, {\"v\": 0.0}, {\"v\": 0.00390625}, {\"v\": 0.0}, {\"v\": 1}, {\"v\": 0.0}, {\"v\": 1}, {\"v\": 0.0}, {\"v\": 256.0}, {\"v\": 1475206}, {\"v\": \"test\"}, {\"v\": 22}, {\"v\": 6}, {\"v\": null}, {\"v\": 262.0}, {\"v\": 45}]}, {\"c\": [{\"v\": 172332}, {\"v\": 12496}, {\"v\": 0.0625}, {\"v\": 0.0}, {\"v\": 0.00390625}, {\"v\": 0.0}, {\"v\": 1}, {\"v\": 0.0}, {\"v\": 1}, {\"v\": 0.0}, {\"v\": 256.0}, {\"v\": 631273}, {\"v\": \"train\"}, {\"v\": 8}, {\"v\": 4}, {\"v\": 0}, {\"v\": 286.0}, {\"v\": 17}]}, {\"c\": [{\"v\": 116243}, {\"v\": 21137}, {\"v\": 0.041666666666666664}, {\"v\": 0.0}, {\"v\": 0.00390625}, {\"v\": 0.0}, {\"v\": 1}, {\"v\": 0.0}, {\"v\": 1}, {\"v\": 0.0}, {\"v\": 256.0}, {\"v\": 13040}, {\"v\": \"test\"}, {\"v\": 7}, {\"v\": 5}, {\"v\": null}, {\"v\": 259.0}, {\"v\": 25}]}, {\"c\": [{\"v\": 72604}, {\"v\": 21469}, {\"v\": 0.047619047619047616}, {\"v\": 0.0}, {\"v\": 0.00390625}, {\"v\": 0.0}, {\"v\": 1}, {\"v\": 0.0}, {\"v\": 1}, {\"v\": 0.0}, {\"v\": 256.0}, {\"v\": 3316772}, {\"v\": \"train\"}, {\"v\": 12}, {\"v\": 1}, {\"v\": 0}, {\"v\": 286.0}, {\"v\": 22}]}, {\"c\": [{\"v\": 178829}, {\"v\": 31510}, {\"v\": 0.037037037037037035}, {\"v\": 0.0}, {\"v\": 0.00390625}, {\"v\": 0.0}, {\"v\": 1}, {\"v\": 0.0}, {\"v\": 1}, {\"v\": 0.0}, {\"v\": 256.0}, {\"v\": 959919}, {\"v\": \"test\"}, {\"v\": 17}, {\"v\": 0}, {\"v\": null}, {\"v\": 263.0}, {\"v\": 28}]}, {\"c\": [{\"v\": 96234}, {\"v\": 13194}, {\"v\": 0.05555555555555555}, {\"v\": 0.0}, {\"v\": 0.00390625}, {\"v\": 0.0}, {\"v\": 1}, {\"v\": 0.0}, {\"v\": 1}, {\"v\": 0.0}, {\"v\": 256.0}, {\"v\": 1447728}, {\"v\": \"train\"}, {\"v\": 14}, {\"v\": 2}, {\"v\": 0}, {\"v\": 263.0}, {\"v\": 19}]}, {\"c\": [{\"v\": 9438}, {\"v\": 32727}, {\"v\": 0.07142857142857142}, {\"v\": 0.0}, {\"v\": 0.00390625}, {\"v\": 0.0}, {\"v\": 1}, {\"v\": 0.0}, {\"v\": 1}, {\"v\": 0.0}, {\"v\": 256.0}, {\"v\": 2271379}, {\"v\": \"train\"}, {\"v\": 15}, {\"v\": 6}, {\"v\": 0}, {\"v\": 286.0}, {\"v\": 15}]}], \"cols\": [{\"type\": \"number\", \"id\": \"user_id\", \"label\": \"user_id\"}, {\"type\": \"number\", \"id\": \"product_id\", \"label\": \"product_id\"}, {\"type\": \"number\", \"id\": \"perc_all_orders\", \"label\": \"perc_all_orders\"}, {\"type\": \"number\", \"id\": \"perc_reorder\", \"label\": \"perc_reorder\"}, {\"type\": \"number\", \"id\": \"orders_per_day\", \"label\": \"orders_per_day\"}, {\"type\": \"number\", \"id\": \"reorders_per_day\", \"label\": \"reorders_per_day\"}, {\"type\": \"number\", \"id\": \"first_order_number\", \"label\": \"first_order_number\"}, {\"type\": \"number\", \"id\": \"first_order_day\", \"label\": \"first_order_day\"}, {\"type\": \"number\", \"id\": \"last_order_number\", \"label\": \"last_order_number\"}, {\"type\": \"number\", \"id\": \"last_order_day\", \"label\": \"last_order_day\"}, {\"type\": \"number\", \"id\": \"days_bw_first_last_order\", \"label\": \"days_bw_first_last_order\"}, {\"type\": \"number\", \"id\": \"order_id\", \"label\": \"order_id\"}, {\"type\": \"string\", \"id\": \"eval_set\", \"label\": \"eval_set\"}, {\"type\": \"number\", \"id\": \"order_hour_of_day\", \"label\": \"order_hour_of_day\"}, {\"type\": \"number\", \"id\": \"order_dow\", \"label\": \"order_dow\"}, {\"type\": \"number\", \"id\": \"is_ordered\", \"label\": \"is_ordered\"}, {\"type\": \"number\", \"id\": \"days_since_last_order\", \"label\": \"days_since_last_order\"}, {\"type\": \"number\", \"id\": \"orders_since_last_order\", \"label\": \"orders_since_last_order\"}]},\n",
       "            {\n",
       "              pageSize: 25,\n",
       "              cssClassNames:  {\n",
       "                tableRow: 'gchart-table-row',\n",
       "                headerRow: 'gchart-table-headerrow',\n",
       "                oddTableRow: 'gchart-table-oddrow',\n",
       "                selectedTableRow: 'gchart-table-selectedrow',\n",
       "                hoverTableRow: 'gchart-table-hoverrow',\n",
       "                tableCell: 'gchart-table-cell',\n",
       "                headerCell: 'gchart-table-headercell',\n",
       "                rowNumberCell: 'gchart-table-rownumcell'\n",
       "              }\n",
       "            },\n",
       "            {source_index: 2, fields: 'user_id,product_id,perc_all_orders,perc_reorder,orders_per_day,reorders_per_day,first_order_number,first_order_day,last_order_number,last_order_day,days_bw_first_last_order,order_id,eval_set,order_hour_of_day,order_dow,is_ordered,days_since_last_order,orders_since_last_order'},\n",
       "            0,\n",
       "            13307953);\n",
       "        }\n",
       "      );\n",
       "    </script>\n",
       "  "
      ],
      "text/plain": [
       "QueryResultsTable job_XgcYLp6WCTChj4_RdpJCs2vkTcE"
      ]
     },
     "execution_count": 32,
     "metadata": {},
     "output_type": "execute_result"
    }
   ],
   "source": [
    "%%bq execute -q user_products_features_q -t instacart.user_products_features  -m overwrite"
   ]
  },
  {
   "cell_type": "markdown",
   "metadata": {},
   "source": [
    "## User Features\n",
    "\n",
    "Some additional user-level features that we'll join in later"
   ]
  },
  {
   "cell_type": "code",
   "execution_count": 33,
   "metadata": {
    "collapsed": true
   },
   "outputs": [],
   "source": [
    "%%bq query -n user_features_q\n",
    "SELECT users.user_id,\n",
    "  ANY_VALUE(users.num_orders) AS num_orders, \n",
    "  ANY_VALUE(users.days_bw_first_last_order) / ANY_VALUE(users.num_orders) AS avg_days_bw_orders,\n",
    "  COUNT(DISTINCT up.product_id) AS num_products,\n",
    "  COUNT(DISTINCT products.aisle_id) AS num_aisles,\n",
    "  COUNT(DISTINCT products.department_id) AS num_departments\n",
    "FROM instacart.users AS users\n",
    "INNER JOIN instacart.user_products AS up ON users.user_id = up.user_id\n",
    "INNER JOIN instacart.products AS products ON up.product_id = products.product_id\n",
    "GROUP BY 1"
   ]
  },
  {
   "cell_type": "code",
   "execution_count": 34,
   "metadata": {
    "collapsed": false
   },
   "outputs": [
    {
     "data": {
      "text/html": [
       "\n",
       "    <div class=\"bqtv\" id=\"4_149919718983\"><table><tr><th>user_id</th><th>num_orders</th><th>avg_days_bw_orders</th><th>num_products</th><th>num_aisles</th><th>num_departments</th></tr><tr><td>99295</td><td>3</td><td>0.0</td><td>1</td><td>1</td><td>1</td></tr><tr><td>109010</td><td>3</td><td>0.0</td><td>1</td><td>1</td><td>1</td></tr><tr><td>181478</td><td>3</td><td>0.0</td><td>3</td><td>2</td><td>1</td></tr><tr><td>164320</td><td>3</td><td>0.0</td><td>2</td><td>2</td><td>1</td></tr><tr><td>62180</td><td>3</td><td>0.0</td><td>2</td><td>1</td><td>1</td></tr><tr><td>15495</td><td>3</td><td>0.0</td><td>1</td><td>1</td><td>1</td></tr><tr><td>202329</td><td>3</td><td>2.0</td><td>4</td><td>3</td><td>1</td></tr><tr><td>50492</td><td>4</td><td>2.0</td><td>2</td><td>2</td><td>1</td></tr><tr><td>49581</td><td>3</td><td>2.0</td><td>1</td><td>1</td><td>1</td></tr><tr><td>172259</td><td>5</td><td>2.0</td><td>7</td><td>2</td><td>1</td></tr><tr><td>113387</td><td>3</td><td>2.0</td><td>3</td><td>2</td><td>1</td></tr><tr><td>97779</td><td>14</td><td>2.0</td><td>1</td><td>1</td><td>1</td></tr><tr><td>119293</td><td>4</td><td>2.25</td><td>7</td><td>4</td><td>1</td></tr><tr><td>167624</td><td>4</td><td>2.25</td><td>2</td><td>1</td><td>1</td></tr><tr><td>148573</td><td>22</td><td>2.5</td><td>1</td><td>1</td><td>1</td></tr><tr><td>70227</td><td>8</td><td>2.625</td><td>10</td><td>3</td><td>1</td></tr><tr><td>199604</td><td>8</td><td>2.75</td><td>1</td><td>1</td><td>1</td></tr><tr><td>25740</td><td>4</td><td>2.75</td><td>1</td><td>1</td><td>1</td></tr><tr><td>114577</td><td>4</td><td>3.0</td><td>7</td><td>2</td><td>1</td></tr><tr><td>78411</td><td>7</td><td>3.0</td><td>2</td><td>2</td><td>1</td></tr><tr><td>5120</td><td>4</td><td>3.25</td><td>6</td><td>1</td><td>1</td></tr><tr><td>165071</td><td>4</td><td>3.5</td><td>3</td><td>1</td><td>1</td></tr><tr><td>78397</td><td>4</td><td>3.5</td><td>1</td><td>1</td><td>1</td></tr><tr><td>113793</td><td>8</td><td>3.875</td><td>6</td><td>2</td><td>1</td></tr><tr><td>29744</td><td>3</td><td>4.0</td><td>2</td><td>1</td><td>1</td></tr></table></div>\n",
       "    <br />(rows: 206209, time: 31.7s,   219MB processed, job: job_zvFU1lcTfK_mhKy0eBSbwQJ52fI)<br />\n",
       "    <script>\n",
       "\n",
       "      require.config({\n",
       "        paths: {\n",
       "          d3: '//cdnjs.cloudflare.com/ajax/libs/d3/3.4.13/d3',\n",
       "          plotly: 'https://cdn.plot.ly/plotly-1.5.1.min.js?noext',\n",
       "          jquery: '//ajax.googleapis.com/ajax/libs/jquery/2.0.0/jquery.min'\n",
       "        },\n",
       "        map: {\n",
       "          '*': {\n",
       "            datalab: 'nbextensions/gcpdatalab'\n",
       "          }\n",
       "        },\n",
       "        shim: {\n",
       "          plotly: {\n",
       "            deps: ['d3', 'jquery'],\n",
       "            exports: 'plotly'\n",
       "          }\n",
       "        }\n",
       "      });\n",
       "\n",
       "      require(['datalab/charting', 'datalab/element!4_149919718983', 'base/js/events',\n",
       "          'datalab/style!/nbextensions/gcpdatalab/charting.css'],\n",
       "        function(charts, dom, events) {\n",
       "          charts.render('gcharts', dom, events, 'paged_table', [], {\"rows\": [{\"c\": [{\"v\": 99295}, {\"v\": 3}, {\"v\": 0.0}, {\"v\": 1}, {\"v\": 1}, {\"v\": 1}]}, {\"c\": [{\"v\": 109010}, {\"v\": 3}, {\"v\": 0.0}, {\"v\": 1}, {\"v\": 1}, {\"v\": 1}]}, {\"c\": [{\"v\": 181478}, {\"v\": 3}, {\"v\": 0.0}, {\"v\": 3}, {\"v\": 2}, {\"v\": 1}]}, {\"c\": [{\"v\": 164320}, {\"v\": 3}, {\"v\": 0.0}, {\"v\": 2}, {\"v\": 2}, {\"v\": 1}]}, {\"c\": [{\"v\": 62180}, {\"v\": 3}, {\"v\": 0.0}, {\"v\": 2}, {\"v\": 1}, {\"v\": 1}]}, {\"c\": [{\"v\": 15495}, {\"v\": 3}, {\"v\": 0.0}, {\"v\": 1}, {\"v\": 1}, {\"v\": 1}]}, {\"c\": [{\"v\": 202329}, {\"v\": 3}, {\"v\": 2.0}, {\"v\": 4}, {\"v\": 3}, {\"v\": 1}]}, {\"c\": [{\"v\": 50492}, {\"v\": 4}, {\"v\": 2.0}, {\"v\": 2}, {\"v\": 2}, {\"v\": 1}]}, {\"c\": [{\"v\": 49581}, {\"v\": 3}, {\"v\": 2.0}, {\"v\": 1}, {\"v\": 1}, {\"v\": 1}]}, {\"c\": [{\"v\": 172259}, {\"v\": 5}, {\"v\": 2.0}, {\"v\": 7}, {\"v\": 2}, {\"v\": 1}]}, {\"c\": [{\"v\": 113387}, {\"v\": 3}, {\"v\": 2.0}, {\"v\": 3}, {\"v\": 2}, {\"v\": 1}]}, {\"c\": [{\"v\": 97779}, {\"v\": 14}, {\"v\": 2.0}, {\"v\": 1}, {\"v\": 1}, {\"v\": 1}]}, {\"c\": [{\"v\": 119293}, {\"v\": 4}, {\"v\": 2.25}, {\"v\": 7}, {\"v\": 4}, {\"v\": 1}]}, {\"c\": [{\"v\": 167624}, {\"v\": 4}, {\"v\": 2.25}, {\"v\": 2}, {\"v\": 1}, {\"v\": 1}]}, {\"c\": [{\"v\": 148573}, {\"v\": 22}, {\"v\": 2.5}, {\"v\": 1}, {\"v\": 1}, {\"v\": 1}]}, {\"c\": [{\"v\": 70227}, {\"v\": 8}, {\"v\": 2.625}, {\"v\": 10}, {\"v\": 3}, {\"v\": 1}]}, {\"c\": [{\"v\": 199604}, {\"v\": 8}, {\"v\": 2.75}, {\"v\": 1}, {\"v\": 1}, {\"v\": 1}]}, {\"c\": [{\"v\": 25740}, {\"v\": 4}, {\"v\": 2.75}, {\"v\": 1}, {\"v\": 1}, {\"v\": 1}]}, {\"c\": [{\"v\": 114577}, {\"v\": 4}, {\"v\": 3.0}, {\"v\": 7}, {\"v\": 2}, {\"v\": 1}]}, {\"c\": [{\"v\": 78411}, {\"v\": 7}, {\"v\": 3.0}, {\"v\": 2}, {\"v\": 2}, {\"v\": 1}]}, {\"c\": [{\"v\": 5120}, {\"v\": 4}, {\"v\": 3.25}, {\"v\": 6}, {\"v\": 1}, {\"v\": 1}]}, {\"c\": [{\"v\": 165071}, {\"v\": 4}, {\"v\": 3.5}, {\"v\": 3}, {\"v\": 1}, {\"v\": 1}]}, {\"c\": [{\"v\": 78397}, {\"v\": 4}, {\"v\": 3.5}, {\"v\": 1}, {\"v\": 1}, {\"v\": 1}]}, {\"c\": [{\"v\": 113793}, {\"v\": 8}, {\"v\": 3.875}, {\"v\": 6}, {\"v\": 2}, {\"v\": 1}]}, {\"c\": [{\"v\": 29744}, {\"v\": 3}, {\"v\": 4.0}, {\"v\": 2}, {\"v\": 1}, {\"v\": 1}]}], \"cols\": [{\"type\": \"number\", \"id\": \"user_id\", \"label\": \"user_id\"}, {\"type\": \"number\", \"id\": \"num_orders\", \"label\": \"num_orders\"}, {\"type\": \"number\", \"id\": \"avg_days_bw_orders\", \"label\": \"avg_days_bw_orders\"}, {\"type\": \"number\", \"id\": \"num_products\", \"label\": \"num_products\"}, {\"type\": \"number\", \"id\": \"num_aisles\", \"label\": \"num_aisles\"}, {\"type\": \"number\", \"id\": \"num_departments\", \"label\": \"num_departments\"}]},\n",
       "            {\n",
       "              pageSize: 25,\n",
       "              cssClassNames:  {\n",
       "                tableRow: 'gchart-table-row',\n",
       "                headerRow: 'gchart-table-headerrow',\n",
       "                oddTableRow: 'gchart-table-oddrow',\n",
       "                selectedTableRow: 'gchart-table-selectedrow',\n",
       "                hoverTableRow: 'gchart-table-hoverrow',\n",
       "                tableCell: 'gchart-table-cell',\n",
       "                headerCell: 'gchart-table-headercell',\n",
       "                rowNumberCell: 'gchart-table-rownumcell'\n",
       "              }\n",
       "            },\n",
       "            {source_index: 3, fields: 'user_id,num_orders,avg_days_bw_orders,num_products,num_aisles,num_departments'},\n",
       "            0,\n",
       "            206209);\n",
       "        }\n",
       "      );\n",
       "    </script>\n",
       "  "
      ],
      "text/plain": [
       "QueryResultsTable job_zvFU1lcTfK_mhKy0eBSbwQJ52fI"
      ]
     },
     "execution_count": 34,
     "metadata": {},
     "output_type": "execute_result"
    }
   ],
   "source": [
    "%%bq execute -q user_features_q -t instacart.user_features  -m overwrite"
   ]
  },
  {
   "cell_type": "markdown",
   "metadata": {},
   "source": [
    "## Product Features\n",
    "\n",
    "Some additional product-level features that we'll join in later"
   ]
  },
  {
   "cell_type": "code",
   "execution_count": 35,
   "metadata": {
    "collapsed": true
   },
   "outputs": [],
   "source": [
    "%%bq query -n product_features_q\n",
    "WITH up_features AS (\n",
    "  SELECT up.user_id, up.product_id,\n",
    "    up.num_orders, users.num_orders AS `num_orders_user`,\n",
    "    up.num_reorders, users.num_orders - up.first_order_number AS `num_reorders_user`,\n",
    "    users.days_bw_first_last_order AS `order_days`, users.days_bw_first_last_order - up.first_order_day AS `reorder_days`,\n",
    "    up.first_order_number, up.first_order_day\n",
    "  FROM instacart.user_products AS up\n",
    "  INNER JOIN instacart.users AS users ON up.user_id = users.user_id\n",
    ")\n",
    "\n",
    "SELECT up.product_id, products.aisle_id, products.department_id,\n",
    "  COUNT(DISTINCT user_id) / ANY_VALUE(num_users_total) AS `perc_users`,\n",
    "  SUM(num_orders) / SUM(num_orders_user) AS `perc_all_orders`,\n",
    "  SUM(num_reorders) / NULLIF(SUM(num_reorders_user),0) AS `perc_reorders`,\n",
    "  SUM(num_orders) / NULLIF(SUM(order_days),0) AS `orders_per_day`,\n",
    "  SUM(num_reorders) / NULLIF(SUM(reorder_days),0) AS `reorders_per_day`,\n",
    "  AVG(first_order_number) AS `avg_first_order_number`,\n",
    "  AVG(first_order_day) AS `avg_first_order_day`\n",
    "FROM up_features AS up\n",
    "INNER JOIN instacart.products AS products ON up.product_id = products.product_id\n",
    "INNER JOIN (\n",
    "  SELECT COUNT(DISTINCT user_id) AS num_users_total\n",
    "  FROM instacart.user_products\n",
    ") AS x ON 1=1\n",
    "GROUP BY 1,2,3"
   ]
  },
  {
   "cell_type": "code",
   "execution_count": 36,
   "metadata": {
    "collapsed": false
   },
   "outputs": [
    {
     "data": {
      "text/html": [
       "\n",
       "    <div class=\"bqtv\" id=\"5_149919721773\"><table><tr><th>product_id</th><th>aisle_id</th><th>department_id</th><th>perc_users</th><th>perc_all_orders</th><th>perc_reorders</th><th>orders_per_day</th><th>reorders_per_day</th><th>avg_first_order_number</th><th>avg_first_order_day</th></tr><tr><td>17574</td><td>1</td><td>20</td><td>0.000315214175909</td><td>0.077811550152</td><td>0.0641547861507</td><td>0.00918220946915</td><td>0.00736842105263</td><td>10.2</td><td>82.9230769231</td></tr><tr><td>43221</td><td>1</td><td>20</td><td>0.00332672191805</td><td>0.116397910516</td><td>0.128388554217</td><td>0.0137864247429</td><td>0.014635193133</td><td>10.1865889213</td><td>80.8994169096</td></tr><tr><td>16178</td><td>1</td><td>20</td><td>0.000635277800678</td><td>0.0664581704457</td><td>0.044992743106</td><td>0.00822182814767</td><td>0.00557303370787</td><td>8.25190839695</td><td>66.9083969466</td></tr><tr><td>47979</td><td>1</td><td>20</td><td>0.000223074647566</td><td>0.106893106893</td><td>0.104810996564</td><td>0.0114646951677</td><td>0.0111517367459</td><td>9.10869565217</td><td>83.9782608696</td></tr><tr><td>37258</td><td>1</td><td>20</td><td>0.00035885921565</td><td>0.0591715976331</td><td>0.0328767123288</td><td>0.00683781935724</td><td>0.00342661336379</td><td>10.3243243243</td><td>75.4189189189</td></tr><tr><td>21384</td><td>1</td><td>20</td><td>0.00105233040265</td><td>0.123502126015</td><td>0.125074096028</td><td>0.014794748906</td><td>0.0140694805628</td><td>8.29493087558</td><td>60.8156682028</td></tr><tr><td>48474</td><td>1</td><td>20</td><td>0.000257020789587</td><td>0.0770533446232</td><td>0.0524861878453</td><td>0.00868983957219</td><td>0.00606157281863</td><td>8.62264150943</td><td>79.3018867925</td></tr><tr><td>33399</td><td>1</td><td>20</td><td>0.00121236221503</td><td>0.0706787963611</td><td>0.0648689900789</td><td>0.00854455009983</td><td>0.00768906042697</td><td>12.856</td><td>103.752</td></tr><tr><td>22281</td><td>1</td><td>20</td><td>0.0109500555262</td><td>0.0683343104684</td><td>0.0600092893637</td><td>0.00836089746144</td><td>0.00723244974045</td><td>12.8914968999</td><td>103.58768822</td></tr><tr><td>3991</td><td>1</td><td>20</td><td>0.000547987721195</td><td>0.0787401574803</td><td>0.0625498007968</td><td>0.0097911227154</td><td>0.00758857363817</td><td>8.13274336283</td><td>60.9469026549</td></tr><tr><td>18923</td><td>1</td><td>20</td><td>0.00258475624245</td><td>0.0713839316714</td><td>0.0585244738709</td><td>0.00863611542824</td><td>0.00703894885031</td><td>11.1500938086</td><td>91.392120075</td></tr><tr><td>20137</td><td>1</td><td>20</td><td>0.000872900794825</td><td>0.0869683012734</td><td>0.0928853754941</td><td>0.00983516146823</td><td>0.0100177619893</td><td>12.0722222222</td><td>103.127777778</td></tr><tr><td>2539</td><td>1</td><td>20</td><td>0.00171185544763</td><td>0.0875094434651</td><td>0.0721518987342</td><td>0.0099359524218</td><td>0.00756737620038</td><td>9.07082152975</td><td>70.1246458924</td></tr><tr><td>29180</td><td>1</td><td>20</td><td>0.00353524821904</td><td>0.125037110341</td><td>0.140129374172</td><td>0.0155759783527</td><td>0.0171924154483</td><td>10.122085048</td><td>79.0891632373</td></tr><tr><td>48556</td><td>1</td><td>20</td><td>0.000290966931608</td><td>0.103200522534</td><td>0.0875</td><td>0.012555626192</td><td>0.0105037513398</td><td>6.85</td><td>54.2333333333</td></tr><tr><td>43037</td><td>1</td><td>20</td><td>0.00117356662415</td><td>0.0700749228735</td><td>0.0678994510257</td><td>0.00872890970977</td><td>0.00843230829954</td><td>13.826446281</td><td>110.648760331</td></tr><tr><td>20344</td><td>1</td><td>20</td><td>0.00128510394794</td><td>0.114303054825</td><td>0.118296529968</td><td>0.0115205024162</td><td>0.0115906193254</td><td>9.08301886792</td><td>87.3962264151</td></tr><tr><td>36878</td><td>1</td><td>20</td><td>0.0022986387597</td><td>0.094713834696</td><td>0.0966935259794</td><td>0.0116184385613</td><td>0.0113619667956</td><td>10.8755274262</td><td>83.2172995781</td></tr><tr><td>27216</td><td>1</td><td>20</td><td>0.00201252127696</td><td>0.068531877559</td><td>0.0438489646772</td><td>0.00788894873867</td><td>0.00503135864153</td><td>8.89156626506</td><td>76.7975903614</td></tr><tr><td>37167</td><td>1</td><td>20</td><td>0.000843804101664</td><td>0.0771420438372</td><td>0.0428445229682</td><td>0.0080688382064</td><td>0.00451351728631</td><td>7.17816091954</td><td>69.5114942529</td></tr><tr><td>17302</td><td>1</td><td>20</td><td>0.000969889772027</td><td>0.0797872340426</td><td>0.0736961451247</td><td>0.00808447046718</td><td>0.00718113019941</td><td>11.86</td><td>113.58</td></tr><tr><td>554</td><td>1</td><td>20</td><td>0.00170215654991</td><td>0.161957618567</td><td>0.189634146341</td><td>0.0189118331517</td><td>0.0216603983842</td><td>8.5698005698</td><td>70.7122507123</td></tr><tr><td>45757</td><td>1</td><td>20</td><td>0.00266234742422</td><td>0.0527738598966</td><td>0.0315608609152</td><td>0.00690758603714</td><td>0.00398083723052</td><td>10.8524590164</td><td>77.1074681239</td></tr><tr><td>39968</td><td>1</td><td>20</td><td>0.00129480284566</td><td>0.0745889586954</td><td>0.0833810888252</td><td>0.00924943641427</td><td>0.00987880639576</td><td>14.9475655431</td><td>115.621722846</td></tr><tr><td>49445</td><td>1</td><td>20</td><td>0.000615880005237</td><td>0.0685944855414</td><td>0.0635838150289</td><td>0.00837197849551</td><td>0.00725525299161</td><td>13.8818897638</td><td>108.299212598</td></tr></table></div>\n",
       "    <br />(rows: 49677, time: 26.2s,   644MB processed, job: job_1H51atpi84KgwmhjyWJrTdrHqtE)<br />\n",
       "    <script>\n",
       "\n",
       "      require.config({\n",
       "        paths: {\n",
       "          d3: '//cdnjs.cloudflare.com/ajax/libs/d3/3.4.13/d3',\n",
       "          plotly: 'https://cdn.plot.ly/plotly-1.5.1.min.js?noext',\n",
       "          jquery: '//ajax.googleapis.com/ajax/libs/jquery/2.0.0/jquery.min'\n",
       "        },\n",
       "        map: {\n",
       "          '*': {\n",
       "            datalab: 'nbextensions/gcpdatalab'\n",
       "          }\n",
       "        },\n",
       "        shim: {\n",
       "          plotly: {\n",
       "            deps: ['d3', 'jquery'],\n",
       "            exports: 'plotly'\n",
       "          }\n",
       "        }\n",
       "      });\n",
       "\n",
       "      require(['datalab/charting', 'datalab/element!5_149919721773', 'base/js/events',\n",
       "          'datalab/style!/nbextensions/gcpdatalab/charting.css'],\n",
       "        function(charts, dom, events) {\n",
       "          charts.render('gcharts', dom, events, 'paged_table', [], {\"rows\": [{\"c\": [{\"v\": 17574}, {\"v\": 1}, {\"v\": 20}, {\"v\": 0.00031521417590890796}, {\"v\": 0.07781155015197569}, {\"v\": 0.06415478615071284}, {\"v\": 0.009182209469153515}, {\"v\": 0.007368421052631579}, {\"v\": 10.2}, {\"v\": 82.9230769230769}]}, {\"c\": [{\"v\": 43221}, {\"v\": 1}, {\"v\": 20}, {\"v\": 0.003326721918054013}, {\"v\": 0.11639791051555758}, {\"v\": 0.12838855421686746}, {\"v\": 0.013786424742933616}, {\"v\": 0.01463519313304721}, {\"v\": 10.186588921282796}, {\"v\": 80.89941690962101}]}, {\"c\": [{\"v\": 16178}, {\"v\": 1}, {\"v\": 20}, {\"v\": 0.0006352778006779529}, {\"v\": 0.06645817044566067}, {\"v\": 0.04499274310595065}, {\"v\": 0.008221828147670482}, {\"v\": 0.005573033707865168}, {\"v\": 8.251908396946567}, {\"v\": 66.9083969465649}]}, {\"c\": [{\"v\": 47979}, {\"v\": 1}, {\"v\": 20}, {\"v\": 0.0002230746475663041}, {\"v\": 0.1068931068931069}, {\"v\": 0.10481099656357389}, {\"v\": 0.01146469516768456}, {\"v\": 0.011151736745886655}, {\"v\": 9.108695652173914}, {\"v\": 83.97826086956522}]}, {\"c\": [{\"v\": 37258}, {\"v\": 1}, {\"v\": 20}, {\"v\": 0.00035885921565014135}, {\"v\": 0.05917159763313609}, {\"v\": 0.03287671232876712}, {\"v\": 0.00683781935724498}, {\"v\": 0.0034266133637921186}, {\"v\": 10.324324324324325}, {\"v\": 75.41891891891892}]}, {\"c\": [{\"v\": 21384}, {\"v\": 1}, {\"v\": 20}, {\"v\": 0.0010523304026497388}, {\"v\": 0.12350212601468882}, {\"v\": 0.12507409602845287}, {\"v\": 0.014794748906022087}, {\"v\": 0.014069480562779223}, {\"v\": 8.294930875576037}, {\"v\": 60.81566820276498}]}, {\"c\": [{\"v\": 48474}, {\"v\": 1}, {\"v\": 20}, {\"v\": 0.0002570207895872634}, {\"v\": 0.07705334462320068}, {\"v\": 0.052486187845303865}, {\"v\": 0.008689839572192513}, {\"v\": 0.006061572818631361}, {\"v\": 8.622641509433963}, {\"v\": 79.30188679245282}]}, {\"c\": [{\"v\": 33399}, {\"v\": 1}, {\"v\": 20}, {\"v\": 0.0012123622150342613}, {\"v\": 0.07067879636109167}, {\"v\": 0.06486899007886034}, {\"v\": 0.008544550099827417}, {\"v\": 0.007689060426969003}, {\"v\": 12.855999999999998}, {\"v\": 103.752}]}, {\"c\": [{\"v\": 22281}, {\"v\": 1}, {\"v\": 20}, {\"v\": 0.010950055526189448}, {\"v\": 0.06833431046837339}, {\"v\": 0.06000928936367859}, {\"v\": 0.008360897461443431}, {\"v\": 0.007232449740445367}, {\"v\": 12.891496899911425}, {\"v\": 103.58768821966343}]}, {\"c\": [{\"v\": 3991}, {\"v\": 1}, {\"v\": 20}, {\"v\": 0.0005479877211954861}, {\"v\": 0.07874015748031496}, {\"v\": 0.06254980079681274}, {\"v\": 0.0097911227154047}, {\"v\": 0.0075885736381652085}, {\"v\": 8.132743362831858}, {\"v\": 60.94690265486726}]}, {\"c\": [{\"v\": 18923}, {\"v\": 1}, {\"v\": 20}, {\"v\": 0.002584756242453045}, {\"v\": 0.0713839316714117}, {\"v\": 0.058524473870891464}, {\"v\": 0.008636115428235393}, {\"v\": 0.0070389488503050214}, {\"v\": 11.150093808630395}, {\"v\": 91.39212007504692}]}, {\"c\": [{\"v\": 20137}, {\"v\": 1}, {\"v\": 20}, {\"v\": 0.0008729007948246681}, {\"v\": 0.08696830127336765}, {\"v\": 0.09288537549407115}, {\"v\": 0.00983516146822722}, {\"v\": 0.010017761989342806}, {\"v\": 12.072222222222225}, {\"v\": 103.12777777777778}]}, {\"c\": [{\"v\": 2539}, {\"v\": 1}, {\"v\": 20}, {\"v\": 0.001711855447628377}, {\"v\": 0.08750944346512214}, {\"v\": 0.07215189873417721}, {\"v\": 0.00993595242179905}, {\"v\": 0.007567376200380582}, {\"v\": 9.070821529745043}, {\"v\": 70.12464589235128}]}, {\"c\": [{\"v\": 29180}, {\"v\": 1}, {\"v\": 20}, {\"v\": 0.003535248219039906}, {\"v\": 0.12503711034141515}, {\"v\": 0.14012937417192736}, {\"v\": 0.015575978352656915}, {\"v\": 0.017192415448312792}, {\"v\": 10.122085048010977}, {\"v\": 79.08916323731138}]}, {\"c\": [{\"v\": 48556}, {\"v\": 1}, {\"v\": 20}, {\"v\": 0.0002909669316082227}, {\"v\": 0.10320052253429131}, {\"v\": 0.0875}, {\"v\": 0.012555626191989829}, {\"v\": 0.010503751339764202}, {\"v\": 6.850000000000001}, {\"v\": 54.23333333333334}]}, {\"c\": [{\"v\": 43037}, {\"v\": 1}, {\"v\": 20}, {\"v\": 0.001173566624153165}, {\"v\": 0.07007492287351257}, {\"v\": 0.06789945102571511}, {\"v\": 0.008728909709768327}, {\"v\": 0.008432308299544297}, {\"v\": 13.826446280991734}, {\"v\": 110.64876033057853}]}, {\"c\": [{\"v\": 20344}, {\"v\": 1}, {\"v\": 20}, {\"v\": 0.001285103947936317}, {\"v\": 0.11430305482500505}, {\"v\": 0.11829652996845426}, {\"v\": 0.011520502416246968}, {\"v\": 0.011590619325425955}, {\"v\": 9.08301886792453}, {\"v\": 87.39622641509433}]}, {\"c\": [{\"v\": 36878}, {\"v\": 1}, {\"v\": 20}, {\"v\": 0.0022986387597049595}, {\"v\": 0.09471383469602526}, {\"v\": 0.09669352597943873}, {\"v\": 0.011618438561299677}, {\"v\": 0.01136196679563152}, {\"v\": 10.87552742616034}, {\"v\": 83.21729957805906}]}, {\"c\": [{\"v\": 27216}, {\"v\": 1}, {\"v\": 20}, {\"v\": 0.002012521276956874}, {\"v\": 0.06853187755897835}, {\"v\": 0.0438489646772229}, {\"v\": 0.007888948738665948}, {\"v\": 0.0050313586415331665}, {\"v\": 8.891566265060243}, {\"v\": 76.79759036144578}]}, {\"c\": [{\"v\": 37167}, {\"v\": 1}, {\"v\": 20}, {\"v\": 0.0008438041016638459}, {\"v\": 0.0771420438371762}, {\"v\": 0.04284452296819788}, {\"v\": 0.008068838206395522}, {\"v\": 0.0045135172863058955}, {\"v\": 7.17816091954023}, {\"v\": 69.51149425287356}]}, {\"c\": [{\"v\": 17302}, {\"v\": 1}, {\"v\": 20}, {\"v\": 0.000969889772027409}, {\"v\": 0.0797872340425532}, {\"v\": 0.07369614512471655}, {\"v\": 0.008084470467184399}, {\"v\": 0.0071811301994144615}, {\"v\": 11.859999999999998}, {\"v\": 113.58000000000001}]}, {\"c\": [{\"v\": 554}, {\"v\": 1}, {\"v\": 20}, {\"v\": 0.001702156549908103}, {\"v\": 0.16195761856710394}, {\"v\": 0.18963414634146342}, {\"v\": 0.018911833151677614}, {\"v\": 0.02166039838417607}, {\"v\": 8.56980056980057}, {\"v\": 70.71225071225072}]}, {\"c\": [{\"v\": 45757}, {\"v\": 1}, {\"v\": 20}, {\"v\": 0.002662347424215238}, {\"v\": 0.05277385989656794}, {\"v\": 0.031560860915174536}, {\"v\": 0.00690758603713789}, {\"v\": 0.003980837230523554}, {\"v\": 10.852459016393441}, {\"v\": 77.1074681238616}]}, {\"c\": [{\"v\": 39968}, {\"v\": 1}, {\"v\": 20}, {\"v\": 0.001294802845656591}, {\"v\": 0.07458895869536158}, {\"v\": 0.0833810888252149}, {\"v\": 0.009249436414268664}, {\"v\": 0.009878806395763317}, {\"v\": 14.947565543071164}, {\"v\": 115.62172284644195}]}, {\"c\": [{\"v\": 49445}, {\"v\": 1}, {\"v\": 20}, {\"v\": 0.0006158800052374048}, {\"v\": 0.06859448554135844}, {\"v\": 0.06358381502890173}, {\"v\": 0.008371978495506218}, {\"v\": 0.0072552529916140585}, {\"v\": 13.881889763779528}, {\"v\": 108.2992125984252}]}], \"cols\": [{\"type\": \"number\", \"id\": \"product_id\", \"label\": \"product_id\"}, {\"type\": \"number\", \"id\": \"aisle_id\", \"label\": \"aisle_id\"}, {\"type\": \"number\", \"id\": \"department_id\", \"label\": \"department_id\"}, {\"type\": \"number\", \"id\": \"perc_users\", \"label\": \"perc_users\"}, {\"type\": \"number\", \"id\": \"perc_all_orders\", \"label\": \"perc_all_orders\"}, {\"type\": \"number\", \"id\": \"perc_reorders\", \"label\": \"perc_reorders\"}, {\"type\": \"number\", \"id\": \"orders_per_day\", \"label\": \"orders_per_day\"}, {\"type\": \"number\", \"id\": \"reorders_per_day\", \"label\": \"reorders_per_day\"}, {\"type\": \"number\", \"id\": \"avg_first_order_number\", \"label\": \"avg_first_order_number\"}, {\"type\": \"number\", \"id\": \"avg_first_order_day\", \"label\": \"avg_first_order_day\"}]},\n",
       "            {\n",
       "              pageSize: 25,\n",
       "              cssClassNames:  {\n",
       "                tableRow: 'gchart-table-row',\n",
       "                headerRow: 'gchart-table-headerrow',\n",
       "                oddTableRow: 'gchart-table-oddrow',\n",
       "                selectedTableRow: 'gchart-table-selectedrow',\n",
       "                hoverTableRow: 'gchart-table-hoverrow',\n",
       "                tableCell: 'gchart-table-cell',\n",
       "                headerCell: 'gchart-table-headercell',\n",
       "                rowNumberCell: 'gchart-table-rownumcell'\n",
       "              }\n",
       "            },\n",
       "            {source_index: 4, fields: 'product_id,aisle_id,department_id,perc_users,perc_all_orders,perc_reorders,orders_per_day,reorders_per_day,avg_first_order_number,avg_first_order_day'},\n",
       "            0,\n",
       "            49677);\n",
       "        }\n",
       "      );\n",
       "    </script>\n",
       "  "
      ],
      "text/plain": [
       "QueryResultsTable job_1H51atpi84KgwmhjyWJrTdrHqtE"
      ]
     },
     "execution_count": 36,
     "metadata": {},
     "output_type": "execute_result"
    }
   ],
   "source": [
    "%%bq execute -q product_features_q -t instacart.product_features  -m overwrite"
   ]
  },
  {
   "cell_type": "markdown",
   "metadata": {},
   "source": [
    "## Time-of-Day Features\n",
    "\n",
    "For each product/aisle/department, compute how much more likely to purchase at that time of day"
   ]
  },
  {
   "cell_type": "code",
   "execution_count": 37,
   "metadata": {
    "collapsed": true
   },
   "outputs": [],
   "source": [
    "%%bq query -n tod_features_q\n",
    "WITH temp AS (\n",
    "  SELECT orders.order_hour_of_day, orders.order_dow, op.product_id, products.aisle_id, products.department_id, COUNT(*) AS `n_product`\n",
    "  FROM instacart.order_products__prior AS op\n",
    "  INNER JOIN instacart.orders AS orders ON orders.order_id = op.order_id\n",
    "  INNER JOIN instacart.products AS products ON op.product_id = products.product_id\n",
    "  GROUP BY 1,2,3,4,5\n",
    ")\n",
    "SELECT order_hour_of_day, order_dow, product_id,\n",
    "  n_product / n_product_total / (n_hod_dow / n_total) AS `product_tod_factor`,\n",
    "  n_aisle / n_aisle_total / (n_hod_dow / n_total) AS `aisle_tod_factor`,\n",
    "  n_department / n_department_total / (n_hod_dow / n_total) AS `department_tod_factor`\n",
    "FROM (\n",
    "  SELECT order_hour_of_day, order_dow, product_id, aisle_id, department_id, n_product,\n",
    "  SUM(n_product) OVER (PARTITION BY product_id) AS `n_product_total`,\n",
    "  SUM(n_product) OVER (PARTITION BY order_hour_of_day, order_dow, aisle_id) AS `n_aisle`,\n",
    "  SUM(n_product) OVER (PARTITION BY aisle_id) AS `n_aisle_total`,\n",
    "  SUM(n_product) OVER (PARTITION BY order_hour_of_day, order_dow, department_id) AS `n_department`,\n",
    "  SUM(n_product) OVER (PARTITION BY department_id) AS `n_department_total`,\n",
    "  SUM(n_product) OVER (PARTITION BY order_hour_of_day, order_dow) AS `n_hod_dow`,\n",
    "  SUM(n_product) OVER () AS `n_total`\n",
    "  FROM temp  \n",
    ") AS x"
   ]
  },
  {
   "cell_type": "code",
   "execution_count": 38,
   "metadata": {
    "collapsed": false
   },
   "outputs": [
    {
     "data": {
      "text/html": [
       "\n",
       "    <div class=\"bqtv\" id=\"6_149919728065\"><table><tr><th>order_hour_of_day</th><th>order_dow</th><th>product_id</th><th>product_tod_factor</th><th>aisle_tod_factor</th><th>department_tod_factor</th></tr><tr><td>4</td><td>4</td><td>25746</td><td>13.4241656171</td><td>0.873460433845</td><td>1.07660179665</td></tr><tr><td>4</td><td>4</td><td>45002</td><td>1.9444008302</td><td>1.39329873558</td><td>1.07660179665</td></tr><tr><td>4</td><td>4</td><td>8224</td><td>3.74203977666</td><td>1.06827165371</td><td>1.00012144143</td></tr><tr><td>4</td><td>4</td><td>11408</td><td>1.57851543139</td><td>0.757082863138</td><td>1.00012144143</td></tr><tr><td>4</td><td>4</td><td>26497</td><td>0.911396517922</td><td>0.927954475076</td><td>0.948444336493</td></tr><tr><td>4</td><td>4</td><td>12858</td><td>2.57702629284</td><td>0.76991304516</td><td>0.919954343583</td></tr><tr><td>4</td><td>4</td><td>12206</td><td>1.19837160772</td><td>1.02973905232</td><td>1.05418085413</td></tr><tr><td>4</td><td>4</td><td>12121</td><td>5.19405077647</td><td>0.76991304516</td><td>0.919954343583</td></tr><tr><td>4</td><td>4</td><td>14819</td><td>6.75076916481</td><td>0.895686628409</td><td>0.900240407055</td></tr><tr><td>4</td><td>4</td><td>20396</td><td>16.3241595832</td><td>1.75007986447</td><td>1.07660179665</td></tr><tr><td>4</td><td>4</td><td>8414</td><td>2.13343979981</td><td>1.56682607628</td><td>1.04415710479</td></tr><tr><td>4</td><td>4</td><td>1970</td><td>7.96774455846</td><td>1.10434079932</td><td>1.06000410609</td></tr><tr><td>4</td><td>4</td><td>20127</td><td>1.42532211755</td><td>0.797263755548</td><td>1.00012144143</td></tr><tr><td>4</td><td>4</td><td>46955</td><td>7.96774455846</td><td>0.799689423529</td><td>0.919954343583</td></tr><tr><td>4</td><td>4</td><td>42176</td><td>20.2815316034</td><td>1.02876307387</td><td>0.919954343583</td></tr><tr><td>4</td><td>4</td><td>43629</td><td>25.9558659301</td><td>1.5581497094</td><td>1.00012144143</td></tr><tr><td>4</td><td>4</td><td>25346</td><td>4.40460714545</td><td>0.76991304516</td><td>0.919954343583</td></tr><tr><td>4</td><td>4</td><td>26209</td><td>0.96614434078</td><td>0.957025048537</td><td>0.948444336493</td></tr><tr><td>4</td><td>4</td><td>10441</td><td>1.61053069796</td><td>1.11589551083</td><td>0.919954343583</td></tr><tr><td>4</td><td>4</td><td>382</td><td>74.365615879</td><td>1.02876307387</td><td>0.919954343583</td></tr><tr><td>4</td><td>4</td><td>24390</td><td>0.745193860406</td><td>0.957025048537</td><td>0.948444336493</td></tr><tr><td>4</td><td>4</td><td>9434</td><td>1.74945250201</td><td>1.56729407054</td><td>1.06000410609</td></tr><tr><td>4</td><td>4</td><td>26452</td><td>2.13052924073</td><td>1.13154818111</td><td>1.06000410609</td></tr><tr><td>4</td><td>4</td><td>23025</td><td>1.26111273227</td><td>0.967739217661</td><td>1.09442226851</td></tr><tr><td>4</td><td>4</td><td>46370</td><td>31.4431798683</td><td>1.76758415869</td><td>1.26785938063</td></tr></table></div>\n",
       "    <br />(rows: 2956954, time: 61.2s,   602MB processed, job: job_FD7QvVimS15wvR6pEB21h02Bu-Q)<br />\n",
       "    <script>\n",
       "\n",
       "      require.config({\n",
       "        paths: {\n",
       "          d3: '//cdnjs.cloudflare.com/ajax/libs/d3/3.4.13/d3',\n",
       "          plotly: 'https://cdn.plot.ly/plotly-1.5.1.min.js?noext',\n",
       "          jquery: '//ajax.googleapis.com/ajax/libs/jquery/2.0.0/jquery.min'\n",
       "        },\n",
       "        map: {\n",
       "          '*': {\n",
       "            datalab: 'nbextensions/gcpdatalab'\n",
       "          }\n",
       "        },\n",
       "        shim: {\n",
       "          plotly: {\n",
       "            deps: ['d3', 'jquery'],\n",
       "            exports: 'plotly'\n",
       "          }\n",
       "        }\n",
       "      });\n",
       "\n",
       "      require(['datalab/charting', 'datalab/element!6_149919728065', 'base/js/events',\n",
       "          'datalab/style!/nbextensions/gcpdatalab/charting.css'],\n",
       "        function(charts, dom, events) {\n",
       "          charts.render('gcharts', dom, events, 'paged_table', [], {\"rows\": [{\"c\": [{\"v\": 4}, {\"v\": 4}, {\"v\": 25746}, {\"v\": 13.424165617121949}, {\"v\": 0.8734604338451758}, {\"v\": 1.0766017966534387}]}, {\"c\": [{\"v\": 4}, {\"v\": 4}, {\"v\": 45002}, {\"v\": 1.9444008302035942}, {\"v\": 1.393298735578108}, {\"v\": 1.0766017966534387}]}, {\"c\": [{\"v\": 4}, {\"v\": 4}, {\"v\": 8224}, {\"v\": 3.7420397766577955}, {\"v\": 1.0682716537062125}, {\"v\": 1.0001214414251172}]}, {\"c\": [{\"v\": 4}, {\"v\": 4}, {\"v\": 11408}, {\"v\": 1.578515431393383}, {\"v\": 0.7570828631383527}, {\"v\": 1.0001214414251172}]}, {\"c\": [{\"v\": 4}, {\"v\": 4}, {\"v\": 26497}, {\"v\": 0.9113965179215174}, {\"v\": 0.9279544750761491}, {\"v\": 0.9484443364931723}]}, {\"c\": [{\"v\": 4}, {\"v\": 4}, {\"v\": 12858}, {\"v\": 2.5770262928358414}, {\"v\": 0.7699130451595075}, {\"v\": 0.9199543435829484}]}, {\"c\": [{\"v\": 4}, {\"v\": 4}, {\"v\": 12206}, {\"v\": 1.1983716077185216}, {\"v\": 1.029739052315508}, {\"v\": 1.0541808541312863}]}, {\"c\": [{\"v\": 4}, {\"v\": 4}, {\"v\": 12121}, {\"v\": 5.194050776469578}, {\"v\": 0.7699130451595075}, {\"v\": 0.9199543435829484}]}, {\"c\": [{\"v\": 4}, {\"v\": 4}, {\"v\": 14819}, {\"v\": 6.7507691648062815}, {\"v\": 0.8956866284086709}, {\"v\": 0.900240407054716}]}, {\"c\": [{\"v\": 4}, {\"v\": 4}, {\"v\": 20396}, {\"v\": 16.324159583190106}, {\"v\": 1.7500798644680542}, {\"v\": 1.0766017966534387}]}, {\"c\": [{\"v\": 4}, {\"v\": 4}, {\"v\": 8414}, {\"v\": 2.1334397998067214}, {\"v\": 1.5668260762805848}, {\"v\": 1.0441571047948792}]}, {\"c\": [{\"v\": 4}, {\"v\": 4}, {\"v\": 1970}, {\"v\": 7.9677445584618365}, {\"v\": 1.104340799321934}, {\"v\": 1.060004106089536}]}, {\"c\": [{\"v\": 4}, {\"v\": 4}, {\"v\": 20127}, {\"v\": 1.4253221175465651}, {\"v\": 0.7972637555482726}, {\"v\": 1.0001214414251172}]}, {\"c\": [{\"v\": 4}, {\"v\": 4}, {\"v\": 46955}, {\"v\": 7.9677445584618365}, {\"v\": 0.7996894235294572}, {\"v\": 0.9199543435829484}]}, {\"c\": [{\"v\": 4}, {\"v\": 4}, {\"v\": 42176}, {\"v\": 20.281531603357404}, {\"v\": 1.0287630738730031}, {\"v\": 0.9199543435829484}]}, {\"c\": [{\"v\": 4}, {\"v\": 4}, {\"v\": 43629}, {\"v\": 25.955865930058504}, {\"v\": 1.5581497094038927}, {\"v\": 1.0001214414251172}]}, {\"c\": [{\"v\": 4}, {\"v\": 4}, {\"v\": 25346}, {\"v\": 4.4046071454486615}, {\"v\": 0.7699130451595075}, {\"v\": 0.9199543435829484}]}, {\"c\": [{\"v\": 4}, {\"v\": 4}, {\"v\": 26209}, {\"v\": 0.9661443407801578}, {\"v\": 0.9570250485365984}, {\"v\": 0.9484443364931723}]}, {\"c\": [{\"v\": 4}, {\"v\": 4}, {\"v\": 10441}, {\"v\": 1.6105306979634102}, {\"v\": 1.1158955108288962}, {\"v\": 0.9199543435829484}]}, {\"c\": [{\"v\": 4}, {\"v\": 4}, {\"v\": 382}, {\"v\": 74.36561587897714}, {\"v\": 1.0287630738730031}, {\"v\": 0.9199543435829484}]}, {\"c\": [{\"v\": 4}, {\"v\": 4}, {\"v\": 24390}, {\"v\": 0.7451938604064833}, {\"v\": 0.9570250485365984}, {\"v\": 0.9484443364931723}]}, {\"c\": [{\"v\": 4}, {\"v\": 4}, {\"v\": 9434}, {\"v\": 1.7494525020073042}, {\"v\": 1.5672940705446383}, {\"v\": 1.060004106089536}]}, {\"c\": [{\"v\": 4}, {\"v\": 4}, {\"v\": 26452}, {\"v\": 2.1305292407346794}, {\"v\": 1.131548181112957}, {\"v\": 1.060004106089536}]}, {\"c\": [{\"v\": 4}, {\"v\": 4}, {\"v\": 23025}, {\"v\": 1.2611127322679838}, {\"v\": 0.9677392176607746}, {\"v\": 1.0944222685055296}]}, {\"c\": [{\"v\": 4}, {\"v\": 4}, {\"v\": 46370}, {\"v\": 31.443179868292347}, {\"v\": 1.7675841586893744}, {\"v\": 1.2678593806300342}]}], \"cols\": [{\"type\": \"number\", \"id\": \"order_hour_of_day\", \"label\": \"order_hour_of_day\"}, {\"type\": \"number\", \"id\": \"order_dow\", \"label\": \"order_dow\"}, {\"type\": \"number\", \"id\": \"product_id\", \"label\": \"product_id\"}, {\"type\": \"number\", \"id\": \"product_tod_factor\", \"label\": \"product_tod_factor\"}, {\"type\": \"number\", \"id\": \"aisle_tod_factor\", \"label\": \"aisle_tod_factor\"}, {\"type\": \"number\", \"id\": \"department_tod_factor\", \"label\": \"department_tod_factor\"}]},\n",
       "            {\n",
       "              pageSize: 25,\n",
       "              cssClassNames:  {\n",
       "                tableRow: 'gchart-table-row',\n",
       "                headerRow: 'gchart-table-headerrow',\n",
       "                oddTableRow: 'gchart-table-oddrow',\n",
       "                selectedTableRow: 'gchart-table-selectedrow',\n",
       "                hoverTableRow: 'gchart-table-hoverrow',\n",
       "                tableCell: 'gchart-table-cell',\n",
       "                headerCell: 'gchart-table-headercell',\n",
       "                rowNumberCell: 'gchart-table-rownumcell'\n",
       "              }\n",
       "            },\n",
       "            {source_index: 5, fields: 'order_hour_of_day,order_dow,product_id,product_tod_factor,aisle_tod_factor,department_tod_factor'},\n",
       "            0,\n",
       "            2956954);\n",
       "        }\n",
       "      );\n",
       "    </script>\n",
       "  "
      ],
      "text/plain": [
       "QueryResultsTable job_FD7QvVimS15wvR6pEB21h02Bu-Q"
      ]
     },
     "execution_count": 38,
     "metadata": {},
     "output_type": "execute_result"
    }
   ],
   "source": [
    "%%bq execute -q tod_features_q -t instacart.tod_features  -m overwrite"
   ]
  },
  {
   "cell_type": "markdown",
   "metadata": {},
   "source": [
    "## Model Universe\n",
    "\n",
    "Assemble model universe with all features"
   ]
  },
  {
   "cell_type": "code",
   "execution_count": 39,
   "metadata": {
    "collapsed": true
   },
   "outputs": [],
   "source": [
    "%%bq query -n reorder_model_universe_q\n",
    "SELECT\n",
    "upf.user_id,\n",
    "upf.product_id,\n",
    "pf.aisle_id,\n",
    "pf.department_id,\n",
    "upf.order_id,\n",
    "upf.eval_set,\n",
    "upf.order_hour_of_day,\n",
    "upf.order_dow,\n",
    "upf.is_ordered,\n",
    "upf.perc_all_orders AS `upf_perc_all_orders`,\n",
    "upf.perc_reorder AS `upf_perc_reorder`,\n",
    "upf.orders_per_day AS `upf_orders_per_day`,\n",
    "upf.reorders_per_day AS `upf_reorders_per_day`,\n",
    "upf.first_order_number AS `upf_first_order_number`,\n",
    "upf.first_order_day AS `upf_first_order_day`,\n",
    "upf.last_order_number AS `upf_last_order_number`,\n",
    "upf.last_order_day AS `upf_last_order_day`,\n",
    "upf.days_since_last_order AS `upf_days_since_last_order`,\n",
    "upf.orders_since_last_order AS `upf_orders_since_last_order`,\n",
    "uf.num_orders AS `uf_num_orders`,\n",
    "uf.avg_days_bw_orders AS `uf_avg_days_bw_orders`,\n",
    "uf.num_products AS `uf_num_products`,\n",
    "uf.num_aisles AS `uf_num_aisles`,\n",
    "uf.num_departments AS `uf_num_departments`,\n",
    "pf.perc_users AS `pf_perc_users`,\n",
    "pf.perc_all_orders AS `pf_perc_all_orders`,\n",
    "pf.perc_reorders AS `pf_perc_reorders`,\n",
    "pf.orders_per_day AS `pf_orders_per_day`,\n",
    "pf.reorders_per_day AS `pf_reorders_per_day`,\n",
    "pf.avg_first_order_number AS `pf_avg_first_order_number`,\n",
    "pf.avg_first_order_day AS `pf_avg_first_order_day`,\n",
    "tf.product_tod_factor AS `tf_product_tod_factor`,\n",
    "tf.aisle_tod_factor AS `tf_aisle_tod_factor`,\n",
    "tf.department_tod_factor AS `tf_department_tod_factor`\n",
    "FROM instacart.user_products_features AS upf\n",
    "INNER JOIN instacart.user_features AS uf ON upf.user_id = uf.user_id\n",
    "INNER JOIN instacart.product_features AS pf ON upf.product_id = pf.product_id\n",
    "INNER JOIN instacart.tod_features AS tf ON upf.product_id = tf.product_id AND upf.order_hour_of_day = tf.order_hour_of_day AND upf.order_dow = tf.order_dow"
   ]
  },
  {
   "cell_type": "code",
   "execution_count": 40,
   "metadata": {
    "collapsed": false
   },
   "outputs": [
    {
     "data": {
      "text/html": [
       "\n",
       "    <div class=\"bqtv\" id=\"7_149919731638\"><table><tr><th>user_id</th><th>product_id</th><th>aisle_id</th><th>department_id</th><th>order_id</th><th>eval_set</th><th>order_hour_of_day</th><th>order_dow</th><th>is_ordered</th><th>upf_perc_all_orders</th><th>upf_perc_reorder</th><th>upf_orders_per_day</th><th>upf_reorders_per_day</th><th>upf_first_order_number</th><th>upf_first_order_day</th><th>upf_last_order_number</th><th>upf_last_order_day</th><th>upf_days_since_last_order</th><th>upf_orders_since_last_order</th><th>uf_num_orders</th><th>uf_avg_days_bw_orders</th><th>uf_num_products</th><th>uf_num_aisles</th><th>uf_num_departments</th><th>pf_perc_users</th><th>pf_perc_all_orders</th><th>pf_perc_reorders</th><th>pf_orders_per_day</th><th>pf_reorders_per_day</th><th>pf_avg_first_order_number</th><th>pf_avg_first_order_day</th><th>tf_product_tod_factor</th><th>tf_aisle_tod_factor</th><th>tf_department_tod_factor</th></tr><tr><td>73866</td><td>25595</td><td>1</td><td>20</td><td>1524478</td><td>test</td><td>10</td><td>6</td><td>&nbsp;</td><td>0.078431372549</td><td>0.0769230769231</td><td>0.0112044817927</td><td>0.0110294117647</td><td>12</td><td>85.0</td><td>17</td><td>119.0</td><td>246.0</td><td>36</td><td>51</td><td>7.0</td><td>64</td><td>27</td><td>13</td><td>9.69889772027e-05</td><td>0.0697674418605</td><td>0.0509554140127</td><td>0.00849858356941</td><td>0.00635677393723</td><td>10.1</td><td>85.95</td><td>2.48146533851</td><td>0.950110602581</td><td>1.00783586089</td></tr><tr><td>83068</td><td>25595</td><td>1</td><td>20</td><td>1567604</td><td>train</td><td>15</td><td>2</td><td>0</td><td>0.010101010101</td><td>0.0</td><td>0.0047619047619</td><td>0.0</td><td>30</td><td>132.0</td><td>30</td><td>132.0</td><td>79.0</td><td>71</td><td>99</td><td>2.12121212121</td><td>198</td><td>69</td><td>17</td><td>9.69889772027e-05</td><td>0.0697674418605</td><td>0.0509554140127</td><td>0.00849858356941</td><td>0.00635677393723</td><td>10.1</td><td>85.95</td><td>2.69690583073</td><td>1.05689552826</td><td>1.00399646353</td></tr><tr><td>5720</td><td>17574</td><td>1</td><td>20</td><td>2237993</td><td>train</td><td>18</td><td>2</td><td>0</td><td>0.25</td><td>0.0</td><td>0.0434782608696</td><td>0.0</td><td>2</td><td>7.0</td><td>2</td><td>7.0</td><td>31.0</td><td>4</td><td>4</td><td>5.75</td><td>50</td><td>30</td><td>13</td><td>0.000315214175909</td><td>0.077811550152</td><td>0.0641547861507</td><td>0.00918220946915</td><td>0.00736842105263</td><td>10.2</td><td>82.9230769231</td><td>2.23426278568</td><td>1.04767566505</td><td>1.04464769471</td></tr><tr><td>69473</td><td>17574</td><td>1</td><td>20</td><td>1264415</td><td>train</td><td>13</td><td>3</td><td>0</td><td>0.166666666667</td><td>0.0</td><td>0.0102040816327</td><td>0.0</td><td>1</td><td>0.0</td><td>1</td><td>0.0</td><td>128.0</td><td>7</td><td>6</td><td>16.3333333333</td><td>67</td><td>31</td><td>12</td><td>0.000315214175909</td><td>0.077811550152</td><td>0.0641547861507</td><td>0.00918220946915</td><td>0.00736842105263</td><td>10.2</td><td>82.9230769231</td><td>0.837011813265</td><td>1.00839861654</td><td>0.985717006163</td></tr><tr><td>57320</td><td>17574</td><td>1</td><td>20</td><td>827852</td><td>train</td><td>18</td><td>5</td><td>0</td><td>0.0833333333333</td><td>0.0</td><td>0.00606060606061</td><td>0.0</td><td>6</td><td>59.0</td><td>6</td><td>59.0</td><td>136.0</td><td>8</td><td>12</td><td>13.75</td><td>36</td><td>26</td><td>12</td><td>0.000315214175909</td><td>0.077811550152</td><td>0.0641547861507</td><td>0.00918220946915</td><td>0.00736842105263</td><td>10.2</td><td>82.9230769231</td><td>2.32746352638</td><td>1.00854164151</td><td>1.0202104287</td></tr><tr><td>135165</td><td>17574</td><td>1</td><td>20</td><td>2464677</td><td>test</td><td>8</td><td>6</td><td>&nbsp;</td><td>0.0227272727273</td><td>&nbsp;</td><td>0.00291545189504</td><td>&nbsp;</td><td>44</td><td>343.0</td><td>44</td><td>343.0</td><td>6.0</td><td>2</td><td>44</td><td>7.79545454545</td><td>67</td><td>32</td><td>15</td><td>0.000315214175909</td><td>0.077811550152</td><td>0.0641547861507</td><td>0.00918220946915</td><td>0.00736842105263</td><td>10.2</td><td>82.9230769231</td><td>1.05862878795</td><td>0.823260203019</td><td>0.95101359362</td></tr><tr><td>28858</td><td>17574</td><td>1</td><td>20</td><td>2011094</td><td>test</td><td>15</td><td>4</td><td>&nbsp;</td><td>0.0217391304348</td><td>0.0</td><td>0.0045871559633</td><td>0.0</td><td>24</td><td>115.0</td><td>24</td><td>115.0</td><td>110.0</td><td>24</td><td>46</td><td>4.73913043478</td><td>51</td><td>30</td><td>13</td><td>0.000315214175909</td><td>0.077811550152</td><td>0.0641547861507</td><td>0.00918220946915</td><td>0.00736842105263</td><td>10.2</td><td>82.9230769231</td><td>0.846431299646</td><td>1.02878447809</td><td>0.981969133999</td></tr><tr><td>185399</td><td>45757</td><td>1</td><td>20</td><td>258619</td><td>train</td><td>10</td><td>3</td><td>0</td><td>0.2</td><td>0.0</td><td>0.00952380952381</td><td>0.0</td><td>1</td><td>0.0</td><td>1</td><td>0.0</td><td>121.0</td><td>6</td><td>5</td><td>21.0</td><td>40</td><td>17</td><td>9</td><td>0.00266234742422</td><td>0.0527738598966</td><td>0.0315608609152</td><td>0.00690758603714</td><td>0.00398083723052</td><td>10.8524590164</td><td>77.1074681239</td><td>0.576109111438</td><td>1.13498492897</td><td>0.953049400171</td></tr><tr><td>10907</td><td>45757</td><td>1</td><td>20</td><td>2816210</td><td>train</td><td>19</td><td>3</td><td>0</td><td>0.25</td><td>0.0</td><td>0.0135135135135</td><td>0.0</td><td>1</td><td>0.0</td><td>1</td><td>0.0</td><td>104.0</td><td>5</td><td>4</td><td>18.5</td><td>26</td><td>19</td><td>11</td><td>0.00266234742422</td><td>0.0527738598966</td><td>0.0315608609152</td><td>0.00690758603714</td><td>0.00398083723052</td><td>10.8524590164</td><td>77.1074681239</td><td>1.09889815725</td><td>1.05639545075</td><td>1.0278797383</td></tr><tr><td>34890</td><td>45757</td><td>1</td><td>20</td><td>1962337</td><td>test</td><td>17</td><td>5</td><td>&nbsp;</td><td>0.333333333333</td><td>0.0</td><td>0.0166666666667</td><td>0.0</td><td>2</td><td>30.0</td><td>2</td><td>30.0</td><td>60.0</td><td>3</td><td>3</td><td>20.0</td><td>34</td><td>20</td><td>10</td><td>0.00266234742422</td><td>0.0527738598966</td><td>0.0315608609152</td><td>0.00690758603714</td><td>0.00398083723052</td><td>10.8524590164</td><td>77.1074681239</td><td>1.4679313629</td><td>1.09127125654</td><td>1.02788818696</td></tr><tr><td>42871</td><td>45757</td><td>1</td><td>20</td><td>911582</td><td>train</td><td>16</td><td>3</td><td>0</td><td>0.0833333333333</td><td>0.0</td><td>0.00657894736842</td><td>0.0</td><td>1</td><td>0.0</td><td>1</td><td>0.0</td><td>170.0</td><td>13</td><td>12</td><td>12.6666666667</td><td>98</td><td>44</td><td>13</td><td>0.00266234742422</td><td>0.0527738598966</td><td>0.0315608609152</td><td>0.00690758603714</td><td>0.00398083723052</td><td>10.8524590164</td><td>77.1074681239</td><td>0.825174259545</td><td>1.0493382745</td><td>1.02882561029</td></tr><tr><td>28557</td><td>45757</td><td>1</td><td>20</td><td>3215240</td><td>test</td><td>11</td><td>1</td><td>&nbsp;</td><td>0.166666666667</td><td>0.0</td><td>0.0119047619048</td><td>0.0</td><td>1</td><td>0.0</td><td>1</td><td>0.0</td><td>96.0</td><td>7</td><td>6</td><td>14.0</td><td>24</td><td>18</td><td>9</td><td>0.00266234742422</td><td>0.0527738598966</td><td>0.0315608609152</td><td>0.00690758603714</td><td>0.00398083723052</td><td>10.8524590164</td><td>77.1074681239</td><td>0.566930647672</td><td>1.02276565138</td><td>1.00228755493</td></tr><tr><td>105461</td><td>45757</td><td>1</td><td>20</td><td>1012729</td><td>test</td><td>13</td><td>0</td><td>&nbsp;</td><td>0.2</td><td>0.0</td><td>0.00952380952381</td><td>0.0</td><td>2</td><td>30.0</td><td>2</td><td>30.0</td><td>101.0</td><td>5</td><td>5</td><td>21.0</td><td>31</td><td>17</td><td>11</td><td>0.00266234742422</td><td>0.0527738598966</td><td>0.0315608609152</td><td>0.00690758603714</td><td>0.00398083723052</td><td>10.8524590164</td><td>77.1074681239</td><td>1.2936131484</td><td>0.998093548115</td><td>1.05392501603</td></tr><tr><td>43152</td><td>45757</td><td>1</td><td>20</td><td>3359126</td><td>train</td><td>19</td><td>5</td><td>0</td><td>0.142857142857</td><td>0.0</td><td>0.0105263157895</td><td>0.0</td><td>2</td><td>15.0</td><td>2</td><td>15.0</td><td>110.0</td><td>7</td><td>7</td><td>13.5714285714</td><td>25</td><td>20</td><td>10</td><td>0.00266234742422</td><td>0.0527738598966</td><td>0.0315608609152</td><td>0.00690758603714</td><td>0.00398083723052</td><td>10.8524590164</td><td>77.1074681239</td><td>1.08156313655</td><td>0.888497320068</td><td>0.985056850794</td></tr><tr><td>137717</td><td>45757</td><td>1</td><td>20</td><td>2514390</td><td>test</td><td>8</td><td>1</td><td>&nbsp;</td><td>0.181818181818</td><td>0.111111111111</td><td>0.010989010989</td><td>0.00561797752809</td><td>2</td><td>4.0</td><td>3</td><td>14.0</td><td>174.0</td><td>10</td><td>11</td><td>16.5454545455</td><td>36</td><td>20</td><td>8</td><td>0.00266234742422</td><td>0.0527738598966</td><td>0.0315608609152</td><td>0.00690758603714</td><td>0.00398083723052</td><td>10.8524590164</td><td>77.1074681239</td><td>0.975191057976</td><td>0.992936814015</td><td>0.959835256448</td></tr><tr><td>131652</td><td>45757</td><td>1</td><td>20</td><td>1064942</td><td>train</td><td>10</td><td>0</td><td>0</td><td>0.0952380952381</td><td>0.0625</td><td>0.00583090379009</td><td>0.00374531835206</td><td>5</td><td>76.0</td><td>10</td><td>170.0</td><td>177.0</td><td>13</td><td>21</td><td>16.3333333333</td><td>160</td><td>58</td><td>15</td><td>0.00266234742422</td><td>0.0527738598966</td><td>0.0315608609152</td><td>0.00690758603714</td><td>0.00398083723052</td><td>10.8524590164</td><td>77.1074681239</td><td>1.25960643193</td><td>1.00208401498</td><td>1.02015190945</td></tr><tr><td>49492</td><td>45757</td><td>1</td><td>20</td><td>3094202</td><td>train</td><td>11</td><td>5</td><td>0</td><td>0.0555555555556</td><td>0.0</td><td>0.00460829493088</td><td>0.0</td><td>4</td><td>41.0</td><td>4</td><td>41.0</td><td>181.0</td><td>16</td><td>18</td><td>12.0555555556</td><td>108</td><td>42</td><td>13</td><td>0.00266234742422</td><td>0.0527738598966</td><td>0.0315608609152</td><td>0.00690758603714</td><td>0.00398083723052</td><td>10.8524590164</td><td>77.1074681239</td><td>1.22490204862</td><td>1.05391109489</td><td>1.00980360674</td></tr><tr><td>107752</td><td>45757</td><td>1</td><td>20</td><td>3164145</td><td>train</td><td>19</td><td>5</td><td>0</td><td>0.132352941176</td><td>0.148148148148</td><td>0.0251396648045</td><td>0.0273037542662</td><td>14</td><td>65.0</td><td>68</td><td>358.0</td><td>7.0</td><td>2</td><td>68</td><td>5.26470588235</td><td>395</td><td>67</td><td>18</td><td>0.00266234742422</td><td>0.0527738598966</td><td>0.0315608609152</td><td>0.00690758603714</td><td>0.00398083723052</td><td>10.8524590164</td><td>77.1074681239</td><td>1.08156313655</td><td>0.888497320068</td><td>0.985056850794</td></tr><tr><td>196387</td><td>45757</td><td>1</td><td>20</td><td>3057201</td><td>train</td><td>9</td><td>0</td><td>0</td><td>0.0434782608696</td><td>0.0</td><td>0.003300330033</td><td>0.0</td><td>6</td><td>34.0</td><td>6</td><td>34.0</td><td>280.0</td><td>19</td><td>23</td><td>13.1739130435</td><td>99</td><td>45</td><td>15</td><td>0.00266234742422</td><td>0.0527738598966</td><td>0.0315608609152</td><td>0.00690758603714</td><td>0.00398083723052</td><td>10.8524590164</td><td>77.1074681239</td><td>1.30956070738</td><td>1.04738866741</td><td>1.00189586585</td></tr><tr><td>96338</td><td>45757</td><td>1</td><td>20</td><td>1964515</td><td>test</td><td>14</td><td>4</td><td>&nbsp;</td><td>0.0253164556962</td><td>0.027027027027</td><td>0.00564971751412</td><td>0.00502512562814</td><td>42</td><td>155.0</td><td>43</td><td>158.0</td><td>200.0</td><td>38</td><td>79</td><td>4.48101265823</td><td>51</td><td>30</td><td>12</td><td>0.00266234742422</td><td>0.0527738598966</td><td>0.0315608609152</td><td>0.00690758603714</td><td>0.00398083723052</td><td>10.8524590164</td><td>77.1074681239</td><td>0.972907547468</td><td>1.00208341194</td><td>0.984205316964</td></tr><tr><td>71462</td><td>45757</td><td>1</td><td>20</td><td>1637497</td><td>train</td><td>16</td><td>0</td><td>0</td><td>0.0277777777778</td><td>0.0</td><td>0.003300330033</td><td>0.0</td><td>27</td><td>229.0</td><td>27</td><td>229.0</td><td>80.0</td><td>11</td><td>36</td><td>8.41666666667</td><td>152</td><td>53</td><td>14</td><td>0.00266234742422</td><td>0.0527738598966</td><td>0.0315608609152</td><td>0.00690758603714</td><td>0.00398083723052</td><td>10.8524590164</td><td>77.1074681239</td><td>1.22409518738</td><td>1.02392546775</td><td>1.08501462192</td></tr><tr><td>188638</td><td>45757</td><td>1</td><td>20</td><td>1325539</td><td>train</td><td>11</td><td>6</td><td>0</td><td>0.0208333333333</td><td>0.0</td><td>0.00299401197605</td><td>0.0</td><td>22</td><td>152.0</td><td>22</td><td>152.0</td><td>201.0</td><td>28</td><td>48</td><td>6.95833333333</td><td>230</td><td>67</td><td>15</td><td>0.00266234742422</td><td>0.0527738598966</td><td>0.0315608609152</td><td>0.00690758603714</td><td>0.00398083723052</td><td>10.8524590164</td><td>77.1074681239</td><td>0.963519401392</td><td>1.01286346861</td><td>1.01400924087</td></tr><tr><td>172921</td><td>45757</td><td>1</td><td>20</td><td>3406435</td><td>test</td><td>18</td><td>0</td><td>&nbsp;</td><td>0.0909090909091</td><td>0.0</td><td>0.00595238095238</td><td>0.0</td><td>10</td><td>138.0</td><td>10</td><td>138.0</td><td>60.0</td><td>3</td><td>11</td><td>15.2727272727</td><td>72</td><td>31</td><td>13</td><td>0.00266234742422</td><td>0.0527738598966</td><td>0.0315608609152</td><td>0.00690758603714</td><td>0.00398083723052</td><td>10.8524590164</td><td>77.1074681239</td><td>0.634726164897</td><td>1.08405383638</td><td>1.07094759336</td></tr><tr><td>173091</td><td>45757</td><td>1</td><td>20</td><td>1628000</td><td>train</td><td>8</td><td>0</td><td>0</td><td>0.047619047619</td><td>0.0</td><td>0.0078125</td><td>0.0</td><td>6</td><td>29.0</td><td>6</td><td>29.0</td><td>107.0</td><td>17</td><td>21</td><td>6.09523809524</td><td>53</td><td>28</td><td>11</td><td>0.00266234742422</td><td>0.0527738598966</td><td>0.0315608609152</td><td>0.00690758603714</td><td>0.00398083723052</td><td>10.8524590164</td><td>77.1074681239</td><td>0.353527267291</td><td>0.954827042005</td><td>1.00653520805</td></tr><tr><td>7521</td><td>45757</td><td>1</td><td>20</td><td>2444936</td><td>train</td><td>15</td><td>6</td><td>0</td><td>0.0909090909091</td><td>0.0</td><td>0.00961538461538</td><td>0.0</td><td>10</td><td>93.0</td><td>10</td><td>93.0</td><td>15.0</td><td>3</td><td>11</td><td>9.45454545455</td><td>41</td><td>31</td><td>14</td><td>0.00266234742422</td><td>0.0527738598966</td><td>0.0315608609152</td><td>0.00690758603714</td><td>0.00398083723052</td><td>10.8524590164</td><td>77.1074681239</td><td>1.23978580993</td><td>0.983471339869</td><td>1.01310571055</td></tr></table></div>\n",
       "    <br />(rows: 12628052, time: 34.1s,     1GB processed, job: job_gTq4xDttqoZzGH0awO-lWg-kA0E)<br />\n",
       "    <script>\n",
       "\n",
       "      require.config({\n",
       "        paths: {\n",
       "          d3: '//cdnjs.cloudflare.com/ajax/libs/d3/3.4.13/d3',\n",
       "          plotly: 'https://cdn.plot.ly/plotly-1.5.1.min.js?noext',\n",
       "          jquery: '//ajax.googleapis.com/ajax/libs/jquery/2.0.0/jquery.min'\n",
       "        },\n",
       "        map: {\n",
       "          '*': {\n",
       "            datalab: 'nbextensions/gcpdatalab'\n",
       "          }\n",
       "        },\n",
       "        shim: {\n",
       "          plotly: {\n",
       "            deps: ['d3', 'jquery'],\n",
       "            exports: 'plotly'\n",
       "          }\n",
       "        }\n",
       "      });\n",
       "\n",
       "      require(['datalab/charting', 'datalab/element!7_149919731638', 'base/js/events',\n",
       "          'datalab/style!/nbextensions/gcpdatalab/charting.css'],\n",
       "        function(charts, dom, events) {\n",
       "          charts.render('gcharts', dom, events, 'paged_table', [], {\"rows\": [{\"c\": [{\"v\": 73866}, {\"v\": 25595}, {\"v\": 1}, {\"v\": 20}, {\"v\": 1524478}, {\"v\": \"test\"}, {\"v\": 10}, {\"v\": 6}, {\"v\": null}, {\"v\": 0.0784313725490196}, {\"v\": 0.07692307692307693}, {\"v\": 0.011204481792717087}, {\"v\": 0.011029411764705883}, {\"v\": 12}, {\"v\": 85.0}, {\"v\": 17}, {\"v\": 119.0}, {\"v\": 246.0}, {\"v\": 36}, {\"v\": 51}, {\"v\": 7.0}, {\"v\": 64}, {\"v\": 27}, {\"v\": 13}, {\"v\": 9.698897720274091e-05}, {\"v\": 0.06976744186046512}, {\"v\": 0.050955414012738856}, {\"v\": 0.0084985835694051}, {\"v\": 0.006356773937226857}, {\"v\": 10.1}, {\"v\": 85.95}, {\"v\": 2.481465338505206}, {\"v\": 0.9501106025808221}, {\"v\": 1.007835860893264}]}, {\"c\": [{\"v\": 83068}, {\"v\": 25595}, {\"v\": 1}, {\"v\": 20}, {\"v\": 1567604}, {\"v\": \"train\"}, {\"v\": 15}, {\"v\": 2}, {\"v\": 0}, {\"v\": 0.010101010101010102}, {\"v\": 0.0}, {\"v\": 0.004761904761904762}, {\"v\": 0.0}, {\"v\": 30}, {\"v\": 132.0}, {\"v\": 30}, {\"v\": 132.0}, {\"v\": 79.0}, {\"v\": 71}, {\"v\": 99}, {\"v\": 2.121212121212121}, {\"v\": 198}, {\"v\": 69}, {\"v\": 17}, {\"v\": 9.698897720274091e-05}, {\"v\": 0.06976744186046512}, {\"v\": 0.050955414012738856}, {\"v\": 0.0084985835694051}, {\"v\": 0.006356773937226857}, {\"v\": 10.1}, {\"v\": 85.95}, {\"v\": 2.696905830729928}, {\"v\": 1.0568955282590258}, {\"v\": 1.0039964635316103}]}, {\"c\": [{\"v\": 5720}, {\"v\": 17574}, {\"v\": 1}, {\"v\": 20}, {\"v\": 2237993}, {\"v\": \"train\"}, {\"v\": 18}, {\"v\": 2}, {\"v\": 0}, {\"v\": 0.25}, {\"v\": 0.0}, {\"v\": 0.043478260869565216}, {\"v\": 0.0}, {\"v\": 2}, {\"v\": 7.0}, {\"v\": 2}, {\"v\": 7.0}, {\"v\": 31.0}, {\"v\": 4}, {\"v\": 4}, {\"v\": 5.75}, {\"v\": 50}, {\"v\": 30}, {\"v\": 13}, {\"v\": 0.00031521417590890796}, {\"v\": 0.07781155015197569}, {\"v\": 0.06415478615071284}, {\"v\": 0.009182209469153515}, {\"v\": 0.007368421052631579}, {\"v\": 10.2}, {\"v\": 82.9230769230769}, {\"v\": 2.2342627856815356}, {\"v\": 1.0476756650465302}, {\"v\": 1.0446476947118983}]}, {\"c\": [{\"v\": 69473}, {\"v\": 17574}, {\"v\": 1}, {\"v\": 20}, {\"v\": 1264415}, {\"v\": \"train\"}, {\"v\": 13}, {\"v\": 3}, {\"v\": 0}, {\"v\": 0.16666666666666666}, {\"v\": 0.0}, {\"v\": 0.01020408163265306}, {\"v\": 0.0}, {\"v\": 1}, {\"v\": 0.0}, {\"v\": 1}, {\"v\": 0.0}, {\"v\": 128.0}, {\"v\": 7}, {\"v\": 6}, {\"v\": 16.333333333333332}, {\"v\": 67}, {\"v\": 31}, {\"v\": 12}, {\"v\": 0.00031521417590890796}, {\"v\": 0.07781155015197569}, {\"v\": 0.06415478615071284}, {\"v\": 0.009182209469153515}, {\"v\": 0.007368421052631579}, {\"v\": 10.2}, {\"v\": 82.9230769230769}, {\"v\": 0.8370118132653095}, {\"v\": 1.0083986165376302}, {\"v\": 0.9857170061626366}]}, {\"c\": [{\"v\": 57320}, {\"v\": 17574}, {\"v\": 1}, {\"v\": 20}, {\"v\": 827852}, {\"v\": \"train\"}, {\"v\": 18}, {\"v\": 5}, {\"v\": 0}, {\"v\": 0.08333333333333333}, {\"v\": 0.0}, {\"v\": 0.006060606060606061}, {\"v\": 0.0}, {\"v\": 6}, {\"v\": 59.0}, {\"v\": 6}, {\"v\": 59.0}, {\"v\": 136.0}, {\"v\": 8}, {\"v\": 12}, {\"v\": 13.75}, {\"v\": 36}, {\"v\": 26}, {\"v\": 12}, {\"v\": 0.00031521417590890796}, {\"v\": 0.07781155015197569}, {\"v\": 0.06415478615071284}, {\"v\": 0.009182209469153515}, {\"v\": 0.007368421052631579}, {\"v\": 10.2}, {\"v\": 82.9230769230769}, {\"v\": 2.327463526382019}, {\"v\": 1.0085416415064337}, {\"v\": 1.020210428696564}]}, {\"c\": [{\"v\": 135165}, {\"v\": 17574}, {\"v\": 1}, {\"v\": 20}, {\"v\": 2464677}, {\"v\": \"test\"}, {\"v\": 8}, {\"v\": 6}, {\"v\": null}, {\"v\": 0.022727272727272728}, {\"v\": null}, {\"v\": 0.0029154518950437317}, {\"v\": null}, {\"v\": 44}, {\"v\": 343.0}, {\"v\": 44}, {\"v\": 343.0}, {\"v\": 6.0}, {\"v\": 2}, {\"v\": 44}, {\"v\": 7.795454545454546}, {\"v\": 67}, {\"v\": 32}, {\"v\": 15}, {\"v\": 0.00031521417590890796}, {\"v\": 0.07781155015197569}, {\"v\": 0.06415478615071284}, {\"v\": 0.009182209469153515}, {\"v\": 0.007368421052631579}, {\"v\": 10.2}, {\"v\": 82.9230769230769}, {\"v\": 1.0586287879500003}, {\"v\": 0.8232602030192862}, {\"v\": 0.9510135936199444}]}, {\"c\": [{\"v\": 28858}, {\"v\": 17574}, {\"v\": 1}, {\"v\": 20}, {\"v\": 2011094}, {\"v\": \"test\"}, {\"v\": 15}, {\"v\": 4}, {\"v\": null}, {\"v\": 0.021739130434782608}, {\"v\": 0.0}, {\"v\": 0.0045871559633027525}, {\"v\": 0.0}, {\"v\": 24}, {\"v\": 115.0}, {\"v\": 24}, {\"v\": 115.0}, {\"v\": 110.0}, {\"v\": 24}, {\"v\": 46}, {\"v\": 4.739130434782608}, {\"v\": 51}, {\"v\": 30}, {\"v\": 13}, {\"v\": 0.00031521417590890796}, {\"v\": 0.07781155015197569}, {\"v\": 0.06415478615071284}, {\"v\": 0.009182209469153515}, {\"v\": 0.007368421052631579}, {\"v\": 10.2}, {\"v\": 82.9230769230769}, {\"v\": 0.8464312996462547}, {\"v\": 1.0287844780930122}, {\"v\": 0.9819691339994406}]}, {\"c\": [{\"v\": 185399}, {\"v\": 45757}, {\"v\": 1}, {\"v\": 20}, {\"v\": 258619}, {\"v\": \"train\"}, {\"v\": 10}, {\"v\": 3}, {\"v\": 0}, {\"v\": 0.2}, {\"v\": 0.0}, {\"v\": 0.009523809523809525}, {\"v\": 0.0}, {\"v\": 1}, {\"v\": 0.0}, {\"v\": 1}, {\"v\": 0.0}, {\"v\": 121.0}, {\"v\": 6}, {\"v\": 5}, {\"v\": 21.0}, {\"v\": 40}, {\"v\": 17}, {\"v\": 9}, {\"v\": 0.002662347424215238}, {\"v\": 0.05277385989656794}, {\"v\": 0.031560860915174536}, {\"v\": 0.00690758603713789}, {\"v\": 0.003980837230523554}, {\"v\": 10.852459016393441}, {\"v\": 77.1074681238616}, {\"v\": 0.5761091114383626}, {\"v\": 1.1349849289693348}, {\"v\": 0.953049400170613}]}, {\"c\": [{\"v\": 10907}, {\"v\": 45757}, {\"v\": 1}, {\"v\": 20}, {\"v\": 2816210}, {\"v\": \"train\"}, {\"v\": 19}, {\"v\": 3}, {\"v\": 0}, {\"v\": 0.25}, {\"v\": 0.0}, {\"v\": 0.013513513513513514}, {\"v\": 0.0}, {\"v\": 1}, {\"v\": 0.0}, {\"v\": 1}, {\"v\": 0.0}, {\"v\": 104.0}, {\"v\": 5}, {\"v\": 4}, {\"v\": 18.5}, {\"v\": 26}, {\"v\": 19}, {\"v\": 11}, {\"v\": 0.002662347424215238}, {\"v\": 0.05277385989656794}, {\"v\": 0.031560860915174536}, {\"v\": 0.00690758603713789}, {\"v\": 0.003980837230523554}, {\"v\": 10.852459016393441}, {\"v\": 77.1074681238616}, {\"v\": 1.0988981572507213}, {\"v\": 1.0563954507460012}, {\"v\": 1.0278797382981641}]}, {\"c\": [{\"v\": 34890}, {\"v\": 45757}, {\"v\": 1}, {\"v\": 20}, {\"v\": 1962337}, {\"v\": \"test\"}, {\"v\": 17}, {\"v\": 5}, {\"v\": null}, {\"v\": 0.3333333333333333}, {\"v\": 0.0}, {\"v\": 0.016666666666666666}, {\"v\": 0.0}, {\"v\": 2}, {\"v\": 30.0}, {\"v\": 2}, {\"v\": 30.0}, {\"v\": 60.0}, {\"v\": 3}, {\"v\": 3}, {\"v\": 20.0}, {\"v\": 34}, {\"v\": 20}, {\"v\": 10}, {\"v\": 0.002662347424215238}, {\"v\": 0.05277385989656794}, {\"v\": 0.031560860915174536}, {\"v\": 0.00690758603713789}, {\"v\": 0.003980837230523554}, {\"v\": 10.852459016393441}, {\"v\": 77.1074681238616}, {\"v\": 1.4679313629022954}, {\"v\": 1.091271256541265}, {\"v\": 1.027888186957732}]}, {\"c\": [{\"v\": 42871}, {\"v\": 45757}, {\"v\": 1}, {\"v\": 20}, {\"v\": 911582}, {\"v\": \"train\"}, {\"v\": 16}, {\"v\": 3}, {\"v\": 0}, {\"v\": 0.08333333333333333}, {\"v\": 0.0}, {\"v\": 0.006578947368421052}, {\"v\": 0.0}, {\"v\": 1}, {\"v\": 0.0}, {\"v\": 1}, {\"v\": 0.0}, {\"v\": 170.0}, {\"v\": 13}, {\"v\": 12}, {\"v\": 12.666666666666666}, {\"v\": 98}, {\"v\": 44}, {\"v\": 13}, {\"v\": 0.002662347424215238}, {\"v\": 0.05277385989656794}, {\"v\": 0.031560860915174536}, {\"v\": 0.00690758603713789}, {\"v\": 0.003980837230523554}, {\"v\": 10.852459016393441}, {\"v\": 77.1074681238616}, {\"v\": 0.8251742595452192}, {\"v\": 1.0493382744968294}, {\"v\": 1.0288256102946667}]}, {\"c\": [{\"v\": 28557}, {\"v\": 45757}, {\"v\": 1}, {\"v\": 20}, {\"v\": 3215240}, {\"v\": \"test\"}, {\"v\": 11}, {\"v\": 1}, {\"v\": null}, {\"v\": 0.16666666666666666}, {\"v\": 0.0}, {\"v\": 0.011904761904761904}, {\"v\": 0.0}, {\"v\": 1}, {\"v\": 0.0}, {\"v\": 1}, {\"v\": 0.0}, {\"v\": 96.0}, {\"v\": 7}, {\"v\": 6}, {\"v\": 14.0}, {\"v\": 24}, {\"v\": 18}, {\"v\": 9}, {\"v\": 0.002662347424215238}, {\"v\": 0.05277385989656794}, {\"v\": 0.031560860915174536}, {\"v\": 0.00690758603713789}, {\"v\": 0.003980837230523554}, {\"v\": 10.852459016393441}, {\"v\": 77.1074681238616}, {\"v\": 0.5669306476717058}, {\"v\": 1.0227656513809393}, {\"v\": 1.0022875549326786}]}, {\"c\": [{\"v\": 105461}, {\"v\": 45757}, {\"v\": 1}, {\"v\": 20}, {\"v\": 1012729}, {\"v\": \"test\"}, {\"v\": 13}, {\"v\": 0}, {\"v\": null}, {\"v\": 0.2}, {\"v\": 0.0}, {\"v\": 0.009523809523809525}, {\"v\": 0.0}, {\"v\": 2}, {\"v\": 30.0}, {\"v\": 2}, {\"v\": 30.0}, {\"v\": 101.0}, {\"v\": 5}, {\"v\": 5}, {\"v\": 21.0}, {\"v\": 31}, {\"v\": 17}, {\"v\": 11}, {\"v\": 0.002662347424215238}, {\"v\": 0.05277385989656794}, {\"v\": 0.031560860915174536}, {\"v\": 0.00690758603713789}, {\"v\": 0.003980837230523554}, {\"v\": 10.852459016393441}, {\"v\": 77.1074681238616}, {\"v\": 1.2936131483994566}, {\"v\": 0.9980935481152765}, {\"v\": 1.053925016030276}]}, {\"c\": [{\"v\": 43152}, {\"v\": 45757}, {\"v\": 1}, {\"v\": 20}, {\"v\": 3359126}, {\"v\": \"train\"}, {\"v\": 19}, {\"v\": 5}, {\"v\": 0}, {\"v\": 0.14285714285714285}, {\"v\": 0.0}, {\"v\": 0.010526315789473684}, {\"v\": 0.0}, {\"v\": 2}, {\"v\": 15.0}, {\"v\": 2}, {\"v\": 15.0}, {\"v\": 110.0}, {\"v\": 7}, {\"v\": 7}, {\"v\": 13.571428571428571}, {\"v\": 25}, {\"v\": 20}, {\"v\": 10}, {\"v\": 0.002662347424215238}, {\"v\": 0.05277385989656794}, {\"v\": 0.031560860915174536}, {\"v\": 0.00690758603713789}, {\"v\": 0.003980837230523554}, {\"v\": 10.852459016393441}, {\"v\": 77.1074681238616}, {\"v\": 1.0815631365516998}, {\"v\": 0.888497320067588}, {\"v\": 0.9850568507935773}]}, {\"c\": [{\"v\": 137717}, {\"v\": 45757}, {\"v\": 1}, {\"v\": 20}, {\"v\": 2514390}, {\"v\": \"test\"}, {\"v\": 8}, {\"v\": 1}, {\"v\": null}, {\"v\": 0.18181818181818182}, {\"v\": 0.1111111111111111}, {\"v\": 0.01098901098901099}, {\"v\": 0.0056179775280898875}, {\"v\": 2}, {\"v\": 4.0}, {\"v\": 3}, {\"v\": 14.0}, {\"v\": 174.0}, {\"v\": 10}, {\"v\": 11}, {\"v\": 16.545454545454547}, {\"v\": 36}, {\"v\": 20}, {\"v\": 8}, {\"v\": 0.002662347424215238}, {\"v\": 0.05277385989656794}, {\"v\": 0.031560860915174536}, {\"v\": 0.00690758603713789}, {\"v\": 0.003980837230523554}, {\"v\": 10.852459016393441}, {\"v\": 77.1074681238616}, {\"v\": 0.9751910579763132}, {\"v\": 0.9929368140146988}, {\"v\": 0.9598352564479123}]}, {\"c\": [{\"v\": 131652}, {\"v\": 45757}, {\"v\": 1}, {\"v\": 20}, {\"v\": 1064942}, {\"v\": \"train\"}, {\"v\": 10}, {\"v\": 0}, {\"v\": 0}, {\"v\": 0.09523809523809523}, {\"v\": 0.0625}, {\"v\": 0.0058309037900874635}, {\"v\": 0.003745318352059925}, {\"v\": 5}, {\"v\": 76.0}, {\"v\": 10}, {\"v\": 170.0}, {\"v\": 177.0}, {\"v\": 13}, {\"v\": 21}, {\"v\": 16.333333333333332}, {\"v\": 160}, {\"v\": 58}, {\"v\": 15}, {\"v\": 0.002662347424215238}, {\"v\": 0.05277385989656794}, {\"v\": 0.031560860915174536}, {\"v\": 0.00690758603713789}, {\"v\": 0.003980837230523554}, {\"v\": 10.852459016393441}, {\"v\": 77.1074681238616}, {\"v\": 1.2596064319348796}, {\"v\": 1.0020840149806578}, {\"v\": 1.0201519094548903}]}, {\"c\": [{\"v\": 49492}, {\"v\": 45757}, {\"v\": 1}, {\"v\": 20}, {\"v\": 3094202}, {\"v\": \"train\"}, {\"v\": 11}, {\"v\": 5}, {\"v\": 0}, {\"v\": 0.05555555555555555}, {\"v\": 0.0}, {\"v\": 0.004608294930875576}, {\"v\": 0.0}, {\"v\": 4}, {\"v\": 41.0}, {\"v\": 4}, {\"v\": 41.0}, {\"v\": 181.0}, {\"v\": 16}, {\"v\": 18}, {\"v\": 12.055555555555555}, {\"v\": 108}, {\"v\": 42}, {\"v\": 13}, {\"v\": 0.002662347424215238}, {\"v\": 0.05277385989656794}, {\"v\": 0.031560860915174536}, {\"v\": 0.00690758603713789}, {\"v\": 0.003980837230523554}, {\"v\": 10.852459016393441}, {\"v\": 77.1074681238616}, {\"v\": 1.2249020486209998}, {\"v\": 1.053911094891409}, {\"v\": 1.0098036067352312}]}, {\"c\": [{\"v\": 107752}, {\"v\": 45757}, {\"v\": 1}, {\"v\": 20}, {\"v\": 3164145}, {\"v\": \"train\"}, {\"v\": 19}, {\"v\": 5}, {\"v\": 0}, {\"v\": 0.1323529411764706}, {\"v\": 0.14814814814814814}, {\"v\": 0.025139664804469275}, {\"v\": 0.027303754266211604}, {\"v\": 14}, {\"v\": 65.0}, {\"v\": 68}, {\"v\": 358.0}, {\"v\": 7.0}, {\"v\": 2}, {\"v\": 68}, {\"v\": 5.264705882352941}, {\"v\": 395}, {\"v\": 67}, {\"v\": 18}, {\"v\": 0.002662347424215238}, {\"v\": 0.05277385989656794}, {\"v\": 0.031560860915174536}, {\"v\": 0.00690758603713789}, {\"v\": 0.003980837230523554}, {\"v\": 10.852459016393441}, {\"v\": 77.1074681238616}, {\"v\": 1.0815631365516998}, {\"v\": 0.888497320067588}, {\"v\": 0.9850568507935773}]}, {\"c\": [{\"v\": 196387}, {\"v\": 45757}, {\"v\": 1}, {\"v\": 20}, {\"v\": 3057201}, {\"v\": \"train\"}, {\"v\": 9}, {\"v\": 0}, {\"v\": 0}, {\"v\": 0.043478260869565216}, {\"v\": 0.0}, {\"v\": 0.0033003300330033004}, {\"v\": 0.0}, {\"v\": 6}, {\"v\": 34.0}, {\"v\": 6}, {\"v\": 34.0}, {\"v\": 280.0}, {\"v\": 19}, {\"v\": 23}, {\"v\": 13.173913043478262}, {\"v\": 99}, {\"v\": 45}, {\"v\": 15}, {\"v\": 0.002662347424215238}, {\"v\": 0.05277385989656794}, {\"v\": 0.031560860915174536}, {\"v\": 0.00690758603713789}, {\"v\": 0.003980837230523554}, {\"v\": 10.852459016393441}, {\"v\": 77.1074681238616}, {\"v\": 1.3095607073796365}, {\"v\": 1.047388667406631}, {\"v\": 1.0018958658463453}]}, {\"c\": [{\"v\": 96338}, {\"v\": 45757}, {\"v\": 1}, {\"v\": 20}, {\"v\": 1964515}, {\"v\": \"test\"}, {\"v\": 14}, {\"v\": 4}, {\"v\": null}, {\"v\": 0.02531645569620253}, {\"v\": 0.02702702702702703}, {\"v\": 0.005649717514124294}, {\"v\": 0.005025125628140704}, {\"v\": 42}, {\"v\": 155.0}, {\"v\": 43}, {\"v\": 158.0}, {\"v\": 200.0}, {\"v\": 38}, {\"v\": 79}, {\"v\": 4.481012658227848}, {\"v\": 51}, {\"v\": 30}, {\"v\": 12}, {\"v\": 0.002662347424215238}, {\"v\": 0.05277385989656794}, {\"v\": 0.031560860915174536}, {\"v\": 0.00690758603713789}, {\"v\": 0.003980837230523554}, {\"v\": 10.852459016393441}, {\"v\": 77.1074681238616}, {\"v\": 0.972907547467579}, {\"v\": 1.0020834119416027}, {\"v\": 0.9842053169643495}]}, {\"c\": [{\"v\": 71462}, {\"v\": 45757}, {\"v\": 1}, {\"v\": 20}, {\"v\": 1637497}, {\"v\": \"train\"}, {\"v\": 16}, {\"v\": 0}, {\"v\": 0}, {\"v\": 0.027777777777777776}, {\"v\": 0.0}, {\"v\": 0.0033003300330033004}, {\"v\": 0.0}, {\"v\": 27}, {\"v\": 229.0}, {\"v\": 27}, {\"v\": 229.0}, {\"v\": 80.0}, {\"v\": 11}, {\"v\": 36}, {\"v\": 8.416666666666666}, {\"v\": 152}, {\"v\": 53}, {\"v\": 14}, {\"v\": 0.002662347424215238}, {\"v\": 0.05277385989656794}, {\"v\": 0.031560860915174536}, {\"v\": 0.00690758603713789}, {\"v\": 0.003980837230523554}, {\"v\": 10.852459016393441}, {\"v\": 77.1074681238616}, {\"v\": 1.2240951873829444}, {\"v\": 1.0239254677466667}, {\"v\": 1.085014621916728}]}, {\"c\": [{\"v\": 188638}, {\"v\": 45757}, {\"v\": 1}, {\"v\": 20}, {\"v\": 1325539}, {\"v\": \"train\"}, {\"v\": 11}, {\"v\": 6}, {\"v\": 0}, {\"v\": 0.020833333333333332}, {\"v\": 0.0}, {\"v\": 0.0029940119760479044}, {\"v\": 0.0}, {\"v\": 22}, {\"v\": 152.0}, {\"v\": 22}, {\"v\": 152.0}, {\"v\": 201.0}, {\"v\": 28}, {\"v\": 48}, {\"v\": 6.958333333333333}, {\"v\": 230}, {\"v\": 67}, {\"v\": 15}, {\"v\": 0.002662347424215238}, {\"v\": 0.05277385989656794}, {\"v\": 0.031560860915174536}, {\"v\": 0.00690758603713789}, {\"v\": 0.003980837230523554}, {\"v\": 10.852459016393441}, {\"v\": 77.1074681238616}, {\"v\": 0.9635194013918947}, {\"v\": 1.0128634686114362}, {\"v\": 1.0140092408728125}]}, {\"c\": [{\"v\": 172921}, {\"v\": 45757}, {\"v\": 1}, {\"v\": 20}, {\"v\": 3406435}, {\"v\": \"test\"}, {\"v\": 18}, {\"v\": 0}, {\"v\": null}, {\"v\": 0.09090909090909091}, {\"v\": 0.0}, {\"v\": 0.005952380952380952}, {\"v\": 0.0}, {\"v\": 10}, {\"v\": 138.0}, {\"v\": 10}, {\"v\": 138.0}, {\"v\": 60.0}, {\"v\": 3}, {\"v\": 11}, {\"v\": 15.272727272727273}, {\"v\": 72}, {\"v\": 31}, {\"v\": 13}, {\"v\": 0.002662347424215238}, {\"v\": 0.05277385989656794}, {\"v\": 0.031560860915174536}, {\"v\": 0.00690758603713789}, {\"v\": 0.003980837230523554}, {\"v\": 10.852459016393441}, {\"v\": 77.1074681238616}, {\"v\": 0.6347261648967336}, {\"v\": 1.0840538363831902}, {\"v\": 1.0709475933597248}]}, {\"c\": [{\"v\": 173091}, {\"v\": 45757}, {\"v\": 1}, {\"v\": 20}, {\"v\": 1628000}, {\"v\": \"train\"}, {\"v\": 8}, {\"v\": 0}, {\"v\": 0}, {\"v\": 0.047619047619047616}, {\"v\": 0.0}, {\"v\": 0.0078125}, {\"v\": 0.0}, {\"v\": 6}, {\"v\": 29.0}, {\"v\": 6}, {\"v\": 29.0}, {\"v\": 107.0}, {\"v\": 17}, {\"v\": 21}, {\"v\": 6.095238095238095}, {\"v\": 53}, {\"v\": 28}, {\"v\": 11}, {\"v\": 0.002662347424215238}, {\"v\": 0.05277385989656794}, {\"v\": 0.031560860915174536}, {\"v\": 0.00690758603713789}, {\"v\": 0.003980837230523554}, {\"v\": 10.852459016393441}, {\"v\": 77.1074681238616}, {\"v\": 0.3535272672914108}, {\"v\": 0.9548270420048234}, {\"v\": 1.0065352080527832}]}, {\"c\": [{\"v\": 7521}, {\"v\": 45757}, {\"v\": 1}, {\"v\": 20}, {\"v\": 2444936}, {\"v\": \"train\"}, {\"v\": 15}, {\"v\": 6}, {\"v\": 0}, {\"v\": 0.09090909090909091}, {\"v\": 0.0}, {\"v\": 0.009615384615384616}, {\"v\": 0.0}, {\"v\": 10}, {\"v\": 93.0}, {\"v\": 10}, {\"v\": 93.0}, {\"v\": 15.0}, {\"v\": 3}, {\"v\": 11}, {\"v\": 9.454545454545455}, {\"v\": 41}, {\"v\": 31}, {\"v\": 14}, {\"v\": 0.002662347424215238}, {\"v\": 0.05277385989656794}, {\"v\": 0.031560860915174536}, {\"v\": 0.00690758603713789}, {\"v\": 0.003980837230523554}, {\"v\": 10.852459016393441}, {\"v\": 77.1074681238616}, {\"v\": 1.2397858099288068}, {\"v\": 0.9834713398687925}, {\"v\": 1.0131057105465555}]}], \"cols\": [{\"type\": \"number\", \"id\": \"user_id\", \"label\": \"user_id\"}, {\"type\": \"number\", \"id\": \"product_id\", \"label\": \"product_id\"}, {\"type\": \"number\", \"id\": \"aisle_id\", \"label\": \"aisle_id\"}, {\"type\": \"number\", \"id\": \"department_id\", \"label\": \"department_id\"}, {\"type\": \"number\", \"id\": \"order_id\", \"label\": \"order_id\"}, {\"type\": \"string\", \"id\": \"eval_set\", \"label\": \"eval_set\"}, {\"type\": \"number\", \"id\": \"order_hour_of_day\", \"label\": \"order_hour_of_day\"}, {\"type\": \"number\", \"id\": \"order_dow\", \"label\": \"order_dow\"}, {\"type\": \"number\", \"id\": \"is_ordered\", \"label\": \"is_ordered\"}, {\"type\": \"number\", \"id\": \"upf_perc_all_orders\", \"label\": \"upf_perc_all_orders\"}, {\"type\": \"number\", \"id\": \"upf_perc_reorder\", \"label\": \"upf_perc_reorder\"}, {\"type\": \"number\", \"id\": \"upf_orders_per_day\", \"label\": \"upf_orders_per_day\"}, {\"type\": \"number\", \"id\": \"upf_reorders_per_day\", \"label\": \"upf_reorders_per_day\"}, {\"type\": \"number\", \"id\": \"upf_first_order_number\", \"label\": \"upf_first_order_number\"}, {\"type\": \"number\", \"id\": \"upf_first_order_day\", \"label\": \"upf_first_order_day\"}, {\"type\": \"number\", \"id\": \"upf_last_order_number\", \"label\": \"upf_last_order_number\"}, {\"type\": \"number\", \"id\": \"upf_last_order_day\", \"label\": \"upf_last_order_day\"}, {\"type\": \"number\", \"id\": \"upf_days_since_last_order\", \"label\": \"upf_days_since_last_order\"}, {\"type\": \"number\", \"id\": \"upf_orders_since_last_order\", \"label\": \"upf_orders_since_last_order\"}, {\"type\": \"number\", \"id\": \"uf_num_orders\", \"label\": \"uf_num_orders\"}, {\"type\": \"number\", \"id\": \"uf_avg_days_bw_orders\", \"label\": \"uf_avg_days_bw_orders\"}, {\"type\": \"number\", \"id\": \"uf_num_products\", \"label\": \"uf_num_products\"}, {\"type\": \"number\", \"id\": \"uf_num_aisles\", \"label\": \"uf_num_aisles\"}, {\"type\": \"number\", \"id\": \"uf_num_departments\", \"label\": \"uf_num_departments\"}, {\"type\": \"number\", \"id\": \"pf_perc_users\", \"label\": \"pf_perc_users\"}, {\"type\": \"number\", \"id\": \"pf_perc_all_orders\", \"label\": \"pf_perc_all_orders\"}, {\"type\": \"number\", \"id\": \"pf_perc_reorders\", \"label\": \"pf_perc_reorders\"}, {\"type\": \"number\", \"id\": \"pf_orders_per_day\", \"label\": \"pf_orders_per_day\"}, {\"type\": \"number\", \"id\": \"pf_reorders_per_day\", \"label\": \"pf_reorders_per_day\"}, {\"type\": \"number\", \"id\": \"pf_avg_first_order_number\", \"label\": \"pf_avg_first_order_number\"}, {\"type\": \"number\", \"id\": \"pf_avg_first_order_day\", \"label\": \"pf_avg_first_order_day\"}, {\"type\": \"number\", \"id\": \"tf_product_tod_factor\", \"label\": \"tf_product_tod_factor\"}, {\"type\": \"number\", \"id\": \"tf_aisle_tod_factor\", \"label\": \"tf_aisle_tod_factor\"}, {\"type\": \"number\", \"id\": \"tf_department_tod_factor\", \"label\": \"tf_department_tod_factor\"}]},\n",
       "            {\n",
       "              pageSize: 25,\n",
       "              cssClassNames:  {\n",
       "                tableRow: 'gchart-table-row',\n",
       "                headerRow: 'gchart-table-headerrow',\n",
       "                oddTableRow: 'gchart-table-oddrow',\n",
       "                selectedTableRow: 'gchart-table-selectedrow',\n",
       "                hoverTableRow: 'gchart-table-hoverrow',\n",
       "                tableCell: 'gchart-table-cell',\n",
       "                headerCell: 'gchart-table-headercell',\n",
       "                rowNumberCell: 'gchart-table-rownumcell'\n",
       "              }\n",
       "            },\n",
       "            {source_index: 6, fields: 'user_id,product_id,aisle_id,department_id,order_id,eval_set,order_hour_of_day,order_dow,is_ordered,upf_perc_all_orders,upf_perc_reorder,upf_orders_per_day,upf_reorders_per_day,upf_first_order_number,upf_first_order_day,upf_last_order_number,upf_last_order_day,upf_days_since_last_order,upf_orders_since_last_order,uf_num_orders,uf_avg_days_bw_orders,uf_num_products,uf_num_aisles,uf_num_departments,pf_perc_users,pf_perc_all_orders,pf_perc_reorders,pf_orders_per_day,pf_reorders_per_day,pf_avg_first_order_number,pf_avg_first_order_day,tf_product_tod_factor,tf_aisle_tod_factor,tf_department_tod_factor'},\n",
       "            0,\n",
       "            12628052);\n",
       "        }\n",
       "      );\n",
       "    </script>\n",
       "  "
      ],
      "text/plain": [
       "QueryResultsTable job_gTq4xDttqoZzGH0awO-lWg-kA0E"
      ]
     },
     "execution_count": 40,
     "metadata": {},
     "output_type": "execute_result"
    }
   ],
   "source": [
    "%%bq execute -q reorder_model_universe_q -t instacart.reorder_model_universe  -m overwrite"
   ]
  },
  {
   "cell_type": "markdown",
   "metadata": {},
   "source": [
    "Need to shard when exporting from BQ; max export size out of BQ is 1GB"
   ]
  },
  {
   "cell_type": "code",
   "execution_count": 55,
   "metadata": {
    "collapsed": false
   },
   "outputs": [
    {
     "data": {
      "text/plain": [
       "Job kaggle-instacart-172517/job_lhQgVrDvJvZWnE21ImacEc5_tM8 completed"
      ]
     },
     "execution_count": 55,
     "metadata": {},
     "output_type": "execute_result"
    }
   ],
   "source": [
    "project_id = Context.default().project_id\n",
    "bucket_path = 'gs://' + project_id\n",
    "bucket_object = bucket_path + '/reorder_model/universe_*.csv'\n",
    "bucket_object2 = bucket_path + '/reorder_model/universe.csv'\n",
    "table = bq.Table('instacart.reorder_model_universe')\n",
    "table.extract(destination = bucket_object, csv_header=False)"
   ]
  },
  {
   "cell_type": "markdown",
   "metadata": {},
   "source": [
    "Concatenate the shards together"
   ]
  },
  {
   "cell_type": "code",
   "execution_count": 56,
   "metadata": {
    "collapsed": false
   },
   "outputs": [
    {
     "name": "stderr",
     "output_type": "stream",
     "text": [
      "Composing gs://kaggle-instacart-172517/reorder_model/universe.csv from 5 component object(s).\n"
     ]
    }
   ],
   "source": [
    "%%bash -s \"$bucket_object\" \"$bucket_object2\"\n",
    "gsutil compose $1 $2"
   ]
  },
  {
   "cell_type": "markdown",
   "metadata": {},
   "source": [
    "Import as Pandas DF"
   ]
  },
  {
   "cell_type": "code",
   "execution_count": null,
   "metadata": {
    "collapsed": false
   },
   "outputs": [],
   "source": [
    "fields = [str(x.name) for x in list(table.schema)]\n",
    "%storage read --object $bucket_object2 --variable model_universe_raw\n",
    "model_universe = pd.read_csv(StringIO(model_universe_raw), header=None, names=fields)\n",
    "print model_universe.shape"
   ]
  },
  {
   "cell_type": "code",
   "execution_count": null,
   "metadata": {
    "collapsed": true
   },
   "outputs": [],
   "source": []
  }
 ],
 "metadata": {
  "kernelspec": {
   "display_name": "Python 2",
   "language": "python",
   "name": "python2"
  },
  "language_info": {
   "codemirror_mode": {
    "name": "ipython",
    "version": 2
   },
   "file_extension": ".py",
   "mimetype": "text/x-python",
   "name": "python",
   "nbconvert_exporter": "python",
   "pygments_lexer": "ipython2",
   "version": "2.7.9"
  }
 },
 "nbformat": 4,
 "nbformat_minor": 2
}

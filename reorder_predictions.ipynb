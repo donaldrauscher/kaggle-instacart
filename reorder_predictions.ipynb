{
 "cells": [
  {
   "cell_type": "code",
   "execution_count": 4,
   "metadata": {
    "collapsed": true
   },
   "outputs": [],
   "source": [
    "from google.datalab import Context\n",
    "import google.datalab.bigquery as bq\n",
    "import google.datalab.storage as storage\n",
    "import pandas as pd\n",
    "try:\n",
    "  from StringIO import StringIO\n",
    "except ImportError:\n",
    "  from io import BytesIO as StringIO"
   ]
  },
  {
   "cell_type": "markdown",
   "metadata": {},
   "source": [
    "## Build Some Intermediary Tables\n",
    "\n",
    "Pull some additional information for each user that we'll need later\n",
    "Pull some additional information on when each user purchases each product"
   ]
  },
  {
   "cell_type": "code",
   "execution_count": 45,
   "metadata": {
    "collapsed": true
   },
   "outputs": [],
   "source": [
    "%%bq query -n users_q\n",
    "SELECT orders.user_id, COALESCE(user_flags.is_train,0) AS is_train,\n",
    "  COUNT(*) AS num_orders, SUM(days_since_prior_order) AS days_bw_first_last_order\n",
    "FROM instacart.orders AS orders\n",
    "LEFT JOIN (\n",
    "  SELECT user_id, 1 AS `is_train` FROM instacart.orders WHERE eval_set = \"train\" GROUP BY 1\n",
    ") AS user_flags ON orders.user_id = user_flags.user_id\n",
    "WHERE eval_set = \"prior\"\n",
    "GROUP BY 1,2"
   ]
  },
  {
   "cell_type": "code",
   "execution_count": 46,
   "metadata": {
    "collapsed": false
   },
   "outputs": [
    {
     "data": {
      "text/html": [
       "\n",
       "    <div class=\"bqtv\" id=\"11_149918315151\"><table><tr><th>user_id</th><th>is_train</th><th>num_orders</th><th>days_bw_first_last_order</th></tr><tr><td>201321</td><td>1</td><td>3</td><td>0.0</td></tr><tr><td>125717</td><td>0</td><td>3</td><td>0.0</td></tr><tr><td>80567</td><td>1</td><td>3</td><td>0.0</td></tr><tr><td>36904</td><td>1</td><td>3</td><td>0.0</td></tr><tr><td>164320</td><td>1</td><td>3</td><td>0.0</td></tr><tr><td>174627</td><td>1</td><td>3</td><td>0.0</td></tr><tr><td>181478</td><td>0</td><td>3</td><td>0.0</td></tr><tr><td>179078</td><td>1</td><td>3</td><td>0.0</td></tr><tr><td>137150</td><td>0</td><td>3</td><td>0.0</td></tr><tr><td>109010</td><td>1</td><td>3</td><td>0.0</td></tr><tr><td>15495</td><td>1</td><td>3</td><td>0.0</td></tr><tr><td>121915</td><td>1</td><td>3</td><td>0.0</td></tr><tr><td>133075</td><td>1</td><td>3</td><td>0.0</td></tr><tr><td>64975</td><td>1</td><td>3</td><td>0.0</td></tr><tr><td>115420</td><td>0</td><td>3</td><td>0.0</td></tr><tr><td>62180</td><td>1</td><td>3</td><td>0.0</td></tr><tr><td>131603</td><td>0</td><td>3</td><td>0.0</td></tr><tr><td>9515</td><td>0</td><td>3</td><td>0.0</td></tr><tr><td>99295</td><td>0</td><td>3</td><td>0.0</td></tr><tr><td>58934</td><td>0</td><td>3</td><td>0.0</td></tr><tr><td>116115</td><td>1</td><td>3</td><td>2.0</td></tr><tr><td>2737</td><td>1</td><td>3</td><td>2.0</td></tr><tr><td>142255</td><td>0</td><td>3</td><td>2.0</td></tr><tr><td>172213</td><td>0</td><td>3</td><td>2.0</td></tr><tr><td>36216</td><td>0</td><td>3</td><td>2.0</td></tr></table></div>\n",
       "    <br />(rows: 206209, time: 8.7s,    76MB processed, job: job_npKUIjeufd-QKY9tZ15rEjRzh9A)<br />\n",
       "    <script>\n",
       "\n",
       "      require.config({\n",
       "        paths: {\n",
       "          d3: '//cdnjs.cloudflare.com/ajax/libs/d3/3.4.13/d3',\n",
       "          plotly: 'https://cdn.plot.ly/plotly-1.5.1.min.js?noext',\n",
       "          jquery: '//ajax.googleapis.com/ajax/libs/jquery/2.0.0/jquery.min'\n",
       "        },\n",
       "        map: {\n",
       "          '*': {\n",
       "            datalab: 'nbextensions/gcpdatalab'\n",
       "          }\n",
       "        },\n",
       "        shim: {\n",
       "          plotly: {\n",
       "            deps: ['d3', 'jquery'],\n",
       "            exports: 'plotly'\n",
       "          }\n",
       "        }\n",
       "      });\n",
       "\n",
       "      require(['datalab/charting', 'datalab/element!11_149918315151', 'base/js/events',\n",
       "          'datalab/style!/nbextensions/gcpdatalab/charting.css'],\n",
       "        function(charts, dom, events) {\n",
       "          charts.render('gcharts', dom, events, 'paged_table', [], {\"rows\": [{\"c\": [{\"v\": 201321}, {\"v\": 1}, {\"v\": 3}, {\"v\": 0.0}]}, {\"c\": [{\"v\": 125717}, {\"v\": 0}, {\"v\": 3}, {\"v\": 0.0}]}, {\"c\": [{\"v\": 80567}, {\"v\": 1}, {\"v\": 3}, {\"v\": 0.0}]}, {\"c\": [{\"v\": 36904}, {\"v\": 1}, {\"v\": 3}, {\"v\": 0.0}]}, {\"c\": [{\"v\": 164320}, {\"v\": 1}, {\"v\": 3}, {\"v\": 0.0}]}, {\"c\": [{\"v\": 174627}, {\"v\": 1}, {\"v\": 3}, {\"v\": 0.0}]}, {\"c\": [{\"v\": 181478}, {\"v\": 0}, {\"v\": 3}, {\"v\": 0.0}]}, {\"c\": [{\"v\": 179078}, {\"v\": 1}, {\"v\": 3}, {\"v\": 0.0}]}, {\"c\": [{\"v\": 137150}, {\"v\": 0}, {\"v\": 3}, {\"v\": 0.0}]}, {\"c\": [{\"v\": 109010}, {\"v\": 1}, {\"v\": 3}, {\"v\": 0.0}]}, {\"c\": [{\"v\": 15495}, {\"v\": 1}, {\"v\": 3}, {\"v\": 0.0}]}, {\"c\": [{\"v\": 121915}, {\"v\": 1}, {\"v\": 3}, {\"v\": 0.0}]}, {\"c\": [{\"v\": 133075}, {\"v\": 1}, {\"v\": 3}, {\"v\": 0.0}]}, {\"c\": [{\"v\": 64975}, {\"v\": 1}, {\"v\": 3}, {\"v\": 0.0}]}, {\"c\": [{\"v\": 115420}, {\"v\": 0}, {\"v\": 3}, {\"v\": 0.0}]}, {\"c\": [{\"v\": 62180}, {\"v\": 1}, {\"v\": 3}, {\"v\": 0.0}]}, {\"c\": [{\"v\": 131603}, {\"v\": 0}, {\"v\": 3}, {\"v\": 0.0}]}, {\"c\": [{\"v\": 9515}, {\"v\": 0}, {\"v\": 3}, {\"v\": 0.0}]}, {\"c\": [{\"v\": 99295}, {\"v\": 0}, {\"v\": 3}, {\"v\": 0.0}]}, {\"c\": [{\"v\": 58934}, {\"v\": 0}, {\"v\": 3}, {\"v\": 0.0}]}, {\"c\": [{\"v\": 116115}, {\"v\": 1}, {\"v\": 3}, {\"v\": 2.0}]}, {\"c\": [{\"v\": 2737}, {\"v\": 1}, {\"v\": 3}, {\"v\": 2.0}]}, {\"c\": [{\"v\": 142255}, {\"v\": 0}, {\"v\": 3}, {\"v\": 2.0}]}, {\"c\": [{\"v\": 172213}, {\"v\": 0}, {\"v\": 3}, {\"v\": 2.0}]}, {\"c\": [{\"v\": 36216}, {\"v\": 0}, {\"v\": 3}, {\"v\": 2.0}]}], \"cols\": [{\"type\": \"number\", \"id\": \"user_id\", \"label\": \"user_id\"}, {\"type\": \"number\", \"id\": \"is_train\", \"label\": \"is_train\"}, {\"type\": \"number\", \"id\": \"num_orders\", \"label\": \"num_orders\"}, {\"type\": \"number\", \"id\": \"days_bw_first_last_order\", \"label\": \"days_bw_first_last_order\"}]},\n",
       "            {\n",
       "              pageSize: 25,\n",
       "              cssClassNames:  {\n",
       "                tableRow: 'gchart-table-row',\n",
       "                headerRow: 'gchart-table-headerrow',\n",
       "                oddTableRow: 'gchart-table-oddrow',\n",
       "                selectedTableRow: 'gchart-table-selectedrow',\n",
       "                hoverTableRow: 'gchart-table-hoverrow',\n",
       "                tableCell: 'gchart-table-cell',\n",
       "                headerCell: 'gchart-table-headercell',\n",
       "                rowNumberCell: 'gchart-table-rownumcell'\n",
       "              }\n",
       "            },\n",
       "            {source_index: 0, fields: 'user_id,is_train,num_orders,days_bw_first_last_order'},\n",
       "            0,\n",
       "            206209);\n",
       "        }\n",
       "      );\n",
       "    </script>\n",
       "  "
      ],
      "text/plain": [
       "QueryResultsTable job_npKUIjeufd-QKY9tZ15rEjRzh9A"
      ]
     },
     "execution_count": 46,
     "metadata": {},
     "output_type": "execute_result"
    }
   ],
   "source": [
    "%%bq execute -q users_q -t instacart.users  -m overwrite"
   ]
  },
  {
   "cell_type": "code",
   "execution_count": 47,
   "metadata": {
    "collapsed": true
   },
   "outputs": [],
   "source": [
    "%%bq query -n user_products_q\n",
    "SELECT orders.user_id, op.product_id, \n",
    "  COUNT(*) AS num_orders, SUM(op.reordered) AS num_reorders,\n",
    "  MIN(orders.order_number) AS first_order_number, MIN(days_since_first_order) AS first_order_day,\n",
    "  MAX(orders.order_number) AS last_order_number, MAX(days_since_first_order) AS last_order_day\n",
    "FROM instacart.order_products__prior AS op\n",
    "INNER JOIN (\n",
    "  SELECT *, \n",
    "  SUM(COALESCE(days_since_prior_order,0)) OVER (PARTITION BY user_id ORDER BY order_number ASC ROWS BETWEEN UNBOUNDED PRECEDING AND CURRENT ROW) AS `days_since_first_order`\n",
    "  FROM instacart.orders WHERE eval_set = \"prior\"\n",
    ") AS orders ON orders.order_id = op.order_id\n",
    "GROUP BY 1,2"
   ]
  },
  {
   "cell_type": "code",
   "execution_count": 48,
   "metadata": {
    "collapsed": false
   },
   "outputs": [
    {
     "data": {
      "text/html": [
       "\n",
       "    <div class=\"bqtv\" id=\"12_149918320219\"><table><tr><th>user_id</th><th>product_id</th><th>num_orders</th><th>num_reorders</th><th>first_order_number</th><th>first_order_day</th><th>last_order_number</th><th>last_order_day</th></tr><tr><td>66536</td><td>21616</td><td>11</td><td>10</td><td>13</td><td>75.0</td><td>73</td><td>357.0</td></tr><tr><td>133815</td><td>16262</td><td>14</td><td>13</td><td>45</td><td>195.0</td><td>74</td><td>353.0</td></tr><tr><td>35933</td><td>11481</td><td>36</td><td>35</td><td>9</td><td>36.0</td><td>84</td><td>352.0</td></tr><tr><td>86294</td><td>4605</td><td>12</td><td>11</td><td>8</td><td>17.0</td><td>46</td><td>166.0</td></tr><tr><td>136558</td><td>13032</td><td>25</td><td>24</td><td>6</td><td>7.0</td><td>97</td><td>133.0</td></tr><tr><td>146147</td><td>260</td><td>18</td><td>17</td><td>23</td><td>45.0</td><td>66</td><td>141.0</td></tr><tr><td>22614</td><td>49235</td><td>47</td><td>46</td><td>1</td><td>0.0</td><td>47</td><td>349.0</td></tr><tr><td>195399</td><td>13176</td><td>25</td><td>24</td><td>1</td><td>0.0</td><td>54</td><td>352.0</td></tr><tr><td>111451</td><td>36338</td><td>11</td><td>10</td><td>8</td><td>54.0</td><td>47</td><td>353.0</td></tr><tr><td>69800</td><td>13740</td><td>16</td><td>15</td><td>2</td><td>4.0</td><td>54</td><td>316.0</td></tr><tr><td>19866</td><td>32569</td><td>12</td><td>11</td><td>2</td><td>3.0</td><td>40</td><td>230.0</td></tr><tr><td>10241</td><td>26353</td><td>20</td><td>19</td><td>26</td><td>138.0</td><td>88</td><td>360.0</td></tr><tr><td>101319</td><td>10673</td><td>18</td><td>17</td><td>2</td><td>3.0</td><td>90</td><td>299.0</td></tr><tr><td>159728</td><td>7753</td><td>40</td><td>39</td><td>1</td><td>0.0</td><td>48</td><td>356.0</td></tr><tr><td>190278</td><td>28342</td><td>15</td><td>14</td><td>4</td><td>17.0</td><td>42</td><td>294.0</td></tr><tr><td>151628</td><td>39877</td><td>14</td><td>13</td><td>46</td><td>186.0</td><td>69</td><td>326.0</td></tr><tr><td>192813</td><td>260</td><td>12</td><td>11</td><td>21</td><td>142.0</td><td>43</td><td>311.0</td></tr><tr><td>191465</td><td>32347</td><td>22</td><td>21</td><td>1</td><td>0.0</td><td>80</td><td>353.0</td></tr><tr><td>50607</td><td>45066</td><td>13</td><td>12</td><td>7</td><td>20.0</td><td>59</td><td>186.0</td></tr><tr><td>27992</td><td>27344</td><td>11</td><td>10</td><td>64</td><td>265.0</td><td>82</td><td>332.0</td></tr><tr><td>153996</td><td>31506</td><td>28</td><td>27</td><td>1</td><td>0.0</td><td>89</td><td>355.0</td></tr><tr><td>63073</td><td>17580</td><td>19</td><td>18</td><td>37</td><td>118.0</td><td>93</td><td>276.0</td></tr><tr><td>114935</td><td>24852</td><td>23</td><td>22</td><td>1</td><td>0.0</td><td>61</td><td>335.0</td></tr><tr><td>8116</td><td>24184</td><td>27</td><td>26</td><td>2</td><td>4.0</td><td>47</td><td>337.0</td></tr><tr><td>64761</td><td>4589</td><td>22</td><td>21</td><td>1</td><td>0.0</td><td>56</td><td>345.0</td></tr></table></div>\n",
       "    <br />(rows: 13307953, time: 48.8s,   910MB processed, job: job_HsgUmaFLKDakl1GTf6jWt5LbyT0)<br />\n",
       "    <script>\n",
       "\n",
       "      require.config({\n",
       "        paths: {\n",
       "          d3: '//cdnjs.cloudflare.com/ajax/libs/d3/3.4.13/d3',\n",
       "          plotly: 'https://cdn.plot.ly/plotly-1.5.1.min.js?noext',\n",
       "          jquery: '//ajax.googleapis.com/ajax/libs/jquery/2.0.0/jquery.min'\n",
       "        },\n",
       "        map: {\n",
       "          '*': {\n",
       "            datalab: 'nbextensions/gcpdatalab'\n",
       "          }\n",
       "        },\n",
       "        shim: {\n",
       "          plotly: {\n",
       "            deps: ['d3', 'jquery'],\n",
       "            exports: 'plotly'\n",
       "          }\n",
       "        }\n",
       "      });\n",
       "\n",
       "      require(['datalab/charting', 'datalab/element!12_149918320219', 'base/js/events',\n",
       "          'datalab/style!/nbextensions/gcpdatalab/charting.css'],\n",
       "        function(charts, dom, events) {\n",
       "          charts.render('gcharts', dom, events, 'paged_table', [], {\"rows\": [{\"c\": [{\"v\": 66536}, {\"v\": 21616}, {\"v\": 11}, {\"v\": 10}, {\"v\": 13}, {\"v\": 75.0}, {\"v\": 73}, {\"v\": 357.0}]}, {\"c\": [{\"v\": 133815}, {\"v\": 16262}, {\"v\": 14}, {\"v\": 13}, {\"v\": 45}, {\"v\": 195.0}, {\"v\": 74}, {\"v\": 353.0}]}, {\"c\": [{\"v\": 35933}, {\"v\": 11481}, {\"v\": 36}, {\"v\": 35}, {\"v\": 9}, {\"v\": 36.0}, {\"v\": 84}, {\"v\": 352.0}]}, {\"c\": [{\"v\": 86294}, {\"v\": 4605}, {\"v\": 12}, {\"v\": 11}, {\"v\": 8}, {\"v\": 17.0}, {\"v\": 46}, {\"v\": 166.0}]}, {\"c\": [{\"v\": 136558}, {\"v\": 13032}, {\"v\": 25}, {\"v\": 24}, {\"v\": 6}, {\"v\": 7.0}, {\"v\": 97}, {\"v\": 133.0}]}, {\"c\": [{\"v\": 146147}, {\"v\": 260}, {\"v\": 18}, {\"v\": 17}, {\"v\": 23}, {\"v\": 45.0}, {\"v\": 66}, {\"v\": 141.0}]}, {\"c\": [{\"v\": 22614}, {\"v\": 49235}, {\"v\": 47}, {\"v\": 46}, {\"v\": 1}, {\"v\": 0.0}, {\"v\": 47}, {\"v\": 349.0}]}, {\"c\": [{\"v\": 195399}, {\"v\": 13176}, {\"v\": 25}, {\"v\": 24}, {\"v\": 1}, {\"v\": 0.0}, {\"v\": 54}, {\"v\": 352.0}]}, {\"c\": [{\"v\": 111451}, {\"v\": 36338}, {\"v\": 11}, {\"v\": 10}, {\"v\": 8}, {\"v\": 54.0}, {\"v\": 47}, {\"v\": 353.0}]}, {\"c\": [{\"v\": 69800}, {\"v\": 13740}, {\"v\": 16}, {\"v\": 15}, {\"v\": 2}, {\"v\": 4.0}, {\"v\": 54}, {\"v\": 316.0}]}, {\"c\": [{\"v\": 19866}, {\"v\": 32569}, {\"v\": 12}, {\"v\": 11}, {\"v\": 2}, {\"v\": 3.0}, {\"v\": 40}, {\"v\": 230.0}]}, {\"c\": [{\"v\": 10241}, {\"v\": 26353}, {\"v\": 20}, {\"v\": 19}, {\"v\": 26}, {\"v\": 138.0}, {\"v\": 88}, {\"v\": 360.0}]}, {\"c\": [{\"v\": 101319}, {\"v\": 10673}, {\"v\": 18}, {\"v\": 17}, {\"v\": 2}, {\"v\": 3.0}, {\"v\": 90}, {\"v\": 299.0}]}, {\"c\": [{\"v\": 159728}, {\"v\": 7753}, {\"v\": 40}, {\"v\": 39}, {\"v\": 1}, {\"v\": 0.0}, {\"v\": 48}, {\"v\": 356.0}]}, {\"c\": [{\"v\": 190278}, {\"v\": 28342}, {\"v\": 15}, {\"v\": 14}, {\"v\": 4}, {\"v\": 17.0}, {\"v\": 42}, {\"v\": 294.0}]}, {\"c\": [{\"v\": 151628}, {\"v\": 39877}, {\"v\": 14}, {\"v\": 13}, {\"v\": 46}, {\"v\": 186.0}, {\"v\": 69}, {\"v\": 326.0}]}, {\"c\": [{\"v\": 192813}, {\"v\": 260}, {\"v\": 12}, {\"v\": 11}, {\"v\": 21}, {\"v\": 142.0}, {\"v\": 43}, {\"v\": 311.0}]}, {\"c\": [{\"v\": 191465}, {\"v\": 32347}, {\"v\": 22}, {\"v\": 21}, {\"v\": 1}, {\"v\": 0.0}, {\"v\": 80}, {\"v\": 353.0}]}, {\"c\": [{\"v\": 50607}, {\"v\": 45066}, {\"v\": 13}, {\"v\": 12}, {\"v\": 7}, {\"v\": 20.0}, {\"v\": 59}, {\"v\": 186.0}]}, {\"c\": [{\"v\": 27992}, {\"v\": 27344}, {\"v\": 11}, {\"v\": 10}, {\"v\": 64}, {\"v\": 265.0}, {\"v\": 82}, {\"v\": 332.0}]}, {\"c\": [{\"v\": 153996}, {\"v\": 31506}, {\"v\": 28}, {\"v\": 27}, {\"v\": 1}, {\"v\": 0.0}, {\"v\": 89}, {\"v\": 355.0}]}, {\"c\": [{\"v\": 63073}, {\"v\": 17580}, {\"v\": 19}, {\"v\": 18}, {\"v\": 37}, {\"v\": 118.0}, {\"v\": 93}, {\"v\": 276.0}]}, {\"c\": [{\"v\": 114935}, {\"v\": 24852}, {\"v\": 23}, {\"v\": 22}, {\"v\": 1}, {\"v\": 0.0}, {\"v\": 61}, {\"v\": 335.0}]}, {\"c\": [{\"v\": 8116}, {\"v\": 24184}, {\"v\": 27}, {\"v\": 26}, {\"v\": 2}, {\"v\": 4.0}, {\"v\": 47}, {\"v\": 337.0}]}, {\"c\": [{\"v\": 64761}, {\"v\": 4589}, {\"v\": 22}, {\"v\": 21}, {\"v\": 1}, {\"v\": 0.0}, {\"v\": 56}, {\"v\": 345.0}]}], \"cols\": [{\"type\": \"number\", \"id\": \"user_id\", \"label\": \"user_id\"}, {\"type\": \"number\", \"id\": \"product_id\", \"label\": \"product_id\"}, {\"type\": \"number\", \"id\": \"num_orders\", \"label\": \"num_orders\"}, {\"type\": \"number\", \"id\": \"num_reorders\", \"label\": \"num_reorders\"}, {\"type\": \"number\", \"id\": \"first_order_number\", \"label\": \"first_order_number\"}, {\"type\": \"number\", \"id\": \"first_order_day\", \"label\": \"first_order_day\"}, {\"type\": \"number\", \"id\": \"last_order_number\", \"label\": \"last_order_number\"}, {\"type\": \"number\", \"id\": \"last_order_day\", \"label\": \"last_order_day\"}]},\n",
       "            {\n",
       "              pageSize: 25,\n",
       "              cssClassNames:  {\n",
       "                tableRow: 'gchart-table-row',\n",
       "                headerRow: 'gchart-table-headerrow',\n",
       "                oddTableRow: 'gchart-table-oddrow',\n",
       "                selectedTableRow: 'gchart-table-selectedrow',\n",
       "                hoverTableRow: 'gchart-table-hoverrow',\n",
       "                tableCell: 'gchart-table-cell',\n",
       "                headerCell: 'gchart-table-headercell',\n",
       "                rowNumberCell: 'gchart-table-rownumcell'\n",
       "              }\n",
       "            },\n",
       "            {source_index: 1, fields: 'user_id,product_id,num_orders,num_reorders,first_order_number,first_order_day,last_order_number,last_order_day'},\n",
       "            0,\n",
       "            13307953);\n",
       "        }\n",
       "      );\n",
       "    </script>\n",
       "  "
      ],
      "text/plain": [
       "QueryResultsTable job_HsgUmaFLKDakl1GTf6jWt5LbyT0"
      ]
     },
     "execution_count": 48,
     "metadata": {},
     "output_type": "execute_result"
    }
   ],
   "source": [
    "%%bq execute -q user_products_q -t instacart.user_products  -m overwrite"
   ]
  },
  {
   "cell_type": "markdown",
   "metadata": {},
   "source": [
    "## User-Product Features\n",
    "\n",
    "User-product level data which is base for the reorder model (includes both test and train)\n",
    "\n",
    "Contains \"basket\" of all products that user has ever purchased; trying to predict which will be reordered (though this is admittedly only ~2/3 of the problem since ~1/3 of purchases in the train set are to products never purchased before)"
   ]
  },
  {
   "cell_type": "code",
   "execution_count": 49,
   "metadata": {
    "collapsed": true
   },
   "outputs": [],
   "source": [
    "%%bq query -n user_products_features_q\n",
    "WITH up_features AS (\n",
    "  SELECT up.user_id, up.product_id,\n",
    "    up.num_orders / users.num_orders AS `perc_all_orders`,\n",
    "    up.num_reorders / NULLIF(users.num_orders - up.first_order_number,0) AS `perc_reorder`,\n",
    "    up.num_orders / NULLIF(users.days_bw_first_last_order,0) AS `orders_per_day`,\n",
    "    up.num_reorders / NULLIF(users.days_bw_first_last_order - up.first_order_day,0) AS `reorders_per_day`,\n",
    "    up.first_order_number, up.first_order_day, up.last_order_number, up.last_order_day, users.days_bw_first_last_order\n",
    "  FROM instacart.user_products AS up\n",
    "  INNER JOIN instacart.users AS users ON up.user_id = users.user_id\n",
    ")\n",
    "\n",
    "SELECT up.*, \n",
    "  orders.order_id, orders.eval_set, orders.order_hour_of_day, orders.order_dow,\n",
    "  CASE WHEN orders.eval_set = \"test\" THEN NULL ELSE LEAST(COALESCE(op_train.order_id,0),1) END AS `is_ordered`,\n",
    "  up.days_bw_first_last_order - up.last_order_day + orders.days_since_prior_order AS `days_since_last_order`,\n",
    "  orders.order_number - up.last_order_number + 1 AS `orders_since_last_order`\n",
    "FROM up_features AS up\n",
    "INNER JOIN instacart.orders AS orders ON orders.user_id = up.user_id AND orders.eval_set IN ('train','test')\n",
    "LEFT JOIN instacart.order_products__train AS op_train ON orders.order_id = op_train.order_id AND up.product_id = op_train.product_id"
   ]
  },
  {
   "cell_type": "code",
   "execution_count": 50,
   "metadata": {
    "collapsed": false
   },
   "outputs": [
    {
     "data": {
      "text/html": [
       "\n",
       "    <div class=\"bqtv\" id=\"13_149918322792\"><table><tr><th>user_id</th><th>product_id</th><th>perc_all_orders</th><th>perc_reorder</th><th>orders_per_day</th><th>reorders_per_day</th><th>first_order_number</th><th>first_order_day</th><th>last_order_number</th><th>last_order_day</th><th>days_bw_first_last_order</th><th>order_id</th><th>eval_set</th><th>order_hour_of_day</th><th>order_dow</th><th>is_ordered</th><th>days_since_last_order</th><th>orders_since_last_order</th></tr><tr><td>74660</td><td>2452</td><td>0.2</td><td>0.0</td><td>&nbsp;</td><td>&nbsp;</td><td>1</td><td>0.0</td><td>1</td><td>0.0</td><td>0.0</td><td>2011288</td><td>train</td><td>15</td><td>5</td><td>0</td><td>30.0</td><td>6</td></tr><tr><td>174627</td><td>30407</td><td>1.0</td><td>1.0</td><td>&nbsp;</td><td>&nbsp;</td><td>1</td><td>0.0</td><td>3</td><td>0.0</td><td>0.0</td><td>3083298</td><td>train</td><td>9</td><td>3</td><td>0</td><td>30.0</td><td>2</td></tr><tr><td>137150</td><td>43154</td><td>0.666666666667</td><td>0.5</td><td>&nbsp;</td><td>&nbsp;</td><td>1</td><td>0.0</td><td>2</td><td>0.0</td><td>0.0</td><td>1183995</td><td>test</td><td>7</td><td>4</td><td>&nbsp;</td><td>1.0</td><td>3</td></tr><tr><td>131603</td><td>3390</td><td>0.333333333333</td><td>0.0</td><td>&nbsp;</td><td>&nbsp;</td><td>1</td><td>0.0</td><td>1</td><td>0.0</td><td>0.0</td><td>1773727</td><td>test</td><td>14</td><td>1</td><td>&nbsp;</td><td>4.0</td><td>4</td></tr><tr><td>74660</td><td>43122</td><td>0.6</td><td>0.5</td><td>&nbsp;</td><td>&nbsp;</td><td>1</td><td>0.0</td><td>3</td><td>0.0</td><td>0.0</td><td>2011288</td><td>train</td><td>15</td><td>5</td><td>0</td><td>30.0</td><td>4</td></tr><tr><td>121915</td><td>19488</td><td>1.0</td><td>1.0</td><td>&nbsp;</td><td>&nbsp;</td><td>1</td><td>0.0</td><td>3</td><td>0.0</td><td>0.0</td><td>1686562</td><td>train</td><td>13</td><td>6</td><td>0</td><td>27.0</td><td>2</td></tr><tr><td>9515</td><td>39794</td><td>1.0</td><td>1.0</td><td>&nbsp;</td><td>&nbsp;</td><td>1</td><td>0.0</td><td>3</td><td>0.0</td><td>0.0</td><td>318189</td><td>test</td><td>12</td><td>1</td><td>&nbsp;</td><td>13.0</td><td>2</td></tr><tr><td>65616</td><td>1360</td><td>0.5</td><td>0.333333333333</td><td>2.0</td><td>1.0</td><td>1</td><td>0.0</td><td>2</td><td>0.0</td><td>1.0</td><td>2502378</td><td>test</td><td>15</td><td>1</td><td>&nbsp;</td><td>14.0</td><td>4</td></tr><tr><td>196888</td><td>37766</td><td>1.0</td><td>1.0</td><td>3.0</td><td>2.0</td><td>1</td><td>0.0</td><td>3</td><td>1.0</td><td>1.0</td><td>2905964</td><td>train</td><td>8</td><td>6</td><td>0</td><td>30.0</td><td>2</td></tr><tr><td>347</td><td>27325</td><td>1.0</td><td>1.0</td><td>3.0</td><td>2.0</td><td>1</td><td>0.0</td><td>3</td><td>1.0</td><td>1.0</td><td>2770483</td><td>test</td><td>14</td><td>3</td><td>&nbsp;</td><td>28.0</td><td>2</td></tr><tr><td>128483</td><td>27294</td><td>1.0</td><td>1.0</td><td>3.0</td><td>2.0</td><td>1</td><td>0.0</td><td>3</td><td>1.0</td><td>1.0</td><td>1209010</td><td>test</td><td>13</td><td>6</td><td>&nbsp;</td><td>0.0</td><td>2</td></tr><tr><td>347</td><td>21543</td><td>1.0</td><td>1.0</td><td>3.0</td><td>2.0</td><td>1</td><td>0.0</td><td>3</td><td>1.0</td><td>1.0</td><td>2770483</td><td>test</td><td>14</td><td>3</td><td>&nbsp;</td><td>28.0</td><td>2</td></tr><tr><td>65616</td><td>7912</td><td>1.0</td><td>1.0</td><td>4.0</td><td>3.0</td><td>1</td><td>0.0</td><td>4</td><td>1.0</td><td>1.0</td><td>2502378</td><td>test</td><td>15</td><td>1</td><td>&nbsp;</td><td>13.0</td><td>2</td></tr><tr><td>179733</td><td>27737</td><td>0.0625</td><td>0.0</td><td>0.00390625</td><td>0.0</td><td>1</td><td>0.0</td><td>1</td><td>0.0</td><td>256.0</td><td>476950</td><td>train</td><td>14</td><td>0</td><td>0</td><td>286.0</td><td>17</td></tr><tr><td>107679</td><td>16797</td><td>0.0909090909091</td><td>0.0</td><td>0.00390625</td><td>0.0</td><td>1</td><td>0.0</td><td>1</td><td>0.0</td><td>256.0</td><td>2833552</td><td>train</td><td>17</td><td>5</td><td>1</td><td>286.0</td><td>12</td></tr><tr><td>197469</td><td>32478</td><td>0.0666666666667</td><td>0.0</td><td>0.00390625</td><td>0.0</td><td>1</td><td>0.0</td><td>1</td><td>0.0</td><td>256.0</td><td>2699106</td><td>test</td><td>12</td><td>6</td><td>&nbsp;</td><td>286.0</td><td>16</td></tr><tr><td>84373</td><td>27115</td><td>0.1</td><td>0.0</td><td>0.00390625</td><td>0.0</td><td>1</td><td>0.0</td><td>1</td><td>0.0</td><td>256.0</td><td>1881437</td><td>train</td><td>15</td><td>2</td><td>0</td><td>273.0</td><td>11</td></tr><tr><td>41703</td><td>27683</td><td>0.0666666666667</td><td>0.0</td><td>0.00390625</td><td>0.0</td><td>1</td><td>0.0</td><td>1</td><td>0.0</td><td>256.0</td><td>3168792</td><td>train</td><td>15</td><td>0</td><td>0</td><td>260.0</td><td>16</td></tr><tr><td>144054</td><td>40914</td><td>0.0714285714286</td><td>0.0</td><td>0.00390625</td><td>0.0</td><td>1</td><td>0.0</td><td>1</td><td>0.0</td><td>256.0</td><td>1755873</td><td>train</td><td>9</td><td>3</td><td>0</td><td>286.0</td><td>15</td></tr><tr><td>107679</td><td>13920</td><td>0.0909090909091</td><td>0.0</td><td>0.00390625</td><td>0.0</td><td>1</td><td>0.0</td><td>1</td><td>0.0</td><td>256.0</td><td>2833552</td><td>train</td><td>17</td><td>5</td><td>0</td><td>286.0</td><td>12</td></tr><tr><td>71531</td><td>33815</td><td>0.0333333333333</td><td>0.0</td><td>0.00390625</td><td>0.0</td><td>1</td><td>0.0</td><td>1</td><td>0.0</td><td>256.0</td><td>329693</td><td>train</td><td>14</td><td>0</td><td>0</td><td>269.0</td><td>31</td></tr><tr><td>144054</td><td>16906</td><td>0.0714285714286</td><td>0.0</td><td>0.00390625</td><td>0.0</td><td>1</td><td>0.0</td><td>1</td><td>0.0</td><td>256.0</td><td>1755873</td><td>train</td><td>9</td><td>3</td><td>0</td><td>286.0</td><td>15</td></tr><tr><td>193366</td><td>3856</td><td>0.0909090909091</td><td>0.0</td><td>0.00390625</td><td>0.0</td><td>1</td><td>0.0</td><td>1</td><td>0.0</td><td>256.0</td><td>3177475</td><td>test</td><td>17</td><td>6</td><td>&nbsp;</td><td>283.0</td><td>12</td></tr><tr><td>179949</td><td>5250</td><td>0.0833333333333</td><td>0.0</td><td>0.00390625</td><td>0.0</td><td>1</td><td>0.0</td><td>1</td><td>0.0</td><td>256.0</td><td>2197535</td><td>test</td><td>7</td><td>5</td><td>&nbsp;</td><td>272.0</td><td>13</td></tr><tr><td>113526</td><td>46979</td><td>0.0526315789474</td><td>0.0</td><td>0.00390625</td><td>0.0</td><td>1</td><td>0.0</td><td>1</td><td>0.0</td><td>256.0</td><td>2500101</td><td>test</td><td>16</td><td>1</td><td>&nbsp;</td><td>268.0</td><td>20</td></tr></table></div>\n",
       "    <br />(rows: 13307953, time: 24.3s,     1GB processed, job: job_Gq2Eyyfa0LwHU1Y5Mj5cIVsOuY8)<br />\n",
       "    <script>\n",
       "\n",
       "      require.config({\n",
       "        paths: {\n",
       "          d3: '//cdnjs.cloudflare.com/ajax/libs/d3/3.4.13/d3',\n",
       "          plotly: 'https://cdn.plot.ly/plotly-1.5.1.min.js?noext',\n",
       "          jquery: '//ajax.googleapis.com/ajax/libs/jquery/2.0.0/jquery.min'\n",
       "        },\n",
       "        map: {\n",
       "          '*': {\n",
       "            datalab: 'nbextensions/gcpdatalab'\n",
       "          }\n",
       "        },\n",
       "        shim: {\n",
       "          plotly: {\n",
       "            deps: ['d3', 'jquery'],\n",
       "            exports: 'plotly'\n",
       "          }\n",
       "        }\n",
       "      });\n",
       "\n",
       "      require(['datalab/charting', 'datalab/element!13_149918322792', 'base/js/events',\n",
       "          'datalab/style!/nbextensions/gcpdatalab/charting.css'],\n",
       "        function(charts, dom, events) {\n",
       "          charts.render('gcharts', dom, events, 'paged_table', [], {\"rows\": [{\"c\": [{\"v\": 74660}, {\"v\": 2452}, {\"v\": 0.2}, {\"v\": 0.0}, {\"v\": null}, {\"v\": null}, {\"v\": 1}, {\"v\": 0.0}, {\"v\": 1}, {\"v\": 0.0}, {\"v\": 0.0}, {\"v\": 2011288}, {\"v\": \"train\"}, {\"v\": 15}, {\"v\": 5}, {\"v\": 0}, {\"v\": 30.0}, {\"v\": 6}]}, {\"c\": [{\"v\": 174627}, {\"v\": 30407}, {\"v\": 1.0}, {\"v\": 1.0}, {\"v\": null}, {\"v\": null}, {\"v\": 1}, {\"v\": 0.0}, {\"v\": 3}, {\"v\": 0.0}, {\"v\": 0.0}, {\"v\": 3083298}, {\"v\": \"train\"}, {\"v\": 9}, {\"v\": 3}, {\"v\": 0}, {\"v\": 30.0}, {\"v\": 2}]}, {\"c\": [{\"v\": 137150}, {\"v\": 43154}, {\"v\": 0.6666666666666666}, {\"v\": 0.5}, {\"v\": null}, {\"v\": null}, {\"v\": 1}, {\"v\": 0.0}, {\"v\": 2}, {\"v\": 0.0}, {\"v\": 0.0}, {\"v\": 1183995}, {\"v\": \"test\"}, {\"v\": 7}, {\"v\": 4}, {\"v\": null}, {\"v\": 1.0}, {\"v\": 3}]}, {\"c\": [{\"v\": 131603}, {\"v\": 3390}, {\"v\": 0.3333333333333333}, {\"v\": 0.0}, {\"v\": null}, {\"v\": null}, {\"v\": 1}, {\"v\": 0.0}, {\"v\": 1}, {\"v\": 0.0}, {\"v\": 0.0}, {\"v\": 1773727}, {\"v\": \"test\"}, {\"v\": 14}, {\"v\": 1}, {\"v\": null}, {\"v\": 4.0}, {\"v\": 4}]}, {\"c\": [{\"v\": 74660}, {\"v\": 43122}, {\"v\": 0.6}, {\"v\": 0.5}, {\"v\": null}, {\"v\": null}, {\"v\": 1}, {\"v\": 0.0}, {\"v\": 3}, {\"v\": 0.0}, {\"v\": 0.0}, {\"v\": 2011288}, {\"v\": \"train\"}, {\"v\": 15}, {\"v\": 5}, {\"v\": 0}, {\"v\": 30.0}, {\"v\": 4}]}, {\"c\": [{\"v\": 121915}, {\"v\": 19488}, {\"v\": 1.0}, {\"v\": 1.0}, {\"v\": null}, {\"v\": null}, {\"v\": 1}, {\"v\": 0.0}, {\"v\": 3}, {\"v\": 0.0}, {\"v\": 0.0}, {\"v\": 1686562}, {\"v\": \"train\"}, {\"v\": 13}, {\"v\": 6}, {\"v\": 0}, {\"v\": 27.0}, {\"v\": 2}]}, {\"c\": [{\"v\": 9515}, {\"v\": 39794}, {\"v\": 1.0}, {\"v\": 1.0}, {\"v\": null}, {\"v\": null}, {\"v\": 1}, {\"v\": 0.0}, {\"v\": 3}, {\"v\": 0.0}, {\"v\": 0.0}, {\"v\": 318189}, {\"v\": \"test\"}, {\"v\": 12}, {\"v\": 1}, {\"v\": null}, {\"v\": 13.0}, {\"v\": 2}]}, {\"c\": [{\"v\": 65616}, {\"v\": 1360}, {\"v\": 0.5}, {\"v\": 0.3333333333333333}, {\"v\": 2.0}, {\"v\": 1.0}, {\"v\": 1}, {\"v\": 0.0}, {\"v\": 2}, {\"v\": 0.0}, {\"v\": 1.0}, {\"v\": 2502378}, {\"v\": \"test\"}, {\"v\": 15}, {\"v\": 1}, {\"v\": null}, {\"v\": 14.0}, {\"v\": 4}]}, {\"c\": [{\"v\": 196888}, {\"v\": 37766}, {\"v\": 1.0}, {\"v\": 1.0}, {\"v\": 3.0}, {\"v\": 2.0}, {\"v\": 1}, {\"v\": 0.0}, {\"v\": 3}, {\"v\": 1.0}, {\"v\": 1.0}, {\"v\": 2905964}, {\"v\": \"train\"}, {\"v\": 8}, {\"v\": 6}, {\"v\": 0}, {\"v\": 30.0}, {\"v\": 2}]}, {\"c\": [{\"v\": 347}, {\"v\": 27325}, {\"v\": 1.0}, {\"v\": 1.0}, {\"v\": 3.0}, {\"v\": 2.0}, {\"v\": 1}, {\"v\": 0.0}, {\"v\": 3}, {\"v\": 1.0}, {\"v\": 1.0}, {\"v\": 2770483}, {\"v\": \"test\"}, {\"v\": 14}, {\"v\": 3}, {\"v\": null}, {\"v\": 28.0}, {\"v\": 2}]}, {\"c\": [{\"v\": 128483}, {\"v\": 27294}, {\"v\": 1.0}, {\"v\": 1.0}, {\"v\": 3.0}, {\"v\": 2.0}, {\"v\": 1}, {\"v\": 0.0}, {\"v\": 3}, {\"v\": 1.0}, {\"v\": 1.0}, {\"v\": 1209010}, {\"v\": \"test\"}, {\"v\": 13}, {\"v\": 6}, {\"v\": null}, {\"v\": 0.0}, {\"v\": 2}]}, {\"c\": [{\"v\": 347}, {\"v\": 21543}, {\"v\": 1.0}, {\"v\": 1.0}, {\"v\": 3.0}, {\"v\": 2.0}, {\"v\": 1}, {\"v\": 0.0}, {\"v\": 3}, {\"v\": 1.0}, {\"v\": 1.0}, {\"v\": 2770483}, {\"v\": \"test\"}, {\"v\": 14}, {\"v\": 3}, {\"v\": null}, {\"v\": 28.0}, {\"v\": 2}]}, {\"c\": [{\"v\": 65616}, {\"v\": 7912}, {\"v\": 1.0}, {\"v\": 1.0}, {\"v\": 4.0}, {\"v\": 3.0}, {\"v\": 1}, {\"v\": 0.0}, {\"v\": 4}, {\"v\": 1.0}, {\"v\": 1.0}, {\"v\": 2502378}, {\"v\": \"test\"}, {\"v\": 15}, {\"v\": 1}, {\"v\": null}, {\"v\": 13.0}, {\"v\": 2}]}, {\"c\": [{\"v\": 179733}, {\"v\": 27737}, {\"v\": 0.0625}, {\"v\": 0.0}, {\"v\": 0.00390625}, {\"v\": 0.0}, {\"v\": 1}, {\"v\": 0.0}, {\"v\": 1}, {\"v\": 0.0}, {\"v\": 256.0}, {\"v\": 476950}, {\"v\": \"train\"}, {\"v\": 14}, {\"v\": 0}, {\"v\": 0}, {\"v\": 286.0}, {\"v\": 17}]}, {\"c\": [{\"v\": 107679}, {\"v\": 16797}, {\"v\": 0.09090909090909091}, {\"v\": 0.0}, {\"v\": 0.00390625}, {\"v\": 0.0}, {\"v\": 1}, {\"v\": 0.0}, {\"v\": 1}, {\"v\": 0.0}, {\"v\": 256.0}, {\"v\": 2833552}, {\"v\": \"train\"}, {\"v\": 17}, {\"v\": 5}, {\"v\": 1}, {\"v\": 286.0}, {\"v\": 12}]}, {\"c\": [{\"v\": 197469}, {\"v\": 32478}, {\"v\": 0.06666666666666667}, {\"v\": 0.0}, {\"v\": 0.00390625}, {\"v\": 0.0}, {\"v\": 1}, {\"v\": 0.0}, {\"v\": 1}, {\"v\": 0.0}, {\"v\": 256.0}, {\"v\": 2699106}, {\"v\": \"test\"}, {\"v\": 12}, {\"v\": 6}, {\"v\": null}, {\"v\": 286.0}, {\"v\": 16}]}, {\"c\": [{\"v\": 84373}, {\"v\": 27115}, {\"v\": 0.1}, {\"v\": 0.0}, {\"v\": 0.00390625}, {\"v\": 0.0}, {\"v\": 1}, {\"v\": 0.0}, {\"v\": 1}, {\"v\": 0.0}, {\"v\": 256.0}, {\"v\": 1881437}, {\"v\": \"train\"}, {\"v\": 15}, {\"v\": 2}, {\"v\": 0}, {\"v\": 273.0}, {\"v\": 11}]}, {\"c\": [{\"v\": 41703}, {\"v\": 27683}, {\"v\": 0.06666666666666667}, {\"v\": 0.0}, {\"v\": 0.00390625}, {\"v\": 0.0}, {\"v\": 1}, {\"v\": 0.0}, {\"v\": 1}, {\"v\": 0.0}, {\"v\": 256.0}, {\"v\": 3168792}, {\"v\": \"train\"}, {\"v\": 15}, {\"v\": 0}, {\"v\": 0}, {\"v\": 260.0}, {\"v\": 16}]}, {\"c\": [{\"v\": 144054}, {\"v\": 40914}, {\"v\": 0.07142857142857142}, {\"v\": 0.0}, {\"v\": 0.00390625}, {\"v\": 0.0}, {\"v\": 1}, {\"v\": 0.0}, {\"v\": 1}, {\"v\": 0.0}, {\"v\": 256.0}, {\"v\": 1755873}, {\"v\": \"train\"}, {\"v\": 9}, {\"v\": 3}, {\"v\": 0}, {\"v\": 286.0}, {\"v\": 15}]}, {\"c\": [{\"v\": 107679}, {\"v\": 13920}, {\"v\": 0.09090909090909091}, {\"v\": 0.0}, {\"v\": 0.00390625}, {\"v\": 0.0}, {\"v\": 1}, {\"v\": 0.0}, {\"v\": 1}, {\"v\": 0.0}, {\"v\": 256.0}, {\"v\": 2833552}, {\"v\": \"train\"}, {\"v\": 17}, {\"v\": 5}, {\"v\": 0}, {\"v\": 286.0}, {\"v\": 12}]}, {\"c\": [{\"v\": 71531}, {\"v\": 33815}, {\"v\": 0.03333333333333333}, {\"v\": 0.0}, {\"v\": 0.00390625}, {\"v\": 0.0}, {\"v\": 1}, {\"v\": 0.0}, {\"v\": 1}, {\"v\": 0.0}, {\"v\": 256.0}, {\"v\": 329693}, {\"v\": \"train\"}, {\"v\": 14}, {\"v\": 0}, {\"v\": 0}, {\"v\": 269.0}, {\"v\": 31}]}, {\"c\": [{\"v\": 144054}, {\"v\": 16906}, {\"v\": 0.07142857142857142}, {\"v\": 0.0}, {\"v\": 0.00390625}, {\"v\": 0.0}, {\"v\": 1}, {\"v\": 0.0}, {\"v\": 1}, {\"v\": 0.0}, {\"v\": 256.0}, {\"v\": 1755873}, {\"v\": \"train\"}, {\"v\": 9}, {\"v\": 3}, {\"v\": 0}, {\"v\": 286.0}, {\"v\": 15}]}, {\"c\": [{\"v\": 193366}, {\"v\": 3856}, {\"v\": 0.09090909090909091}, {\"v\": 0.0}, {\"v\": 0.00390625}, {\"v\": 0.0}, {\"v\": 1}, {\"v\": 0.0}, {\"v\": 1}, {\"v\": 0.0}, {\"v\": 256.0}, {\"v\": 3177475}, {\"v\": \"test\"}, {\"v\": 17}, {\"v\": 6}, {\"v\": null}, {\"v\": 283.0}, {\"v\": 12}]}, {\"c\": [{\"v\": 179949}, {\"v\": 5250}, {\"v\": 0.08333333333333333}, {\"v\": 0.0}, {\"v\": 0.00390625}, {\"v\": 0.0}, {\"v\": 1}, {\"v\": 0.0}, {\"v\": 1}, {\"v\": 0.0}, {\"v\": 256.0}, {\"v\": 2197535}, {\"v\": \"test\"}, {\"v\": 7}, {\"v\": 5}, {\"v\": null}, {\"v\": 272.0}, {\"v\": 13}]}, {\"c\": [{\"v\": 113526}, {\"v\": 46979}, {\"v\": 0.05263157894736842}, {\"v\": 0.0}, {\"v\": 0.00390625}, {\"v\": 0.0}, {\"v\": 1}, {\"v\": 0.0}, {\"v\": 1}, {\"v\": 0.0}, {\"v\": 256.0}, {\"v\": 2500101}, {\"v\": \"test\"}, {\"v\": 16}, {\"v\": 1}, {\"v\": null}, {\"v\": 268.0}, {\"v\": 20}]}], \"cols\": [{\"type\": \"number\", \"id\": \"user_id\", \"label\": \"user_id\"}, {\"type\": \"number\", \"id\": \"product_id\", \"label\": \"product_id\"}, {\"type\": \"number\", \"id\": \"perc_all_orders\", \"label\": \"perc_all_orders\"}, {\"type\": \"number\", \"id\": \"perc_reorder\", \"label\": \"perc_reorder\"}, {\"type\": \"number\", \"id\": \"orders_per_day\", \"label\": \"orders_per_day\"}, {\"type\": \"number\", \"id\": \"reorders_per_day\", \"label\": \"reorders_per_day\"}, {\"type\": \"number\", \"id\": \"first_order_number\", \"label\": \"first_order_number\"}, {\"type\": \"number\", \"id\": \"first_order_day\", \"label\": \"first_order_day\"}, {\"type\": \"number\", \"id\": \"last_order_number\", \"label\": \"last_order_number\"}, {\"type\": \"number\", \"id\": \"last_order_day\", \"label\": \"last_order_day\"}, {\"type\": \"number\", \"id\": \"days_bw_first_last_order\", \"label\": \"days_bw_first_last_order\"}, {\"type\": \"number\", \"id\": \"order_id\", \"label\": \"order_id\"}, {\"type\": \"string\", \"id\": \"eval_set\", \"label\": \"eval_set\"}, {\"type\": \"number\", \"id\": \"order_hour_of_day\", \"label\": \"order_hour_of_day\"}, {\"type\": \"number\", \"id\": \"order_dow\", \"label\": \"order_dow\"}, {\"type\": \"number\", \"id\": \"is_ordered\", \"label\": \"is_ordered\"}, {\"type\": \"number\", \"id\": \"days_since_last_order\", \"label\": \"days_since_last_order\"}, {\"type\": \"number\", \"id\": \"orders_since_last_order\", \"label\": \"orders_since_last_order\"}]},\n",
       "            {\n",
       "              pageSize: 25,\n",
       "              cssClassNames:  {\n",
       "                tableRow: 'gchart-table-row',\n",
       "                headerRow: 'gchart-table-headerrow',\n",
       "                oddTableRow: 'gchart-table-oddrow',\n",
       "                selectedTableRow: 'gchart-table-selectedrow',\n",
       "                hoverTableRow: 'gchart-table-hoverrow',\n",
       "                tableCell: 'gchart-table-cell',\n",
       "                headerCell: 'gchart-table-headercell',\n",
       "                rowNumberCell: 'gchart-table-rownumcell'\n",
       "              }\n",
       "            },\n",
       "            {source_index: 2, fields: 'user_id,product_id,perc_all_orders,perc_reorder,orders_per_day,reorders_per_day,first_order_number,first_order_day,last_order_number,last_order_day,days_bw_first_last_order,order_id,eval_set,order_hour_of_day,order_dow,is_ordered,days_since_last_order,orders_since_last_order'},\n",
       "            0,\n",
       "            13307953);\n",
       "        }\n",
       "      );\n",
       "    </script>\n",
       "  "
      ],
      "text/plain": [
       "QueryResultsTable job_Gq2Eyyfa0LwHU1Y5Mj5cIVsOuY8"
      ]
     },
     "execution_count": 50,
     "metadata": {},
     "output_type": "execute_result"
    }
   ],
   "source": [
    "%%bq execute -q user_products_features_q -t instacart.user_products_features  -m overwrite"
   ]
  },
  {
   "cell_type": "markdown",
   "metadata": {},
   "source": [
    "## User Features\n",
    "\n",
    "Some additional user-level features that we'll join in later"
   ]
  },
  {
   "cell_type": "code",
   "execution_count": 51,
   "metadata": {
    "collapsed": true
   },
   "outputs": [],
   "source": [
    "%%bq query -n user_features_q\n",
    "SELECT users.user_id,\n",
    "  ANY_VALUE(users.num_orders) AS num_orders, \n",
    "  ANY_VALUE(users.days_bw_first_last_order) / ANY_VALUE(users.num_orders) AS avg_days_bw_orders,\n",
    "  COUNT(DISTINCT up.product_id) AS num_products,\n",
    "  COUNT(DISTINCT products.aisle_id) AS num_aisles,\n",
    "  COUNT(DISTINCT products.department_id) AS num_departments\n",
    "FROM instacart.users AS users\n",
    "INNER JOIN instacart.user_products AS up ON users.user_id = up.user_id\n",
    "INNER JOIN instacart.products AS products ON up.product_id = products.product_id\n",
    "GROUP BY 1"
   ]
  },
  {
   "cell_type": "code",
   "execution_count": 52,
   "metadata": {
    "collapsed": false
   },
   "outputs": [
    {
     "data": {
      "text/html": [
       "\n",
       "    <div class=\"bqtv\" id=\"14_149918325699\"><table><tr><th>user_id</th><th>num_orders</th><th>avg_days_bw_orders</th><th>num_products</th><th>num_aisles</th><th>num_departments</th></tr><tr><td>62180</td><td>3</td><td>0.0</td><td>2</td><td>1</td><td>1</td></tr><tr><td>164320</td><td>3</td><td>0.0</td><td>2</td><td>2</td><td>1</td></tr><tr><td>109010</td><td>3</td><td>0.0</td><td>1</td><td>1</td><td>1</td></tr><tr><td>99295</td><td>3</td><td>0.0</td><td>1</td><td>1</td><td>1</td></tr><tr><td>15495</td><td>3</td><td>0.0</td><td>1</td><td>1</td><td>1</td></tr><tr><td>181478</td><td>3</td><td>0.0</td><td>3</td><td>2</td><td>1</td></tr><tr><td>49581</td><td>3</td><td>2.0</td><td>1</td><td>1</td><td>1</td></tr><tr><td>172259</td><td>5</td><td>2.0</td><td>7</td><td>2</td><td>1</td></tr><tr><td>202329</td><td>3</td><td>2.0</td><td>4</td><td>3</td><td>1</td></tr><tr><td>113387</td><td>3</td><td>2.0</td><td>3</td><td>2</td><td>1</td></tr><tr><td>97779</td><td>14</td><td>2.0</td><td>1</td><td>1</td><td>1</td></tr><tr><td>50492</td><td>4</td><td>2.0</td><td>2</td><td>2</td><td>1</td></tr><tr><td>119293</td><td>4</td><td>2.25</td><td>7</td><td>4</td><td>1</td></tr><tr><td>167624</td><td>4</td><td>2.25</td><td>2</td><td>1</td><td>1</td></tr><tr><td>148573</td><td>22</td><td>2.5</td><td>1</td><td>1</td><td>1</td></tr><tr><td>70227</td><td>8</td><td>2.625</td><td>10</td><td>3</td><td>1</td></tr><tr><td>199604</td><td>8</td><td>2.75</td><td>1</td><td>1</td><td>1</td></tr><tr><td>25740</td><td>4</td><td>2.75</td><td>1</td><td>1</td><td>1</td></tr><tr><td>114577</td><td>4</td><td>3.0</td><td>7</td><td>2</td><td>1</td></tr><tr><td>78411</td><td>7</td><td>3.0</td><td>2</td><td>2</td><td>1</td></tr><tr><td>5120</td><td>4</td><td>3.25</td><td>6</td><td>1</td><td>1</td></tr><tr><td>165071</td><td>4</td><td>3.5</td><td>3</td><td>1</td><td>1</td></tr><tr><td>78397</td><td>4</td><td>3.5</td><td>1</td><td>1</td><td>1</td></tr><tr><td>113793</td><td>8</td><td>3.875</td><td>6</td><td>2</td><td>1</td></tr><tr><td>29744</td><td>3</td><td>4.0</td><td>2</td><td>1</td><td>1</td></tr></table></div>\n",
       "    <br />(rows: 206209, time: 27.4s,   219MB processed, job: job_-ZCsdGE2ryzvZB2wsbMDVRY6VL0)<br />\n",
       "    <script>\n",
       "\n",
       "      require.config({\n",
       "        paths: {\n",
       "          d3: '//cdnjs.cloudflare.com/ajax/libs/d3/3.4.13/d3',\n",
       "          plotly: 'https://cdn.plot.ly/plotly-1.5.1.min.js?noext',\n",
       "          jquery: '//ajax.googleapis.com/ajax/libs/jquery/2.0.0/jquery.min'\n",
       "        },\n",
       "        map: {\n",
       "          '*': {\n",
       "            datalab: 'nbextensions/gcpdatalab'\n",
       "          }\n",
       "        },\n",
       "        shim: {\n",
       "          plotly: {\n",
       "            deps: ['d3', 'jquery'],\n",
       "            exports: 'plotly'\n",
       "          }\n",
       "        }\n",
       "      });\n",
       "\n",
       "      require(['datalab/charting', 'datalab/element!14_149918325699', 'base/js/events',\n",
       "          'datalab/style!/nbextensions/gcpdatalab/charting.css'],\n",
       "        function(charts, dom, events) {\n",
       "          charts.render('gcharts', dom, events, 'paged_table', [], {\"rows\": [{\"c\": [{\"v\": 62180}, {\"v\": 3}, {\"v\": 0.0}, {\"v\": 2}, {\"v\": 1}, {\"v\": 1}]}, {\"c\": [{\"v\": 164320}, {\"v\": 3}, {\"v\": 0.0}, {\"v\": 2}, {\"v\": 2}, {\"v\": 1}]}, {\"c\": [{\"v\": 109010}, {\"v\": 3}, {\"v\": 0.0}, {\"v\": 1}, {\"v\": 1}, {\"v\": 1}]}, {\"c\": [{\"v\": 99295}, {\"v\": 3}, {\"v\": 0.0}, {\"v\": 1}, {\"v\": 1}, {\"v\": 1}]}, {\"c\": [{\"v\": 15495}, {\"v\": 3}, {\"v\": 0.0}, {\"v\": 1}, {\"v\": 1}, {\"v\": 1}]}, {\"c\": [{\"v\": 181478}, {\"v\": 3}, {\"v\": 0.0}, {\"v\": 3}, {\"v\": 2}, {\"v\": 1}]}, {\"c\": [{\"v\": 49581}, {\"v\": 3}, {\"v\": 2.0}, {\"v\": 1}, {\"v\": 1}, {\"v\": 1}]}, {\"c\": [{\"v\": 172259}, {\"v\": 5}, {\"v\": 2.0}, {\"v\": 7}, {\"v\": 2}, {\"v\": 1}]}, {\"c\": [{\"v\": 202329}, {\"v\": 3}, {\"v\": 2.0}, {\"v\": 4}, {\"v\": 3}, {\"v\": 1}]}, {\"c\": [{\"v\": 113387}, {\"v\": 3}, {\"v\": 2.0}, {\"v\": 3}, {\"v\": 2}, {\"v\": 1}]}, {\"c\": [{\"v\": 97779}, {\"v\": 14}, {\"v\": 2.0}, {\"v\": 1}, {\"v\": 1}, {\"v\": 1}]}, {\"c\": [{\"v\": 50492}, {\"v\": 4}, {\"v\": 2.0}, {\"v\": 2}, {\"v\": 2}, {\"v\": 1}]}, {\"c\": [{\"v\": 119293}, {\"v\": 4}, {\"v\": 2.25}, {\"v\": 7}, {\"v\": 4}, {\"v\": 1}]}, {\"c\": [{\"v\": 167624}, {\"v\": 4}, {\"v\": 2.25}, {\"v\": 2}, {\"v\": 1}, {\"v\": 1}]}, {\"c\": [{\"v\": 148573}, {\"v\": 22}, {\"v\": 2.5}, {\"v\": 1}, {\"v\": 1}, {\"v\": 1}]}, {\"c\": [{\"v\": 70227}, {\"v\": 8}, {\"v\": 2.625}, {\"v\": 10}, {\"v\": 3}, {\"v\": 1}]}, {\"c\": [{\"v\": 199604}, {\"v\": 8}, {\"v\": 2.75}, {\"v\": 1}, {\"v\": 1}, {\"v\": 1}]}, {\"c\": [{\"v\": 25740}, {\"v\": 4}, {\"v\": 2.75}, {\"v\": 1}, {\"v\": 1}, {\"v\": 1}]}, {\"c\": [{\"v\": 114577}, {\"v\": 4}, {\"v\": 3.0}, {\"v\": 7}, {\"v\": 2}, {\"v\": 1}]}, {\"c\": [{\"v\": 78411}, {\"v\": 7}, {\"v\": 3.0}, {\"v\": 2}, {\"v\": 2}, {\"v\": 1}]}, {\"c\": [{\"v\": 5120}, {\"v\": 4}, {\"v\": 3.25}, {\"v\": 6}, {\"v\": 1}, {\"v\": 1}]}, {\"c\": [{\"v\": 165071}, {\"v\": 4}, {\"v\": 3.5}, {\"v\": 3}, {\"v\": 1}, {\"v\": 1}]}, {\"c\": [{\"v\": 78397}, {\"v\": 4}, {\"v\": 3.5}, {\"v\": 1}, {\"v\": 1}, {\"v\": 1}]}, {\"c\": [{\"v\": 113793}, {\"v\": 8}, {\"v\": 3.875}, {\"v\": 6}, {\"v\": 2}, {\"v\": 1}]}, {\"c\": [{\"v\": 29744}, {\"v\": 3}, {\"v\": 4.0}, {\"v\": 2}, {\"v\": 1}, {\"v\": 1}]}], \"cols\": [{\"type\": \"number\", \"id\": \"user_id\", \"label\": \"user_id\"}, {\"type\": \"number\", \"id\": \"num_orders\", \"label\": \"num_orders\"}, {\"type\": \"number\", \"id\": \"avg_days_bw_orders\", \"label\": \"avg_days_bw_orders\"}, {\"type\": \"number\", \"id\": \"num_products\", \"label\": \"num_products\"}, {\"type\": \"number\", \"id\": \"num_aisles\", \"label\": \"num_aisles\"}, {\"type\": \"number\", \"id\": \"num_departments\", \"label\": \"num_departments\"}]},\n",
       "            {\n",
       "              pageSize: 25,\n",
       "              cssClassNames:  {\n",
       "                tableRow: 'gchart-table-row',\n",
       "                headerRow: 'gchart-table-headerrow',\n",
       "                oddTableRow: 'gchart-table-oddrow',\n",
       "                selectedTableRow: 'gchart-table-selectedrow',\n",
       "                hoverTableRow: 'gchart-table-hoverrow',\n",
       "                tableCell: 'gchart-table-cell',\n",
       "                headerCell: 'gchart-table-headercell',\n",
       "                rowNumberCell: 'gchart-table-rownumcell'\n",
       "              }\n",
       "            },\n",
       "            {source_index: 3, fields: 'user_id,num_orders,avg_days_bw_orders,num_products,num_aisles,num_departments'},\n",
       "            0,\n",
       "            206209);\n",
       "        }\n",
       "      );\n",
       "    </script>\n",
       "  "
      ],
      "text/plain": [
       "QueryResultsTable job_-ZCsdGE2ryzvZB2wsbMDVRY6VL0"
      ]
     },
     "execution_count": 52,
     "metadata": {},
     "output_type": "execute_result"
    }
   ],
   "source": [
    "%%bq execute -q user_features_q -t instacart.user_features  -m overwrite"
   ]
  },
  {
   "cell_type": "markdown",
   "metadata": {},
   "source": [
    "## Product Features\n",
    "\n",
    "Some additional product-level features that we'll join in later"
   ]
  },
  {
   "cell_type": "code",
   "execution_count": 57,
   "metadata": {
    "collapsed": true
   },
   "outputs": [],
   "source": [
    "%%bq query -n product_features_q\n",
    "WITH up_features AS (\n",
    "  SELECT up.user_id, up.product_id,\n",
    "    up.num_orders, users.num_orders AS `num_orders_user`,\n",
    "    up.num_reorders, users.num_orders - up.first_order_number AS `num_reorders_user`,\n",
    "    users.days_bw_first_last_order AS `order_days`, users.days_bw_first_last_order - up.first_order_day AS `reorder_days`,\n",
    "    up.first_order_number, up.first_order_day\n",
    "  FROM instacart.user_products AS up\n",
    "  INNER JOIN instacart.users AS users ON up.user_id = users.user_id\n",
    ")\n",
    "\n",
    "SELECT up.product_id, products.aisle_id, products.department_id,\n",
    "  COUNT(DISTINCT user_id) / ANY_VALUE(num_users_total) AS `perc_users`,\n",
    "  SUM(num_orders) / SUM(num_orders_user) AS `perc_all_orders`,\n",
    "  SUM(num_reorders) / NULLIF(SUM(num_reorders_user),0) AS `perc_reorders`,\n",
    "  SUM(num_orders) / NULLIF(SUM(order_days),0) AS `orders_per_day`,\n",
    "  SUM(num_reorders) / NULLIF(SUM(reorder_days),0) AS `reorders_per_day`,\n",
    "  AVG(first_order_number) AS `avg_first_order_number`,\n",
    "  AVG(first_order_day) AS `avg_first_order_day`\n",
    "FROM up_features AS up\n",
    "INNER JOIN instacart.products AS products ON up.product_id = products.product_id\n",
    "INNER JOIN (\n",
    "  SELECT COUNT(DISTINCT user_id) AS num_users_total\n",
    "  FROM instacart.user_products\n",
    ") AS x ON 1=1\n",
    "GROUP BY 1,2,3"
   ]
  },
  {
   "cell_type": "code",
   "execution_count": 58,
   "metadata": {
    "collapsed": false
   },
   "outputs": [
    {
     "data": {
      "text/html": [
       "\n",
       "    <div class=\"bqtv\" id=\"16_149918340496\"><table><tr><th>product_id</th><th>aisle_id</th><th>department_id</th><th>perc_users</th><th>perc_all_orders</th><th>perc_reorders</th><th>orders_per_day</th><th>reorders_per_day</th><th>avg_first_order_number</th><th>avg_first_order_day</th></tr><tr><td>22853</td><td>1</td><td>20</td><td>0.000305515278189</td><td>0.0979653353429</td><td>0.09396914446</td><td>0.0103784129012</td><td>0.0091367789445</td><td>9.74603174603</td><td>82.4285714286</td></tr><tr><td>19101</td><td>1</td><td>20</td><td>0.0013626951297</td><td>0.0690438034188</td><td>0.0668176670442</td><td>0.0083604197998</td><td>0.0081005011327</td><td>14.0782918149</td><td>116.387900356</td></tr><tr><td>38694</td><td>1</td><td>20</td><td>0.00178459718053</td><td>0.13159646287</td><td>0.16868670098</td><td>0.0169280070452</td><td>0.0218386604475</td><td>12.2119565217</td><td>95.7472826087</td></tr><tr><td>10654</td><td>1</td><td>20</td><td>0.000387955908811</td><td>0.0764840182648</td><td>0.0584415584416</td><td>0.00778752833149</td><td>0.00606809753905</td><td>10.35</td><td>103.85</td></tr><tr><td>26870</td><td>1</td><td>20</td><td>0.000737116226741</td><td>0.0843142622502</td><td>0.0727951469902</td><td>0.00987559317686</td><td>0.00816925010473</td><td>9.93421052632</td><td>79.5526315789</td></tr><tr><td>8121</td><td>1</td><td>20</td><td>0.00070317008472</td><td>0.0611981962637</td><td>0.038503850385</td><td>0.00803631852019</td><td>0.00499696612771</td><td>7.04137931034</td><td>51.3586206897</td></tr><tr><td>43221</td><td>1</td><td>20</td><td>0.00332672191805</td><td>0.116397910516</td><td>0.128388554217</td><td>0.0137864247429</td><td>0.014635193133</td><td>10.1865889213</td><td>80.8994169096</td></tr><tr><td>16178</td><td>1</td><td>20</td><td>0.000635277800678</td><td>0.0664581704457</td><td>0.044992743106</td><td>0.00822182814767</td><td>0.00557303370787</td><td>8.25190839695</td><td>66.9083969466</td></tr><tr><td>47979</td><td>1</td><td>20</td><td>0.000223074647566</td><td>0.106893106893</td><td>0.104810996564</td><td>0.0114646951677</td><td>0.0111517367459</td><td>9.10869565217</td><td>83.9782608696</td></tr><tr><td>6778</td><td>1</td><td>20</td><td>0.000940793078867</td><td>0.0503076366269</td><td>0.0268370607029</td><td>0.00641528591868</td><td>0.00342075256556</td><td>12.3505154639</td><td>96.793814433</td></tr><tr><td>33016</td><td>1</td><td>20</td><td>0.00110567434011</td><td>0.0964584445631</td><td>0.094492928077</td><td>0.0118672271851</td><td>0.0113312403017</td><td>10.0701754386</td><td>78.7763157895</td></tr><tr><td>25965</td><td>1</td><td>20</td><td>0.00321518459427</td><td>0.127115920291</td><td>0.148540653231</td><td>0.015843871433</td><td>0.0182357206842</td><td>10.7933634992</td><td>84.467571644</td></tr><tr><td>1600</td><td>1</td><td>20</td><td>0.000378257011091</td><td>0.0887342322749</td><td>0.0981308411215</td><td>0.0110115513333</td><td>0.0118823085628</td><td>13.0128205128</td><td>101.564102564</td></tr><tr><td>13603</td><td>1</td><td>20</td><td>0.00180884442483</td><td>0.110287106685</td><td>0.122523844461</td><td>0.0131101707723</td><td>0.0140401025684</td><td>10.6890080429</td><td>85.3243967828</td></tr><tr><td>41116</td><td>1</td><td>20</td><td>0.00070317008472</td><td>0.114649681529</td><td>0.134097706879</td><td>0.0139412715517</td><td>0.0153679159049</td><td>11.0689655172</td><td>84.0827586207</td></tr><tr><td>21384</td><td>1</td><td>20</td><td>0.00105233040265</td><td>0.123502126015</td><td>0.125074096028</td><td>0.014794748906</td><td>0.0140694805628</td><td>8.29493087558</td><td>60.8156682028</td></tr><tr><td>48474</td><td>1</td><td>20</td><td>0.000257020789587</td><td>0.0770533446232</td><td>0.0524861878453</td><td>0.00868983957219</td><td>0.00606157281863</td><td>8.62264150943</td><td>79.3018867925</td></tr><tr><td>33399</td><td>1</td><td>20</td><td>0.00121236221503</td><td>0.0706787963611</td><td>0.0648689900789</td><td>0.00854455009983</td><td>0.00768906042697</td><td>12.856</td><td>103.752</td></tr><tr><td>22281</td><td>1</td><td>20</td><td>0.0109500555262</td><td>0.0683343104684</td><td>0.0600092893637</td><td>0.00836089746144</td><td>0.00723244974045</td><td>12.8914968999</td><td>103.58768822</td></tr><tr><td>47329</td><td>1</td><td>20</td><td>0.00198827403266</td><td>0.155534551565</td><td>0.175573770492</td><td>0.0184325488195</td><td>0.02052235231</td><td>8.34634146341</td><td>68.6829268293</td></tr><tr><td>5351</td><td>1</td><td>20</td><td>0.000819556857363</td><td>0.158227848101</td><td>0.176499752107</td><td>0.014601585315</td><td>0.0154206012302</td><td>7.69822485207</td><td>76.1479289941</td></tr><tr><td>40788</td><td>1</td><td>20</td><td>0.000664374493839</td><td>0.0861734552508</td><td>0.0921122286924</td><td>0.0103645937479</td><td>0.0113666056964</td><td>12.5547445255</td><td>107.284671533</td></tr><tr><td>15767</td><td>1</td><td>20</td><td>0.00232288600401</td><td>0.0964134515536</td><td>0.0927979604844</td><td>0.0116006381793</td><td>0.0108272108034</td><td>9.75782881002</td><td>76.8434237996</td></tr><tr><td>28008</td><td>1</td><td>20</td><td>0.00186218836229</td><td>0.104032953348</td><td>0.111943868601</td><td>0.0128781320779</td><td>0.0132009477604</td><td>10.8541666667</td><td>81.1223958333</td></tr><tr><td>49445</td><td>1</td><td>20</td><td>0.000615880005237</td><td>0.0685944855414</td><td>0.0635838150289</td><td>0.00837197849551</td><td>0.00725525299161</td><td>13.8818897638</td><td>108.299212598</td></tr></table></div>\n",
       "    <br />(rows: 49677, time: 25.2s,   644MB processed, job: job_eDed6knbxsErAONzgz_Z5NLppKg)<br />\n",
       "    <script>\n",
       "\n",
       "      require.config({\n",
       "        paths: {\n",
       "          d3: '//cdnjs.cloudflare.com/ajax/libs/d3/3.4.13/d3',\n",
       "          plotly: 'https://cdn.plot.ly/plotly-1.5.1.min.js?noext',\n",
       "          jquery: '//ajax.googleapis.com/ajax/libs/jquery/2.0.0/jquery.min'\n",
       "        },\n",
       "        map: {\n",
       "          '*': {\n",
       "            datalab: 'nbextensions/gcpdatalab'\n",
       "          }\n",
       "        },\n",
       "        shim: {\n",
       "          plotly: {\n",
       "            deps: ['d3', 'jquery'],\n",
       "            exports: 'plotly'\n",
       "          }\n",
       "        }\n",
       "      });\n",
       "\n",
       "      require(['datalab/charting', 'datalab/element!16_149918340496', 'base/js/events',\n",
       "          'datalab/style!/nbextensions/gcpdatalab/charting.css'],\n",
       "        function(charts, dom, events) {\n",
       "          charts.render('gcharts', dom, events, 'paged_table', [], {\"rows\": [{\"c\": [{\"v\": 22853}, {\"v\": 1}, {\"v\": 20}, {\"v\": 0.0003055152781886339}, {\"v\": 0.09796533534287867}, {\"v\": 0.09396914446002805}, {\"v\": 0.010378412901165576}, {\"v\": 0.009136778944497477}, {\"v\": 9.746031746031745}, {\"v\": 82.42857142857143}]}, {\"c\": [{\"v\": 19101}, {\"v\": 1}, {\"v\": 20}, {\"v\": 0.0013626951296985097}, {\"v\": 0.06904380341880342}, {\"v\": 0.06681766704416761}, {\"v\": 0.008360419799802713}, {\"v\": 0.008100501132697193}, {\"v\": 14.078291814946617}, {\"v\": 116.38790035587189}]}, {\"c\": [{\"v\": 38694}, {\"v\": 1}, {\"v\": 20}, {\"v\": 0.0017845971805304328}, {\"v\": 0.13159646286963964}, {\"v\": 0.16868670097957827}, {\"v\": 0.016928007045182124}, {\"v\": 0.021838660447520582}, {\"v\": 12.211956521739134}, {\"v\": 95.74728260869567}]}, {\"c\": [{\"v\": 10654}, {\"v\": 1}, {\"v\": 20}, {\"v\": 0.00038795590881096365}, {\"v\": 0.07648401826484018}, {\"v\": 0.05844155844155844}, {\"v\": 0.007787528331492997}, {\"v\": 0.006068097539049332}, {\"v\": 10.350000000000001}, {\"v\": 103.85000000000001}]}, {\"c\": [{\"v\": 26870}, {\"v\": 1}, {\"v\": 20}, {\"v\": 0.0007371162267408309}, {\"v\": 0.08431426225020532}, {\"v\": 0.07279514699020065}, {\"v\": 0.009875593176862896}, {\"v\": 0.008169250104733976}, {\"v\": 9.934210526315788}, {\"v\": 79.55263157894736}]}, {\"c\": [{\"v\": 8121}, {\"v\": 1}, {\"v\": 20}, {\"v\": 0.0007031700847198716}, {\"v\": 0.06119819626368907}, {\"v\": 0.03850385038503851}, {\"v\": 0.008036318520189488}, {\"v\": 0.004996966127708177}, {\"v\": 7.041379310344827}, {\"v\": 51.35862068965517}]}, {\"c\": [{\"v\": 43221}, {\"v\": 1}, {\"v\": 20}, {\"v\": 0.003326721918054013}, {\"v\": 0.11639791051555758}, {\"v\": 0.12838855421686746}, {\"v\": 0.013786424742933616}, {\"v\": 0.01463519313304721}, {\"v\": 10.186588921282798}, {\"v\": 80.899416909621}]}, {\"c\": [{\"v\": 16178}, {\"v\": 1}, {\"v\": 20}, {\"v\": 0.0006352778006779529}, {\"v\": 0.06645817044566067}, {\"v\": 0.04499274310595065}, {\"v\": 0.008221828147670482}, {\"v\": 0.005573033707865168}, {\"v\": 8.251908396946565}, {\"v\": 66.90839694656486}]}, {\"c\": [{\"v\": 47979}, {\"v\": 1}, {\"v\": 20}, {\"v\": 0.0002230746475663041}, {\"v\": 0.1068931068931069}, {\"v\": 0.10481099656357389}, {\"v\": 0.01146469516768456}, {\"v\": 0.011151736745886655}, {\"v\": 9.108695652173914}, {\"v\": 83.9782608695652}]}, {\"c\": [{\"v\": 6778}, {\"v\": 1}, {\"v\": 20}, {\"v\": 0.0009407930788665869}, {\"v\": 0.05030763662685487}, {\"v\": 0.0268370607028754}, {\"v\": 0.006415285918678174}, {\"v\": 0.0034207525655644243}, {\"v\": 12.350515463917525}, {\"v\": 96.79381443298969}]}, {\"c\": [{\"v\": 33016}, {\"v\": 1}, {\"v\": 20}, {\"v\": 0.0011056743401112463}, {\"v\": 0.09645844456308952}, {\"v\": 0.09449292807703882}, {\"v\": 0.01186722718514626}, {\"v\": 0.01133124030168525}, {\"v\": 10.070175438596491}, {\"v\": 78.77631578947368}]}, {\"c\": [{\"v\": 25965}, {\"v\": 1}, {\"v\": 20}, {\"v\": 0.003215184594270861}, {\"v\": 0.12711592029140775}, {\"v\": 0.1485406532314107}, {\"v\": 0.01584387143295899}, {\"v\": 0.01823572068421277}, {\"v\": 10.793363499245855}, {\"v\": 84.46757164404224}]}, {\"c\": [{\"v\": 1600}, {\"v\": 1}, {\"v\": 20}, {\"v\": 0.0003782570110906895}, {\"v\": 0.08873423227490213}, {\"v\": 0.09813084112149532}, {\"v\": 0.011011551333261363}, {\"v\": 0.011882308562806488}, {\"v\": 13.012820512820513}, {\"v\": 101.56410256410257}]}, {\"c\": [{\"v\": 13603}, {\"v\": 1}, {\"v\": 20}, {\"v\": 0.001808844424831118}, {\"v\": 0.1102871066850302}, {\"v\": 0.12252384446074835}, {\"v\": 0.013110170772253286}, {\"v\": 0.014040102568413973}, {\"v\": 10.689008042895441}, {\"v\": 85.32439678284182}]}, {\"c\": [{\"v\": 41116}, {\"v\": 1}, {\"v\": 20}, {\"v\": 0.0007031700847198716}, {\"v\": 0.11464968152866242}, {\"v\": 0.13409770687936193}, {\"v\": 0.013941271551724138}, {\"v\": 0.015367915904936014}, {\"v\": 11.068965517241379}, {\"v\": 84.08275862068967}]}, {\"c\": [{\"v\": 21384}, {\"v\": 1}, {\"v\": 20}, {\"v\": 0.0010523304026497388}, {\"v\": 0.12350212601468882}, {\"v\": 0.12507409602845287}, {\"v\": 0.014794748906022087}, {\"v\": 0.014069480562779223}, {\"v\": 8.294930875576036}, {\"v\": 60.815668202764975}]}, {\"c\": [{\"v\": 48474}, {\"v\": 1}, {\"v\": 20}, {\"v\": 0.0002570207895872634}, {\"v\": 0.07705334462320068}, {\"v\": 0.052486187845303865}, {\"v\": 0.008689839572192513}, {\"v\": 0.006061572818631361}, {\"v\": 8.622641509433963}, {\"v\": 79.30188679245282}]}, {\"c\": [{\"v\": 33399}, {\"v\": 1}, {\"v\": 20}, {\"v\": 0.0012123622150342613}, {\"v\": 0.07067879636109167}, {\"v\": 0.06486899007886034}, {\"v\": 0.008544550099827417}, {\"v\": 0.007689060426969003}, {\"v\": 12.856}, {\"v\": 103.75199999999998}]}, {\"c\": [{\"v\": 22281}, {\"v\": 1}, {\"v\": 20}, {\"v\": 0.010950055526189448}, {\"v\": 0.06833431046837339}, {\"v\": 0.06000928936367859}, {\"v\": 0.008360897461443431}, {\"v\": 0.007232449740445367}, {\"v\": 12.891496899911424}, {\"v\": 103.58768821966345}]}, {\"c\": [{\"v\": 47329}, {\"v\": 1}, {\"v\": 20}, {\"v\": 0.0019882740326561885}, {\"v\": 0.1555345515647973}, {\"v\": 0.17557377049180328}, {\"v\": 0.01843254881949544}, {\"v\": 0.02052235230996225}, {\"v\": 8.346341463414634}, {\"v\": 68.68292682926827}]}, {\"c\": [{\"v\": 5351}, {\"v\": 1}, {\"v\": 20}, {\"v\": 0.0008195568573631606}, {\"v\": 0.15822784810126583}, {\"v\": 0.17649975210708974}, {\"v\": 0.014601585314977055}, {\"v\": 0.015420601230182795}, {\"v\": 7.6982248520710055}, {\"v\": 76.14792899408285}]}, {\"c\": [{\"v\": 40788}, {\"v\": 1}, {\"v\": 20}, {\"v\": 0.0006643744938387752}, {\"v\": 0.08617345525076199}, {\"v\": 0.09211222869242985}, {\"v\": 0.010364593747917083}, {\"v\": 0.011366605696367911}, {\"v\": 12.554744525547445}, {\"v\": 107.28467153284673}]}, {\"c\": [{\"v\": 15767}, {\"v\": 1}, {\"v\": 20}, {\"v\": 0.002322886004005645}, {\"v\": 0.09641345155363847}, {\"v\": 0.09279796048438496}, {\"v\": 0.011600638179266863}, {\"v\": 0.010827210803414736}, {\"v\": 9.757828810020875}, {\"v\": 76.84342379958247}]}, {\"c\": [{\"v\": 28008}, {\"v\": 1}, {\"v\": 20}, {\"v\": 0.0018621883622926255}, {\"v\": 0.10403295334802184}, {\"v\": 0.11194386860149896}, {\"v\": 0.012878132077932859}, {\"v\": 0.013200947760352025}, {\"v\": 10.854166666666668}, {\"v\": 81.12239583333333}]}, {\"c\": [{\"v\": 49445}, {\"v\": 1}, {\"v\": 20}, {\"v\": 0.0006158800052374048}, {\"v\": 0.06859448554135844}, {\"v\": 0.06358381502890173}, {\"v\": 0.008371978495506218}, {\"v\": 0.0072552529916140585}, {\"v\": 13.881889763779528}, {\"v\": 108.29921259842519}]}], \"cols\": [{\"type\": \"number\", \"id\": \"product_id\", \"label\": \"product_id\"}, {\"type\": \"number\", \"id\": \"aisle_id\", \"label\": \"aisle_id\"}, {\"type\": \"number\", \"id\": \"department_id\", \"label\": \"department_id\"}, {\"type\": \"number\", \"id\": \"perc_users\", \"label\": \"perc_users\"}, {\"type\": \"number\", \"id\": \"perc_all_orders\", \"label\": \"perc_all_orders\"}, {\"type\": \"number\", \"id\": \"perc_reorders\", \"label\": \"perc_reorders\"}, {\"type\": \"number\", \"id\": \"orders_per_day\", \"label\": \"orders_per_day\"}, {\"type\": \"number\", \"id\": \"reorders_per_day\", \"label\": \"reorders_per_day\"}, {\"type\": \"number\", \"id\": \"avg_first_order_number\", \"label\": \"avg_first_order_number\"}, {\"type\": \"number\", \"id\": \"avg_first_order_day\", \"label\": \"avg_first_order_day\"}]},\n",
       "            {\n",
       "              pageSize: 25,\n",
       "              cssClassNames:  {\n",
       "                tableRow: 'gchart-table-row',\n",
       "                headerRow: 'gchart-table-headerrow',\n",
       "                oddTableRow: 'gchart-table-oddrow',\n",
       "                selectedTableRow: 'gchart-table-selectedrow',\n",
       "                hoverTableRow: 'gchart-table-hoverrow',\n",
       "                tableCell: 'gchart-table-cell',\n",
       "                headerCell: 'gchart-table-headercell',\n",
       "                rowNumberCell: 'gchart-table-rownumcell'\n",
       "              }\n",
       "            },\n",
       "            {source_index: 4, fields: 'product_id,aisle_id,department_id,perc_users,perc_all_orders,perc_reorders,orders_per_day,reorders_per_day,avg_first_order_number,avg_first_order_day'},\n",
       "            0,\n",
       "            49677);\n",
       "        }\n",
       "      );\n",
       "    </script>\n",
       "  "
      ],
      "text/plain": [
       "QueryResultsTable job_eDed6knbxsErAONzgz_Z5NLppKg"
      ]
     },
     "execution_count": 58,
     "metadata": {},
     "output_type": "execute_result"
    }
   ],
   "source": [
    "%%bq execute -q product_features_q -t instacart.product_features  -m overwrite"
   ]
  },
  {
   "cell_type": "markdown",
   "metadata": {},
   "source": [
    "## Time-of-Day Features\n",
    "\n",
    "For each product/aisle/department, compute how much more likely to purchase at that time of day"
   ]
  },
  {
   "cell_type": "code",
   "execution_count": 55,
   "metadata": {
    "collapsed": true
   },
   "outputs": [],
   "source": [
    "%%bq query -n tod_features_q\n",
    "WITH temp AS (\n",
    "  SELECT orders.order_hour_of_day, orders.order_dow, op.product_id, products.aisle_id, products.department_id, COUNT(*) AS `n_product`\n",
    "  FROM instacart.order_products__prior AS op\n",
    "  INNER JOIN instacart.orders AS orders ON orders.order_id = op.order_id\n",
    "  INNER JOIN instacart.products AS products ON op.product_id = products.product_id\n",
    "  GROUP BY 1,2,3,4,5\n",
    ")\n",
    "SELECT order_hour_of_day, order_dow, product_id,\n",
    "  n_product / n_product_total / (n_hod_dow / n_total) AS `product_tod_factor`,\n",
    "  n_aisle / n_aisle_total / (n_hod_dow / n_total) AS `aisle_tod_factor`,\n",
    "  n_department / n_department_total / (n_hod_dow / n_total) AS `department_tod_factor`\n",
    "FROM (\n",
    "  SELECT order_hour_of_day, order_dow, product_id, aisle_id, department_id, n_product,\n",
    "  SUM(n_product) OVER (PARTITION BY product_id) AS `n_product_total`,\n",
    "  SUM(n_product) OVER (PARTITION BY order_hour_of_day, order_dow, aisle_id) AS `n_aisle`,\n",
    "  SUM(n_product) OVER (PARTITION BY aisle_id) AS `n_aisle_total`,\n",
    "  SUM(n_product) OVER (PARTITION BY order_hour_of_day, order_dow, department_id) AS `n_department`,\n",
    "  SUM(n_product) OVER (PARTITION BY department_id) AS `n_department_total`,\n",
    "  SUM(n_product) OVER (PARTITION BY order_hour_of_day, order_dow) AS `n_hod_dow`,\n",
    "  SUM(n_product) OVER () AS `n_total`\n",
    "  FROM temp  \n",
    ") AS x"
   ]
  },
  {
   "cell_type": "code",
   "execution_count": 56,
   "metadata": {
    "collapsed": false
   },
   "outputs": [
    {
     "data": {
      "text/html": [
       "\n",
       "    <div class=\"bqtv\" id=\"15_149918332642\"><table><tr><th>order_hour_of_day</th><th>order_dow</th><th>product_id</th><th>product_tod_factor</th><th>aisle_tod_factor</th><th>department_tod_factor</th></tr><tr><td>4</td><td>4</td><td>31391</td><td>3.70944877306</td><td>1.39329873558</td><td>1.07660179665</td></tr><tr><td>4</td><td>4</td><td>42617</td><td>1.3283339383</td><td>0.797263755548</td><td>1.00012144143</td></tr><tr><td>4</td><td>4</td><td>39040</td><td>0.599722708701</td><td>0.904993350147</td><td>0.948444336493</td></tr><tr><td>4</td><td>4</td><td>14278</td><td>37.1828079395</td><td>1.39329873558</td><td>1.07660179665</td></tr><tr><td>4</td><td>4</td><td>17429</td><td>1.82367995344</td><td>0.895686628409</td><td>0.900240407055</td></tr><tr><td>4</td><td>4</td><td>2750</td><td>3.55195890855</td><td>1.0466515624</td><td>1.06000410609</td></tr><tr><td>4</td><td>4</td><td>3681</td><td>161.552889668</td><td>1.08096280693</td><td>1.06000410609</td></tr><tr><td>4</td><td>4</td><td>43885</td><td>80.7764448341</td><td>0.812646795801</td><td>0.870005868157</td></tr><tr><td>4</td><td>4</td><td>28535</td><td>0.658750534361</td><td>0.64656233732</td><td>1.07660179665</td></tr><tr><td>4</td><td>4</td><td>35166</td><td>2.82571399299</td><td>0.757082863138</td><td>1.00012144143</td></tr><tr><td>4</td><td>4</td><td>37288</td><td>0.87718288717</td><td>0.927954475076</td><td>0.948444336493</td></tr><tr><td>4</td><td>4</td><td>35510</td><td>1.98602534988</td><td>0.927954475076</td><td>0.948444336493</td></tr><tr><td>4</td><td>4</td><td>38051</td><td>1.76460783442</td><td>0.927954475076</td><td>0.948444336493</td></tr><tr><td>4</td><td>4</td><td>20082</td><td>1.03896373456</td><td>0.862326159786</td><td>0.923331417011</td></tr><tr><td>4</td><td>4</td><td>43692</td><td>3.09107134399</td><td>0.956360630147</td><td>0.923331417011</td></tr><tr><td>4</td><td>4</td><td>46629</td><td>53.2390204588</td><td>0.956360630147</td><td>0.923331417011</td></tr><tr><td>4</td><td>4</td><td>47526</td><td>0.788460754018</td><td>0.956360630147</td><td>0.923331417011</td></tr><tr><td>4</td><td>4</td><td>6348</td><td>0.609356025281</td><td>0.956360630147</td><td>0.923331417011</td></tr><tr><td>4</td><td>4</td><td>48939</td><td>13.1602073044</td><td>0.481434716523</td><td>1.00592152959</td></tr><tr><td>4</td><td>4</td><td>39349</td><td>5.06490140581</td><td>0.972269307901</td><td>0.900240407055</td></tr><tr><td>4</td><td>4</td><td>4809</td><td>1.76927258322</td><td>0.916140057346</td><td>0.923331417011</td></tr><tr><td>4</td><td>4</td><td>10667</td><td>12.6793878224</td><td>1.03163332699</td><td>0.923331417011</td></tr><tr><td>4</td><td>4</td><td>3962</td><td>3.97710848928</td><td>0.963097059415</td><td>1.06000410609</td></tr><tr><td>4</td><td>4</td><td>43889</td><td>3.44741265664</td><td>2.18258213176</td><td>1.06000410609</td></tr><tr><td>4</td><td>4</td><td>26781</td><td>60.8445948101</td><td>0.912753593171</td><td>0.95078120275</td></tr></table></div>\n",
       "    <br />(rows: 2956954, time: 66.6s,   602MB processed, job: job_nEIzq4C69nXCzhm0tMiDUGpA97E)<br />\n",
       "    <script>\n",
       "\n",
       "      require.config({\n",
       "        paths: {\n",
       "          d3: '//cdnjs.cloudflare.com/ajax/libs/d3/3.4.13/d3',\n",
       "          plotly: 'https://cdn.plot.ly/plotly-1.5.1.min.js?noext',\n",
       "          jquery: '//ajax.googleapis.com/ajax/libs/jquery/2.0.0/jquery.min'\n",
       "        },\n",
       "        map: {\n",
       "          '*': {\n",
       "            datalab: 'nbextensions/gcpdatalab'\n",
       "          }\n",
       "        },\n",
       "        shim: {\n",
       "          plotly: {\n",
       "            deps: ['d3', 'jquery'],\n",
       "            exports: 'plotly'\n",
       "          }\n",
       "        }\n",
       "      });\n",
       "\n",
       "      require(['datalab/charting', 'datalab/element!15_149918332642', 'base/js/events',\n",
       "          'datalab/style!/nbextensions/gcpdatalab/charting.css'],\n",
       "        function(charts, dom, events) {\n",
       "          charts.render('gcharts', dom, events, 'paged_table', [], {\"rows\": [{\"c\": [{\"v\": 4}, {\"v\": 4}, {\"v\": 31391}, {\"v\": 3.7094487730606174}, {\"v\": 1.393298735578108}, {\"v\": 1.0766017966534387}]}, {\"c\": [{\"v\": 4}, {\"v\": 4}, {\"v\": 42617}, {\"v\": 1.3283339382975787}, {\"v\": 0.7972637555482726}, {\"v\": 1.0001214414251172}]}, {\"c\": [{\"v\": 4}, {\"v\": 4}, {\"v\": 39040}, {\"v\": 0.5997227087014285}, {\"v\": 0.9049933501470084}, {\"v\": 0.9484443364931723}]}, {\"c\": [{\"v\": 4}, {\"v\": 4}, {\"v\": 14278}, {\"v\": 37.18280793948857}, {\"v\": 1.393298735578108}, {\"v\": 1.0766017966534387}]}, {\"c\": [{\"v\": 4}, {\"v\": 4}, {\"v\": 17429}, {\"v\": 1.8236799534354067}, {\"v\": 0.8956866284086709}, {\"v\": 0.900240407054716}]}, {\"c\": [{\"v\": 4}, {\"v\": 4}, {\"v\": 2750}, {\"v\": 3.551958908548567}, {\"v\": 1.0466515624026547}, {\"v\": 1.060004106089536}]}, {\"c\": [{\"v\": 4}, {\"v\": 4}, {\"v\": 3681}, {\"v\": 161.55288966812276}, {\"v\": 1.0809628069282027}, {\"v\": 1.060004106089536}]}, {\"c\": [{\"v\": 4}, {\"v\": 4}, {\"v\": 43885}, {\"v\": 80.77644483406138}, {\"v\": 0.8126467958007962}, {\"v\": 0.8700058681566334}]}, {\"c\": [{\"v\": 4}, {\"v\": 4}, {\"v\": 28535}, {\"v\": 0.658750534361018}, {\"v\": 0.6465623373198646}, {\"v\": 1.0766017966534387}]}, {\"c\": [{\"v\": 4}, {\"v\": 4}, {\"v\": 35166}, {\"v\": 2.825713992988878}, {\"v\": 0.7570828631383527}, {\"v\": 1.0001214414251172}]}, {\"c\": [{\"v\": 4}, {\"v\": 4}, {\"v\": 37288}, {\"v\": 0.8771828871701105}, {\"v\": 0.9279544750761491}, {\"v\": 0.9484443364931723}]}, {\"c\": [{\"v\": 4}, {\"v\": 4}, {\"v\": 35510}, {\"v\": 1.9860253498836626}, {\"v\": 0.9279544750761491}, {\"v\": 0.9484443364931723}]}, {\"c\": [{\"v\": 4}, {\"v\": 4}, {\"v\": 38051}, {\"v\": 1.7646078344164067}, {\"v\": 0.9279544750761491}, {\"v\": 0.9484443364931723}]}, {\"c\": [{\"v\": 4}, {\"v\": 4}, {\"v\": 20082}, {\"v\": 1.038963734559926}, {\"v\": 0.862326159785853}, {\"v\": 0.9233314170110917}]}, {\"c\": [{\"v\": 4}, {\"v\": 4}, {\"v\": 43692}, {\"v\": 3.0910713439909125}, {\"v\": 0.9563606301474051}, {\"v\": 0.9233314170110917}]}, {\"c\": [{\"v\": 4}, {\"v\": 4}, {\"v\": 46629}, {\"v\": 53.23902045881319}, {\"v\": 0.9563606301474051}, {\"v\": 0.9233314170110917}]}, {\"c\": [{\"v\": 4}, {\"v\": 4}, {\"v\": 47526}, {\"v\": 0.7884607540181017}, {\"v\": 0.9563606301474051}, {\"v\": 0.9233314170110917}]}, {\"c\": [{\"v\": 4}, {\"v\": 4}, {\"v\": 6348}, {\"v\": 0.609356025281337}, {\"v\": 0.9563606301474051}, {\"v\": 0.9233314170110917}]}, {\"c\": [{\"v\": 4}, {\"v\": 4}, {\"v\": 48939}, {\"v\": 13.16020730442573}, {\"v\": 0.48143471652337383}, {\"v\": 1.0059215295934407}]}, {\"c\": [{\"v\": 4}, {\"v\": 4}, {\"v\": 39349}, {\"v\": 5.064901405811416}, {\"v\": 0.9722693079006807}, {\"v\": 0.900240407054716}]}, {\"c\": [{\"v\": 4}, {\"v\": 4}, {\"v\": 4809}, {\"v\": 1.7692725832233989}, {\"v\": 0.9161400573464114}, {\"v\": 0.9233314170110917}]}, {\"c\": [{\"v\": 4}, {\"v\": 4}, {\"v\": 10667}, {\"v\": 12.679387822396645}, {\"v\": 1.0316333269936}, {\"v\": 0.9233314170110917}]}, {\"c\": [{\"v\": 4}, {\"v\": 4}, {\"v\": 3962}, {\"v\": 3.977108489283158}, {\"v\": 0.9630970594146551}, {\"v\": 1.060004106089536}]}, {\"c\": [{\"v\": 4}, {\"v\": 4}, {\"v\": 43889}, {\"v\": 3.4474126566413243}, {\"v\": 2.182582131755269}, {\"v\": 1.060004106089536}]}, {\"c\": [{\"v\": 4}, {\"v\": 4}, {\"v\": 26781}, {\"v\": 60.84459481007221}, {\"v\": 0.9127535931708577}, {\"v\": 0.9507812027499519}]}], \"cols\": [{\"type\": \"number\", \"id\": \"order_hour_of_day\", \"label\": \"order_hour_of_day\"}, {\"type\": \"number\", \"id\": \"order_dow\", \"label\": \"order_dow\"}, {\"type\": \"number\", \"id\": \"product_id\", \"label\": \"product_id\"}, {\"type\": \"number\", \"id\": \"product_tod_factor\", \"label\": \"product_tod_factor\"}, {\"type\": \"number\", \"id\": \"aisle_tod_factor\", \"label\": \"aisle_tod_factor\"}, {\"type\": \"number\", \"id\": \"department_tod_factor\", \"label\": \"department_tod_factor\"}]},\n",
       "            {\n",
       "              pageSize: 25,\n",
       "              cssClassNames:  {\n",
       "                tableRow: 'gchart-table-row',\n",
       "                headerRow: 'gchart-table-headerrow',\n",
       "                oddTableRow: 'gchart-table-oddrow',\n",
       "                selectedTableRow: 'gchart-table-selectedrow',\n",
       "                hoverTableRow: 'gchart-table-hoverrow',\n",
       "                tableCell: 'gchart-table-cell',\n",
       "                headerCell: 'gchart-table-headercell',\n",
       "                rowNumberCell: 'gchart-table-rownumcell'\n",
       "              }\n",
       "            },\n",
       "            {source_index: 5, fields: 'order_hour_of_day,order_dow,product_id,product_tod_factor,aisle_tod_factor,department_tod_factor'},\n",
       "            0,\n",
       "            2956954);\n",
       "        }\n",
       "      );\n",
       "    </script>\n",
       "  "
      ],
      "text/plain": [
       "QueryResultsTable job_nEIzq4C69nXCzhm0tMiDUGpA97E"
      ]
     },
     "execution_count": 56,
     "metadata": {},
     "output_type": "execute_result"
    }
   ],
   "source": [
    "%%bq execute -q tod_features_q -t instacart.tod_features  -m overwrite"
   ]
  },
  {
   "cell_type": "markdown",
   "metadata": {},
   "source": [
    "## Model Universe\n",
    "\n",
    "Assemble model universe with all features"
   ]
  },
  {
   "cell_type": "code",
   "execution_count": 1,
   "metadata": {
    "collapsed": true
   },
   "outputs": [],
   "source": [
    "%%bq query -n model_universe_q\n",
    "SELECT\n",
    "upf.user_id,\n",
    "upf.product_id,\n",
    "pf.aisle_id,\n",
    "pf.department_id,\n",
    "upf.order_id,\n",
    "upf.eval_set,\n",
    "upf.order_hour_of_day,\n",
    "upf.order_dow,\n",
    "upf.is_ordered,\n",
    "upf.perc_all_orders AS `upf_perc_all_orders`,\n",
    "upf.perc_reorder AS `upf_perc_reorder`,\n",
    "upf.orders_per_day AS `upf_orders_per_day`,\n",
    "upf.reorders_per_day AS `upf_reorders_per_day`,\n",
    "upf.first_order_number AS `upf_first_order_number`,\n",
    "upf.first_order_day AS `upf_first_order_day`,\n",
    "upf.last_order_number AS `upf_last_order_number`,\n",
    "upf.last_order_day AS `upf_last_order_day`,\n",
    "upf.days_since_last_order AS `upf_days_since_last_order`,\n",
    "upf.orders_since_last_order AS `upf_orders_since_last_order`,\n",
    "uf.num_orders AS `uf_num_orders`,\n",
    "uf.avg_days_bw_orders AS `uf_avg_days_bw_orders`,\n",
    "uf.num_products AS `uf_num_products`,\n",
    "uf.num_aisles AS `uf_num_aisles`,\n",
    "uf.num_departments AS `uf_num_departments`,\n",
    "pf.perc_users AS `pf_perc_users`,\n",
    "pf.perc_all_orders AS `pf_perc_all_orders`,\n",
    "pf.perc_reorders AS `pf_perc_reorders`,\n",
    "pf.orders_per_day AS `pf_orders_per_day`,\n",
    "pf.reorders_per_day AS `pf_reorders_per_day`,\n",
    "pf.avg_first_order_number AS `pf_avg_first_order_number`,\n",
    "pf.avg_first_order_day AS `pf_avg_first_order_day`,\n",
    "tf.product_tod_factor AS `tf_product_tod_factor`,\n",
    "tf.aisle_tod_factor AS `tf_aisle_tod_factor`,\n",
    "tf.department_tod_factor AS `tf_department_tod_factor`\n",
    "FROM instacart.user_products_features AS upf\n",
    "INNER JOIN instacart.user_features AS uf ON upf.user_id = uf.user_id\n",
    "INNER JOIN instacart.product_features AS pf ON upf.product_id = pf.product_id\n",
    "INNER JOIN instacart.tod_features AS tf ON upf.product_id = tf.product_id AND upf.order_hour_of_day = tf.order_hour_of_day AND upf.order_dow = tf.order_dow"
   ]
  },
  {
   "cell_type": "code",
   "execution_count": 2,
   "metadata": {
    "collapsed": false
   },
   "outputs": [
    {
     "data": {
      "text/html": [
       "\n",
       "    <div class=\"bqtv\" id=\"1_149918469137\"><table><tr><th>user_id</th><th>product_id</th><th>aisle_id</th><th>department_id</th><th>order_id</th><th>eval_set</th><th>order_hour_of_day</th><th>order_dow</th><th>is_ordered</th><th>upf_perc_all_orders</th><th>upf_perc_reorder</th><th>upf_orders_per_day</th><th>upf_reorders_per_day</th><th>upf_first_order_number</th><th>upf_first_order_day</th><th>upf_last_order_number</th><th>upf_last_order_day</th><th>upf_days_since_last_order</th><th>upf_orders_since_last_order</th><th>uf_num_orders</th><th>uf_avg_days_bw_orders</th><th>uf_num_products</th><th>uf_num_aisles</th><th>uf_num_departments</th><th>pf_perc_users</th><th>pf_perc_all_orders</th><th>pf_perc_reorders</th><th>pf_orders_per_day</th><th>pf_reorders_per_day</th><th>pf_avg_first_order_number</th><th>pf_avg_first_order_day</th><th>tf_product_tod_factor</th><th>tf_aisle_tod_factor</th><th>tf_department_tod_factor</th></tr><tr><td>105127</td><td>32170</td><td>1</td><td>20</td><td>1901965</td><td>test</td><td>15</td><td>6</td><td>&nbsp;</td><td>0.166666666667</td><td>0.153846153846</td><td>0.0110701107011</td><td>0.00826446280992</td><td>5</td><td>29.0</td><td>16</td><td>243.0</td><td>51.0</td><td>4</td><td>18</td><td>15.0555555556</td><td>57</td><td>24</td><td>14</td><td>0.0007177184313</td><td>0.129846708747</td><td>0.160902255639</td><td>0.0163306966063</td><td>0.0200665760233</td><td>12.0</td><td>94.2027027027</td><td>1.78417893801</td><td>0.983471339869</td><td>1.01310571055</td></tr><tr><td>168310</td><td>32170</td><td>1</td><td>20</td><td>1481482</td><td>test</td><td>10</td><td>6</td><td>&nbsp;</td><td>0.0625</td><td>0.0</td><td>0.00970873786408</td><td>0.0</td><td>5</td><td>48.0</td><td>5</td><td>48.0</td><td>61.0</td><td>13</td><td>16</td><td>6.4375</td><td>91</td><td>38</td><td>15</td><td>0.0007177184313</td><td>0.129846708747</td><td>0.160902255639</td><td>0.0163306966063</td><td>0.0200665760233</td><td>12.0</td><td>94.2027027027</td><td>1.39582425291</td><td>0.950110602581</td><td>1.00783586089</td></tr><tr><td>48276</td><td>32170</td><td>1</td><td>20</td><td>2930937</td><td>train</td><td>7</td><td>5</td><td>0</td><td>0.0769230769231</td><td>0.0454545454545</td><td>0.00625</td><td>0.00361010830325</td><td>4</td><td>43.0</td><td>10</td><td>121.0</td><td>203.0</td><td>18</td><td>26</td><td>12.3076923077</td><td>149</td><td>55</td><td>15</td><td>0.0007177184313</td><td>0.129846708747</td><td>0.160902255639</td><td>0.0163306966063</td><td>0.0200665760233</td><td>12.0</td><td>94.2027027027</td><td>0.436951010601</td><td>0.843284833271</td><td>0.919589371376</td></tr><tr><td>66227</td><td>32170</td><td>1</td><td>20</td><td>1635418</td><td>train</td><td>12</td><td>2</td><td>1</td><td>0.265306122449</td><td>0.25</td><td>0.0517928286853</td><td>0.0478087649402</td><td>1</td><td>0.0</td><td>47</td><td>229.0</td><td>25.0</td><td>4</td><td>49</td><td>5.12244897959</td><td>128</td><td>49</td><td>17</td><td>0.0007177184313</td><td>0.129846708747</td><td>0.160902255639</td><td>0.0163306966063</td><td>0.0200665760233</td><td>12.0</td><td>94.2027027027</td><td>1.19654043771</td><td>1.0362146276</td><td>1.00186273713</td></tr><tr><td>60334</td><td>32170</td><td>1</td><td>20</td><td>2009178</td><td>train</td><td>19</td><td>3</td><td>1</td><td>1.0</td><td>1.0</td><td>0.190476190476</td><td>0.142857142857</td><td>1</td><td>0.0</td><td>4</td><td>21.0</td><td>30.0</td><td>2</td><td>4</td><td>5.25</td><td>21</td><td>10</td><td>7</td><td>0.0007177184313</td><td>0.129846708747</td><td>0.160902255639</td><td>0.0163306966063</td><td>0.0200665760233</td><td>12.0</td><td>94.2027027027</td><td>1.02792765126</td><td>1.05639545075</td><td>1.0278797383</td></tr><tr><td>117887</td><td>32170</td><td>1</td><td>20</td><td>1150564</td><td>train</td><td>18</td><td>1</td><td>0</td><td>0.2</td><td>0.0</td><td>0.0103092783505</td><td>0.0</td><td>4</td><td>67.0</td><td>4</td><td>67.0</td><td>52.0</td><td>3</td><td>5</td><td>19.4</td><td>37</td><td>23</td><td>10</td><td>0.0007177184313</td><td>0.129846708747</td><td>0.160902255639</td><td>0.0163306966063</td><td>0.0200665760233</td><td>12.0</td><td>94.2027027027</td><td>0.651114216809</td><td>1.07237229702</td><td>1.08395058502</td></tr><tr><td>135736</td><td>32170</td><td>1</td><td>20</td><td>2937549</td><td>train</td><td>18</td><td>6</td><td>0</td><td>0.25</td><td>&nbsp;</td><td>0.0153846153846</td><td>&nbsp;</td><td>4</td><td>65.0</td><td>4</td><td>65.0</td><td>30.0</td><td>2</td><td>4</td><td>16.25</td><td>35</td><td>16</td><td>8</td><td>0.0007177184313</td><td>0.129846708747</td><td>0.160902255639</td><td>0.0163306966063</td><td>0.0200665760233</td><td>12.0</td><td>94.2027027027</td><td>1.23172158648</td><td>0.974527269222</td><td>0.987221016087</td></tr><tr><td>34756</td><td>32170</td><td>1</td><td>20</td><td>996942</td><td>train</td><td>18</td><td>0</td><td>0</td><td>0.0227272727273</td><td>0.0</td><td>0.00278551532033</td><td>0.0</td><td>36</td><td>317.0</td><td>36</td><td>317.0</td><td>47.0</td><td>10</td><td>44</td><td>8.15909090909</td><td>133</td><td>52</td><td>15</td><td>0.0007177184313</td><td>0.129846708747</td><td>0.160902255639</td><td>0.0163306966063</td><td>0.0200665760233</td><td>12.0</td><td>94.2027027027</td><td>0.791644577885</td><td>1.08405383638</td><td>1.07094759336</td></tr><tr><td>180074</td><td>32608</td><td>1</td><td>20</td><td>3326163</td><td>test</td><td>13</td><td>5</td><td>&nbsp;</td><td>0.0298507462687</td><td>0.025641025641</td><td>0.00684931506849</td><td>0.00757575757576</td><td>28</td><td>160.0</td><td>58</td><td>258.0</td><td>36.0</td><td>11</td><td>67</td><td>4.35820895522</td><td>204</td><td>65</td><td>15</td><td>0.000101838426063</td><td>0.103238866397</td><td>0.123966942149</td><td>0.0108119567522</td><td>0.0137741046832</td><td>12.0</td><td>120.904761905</td><td>1.89012504101</td><td>1.07348317832</td><td>0.990327574712</td></tr><tr><td>71352</td><td>32170</td><td>1</td><td>20</td><td>1341192</td><td>train</td><td>12</td><td>2</td><td>0</td><td>0.1</td><td>0.0</td><td>0.0049504950495</td><td>0.0</td><td>7</td><td>147.0</td><td>7</td><td>147.0</td><td>64.0</td><td>5</td><td>10</td><td>20.2</td><td>29</td><td>17</td><td>9</td><td>0.0007177184313</td><td>0.129846708747</td><td>0.160902255639</td><td>0.0163306966063</td><td>0.0200665760233</td><td>12.0</td><td>94.2027027027</td><td>1.19654043771</td><td>1.0362146276</td><td>1.00186273713</td></tr><tr><td>12022</td><td>886</td><td>1</td><td>20</td><td>2333827</td><td>train</td><td>1</td><td>2</td><td>1</td><td>0.321428571429</td><td>0.8</td><td>0.0401785714286</td><td>0.119402985075</td><td>18</td><td>157.0</td><td>28</td><td>224.0</td><td>8.0</td><td>2</td><td>28</td><td>8.0</td><td>82</td><td>28</td><td>11</td><td>5.81933863216e-05</td><td>0.0677966101695</td><td>0.0606060606061</td><td>0.00867992766727</td><td>0.00749531542786</td><td>13.0</td><td>97.0</td><td>91.8657495525</td><td>1.34871303981</td><td>1.05913335906</td></tr><tr><td>174809</td><td>19842</td><td>1</td><td>20</td><td>486144</td><td>test</td><td>13</td><td>0</td><td>&nbsp;</td><td>0.151515151515</td><td>0.16</td><td>0.019305019305</td><td>0.0179372197309</td><td>8</td><td>36.0</td><td>33</td><td>259.0</td><td>22.0</td><td>2</td><td>33</td><td>7.84848484848</td><td>208</td><td>71</td><td>16</td><td>0.000174580158965</td><td>0.0818926296633</td><td>0.0868167202572</td><td>0.0105708245243</td><td>0.0108238123873</td><td>13.25</td><td>97.9166666667</td><td>0.645369226257</td><td>0.998093548115</td><td>1.05392501603</td></tr><tr><td>98627</td><td>19842</td><td>1</td><td>20</td><td>1014860</td><td>train</td><td>17</td><td>5</td><td>0</td><td>0.025641025641</td><td>0.0</td><td>0.0028328611898</td><td>0.0</td><td>34</td><td>316.0</td><td>34</td><td>316.0</td><td>49.0</td><td>7</td><td>39</td><td>9.05128205128</td><td>84</td><td>39</td><td>14</td><td>0.000174580158965</td><td>0.0818926296633</td><td>0.0868167202572</td><td>0.0105708245243</td><td>0.0108238123873</td><td>13.25</td><td>97.9166666667</td><td>2.66303507856</td><td>1.09127125654</td><td>1.02788818696</td></tr><tr><td>172206</td><td>39518</td><td>1</td><td>20</td><td>1210262</td><td>train</td><td>13</td><td>0</td><td>0</td><td>0.0227272727273</td><td>0.0</td><td>0.0046511627907</td><td>0.0</td><td>32</td><td>160.0</td><td>32</td><td>160.0</td><td>57.0</td><td>14</td><td>44</td><td>4.88636363636</td><td>203</td><td>60</td><td>16</td><td>0.000620729454098</td><td>0.0577791152573</td><td>0.0498442367601</td><td>0.0070432868672</td><td>0.005936369539</td><td>15.9296875</td><td>128.7421875</td><td>0.605033649616</td><td>0.998093548115</td><td>1.05392501603</td></tr><tr><td>86398</td><td>39518</td><td>1</td><td>20</td><td>1043865</td><td>train</td><td>17</td><td>1</td><td>0</td><td>0.107142857143</td><td>0.0833333333333</td><td>0.00884955752212</td><td>0.00647249190939</td><td>4</td><td>30.0</td><td>23</td><td>259.0</td><td>88.0</td><td>7</td><td>28</td><td>12.1071428571</td><td>157</td><td>59</td><td>16</td><td>0.000620729454098</td><td>0.0577791152573</td><td>0.0498442367601</td><td>0.0070432868672</td><td>0.005936369539</td><td>15.9296875</td><td>128.7421875</td><td>0.99988535125</td><td>1.10097486124</td><td>1.08932203035</td></tr><tr><td>55877</td><td>39518</td><td>1</td><td>20</td><td>2111270</td><td>train</td><td>15</td><td>0</td><td>0</td><td>0.1</td><td>0.5</td><td>0.00680272108844</td><td>0.0277777777778</td><td>18</td><td>258.0</td><td>19</td><td>270.0</td><td>50.0</td><td>3</td><td>20</td><td>14.7</td><td>198</td><td>62</td><td>15</td><td>0.000620729454098</td><td>0.0577791152573</td><td>0.0498442367601</td><td>0.0070432868672</td><td>0.005936369539</td><td>15.9296875</td><td>128.7421875</td><td>1.22398140953</td><td>1.08798347514</td><td>1.06844684389</td></tr><tr><td>83263</td><td>39518</td><td>1</td><td>20</td><td>695625</td><td>train</td><td>13</td><td>3</td><td>0</td><td>0.0344827586207</td><td>0.0</td><td>0.00751879699248</td><td>0.0</td><td>27</td><td>120.0</td><td>27</td><td>120.0</td><td>22.0</td><td>4</td><td>29</td><td>4.58620689655</td><td>105</td><td>47</td><td>16</td><td>0.000620729454098</td><td>0.0577791152573</td><td>0.0498442367601</td><td>0.0070432868672</td><td>0.005936369539</td><td>15.9296875</td><td>128.7421875</td><td>1.11601575102</td><td>1.00839861654</td><td>0.985717006163</td></tr><tr><td>55648</td><td>39518</td><td>1</td><td>20</td><td>937855</td><td>train</td><td>15</td><td>6</td><td>0</td><td>0.04</td><td>0.0</td><td>0.00355871886121</td><td>0.0</td><td>23</td><td>239.0</td><td>23</td><td>239.0</td><td>64.0</td><td>4</td><td>25</td><td>11.24</td><td>85</td><td>35</td><td>11</td><td>0.000620729454098</td><td>0.0577791152573</td><td>0.0498442367601</td><td>0.0070432868672</td><td>0.005936369539</td><td>15.9296875</td><td>128.7421875</td><td>0.892089469003</td><td>0.983471339869</td><td>1.01310571055</td></tr><tr><td>121125</td><td>21384</td><td>1</td><td>20</td><td>188481</td><td>train</td><td>15</td><td>0</td><td>0</td><td>0.333333333333</td><td>0.25</td><td>0.0217391304348</td><td>0.0144927536232</td><td>1</td><td>0.0</td><td>7</td><td>110.0</td><td>50.0</td><td>4</td><td>9</td><td>15.3333333333</td><td>112</td><td>52</td><td>14</td><td>0.00105233040265</td><td>0.123502126015</td><td>0.125074096028</td><td>0.014794748906</td><td>0.0140694805628</td><td>8.29493087558</td><td>60.8156682028</td><td>1.9307875756</td><td>1.08798347514</td><td>1.06844684389</td></tr><tr><td>36638</td><td>21384</td><td>1</td><td>20</td><td>636691</td><td>test</td><td>14</td><td>5</td><td>&nbsp;</td><td>0.25</td><td>0.0</td><td>0.0161290322581</td><td>0.0</td><td>2</td><td>30.0</td><td>2</td><td>30.0</td><td>62.0</td><td>4</td><td>4</td><td>15.5</td><td>38</td><td>23</td><td>8</td><td>0.00105233040265</td><td>0.123502126015</td><td>0.125074096028</td><td>0.014794748906</td><td>0.0140694805628</td><td>8.29493087558</td><td>60.8156682028</td><td>0.293416953281</td><td>0.931888865947</td><td>0.997885142772</td></tr><tr><td>45322</td><td>21384</td><td>1</td><td>20</td><td>1449162</td><td>train</td><td>12</td><td>3</td><td>0</td><td>0.25</td><td>0.0</td><td>0.05</td><td>0.0</td><td>2</td><td>6.0</td><td>2</td><td>6.0</td><td>22.0</td><td>4</td><td>4</td><td>5.0</td><td>60</td><td>27</td><td>11</td><td>0.00105233040265</td><td>0.123502126015</td><td>0.125074096028</td><td>0.014794748906</td><td>0.0140694805628</td><td>8.29493087558</td><td>60.8156682028</td><td>1.02745577083</td><td>1.15770901639</td><td>0.989891658908</td></tr><tr><td>42337</td><td>21384</td><td>1</td><td>20</td><td>718141</td><td>train</td><td>13</td><td>6</td><td>1</td><td>0.75</td><td>1.0</td><td>0.0441176470588</td><td>0.0526315789474</td><td>2</td><td>30.0</td><td>4</td><td>68.0</td><td>30.0</td><td>2</td><td>4</td><td>17.0</td><td>14</td><td>13</td><td>9</td><td>0.00105233040265</td><td>0.123502126015</td><td>0.125074096028</td><td>0.014794748906</td><td>0.0140694805628</td><td>8.29493087558</td><td>60.8156682028</td><td>0.534153450895</td><td>1.00008403705</td><td>1.00278748826</td></tr><tr><td>107154</td><td>21384</td><td>1</td><td>20</td><td>3031685</td><td>train</td><td>13</td><td>1</td><td>0</td><td>0.0606060606061</td><td>0.037037037037</td><td>0.00578034682081</td><td>0.00387596899225</td><td>6</td><td>88.0</td><td>7</td><td>89.0</td><td>274.0</td><td>28</td><td>33</td><td>10.4848484848</td><td>194</td><td>71</td><td>18</td><td>0.00105233040265</td><td>0.123502126015</td><td>0.125074096028</td><td>0.014794748906</td><td>0.0140694805628</td><td>8.29493087558</td><td>60.8156682028</td><td>1.10956098535</td><td>0.943335088484</td><td>0.989208255246</td></tr><tr><td>94468</td><td>21384</td><td>1</td><td>20</td><td>1738882</td><td>test</td><td>14</td><td>2</td><td>&nbsp;</td><td>0.0416666666667</td><td>0.0</td><td>0.00337837837838</td><td>0.0</td><td>2</td><td>16.0</td><td>2</td><td>16.0</td><td>287.0</td><td>24</td><td>24</td><td>12.3333333333</td><td>137</td><td>62</td><td>17</td><td>0.00105233040265</td><td>0.123502126015</td><td>0.125074096028</td><td>0.014794748906</td><td>0.0140694805628</td><td>8.29493087558</td><td>60.8156682028</td><td>1.36319734516</td><td>0.954037247778</td><td>0.976663585946</td></tr><tr><td>163667</td><td>21384</td><td>1</td><td>20</td><td>3331426</td><td>train</td><td>9</td><td>3</td><td>0</td><td>0.75</td><td>0.714285714286</td><td>0.130434782609</td><td>0.108695652174</td><td>1</td><td>0.0</td><td>7</td><td>43.0</td><td>5.0</td><td>3</td><td>8</td><td>5.75</td><td>52</td><td>31</td><td>13</td><td>0.00105233040265</td><td>0.123502126015</td><td>0.125074096028</td><td>0.014794748906</td><td>0.0140694805628</td><td>8.29493087558</td><td>60.8156682028</td><td>0.364945042388</td><td>0.906175161871</td><td>0.926810971859</td></tr></table></div>\n",
       "    <br />(rows: 12628052, time: 34.7s,     1GB processed, job: job_0_HDBhM23B--vT8jxUPe9n9fCVM)<br />\n",
       "    <script>\n",
       "\n",
       "      require.config({\n",
       "        paths: {\n",
       "          d3: '//cdnjs.cloudflare.com/ajax/libs/d3/3.4.13/d3',\n",
       "          plotly: 'https://cdn.plot.ly/plotly-1.5.1.min.js?noext',\n",
       "          jquery: '//ajax.googleapis.com/ajax/libs/jquery/2.0.0/jquery.min'\n",
       "        },\n",
       "        map: {\n",
       "          '*': {\n",
       "            datalab: 'nbextensions/gcpdatalab'\n",
       "          }\n",
       "        },\n",
       "        shim: {\n",
       "          plotly: {\n",
       "            deps: ['d3', 'jquery'],\n",
       "            exports: 'plotly'\n",
       "          }\n",
       "        }\n",
       "      });\n",
       "\n",
       "      require(['datalab/charting', 'datalab/element!1_149918469137', 'base/js/events',\n",
       "          'datalab/style!/nbextensions/gcpdatalab/charting.css'],\n",
       "        function(charts, dom, events) {\n",
       "          charts.render('gcharts', dom, events, 'paged_table', [], {\"rows\": [{\"c\": [{\"v\": 105127}, {\"v\": 32170}, {\"v\": 1}, {\"v\": 20}, {\"v\": 1901965}, {\"v\": \"test\"}, {\"v\": 15}, {\"v\": 6}, {\"v\": null}, {\"v\": 0.16666666666666666}, {\"v\": 0.15384615384615385}, {\"v\": 0.01107011070110701}, {\"v\": 0.008264462809917356}, {\"v\": 5}, {\"v\": 29.0}, {\"v\": 16}, {\"v\": 243.0}, {\"v\": 51.0}, {\"v\": 4}, {\"v\": 18}, {\"v\": 15.055555555555555}, {\"v\": 57}, {\"v\": 24}, {\"v\": 14}, {\"v\": 0.0007177184313002827}, {\"v\": 0.12984670874661858}, {\"v\": 0.16090225563909774}, {\"v\": 0.01633069660627711}, {\"v\": 0.020066576023254724}, {\"v\": 12.0}, {\"v\": 94.20270270270268}, {\"v\": 1.78417893800652}, {\"v\": 0.9834713398687925}, {\"v\": 1.0131057105465555}]}, {\"c\": [{\"v\": 168310}, {\"v\": 32170}, {\"v\": 1}, {\"v\": 20}, {\"v\": 1481482}, {\"v\": \"test\"}, {\"v\": 10}, {\"v\": 6}, {\"v\": null}, {\"v\": 0.0625}, {\"v\": 0.0}, {\"v\": 0.009708737864077669}, {\"v\": 0.0}, {\"v\": 5}, {\"v\": 48.0}, {\"v\": 5}, {\"v\": 48.0}, {\"v\": 61.0}, {\"v\": 13}, {\"v\": 16}, {\"v\": 6.4375}, {\"v\": 91}, {\"v\": 38}, {\"v\": 15}, {\"v\": 0.0007177184313002827}, {\"v\": 0.12984670874661858}, {\"v\": 0.16090225563909774}, {\"v\": 0.01633069660627711}, {\"v\": 0.020066576023254724}, {\"v\": 12.0}, {\"v\": 94.20270270270268}, {\"v\": 1.3958242529091784}, {\"v\": 0.9501106025808221}, {\"v\": 1.007835860893264}]}, {\"c\": [{\"v\": 48276}, {\"v\": 32170}, {\"v\": 1}, {\"v\": 20}, {\"v\": 2930937}, {\"v\": \"train\"}, {\"v\": 7}, {\"v\": 5}, {\"v\": 0}, {\"v\": 0.07692307692307693}, {\"v\": 0.045454545454545456}, {\"v\": 0.00625}, {\"v\": 0.0036101083032490976}, {\"v\": 4}, {\"v\": 43.0}, {\"v\": 10}, {\"v\": 121.0}, {\"v\": 203.0}, {\"v\": 18}, {\"v\": 26}, {\"v\": 12.307692307692308}, {\"v\": 149}, {\"v\": 55}, {\"v\": 15}, {\"v\": 0.0007177184313002827}, {\"v\": 0.12984670874661858}, {\"v\": 0.16090225563909774}, {\"v\": 0.01633069660627711}, {\"v\": 0.020066576023254724}, {\"v\": 12.0}, {\"v\": 94.20270270270268}, {\"v\": 0.43695101060069147}, {\"v\": 0.8432848332714046}, {\"v\": 0.9195893713755157}]}, {\"c\": [{\"v\": 66227}, {\"v\": 32170}, {\"v\": 1}, {\"v\": 20}, {\"v\": 1635418}, {\"v\": \"train\"}, {\"v\": 12}, {\"v\": 2}, {\"v\": 1}, {\"v\": 0.2653061224489796}, {\"v\": 0.25}, {\"v\": 0.05179282868525897}, {\"v\": 0.04780876494023904}, {\"v\": 1}, {\"v\": 0.0}, {\"v\": 47}, {\"v\": 229.0}, {\"v\": 25.0}, {\"v\": 4}, {\"v\": 49}, {\"v\": 5.122448979591836}, {\"v\": 128}, {\"v\": 49}, {\"v\": 17}, {\"v\": 0.0007177184313002827}, {\"v\": 0.12984670874661858}, {\"v\": 0.16090225563909774}, {\"v\": 0.01633069660627711}, {\"v\": 0.020066576023254724}, {\"v\": 12.0}, {\"v\": 94.20270270270268}, {\"v\": 1.1965404377118176}, {\"v\": 1.0362146275965631}, {\"v\": 1.0018627371317503}]}, {\"c\": [{\"v\": 60334}, {\"v\": 32170}, {\"v\": 1}, {\"v\": 20}, {\"v\": 2009178}, {\"v\": \"train\"}, {\"v\": 19}, {\"v\": 3}, {\"v\": 1}, {\"v\": 1.0}, {\"v\": 1.0}, {\"v\": 0.19047619047619047}, {\"v\": 0.14285714285714285}, {\"v\": 1}, {\"v\": 0.0}, {\"v\": 4}, {\"v\": 21.0}, {\"v\": 30.0}, {\"v\": 2}, {\"v\": 4}, {\"v\": 5.25}, {\"v\": 21}, {\"v\": 10}, {\"v\": 7}, {\"v\": 0.0007177184313002827}, {\"v\": 0.12984670874661858}, {\"v\": 0.16090225563909774}, {\"v\": 0.01633069660627711}, {\"v\": 0.020066576023254724}, {\"v\": 12.0}, {\"v\": 94.20270270270268}, {\"v\": 1.027927651261612}, {\"v\": 1.0563954507460012}, {\"v\": 1.0278797382981641}]}, {\"c\": [{\"v\": 117887}, {\"v\": 32170}, {\"v\": 1}, {\"v\": 20}, {\"v\": 1150564}, {\"v\": \"train\"}, {\"v\": 18}, {\"v\": 1}, {\"v\": 0}, {\"v\": 0.2}, {\"v\": 0.0}, {\"v\": 0.010309278350515464}, {\"v\": 0.0}, {\"v\": 4}, {\"v\": 67.0}, {\"v\": 4}, {\"v\": 67.0}, {\"v\": 52.0}, {\"v\": 3}, {\"v\": 5}, {\"v\": 19.4}, {\"v\": 37}, {\"v\": 23}, {\"v\": 10}, {\"v\": 0.0007177184313002827}, {\"v\": 0.12984670874661858}, {\"v\": 0.16090225563909774}, {\"v\": 0.01633069660627711}, {\"v\": 0.020066576023254724}, {\"v\": 12.0}, {\"v\": 94.20270270270268}, {\"v\": 0.6511142168085711}, {\"v\": 1.0723722970193885}, {\"v\": 1.0839505850206224}]}, {\"c\": [{\"v\": 135736}, {\"v\": 32170}, {\"v\": 1}, {\"v\": 20}, {\"v\": 2937549}, {\"v\": \"train\"}, {\"v\": 18}, {\"v\": 6}, {\"v\": 0}, {\"v\": 0.25}, {\"v\": null}, {\"v\": 0.015384615384615385}, {\"v\": null}, {\"v\": 4}, {\"v\": 65.0}, {\"v\": 4}, {\"v\": 65.0}, {\"v\": 30.0}, {\"v\": 2}, {\"v\": 4}, {\"v\": 16.25}, {\"v\": 35}, {\"v\": 16}, {\"v\": 8}, {\"v\": 0.0007177184313002827}, {\"v\": 0.12984670874661858}, {\"v\": 0.16090225563909774}, {\"v\": 0.01633069660627711}, {\"v\": 0.020066576023254724}, {\"v\": 12.0}, {\"v\": 94.20270270270268}, {\"v\": 1.231721586479056}, {\"v\": 0.9745272692222681}, {\"v\": 0.9872210160866743}]}, {\"c\": [{\"v\": 34756}, {\"v\": 32170}, {\"v\": 1}, {\"v\": 20}, {\"v\": 996942}, {\"v\": \"train\"}, {\"v\": 18}, {\"v\": 0}, {\"v\": 0}, {\"v\": 0.022727272727272728}, {\"v\": 0.0}, {\"v\": 0.002785515320334262}, {\"v\": 0.0}, {\"v\": 36}, {\"v\": 317.0}, {\"v\": 36}, {\"v\": 317.0}, {\"v\": 47.0}, {\"v\": 10}, {\"v\": 44}, {\"v\": 8.159090909090908}, {\"v\": 133}, {\"v\": 52}, {\"v\": 15}, {\"v\": 0.0007177184313002827}, {\"v\": 0.12984670874661858}, {\"v\": 0.16090225563909774}, {\"v\": 0.01633069660627711}, {\"v\": 0.020066576023254724}, {\"v\": 12.0}, {\"v\": 94.20270270270268}, {\"v\": 0.7916445778850927}, {\"v\": 1.0840538363831902}, {\"v\": 1.0709475933597248}]}, {\"c\": [{\"v\": 180074}, {\"v\": 32608}, {\"v\": 1}, {\"v\": 20}, {\"v\": 3326163}, {\"v\": \"test\"}, {\"v\": 13}, {\"v\": 5}, {\"v\": null}, {\"v\": 0.029850746268656716}, {\"v\": 0.02564102564102564}, {\"v\": 0.00684931506849315}, {\"v\": 0.007575757575757576}, {\"v\": 28}, {\"v\": 160.0}, {\"v\": 58}, {\"v\": 258.0}, {\"v\": 36.0}, {\"v\": 11}, {\"v\": 67}, {\"v\": 4.358208955223881}, {\"v\": 204}, {\"v\": 65}, {\"v\": 15}, {\"v\": 0.00010183842606287795}, {\"v\": 0.10323886639676114}, {\"v\": 0.12396694214876033}, {\"v\": 0.010811956752172992}, {\"v\": 0.013774104683195593}, {\"v\": 12.0}, {\"v\": 120.9047619047619}, {\"v\": 1.8901250410111439}, {\"v\": 1.0734831783220198}, {\"v\": 0.9903275747124972}]}, {\"c\": [{\"v\": 71352}, {\"v\": 32170}, {\"v\": 1}, {\"v\": 20}, {\"v\": 1341192}, {\"v\": \"train\"}, {\"v\": 12}, {\"v\": 2}, {\"v\": 0}, {\"v\": 0.1}, {\"v\": 0.0}, {\"v\": 0.0049504950495049506}, {\"v\": 0.0}, {\"v\": 7}, {\"v\": 147.0}, {\"v\": 7}, {\"v\": 147.0}, {\"v\": 64.0}, {\"v\": 5}, {\"v\": 10}, {\"v\": 20.2}, {\"v\": 29}, {\"v\": 17}, {\"v\": 9}, {\"v\": 0.0007177184313002827}, {\"v\": 0.12984670874661858}, {\"v\": 0.16090225563909774}, {\"v\": 0.01633069660627711}, {\"v\": 0.020066576023254724}, {\"v\": 12.0}, {\"v\": 94.20270270270268}, {\"v\": 1.1965404377118176}, {\"v\": 1.0362146275965631}, {\"v\": 1.0018627371317503}]}, {\"c\": [{\"v\": 12022}, {\"v\": 886}, {\"v\": 1}, {\"v\": 20}, {\"v\": 2333827}, {\"v\": \"train\"}, {\"v\": 1}, {\"v\": 2}, {\"v\": 1}, {\"v\": 0.32142857142857145}, {\"v\": 0.8}, {\"v\": 0.04017857142857143}, {\"v\": 0.11940298507462686}, {\"v\": 18}, {\"v\": 157.0}, {\"v\": 28}, {\"v\": 224.0}, {\"v\": 8.0}, {\"v\": 2}, {\"v\": 28}, {\"v\": 8.0}, {\"v\": 82}, {\"v\": 28}, {\"v\": 11}, {\"v\": 5.8193386321644545e-05}, {\"v\": 0.06779661016949153}, {\"v\": 0.06060606060606061}, {\"v\": 0.00867992766726944}, {\"v\": 0.007495315427857589}, {\"v\": 13.0}, {\"v\": 97.0}, {\"v\": 91.86574955248906}, {\"v\": 1.3487130398096492}, {\"v\": 1.0591333590578136}]}, {\"c\": [{\"v\": 174809}, {\"v\": 19842}, {\"v\": 1}, {\"v\": 20}, {\"v\": 486144}, {\"v\": \"test\"}, {\"v\": 13}, {\"v\": 0}, {\"v\": null}, {\"v\": 0.15151515151515152}, {\"v\": 0.16}, {\"v\": 0.019305019305019305}, {\"v\": 0.017937219730941704}, {\"v\": 8}, {\"v\": 36.0}, {\"v\": 33}, {\"v\": 259.0}, {\"v\": 22.0}, {\"v\": 2}, {\"v\": 33}, {\"v\": 7.848484848484849}, {\"v\": 208}, {\"v\": 71}, {\"v\": 16}, {\"v\": 0.00017458015896493364}, {\"v\": 0.0818926296633303}, {\"v\": 0.08681672025723473}, {\"v\": 0.010570824524312896}, {\"v\": 0.010823812387251955}, {\"v\": 13.25}, {\"v\": 97.91666666666667}, {\"v\": 0.6453692262570623}, {\"v\": 0.9980935481152765}, {\"v\": 1.053925016030276}]}, {\"c\": [{\"v\": 98627}, {\"v\": 19842}, {\"v\": 1}, {\"v\": 20}, {\"v\": 1014860}, {\"v\": \"train\"}, {\"v\": 17}, {\"v\": 5}, {\"v\": 0}, {\"v\": 0.02564102564102564}, {\"v\": 0.0}, {\"v\": 0.0028328611898017}, {\"v\": 0.0}, {\"v\": 34}, {\"v\": 316.0}, {\"v\": 34}, {\"v\": 316.0}, {\"v\": 49.0}, {\"v\": 7}, {\"v\": 39}, {\"v\": 9.051282051282051}, {\"v\": 84}, {\"v\": 39}, {\"v\": 14}, {\"v\": 0.00017458015896493364}, {\"v\": 0.0818926296633303}, {\"v\": 0.08681672025723473}, {\"v\": 0.010570824524312896}, {\"v\": 0.010823812387251955}, {\"v\": 13.25}, {\"v\": 97.91666666666667}, {\"v\": 2.663035078558104}, {\"v\": 1.091271256541265}, {\"v\": 1.027888186957732}]}, {\"c\": [{\"v\": 172206}, {\"v\": 39518}, {\"v\": 1}, {\"v\": 20}, {\"v\": 1210262}, {\"v\": \"train\"}, {\"v\": 13}, {\"v\": 0}, {\"v\": 0}, {\"v\": 0.022727272727272728}, {\"v\": 0.0}, {\"v\": 0.004651162790697674}, {\"v\": 0.0}, {\"v\": 32}, {\"v\": 160.0}, {\"v\": 32}, {\"v\": 160.0}, {\"v\": 57.0}, {\"v\": 14}, {\"v\": 44}, {\"v\": 4.886363636363637}, {\"v\": 203}, {\"v\": 60}, {\"v\": 16}, {\"v\": 0.0006207294540975418}, {\"v\": 0.05777911525729762}, {\"v\": 0.04984423676012461}, {\"v\": 0.007043286867204695}, {\"v\": 0.005936369539003803}, {\"v\": 15.9296875}, {\"v\": 128.7421875}, {\"v\": 0.6050336496159958}, {\"v\": 0.9980935481152765}, {\"v\": 1.053925016030276}]}, {\"c\": [{\"v\": 86398}, {\"v\": 39518}, {\"v\": 1}, {\"v\": 20}, {\"v\": 1043865}, {\"v\": \"train\"}, {\"v\": 17}, {\"v\": 1}, {\"v\": 0}, {\"v\": 0.10714285714285714}, {\"v\": 0.08333333333333333}, {\"v\": 0.008849557522123894}, {\"v\": 0.006472491909385114}, {\"v\": 4}, {\"v\": 30.0}, {\"v\": 23}, {\"v\": 259.0}, {\"v\": 88.0}, {\"v\": 7}, {\"v\": 28}, {\"v\": 12.107142857142858}, {\"v\": 157}, {\"v\": 59}, {\"v\": 16}, {\"v\": 0.0006207294540975418}, {\"v\": 0.05777911525729762}, {\"v\": 0.04984423676012461}, {\"v\": 0.007043286867204695}, {\"v\": 0.005936369539003803}, {\"v\": 15.9296875}, {\"v\": 128.7421875}, {\"v\": 0.9998853512499827}, {\"v\": 1.1009748612362171}, {\"v\": 1.0893220303463595}]}, {\"c\": [{\"v\": 55877}, {\"v\": 39518}, {\"v\": 1}, {\"v\": 20}, {\"v\": 2111270}, {\"v\": \"train\"}, {\"v\": 15}, {\"v\": 0}, {\"v\": 0}, {\"v\": 0.1}, {\"v\": 0.5}, {\"v\": 0.006802721088435374}, {\"v\": 0.027777777777777776}, {\"v\": 18}, {\"v\": 258.0}, {\"v\": 19}, {\"v\": 270.0}, {\"v\": 50.0}, {\"v\": 3}, {\"v\": 20}, {\"v\": 14.7}, {\"v\": 198}, {\"v\": 62}, {\"v\": 15}, {\"v\": 0.0006207294540975418}, {\"v\": 0.05777911525729762}, {\"v\": 0.04984423676012461}, {\"v\": 0.007043286867204695}, {\"v\": 0.005936369539003803}, {\"v\": 15.9296875}, {\"v\": 128.7421875}, {\"v\": 1.2239814095295367}, {\"v\": 1.087983475137366}, {\"v\": 1.068446843891897}]}, {\"c\": [{\"v\": 83263}, {\"v\": 39518}, {\"v\": 1}, {\"v\": 20}, {\"v\": 695625}, {\"v\": \"train\"}, {\"v\": 13}, {\"v\": 3}, {\"v\": 0}, {\"v\": 0.034482758620689655}, {\"v\": 0.0}, {\"v\": 0.007518796992481203}, {\"v\": 0.0}, {\"v\": 27}, {\"v\": 120.0}, {\"v\": 27}, {\"v\": 120.0}, {\"v\": 22.0}, {\"v\": 4}, {\"v\": 29}, {\"v\": 4.586206896551724}, {\"v\": 105}, {\"v\": 47}, {\"v\": 16}, {\"v\": 0.0006207294540975418}, {\"v\": 0.05777911525729762}, {\"v\": 0.04984423676012461}, {\"v\": 0.007043286867204695}, {\"v\": 0.005936369539003803}, {\"v\": 15.9296875}, {\"v\": 128.7421875}, {\"v\": 1.1160157510204127}, {\"v\": 1.0083986165376302}, {\"v\": 0.9857170061626366}]}, {\"c\": [{\"v\": 55648}, {\"v\": 39518}, {\"v\": 1}, {\"v\": 20}, {\"v\": 937855}, {\"v\": \"train\"}, {\"v\": 15}, {\"v\": 6}, {\"v\": 0}, {\"v\": 0.04}, {\"v\": 0.0}, {\"v\": 0.0035587188612099642}, {\"v\": 0.0}, {\"v\": 23}, {\"v\": 239.0}, {\"v\": 23}, {\"v\": 239.0}, {\"v\": 64.0}, {\"v\": 4}, {\"v\": 25}, {\"v\": 11.24}, {\"v\": 85}, {\"v\": 35}, {\"v\": 11}, {\"v\": 0.0006207294540975418}, {\"v\": 0.05777911525729762}, {\"v\": 0.04984423676012461}, {\"v\": 0.007043286867204695}, {\"v\": 0.005936369539003803}, {\"v\": 15.9296875}, {\"v\": 128.7421875}, {\"v\": 0.89208946900326}, {\"v\": 0.9834713398687925}, {\"v\": 1.0131057105465555}]}, {\"c\": [{\"v\": 121125}, {\"v\": 21384}, {\"v\": 1}, {\"v\": 20}, {\"v\": 188481}, {\"v\": \"train\"}, {\"v\": 15}, {\"v\": 0}, {\"v\": 0}, {\"v\": 0.3333333333333333}, {\"v\": 0.25}, {\"v\": 0.021739130434782608}, {\"v\": 0.014492753623188406}, {\"v\": 1}, {\"v\": 0.0}, {\"v\": 7}, {\"v\": 110.0}, {\"v\": 50.0}, {\"v\": 4}, {\"v\": 9}, {\"v\": 15.333333333333334}, {\"v\": 112}, {\"v\": 52}, {\"v\": 14}, {\"v\": 0.0010523304026497388}, {\"v\": 0.12350212601468882}, {\"v\": 0.12507409602845287}, {\"v\": 0.014794748906022087}, {\"v\": 0.014069480562779223}, {\"v\": 8.294930875576036}, {\"v\": 60.815668202764975}, {\"v\": 1.9307875755958892}, {\"v\": 1.087983475137366}, {\"v\": 1.068446843891897}]}, {\"c\": [{\"v\": 36638}, {\"v\": 21384}, {\"v\": 1}, {\"v\": 20}, {\"v\": 636691}, {\"v\": \"test\"}, {\"v\": 14}, {\"v\": 5}, {\"v\": null}, {\"v\": 0.25}, {\"v\": 0.0}, {\"v\": 0.016129032258064516}, {\"v\": 0.0}, {\"v\": 2}, {\"v\": 30.0}, {\"v\": 2}, {\"v\": 30.0}, {\"v\": 62.0}, {\"v\": 4}, {\"v\": 4}, {\"v\": 15.5}, {\"v\": 38}, {\"v\": 23}, {\"v\": 8}, {\"v\": 0.0010523304026497388}, {\"v\": 0.12350212601468882}, {\"v\": 0.12507409602845287}, {\"v\": 0.014794748906022087}, {\"v\": 0.014069480562779223}, {\"v\": 8.294930875576036}, {\"v\": 60.815668202764975}, {\"v\": 0.29341695328078976}, {\"v\": 0.9318888659471529}, {\"v\": 0.997885142772308}]}, {\"c\": [{\"v\": 45322}, {\"v\": 21384}, {\"v\": 1}, {\"v\": 20}, {\"v\": 1449162}, {\"v\": \"train\"}, {\"v\": 12}, {\"v\": 3}, {\"v\": 0}, {\"v\": 0.25}, {\"v\": 0.0}, {\"v\": 0.05}, {\"v\": 0.0}, {\"v\": 2}, {\"v\": 6.0}, {\"v\": 2}, {\"v\": 6.0}, {\"v\": 22.0}, {\"v\": 4}, {\"v\": 4}, {\"v\": 5.0}, {\"v\": 60}, {\"v\": 27}, {\"v\": 11}, {\"v\": 0.0010523304026497388}, {\"v\": 0.12350212601468882}, {\"v\": 0.12507409602845287}, {\"v\": 0.014794748906022087}, {\"v\": 0.014069480562779223}, {\"v\": 8.294930875576036}, {\"v\": 60.815668202764975}, {\"v\": 1.0274557708326038}, {\"v\": 1.1577090163883972}, {\"v\": 0.9898916589084258}]}, {\"c\": [{\"v\": 42337}, {\"v\": 21384}, {\"v\": 1}, {\"v\": 20}, {\"v\": 718141}, {\"v\": \"train\"}, {\"v\": 13}, {\"v\": 6}, {\"v\": 1}, {\"v\": 0.75}, {\"v\": 1.0}, {\"v\": 0.04411764705882353}, {\"v\": 0.05263157894736842}, {\"v\": 2}, {\"v\": 30.0}, {\"v\": 4}, {\"v\": 68.0}, {\"v\": 30.0}, {\"v\": 2}, {\"v\": 4}, {\"v\": 17.0}, {\"v\": 14}, {\"v\": 13}, {\"v\": 9}, {\"v\": 0.0010523304026497388}, {\"v\": 0.12350212601468882}, {\"v\": 0.12507409602845287}, {\"v\": 0.014794748906022087}, {\"v\": 0.014069480562779223}, {\"v\": 8.294930875576036}, {\"v\": 60.815668202764975}, {\"v\": 0.534153450895221}, {\"v\": 1.00008403705054}, {\"v\": 1.002787488258671}]}, {\"c\": [{\"v\": 107154}, {\"v\": 21384}, {\"v\": 1}, {\"v\": 20}, {\"v\": 3031685}, {\"v\": \"train\"}, {\"v\": 13}, {\"v\": 1}, {\"v\": 0}, {\"v\": 0.06060606060606061}, {\"v\": 0.037037037037037035}, {\"v\": 0.005780346820809248}, {\"v\": 0.003875968992248062}, {\"v\": 6}, {\"v\": 88.0}, {\"v\": 7}, {\"v\": 89.0}, {\"v\": 274.0}, {\"v\": 28}, {\"v\": 33}, {\"v\": 10.484848484848484}, {\"v\": 194}, {\"v\": 71}, {\"v\": 18}, {\"v\": 0.0010523304026497388}, {\"v\": 0.12350212601468882}, {\"v\": 0.12507409602845287}, {\"v\": 0.014794748906022087}, {\"v\": 0.014069480562779223}, {\"v\": 8.294930875576036}, {\"v\": 60.815668202764975}, {\"v\": 1.1095609853505608}, {\"v\": 0.9433350884836655}, {\"v\": 0.9892082552464102}]}, {\"c\": [{\"v\": 94468}, {\"v\": 21384}, {\"v\": 1}, {\"v\": 20}, {\"v\": 1738882}, {\"v\": \"test\"}, {\"v\": 14}, {\"v\": 2}, {\"v\": null}, {\"v\": 0.041666666666666664}, {\"v\": 0.0}, {\"v\": 0.0033783783783783786}, {\"v\": 0.0}, {\"v\": 2}, {\"v\": 16.0}, {\"v\": 2}, {\"v\": 16.0}, {\"v\": 287.0}, {\"v\": 24}, {\"v\": 24}, {\"v\": 12.333333333333334}, {\"v\": 137}, {\"v\": 62}, {\"v\": 17}, {\"v\": 0.0010523304026497388}, {\"v\": 0.12350212601468882}, {\"v\": 0.12507409602845287}, {\"v\": 0.014794748906022087}, {\"v\": 0.014069480562779223}, {\"v\": 8.294930875576036}, {\"v\": 60.815668202764975}, {\"v\": 1.3631973451633912}, {\"v\": 0.9540372477780552}, {\"v\": 0.9766635859458807}]}, {\"c\": [{\"v\": 163667}, {\"v\": 21384}, {\"v\": 1}, {\"v\": 20}, {\"v\": 3331426}, {\"v\": \"train\"}, {\"v\": 9}, {\"v\": 3}, {\"v\": 0}, {\"v\": 0.75}, {\"v\": 0.7142857142857143}, {\"v\": 0.13043478260869565}, {\"v\": 0.10869565217391304}, {\"v\": 1}, {\"v\": 0.0}, {\"v\": 7}, {\"v\": 43.0}, {\"v\": 5.0}, {\"v\": 3}, {\"v\": 8}, {\"v\": 5.75}, {\"v\": 52}, {\"v\": 31}, {\"v\": 13}, {\"v\": 0.0010523304026497388}, {\"v\": 0.12350212601468882}, {\"v\": 0.12507409602845287}, {\"v\": 0.014794748906022087}, {\"v\": 0.014069480562779223}, {\"v\": 8.294930875576036}, {\"v\": 60.815668202764975}, {\"v\": 0.3649450423882159}, {\"v\": 0.9061751618709898}, {\"v\": 0.9268109718588083}]}], \"cols\": [{\"type\": \"number\", \"id\": \"user_id\", \"label\": \"user_id\"}, {\"type\": \"number\", \"id\": \"product_id\", \"label\": \"product_id\"}, {\"type\": \"number\", \"id\": \"aisle_id\", \"label\": \"aisle_id\"}, {\"type\": \"number\", \"id\": \"department_id\", \"label\": \"department_id\"}, {\"type\": \"number\", \"id\": \"order_id\", \"label\": \"order_id\"}, {\"type\": \"string\", \"id\": \"eval_set\", \"label\": \"eval_set\"}, {\"type\": \"number\", \"id\": \"order_hour_of_day\", \"label\": \"order_hour_of_day\"}, {\"type\": \"number\", \"id\": \"order_dow\", \"label\": \"order_dow\"}, {\"type\": \"number\", \"id\": \"is_ordered\", \"label\": \"is_ordered\"}, {\"type\": \"number\", \"id\": \"upf_perc_all_orders\", \"label\": \"upf_perc_all_orders\"}, {\"type\": \"number\", \"id\": \"upf_perc_reorder\", \"label\": \"upf_perc_reorder\"}, {\"type\": \"number\", \"id\": \"upf_orders_per_day\", \"label\": \"upf_orders_per_day\"}, {\"type\": \"number\", \"id\": \"upf_reorders_per_day\", \"label\": \"upf_reorders_per_day\"}, {\"type\": \"number\", \"id\": \"upf_first_order_number\", \"label\": \"upf_first_order_number\"}, {\"type\": \"number\", \"id\": \"upf_first_order_day\", \"label\": \"upf_first_order_day\"}, {\"type\": \"number\", \"id\": \"upf_last_order_number\", \"label\": \"upf_last_order_number\"}, {\"type\": \"number\", \"id\": \"upf_last_order_day\", \"label\": \"upf_last_order_day\"}, {\"type\": \"number\", \"id\": \"upf_days_since_last_order\", \"label\": \"upf_days_since_last_order\"}, {\"type\": \"number\", \"id\": \"upf_orders_since_last_order\", \"label\": \"upf_orders_since_last_order\"}, {\"type\": \"number\", \"id\": \"uf_num_orders\", \"label\": \"uf_num_orders\"}, {\"type\": \"number\", \"id\": \"uf_avg_days_bw_orders\", \"label\": \"uf_avg_days_bw_orders\"}, {\"type\": \"number\", \"id\": \"uf_num_products\", \"label\": \"uf_num_products\"}, {\"type\": \"number\", \"id\": \"uf_num_aisles\", \"label\": \"uf_num_aisles\"}, {\"type\": \"number\", \"id\": \"uf_num_departments\", \"label\": \"uf_num_departments\"}, {\"type\": \"number\", \"id\": \"pf_perc_users\", \"label\": \"pf_perc_users\"}, {\"type\": \"number\", \"id\": \"pf_perc_all_orders\", \"label\": \"pf_perc_all_orders\"}, {\"type\": \"number\", \"id\": \"pf_perc_reorders\", \"label\": \"pf_perc_reorders\"}, {\"type\": \"number\", \"id\": \"pf_orders_per_day\", \"label\": \"pf_orders_per_day\"}, {\"type\": \"number\", \"id\": \"pf_reorders_per_day\", \"label\": \"pf_reorders_per_day\"}, {\"type\": \"number\", \"id\": \"pf_avg_first_order_number\", \"label\": \"pf_avg_first_order_number\"}, {\"type\": \"number\", \"id\": \"pf_avg_first_order_day\", \"label\": \"pf_avg_first_order_day\"}, {\"type\": \"number\", \"id\": \"tf_product_tod_factor\", \"label\": \"tf_product_tod_factor\"}, {\"type\": \"number\", \"id\": \"tf_aisle_tod_factor\", \"label\": \"tf_aisle_tod_factor\"}, {\"type\": \"number\", \"id\": \"tf_department_tod_factor\", \"label\": \"tf_department_tod_factor\"}]},\n",
       "            {\n",
       "              pageSize: 25,\n",
       "              cssClassNames:  {\n",
       "                tableRow: 'gchart-table-row',\n",
       "                headerRow: 'gchart-table-headerrow',\n",
       "                oddTableRow: 'gchart-table-oddrow',\n",
       "                selectedTableRow: 'gchart-table-selectedrow',\n",
       "                hoverTableRow: 'gchart-table-hoverrow',\n",
       "                tableCell: 'gchart-table-cell',\n",
       "                headerCell: 'gchart-table-headercell',\n",
       "                rowNumberCell: 'gchart-table-rownumcell'\n",
       "              }\n",
       "            },\n",
       "            {source_index: 0, fields: 'user_id,product_id,aisle_id,department_id,order_id,eval_set,order_hour_of_day,order_dow,is_ordered,upf_perc_all_orders,upf_perc_reorder,upf_orders_per_day,upf_reorders_per_day,upf_first_order_number,upf_first_order_day,upf_last_order_number,upf_last_order_day,upf_days_since_last_order,upf_orders_since_last_order,uf_num_orders,uf_avg_days_bw_orders,uf_num_products,uf_num_aisles,uf_num_departments,pf_perc_users,pf_perc_all_orders,pf_perc_reorders,pf_orders_per_day,pf_reorders_per_day,pf_avg_first_order_number,pf_avg_first_order_day,tf_product_tod_factor,tf_aisle_tod_factor,tf_department_tod_factor'},\n",
       "            0,\n",
       "            12628052);\n",
       "        }\n",
       "      );\n",
       "    </script>\n",
       "  "
      ],
      "text/plain": [
       "QueryResultsTable job_0_HDBhM23B--vT8jxUPe9n9fCVM"
      ]
     },
     "execution_count": 2,
     "metadata": {},
     "output_type": "execute_result"
    }
   ],
   "source": [
    "%%bq execute -q model_universe_q -t instacart.model_universe  -m overwrite"
   ]
  },
  {
   "cell_type": "code",
   "execution_count": null,
   "metadata": {
    "collapsed": false
   },
   "outputs": [],
   "source": [
    "project_id = Context.default().project_id\n",
    "bucket_path = 'gs://' + project_id\n",
    "bucket_object = bucket_path + '/model_universe_*.csv'\n",
    "table = bq.Table('instacart.model_universe')\n",
    "table.extract(destination = bucket_object)"
   ]
  },
  {
   "cell_type": "code",
   "execution_count": null,
   "metadata": {
    "collapsed": true
   },
   "outputs": [],
   "source": []
  }
 ],
 "metadata": {
  "kernelspec": {
   "display_name": "Python 2",
   "language": "python",
   "name": "python2"
  },
  "language_info": {
   "codemirror_mode": {
    "name": "ipython",
    "version": 2
   },
   "file_extension": ".py",
   "mimetype": "text/x-python",
   "name": "python",
   "nbconvert_exporter": "python",
   "pygments_lexer": "ipython2",
   "version": "2.7.9"
  }
 },
 "nbformat": 4,
 "nbformat_minor": 2
}

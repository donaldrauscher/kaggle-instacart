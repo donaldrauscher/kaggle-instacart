{
 "cells": [
  {
   "cell_type": "code",
   "execution_count": 10,
   "metadata": {
    "collapsed": true
   },
   "outputs": [],
   "source": [
    "import google.datalab.bigquery as bq"
   ]
  },
  {
   "cell_type": "markdown",
   "metadata": {},
   "source": [
    "## User-Product Features\n",
    "\n",
    "Some features for how often a specific user purchases each product"
   ]
  },
  {
   "cell_type": "code",
   "execution_count": 14,
   "metadata": {
    "collapsed": true
   },
   "outputs": [],
   "source": [
    "%%bq query -n user_products_query\n",
    "SELECT orders.user_id, op.product_id, products.aisle_id, products.department_id,\n",
    "  COUNT(*) / ANY_VALUE(orders.num_orders) AS `perc_all_orders`,\n",
    "  SUM(op.reordered) / NULLIF(ANY_VALUE(orders.num_orders) - MIN(orders.order_number),0) AS `perc_reorder`,\n",
    "  COUNT(*) / NULLIF(ANY_VALUE(orders.days_bw_first_last_order),0) * 30 AS `orders_per_month`,\n",
    "  SUM(op.reordered) / NULLIF(ANY_VALUE(orders.days_bw_first_last_order) - MIN(days_since_first_order),0) * 30 AS `reorders_per_month`,\n",
    "  MIN(orders.order_number) AS `first_order_number`,\n",
    "  CASE WHEN MIN(orders.order_number) = 1 THEN 0 ELSE MIN(days_since_first_order) END AS `first_order_days`\n",
    "FROM instacart.order_products__prior AS op\n",
    "INNER JOIN (\n",
    "  SELECT *, \n",
    "  SUM(days_since_prior_order) OVER (PARTITION BY user_id ORDER BY order_number ASC ROWS BETWEEN UNBOUNDED PRECEDING AND CURRENT ROW) AS `days_since_first_order`,\n",
    "  SUM(days_since_prior_order) OVER (PARTITION BY user_id) AS `days_bw_first_last_order`,\n",
    "  COUNT(*) OVER (PARTITION BY user_id) AS `num_orders`\n",
    "  FROM instacart.orders WHERE eval_set = \"prior\"\n",
    ") AS orders ON orders.order_id = op.order_id\n",
    "INNER JOIN instacart.products AS products ON op.product_id = products.product_id\n",
    "GROUP BY 1,2,3,4"
   ]
  },
  {
   "cell_type": "code",
   "execution_count": 15,
   "metadata": {
    "collapsed": false
   },
   "outputs": [
    {
     "data": {
      "text/html": [
       "\n",
       "    <div class=\"bqtv\" id=\"2_149914384733\"><table><tr><th>user_id</th><th>product_id</th><th>aisle_id</th><th>department_id</th><th>perc_all_orders</th><th>perc_reorder</th><th>orders_per_month</th><th>reorders_per_month</th><th>first_order_number</th><th>first_order_days</th></tr><tr><td>69182</td><td>31990</td><td>102</td><td>18</td><td>0.010101010101</td><td>0.0</td><td>0.0849858356941</td><td>0.0</td><td>51</td><td>216.0</td></tr><tr><td>4558</td><td>24369</td><td>125</td><td>19</td><td>0.030303030303</td><td>0.153846153846</td><td>0.348837209302</td><td>1.93548387097</td><td>86</td><td>227.0</td></tr><tr><td>150487</td><td>13838</td><td>74</td><td>17</td><td>0.0222222222222</td><td>0.0</td><td>0.0874635568513</td><td>0.0</td><td>34</td><td>229.0</td></tr><tr><td>3103</td><td>24753</td><td>13</td><td>20</td><td>0.0526315789474</td><td>0.333333333333</td><td>0.178041543027</td><td>1.07142857143</td><td>35</td><td>309.0</td></tr><tr><td>138791</td><td>17149</td><td>34</td><td>1</td><td>0.0707070707071</td><td>0.139534883721</td><td>0.697674418605</td><td>1.53846153846</td><td>56</td><td>184.0</td></tr><tr><td>201456</td><td>9550</td><td>57</td><td>14</td><td>0.0281690140845</td><td>0.0625</td><td>0.165289256198</td><td>0.535714285714</td><td>55</td><td>307.0</td></tr><tr><td>178209</td><td>23446</td><td>56</td><td>18</td><td>0.030303030303</td><td>0.0571428571429</td><td>0.252100840336</td><td>0.504201680672</td><td>64</td><td>238.0</td></tr><tr><td>140154</td><td>40285</td><td>125</td><td>19</td><td>0.0816326530612</td><td>0.157894736842</td><td>0.37037037037</td><td>0.927835051546</td><td>30</td><td>227.0</td></tr><tr><td>22836</td><td>10984</td><td>11</td><td>11</td><td>0.0169491525424</td><td>0.0</td><td>0.0842696629213</td><td>0.0</td><td>49</td><td>281.0</td></tr><tr><td>189058</td><td>28522</td><td>6</td><td>2</td><td>0.027027027027</td><td>&nbsp;</td><td>0.0847457627119</td><td>&nbsp;</td><td>37</td><td>354.0</td></tr><tr><td>157761</td><td>47260</td><td>76</td><td>6</td><td>0.0196078431373</td><td>0.0</td><td>0.0840336134454</td><td>0.0</td><td>40</td><td>274.0</td></tr><tr><td>14133</td><td>37630</td><td>95</td><td>15</td><td>0.047619047619</td><td>0.1</td><td>0.169491525424</td><td>0.337078651685</td><td>32</td><td>265.0</td></tr><tr><td>66465</td><td>48248</td><td>11</td><td>11</td><td>0.0126582278481</td><td>0.0</td><td>0.08356545961</td><td>0.0</td><td>78</td><td>357.0</td></tr><tr><td>161799</td><td>37630</td><td>95</td><td>15</td><td>0.025641025641</td><td>0.0</td><td>0.0882352941176</td><td>0.0</td><td>36</td><td>304.0</td></tr><tr><td>76784</td><td>21246</td><td>30</td><td>6</td><td>0.010101010101</td><td>0.0</td><td>0.186335403727</td><td>0.0</td><td>61</td><td>90.0</td></tr><tr><td>12469</td><td>31268</td><td>85</td><td>17</td><td>0.0175438596491</td><td>0.0</td><td>0.0852272727273</td><td>0.0</td><td>45</td><td>301.0</td></tr><tr><td>122829</td><td>2309</td><td>47</td><td>11</td><td>0.0461538461538</td><td>0.0571428571429</td><td>0.252808988764</td><td>0.301507537688</td><td>30</td><td>157.0</td></tr><tr><td>151045</td><td>35894</td><td>127</td><td>11</td><td>0.010101010101</td><td>0.0</td><td>0.119047619048</td><td>0.0</td><td>50</td><td>115.0</td></tr><tr><td>178407</td><td>4031</td><td>29</td><td>13</td><td>0.0192307692308</td><td>0.0</td><td>0.0840336134454</td><td>0.0</td><td>51</td><td>345.0</td></tr><tr><td>8290</td><td>34530</td><td>7</td><td>12</td><td>0.0232558139535</td><td>0.0</td><td>0.0925925925926</td><td>0.0</td><td>35</td><td>282.0</td></tr><tr><td>70917</td><td>2322</td><td>42</td><td>1</td><td>0.0108695652174</td><td>0.0</td><td>0.0845070422535</td><td>0.0</td><td>61</td><td>214.0</td></tr><tr><td>195780</td><td>8295</td><td>133</td><td>11</td><td>0.0222222222222</td><td>0.0</td><td>0.0840336134454</td><td>0.0</td><td>42</td><td>329.0</td></tr><tr><td>105583</td><td>37710</td><td>125</td><td>19</td><td>0.0555555555556</td><td>0.142857142857</td><td>0.253521126761</td><td>0.681818181818</td><td>40</td><td>267.0</td></tr><tr><td>88833</td><td>17878</td><td>49</td><td>12</td><td>0.030303030303</td><td>&nbsp;</td><td>0.10752688172</td><td>&nbsp;</td><td>33</td><td>279.0</td></tr><tr><td>90648</td><td>31121</td><td>11</td><td>11</td><td>0.0128205128205</td><td>0.0</td><td>0.0826446280992</td><td>0.0</td><td>59</td><td>279.0</td></tr></table></div>\n",
       "    <br />(rows: 13307953, time: 54.0s,   911MB processed, job: job_CvaJR9H9smJibAXLXD3VBYgwmCc)<br />\n",
       "    <script>\n",
       "\n",
       "      require.config({\n",
       "        paths: {\n",
       "          d3: '//cdnjs.cloudflare.com/ajax/libs/d3/3.4.13/d3',\n",
       "          plotly: 'https://cdn.plot.ly/plotly-1.5.1.min.js?noext',\n",
       "          jquery: '//ajax.googleapis.com/ajax/libs/jquery/2.0.0/jquery.min'\n",
       "        },\n",
       "        map: {\n",
       "          '*': {\n",
       "            datalab: 'nbextensions/gcpdatalab'\n",
       "          }\n",
       "        },\n",
       "        shim: {\n",
       "          plotly: {\n",
       "            deps: ['d3', 'jquery'],\n",
       "            exports: 'plotly'\n",
       "          }\n",
       "        }\n",
       "      });\n",
       "\n",
       "      require(['datalab/charting', 'datalab/element!2_149914384733', 'base/js/events',\n",
       "          'datalab/style!/nbextensions/gcpdatalab/charting.css'],\n",
       "        function(charts, dom, events) {\n",
       "          charts.render('gcharts', dom, events, 'paged_table', [], {\"rows\": [{\"c\": [{\"v\": 69182}, {\"v\": 31990}, {\"v\": 102}, {\"v\": 18}, {\"v\": 0.010101010101010102}, {\"v\": 0.0}, {\"v\": 0.08498583569405099}, {\"v\": 0.0}, {\"v\": 51}, {\"v\": 216.0}]}, {\"c\": [{\"v\": 4558}, {\"v\": 24369}, {\"v\": 125}, {\"v\": 19}, {\"v\": 0.030303030303030304}, {\"v\": 0.15384615384615385}, {\"v\": 0.3488372093023256}, {\"v\": 1.935483870967742}, {\"v\": 86}, {\"v\": 227.0}]}, {\"c\": [{\"v\": 150487}, {\"v\": 13838}, {\"v\": 74}, {\"v\": 17}, {\"v\": 0.022222222222222223}, {\"v\": 0.0}, {\"v\": 0.08746355685131195}, {\"v\": 0.0}, {\"v\": 34}, {\"v\": 229.0}]}, {\"c\": [{\"v\": 3103}, {\"v\": 24753}, {\"v\": 13}, {\"v\": 20}, {\"v\": 0.05263157894736842}, {\"v\": 0.3333333333333333}, {\"v\": 0.17804154302670624}, {\"v\": 1.0714285714285714}, {\"v\": 35}, {\"v\": 309.0}]}, {\"c\": [{\"v\": 138791}, {\"v\": 17149}, {\"v\": 34}, {\"v\": 1}, {\"v\": 0.0707070707070707}, {\"v\": 0.13953488372093023}, {\"v\": 0.6976744186046512}, {\"v\": 1.5384615384615383}, {\"v\": 56}, {\"v\": 184.0}]}, {\"c\": [{\"v\": 201456}, {\"v\": 9550}, {\"v\": 57}, {\"v\": 14}, {\"v\": 0.028169014084507043}, {\"v\": 0.0625}, {\"v\": 0.1652892561983471}, {\"v\": 0.5357142857142857}, {\"v\": 55}, {\"v\": 307.0}]}, {\"c\": [{\"v\": 178209}, {\"v\": 23446}, {\"v\": 56}, {\"v\": 18}, {\"v\": 0.030303030303030304}, {\"v\": 0.05714285714285714}, {\"v\": 0.25210084033613445}, {\"v\": 0.5042016806722689}, {\"v\": 64}, {\"v\": 238.0}]}, {\"c\": [{\"v\": 140154}, {\"v\": 40285}, {\"v\": 125}, {\"v\": 19}, {\"v\": 0.08163265306122448}, {\"v\": 0.15789473684210525}, {\"v\": 0.37037037037037035}, {\"v\": 0.9278350515463918}, {\"v\": 30}, {\"v\": 227.0}]}, {\"c\": [{\"v\": 22836}, {\"v\": 10984}, {\"v\": 11}, {\"v\": 11}, {\"v\": 0.01694915254237288}, {\"v\": 0.0}, {\"v\": 0.08426966292134831}, {\"v\": 0.0}, {\"v\": 49}, {\"v\": 281.0}]}, {\"c\": [{\"v\": 189058}, {\"v\": 28522}, {\"v\": 6}, {\"v\": 2}, {\"v\": 0.02702702702702703}, {\"v\": null}, {\"v\": 0.0847457627118644}, {\"v\": null}, {\"v\": 37}, {\"v\": 354.0}]}, {\"c\": [{\"v\": 157761}, {\"v\": 47260}, {\"v\": 76}, {\"v\": 6}, {\"v\": 0.0196078431372549}, {\"v\": 0.0}, {\"v\": 0.08403361344537816}, {\"v\": 0.0}, {\"v\": 40}, {\"v\": 274.0}]}, {\"c\": [{\"v\": 14133}, {\"v\": 37630}, {\"v\": 95}, {\"v\": 15}, {\"v\": 0.047619047619047616}, {\"v\": 0.1}, {\"v\": 0.1694915254237288}, {\"v\": 0.33707865168539325}, {\"v\": 32}, {\"v\": 265.0}]}, {\"c\": [{\"v\": 66465}, {\"v\": 48248}, {\"v\": 11}, {\"v\": 11}, {\"v\": 0.012658227848101266}, {\"v\": 0.0}, {\"v\": 0.08356545961002786}, {\"v\": 0.0}, {\"v\": 78}, {\"v\": 357.0}]}, {\"c\": [{\"v\": 161799}, {\"v\": 37630}, {\"v\": 95}, {\"v\": 15}, {\"v\": 0.02564102564102564}, {\"v\": 0.0}, {\"v\": 0.08823529411764705}, {\"v\": 0.0}, {\"v\": 36}, {\"v\": 304.0}]}, {\"c\": [{\"v\": 76784}, {\"v\": 21246}, {\"v\": 30}, {\"v\": 6}, {\"v\": 0.010101010101010102}, {\"v\": 0.0}, {\"v\": 0.18633540372670807}, {\"v\": 0.0}, {\"v\": 61}, {\"v\": 90.0}]}, {\"c\": [{\"v\": 12469}, {\"v\": 31268}, {\"v\": 85}, {\"v\": 17}, {\"v\": 0.017543859649122806}, {\"v\": 0.0}, {\"v\": 0.08522727272727273}, {\"v\": 0.0}, {\"v\": 45}, {\"v\": 301.0}]}, {\"c\": [{\"v\": 122829}, {\"v\": 2309}, {\"v\": 47}, {\"v\": 11}, {\"v\": 0.046153846153846156}, {\"v\": 0.05714285714285714}, {\"v\": 0.25280898876404495}, {\"v\": 0.30150753768844224}, {\"v\": 30}, {\"v\": 157.0}]}, {\"c\": [{\"v\": 151045}, {\"v\": 35894}, {\"v\": 127}, {\"v\": 11}, {\"v\": 0.010101010101010102}, {\"v\": 0.0}, {\"v\": 0.11904761904761904}, {\"v\": 0.0}, {\"v\": 50}, {\"v\": 115.0}]}, {\"c\": [{\"v\": 178407}, {\"v\": 4031}, {\"v\": 29}, {\"v\": 13}, {\"v\": 0.019230769230769232}, {\"v\": 0.0}, {\"v\": 0.08403361344537816}, {\"v\": 0.0}, {\"v\": 51}, {\"v\": 345.0}]}, {\"c\": [{\"v\": 8290}, {\"v\": 34530}, {\"v\": 7}, {\"v\": 12}, {\"v\": 0.023255813953488372}, {\"v\": 0.0}, {\"v\": 0.09259259259259259}, {\"v\": 0.0}, {\"v\": 35}, {\"v\": 282.0}]}, {\"c\": [{\"v\": 70917}, {\"v\": 2322}, {\"v\": 42}, {\"v\": 1}, {\"v\": 0.010869565217391304}, {\"v\": 0.0}, {\"v\": 0.08450704225352113}, {\"v\": 0.0}, {\"v\": 61}, {\"v\": 214.0}]}, {\"c\": [{\"v\": 195780}, {\"v\": 8295}, {\"v\": 133}, {\"v\": 11}, {\"v\": 0.022222222222222223}, {\"v\": 0.0}, {\"v\": 0.08403361344537816}, {\"v\": 0.0}, {\"v\": 42}, {\"v\": 329.0}]}, {\"c\": [{\"v\": 105583}, {\"v\": 37710}, {\"v\": 125}, {\"v\": 19}, {\"v\": 0.05555555555555555}, {\"v\": 0.14285714285714285}, {\"v\": 0.2535211267605634}, {\"v\": 0.6818181818181819}, {\"v\": 40}, {\"v\": 267.0}]}, {\"c\": [{\"v\": 88833}, {\"v\": 17878}, {\"v\": 49}, {\"v\": 12}, {\"v\": 0.030303030303030304}, {\"v\": null}, {\"v\": 0.10752688172043011}, {\"v\": null}, {\"v\": 33}, {\"v\": 279.0}]}, {\"c\": [{\"v\": 90648}, {\"v\": 31121}, {\"v\": 11}, {\"v\": 11}, {\"v\": 0.01282051282051282}, {\"v\": 0.0}, {\"v\": 0.08264462809917356}, {\"v\": 0.0}, {\"v\": 59}, {\"v\": 279.0}]}], \"cols\": [{\"type\": \"number\", \"id\": \"user_id\", \"label\": \"user_id\"}, {\"type\": \"number\", \"id\": \"product_id\", \"label\": \"product_id\"}, {\"type\": \"number\", \"id\": \"aisle_id\", \"label\": \"aisle_id\"}, {\"type\": \"number\", \"id\": \"department_id\", \"label\": \"department_id\"}, {\"type\": \"number\", \"id\": \"perc_all_orders\", \"label\": \"perc_all_orders\"}, {\"type\": \"number\", \"id\": \"perc_reorder\", \"label\": \"perc_reorder\"}, {\"type\": \"number\", \"id\": \"orders_per_month\", \"label\": \"orders_per_month\"}, {\"type\": \"number\", \"id\": \"reorders_per_month\", \"label\": \"reorders_per_month\"}, {\"type\": \"number\", \"id\": \"first_order_number\", \"label\": \"first_order_number\"}, {\"type\": \"number\", \"id\": \"first_order_days\", \"label\": \"first_order_days\"}]},\n",
       "            {\n",
       "              pageSize: 25,\n",
       "              cssClassNames:  {\n",
       "                tableRow: 'gchart-table-row',\n",
       "                headerRow: 'gchart-table-headerrow',\n",
       "                oddTableRow: 'gchart-table-oddrow',\n",
       "                selectedTableRow: 'gchart-table-selectedrow',\n",
       "                hoverTableRow: 'gchart-table-hoverrow',\n",
       "                tableCell: 'gchart-table-cell',\n",
       "                headerCell: 'gchart-table-headercell',\n",
       "                rowNumberCell: 'gchart-table-rownumcell'\n",
       "              }\n",
       "            },\n",
       "            {source_index: 0, fields: 'user_id,product_id,aisle_id,department_id,perc_all_orders,perc_reorder,orders_per_month,reorders_per_month,first_order_number,first_order_days'},\n",
       "            0,\n",
       "            13307953);\n",
       "        }\n",
       "      );\n",
       "    </script>\n",
       "  "
      ],
      "text/plain": [
       "QueryResultsTable job_CvaJR9H9smJibAXLXD3VBYgwmCc"
      ]
     },
     "execution_count": 15,
     "metadata": {},
     "output_type": "execute_result"
    }
   ],
   "source": [
    "%%bq execute -q user_products_query -t instacart.user_products  -m overwrite"
   ]
  },
  {
   "cell_type": "markdown",
   "metadata": {},
   "source": [
    "## Time-of-Day Features\n",
    "\n",
    "For each product/aisle/department, compute how much more likely to purchase at that time of day"
   ]
  },
  {
   "cell_type": "code",
   "execution_count": 24,
   "metadata": {
    "collapsed": true
   },
   "outputs": [],
   "source": [
    "%%bq query -n products_tod_query\n",
    "WITH temp AS (\n",
    "  SELECT orders.order_hour_of_day, orders.order_dow, op.product_id, products.aisle_id, products.department_id, COUNT(*) AS `n_product`\n",
    "  FROM instacart.order_products__prior AS op\n",
    "  INNER JOIN instacart.orders AS orders ON orders.order_id = op.order_id\n",
    "  INNER JOIN instacart.products AS products ON op.product_id = products.product_id\n",
    "  GROUP BY 1,2,3,4,5\n",
    ")\n",
    "SELECT order_hour_of_day, order_dow, product_id, aisle_id, department_id,\n",
    "  n_product / n_product_total / (n_hod_dow / n_total) AS `product_tod_factor`,\n",
    "  n_aisle / n_aisle_total / (n_hod_dow / n_total) AS `aisle_tod_factor`,\n",
    "  n_department / n_department_total / (n_hod_dow / n_total) AS `department_tod_factor`\n",
    "FROM (\n",
    "  SELECT order_hour_of_day, order_dow, product_id, aisle_id, department_id, n_product,\n",
    "  SUM(n_product) OVER (PARTITION BY product_id) AS `n_product_total`,\n",
    "  SUM(n_product) OVER (PARTITION BY order_hour_of_day, order_dow, aisle_id) AS `n_aisle`,\n",
    "  SUM(n_product) OVER (PARTITION BY aisle_id) AS `n_aisle_total`,\n",
    "  SUM(n_product) OVER (PARTITION BY order_hour_of_day, order_dow, department_id) AS `n_department`,\n",
    "  SUM(n_product) OVER (PARTITION BY department_id) AS `n_department_total`,\n",
    "  SUM(n_product) OVER (PARTITION BY order_hour_of_day, order_dow) AS `n_hod_dow`,\n",
    "  SUM(n_product) OVER () AS `n_total`\n",
    "  FROM temp  \n",
    ") AS x"
   ]
  },
  {
   "cell_type": "code",
   "execution_count": 25,
   "metadata": {
    "collapsed": false
   },
   "outputs": [
    {
     "data": {
      "text/html": [
       "\n",
       "    <div class=\"bqtv\" id=\"4_149914683099\"><table><tr><th>order_hour_of_day</th><th>order_dow</th><th>product_id</th><th>aisle_id</th><th>department_id</th><th>product_tod_factor</th><th>aisle_tod_factor</th><th>department_tod_factor</th></tr><tr><td>4</td><td>4</td><td>20119</td><td>115</td><td>7</td><td>1.88359293565</td><td>1.02994327385</td><td>1.15291585491</td></tr><tr><td>4</td><td>4</td><td>1896</td><td>98</td><td>7</td><td>1.92403852171</td><td>1.37492644464</td><td>1.15291585491</td></tr><tr><td>4</td><td>4</td><td>5883</td><td>98</td><td>7</td><td>3.65304779756</td><td>1.37492644464</td><td>1.15291585491</td></tr><tr><td>4</td><td>4</td><td>27554</td><td>93</td><td>3</td><td>1.4098807705</td><td>1.10227297612</td><td>0.94354629231</td></tr><tr><td>4</td><td>4</td><td>5928</td><td>42</td><td>1</td><td>9.54182036736</td><td>1.13154818111</td><td>1.06000410609</td></tr><tr><td>4</td><td>4</td><td>25154</td><td>38</td><td>1</td><td>10.7950087566</td><td>1.10434079932</td><td>1.06000410609</td></tr><tr><td>4</td><td>4</td><td>24041</td><td>3</td><td>19</td><td>6.99258776175</td><td>0.76991304516</td><td>0.919954343583</td></tr><tr><td>4</td><td>4</td><td>28571</td><td>107</td><td>19</td><td>1.36391085892</td><td>0.966227021545</td><td>0.919954343583</td></tr><tr><td>4</td><td>4</td><td>15539</td><td>129</td><td>1</td><td>14.4154886165</td><td>0.963097059415</td><td>1.06000410609</td></tr><tr><td>4</td><td>4</td><td>9434</td><td>34</td><td>1</td><td>1.74945250201</td><td>1.56729407054</td><td>1.06000410609</td></tr><tr><td>4</td><td>4</td><td>40706</td><td>123</td><td>4</td><td>0.444843278179</td><td>0.904993350147</td><td>0.948444336493</td></tr><tr><td>4</td><td>4</td><td>5013</td><td>120</td><td>16</td><td>3.18276752743</td><td>0.916140057346</td><td>0.923331417011</td></tr><tr><td>4</td><td>4</td><td>26301</td><td>108</td><td>16</td><td>5.28784853316</td><td>0.988702195159</td><td>0.923331417011</td></tr><tr><td>4</td><td>4</td><td>10878</td><td>9</td><td>9</td><td>20.6389154202</td><td>1.02973905232</td><td>1.05418085413</td></tr><tr><td>4</td><td>4</td><td>13958</td><td>131</td><td>9</td><td>21.0091201811</td><td>1.28267069997</td><td>1.05418085413</td></tr><tr><td>4</td><td>4</td><td>47566</td><td>112</td><td>3</td><td>42.9819614713</td><td>0.897218331427</td><td>0.94354629231</td></tr><tr><td>4</td><td>4</td><td>5115</td><td>86</td><td>16</td><td>1.39518576545</td><td>0.839325814538</td><td>0.923331417011</td></tr><tr><td>4</td><td>4</td><td>18406</td><td>19</td><td>13</td><td>82.1935754452</td><td>1.39329873558</td><td>1.07660179665</td></tr><tr><td>4</td><td>4</td><td>27246</td><td>48</td><td>14</td><td>3.69191000818</td><td>0.912753593171</td><td>0.95078120275</td></tr><tr><td>4</td><td>4</td><td>5214</td><td>121</td><td>14</td><td>8.78993208326</td><td>1.06707586307</td><td>0.95078120275</td></tr><tr><td>4</td><td>4</td><td>46206</td><td>24</td><td>4</td><td>0.820783777221</td><td>0.957025048537</td><td>0.948444336493</td></tr><tr><td>4</td><td>4</td><td>3382</td><td>83</td><td>4</td><td>1.86729127157</td><td>0.927954475076</td><td>0.948444336493</td></tr><tr><td>6</td><td>5</td><td>1822</td><td>37</td><td>1</td><td>2.64413355469</td><td>0.877231127259</td><td>0.999457305413</td></tr><tr><td>6</td><td>5</td><td>13640</td><td>24</td><td>4</td><td>0.626179974972</td><td>1.00385497822</td><td>0.999526556421</td></tr><tr><td>6</td><td>5</td><td>48135</td><td>29</td><td>13</td><td>0.39475796732</td><td>0.795697483661</td><td>1.01765709848</td></tr></table></div>\n",
       "    <br />(rows: 2956954, time: 56.4s,   602MB processed, job: job__hoqldH-Gy9yA-spSJu8hFdTIvw)<br />\n",
       "    <script>\n",
       "\n",
       "      require.config({\n",
       "        paths: {\n",
       "          d3: '//cdnjs.cloudflare.com/ajax/libs/d3/3.4.13/d3',\n",
       "          plotly: 'https://cdn.plot.ly/plotly-1.5.1.min.js?noext',\n",
       "          jquery: '//ajax.googleapis.com/ajax/libs/jquery/2.0.0/jquery.min'\n",
       "        },\n",
       "        map: {\n",
       "          '*': {\n",
       "            datalab: 'nbextensions/gcpdatalab'\n",
       "          }\n",
       "        },\n",
       "        shim: {\n",
       "          plotly: {\n",
       "            deps: ['d3', 'jquery'],\n",
       "            exports: 'plotly'\n",
       "          }\n",
       "        }\n",
       "      });\n",
       "\n",
       "      require(['datalab/charting', 'datalab/element!4_149914683099', 'base/js/events',\n",
       "          'datalab/style!/nbextensions/gcpdatalab/charting.css'],\n",
       "        function(charts, dom, events) {\n",
       "          charts.render('gcharts', dom, events, 'paged_table', [], {\"rows\": [{\"c\": [{\"v\": 4}, {\"v\": 4}, {\"v\": 20119}, {\"v\": 115}, {\"v\": 7}, {\"v\": 1.8835929356515375}, {\"v\": 1.0299432738460388}, {\"v\": 1.152915854908304}]}, {\"c\": [{\"v\": 4}, {\"v\": 4}, {\"v\": 1896}, {\"v\": 98}, {\"v\": 7}, {\"v\": 1.924038521714809}, {\"v\": 1.3749264446365135}, {\"v\": 1.152915854908304}]}, {\"c\": [{\"v\": 4}, {\"v\": 4}, {\"v\": 5883}, {\"v\": 98}, {\"v\": 7}, {\"v\": 3.653047797563789}, {\"v\": 1.3749264446365135}, {\"v\": 1.152915854908304}]}, {\"c\": [{\"v\": 4}, {\"v\": 4}, {\"v\": 27554}, {\"v\": 93}, {\"v\": 3}, {\"v\": 1.409880770501222}, {\"v\": 1.102272976122176}, {\"v\": 0.9435462923103397}]}, {\"c\": [{\"v\": 4}, {\"v\": 4}, {\"v\": 5928}, {\"v\": 42}, {\"v\": 1}, {\"v\": 9.541820367363664}, {\"v\": 1.131548181112957}, {\"v\": 1.060004106089536}]}, {\"c\": [{\"v\": 4}, {\"v\": 4}, {\"v\": 25154}, {\"v\": 38}, {\"v\": 1}, {\"v\": 10.795008756625714}, {\"v\": 1.104340799321934}, {\"v\": 1.060004106089536}]}, {\"c\": [{\"v\": 4}, {\"v\": 4}, {\"v\": 24041}, {\"v\": 3}, {\"v\": 19}, {\"v\": 6.992587761754567}, {\"v\": 0.7699130451595075}, {\"v\": 0.9199543435829484}]}, {\"c\": [{\"v\": 4}, {\"v\": 4}, {\"v\": 28571}, {\"v\": 107}, {\"v\": 19}, {\"v\": 1.363910858915738}, {\"v\": 0.9662270215454738}, {\"v\": 0.9199543435829484}]}, {\"c\": [{\"v\": 4}, {\"v\": 4}, {\"v\": 15539}, {\"v\": 129}, {\"v\": 1}, {\"v\": 14.415488616540184}, {\"v\": 0.9630970594146551}, {\"v\": 1.060004106089536}]}, {\"c\": [{\"v\": 4}, {\"v\": 4}, {\"v\": 9434}, {\"v\": 34}, {\"v\": 1}, {\"v\": 1.7494525020073042}, {\"v\": 1.5672940705446383}, {\"v\": 1.060004106089536}]}, {\"c\": [{\"v\": 4}, {\"v\": 4}, {\"v\": 40706}, {\"v\": 123}, {\"v\": 4}, {\"v\": 0.4448432781793897}, {\"v\": 0.9049933501470084}, {\"v\": 0.9484443364931723}]}, {\"c\": [{\"v\": 4}, {\"v\": 4}, {\"v\": 5013}, {\"v\": 120}, {\"v\": 16}, {\"v\": 3.182767527429049}, {\"v\": 0.9161400573464114}, {\"v\": 0.9233314170110917}]}, {\"c\": [{\"v\": 4}, {\"v\": 4}, {\"v\": 26301}, {\"v\": 108}, {\"v\": 16}, {\"v\": 5.287848533155259}, {\"v\": 0.988702195159238}, {\"v\": 0.9233314170110917}]}, {\"c\": [{\"v\": 4}, {\"v\": 4}, {\"v\": 10878}, {\"v\": 9}, {\"v\": 9}, {\"v\": 20.638915420156653}, {\"v\": 1.029739052315508}, {\"v\": 1.0541808541312863}]}, {\"c\": [{\"v\": 4}, {\"v\": 4}, {\"v\": 13958}, {\"v\": 131}, {\"v\": 9}, {\"v\": 21.00912018105632}, {\"v\": 1.282670699968181}, {\"v\": 1.0541808541312863}]}, {\"c\": [{\"v\": 4}, {\"v\": 4}, {\"v\": 47566}, {\"v\": 112}, {\"v\": 3}, {\"v\": 42.98196147133542}, {\"v\": 0.8972183314274866}, {\"v\": 0.9435462923103397}]}, {\"c\": [{\"v\": 4}, {\"v\": 4}, {\"v\": 5115}, {\"v\": 86}, {\"v\": 16}, {\"v\": 1.3951857654483504}, {\"v\": 0.839325814538213}, {\"v\": 0.9233314170110917}]}, {\"c\": [{\"v\": 4}, {\"v\": 4}, {\"v\": 18406}, {\"v\": 19}, {\"v\": 13}, {\"v\": 82.19357544518526}, {\"v\": 1.393298735578108}, {\"v\": 1.0766017966534387}]}, {\"c\": [{\"v\": 4}, {\"v\": 4}, {\"v\": 27246}, {\"v\": 48}, {\"v\": 14}, {\"v\": 3.6919100081761704}, {\"v\": 0.9127535931708577}, {\"v\": 0.9507812027499519}]}, {\"c\": [{\"v\": 4}, {\"v\": 4}, {\"v\": 5214}, {\"v\": 121}, {\"v\": 14}, {\"v\": 8.78993208325621}, {\"v\": 1.0670758630677466}, {\"v\": 0.9507812027499519}]}, {\"c\": [{\"v\": 4}, {\"v\": 4}, {\"v\": 46206}, {\"v\": 24}, {\"v\": 4}, {\"v\": 0.8207837772206656}, {\"v\": 0.9570250485365984}, {\"v\": 0.9484443364931723}]}, {\"c\": [{\"v\": 4}, {\"v\": 4}, {\"v\": 3382}, {\"v\": 83}, {\"v\": 4}, {\"v\": 1.867291271572563}, {\"v\": 0.9279544750761491}, {\"v\": 0.9484443364931723}]}, {\"c\": [{\"v\": 6}, {\"v\": 5}, {\"v\": 1822}, {\"v\": 37}, {\"v\": 1}, {\"v\": 2.6441335546935028}, {\"v\": 0.8772311272591012}, {\"v\": 0.9994573054133336}]}, {\"c\": [{\"v\": 6}, {\"v\": 5}, {\"v\": 13640}, {\"v\": 24}, {\"v\": 4}, {\"v\": 0.6261799749720984}, {\"v\": 1.0038549782228523}, {\"v\": 0.9995265564207142}]}, {\"c\": [{\"v\": 6}, {\"v\": 5}, {\"v\": 48135}, {\"v\": 29}, {\"v\": 13}, {\"v\": 0.39475796732043844}, {\"v\": 0.7956974836614641}, {\"v\": 1.0176570984774562}]}], \"cols\": [{\"type\": \"number\", \"id\": \"order_hour_of_day\", \"label\": \"order_hour_of_day\"}, {\"type\": \"number\", \"id\": \"order_dow\", \"label\": \"order_dow\"}, {\"type\": \"number\", \"id\": \"product_id\", \"label\": \"product_id\"}, {\"type\": \"number\", \"id\": \"aisle_id\", \"label\": \"aisle_id\"}, {\"type\": \"number\", \"id\": \"department_id\", \"label\": \"department_id\"}, {\"type\": \"number\", \"id\": \"product_tod_factor\", \"label\": \"product_tod_factor\"}, {\"type\": \"number\", \"id\": \"aisle_tod_factor\", \"label\": \"aisle_tod_factor\"}, {\"type\": \"number\", \"id\": \"department_tod_factor\", \"label\": \"department_tod_factor\"}]},\n",
       "            {\n",
       "              pageSize: 25,\n",
       "              cssClassNames:  {\n",
       "                tableRow: 'gchart-table-row',\n",
       "                headerRow: 'gchart-table-headerrow',\n",
       "                oddTableRow: 'gchart-table-oddrow',\n",
       "                selectedTableRow: 'gchart-table-selectedrow',\n",
       "                hoverTableRow: 'gchart-table-hoverrow',\n",
       "                tableCell: 'gchart-table-cell',\n",
       "                headerCell: 'gchart-table-headercell',\n",
       "                rowNumberCell: 'gchart-table-rownumcell'\n",
       "              }\n",
       "            },\n",
       "            {source_index: 1, fields: 'order_hour_of_day,order_dow,product_id,aisle_id,department_id,product_tod_factor,aisle_tod_factor,department_tod_factor'},\n",
       "            0,\n",
       "            2956954);\n",
       "        }\n",
       "      );\n",
       "    </script>\n",
       "  "
      ],
      "text/plain": [
       "QueryResultsTable job__hoqldH-Gy9yA-spSJu8hFdTIvw"
      ]
     },
     "execution_count": 25,
     "metadata": {},
     "output_type": "execute_result"
    }
   ],
   "source": [
    "%%bq execute -q products_tod_query -t instacart.products_tod  -m overwrite"
   ]
  },
  {
   "cell_type": "code",
   "execution_count": null,
   "metadata": {
    "collapsed": true
   },
   "outputs": [],
   "source": []
  }
 ],
 "metadata": {
  "kernelspec": {
   "display_name": "Python 2",
   "language": "python",
   "name": "python2"
  },
  "language_info": {
   "codemirror_mode": {
    "name": "ipython",
    "version": 2
   },
   "file_extension": ".py",
   "mimetype": "text/x-python",
   "name": "python",
   "nbconvert_exporter": "python",
   "pygments_lexer": "ipython2",
   "version": "2.7.9"
  }
 },
 "nbformat": 4,
 "nbformat_minor": 2
}
